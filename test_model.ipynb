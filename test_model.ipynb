{
 "cells": [
  {
   "cell_type": "code",
   "execution_count": 1,
   "metadata": {},
   "outputs": [],
   "source": [
    "from build_model import CreateDSSAT\n",
    "import plotly.graph_objects as go"
   ]
  },
  {
   "attachments": {},
   "cell_type": "markdown",
   "metadata": {},
   "source": [
    "## Create the model\n",
    "\n",
    "Give the path and create the class CreateDSSAT()"
   ]
  },
  {
   "cell_type": "code",
   "execution_count": 2,
   "metadata": {},
   "outputs": [
    {
     "name": "stdout",
     "output_type": "stream",
     "text": [
      "\n",
      "\n"
     ]
    }
   ],
   "source": [
    "# Path of the weather and managment files\n",
    "wth_path = \"Data\\Weather\\Essai irrigation mod.xlsx\"\n",
    "man_path = \"Data\\Probes\\Sonde Robot 2.xlsx\"\n",
    "man_path1 = \"Data\\Probes\\Sonde Robot 2 mod.xlsx\"\n",
    "\n",
    "# Create DSSAT object\n",
    "dssat1 = CreateDSSAT()\n",
    "\n",
    "# Create stations\n",
    "dssat1.create_wth_station(wth_path)\n",
    "dssat1.create_management(man_path)\n",
    "\n",
    "\n",
    "# Create DSSAT object\n",
    "dssat = CreateDSSAT()\n",
    "\n",
    "# Create stations\n",
    "dssat.create_wth_station(wth_path)\n",
    "dssat.create_management(man_path1)"
   ]
  },
  {
   "attachments": {},
   "cell_type": "markdown",
   "metadata": {},
   "source": [
    "Run the model with the given data"
   ]
  },
  {
   "cell_type": "code",
   "execution_count": 4,
   "metadata": {},
   "outputs": [
    {
     "name": "stdout",
     "output_type": "stream",
     "text": [
      "C:\\Users\\MELANI~1\\AppData\\Local\\Temp\\dssatirnfbfdw created.\n",
      "Static files copied to C:\\Users\\MELANI~1\\AppData\\Local\\Temp\\dssatirnfbfdw.\n",
      "RUN    TRT FLO MAT TOPWT HARWT  RAIN  TIRR   CET  PESW  TNUP  TNLF   TSON TSOC\n",
      "           dap dap kg/ha kg/ha    mm    mm    mm    mm kg/ha kg/ha  kg/ha t/ha\n",
      "  1 PT   1  37 -99  2104  1274     3     0    69    39     0   -99      0  211\n",
      "C:\\Users\\MELANI~1\\AppData\\Local\\Temp\\dssatirnfbfdw and its content has been removed.\n",
      "C:\\Users\\MELANI~1\\AppData\\Local\\Temp\\dssatonkcfbgq created.\n",
      "Static files copied to C:\\Users\\MELANI~1\\AppData\\Local\\Temp\\dssatonkcfbgq.\n",
      "RUN    TRT FLO MAT TOPWT HARWT  RAIN  TIRR   CET  PESW  TNUP  TNLF   TSON TSOC\n",
      "           dap dap kg/ha kg/ha    mm    mm    mm    mm kg/ha kg/ha  kg/ha t/ha\n",
      "  1 PT   1  40 -99  3147  1892     3    13    89    33     0   -99      0  211\n",
      "C:\\Users\\MELANI~1\\AppData\\Local\\Temp\\dssatonkcfbgq and its content has been removed.\n"
     ]
    }
   ],
   "source": [
    "dssat1.run_DSSAT()\n",
    "dssat1.close_DSSAT()\n",
    "\n",
    "dssat.run_DSSAT()\n",
    "dssat.close_DSSAT()"
   ]
  },
  {
   "attachments": {},
   "cell_type": "markdown",
   "metadata": {},
   "source": [
    "Analyse de output, to acces the information of the variables use the dictionary dict_DSSAT defined as a attribute of the class"
   ]
  },
  {
   "cell_type": "code",
   "execution_count": 19,
   "metadata": {},
   "outputs": [
    {
     "name": "stdout",
     "output_type": "stream",
     "text": [
      "Index(['@YEAR', 'DOY', 'DAS', 'DAP', 'GSTD', 'LAID', 'UYAD', 'LWAD', 'SWAD',\n",
      "       'UWAD', 'RWAD', 'TWAD', 'CWAD', 'DWAD', 'HIAD', 'EWAD', 'E#AD', 'WSPD',\n",
      "       'WSGD', 'NSTD', 'LN%D', 'SH%D', 'SLAD', 'CHTD', 'CWID', 'EWSD', 'RDPD',\n",
      "       'RL1D', 'RL2D', 'RL3D', 'RL4D', 'RL5D', 'SNW0C', 'SNW1C',\n",
      "       'Unnamed: 34'],\n",
      "      dtype='object')\n",
      "LAID: Leaf area index\n"
     ]
    },
    {
     "data": {
      "text/plain": [
       "{'@YEAR': 'Year',\n",
       " 'DOY': 'Day of the year',\n",
       " 'DAS': 'Days after start of simulation',\n",
       " 'DAP': 'Anthesis day',\n",
       " 'GSTD': 'Growth stage',\n",
       " 'LAID': 'Leaf area index',\n",
       " 'UYAD': 'Tuber fresh weight (Mg [fm]/ha)',\n",
       " 'LWAD': 'Leaf weight (kg [dm]/ha)',\n",
       " 'SWAD': 'Stem weight (kg [dm]/ha)',\n",
       " 'UWAD': 'Tuber dry weight (kg [dm]/ha)',\n",
       " 'RWAD': 'Root weight (kg [dm]/ha)',\n",
       " 'TWAD': 'Tops+roots+storage wt (kg [dm]/ha)',\n",
       " 'CWAD': 'Tops weight (kg [dm]/ha)',\n",
       " 'DWAD': 'Dead material weight (kg [dm]/ha)',\n",
       " 'HIAD': 'Harvest index (grain/top)',\n",
       " 'EWAD': 'Ear (grain+chaff) or eye weight (kg [dm]/ha)',\n",
       " 'E#AD': 'Ear number (no/m2)',\n",
       " 'WSPD': 'Water stress - photosynthesis (0-1)',\n",
       " 'WSGD': 'Water stress - expansion/partioning/development (0-1)',\n",
       " 'NSTD': 'Nitrogen stress factor (0-1)',\n",
       " 'LN%D': 'Leaf nitrogen concentration (%)',\n",
       " 'SH%D': 'Shelling % (seed wt/pod wt*100)',\n",
       " 'SLAD': 'Specific leaf area (cm2/g)',\n",
       " 'CHTD': 'Canopy height (m)',\n",
       " 'CWID': 'Canopy width (m;for 1 row)',\n",
       " 'EWSD': 'Excess Water Stress - (0-1)',\n",
       " 'RDPD': 'Root depth (m)',\n",
       " 'RL1D': 'RLD layer 1',\n",
       " 'RL2D': 'RLD layer 2',\n",
       " 'RL3D': 'RLD layer 3',\n",
       " 'RL4D': 'RLD layer 4',\n",
       " 'RL5D': 'RLD layer 5',\n",
       " 'SNW0C': 'Cumulative senesced dry matter to surface (kg/ha)',\n",
       " 'SNW1C': 'Cumulative senesced dry matter to soil (kg/ha)'}"
      ]
     },
     "execution_count": 19,
     "metadata": {},
     "output_type": "execute_result"
    }
   ],
   "source": [
    "# print(dssat.output)\n",
    "print(dssat.output.columns)\n",
    "print('LAID:', dssat.dict_DSSAT['LAID'])\n",
    "dssat.dict_DSSAT\n",
    "# dssat.output['LAID'].plot()"
   ]
  },
  {
   "cell_type": "code",
   "execution_count": 5,
   "metadata": {},
   "outputs": [
    {
     "data": {
      "application/vnd.plotly.v1+json": {
       "config": {
        "plotlyServerURL": "https://plot.ly"
       },
       "data": [
        {
         "name": "LAID all data ",
         "type": "scatter",
         "y": [
          0,
          0,
          0,
          0,
          0,
          0.06,
          0.09,
          0.14,
          0.2,
          0.31,
          0.49,
          0.59,
          0.63,
          0.67,
          0.73,
          0.79,
          0.85,
          0.92,
          1,
          1.08,
          1.16,
          1.24,
          1.32,
          1.39,
          1.48,
          1.56,
          1.64,
          1.72,
          1.79,
          1.85,
          1.91,
          1.97,
          2.04,
          2.1,
          2.17,
          2.25,
          2.33,
          2.33,
          2.35,
          2.36,
          2.36,
          2.34,
          2.28,
          2.2,
          2.12,
          2.04,
          1.96,
          1.88,
          1.82,
          1.75,
          1.67,
          1.6,
          1.54,
          1.47,
          1.4,
          1.34,
          1.29,
          1.23,
          1.18,
          1.12,
          1.08,
          1.03,
          0.98,
          0.94,
          0.89,
          0.85,
          0.81,
          0.77,
          0.74,
          0.7,
          0.67,
          0.64,
          0.61,
          0.58,
          0.55,
          0.53,
          0.5,
          0.48,
          0.46,
          0.44,
          0.42,
          0.4,
          0.38,
          0.36,
          0.34,
          0.33,
          0.31,
          0.3,
          0.28,
          0.27,
          0.26,
          0.25,
          0.24,
          0.23,
          0.22,
          0.21,
          0.2,
          0.19,
          0.18,
          0.17,
          0.16,
          0.16,
          0.15,
          0.14,
          0.14,
          0.13,
          0.13,
          0.12
         ]
        },
        {
         "name": "LAID month",
         "type": "scatter",
         "y": [
          0,
          0,
          0,
          0,
          0,
          0.06,
          0.09,
          0.14,
          0.2,
          0.31,
          0.49,
          0.59,
          0.63,
          0.67,
          0.73,
          0.79,
          0.85,
          0.92,
          1,
          1.08,
          1.16,
          1.24,
          1.32,
          1.39,
          1.48,
          1.56,
          1.64,
          1.72,
          1.79,
          1.89,
          1.98,
          2.11,
          2.24,
          2.36,
          2.49,
          2.63,
          2.77,
          2.9,
          3.06,
          3.21,
          3.28,
          3.32,
          3.32,
          3.31,
          3.29,
          3.25,
          3.21,
          3.15,
          3.06,
          2.97,
          2.9,
          2.8,
          2.71,
          2.62,
          2.52,
          2.43,
          2.35,
          2.26,
          2.18,
          2.09,
          2.01,
          1.93,
          1.85,
          1.78,
          1.7,
          1.63,
          1.57,
          1.5,
          1.43,
          1.37,
          1.31,
          1.25,
          1.2,
          1.14,
          1.09,
          1.04,
          1,
          0.95,
          0.91,
          0.87,
          0.83,
          0.79,
          0.76,
          0.72,
          0.69,
          0.66,
          0.63,
          0.6,
          0.57,
          0.54,
          0.52,
          0.5,
          0.47,
          0.45,
          0.43,
          0.41,
          0.39,
          0.38,
          0.36,
          0.34,
          0.33,
          0.31,
          0.3,
          0.29,
          0.28,
          0.26,
          0.25,
          0.24
         ]
        }
       ],
       "layout": {
        "template": {
         "data": {
          "bar": [
           {
            "error_x": {
             "color": "#2a3f5f"
            },
            "error_y": {
             "color": "#2a3f5f"
            },
            "marker": {
             "line": {
              "color": "#E5ECF6",
              "width": 0.5
             },
             "pattern": {
              "fillmode": "overlay",
              "size": 10,
              "solidity": 0.2
             }
            },
            "type": "bar"
           }
          ],
          "barpolar": [
           {
            "marker": {
             "line": {
              "color": "#E5ECF6",
              "width": 0.5
             },
             "pattern": {
              "fillmode": "overlay",
              "size": 10,
              "solidity": 0.2
             }
            },
            "type": "barpolar"
           }
          ],
          "carpet": [
           {
            "aaxis": {
             "endlinecolor": "#2a3f5f",
             "gridcolor": "white",
             "linecolor": "white",
             "minorgridcolor": "white",
             "startlinecolor": "#2a3f5f"
            },
            "baxis": {
             "endlinecolor": "#2a3f5f",
             "gridcolor": "white",
             "linecolor": "white",
             "minorgridcolor": "white",
             "startlinecolor": "#2a3f5f"
            },
            "type": "carpet"
           }
          ],
          "choropleth": [
           {
            "colorbar": {
             "outlinewidth": 0,
             "ticks": ""
            },
            "type": "choropleth"
           }
          ],
          "contour": [
           {
            "colorbar": {
             "outlinewidth": 0,
             "ticks": ""
            },
            "colorscale": [
             [
              0,
              "#0d0887"
             ],
             [
              0.1111111111111111,
              "#46039f"
             ],
             [
              0.2222222222222222,
              "#7201a8"
             ],
             [
              0.3333333333333333,
              "#9c179e"
             ],
             [
              0.4444444444444444,
              "#bd3786"
             ],
             [
              0.5555555555555556,
              "#d8576b"
             ],
             [
              0.6666666666666666,
              "#ed7953"
             ],
             [
              0.7777777777777778,
              "#fb9f3a"
             ],
             [
              0.8888888888888888,
              "#fdca26"
             ],
             [
              1,
              "#f0f921"
             ]
            ],
            "type": "contour"
           }
          ],
          "contourcarpet": [
           {
            "colorbar": {
             "outlinewidth": 0,
             "ticks": ""
            },
            "type": "contourcarpet"
           }
          ],
          "heatmap": [
           {
            "colorbar": {
             "outlinewidth": 0,
             "ticks": ""
            },
            "colorscale": [
             [
              0,
              "#0d0887"
             ],
             [
              0.1111111111111111,
              "#46039f"
             ],
             [
              0.2222222222222222,
              "#7201a8"
             ],
             [
              0.3333333333333333,
              "#9c179e"
             ],
             [
              0.4444444444444444,
              "#bd3786"
             ],
             [
              0.5555555555555556,
              "#d8576b"
             ],
             [
              0.6666666666666666,
              "#ed7953"
             ],
             [
              0.7777777777777778,
              "#fb9f3a"
             ],
             [
              0.8888888888888888,
              "#fdca26"
             ],
             [
              1,
              "#f0f921"
             ]
            ],
            "type": "heatmap"
           }
          ],
          "heatmapgl": [
           {
            "colorbar": {
             "outlinewidth": 0,
             "ticks": ""
            },
            "colorscale": [
             [
              0,
              "#0d0887"
             ],
             [
              0.1111111111111111,
              "#46039f"
             ],
             [
              0.2222222222222222,
              "#7201a8"
             ],
             [
              0.3333333333333333,
              "#9c179e"
             ],
             [
              0.4444444444444444,
              "#bd3786"
             ],
             [
              0.5555555555555556,
              "#d8576b"
             ],
             [
              0.6666666666666666,
              "#ed7953"
             ],
             [
              0.7777777777777778,
              "#fb9f3a"
             ],
             [
              0.8888888888888888,
              "#fdca26"
             ],
             [
              1,
              "#f0f921"
             ]
            ],
            "type": "heatmapgl"
           }
          ],
          "histogram": [
           {
            "marker": {
             "pattern": {
              "fillmode": "overlay",
              "size": 10,
              "solidity": 0.2
             }
            },
            "type": "histogram"
           }
          ],
          "histogram2d": [
           {
            "colorbar": {
             "outlinewidth": 0,
             "ticks": ""
            },
            "colorscale": [
             [
              0,
              "#0d0887"
             ],
             [
              0.1111111111111111,
              "#46039f"
             ],
             [
              0.2222222222222222,
              "#7201a8"
             ],
             [
              0.3333333333333333,
              "#9c179e"
             ],
             [
              0.4444444444444444,
              "#bd3786"
             ],
             [
              0.5555555555555556,
              "#d8576b"
             ],
             [
              0.6666666666666666,
              "#ed7953"
             ],
             [
              0.7777777777777778,
              "#fb9f3a"
             ],
             [
              0.8888888888888888,
              "#fdca26"
             ],
             [
              1,
              "#f0f921"
             ]
            ],
            "type": "histogram2d"
           }
          ],
          "histogram2dcontour": [
           {
            "colorbar": {
             "outlinewidth": 0,
             "ticks": ""
            },
            "colorscale": [
             [
              0,
              "#0d0887"
             ],
             [
              0.1111111111111111,
              "#46039f"
             ],
             [
              0.2222222222222222,
              "#7201a8"
             ],
             [
              0.3333333333333333,
              "#9c179e"
             ],
             [
              0.4444444444444444,
              "#bd3786"
             ],
             [
              0.5555555555555556,
              "#d8576b"
             ],
             [
              0.6666666666666666,
              "#ed7953"
             ],
             [
              0.7777777777777778,
              "#fb9f3a"
             ],
             [
              0.8888888888888888,
              "#fdca26"
             ],
             [
              1,
              "#f0f921"
             ]
            ],
            "type": "histogram2dcontour"
           }
          ],
          "mesh3d": [
           {
            "colorbar": {
             "outlinewidth": 0,
             "ticks": ""
            },
            "type": "mesh3d"
           }
          ],
          "parcoords": [
           {
            "line": {
             "colorbar": {
              "outlinewidth": 0,
              "ticks": ""
             }
            },
            "type": "parcoords"
           }
          ],
          "pie": [
           {
            "automargin": true,
            "type": "pie"
           }
          ],
          "scatter": [
           {
            "fillpattern": {
             "fillmode": "overlay",
             "size": 10,
             "solidity": 0.2
            },
            "type": "scatter"
           }
          ],
          "scatter3d": [
           {
            "line": {
             "colorbar": {
              "outlinewidth": 0,
              "ticks": ""
             }
            },
            "marker": {
             "colorbar": {
              "outlinewidth": 0,
              "ticks": ""
             }
            },
            "type": "scatter3d"
           }
          ],
          "scattercarpet": [
           {
            "marker": {
             "colorbar": {
              "outlinewidth": 0,
              "ticks": ""
             }
            },
            "type": "scattercarpet"
           }
          ],
          "scattergeo": [
           {
            "marker": {
             "colorbar": {
              "outlinewidth": 0,
              "ticks": ""
             }
            },
            "type": "scattergeo"
           }
          ],
          "scattergl": [
           {
            "marker": {
             "colorbar": {
              "outlinewidth": 0,
              "ticks": ""
             }
            },
            "type": "scattergl"
           }
          ],
          "scattermapbox": [
           {
            "marker": {
             "colorbar": {
              "outlinewidth": 0,
              "ticks": ""
             }
            },
            "type": "scattermapbox"
           }
          ],
          "scatterpolar": [
           {
            "marker": {
             "colorbar": {
              "outlinewidth": 0,
              "ticks": ""
             }
            },
            "type": "scatterpolar"
           }
          ],
          "scatterpolargl": [
           {
            "marker": {
             "colorbar": {
              "outlinewidth": 0,
              "ticks": ""
             }
            },
            "type": "scatterpolargl"
           }
          ],
          "scatterternary": [
           {
            "marker": {
             "colorbar": {
              "outlinewidth": 0,
              "ticks": ""
             }
            },
            "type": "scatterternary"
           }
          ],
          "surface": [
           {
            "colorbar": {
             "outlinewidth": 0,
             "ticks": ""
            },
            "colorscale": [
             [
              0,
              "#0d0887"
             ],
             [
              0.1111111111111111,
              "#46039f"
             ],
             [
              0.2222222222222222,
              "#7201a8"
             ],
             [
              0.3333333333333333,
              "#9c179e"
             ],
             [
              0.4444444444444444,
              "#bd3786"
             ],
             [
              0.5555555555555556,
              "#d8576b"
             ],
             [
              0.6666666666666666,
              "#ed7953"
             ],
             [
              0.7777777777777778,
              "#fb9f3a"
             ],
             [
              0.8888888888888888,
              "#fdca26"
             ],
             [
              1,
              "#f0f921"
             ]
            ],
            "type": "surface"
           }
          ],
          "table": [
           {
            "cells": {
             "fill": {
              "color": "#EBF0F8"
             },
             "line": {
              "color": "white"
             }
            },
            "header": {
             "fill": {
              "color": "#C8D4E3"
             },
             "line": {
              "color": "white"
             }
            },
            "type": "table"
           }
          ]
         },
         "layout": {
          "annotationdefaults": {
           "arrowcolor": "#2a3f5f",
           "arrowhead": 0,
           "arrowwidth": 1
          },
          "autotypenumbers": "strict",
          "coloraxis": {
           "colorbar": {
            "outlinewidth": 0,
            "ticks": ""
           }
          },
          "colorscale": {
           "diverging": [
            [
             0,
             "#8e0152"
            ],
            [
             0.1,
             "#c51b7d"
            ],
            [
             0.2,
             "#de77ae"
            ],
            [
             0.3,
             "#f1b6da"
            ],
            [
             0.4,
             "#fde0ef"
            ],
            [
             0.5,
             "#f7f7f7"
            ],
            [
             0.6,
             "#e6f5d0"
            ],
            [
             0.7,
             "#b8e186"
            ],
            [
             0.8,
             "#7fbc41"
            ],
            [
             0.9,
             "#4d9221"
            ],
            [
             1,
             "#276419"
            ]
           ],
           "sequential": [
            [
             0,
             "#0d0887"
            ],
            [
             0.1111111111111111,
             "#46039f"
            ],
            [
             0.2222222222222222,
             "#7201a8"
            ],
            [
             0.3333333333333333,
             "#9c179e"
            ],
            [
             0.4444444444444444,
             "#bd3786"
            ],
            [
             0.5555555555555556,
             "#d8576b"
            ],
            [
             0.6666666666666666,
             "#ed7953"
            ],
            [
             0.7777777777777778,
             "#fb9f3a"
            ],
            [
             0.8888888888888888,
             "#fdca26"
            ],
            [
             1,
             "#f0f921"
            ]
           ],
           "sequentialminus": [
            [
             0,
             "#0d0887"
            ],
            [
             0.1111111111111111,
             "#46039f"
            ],
            [
             0.2222222222222222,
             "#7201a8"
            ],
            [
             0.3333333333333333,
             "#9c179e"
            ],
            [
             0.4444444444444444,
             "#bd3786"
            ],
            [
             0.5555555555555556,
             "#d8576b"
            ],
            [
             0.6666666666666666,
             "#ed7953"
            ],
            [
             0.7777777777777778,
             "#fb9f3a"
            ],
            [
             0.8888888888888888,
             "#fdca26"
            ],
            [
             1,
             "#f0f921"
            ]
           ]
          },
          "colorway": [
           "#636efa",
           "#EF553B",
           "#00cc96",
           "#ab63fa",
           "#FFA15A",
           "#19d3f3",
           "#FF6692",
           "#B6E880",
           "#FF97FF",
           "#FECB52"
          ],
          "font": {
           "color": "#2a3f5f"
          },
          "geo": {
           "bgcolor": "white",
           "lakecolor": "white",
           "landcolor": "#E5ECF6",
           "showlakes": true,
           "showland": true,
           "subunitcolor": "white"
          },
          "hoverlabel": {
           "align": "left"
          },
          "hovermode": "closest",
          "mapbox": {
           "style": "light"
          },
          "paper_bgcolor": "white",
          "plot_bgcolor": "#E5ECF6",
          "polar": {
           "angularaxis": {
            "gridcolor": "white",
            "linecolor": "white",
            "ticks": ""
           },
           "bgcolor": "#E5ECF6",
           "radialaxis": {
            "gridcolor": "white",
            "linecolor": "white",
            "ticks": ""
           }
          },
          "scene": {
           "xaxis": {
            "backgroundcolor": "#E5ECF6",
            "gridcolor": "white",
            "gridwidth": 2,
            "linecolor": "white",
            "showbackground": true,
            "ticks": "",
            "zerolinecolor": "white"
           },
           "yaxis": {
            "backgroundcolor": "#E5ECF6",
            "gridcolor": "white",
            "gridwidth": 2,
            "linecolor": "white",
            "showbackground": true,
            "ticks": "",
            "zerolinecolor": "white"
           },
           "zaxis": {
            "backgroundcolor": "#E5ECF6",
            "gridcolor": "white",
            "gridwidth": 2,
            "linecolor": "white",
            "showbackground": true,
            "ticks": "",
            "zerolinecolor": "white"
           }
          },
          "shapedefaults": {
           "line": {
            "color": "#2a3f5f"
           }
          },
          "ternary": {
           "aaxis": {
            "gridcolor": "white",
            "linecolor": "white",
            "ticks": ""
           },
           "baxis": {
            "gridcolor": "white",
            "linecolor": "white",
            "ticks": ""
           },
           "bgcolor": "#E5ECF6",
           "caxis": {
            "gridcolor": "white",
            "linecolor": "white",
            "ticks": ""
           }
          },
          "title": {
           "x": 0.05
          },
          "xaxis": {
           "automargin": true,
           "gridcolor": "white",
           "linecolor": "white",
           "ticks": "",
           "title": {
            "standoff": 15
           },
           "zerolinecolor": "white",
           "zerolinewidth": 2
          },
          "yaxis": {
           "automargin": true,
           "gridcolor": "white",
           "linecolor": "white",
           "ticks": "",
           "title": {
            "standoff": 15
           },
           "zerolinecolor": "white",
           "zerolinewidth": 2
          }
         }
        },
        "title": {
         "text": "Leaf area index of different simulations"
        },
        "xaxis": {
         "title": {
          "text": "Days of Simulation"
         }
        },
        "yaxis": {
         "title": {
          "text": "LAID"
         }
        }
       }
      }
     },
     "metadata": {},
     "output_type": "display_data"
    }
   ],
   "source": [
    "fig = go.Figure()\n",
    "fig.add_trace(go.Scatter(y=dssat1.output['LAID'], name='LAID all data '))\n",
    "fig.add_trace(go.Scatter(y=dssat.output['LAID'], name='LAID month'))\n",
    "fig.update_layout(title='Leaf area index of different simulations',\n",
    "                  xaxis_title='Days of Simulation',\n",
    "                  yaxis_title='LAID')\n",
    "fig.show()"
   ]
  },
  {
   "cell_type": "code",
   "execution_count": 6,
   "metadata": {},
   "outputs": [
    {
     "data": {
      "application/vnd.plotly.v1+json": {
       "config": {
        "plotlyServerURL": "https://plot.ly"
       },
       "data": [
        {
         "name": "TWAD all data ",
         "type": "scatter",
         "y": [
          0,
          0,
          0,
          0,
          0,
          0,
          0,
          0,
          0,
          0,
          0,
          0,
          0,
          0,
          0,
          0,
          0,
          0,
          0,
          0,
          0,
          0,
          0,
          0,
          0,
          0,
          0,
          0,
          0,
          0,
          0,
          0,
          0,
          0,
          0,
          0,
          0,
          0,
          0.1,
          0.3,
          0.5,
          0.8,
          1.1,
          1.4,
          1.7,
          2,
          2.3,
          2.5,
          2.6,
          2.7,
          3,
          3.1,
          3.3,
          3.5,
          3.6,
          3.8,
          3.9,
          4.1,
          4.2,
          4.3,
          4.5,
          4.6,
          4.7,
          4.8,
          4.8,
          4.9,
          5,
          5,
          5.1,
          5.2,
          5.2,
          5.3,
          5.3,
          5.4,
          5.4,
          5.5,
          5.5,
          5.6,
          5.6,
          5.7,
          5.7,
          5.7,
          5.8,
          5.8,
          5.8,
          5.9,
          5.9,
          5.9,
          6,
          6,
          6,
          6,
          6.1,
          6.1,
          6.1,
          6.1,
          6.2,
          6.2,
          6.2,
          6.2,
          6.2,
          6.3,
          6.3,
          6.3,
          6.3,
          6.3,
          6.4,
          6.4
         ]
        },
        {
         "name": "TWAD month",
         "type": "scatter",
         "y": [
          0,
          0,
          0,
          0,
          0,
          0,
          0,
          0,
          0,
          0,
          0,
          0,
          0,
          0,
          0,
          0,
          0,
          0,
          0,
          0,
          0,
          0,
          0,
          0,
          0,
          0,
          0,
          0,
          0,
          0,
          0,
          0,
          0,
          0,
          0,
          0,
          0,
          0,
          0,
          0,
          0,
          0.1,
          0.3,
          0.5,
          0.7,
          1.2,
          1.6,
          2,
          2.2,
          2.5,
          2.8,
          3.1,
          3.5,
          3.8,
          4.1,
          4.4,
          4.7,
          4.9,
          5.1,
          5.3,
          5.5,
          5.6,
          5.8,
          6,
          6.1,
          6.3,
          6.4,
          6.6,
          6.7,
          6.9,
          7,
          7.1,
          7.3,
          7.4,
          7.5,
          7.6,
          7.7,
          7.8,
          7.9,
          8,
          8.1,
          8.2,
          8.2,
          8.3,
          8.4,
          8.4,
          8.5,
          8.6,
          8.6,
          8.7,
          8.7,
          8.8,
          8.8,
          8.9,
          8.9,
          9,
          9,
          9.1,
          9.1,
          9.2,
          9.2,
          9.2,
          9.3,
          9.3,
          9.4,
          9.4,
          9.4,
          9.5
         ]
        }
       ],
       "layout": {
        "template": {
         "data": {
          "bar": [
           {
            "error_x": {
             "color": "#2a3f5f"
            },
            "error_y": {
             "color": "#2a3f5f"
            },
            "marker": {
             "line": {
              "color": "#E5ECF6",
              "width": 0.5
             },
             "pattern": {
              "fillmode": "overlay",
              "size": 10,
              "solidity": 0.2
             }
            },
            "type": "bar"
           }
          ],
          "barpolar": [
           {
            "marker": {
             "line": {
              "color": "#E5ECF6",
              "width": 0.5
             },
             "pattern": {
              "fillmode": "overlay",
              "size": 10,
              "solidity": 0.2
             }
            },
            "type": "barpolar"
           }
          ],
          "carpet": [
           {
            "aaxis": {
             "endlinecolor": "#2a3f5f",
             "gridcolor": "white",
             "linecolor": "white",
             "minorgridcolor": "white",
             "startlinecolor": "#2a3f5f"
            },
            "baxis": {
             "endlinecolor": "#2a3f5f",
             "gridcolor": "white",
             "linecolor": "white",
             "minorgridcolor": "white",
             "startlinecolor": "#2a3f5f"
            },
            "type": "carpet"
           }
          ],
          "choropleth": [
           {
            "colorbar": {
             "outlinewidth": 0,
             "ticks": ""
            },
            "type": "choropleth"
           }
          ],
          "contour": [
           {
            "colorbar": {
             "outlinewidth": 0,
             "ticks": ""
            },
            "colorscale": [
             [
              0,
              "#0d0887"
             ],
             [
              0.1111111111111111,
              "#46039f"
             ],
             [
              0.2222222222222222,
              "#7201a8"
             ],
             [
              0.3333333333333333,
              "#9c179e"
             ],
             [
              0.4444444444444444,
              "#bd3786"
             ],
             [
              0.5555555555555556,
              "#d8576b"
             ],
             [
              0.6666666666666666,
              "#ed7953"
             ],
             [
              0.7777777777777778,
              "#fb9f3a"
             ],
             [
              0.8888888888888888,
              "#fdca26"
             ],
             [
              1,
              "#f0f921"
             ]
            ],
            "type": "contour"
           }
          ],
          "contourcarpet": [
           {
            "colorbar": {
             "outlinewidth": 0,
             "ticks": ""
            },
            "type": "contourcarpet"
           }
          ],
          "heatmap": [
           {
            "colorbar": {
             "outlinewidth": 0,
             "ticks": ""
            },
            "colorscale": [
             [
              0,
              "#0d0887"
             ],
             [
              0.1111111111111111,
              "#46039f"
             ],
             [
              0.2222222222222222,
              "#7201a8"
             ],
             [
              0.3333333333333333,
              "#9c179e"
             ],
             [
              0.4444444444444444,
              "#bd3786"
             ],
             [
              0.5555555555555556,
              "#d8576b"
             ],
             [
              0.6666666666666666,
              "#ed7953"
             ],
             [
              0.7777777777777778,
              "#fb9f3a"
             ],
             [
              0.8888888888888888,
              "#fdca26"
             ],
             [
              1,
              "#f0f921"
             ]
            ],
            "type": "heatmap"
           }
          ],
          "heatmapgl": [
           {
            "colorbar": {
             "outlinewidth": 0,
             "ticks": ""
            },
            "colorscale": [
             [
              0,
              "#0d0887"
             ],
             [
              0.1111111111111111,
              "#46039f"
             ],
             [
              0.2222222222222222,
              "#7201a8"
             ],
             [
              0.3333333333333333,
              "#9c179e"
             ],
             [
              0.4444444444444444,
              "#bd3786"
             ],
             [
              0.5555555555555556,
              "#d8576b"
             ],
             [
              0.6666666666666666,
              "#ed7953"
             ],
             [
              0.7777777777777778,
              "#fb9f3a"
             ],
             [
              0.8888888888888888,
              "#fdca26"
             ],
             [
              1,
              "#f0f921"
             ]
            ],
            "type": "heatmapgl"
           }
          ],
          "histogram": [
           {
            "marker": {
             "pattern": {
              "fillmode": "overlay",
              "size": 10,
              "solidity": 0.2
             }
            },
            "type": "histogram"
           }
          ],
          "histogram2d": [
           {
            "colorbar": {
             "outlinewidth": 0,
             "ticks": ""
            },
            "colorscale": [
             [
              0,
              "#0d0887"
             ],
             [
              0.1111111111111111,
              "#46039f"
             ],
             [
              0.2222222222222222,
              "#7201a8"
             ],
             [
              0.3333333333333333,
              "#9c179e"
             ],
             [
              0.4444444444444444,
              "#bd3786"
             ],
             [
              0.5555555555555556,
              "#d8576b"
             ],
             [
              0.6666666666666666,
              "#ed7953"
             ],
             [
              0.7777777777777778,
              "#fb9f3a"
             ],
             [
              0.8888888888888888,
              "#fdca26"
             ],
             [
              1,
              "#f0f921"
             ]
            ],
            "type": "histogram2d"
           }
          ],
          "histogram2dcontour": [
           {
            "colorbar": {
             "outlinewidth": 0,
             "ticks": ""
            },
            "colorscale": [
             [
              0,
              "#0d0887"
             ],
             [
              0.1111111111111111,
              "#46039f"
             ],
             [
              0.2222222222222222,
              "#7201a8"
             ],
             [
              0.3333333333333333,
              "#9c179e"
             ],
             [
              0.4444444444444444,
              "#bd3786"
             ],
             [
              0.5555555555555556,
              "#d8576b"
             ],
             [
              0.6666666666666666,
              "#ed7953"
             ],
             [
              0.7777777777777778,
              "#fb9f3a"
             ],
             [
              0.8888888888888888,
              "#fdca26"
             ],
             [
              1,
              "#f0f921"
             ]
            ],
            "type": "histogram2dcontour"
           }
          ],
          "mesh3d": [
           {
            "colorbar": {
             "outlinewidth": 0,
             "ticks": ""
            },
            "type": "mesh3d"
           }
          ],
          "parcoords": [
           {
            "line": {
             "colorbar": {
              "outlinewidth": 0,
              "ticks": ""
             }
            },
            "type": "parcoords"
           }
          ],
          "pie": [
           {
            "automargin": true,
            "type": "pie"
           }
          ],
          "scatter": [
           {
            "fillpattern": {
             "fillmode": "overlay",
             "size": 10,
             "solidity": 0.2
            },
            "type": "scatter"
           }
          ],
          "scatter3d": [
           {
            "line": {
             "colorbar": {
              "outlinewidth": 0,
              "ticks": ""
             }
            },
            "marker": {
             "colorbar": {
              "outlinewidth": 0,
              "ticks": ""
             }
            },
            "type": "scatter3d"
           }
          ],
          "scattercarpet": [
           {
            "marker": {
             "colorbar": {
              "outlinewidth": 0,
              "ticks": ""
             }
            },
            "type": "scattercarpet"
           }
          ],
          "scattergeo": [
           {
            "marker": {
             "colorbar": {
              "outlinewidth": 0,
              "ticks": ""
             }
            },
            "type": "scattergeo"
           }
          ],
          "scattergl": [
           {
            "marker": {
             "colorbar": {
              "outlinewidth": 0,
              "ticks": ""
             }
            },
            "type": "scattergl"
           }
          ],
          "scattermapbox": [
           {
            "marker": {
             "colorbar": {
              "outlinewidth": 0,
              "ticks": ""
             }
            },
            "type": "scattermapbox"
           }
          ],
          "scatterpolar": [
           {
            "marker": {
             "colorbar": {
              "outlinewidth": 0,
              "ticks": ""
             }
            },
            "type": "scatterpolar"
           }
          ],
          "scatterpolargl": [
           {
            "marker": {
             "colorbar": {
              "outlinewidth": 0,
              "ticks": ""
             }
            },
            "type": "scatterpolargl"
           }
          ],
          "scatterternary": [
           {
            "marker": {
             "colorbar": {
              "outlinewidth": 0,
              "ticks": ""
             }
            },
            "type": "scatterternary"
           }
          ],
          "surface": [
           {
            "colorbar": {
             "outlinewidth": 0,
             "ticks": ""
            },
            "colorscale": [
             [
              0,
              "#0d0887"
             ],
             [
              0.1111111111111111,
              "#46039f"
             ],
             [
              0.2222222222222222,
              "#7201a8"
             ],
             [
              0.3333333333333333,
              "#9c179e"
             ],
             [
              0.4444444444444444,
              "#bd3786"
             ],
             [
              0.5555555555555556,
              "#d8576b"
             ],
             [
              0.6666666666666666,
              "#ed7953"
             ],
             [
              0.7777777777777778,
              "#fb9f3a"
             ],
             [
              0.8888888888888888,
              "#fdca26"
             ],
             [
              1,
              "#f0f921"
             ]
            ],
            "type": "surface"
           }
          ],
          "table": [
           {
            "cells": {
             "fill": {
              "color": "#EBF0F8"
             },
             "line": {
              "color": "white"
             }
            },
            "header": {
             "fill": {
              "color": "#C8D4E3"
             },
             "line": {
              "color": "white"
             }
            },
            "type": "table"
           }
          ]
         },
         "layout": {
          "annotationdefaults": {
           "arrowcolor": "#2a3f5f",
           "arrowhead": 0,
           "arrowwidth": 1
          },
          "autotypenumbers": "strict",
          "coloraxis": {
           "colorbar": {
            "outlinewidth": 0,
            "ticks": ""
           }
          },
          "colorscale": {
           "diverging": [
            [
             0,
             "#8e0152"
            ],
            [
             0.1,
             "#c51b7d"
            ],
            [
             0.2,
             "#de77ae"
            ],
            [
             0.3,
             "#f1b6da"
            ],
            [
             0.4,
             "#fde0ef"
            ],
            [
             0.5,
             "#f7f7f7"
            ],
            [
             0.6,
             "#e6f5d0"
            ],
            [
             0.7,
             "#b8e186"
            ],
            [
             0.8,
             "#7fbc41"
            ],
            [
             0.9,
             "#4d9221"
            ],
            [
             1,
             "#276419"
            ]
           ],
           "sequential": [
            [
             0,
             "#0d0887"
            ],
            [
             0.1111111111111111,
             "#46039f"
            ],
            [
             0.2222222222222222,
             "#7201a8"
            ],
            [
             0.3333333333333333,
             "#9c179e"
            ],
            [
             0.4444444444444444,
             "#bd3786"
            ],
            [
             0.5555555555555556,
             "#d8576b"
            ],
            [
             0.6666666666666666,
             "#ed7953"
            ],
            [
             0.7777777777777778,
             "#fb9f3a"
            ],
            [
             0.8888888888888888,
             "#fdca26"
            ],
            [
             1,
             "#f0f921"
            ]
           ],
           "sequentialminus": [
            [
             0,
             "#0d0887"
            ],
            [
             0.1111111111111111,
             "#46039f"
            ],
            [
             0.2222222222222222,
             "#7201a8"
            ],
            [
             0.3333333333333333,
             "#9c179e"
            ],
            [
             0.4444444444444444,
             "#bd3786"
            ],
            [
             0.5555555555555556,
             "#d8576b"
            ],
            [
             0.6666666666666666,
             "#ed7953"
            ],
            [
             0.7777777777777778,
             "#fb9f3a"
            ],
            [
             0.8888888888888888,
             "#fdca26"
            ],
            [
             1,
             "#f0f921"
            ]
           ]
          },
          "colorway": [
           "#636efa",
           "#EF553B",
           "#00cc96",
           "#ab63fa",
           "#FFA15A",
           "#19d3f3",
           "#FF6692",
           "#B6E880",
           "#FF97FF",
           "#FECB52"
          ],
          "font": {
           "color": "#2a3f5f"
          },
          "geo": {
           "bgcolor": "white",
           "lakecolor": "white",
           "landcolor": "#E5ECF6",
           "showlakes": true,
           "showland": true,
           "subunitcolor": "white"
          },
          "hoverlabel": {
           "align": "left"
          },
          "hovermode": "closest",
          "mapbox": {
           "style": "light"
          },
          "paper_bgcolor": "white",
          "plot_bgcolor": "#E5ECF6",
          "polar": {
           "angularaxis": {
            "gridcolor": "white",
            "linecolor": "white",
            "ticks": ""
           },
           "bgcolor": "#E5ECF6",
           "radialaxis": {
            "gridcolor": "white",
            "linecolor": "white",
            "ticks": ""
           }
          },
          "scene": {
           "xaxis": {
            "backgroundcolor": "#E5ECF6",
            "gridcolor": "white",
            "gridwidth": 2,
            "linecolor": "white",
            "showbackground": true,
            "ticks": "",
            "zerolinecolor": "white"
           },
           "yaxis": {
            "backgroundcolor": "#E5ECF6",
            "gridcolor": "white",
            "gridwidth": 2,
            "linecolor": "white",
            "showbackground": true,
            "ticks": "",
            "zerolinecolor": "white"
           },
           "zaxis": {
            "backgroundcolor": "#E5ECF6",
            "gridcolor": "white",
            "gridwidth": 2,
            "linecolor": "white",
            "showbackground": true,
            "ticks": "",
            "zerolinecolor": "white"
           }
          },
          "shapedefaults": {
           "line": {
            "color": "#2a3f5f"
           }
          },
          "ternary": {
           "aaxis": {
            "gridcolor": "white",
            "linecolor": "white",
            "ticks": ""
           },
           "baxis": {
            "gridcolor": "white",
            "linecolor": "white",
            "ticks": ""
           },
           "bgcolor": "#E5ECF6",
           "caxis": {
            "gridcolor": "white",
            "linecolor": "white",
            "ticks": ""
           }
          },
          "title": {
           "x": 0.05
          },
          "xaxis": {
           "automargin": true,
           "gridcolor": "white",
           "linecolor": "white",
           "ticks": "",
           "title": {
            "standoff": 15
           },
           "zerolinecolor": "white",
           "zerolinewidth": 2
          },
          "yaxis": {
           "automargin": true,
           "gridcolor": "white",
           "linecolor": "white",
           "ticks": "",
           "title": {
            "standoff": 15
           },
           "zerolinecolor": "white",
           "zerolinewidth": 2
          }
         }
        },
        "title": {
         "text": "Tuber fresh weight of different simulations"
        },
        "xaxis": {
         "title": {
          "text": "Days of Simulation"
         }
        },
        "yaxis": {
         "title": {
          "text": "UYAD (Mg [fm]/ha)"
         }
        }
       }
      }
     },
     "metadata": {},
     "output_type": "display_data"
    }
   ],
   "source": [
    "fig = go.Figure()\n",
    "fig.add_trace(go.Scatter(y=dssat1.output['UYAD'], name='UYAD all data '))\n",
    "fig.add_trace(go.Scatter(y=dssat.output['UYAD'], name='UYAD month'))\n",
    "fig.update_layout(title='Tuber fresh weight of different simulations',\n",
    "                  xaxis_title='Days of Simulation',\n",
    "                  yaxis_title='UYAD (Mg [fm]/ha)')\n",
    "fig.show()"
   ]
  },
  {
   "cell_type": "code",
   "execution_count": 7,
   "metadata": {},
   "outputs": [
    {
     "data": {
      "application/vnd.plotly.v1+json": {
       "config": {
        "plotlyServerURL": "https://plot.ly"
       },
       "data": [
        {
         "name": "TWAD all data ",
         "type": "scatter",
         "y": [
          0,
          0,
          0,
          0,
          0,
          44,
          62,
          94,
          132,
          203,
          319,
          383,
          412,
          441,
          477,
          516,
          558,
          603,
          651,
          702,
          757,
          810,
          861,
          911,
          965,
          1017,
          1071,
          1122,
          1169,
          1213,
          1249,
          1294,
          1337,
          1381,
          1426,
          1479,
          1532,
          1556,
          1597,
          1658,
          1734,
          1800,
          1831,
          1867,
          1901,
          1932,
          1956,
          1973,
          1974,
          1981,
          1996,
          2008,
          2019,
          2029,
          2035,
          2043,
          2051,
          2059,
          2066,
          2072,
          2077,
          2081,
          2086,
          2084,
          2083,
          2082,
          2081,
          2081,
          2080,
          2080,
          2079,
          2078,
          2077,
          2077,
          2076,
          2076,
          2076,
          2076,
          2076,
          2077,
          2077,
          2078,
          2078,
          2079,
          2079,
          2079,
          2080,
          2081,
          2082,
          2082,
          2083,
          2084,
          2085,
          2086,
          2087,
          2088,
          2089,
          2090,
          2092,
          2093,
          2094,
          2096,
          2097,
          2099,
          2100,
          2101,
          2103,
          2104
         ]
        },
        {
         "name": "TWAD month",
         "type": "scatter",
         "y": [
          0,
          0,
          0,
          0,
          0,
          44,
          62,
          94,
          132,
          203,
          319,
          383,
          412,
          441,
          477,
          516,
          558,
          603,
          651,
          702,
          757,
          810,
          861,
          911,
          965,
          1017,
          1071,
          1122,
          1169,
          1236,
          1296,
          1380,
          1467,
          1550,
          1631,
          1725,
          1820,
          1908,
          2008,
          2111,
          2174,
          2239,
          2298,
          2357,
          2425,
          2519,
          2613,
          2677,
          2690,
          2718,
          2758,
          2797,
          2835,
          2870,
          2895,
          2925,
          2956,
          2969,
          2981,
          2988,
          2996,
          3001,
          3007,
          3013,
          3016,
          3023,
          3028,
          3035,
          3042,
          3048,
          3052,
          3057,
          3062,
          3066,
          3071,
          3076,
          3081,
          3086,
          3092,
          3093,
          3094,
          3095,
          3096,
          3096,
          3097,
          3098,
          3099,
          3101,
          3102,
          3104,
          3106,
          3107,
          3109,
          3111,
          3113,
          3116,
          3118,
          3120,
          3122,
          3125,
          3128,
          3131,
          3133,
          3136,
          3139,
          3141,
          3144,
          3147
         ]
        }
       ],
       "layout": {
        "template": {
         "data": {
          "bar": [
           {
            "error_x": {
             "color": "#2a3f5f"
            },
            "error_y": {
             "color": "#2a3f5f"
            },
            "marker": {
             "line": {
              "color": "#E5ECF6",
              "width": 0.5
             },
             "pattern": {
              "fillmode": "overlay",
              "size": 10,
              "solidity": 0.2
             }
            },
            "type": "bar"
           }
          ],
          "barpolar": [
           {
            "marker": {
             "line": {
              "color": "#E5ECF6",
              "width": 0.5
             },
             "pattern": {
              "fillmode": "overlay",
              "size": 10,
              "solidity": 0.2
             }
            },
            "type": "barpolar"
           }
          ],
          "carpet": [
           {
            "aaxis": {
             "endlinecolor": "#2a3f5f",
             "gridcolor": "white",
             "linecolor": "white",
             "minorgridcolor": "white",
             "startlinecolor": "#2a3f5f"
            },
            "baxis": {
             "endlinecolor": "#2a3f5f",
             "gridcolor": "white",
             "linecolor": "white",
             "minorgridcolor": "white",
             "startlinecolor": "#2a3f5f"
            },
            "type": "carpet"
           }
          ],
          "choropleth": [
           {
            "colorbar": {
             "outlinewidth": 0,
             "ticks": ""
            },
            "type": "choropleth"
           }
          ],
          "contour": [
           {
            "colorbar": {
             "outlinewidth": 0,
             "ticks": ""
            },
            "colorscale": [
             [
              0,
              "#0d0887"
             ],
             [
              0.1111111111111111,
              "#46039f"
             ],
             [
              0.2222222222222222,
              "#7201a8"
             ],
             [
              0.3333333333333333,
              "#9c179e"
             ],
             [
              0.4444444444444444,
              "#bd3786"
             ],
             [
              0.5555555555555556,
              "#d8576b"
             ],
             [
              0.6666666666666666,
              "#ed7953"
             ],
             [
              0.7777777777777778,
              "#fb9f3a"
             ],
             [
              0.8888888888888888,
              "#fdca26"
             ],
             [
              1,
              "#f0f921"
             ]
            ],
            "type": "contour"
           }
          ],
          "contourcarpet": [
           {
            "colorbar": {
             "outlinewidth": 0,
             "ticks": ""
            },
            "type": "contourcarpet"
           }
          ],
          "heatmap": [
           {
            "colorbar": {
             "outlinewidth": 0,
             "ticks": ""
            },
            "colorscale": [
             [
              0,
              "#0d0887"
             ],
             [
              0.1111111111111111,
              "#46039f"
             ],
             [
              0.2222222222222222,
              "#7201a8"
             ],
             [
              0.3333333333333333,
              "#9c179e"
             ],
             [
              0.4444444444444444,
              "#bd3786"
             ],
             [
              0.5555555555555556,
              "#d8576b"
             ],
             [
              0.6666666666666666,
              "#ed7953"
             ],
             [
              0.7777777777777778,
              "#fb9f3a"
             ],
             [
              0.8888888888888888,
              "#fdca26"
             ],
             [
              1,
              "#f0f921"
             ]
            ],
            "type": "heatmap"
           }
          ],
          "heatmapgl": [
           {
            "colorbar": {
             "outlinewidth": 0,
             "ticks": ""
            },
            "colorscale": [
             [
              0,
              "#0d0887"
             ],
             [
              0.1111111111111111,
              "#46039f"
             ],
             [
              0.2222222222222222,
              "#7201a8"
             ],
             [
              0.3333333333333333,
              "#9c179e"
             ],
             [
              0.4444444444444444,
              "#bd3786"
             ],
             [
              0.5555555555555556,
              "#d8576b"
             ],
             [
              0.6666666666666666,
              "#ed7953"
             ],
             [
              0.7777777777777778,
              "#fb9f3a"
             ],
             [
              0.8888888888888888,
              "#fdca26"
             ],
             [
              1,
              "#f0f921"
             ]
            ],
            "type": "heatmapgl"
           }
          ],
          "histogram": [
           {
            "marker": {
             "pattern": {
              "fillmode": "overlay",
              "size": 10,
              "solidity": 0.2
             }
            },
            "type": "histogram"
           }
          ],
          "histogram2d": [
           {
            "colorbar": {
             "outlinewidth": 0,
             "ticks": ""
            },
            "colorscale": [
             [
              0,
              "#0d0887"
             ],
             [
              0.1111111111111111,
              "#46039f"
             ],
             [
              0.2222222222222222,
              "#7201a8"
             ],
             [
              0.3333333333333333,
              "#9c179e"
             ],
             [
              0.4444444444444444,
              "#bd3786"
             ],
             [
              0.5555555555555556,
              "#d8576b"
             ],
             [
              0.6666666666666666,
              "#ed7953"
             ],
             [
              0.7777777777777778,
              "#fb9f3a"
             ],
             [
              0.8888888888888888,
              "#fdca26"
             ],
             [
              1,
              "#f0f921"
             ]
            ],
            "type": "histogram2d"
           }
          ],
          "histogram2dcontour": [
           {
            "colorbar": {
             "outlinewidth": 0,
             "ticks": ""
            },
            "colorscale": [
             [
              0,
              "#0d0887"
             ],
             [
              0.1111111111111111,
              "#46039f"
             ],
             [
              0.2222222222222222,
              "#7201a8"
             ],
             [
              0.3333333333333333,
              "#9c179e"
             ],
             [
              0.4444444444444444,
              "#bd3786"
             ],
             [
              0.5555555555555556,
              "#d8576b"
             ],
             [
              0.6666666666666666,
              "#ed7953"
             ],
             [
              0.7777777777777778,
              "#fb9f3a"
             ],
             [
              0.8888888888888888,
              "#fdca26"
             ],
             [
              1,
              "#f0f921"
             ]
            ],
            "type": "histogram2dcontour"
           }
          ],
          "mesh3d": [
           {
            "colorbar": {
             "outlinewidth": 0,
             "ticks": ""
            },
            "type": "mesh3d"
           }
          ],
          "parcoords": [
           {
            "line": {
             "colorbar": {
              "outlinewidth": 0,
              "ticks": ""
             }
            },
            "type": "parcoords"
           }
          ],
          "pie": [
           {
            "automargin": true,
            "type": "pie"
           }
          ],
          "scatter": [
           {
            "fillpattern": {
             "fillmode": "overlay",
             "size": 10,
             "solidity": 0.2
            },
            "type": "scatter"
           }
          ],
          "scatter3d": [
           {
            "line": {
             "colorbar": {
              "outlinewidth": 0,
              "ticks": ""
             }
            },
            "marker": {
             "colorbar": {
              "outlinewidth": 0,
              "ticks": ""
             }
            },
            "type": "scatter3d"
           }
          ],
          "scattercarpet": [
           {
            "marker": {
             "colorbar": {
              "outlinewidth": 0,
              "ticks": ""
             }
            },
            "type": "scattercarpet"
           }
          ],
          "scattergeo": [
           {
            "marker": {
             "colorbar": {
              "outlinewidth": 0,
              "ticks": ""
             }
            },
            "type": "scattergeo"
           }
          ],
          "scattergl": [
           {
            "marker": {
             "colorbar": {
              "outlinewidth": 0,
              "ticks": ""
             }
            },
            "type": "scattergl"
           }
          ],
          "scattermapbox": [
           {
            "marker": {
             "colorbar": {
              "outlinewidth": 0,
              "ticks": ""
             }
            },
            "type": "scattermapbox"
           }
          ],
          "scatterpolar": [
           {
            "marker": {
             "colorbar": {
              "outlinewidth": 0,
              "ticks": ""
             }
            },
            "type": "scatterpolar"
           }
          ],
          "scatterpolargl": [
           {
            "marker": {
             "colorbar": {
              "outlinewidth": 0,
              "ticks": ""
             }
            },
            "type": "scatterpolargl"
           }
          ],
          "scatterternary": [
           {
            "marker": {
             "colorbar": {
              "outlinewidth": 0,
              "ticks": ""
             }
            },
            "type": "scatterternary"
           }
          ],
          "surface": [
           {
            "colorbar": {
             "outlinewidth": 0,
             "ticks": ""
            },
            "colorscale": [
             [
              0,
              "#0d0887"
             ],
             [
              0.1111111111111111,
              "#46039f"
             ],
             [
              0.2222222222222222,
              "#7201a8"
             ],
             [
              0.3333333333333333,
              "#9c179e"
             ],
             [
              0.4444444444444444,
              "#bd3786"
             ],
             [
              0.5555555555555556,
              "#d8576b"
             ],
             [
              0.6666666666666666,
              "#ed7953"
             ],
             [
              0.7777777777777778,
              "#fb9f3a"
             ],
             [
              0.8888888888888888,
              "#fdca26"
             ],
             [
              1,
              "#f0f921"
             ]
            ],
            "type": "surface"
           }
          ],
          "table": [
           {
            "cells": {
             "fill": {
              "color": "#EBF0F8"
             },
             "line": {
              "color": "white"
             }
            },
            "header": {
             "fill": {
              "color": "#C8D4E3"
             },
             "line": {
              "color": "white"
             }
            },
            "type": "table"
           }
          ]
         },
         "layout": {
          "annotationdefaults": {
           "arrowcolor": "#2a3f5f",
           "arrowhead": 0,
           "arrowwidth": 1
          },
          "autotypenumbers": "strict",
          "coloraxis": {
           "colorbar": {
            "outlinewidth": 0,
            "ticks": ""
           }
          },
          "colorscale": {
           "diverging": [
            [
             0,
             "#8e0152"
            ],
            [
             0.1,
             "#c51b7d"
            ],
            [
             0.2,
             "#de77ae"
            ],
            [
             0.3,
             "#f1b6da"
            ],
            [
             0.4,
             "#fde0ef"
            ],
            [
             0.5,
             "#f7f7f7"
            ],
            [
             0.6,
             "#e6f5d0"
            ],
            [
             0.7,
             "#b8e186"
            ],
            [
             0.8,
             "#7fbc41"
            ],
            [
             0.9,
             "#4d9221"
            ],
            [
             1,
             "#276419"
            ]
           ],
           "sequential": [
            [
             0,
             "#0d0887"
            ],
            [
             0.1111111111111111,
             "#46039f"
            ],
            [
             0.2222222222222222,
             "#7201a8"
            ],
            [
             0.3333333333333333,
             "#9c179e"
            ],
            [
             0.4444444444444444,
             "#bd3786"
            ],
            [
             0.5555555555555556,
             "#d8576b"
            ],
            [
             0.6666666666666666,
             "#ed7953"
            ],
            [
             0.7777777777777778,
             "#fb9f3a"
            ],
            [
             0.8888888888888888,
             "#fdca26"
            ],
            [
             1,
             "#f0f921"
            ]
           ],
           "sequentialminus": [
            [
             0,
             "#0d0887"
            ],
            [
             0.1111111111111111,
             "#46039f"
            ],
            [
             0.2222222222222222,
             "#7201a8"
            ],
            [
             0.3333333333333333,
             "#9c179e"
            ],
            [
             0.4444444444444444,
             "#bd3786"
            ],
            [
             0.5555555555555556,
             "#d8576b"
            ],
            [
             0.6666666666666666,
             "#ed7953"
            ],
            [
             0.7777777777777778,
             "#fb9f3a"
            ],
            [
             0.8888888888888888,
             "#fdca26"
            ],
            [
             1,
             "#f0f921"
            ]
           ]
          },
          "colorway": [
           "#636efa",
           "#EF553B",
           "#00cc96",
           "#ab63fa",
           "#FFA15A",
           "#19d3f3",
           "#FF6692",
           "#B6E880",
           "#FF97FF",
           "#FECB52"
          ],
          "font": {
           "color": "#2a3f5f"
          },
          "geo": {
           "bgcolor": "white",
           "lakecolor": "white",
           "landcolor": "#E5ECF6",
           "showlakes": true,
           "showland": true,
           "subunitcolor": "white"
          },
          "hoverlabel": {
           "align": "left"
          },
          "hovermode": "closest",
          "mapbox": {
           "style": "light"
          },
          "paper_bgcolor": "white",
          "plot_bgcolor": "#E5ECF6",
          "polar": {
           "angularaxis": {
            "gridcolor": "white",
            "linecolor": "white",
            "ticks": ""
           },
           "bgcolor": "#E5ECF6",
           "radialaxis": {
            "gridcolor": "white",
            "linecolor": "white",
            "ticks": ""
           }
          },
          "scene": {
           "xaxis": {
            "backgroundcolor": "#E5ECF6",
            "gridcolor": "white",
            "gridwidth": 2,
            "linecolor": "white",
            "showbackground": true,
            "ticks": "",
            "zerolinecolor": "white"
           },
           "yaxis": {
            "backgroundcolor": "#E5ECF6",
            "gridcolor": "white",
            "gridwidth": 2,
            "linecolor": "white",
            "showbackground": true,
            "ticks": "",
            "zerolinecolor": "white"
           },
           "zaxis": {
            "backgroundcolor": "#E5ECF6",
            "gridcolor": "white",
            "gridwidth": 2,
            "linecolor": "white",
            "showbackground": true,
            "ticks": "",
            "zerolinecolor": "white"
           }
          },
          "shapedefaults": {
           "line": {
            "color": "#2a3f5f"
           }
          },
          "ternary": {
           "aaxis": {
            "gridcolor": "white",
            "linecolor": "white",
            "ticks": ""
           },
           "baxis": {
            "gridcolor": "white",
            "linecolor": "white",
            "ticks": ""
           },
           "bgcolor": "#E5ECF6",
           "caxis": {
            "gridcolor": "white",
            "linecolor": "white",
            "ticks": ""
           }
          },
          "title": {
           "x": 0.05
          },
          "xaxis": {
           "automargin": true,
           "gridcolor": "white",
           "linecolor": "white",
           "ticks": "",
           "title": {
            "standoff": 15
           },
           "zerolinecolor": "white",
           "zerolinewidth": 2
          },
          "yaxis": {
           "automargin": true,
           "gridcolor": "white",
           "linecolor": "white",
           "ticks": "",
           "title": {
            "standoff": 15
           },
           "zerolinecolor": "white",
           "zerolinewidth": 2
          }
         }
        },
        "title": {
         "text": "Tops+roots+storage of different simulations"
        },
        "xaxis": {
         "title": {
          "text": "Days of Simulation"
         }
        },
        "yaxis": {
         "title": {
          "text": "TWAD (kg [dm]/ha)"
         }
        }
       }
      }
     },
     "metadata": {},
     "output_type": "display_data"
    }
   ],
   "source": [
    "fig = go.Figure()\n",
    "fig.add_trace(go.Scatter(y=dssat1.output['TWAD'], name='TWAD all data '))\n",
    "fig.add_trace(go.Scatter(y=dssat.output['TWAD'], name='TWAD month'))\n",
    "fig.update_layout(title='Tops+roots+storage of different simulations',\n",
    "                xaxis_title='Days of Simulation',\n",
    "                yaxis_title='TWAD (kg [dm]/ha)')\n",
    "fig.show()"
   ]
  },
  {
   "attachments": {},
   "cell_type": "markdown",
   "metadata": {},
   "source": [
    "## Optimize the irrigation for given dates\n",
    "\n",
    "We give dates optimize, and run the function"
   ]
  },
  {
   "cell_type": "code",
   "execution_count": 4,
   "metadata": {},
   "outputs": [
    {
     "name": "stdout",
     "output_type": "stream",
     "text": [
      "C:\\Users\\MELANI~1\\AppData\\Local\\Temp\\dssatlimqwwdl created.\n",
      "Static files copied to C:\\Users\\MELANI~1\\AppData\\Local\\Temp\\dssatlimqwwdl.\n",
      "RUN    TRT FLO MAT TOPWT HARWT  RAIN  TIRR   CET  PESW  TNUP  TNLF   TSON TSOC\n",
      "           dap dap kg/ha kg/ha    mm    mm    mm    mm kg/ha kg/ha  kg/ha t/ha\n",
      "  1 PT   1  40 -99  5093  3728     3    38   108    38     0   -99      0  211\n",
      "C:\\Users\\MELANI~1\\AppData\\Local\\Temp\\dssatlimqwwdl and its content has been removed.\n",
      "TWAD: 5093    Sum irrigation: 148.20    Cost: 18.21\n",
      "(25.0,) 18.207831198148202\n",
      "C:\\Users\\MELANI~1\\AppData\\Local\\Temp\\dssatfxdxolwj created.\n",
      "Static files copied to C:\\Users\\MELANI~1\\AppData\\Local\\Temp\\dssatfxdxolwj.\n",
      "RUN    TRT FLO MAT TOPWT HARWT  RAIN  TIRR   CET  PESW  TNUP  TNLF   TSON TSOC\n",
      "           dap dap kg/ha kg/ha    mm    mm    mm    mm kg/ha kg/ha  kg/ha t/ha\n",
      "  1 PT   1  40 -99  5652  4277     3    44   112    40     0   -99      0  211\n",
      "C:\\Users\\MELANI~1\\AppData\\Local\\Temp\\dssatfxdxolwj and its content has been removed.\n",
      "TWAD: 5652    Sum irrigation: 154.80    Cost: 18.15\n",
      "(31.6,) 18.14851916590956\n",
      "C:\\Users\\MELANI~1\\AppData\\Local\\Temp\\dssatdypteyoe created.\n",
      "Static files copied to C:\\Users\\MELANI~1\\AppData\\Local\\Temp\\dssatdypteyoe.\n",
      "RUN    TRT FLO MAT TOPWT HARWT  RAIN  TIRR   CET  PESW  TNUP  TNLF   TSON TSOC\n",
      "           dap dap kg/ha kg/ha    mm    mm    mm    mm kg/ha kg/ha  kg/ha t/ha\n",
      "  1 PT   1  40 -99  3780  2479     3    23    96    35     0   -99      0  211\n",
      "C:\\Users\\MELANI~1\\AppData\\Local\\Temp\\dssatdypteyoe and its content has been removed.\n",
      "TWAD: 3780    Sum irrigation: 133.20    Cost: 21.56\n",
      "(10.0,) 21.564015565075245\n",
      "C:\\Users\\MELANI~1\\AppData\\Local\\Temp\\dssatroesuulf created.\n",
      "Static files copied to C:\\Users\\MELANI~1\\AppData\\Local\\Temp\\dssatroesuulf.\n",
      "RUN    TRT FLO MAT TOPWT HARWT  RAIN  TIRR   CET  PESW  TNUP  TNLF   TSON TSOC\n",
      "           dap dap kg/ha kg/ha    mm    mm    mm    mm kg/ha kg/ha  kg/ha t/ha\n",
      "  1 PT   1  40 -99  4306  2939     3    29   102    36     0   -99      0  211\n",
      "C:\\Users\\MELANI~1\\AppData\\Local\\Temp\\dssatroesuulf and its content has been removed.\n",
      "TWAD: 4306    Sum irrigation: 139.20    Cost: 19.60\n",
      "(16.0,) 19.60272304256316\n",
      "C:\\Users\\MELANI~1\\AppData\\Local\\Temp\\dssatblshsrbb created.\n",
      "Static files copied to C:\\Users\\MELANI~1\\AppData\\Local\\Temp\\dssatblshsrbb.\n",
      "RUN    TRT FLO MAT TOPWT HARWT  RAIN  TIRR   CET  PESW  TNUP  TNLF   TSON TSOC\n",
      "           dap dap kg/ha kg/ha    mm    mm    mm    mm kg/ha kg/ha  kg/ha t/ha\n",
      "  1 PT   1  40 -99  5550  4175     3    43   112    39     0   -99      0  211\n",
      "C:\\Users\\MELANI~1\\AppData\\Local\\Temp\\dssatblshsrbb and its content has been removed.\n",
      "TWAD: 5550    Sum irrigation: 153.40    Cost: 18.06\n",
      "(30.200000000000003,) 18.062571817223095\n",
      "C:\\Users\\MELANI~1\\AppData\\Local\\Temp\\dssatjadbnioh created.\n",
      "Static files copied to C:\\Users\\MELANI~1\\AppData\\Local\\Temp\\dssatjadbnioh.\n",
      "RUN    TRT FLO MAT TOPWT HARWT  RAIN  TIRR   CET  PESW  TNUP  TNLF   TSON TSOC\n",
      "           dap dap kg/ha kg/ha    mm    mm    mm    mm kg/ha kg/ha  kg/ha t/ha\n",
      "  1 PT   1  40 -99  6744  5350     3    56   121    43     0   -99      0  211\n",
      "C:\\Users\\MELANI~1\\AppData\\Local\\Temp\\dssatjadbnioh and its content has been removed.\n",
      "TWAD: 6744    Sum irrigation: 166.90    Cost: 19.50\n",
      "(43.7,) 19.50115444507793\n",
      "C:\\Users\\MELANI~1\\AppData\\Local\\Temp\\dssattfzjffsd created.\n",
      "Static files copied to C:\\Users\\MELANI~1\\AppData\\Local\\Temp\\dssattfzjffsd.\n",
      "RUN    TRT FLO MAT TOPWT HARWT  RAIN  TIRR   CET  PESW  TNUP  TNLF   TSON TSOC\n",
      "           dap dap kg/ha kg/ha    mm    mm    mm    mm kg/ha kg/ha  kg/ha t/ha\n",
      "  1 PT   1  40 -99  3854  2546     3    24    97    35     0   -99      0  211\n",
      "C:\\Users\\MELANI~1\\AppData\\Local\\Temp\\dssattfzjffsd and its content has been removed.\n",
      "TWAD: 3854    Sum irrigation: 134.40    Cost: 21.26\n",
      "(11.200000000000001,) 21.259408999053193\n",
      "C:\\Users\\MELANI~1\\AppData\\Local\\Temp\\dssatrxnqiobu created.\n",
      "Static files copied to C:\\Users\\MELANI~1\\AppData\\Local\\Temp\\dssatrxnqiobu.\n",
      "RUN    TRT FLO MAT TOPWT HARWT  RAIN  TIRR   CET  PESW  TNUP  TNLF   TSON TSOC\n",
      "           dap dap kg/ha kg/ha    mm    mm    mm    mm kg/ha kg/ha  kg/ha t/ha\n",
      "  1 PT   1  40 -99  4491  3110     3    31   103    36     0   -99      0  211\n",
      "C:\\Users\\MELANI~1\\AppData\\Local\\Temp\\dssatrxnqiobu and its content has been removed.\n",
      "TWAD: 4491    Sum irrigation: 141.60    Cost: 19.17\n",
      "(18.400000000000002,) 19.167640620485276\n",
      "C:\\Users\\MELANI~1\\AppData\\Local\\Temp\\dssatrsxrtjnd created.\n",
      "Static files copied to C:\\Users\\MELANI~1\\AppData\\Local\\Temp\\dssatrsxrtjnd.\n",
      "RUN    TRT FLO MAT TOPWT HARWT  RAIN  TIRR   CET  PESW  TNUP  TNLF   TSON TSOC\n",
      "           dap dap kg/ha kg/ha    mm    mm    mm    mm kg/ha kg/ha  kg/ha t/ha\n",
      "  1 PT   1  40 -99  3705  2382     3    21    95    34     0   -99      0  211\n",
      "C:\\Users\\MELANI~1\\AppData\\Local\\Temp\\dssatrsxrtjnd and its content has been removed.\n",
      "TWAD: 3705    Sum irrigation: 131.80    Cost: 21.89\n",
      "(8.6,) 21.88827681715605\n",
      "C:\\Users\\MELANI~1\\AppData\\Local\\Temp\\dssatwobsqxfo created.\n",
      "Static files copied to C:\\Users\\MELANI~1\\AppData\\Local\\Temp\\dssatwobsqxfo.\n",
      "RUN    TRT FLO MAT TOPWT HARWT  RAIN  TIRR   CET  PESW  TNUP  TNLF   TSON TSOC\n",
      "           dap dap kg/ha kg/ha    mm    mm    mm    mm kg/ha kg/ha  kg/ha t/ha\n",
      "  1 PT   1  40 -99  3745  2438     3    22    96    35     0   -99      0  211\n",
      "C:\\Users\\MELANI~1\\AppData\\Local\\Temp\\dssatwobsqxfo and its content has been removed.\n",
      "TWAD: 3745    Sum irrigation: 132.70    Cost: 21.72\n",
      "(9.5,) 21.722810050250988\n",
      "C:\\Users\\MELANI~1\\AppData\\Local\\Temp\\dssatkmcgilff created.\n",
      "Static files copied to C:\\Users\\MELANI~1\\AppData\\Local\\Temp\\dssatkmcgilff.\n",
      "RUN    TRT FLO MAT TOPWT HARWT  RAIN  TIRR   CET  PESW  TNUP  TNLF   TSON TSOC\n",
      "           dap dap kg/ha kg/ha    mm    mm    mm    mm kg/ha kg/ha  kg/ha t/ha\n",
      "  1 PT   1  40 -99  7018  5615     3    59   124    44     0   -99      0  211\n",
      "C:\\Users\\MELANI~1\\AppData\\Local\\Temp\\dssatkmcgilff and its content has been removed.\n",
      "TWAD: 7018    Sum irrigation: 170.10    Cost: 20.20\n",
      "(46.900000000000006,) 20.19769742387327\n",
      "C:\\Users\\MELANI~1\\AppData\\Local\\Temp\\dssatleuxltxd created.\n",
      "Static files copied to C:\\Users\\MELANI~1\\AppData\\Local\\Temp\\dssatleuxltxd.\n",
      "RUN    TRT FLO MAT TOPWT HARWT  RAIN  TIRR   CET  PESW  TNUP  TNLF   TSON TSOC\n",
      "           dap dap kg/ha kg/ha    mm    mm    mm    mm kg/ha kg/ha  kg/ha t/ha\n",
      "  1 PT   1  40 -99  5550  4175     3    43   112    39     0   -99      0  211\n",
      "C:\\Users\\MELANI~1\\AppData\\Local\\Temp\\dssatleuxltxd and its content has been removed.\n",
      "TWAD: 5550    Sum irrigation: 153.70    Cost: 18.14\n",
      "(30.5,) 18.135411817223094\n",
      "C:\\Users\\MELANI~1\\AppData\\Local\\Temp\\dssatabseumzn created.\n",
      "Static files copied to C:\\Users\\MELANI~1\\AppData\\Local\\Temp\\dssatabseumzn.\n",
      "RUN    TRT FLO MAT TOPWT HARWT  RAIN  TIRR   CET  PESW  TNUP  TNLF   TSON TSOC\n",
      "           dap dap kg/ha kg/ha    mm    mm    mm    mm kg/ha kg/ha  kg/ha t/ha\n",
      "  1 PT   1  40 -99  6093  4714     3    49   116    41     0   -99      0  211\n",
      "C:\\Users\\MELANI~1\\AppData\\Local\\Temp\\dssatabseumzn and its content has been removed.\n",
      "TWAD: 6093    Sum irrigation: 159.20    Cost: 18.31\n",
      "(36.0,) 18.313818951285253\n",
      "C:\\Users\\MELANI~1\\AppData\\Local\\Temp\\dssatojvuenns created.\n",
      "Static files copied to C:\\Users\\MELANI~1\\AppData\\Local\\Temp\\dssatojvuenns.\n",
      "RUN    TRT FLO MAT TOPWT HARWT  RAIN  TIRR   CET  PESW  TNUP  TNLF   TSON TSOC\n",
      "           dap dap kg/ha kg/ha    mm    mm    mm    mm kg/ha kg/ha  kg/ha t/ha\n",
      "  1 PT   1  40 -99  5988  4610     3    48   115    41     0   -99      0  211\n",
      "C:\\Users\\MELANI~1\\AppData\\Local\\Temp\\dssatojvuenns and its content has been removed.\n",
      "TWAD: 5988    Sum irrigation: 159.00    Cost: 18.49\n",
      "(35.800000000000004,) 18.486611209076287\n",
      "C:\\Users\\MELANI~1\\AppData\\Local\\Temp\\dssatjadmepkk created.\n",
      "Static files copied to C:\\Users\\MELANI~1\\AppData\\Local\\Temp\\dssatjadmepkk.\n",
      "RUN    TRT FLO MAT TOPWT HARWT  RAIN  TIRR   CET  PESW  TNUP  TNLF   TSON TSOC\n",
      "           dap dap kg/ha kg/ha    mm    mm    mm    mm kg/ha kg/ha  kg/ha t/ha\n",
      "  1 PT   1  40 -99  4582  3206     3    32   104    36     0   -99      0  211\n",
      "C:\\Users\\MELANI~1\\AppData\\Local\\Temp\\dssatjadmepkk and its content has been removed.\n",
      "TWAD: 4582    Sum irrigation: 143.10    Cost: 19.04\n",
      "(19.900000000000002,) 19.043660807590395\n",
      "C:\\Users\\MELANI~1\\AppData\\Local\\Temp\\dssatiamkdkwa created.\n",
      "Static files copied to C:\\Users\\MELANI~1\\AppData\\Local\\Temp\\dssatiamkdkwa.\n",
      "RUN    TRT FLO MAT TOPWT HARWT  RAIN  TIRR   CET  PESW  TNUP  TNLF   TSON TSOC\n",
      "           dap dap kg/ha kg/ha    mm    mm    mm    mm kg/ha kg/ha  kg/ha t/ha\n",
      "  1 PT   1  40 -99  3550  2215     3    19    94    33     0   -99      0  211\n",
      "C:\\Users\\MELANI~1\\AppData\\Local\\Temp\\dssatiamkdkwa and its content has been removed.\n",
      "TWAD: 3550    Sum irrigation: 129.30    Cost: 22.68\n",
      "(6.1000000000000005,) 22.684044919660586\n",
      "C:\\Users\\MELANI~1\\AppData\\Local\\Temp\\dssatesiboqfh created.\n",
      "Static files copied to C:\\Users\\MELANI~1\\AppData\\Local\\Temp\\dssatesiboqfh.\n",
      "RUN    TRT FLO MAT TOPWT HARWT  RAIN  TIRR   CET  PESW  TNUP  TNLF   TSON TSOC\n",
      "           dap dap kg/ha kg/ha    mm    mm    mm    mm kg/ha kg/ha  kg/ha t/ha\n",
      "  1 PT   1  40 -99  6938  5536     3    58   123    44     0   -99      0  211\n",
      "C:\\Users\\MELANI~1\\AppData\\Local\\Temp\\dssatesiboqfh and its content has been removed.\n",
      "TWAD: 6938    Sum irrigation: 168.80    Cost: 19.85\n",
      "(45.6,) 19.84813882809184\n",
      "C:\\Users\\MELANI~1\\AppData\\Local\\Temp\\dssatxwyjbwty created.\n",
      "Static files copied to C:\\Users\\MELANI~1\\AppData\\Local\\Temp\\dssatxwyjbwty.\n",
      "RUN    TRT FLO MAT TOPWT HARWT  RAIN  TIRR   CET  PESW  TNUP  TNLF   TSON TSOC\n",
      "           dap dap kg/ha kg/ha    mm    mm    mm    mm kg/ha kg/ha  kg/ha t/ha\n",
      "  1 PT   1  40 -99  3359  2060     3    17    92    33     0   -99      0  211\n",
      "C:\\Users\\MELANI~1\\AppData\\Local\\Temp\\dssatxwyjbwty and its content has been removed.\n",
      "TWAD: 3359    Sum irrigation: 128.10    Cost: 23.91\n",
      "(4.9,) 23.9126449965451\n",
      "C:\\Users\\MELANI~1\\AppData\\Local\\Temp\\dssatguigpezx created.\n",
      "Static files copied to C:\\Users\\MELANI~1\\AppData\\Local\\Temp\\dssatguigpezx.\n",
      "RUN    TRT FLO MAT TOPWT HARWT  RAIN  TIRR   CET  PESW  TNUP  TNLF   TSON TSOC\n",
      "           dap dap kg/ha kg/ha    mm    mm    mm    mm kg/ha kg/ha  kg/ha t/ha\n",
      "  1 PT   1  40 -99  6557  5167     3    54   120    43     0   -99      0  211\n",
      "C:\\Users\\MELANI~1\\AppData\\Local\\Temp\\dssatguigpezx and its content has been removed.\n",
      "TWAD: 6557    Sum irrigation: 164.40    Cost: 18.99\n",
      "(41.2,) 18.990459679624877\n",
      "C:\\Users\\MELANI~1\\AppData\\Local\\Temp\\dssatvbygprej created.\n",
      "Static files copied to C:\\Users\\MELANI~1\\AppData\\Local\\Temp\\dssatvbygprej.\n",
      "RUN    TRT FLO MAT TOPWT HARWT  RAIN  TIRR   CET  PESW  TNUP  TNLF   TSON TSOC\n",
      "           dap dap kg/ha kg/ha    mm    mm    mm    mm kg/ha kg/ha  kg/ha t/ha\n",
      "  1 PT   1  40 -99  5384  4009     3    41   110    39     0   -99      0  211\n",
      "C:\\Users\\MELANI~1\\AppData\\Local\\Temp\\dssatvbygprej and its content has been removed.\n",
      "TWAD: 5384    Sum irrigation: 151.90    Cost: 18.15\n",
      "(28.700000000000003,) 18.15359825058725\n",
      "C:\\Users\\MELANI~1\\AppData\\Local\\Temp\\dssatqfeallaf created.\n",
      "Static files copied to C:\\Users\\MELANI~1\\AppData\\Local\\Temp\\dssatqfeallaf.\n",
      "RUN    TRT FLO MAT TOPWT HARWT  RAIN  TIRR   CET  PESW  TNUP  TNLF   TSON TSOC\n",
      "           dap dap kg/ha kg/ha    mm    mm    mm    mm kg/ha kg/ha  kg/ha t/ha\n",
      "  1 PT   1  40 -99  3635  2302     3    20    95    34     0   -99      0  211\n",
      "C:\\Users\\MELANI~1\\AppData\\Local\\Temp\\dssatqfeallaf and its content has been removed.\n",
      "TWAD: 3635    Sum irrigation: 130.60    Cost: 22.23\n",
      "(7.4,) 22.2272870403722\n",
      "C:\\Users\\MELANI~1\\AppData\\Local\\Temp\\dssatkztkmtpe created.\n",
      "Static files copied to C:\\Users\\MELANI~1\\AppData\\Local\\Temp\\dssatkztkmtpe.\n",
      "RUN    TRT FLO MAT TOPWT HARWT  RAIN  TIRR   CET  PESW  TNUP  TNLF   TSON TSOC\n",
      "           dap dap kg/ha kg/ha    mm    mm    mm    mm kg/ha kg/ha  kg/ha t/ha\n",
      "  1 PT   1  40 -99  5194  3824     3    39   109    38     0   -99      0  211\n",
      "C:\\Users\\MELANI~1\\AppData\\Local\\Temp\\dssatkztkmtpe and its content has been removed.\n",
      "TWAD: 5194    Sum irrigation: 150.10    Cost: 18.30\n",
      "(26.900000000000002,) 18.29682440462372\n",
      "C:\\Users\\MELANI~1\\AppData\\Local\\Temp\\dssatrogzthsg created.\n",
      "Static files copied to C:\\Users\\MELANI~1\\AppData\\Local\\Temp\\dssatrogzthsg.\n",
      "RUN    TRT FLO MAT TOPWT HARWT  RAIN  TIRR   CET  PESW  TNUP  TNLF   TSON TSOC\n",
      "           dap dap kg/ha kg/ha    mm    mm    mm    mm kg/ha kg/ha  kg/ha t/ha\n",
      "  1 PT   1  40 -99  5294  3922     3    40   110    39     0   -99      0  211\n",
      "C:\\Users\\MELANI~1\\AppData\\Local\\Temp\\dssatrogzthsg and its content has been removed.\n",
      "TWAD: 5294    Sum irrigation: 151.00    Cost: 18.20\n",
      "(27.8,) 18.20280406659538\n",
      "C:\\Users\\MELANI~1\\AppData\\Local\\Temp\\dssatqpdnfjqa created.\n",
      "Static files copied to C:\\Users\\MELANI~1\\AppData\\Local\\Temp\\dssatqpdnfjqa.\n",
      "RUN    TRT FLO MAT TOPWT HARWT  RAIN  TIRR   CET  PESW  TNUP  TNLF   TSON TSOC\n",
      "           dap dap kg/ha kg/ha    mm    mm    mm    mm kg/ha kg/ha  kg/ha t/ha\n",
      "  1 PT   1  40 -99  5550  4175     3    43   112    39     0   -99      0  211\n",
      "C:\\Users\\MELANI~1\\AppData\\Local\\Temp\\dssatqpdnfjqa and its content has been removed.\n",
      "TWAD: 5550    Sum irrigation: 154.00    Cost: 18.21\n",
      "(30.8,) 18.208971817223095\n",
      "C:\\Users\\MELANI~1\\AppData\\Local\\Temp\\dssatjnjejfdu created.\n",
      "Static files copied to C:\\Users\\MELANI~1\\AppData\\Local\\Temp\\dssatjnjejfdu.\n",
      "RUN    TRT FLO MAT TOPWT HARWT  RAIN  TIRR   CET  PESW  TNUP  TNLF   TSON TSOC\n",
      "           dap dap kg/ha kg/ha    mm    mm    mm    mm kg/ha kg/ha  kg/ha t/ha\n",
      "  1 PT   1  40 -99  6374  4992     3    52   118    42     0   -99      0  211\n",
      "C:\\Users\\MELANI~1\\AppData\\Local\\Temp\\dssatjnjejfdu and its content has been removed.\n",
      "TWAD: 6374    Sum irrigation: 162.30    Cost: 18.67\n",
      "(39.1,) 18.66622642124468\n",
      "C:\\Users\\MELANI~1\\AppData\\Local\\Temp\\dssatlvqrkotu created.\n",
      "Static files copied to C:\\Users\\MELANI~1\\AppData\\Local\\Temp\\dssatlvqrkotu.\n",
      "RUN    TRT FLO MAT TOPWT HARWT  RAIN  TIRR   CET  PESW  TNUP  TNLF   TSON TSOC\n",
      "           dap dap kg/ha kg/ha    mm    mm    mm    mm kg/ha kg/ha  kg/ha t/ha\n",
      "  1 PT   1  40 -99  3163  1911     3    14    89    33     0   -99      0  211\n",
      "C:\\Users\\MELANI~1\\AppData\\Local\\Temp\\dssatlvqrkotu and its content has been removed.\n",
      "TWAD: 3163    Sum irrigation: 124.80    Cost: 25.30\n",
      "(1.6,) 25.302675886046192\n",
      "C:\\Users\\MELANI~1\\AppData\\Local\\Temp\\dssatzguaknxt created.\n",
      "Static files copied to C:\\Users\\MELANI~1\\AppData\\Local\\Temp\\dssatzguaknxt.\n",
      "RUN    TRT FLO MAT TOPWT HARWT  RAIN  TIRR   CET  PESW  TNUP  TNLF   TSON TSOC\n",
      "           dap dap kg/ha kg/ha    mm    mm    mm    mm kg/ha kg/ha  kg/ha t/ha\n",
      "  1 PT   1  40 -99  3944  2627     3    25    98    35     0   -99      0  211\n",
      "C:\\Users\\MELANI~1\\AppData\\Local\\Temp\\dssatzguaknxt and its content has been removed.\n",
      "TWAD: 3944    Sum irrigation: 135.60    Cost: 20.90\n",
      "(12.4,) 20.899010516234657\n",
      "C:\\Users\\MELANI~1\\AppData\\Local\\Temp\\dssatahkbysly created.\n",
      "Static files copied to C:\\Users\\MELANI~1\\AppData\\Local\\Temp\\dssatahkbysly.\n",
      "RUN    TRT FLO MAT TOPWT HARWT  RAIN  TIRR   CET  PESW  TNUP  TNLF   TSON TSOC\n",
      "           dap dap kg/ha kg/ha    mm    mm    mm    mm kg/ha kg/ha  kg/ha t/ha\n",
      "  1 PT   1  40 -99  3147  1892     3    13    89    33     0   -99      0  211\n",
      "C:\\Users\\MELANI~1\\AppData\\Local\\Temp\\dssatahkbysly and its content has been removed.\n",
      "TWAD: 3147    Sum irrigation: 123.40    Cost: 25.42\n",
      "(0.2,) 25.42118782935245\n",
      "C:\\Users\\MELANI~1\\AppData\\Local\\Temp\\dssatcqnsdvko created.\n",
      "Static files copied to C:\\Users\\MELANI~1\\AppData\\Local\\Temp\\dssatcqnsdvko.\n",
      "RUN    TRT FLO MAT TOPWT HARWT  RAIN  TIRR   CET  PESW  TNUP  TNLF   TSON TSOC\n",
      "           dap dap kg/ha kg/ha    mm    mm    mm    mm kg/ha kg/ha  kg/ha t/ha\n",
      "  1 PT   1  40 -99  4491  3110     3    31   103    36     0   -99      0  211\n",
      "C:\\Users\\MELANI~1\\AppData\\Local\\Temp\\dssatcqnsdvko and its content has been removed.\n",
      "TWAD: 4491    Sum irrigation: 142.10    Cost: 19.24\n",
      "(18.900000000000002,) 19.242240620485276\n",
      "C:\\Users\\MELANI~1\\AppData\\Local\\Temp\\dssatetuflpia created.\n",
      "Static files copied to C:\\Users\\MELANI~1\\AppData\\Local\\Temp\\dssatetuflpia.\n",
      "RUN    TRT FLO MAT TOPWT HARWT  RAIN  TIRR   CET  PESW  TNUP  TNLF   TSON TSOC\n",
      "           dap dap kg/ha kg/ha    mm    mm    mm    mm kg/ha kg/ha  kg/ha t/ha\n",
      "  1 PT   1  40 -99  5652  4277     3    44   112    40     0   -99      0  211\n",
      "C:\\Users\\MELANI~1\\AppData\\Local\\Temp\\dssatetuflpia and its content has been removed.\n",
      "TWAD: 5652    Sum irrigation: 154.50    Cost: 18.07\n",
      "(31.3,) 18.07303916590956\n",
      "C:\\Users\\MELANI~1\\AppData\\Local\\Temp\\dssatqwgovavf created.\n",
      "Static files copied to C:\\Users\\MELANI~1\\AppData\\Local\\Temp\\dssatqwgovavf.\n",
      "RUN    TRT FLO MAT TOPWT HARWT  RAIN  TIRR   CET  PESW  TNUP  TNLF   TSON TSOC\n",
      "           dap dap kg/ha kg/ha    mm    mm    mm    mm kg/ha kg/ha  kg/ha t/ha\n",
      "  1 PT   1  40 -99  5988  4610     3    48   115    41     0   -99      0  211\n",
      "C:\\Users\\MELANI~1\\AppData\\Local\\Temp\\dssatqwgovavf and its content has been removed.\n",
      "TWAD: 5988    Sum irrigation: 158.80    Cost: 18.43\n",
      "(35.6,) 18.429491209076282\n",
      "C:\\Users\\MELANI~1\\AppData\\Local\\Temp\\dssatfwyjeicf created.\n",
      "Static files copied to C:\\Users\\MELANI~1\\AppData\\Local\\Temp\\dssatfwyjeicf.\n",
      "RUN    TRT FLO MAT TOPWT HARWT  RAIN  TIRR   CET  PESW  TNUP  TNLF   TSON TSOC\n",
      "           dap dap kg/ha kg/ha    mm    mm    mm    mm kg/ha kg/ha  kg/ha t/ha\n",
      "  1 PT   1  40 -99  3147  1892     3    13    89    33     0   -99      0  211\n",
      "C:\\Users\\MELANI~1\\AppData\\Local\\Temp\\dssatfwyjeicf and its content has been removed.\n",
      "TWAD: 3147    Sum irrigation: 124.00    Cost: 25.42\n",
      "(0.8,) 25.42358782935245\n",
      "C:\\Users\\MELANI~1\\AppData\\Local\\Temp\\dssatansnftpn created.\n",
      "Static files copied to C:\\Users\\MELANI~1\\AppData\\Local\\Temp\\dssatansnftpn.\n",
      "RUN    TRT FLO MAT TOPWT HARWT  RAIN  TIRR   CET  PESW  TNUP  TNLF   TSON TSOC\n",
      "           dap dap kg/ha kg/ha    mm    mm    mm    mm kg/ha kg/ha  kg/ha t/ha\n",
      "  1 PT   1  40 -99  5470  4098     3    42   111    39     0   -99      0  211\n",
      "C:\\Users\\MELANI~1\\AppData\\Local\\Temp\\dssatansnftpn and its content has been removed.\n",
      "TWAD: 5470    Sum irrigation: 152.60    Cost: 18.08\n",
      "(29.400000000000002,) 18.082665845479735\n",
      "C:\\Users\\MELANI~1\\AppData\\Local\\Temp\\dssatulmmqpju created.\n",
      "Static files copied to C:\\Users\\MELANI~1\\AppData\\Local\\Temp\\dssatulmmqpju.\n",
      "RUN    TRT FLO MAT TOPWT HARWT  RAIN  TIRR   CET  PESW  TNUP  TNLF   TSON TSOC\n",
      "           dap dap kg/ha kg/ha    mm    mm    mm    mm kg/ha kg/ha  kg/ha t/ha\n",
      "  1 PT   1  40 -99  6662  5270     3    55   121    43     0   -99      0  211\n",
      "C:\\Users\\MELANI~1\\AppData\\Local\\Temp\\dssatulmmqpju and its content has been removed.\n",
      "TWAD: 6662    Sum irrigation: 165.20    Cost: 19.06\n",
      "(42.0,) 19.064404081596503\n",
      "C:\\Users\\MELANI~1\\AppData\\Local\\Temp\\dssatluxtyufj created.\n",
      "Static files copied to C:\\Users\\MELANI~1\\AppData\\Local\\Temp\\dssatluxtyufj.\n",
      "RUN    TRT FLO MAT TOPWT HARWT  RAIN  TIRR   CET  PESW  TNUP  TNLF   TSON TSOC\n",
      "           dap dap kg/ha kg/ha    mm    mm    mm    mm kg/ha kg/ha  kg/ha t/ha\n",
      "  1 PT   1  40 -99  4101  2763     3    27   100    36     0   -99      0  211\n",
      "C:\\Users\\MELANI~1\\AppData\\Local\\Temp\\dssatluxtyufj and its content has been removed.\n",
      "TWAD: 4101    Sum irrigation: 137.30    Cost: 20.30\n",
      "(14.100000000000001,) 20.302672453686306\n",
      "C:\\Users\\MELANI~1\\AppData\\Local\\Temp\\dssatcisuyzwz created.\n",
      "Static files copied to C:\\Users\\MELANI~1\\AppData\\Local\\Temp\\dssatcisuyzwz.\n",
      "RUN    TRT FLO MAT TOPWT HARWT  RAIN  TIRR   CET  PESW  TNUP  TNLF   TSON TSOC\n",
      "           dap dap kg/ha kg/ha    mm    mm    mm    mm kg/ha kg/ha  kg/ha t/ha\n",
      "  1 PT   1  40 -99  3449  2129     3    18    93    33     0   -99      0  211\n",
      "C:\\Users\\MELANI~1\\AppData\\Local\\Temp\\dssatcisuyzwz and its content has been removed.\n",
      "TWAD: 3449    Sum irrigation: 128.40    Cost: 23.30\n",
      "(5.2,) 23.30328229773201\n",
      "C:\\Users\\MELANI~1\\AppData\\Local\\Temp\\dssathiprvxje created.\n",
      "Static files copied to C:\\Users\\MELANI~1\\AppData\\Local\\Temp\\dssathiprvxje.\n",
      "RUN    TRT FLO MAT TOPWT HARWT  RAIN  TIRR   CET  PESW  TNUP  TNLF   TSON TSOC\n",
      "           dap dap kg/ha kg/ha    mm    mm    mm    mm kg/ha kg/ha  kg/ha t/ha\n",
      "  1 PT   1  40 -99  6744  5350     3    56   121    43     0   -99      0  211\n",
      "C:\\Users\\MELANI~1\\AppData\\Local\\Temp\\dssathiprvxje and its content has been removed.\n",
      "TWAD: 6744    Sum irrigation: 167.10    Cost: 19.57\n",
      "(43.900000000000006,) 19.57123444507793\n",
      "C:\\Users\\MELANI~1\\AppData\\Local\\Temp\\dssatawkohuoe created.\n",
      "Static files copied to C:\\Users\\MELANI~1\\AppData\\Local\\Temp\\dssatawkohuoe.\n",
      "RUN    TRT FLO MAT TOPWT HARWT  RAIN  TIRR   CET  PESW  TNUP  TNLF   TSON TSOC\n",
      "           dap dap kg/ha kg/ha    mm    mm    mm    mm kg/ha kg/ha  kg/ha t/ha\n",
      "  1 PT   1  40 -99  6374  4992     3    52   118    42     0   -99      0  211\n",
      "C:\\Users\\MELANI~1\\AppData\\Local\\Temp\\dssatawkohuoe and its content has been removed.\n",
      "TWAD: 6374    Sum irrigation: 162.80    Cost: 18.82\n",
      "(39.6,) 18.82362642124468\n",
      "C:\\Users\\MELANI~1\\AppData\\Local\\Temp\\dssattsqmugvz created.\n",
      "Static files copied to C:\\Users\\MELANI~1\\AppData\\Local\\Temp\\dssattsqmugvz.\n",
      "RUN    TRT FLO MAT TOPWT HARWT  RAIN  TIRR   CET  PESW  TNUP  TNLF   TSON TSOC\n",
      "           dap dap kg/ha kg/ha    mm    mm    mm    mm kg/ha kg/ha  kg/ha t/ha\n",
      "  1 PT   1  40 -99  3359  2060     3    17    92    33     0   -99      0  211\n",
      "C:\\Users\\MELANI~1\\AppData\\Local\\Temp\\dssattsqmugvz and its content has been removed.\n",
      "TWAD: 3359    Sum irrigation: 127.50    Cost: 23.89\n",
      "(4.3,) 23.890564996545102\n",
      "C:\\Users\\MELANI~1\\AppData\\Local\\Temp\\dssatoqjjndrn created.\n",
      "Static files copied to C:\\Users\\MELANI~1\\AppData\\Local\\Temp\\dssatoqjjndrn.\n",
      "RUN    TRT FLO MAT TOPWT HARWT  RAIN  TIRR   CET  PESW  TNUP  TNLF   TSON TSOC\n",
      "           dap dap kg/ha kg/ha    mm    mm    mm    mm kg/ha kg/ha  kg/ha t/ha\n",
      "  1 PT   1  40 -99  6557  5167     3    54   120    43     0   -99      0  211\n",
      "C:\\Users\\MELANI~1\\AppData\\Local\\Temp\\dssatoqjjndrn and its content has been removed.\n",
      "TWAD: 6557    Sum irrigation: 164.30    Cost: 18.96\n",
      "(41.1,) 18.95753967962488\n",
      "C:\\Users\\MELANI~1\\AppData\\Local\\Temp\\dssatxglbprkn created.\n",
      "Static files copied to C:\\Users\\MELANI~1\\AppData\\Local\\Temp\\dssatxglbprkn.\n",
      "RUN    TRT FLO MAT TOPWT HARWT  RAIN  TIRR   CET  PESW  TNUP  TNLF   TSON TSOC\n",
      "           dap dap kg/ha kg/ha    mm    mm    mm    mm kg/ha kg/ha  kg/ha t/ha\n",
      "  1 PT   1  40 -99  5825  4449     3    46   114    40     0   -99      0  211\n",
      "C:\\Users\\MELANI~1\\AppData\\Local\\Temp\\dssatxglbprkn and its content has been removed.\n",
      "TWAD: 5825    Sum irrigation: 156.50    Cost: 18.17\n",
      "(33.300000000000004,) 18.169463221647515\n",
      "C:\\Users\\MELANI~1\\AppData\\Local\\Temp\\dssatwwoubnna created.\n",
      "Static files copied to C:\\Users\\MELANI~1\\AppData\\Local\\Temp\\dssatwwoubnna.\n",
      "RUN    TRT FLO MAT TOPWT HARWT  RAIN  TIRR   CET  PESW  TNUP  TNLF   TSON TSOC\n",
      "           dap dap kg/ha kg/ha    mm    mm    mm    mm kg/ha kg/ha  kg/ha t/ha\n",
      "  1 PT   1  40 -99  5194  3824     3    39   109    38     0   -99      0  211\n",
      "C:\\Users\\MELANI~1\\AppData\\Local\\Temp\\dssatwwoubnna and its content has been removed.\n",
      "TWAD: 5194    Sum irrigation: 149.40    Cost: 18.15\n",
      "(26.200000000000003,) 18.14814440462372\n",
      "C:\\Users\\MELANI~1\\AppData\\Local\\Temp\\dssatnwkxgggr created.\n",
      "Static files copied to C:\\Users\\MELANI~1\\AppData\\Local\\Temp\\dssatnwkxgggr.\n",
      "RUN    TRT FLO MAT TOPWT HARWT  RAIN  TIRR   CET  PESW  TNUP  TNLF   TSON TSOC\n",
      "           dap dap kg/ha kg/ha    mm    mm    mm    mm kg/ha kg/ha  kg/ha t/ha\n",
      "  1 PT   1  40 -99  3635  2302     3    20    95    34     0   -99      0  211\n",
      "C:\\Users\\MELANI~1\\AppData\\Local\\Temp\\dssatnwkxgggr and its content has been removed.\n",
      "TWAD: 3635    Sum irrigation: 130.40    Cost: 22.22\n",
      "(7.2,) 22.215607040372202\n",
      "C:\\Users\\MELANI~1\\AppData\\Local\\Temp\\dssatmzatprec created.\n",
      "Static files copied to C:\\Users\\MELANI~1\\AppData\\Local\\Temp\\dssatmzatprec.\n",
      "RUN    TRT FLO MAT TOPWT HARWT  RAIN  TIRR   CET  PESW  TNUP  TNLF   TSON TSOC\n",
      "           dap dap kg/ha kg/ha    mm    mm    mm    mm kg/ha kg/ha  kg/ha t/ha\n",
      "  1 PT   1  40 -99  4027  2702     3    26    99    36     0   -99      0  211\n",
      "C:\\Users\\MELANI~1\\AppData\\Local\\Temp\\dssatmzatprec and its content has been removed.\n",
      "TWAD: 4027    Sum irrigation: 137.10    Cost: 20.64\n",
      "(13.9,) 20.63874020712684\n",
      "C:\\Users\\MELANI~1\\AppData\\Local\\Temp\\dssatirzsbkei created.\n",
      "Static files copied to C:\\Users\\MELANI~1\\AppData\\Local\\Temp\\dssatirzsbkei.\n",
      "RUN    TRT FLO MAT TOPWT HARWT  RAIN  TIRR   CET  PESW  TNUP  TNLF   TSON TSOC\n",
      "           dap dap kg/ha kg/ha    mm    mm    mm    mm kg/ha kg/ha  kg/ha t/ha\n",
      "  1 PT   1  40 -99  3944  2627     3    25    98    35     0   -99      0  211\n",
      "C:\\Users\\MELANI~1\\AppData\\Local\\Temp\\dssatirzsbkei and its content has been removed.\n",
      "TWAD: 3944    Sum irrigation: 135.20    Cost: 20.86\n",
      "(12.0,) 20.859970516234657\n",
      "C:\\Users\\MELANI~1\\AppData\\Local\\Temp\\dssatcbhtnpjc created.\n",
      "Static files copied to C:\\Users\\MELANI~1\\AppData\\Local\\Temp\\dssatcbhtnpjc.\n",
      "RUN    TRT FLO MAT TOPWT HARWT  RAIN  TIRR   CET  PESW  TNUP  TNLF   TSON TSOC\n",
      "           dap dap kg/ha kg/ha    mm    mm    mm    mm kg/ha kg/ha  kg/ha t/ha\n",
      "  1 PT   1  40 -99  3267  1993     3    16    91    33     0   -99      0  211\n",
      "C:\\Users\\MELANI~1\\AppData\\Local\\Temp\\dssatcbhtnpjc and its content has been removed.\n",
      "TWAD: 3267    Sum irrigation: 126.70    Cost: 24.54\n",
      "(3.5,) 24.536289719225675\n",
      "C:\\Users\\MELANI~1\\AppData\\Local\\Temp\\dssatxzwgkgth created.\n",
      "Static files copied to C:\\Users\\MELANI~1\\AppData\\Local\\Temp\\dssatxzwgkgth.\n",
      "RUN    TRT FLO MAT TOPWT HARWT  RAIN  TIRR   CET  PESW  TNUP  TNLF   TSON TSOC\n",
      "           dap dap kg/ha kg/ha    mm    mm    mm    mm kg/ha kg/ha  kg/ha t/ha\n",
      "  1 PT   1  40 -99  6192  4815     3    50   117    42     0   -99      0  211\n",
      "C:\\Users\\MELANI~1\\AppData\\Local\\Temp\\dssatxzwgkgth and its content has been removed.\n",
      "TWAD: 6192    Sum irrigation: 161.00    Cost: 18.64\n",
      "(37.800000000000004,) 18.635254554280596\n",
      "C:\\Users\\MELANI~1\\AppData\\Local\\Temp\\dssatlcqesusu created.\n",
      "Static files copied to C:\\Users\\MELANI~1\\AppData\\Local\\Temp\\dssatlcqesusu.\n",
      "RUN    TRT FLO MAT TOPWT HARWT  RAIN  TIRR   CET  PESW  TNUP  TNLF   TSON TSOC\n",
      "           dap dap kg/ha kg/ha    mm    mm    mm    mm kg/ha kg/ha  kg/ha t/ha\n",
      "  1 PT   1  40 -99  3745  2438     3    22    96    35     0   -99      0  211\n",
      "C:\\Users\\MELANI~1\\AppData\\Local\\Temp\\dssatlcqesusu and its content has been removed.\n",
      "TWAD: 3745    Sum irrigation: 132.20    Cost: 21.69\n",
      "(9.0,) 21.68581005025099\n",
      "C:\\Users\\MELANI~1\\AppData\\Local\\Temp\\dssatemzozetj created.\n",
      "Static files copied to C:\\Users\\MELANI~1\\AppData\\Local\\Temp\\dssatemzozetj.\n",
      "RUN    TRT FLO MAT TOPWT HARWT  RAIN  TIRR   CET  PESW  TNUP  TNLF   TSON TSOC\n",
      "           dap dap kg/ha kg/ha    mm    mm    mm    mm kg/ha kg/ha  kg/ha t/ha\n",
      "  1 PT   1  40 -99  6662  5270     3    55   121    43     0   -99      0  211\n",
      "C:\\Users\\MELANI~1\\AppData\\Local\\Temp\\dssatemzozetj and its content has been removed.\n",
      "TWAD: 6662    Sum irrigation: 165.50    Cost: 19.17\n",
      "(42.300000000000004,) 19.165564081596507\n",
      "C:\\Users\\MELANI~1\\AppData\\Local\\Temp\\dssatikkfiwbz created.\n",
      "Static files copied to C:\\Users\\MELANI~1\\AppData\\Local\\Temp\\dssatikkfiwbz.\n",
      "RUN    TRT FLO MAT TOPWT HARWT  RAIN  TIRR   CET  PESW  TNUP  TNLF   TSON TSOC\n",
      "           dap dap kg/ha kg/ha    mm    mm    mm    mm kg/ha kg/ha  kg/ha t/ha\n",
      "  1 PT   1  40 -99  7121  5716     3    60   124    44     0   -99      0  211\n",
      "C:\\Users\\MELANI~1\\AppData\\Local\\Temp\\dssatikkfiwbz and its content has been removed.\n",
      "TWAD: 7121    Sum irrigation: 170.90    Cost: 20.34\n",
      "(47.7,) 20.335535616574134\n",
      "C:\\Users\\MELANI~1\\AppData\\Local\\Temp\\dssatdfojgqhy created.\n",
      "Static files copied to C:\\Users\\MELANI~1\\AppData\\Local\\Temp\\dssatdfojgqhy.\n",
      "RUN    TRT FLO MAT TOPWT HARWT  RAIN  TIRR   CET  PESW  TNUP  TNLF   TSON TSOC\n",
      "           dap dap kg/ha kg/ha    mm    mm    mm    mm kg/ha kg/ha  kg/ha t/ha\n",
      "  1 PT   1  40 -99  5652  4277     3    44   112    40     0   -99      0  211\n",
      "C:\\Users\\MELANI~1\\AppData\\Local\\Temp\\dssatdfojgqhy and its content has been removed.\n",
      "TWAD: 5652    Sum irrigation: 154.40    Cost: 18.05\n",
      "(31.200000000000003,) 18.04803916590956\n",
      "C:\\Users\\MELANI~1\\AppData\\Local\\Temp\\dssatainqhhwv created.\n",
      "Static files copied to C:\\Users\\MELANI~1\\AppData\\Local\\Temp\\dssatainqhhwv.\n",
      "RUN    TRT FLO MAT TOPWT HARWT  RAIN  TIRR   CET  PESW  TNUP  TNLF   TSON TSOC\n",
      "           dap dap kg/ha kg/ha    mm    mm    mm    mm kg/ha kg/ha  kg/ha t/ha\n",
      "  1 PT   1  40 -99  4721  3364     3    34   105    37     0   -99      0  211\n",
      "C:\\Users\\MELANI~1\\AppData\\Local\\Temp\\dssatainqhhwv and its content has been removed.\n",
      "TWAD: 4721    Sum irrigation: 144.20    Cost: 18.71\n",
      "(21.0,) 18.70955879145122\n",
      "C:\\Users\\MELANI~1\\AppData\\Local\\Temp\\dssatfcpfrkfg created.\n",
      "Static files copied to C:\\Users\\MELANI~1\\AppData\\Local\\Temp\\dssatfcpfrkfg.\n",
      "RUN    TRT FLO MAT TOPWT HARWT  RAIN  TIRR   CET  PESW  TNUP  TNLF   TSON TSOC\n",
      "           dap dap kg/ha kg/ha    mm    mm    mm    mm kg/ha kg/ha  kg/ha t/ha\n",
      "  1 PT   1  40 -99  4171  2823     3    28   100    36     0   -99      0  211\n",
      "C:\\Users\\MELANI~1\\AppData\\Local\\Temp\\dssatfcpfrkfg and its content has been removed.\n",
      "TWAD: 4171    Sum irrigation: 138.40    Cost: 20.10\n",
      "(15.200000000000001,) 20.10420814671586\n",
      "C:\\Users\\MELANI~1\\AppData\\Local\\Temp\\dssatgkkkvajr created.\n",
      "Static files copied to C:\\Users\\MELANI~1\\AppData\\Local\\Temp\\dssatgkkkvajr.\n",
      "RUN    TRT FLO MAT TOPWT HARWT  RAIN  TIRR   CET  PESW  TNUP  TNLF   TSON TSOC\n",
      "           dap dap kg/ha kg/ha    mm    mm    mm    mm kg/ha kg/ha  kg/ha t/ha\n",
      "  1 PT   1  40 -99  4491  3110     3    31   103    36     0   -99      0  211\n",
      "C:\\Users\\MELANI~1\\AppData\\Local\\Temp\\dssatgkkkvajr and its content has been removed.\n",
      "TWAD: 4491    Sum irrigation: 141.50    Cost: 19.15\n",
      "(18.3,) 19.152960620485274\n",
      "C:\\Users\\MELANI~1\\AppData\\Local\\Temp\\dssattdhtdxtx created.\n",
      "Static files copied to C:\\Users\\MELANI~1\\AppData\\Local\\Temp\\dssattdhtdxtx.\n",
      "RUN    TRT FLO MAT TOPWT HARWT  RAIN  TIRR   CET  PESW  TNUP  TNLF   TSON TSOC\n",
      "           dap dap kg/ha kg/ha    mm    mm    mm    mm kg/ha kg/ha  kg/ha t/ha\n",
      "  1 PT   1  40 -99  6272  4890     3    51   117    42     0   -99      0  211\n",
      "C:\\Users\\MELANI~1\\AppData\\Local\\Temp\\dssattdhtdxtx and its content has been removed.\n",
      "TWAD: 6272    Sum irrigation: 162.00    Cost: 18.78\n",
      "(38.800000000000004,) 18.776860007158803\n",
      "C:\\Users\\MELANI~1\\AppData\\Local\\Temp\\dssatdkhldtgy created.\n",
      "Static files copied to C:\\Users\\MELANI~1\\AppData\\Local\\Temp\\dssatdkhldtgy.\n",
      "RUN    TRT FLO MAT TOPWT HARWT  RAIN  TIRR   CET  PESW  TNUP  TNLF   TSON TSOC\n",
      "           dap dap kg/ha kg/ha    mm    mm    mm    mm kg/ha kg/ha  kg/ha t/ha\n",
      "  1 PT   1  40 -99  5988  4610     3    48   115    41     0   -99      0  211\n",
      "C:\\Users\\MELANI~1\\AppData\\Local\\Temp\\dssatdkhldtgy and its content has been removed.\n",
      "TWAD: 5988    Sum irrigation: 158.30    Cost: 18.29\n",
      "(35.1,) 18.288091209076285\n",
      "C:\\Users\\MELANI~1\\AppData\\Local\\Temp\\dssattodamlwg created.\n",
      "Static files copied to C:\\Users\\MELANI~1\\AppData\\Local\\Temp\\dssattodamlwg.\n",
      "RUN    TRT FLO MAT TOPWT HARWT  RAIN  TIRR   CET  PESW  TNUP  TNLF   TSON TSOC\n",
      "           dap dap kg/ha kg/ha    mm    mm    mm    mm kg/ha kg/ha  kg/ha t/ha\n",
      "  1 PT   1  40 -99  6374  4992     3    52   118    42     0   -99      0  211\n",
      "C:\\Users\\MELANI~1\\AppData\\Local\\Temp\\dssattodamlwg and its content has been removed.\n",
      "TWAD: 6374    Sum irrigation: 163.10    Cost: 18.92\n",
      "(39.900000000000006,) 18.91902642124468\n",
      "C:\\Users\\MELANI~1\\AppData\\Local\\Temp\\dssatgdsjmruw created.\n",
      "Static files copied to C:\\Users\\MELANI~1\\AppData\\Local\\Temp\\dssatgdsjmruw.\n",
      "RUN    TRT FLO MAT TOPWT HARWT  RAIN  TIRR   CET  PESW  TNUP  TNLF   TSON TSOC\n",
      "           dap dap kg/ha kg/ha    mm    mm    mm    mm kg/ha kg/ha  kg/ha t/ha\n",
      "  1 PT   1  40 -99  7213  5803     3    61   125    44     0   -99      0  211\n",
      "C:\\Users\\MELANI~1\\AppData\\Local\\Temp\\dssatgdsjmruw and its content has been removed.\n",
      "TWAD: 7213    Sum irrigation: 171.80    Cost: 20.54\n",
      "(48.6,) 20.538924002345208\n",
      "C:\\Users\\MELANI~1\\AppData\\Local\\Temp\\dssatvrclmzhe created.\n",
      "Static files copied to C:\\Users\\MELANI~1\\AppData\\Local\\Temp\\dssatvrclmzhe.\n",
      "RUN    TRT FLO MAT TOPWT HARWT  RAIN  TIRR   CET  PESW  TNUP  TNLF   TSON TSOC\n",
      "           dap dap kg/ha kg/ha    mm    mm    mm    mm kg/ha kg/ha  kg/ha t/ha\n",
      "  1 PT   1  40 -99  3163  1911     3    14    89    33     0   -99      0  211\n",
      "C:\\Users\\MELANI~1\\AppData\\Local\\Temp\\dssatvrclmzhe and its content has been removed.\n",
      "TWAD: 3163    Sum irrigation: 124.50    Cost: 25.30\n",
      "(1.3,) 25.299195886046192\n",
      "C:\\Users\\MELANI~1\\AppData\\Local\\Temp\\dssatiaingnog created.\n",
      "Static files copied to C:\\Users\\MELANI~1\\AppData\\Local\\Temp\\dssatiaingnog.\n",
      "RUN    TRT FLO MAT TOPWT HARWT  RAIN  TIRR   CET  PESW  TNUP  TNLF   TSON TSOC\n",
      "           dap dap kg/ha kg/ha    mm    mm    mm    mm kg/ha kg/ha  kg/ha t/ha\n",
      "  1 PT   1  40 -99  5747  4373     3    45   113    40     0   -99      0  211\n",
      "C:\\Users\\MELANI~1\\AppData\\Local\\Temp\\dssatiaingnog and its content has been removed.\n",
      "TWAD: 5747    Sum irrigation: 155.60    Cost: 18.12\n",
      "(32.4,) 18.119343824551272\n",
      "C:\\Users\\MELANI~1\\AppData\\Local\\Temp\\dssatkcbmhuwy created.\n",
      "Static files copied to C:\\Users\\MELANI~1\\AppData\\Local\\Temp\\dssatkcbmhuwy.\n",
      "RUN    TRT FLO MAT TOPWT HARWT  RAIN  TIRR   CET  PESW  TNUP  TNLF   TSON TSOC\n",
      "           dap dap kg/ha kg/ha    mm    mm    mm    mm kg/ha kg/ha  kg/ha t/ha\n",
      "  1 PT   1  40 -99  7213  5803     3    61   125    44     0   -99      0  211\n",
      "C:\\Users\\MELANI~1\\AppData\\Local\\Temp\\dssatkcbmhuwy and its content has been removed.\n",
      "TWAD: 7213    Sum irrigation: 171.60    Cost: 20.46\n",
      "(48.400000000000006,) 20.46132400234521\n",
      "C:\\Users\\MELANI~1\\AppData\\Local\\Temp\\dssatpphltixj created.\n",
      "Static files copied to C:\\Users\\MELANI~1\\AppData\\Local\\Temp\\dssatpphltixj.\n",
      "RUN    TRT FLO MAT TOPWT HARWT  RAIN  TIRR   CET  PESW  TNUP  TNLF   TSON TSOC\n",
      "           dap dap kg/ha kg/ha    mm    mm    mm    mm kg/ha kg/ha  kg/ha t/ha\n",
      "  1 PT   1  40 -99  4582  3206     3    32   104    36     0   -99      0  211\n",
      "C:\\Users\\MELANI~1\\AppData\\Local\\Temp\\dssatpphltixj and its content has been removed.\n",
      "TWAD: 4582    Sum irrigation: 142.20    Cost: 18.90\n",
      "(19.0,) 18.903620807590393\n",
      "C:\\Users\\MELANI~1\\AppData\\Local\\Temp\\dssatieutliqe created.\n",
      "Static files copied to C:\\Users\\MELANI~1\\AppData\\Local\\Temp\\dssatieutliqe.\n",
      "RUN    TRT FLO MAT TOPWT HARWT  RAIN  TIRR   CET  PESW  TNUP  TNLF   TSON TSOC\n",
      "           dap dap kg/ha kg/ha    mm    mm    mm    mm kg/ha kg/ha  kg/ha t/ha\n",
      "  1 PT   1  40 -99  3745  2438     3    22    96    35     0   -99      0  211\n",
      "C:\\Users\\MELANI~1\\AppData\\Local\\Temp\\dssatieutliqe and its content has been removed.\n",
      "TWAD: 3745    Sum irrigation: 132.60    Cost: 21.72\n",
      "(9.4,) 21.715250050250987\n",
      "C:\\Users\\MELANI~1\\AppData\\Local\\Temp\\dssatytryijht created.\n",
      "Static files copied to C:\\Users\\MELANI~1\\AppData\\Local\\Temp\\dssatytryijht.\n",
      "RUN    TRT FLO MAT TOPWT HARWT  RAIN  TIRR   CET  PESW  TNUP  TNLF   TSON TSOC\n",
      "           dap dap kg/ha kg/ha    mm    mm    mm    mm kg/ha kg/ha  kg/ha t/ha\n",
      "  1 PT   1  40 -99  7300  5888     3    62   126    44     0   -99      0  211\n",
      "C:\\Users\\MELANI~1\\AppData\\Local\\Temp\\dssatytryijht and its content has been removed.\n",
      "TWAD: 7300    Sum irrigation: 172.30    Cost: 20.60\n",
      "(49.1,) 20.602142608369505\n",
      "C:\\Users\\MELANI~1\\AppData\\Local\\Temp\\dssatjhunrkgr created.\n",
      "Static files copied to C:\\Users\\MELANI~1\\AppData\\Local\\Temp\\dssatjhunrkgr.\n",
      "RUN    TRT FLO MAT TOPWT HARWT  RAIN  TIRR   CET  PESW  TNUP  TNLF   TSON TSOC\n",
      "           dap dap kg/ha kg/ha    mm    mm    mm    mm kg/ha kg/ha  kg/ha t/ha\n",
      "  1 PT   1  40 -99  4649  3283     3    33   105    37     0   -99      0  211\n",
      "C:\\Users\\MELANI~1\\AppData\\Local\\Temp\\dssatjhunrkgr and its content has been removed.\n",
      "TWAD: 4649    Sum irrigation: 144.00    Cost: 18.94\n",
      "(20.8,) 18.938558019359427\n",
      "C:\\Users\\MELANI~1\\AppData\\Local\\Temp\\dssatondvaxlg created.\n",
      "Static files copied to C:\\Users\\MELANI~1\\AppData\\Local\\Temp\\dssatondvaxlg.\n",
      "RUN    TRT FLO MAT TOPWT HARWT  RAIN  TIRR   CET  PESW  TNUP  TNLF   TSON TSOC\n",
      "           dap dap kg/ha kg/ha    mm    mm    mm    mm kg/ha kg/ha  kg/ha t/ha\n",
      "  1 PT   1  40 -99  5550  4175     3    43   112    39     0   -99      0  211\n",
      "C:\\Users\\MELANI~1\\AppData\\Local\\Temp\\dssatondvaxlg and its content has been removed.\n",
      "TWAD: 5550    Sum irrigation: 153.30    Cost: 18.04\n",
      "(30.1,) 18.038451817223095\n",
      "C:\\Users\\MELANI~1\\AppData\\Local\\Temp\\dssathcastqai created.\n",
      "Static files copied to C:\\Users\\MELANI~1\\AppData\\Local\\Temp\\dssathcastqai.\n",
      "RUN    TRT FLO MAT TOPWT HARWT  RAIN  TIRR   CET  PESW  TNUP  TNLF   TSON TSOC\n",
      "           dap dap kg/ha kg/ha    mm    mm    mm    mm kg/ha kg/ha  kg/ha t/ha\n",
      "  1 PT   1  40 -99  6374  4992     3    52   118    42     0   -99      0  211\n",
      "C:\\Users\\MELANI~1\\AppData\\Local\\Temp\\dssathcastqai and its content has been removed.\n",
      "TWAD: 6374    Sum irrigation: 162.60    Cost: 18.76\n",
      "(39.400000000000006,) 18.76042642124468\n",
      "C:\\Users\\MELANI~1\\AppData\\Local\\Temp\\dssatfcxxvhkj created.\n",
      "Static files copied to C:\\Users\\MELANI~1\\AppData\\Local\\Temp\\dssatfcxxvhkj.\n",
      "RUN    TRT FLO MAT TOPWT HARWT  RAIN  TIRR   CET  PESW  TNUP  TNLF   TSON TSOC\n",
      "           dap dap kg/ha kg/ha    mm    mm    mm    mm kg/ha kg/ha  kg/ha t/ha\n",
      "  1 PT   1  40 -99  5550  4175     3    43   112    39     0   -99      0  211\n",
      "C:\\Users\\MELANI~1\\AppData\\Local\\Temp\\dssatfcxxvhkj and its content has been removed.\n",
      "TWAD: 5550    Sum irrigation: 153.50    Cost: 18.09\n",
      "(30.3,) 18.086771817223095\n",
      "C:\\Users\\MELANI~1\\AppData\\Local\\Temp\\dssatpsxkxcpl created.\n",
      "Static files copied to C:\\Users\\MELANI~1\\AppData\\Local\\Temp\\dssatpsxkxcpl.\n",
      "RUN    TRT FLO MAT TOPWT HARWT  RAIN  TIRR   CET  PESW  TNUP  TNLF   TSON TSOC\n",
      "           dap dap kg/ha kg/ha    mm    mm    mm    mm kg/ha kg/ha  kg/ha t/ha\n",
      "  1 PT   1  40 -99  4306  2939     3    29   102    36     0   -99      0  211\n",
      "C:\\Users\\MELANI~1\\AppData\\Local\\Temp\\dssatpsxkxcpl and its content has been removed.\n",
      "TWAD: 4306    Sum irrigation: 139.60    Cost: 19.65\n",
      "(16.400000000000002,) 19.654563042563158\n",
      "C:\\Users\\MELANI~1\\AppData\\Local\\Temp\\dssathhotzbbl created.\n",
      "Static files copied to C:\\Users\\MELANI~1\\AppData\\Local\\Temp\\dssathhotzbbl.\n",
      "RUN    TRT FLO MAT TOPWT HARWT  RAIN  TIRR   CET  PESW  TNUP  TNLF   TSON TSOC\n",
      "           dap dap kg/ha kg/ha    mm    mm    mm    mm kg/ha kg/ha  kg/ha t/ha\n",
      "  1 PT   1  40 -99  6093  4714     3    49   116    41     0   -99      0  211\n",
      "C:\\Users\\MELANI~1\\AppData\\Local\\Temp\\dssathhotzbbl and its content has been removed.\n",
      "TWAD: 6093    Sum irrigation: 160.10    Cost: 18.58\n",
      "(36.9,) 18.576258951285254\n",
      "C:\\Users\\MELANI~1\\AppData\\Local\\Temp\\dssatduoithgt created.\n",
      "Static files copied to C:\\Users\\MELANI~1\\AppData\\Local\\Temp\\dssatduoithgt.\n",
      "RUN    TRT FLO MAT TOPWT HARWT  RAIN  TIRR   CET  PESW  TNUP  TNLF   TSON TSOC\n",
      "           dap dap kg/ha kg/ha    mm    mm    mm    mm kg/ha kg/ha  kg/ha t/ha\n",
      "  1 PT   1  40 -99  6846  5450     3    57   122    43     0   -99      0  211\n",
      "C:\\Users\\MELANI~1\\AppData\\Local\\Temp\\dssatduoithgt and its content has been removed.\n",
      "TWAD: 6846    Sum irrigation: 167.30    Cost: 19.46\n",
      "(44.1,) 19.464894150503337\n",
      "C:\\Users\\MELANI~1\\AppData\\Local\\Temp\\dssatwhysiaub created.\n",
      "Static files copied to C:\\Users\\MELANI~1\\AppData\\Local\\Temp\\dssatwhysiaub.\n",
      "RUN    TRT FLO MAT TOPWT HARWT  RAIN  TIRR   CET  PESW  TNUP  TNLF   TSON TSOC\n",
      "           dap dap kg/ha kg/ha    mm    mm    mm    mm kg/ha kg/ha  kg/ha t/ha\n",
      "  1 PT   1  40 -99  5294  3922     3    40   110    39     0   -99      0  211\n",
      "C:\\Users\\MELANI~1\\AppData\\Local\\Temp\\dssatwhysiaub and its content has been removed.\n",
      "TWAD: 5294    Sum irrigation: 150.50    Cost: 18.09\n",
      "(27.3,) 18.092604066595378\n",
      "C:\\Users\\MELANI~1\\AppData\\Local\\Temp\\dssatyuwiugsv created.\n",
      "Static files copied to C:\\Users\\MELANI~1\\AppData\\Local\\Temp\\dssatyuwiugsv.\n",
      "RUN    TRT FLO MAT TOPWT HARWT  RAIN  TIRR   CET  PESW  TNUP  TNLF   TSON TSOC\n",
      "           dap dap kg/ha kg/ha    mm    mm    mm    mm kg/ha kg/ha  kg/ha t/ha\n",
      "  1 PT   1  40 -99  3449  2129     3    18    93    33     0   -99      0  211\n",
      "C:\\Users\\MELANI~1\\AppData\\Local\\Temp\\dssatyuwiugsv and its content has been removed.\n",
      "TWAD: 3449    Sum irrigation: 128.80    Cost: 23.32\n",
      "(5.6000000000000005,) 23.32056229773201\n",
      "C:\\Users\\MELANI~1\\AppData\\Local\\Temp\\dssatdztznnel created.\n",
      "Static files copied to C:\\Users\\MELANI~1\\AppData\\Local\\Temp\\dssatdztznnel.\n",
      "RUN    TRT FLO MAT TOPWT HARWT  RAIN  TIRR   CET  PESW  TNUP  TNLF   TSON TSOC\n",
      "           dap dap kg/ha kg/ha    mm    mm    mm    mm kg/ha kg/ha  kg/ha t/ha\n",
      "  1 PT   1  40 -99  5988  4610     3    48   115    41     0   -99      0  211\n",
      "C:\\Users\\MELANI~1\\AppData\\Local\\Temp\\dssatdztznnel and its content has been removed.\n",
      "TWAD: 5988    Sum irrigation: 158.60    Cost: 18.37\n",
      "(35.4,) 18.372691209076283\n",
      "C:\\Users\\MELANI~1\\AppData\\Local\\Temp\\dssatqscdqqub created.\n",
      "Static files copied to C:\\Users\\MELANI~1\\AppData\\Local\\Temp\\dssatqscdqqub.\n",
      "RUN    TRT FLO MAT TOPWT HARWT  RAIN  TIRR   CET  PESW  TNUP  TNLF   TSON TSOC\n",
      "           dap dap kg/ha kg/ha    mm    mm    mm    mm kg/ha kg/ha  kg/ha t/ha\n",
      "  1 PT   1  40 -99  3550  2215     3    19    94    33     0   -99      0  211\n",
      "C:\\Users\\MELANI~1\\AppData\\Local\\Temp\\dssatqscdqqub and its content has been removed.\n",
      "TWAD: 3550    Sum irrigation: 129.30    Cost: 22.68\n",
      "(6.1000000000000005,) 22.684044919660586\n",
      "C:\\Users\\MELANI~1\\AppData\\Local\\Temp\\dssatdcbvmeen created.\n",
      "Static files copied to C:\\Users\\MELANI~1\\AppData\\Local\\Temp\\dssatdcbvmeen.\n",
      "RUN    TRT FLO MAT TOPWT HARWT  RAIN  TIRR   CET  PESW  TNUP  TNLF   TSON TSOC\n",
      "           dap dap kg/ha kg/ha    mm    mm    mm    mm kg/ha kg/ha  kg/ha t/ha\n",
      "  1 PT   1  40 -99  4582  3206     3    32   104    36     0   -99      0  211\n",
      "C:\\Users\\MELANI~1\\AppData\\Local\\Temp\\dssatdcbvmeen and its content has been removed.\n",
      "TWAD: 4582    Sum irrigation: 142.40    Cost: 18.93\n",
      "(19.200000000000003,) 18.934180807590394\n",
      "C:\\Users\\MELANI~1\\AppData\\Local\\Temp\\dssatvyvzxeza created.\n",
      "Static files copied to C:\\Users\\MELANI~1\\AppData\\Local\\Temp\\dssatvyvzxeza.\n",
      "RUN    TRT FLO MAT TOPWT HARWT  RAIN  TIRR   CET  PESW  TNUP  TNLF   TSON TSOC\n",
      "           dap dap kg/ha kg/ha    mm    mm    mm    mm kg/ha kg/ha  kg/ha t/ha\n",
      "  1 PT   1  40 -99  6374  4992     3    52   118    42     0   -99      0  211\n",
      "C:\\Users\\MELANI~1\\AppData\\Local\\Temp\\dssatvyvzxeza and its content has been removed.\n",
      "TWAD: 6374    Sum irrigation: 162.70    Cost: 18.79\n",
      "(39.5,) 18.79198642124468\n",
      "C:\\Users\\MELANI~1\\AppData\\Local\\Temp\\dssatzpfubhob created.\n",
      "Static files copied to C:\\Users\\MELANI~1\\AppData\\Local\\Temp\\dssatzpfubhob.\n",
      "RUN    TRT FLO MAT TOPWT HARWT  RAIN  TIRR   CET  PESW  TNUP  TNLF   TSON TSOC\n",
      "           dap dap kg/ha kg/ha    mm    mm    mm    mm kg/ha kg/ha  kg/ha t/ha\n",
      "  1 PT   1  40 -99  5652  4277     3    44   112    40     0   -99      0  211\n",
      "C:\\Users\\MELANI~1\\AppData\\Local\\Temp\\dssatzpfubhob and its content has been removed.\n",
      "TWAD: 5652    Sum irrigation: 154.60    Cost: 18.10\n",
      "(31.400000000000002,) 18.09811916590956\n",
      "C:\\Users\\MELANI~1\\AppData\\Local\\Temp\\dssatfbrnjsgo created.\n",
      "Static files copied to C:\\Users\\MELANI~1\\AppData\\Local\\Temp\\dssatfbrnjsgo.\n",
      "RUN    TRT FLO MAT TOPWT HARWT  RAIN  TIRR   CET  PESW  TNUP  TNLF   TSON TSOC\n",
      "           dap dap kg/ha kg/ha    mm    mm    mm    mm kg/ha kg/ha  kg/ha t/ha\n",
      "  1 PT   1  40 -99  4916  3552     3    36   107    38     0   -99      0  211\n",
      "C:\\Users\\MELANI~1\\AppData\\Local\\Temp\\dssatfbrnjsgo and its content has been removed.\n",
      "TWAD: 4916    Sum irrigation: 146.50    Cost: 18.44\n",
      "(23.3,) 18.444949692150182\n",
      "C:\\Users\\MELANI~1\\AppData\\Local\\Temp\\dssatkzjrqonv created.\n",
      "Static files copied to C:\\Users\\MELANI~1\\AppData\\Local\\Temp\\dssatkzjrqonv.\n",
      "RUN    TRT FLO MAT TOPWT HARWT  RAIN  TIRR   CET  PESW  TNUP  TNLF   TSON TSOC\n",
      "           dap dap kg/ha kg/ha    mm    mm    mm    mm kg/ha kg/ha  kg/ha t/ha\n",
      "  1 PT   1  40 -99  6557  5167     3    54   120    43     0   -99      0  211\n",
      "C:\\Users\\MELANI~1\\AppData\\Local\\Temp\\dssatkzjrqonv and its content has been removed.\n",
      "TWAD: 6557    Sum irrigation: 164.70    Cost: 19.09\n",
      "(41.5,) 19.08969967962488\n",
      "C:\\Users\\MELANI~1\\AppData\\Local\\Temp\\dssatoanehvkm created.\n",
      "Static files copied to C:\\Users\\MELANI~1\\AppData\\Local\\Temp\\dssatoanehvkm.\n",
      "RUN    TRT FLO MAT TOPWT HARWT  RAIN  TIRR   CET  PESW  TNUP  TNLF   TSON TSOC\n",
      "           dap dap kg/ha kg/ha    mm    mm    mm    mm kg/ha kg/ha  kg/ha t/ha\n",
      "  1 PT   1  40 -99  5919  4544     3    47   114    41     0   -99      0  211\n",
      "C:\\Users\\MELANI~1\\AppData\\Local\\Temp\\dssatoanehvkm and its content has been removed.\n",
      "TWAD: 5919    Sum irrigation: 157.80    Cost: 18.30\n",
      "(34.6,) 18.30443430380228\n",
      "C:\\Users\\MELANI~1\\AppData\\Local\\Temp\\dssatxhotybcn created.\n",
      "Static files copied to C:\\Users\\MELANI~1\\AppData\\Local\\Temp\\dssatxhotybcn.\n",
      "RUN    TRT FLO MAT TOPWT HARWT  RAIN  TIRR   CET  PESW  TNUP  TNLF   TSON TSOC\n",
      "           dap dap kg/ha kg/ha    mm    mm    mm    mm kg/ha kg/ha  kg/ha t/ha\n",
      "  1 PT   1  40 -99  5652  4277     3    44   112    40     0   -99      0  211\n",
      "C:\\Users\\MELANI~1\\AppData\\Local\\Temp\\dssatxhotybcn and its content has been removed.\n",
      "TWAD: 5652    Sum irrigation: 154.30    Cost: 18.02\n",
      "(31.1,) 18.02311916590956\n",
      "C:\\Users\\MELANI~1\\AppData\\Local\\Temp\\dssatcolmwwtm created.\n",
      "Static files copied to C:\\Users\\MELANI~1\\AppData\\Local\\Temp\\dssatcolmwwtm.\n",
      "RUN    TRT FLO MAT TOPWT HARWT  RAIN  TIRR   CET  PESW  TNUP  TNLF   TSON TSOC\n",
      "           dap dap kg/ha kg/ha    mm    mm    mm    mm kg/ha kg/ha  kg/ha t/ha\n",
      "  1 PT   1  40 -99  4721  3364     3    34   105    37     0   -99      0  211\n",
      "C:\\Users\\MELANI~1\\AppData\\Local\\Temp\\dssatcolmwwtm and its content has been removed.\n",
      "TWAD: 4721    Sum irrigation: 145.10    Cost: 18.86\n",
      "(21.900000000000002,) 18.86399879145122\n",
      "C:\\Users\\MELANI~1\\AppData\\Local\\Temp\\dssatpybktvxl created.\n",
      "Static files copied to C:\\Users\\MELANI~1\\AppData\\Local\\Temp\\dssatpybktvxl.\n",
      "RUN    TRT FLO MAT TOPWT HARWT  RAIN  TIRR   CET  PESW  TNUP  TNLF   TSON TSOC\n",
      "           dap dap kg/ha kg/ha    mm    mm    mm    mm kg/ha kg/ha  kg/ha t/ha\n",
      "  1 PT   1  40 -99  6557  5167     3    54   120    43     0   -99      0  211\n",
      "C:\\Users\\MELANI~1\\AppData\\Local\\Temp\\dssatpybktvxl and its content has been removed.\n",
      "TWAD: 6557    Sum irrigation: 164.90    Cost: 19.16\n",
      "(41.7,) 19.15625967962488\n",
      "C:\\Users\\MELANI~1\\AppData\\Local\\Temp\\dssathhbpjdyd created.\n",
      "Static files copied to C:\\Users\\MELANI~1\\AppData\\Local\\Temp\\dssathhbpjdyd.\n",
      "RUN    TRT FLO MAT TOPWT HARWT  RAIN  TIRR   CET  PESW  TNUP  TNLF   TSON TSOC\n",
      "           dap dap kg/ha kg/ha    mm    mm    mm    mm kg/ha kg/ha  kg/ha t/ha\n",
      "  1 PT   1  40 -99  6557  5167     3    54   120    43     0   -99      0  211\n",
      "C:\\Users\\MELANI~1\\AppData\\Local\\Temp\\dssathhbpjdyd and its content has been removed.\n",
      "TWAD: 6557    Sum irrigation: 164.60    Cost: 19.06\n",
      "(41.400000000000006,) 19.056539679624876\n",
      "C:\\Users\\MELANI~1\\AppData\\Local\\Temp\\dssatpuebmouy created.\n",
      "Static files copied to C:\\Users\\MELANI~1\\AppData\\Local\\Temp\\dssatpuebmouy.\n",
      "RUN    TRT FLO MAT TOPWT HARWT  RAIN  TIRR   CET  PESW  TNUP  TNLF   TSON TSOC\n",
      "           dap dap kg/ha kg/ha    mm    mm    mm    mm kg/ha kg/ha  kg/ha t/ha\n",
      "  1 PT   1  40 -99  3635  2302     3    20    95    34     0   -99      0  211\n",
      "C:\\Users\\MELANI~1\\AppData\\Local\\Temp\\dssatpuebmouy and its content has been removed.\n",
      "TWAD: 3635    Sum irrigation: 130.50    Cost: 22.22\n",
      "(7.300000000000001,) 22.2214070403722\n",
      "C:\\Users\\MELANI~1\\AppData\\Local\\Temp\\dssatavanxrwi created.\n",
      "Static files copied to C:\\Users\\MELANI~1\\AppData\\Local\\Temp\\dssatavanxrwi.\n",
      "RUN    TRT FLO MAT TOPWT HARWT  RAIN  TIRR   CET  PESW  TNUP  TNLF   TSON TSOC\n",
      "           dap dap kg/ha kg/ha    mm    mm    mm    mm kg/ha kg/ha  kg/ha t/ha\n",
      "  1 PT   1  40 -99  4379  3005     3    30   103    36     0   -99      0  211\n",
      "C:\\Users\\MELANI~1\\AppData\\Local\\Temp\\dssatavanxrwi and its content has been removed.\n",
      "TWAD: 4379    Sum irrigation: 140.90    Cost: 19.52\n",
      "(17.7,) 19.522167017810684\n",
      "C:\\Users\\MELANI~1\\AppData\\Local\\Temp\\dssataytkzrad created.\n",
      "Static files copied to C:\\Users\\MELANI~1\\AppData\\Local\\Temp\\dssataytkzrad.\n",
      "RUN    TRT FLO MAT TOPWT HARWT  RAIN  TIRR   CET  PESW  TNUP  TNLF   TSON TSOC\n",
      "           dap dap kg/ha kg/ha    mm    mm    mm    mm kg/ha kg/ha  kg/ha t/ha\n",
      "  1 PT   1  40 -99  5470  4098     3    42   111    39     0   -99      0  211\n",
      "C:\\Users\\MELANI~1\\AppData\\Local\\Temp\\dssataytkzrad and its content has been removed.\n",
      "TWAD: 5470    Sum irrigation: 153.00    Cost: 18.18\n",
      "(29.8,) 18.177385845479733\n",
      "C:\\Users\\MELANI~1\\AppData\\Local\\Temp\\dssatfyggpnho created.\n",
      "Static files copied to C:\\Users\\MELANI~1\\AppData\\Local\\Temp\\dssatfyggpnho.\n",
      "RUN    TRT FLO MAT TOPWT HARWT  RAIN  TIRR   CET  PESW  TNUP  TNLF   TSON TSOC\n",
      "           dap dap kg/ha kg/ha    mm    mm    mm    mm kg/ha kg/ha  kg/ha t/ha\n",
      "  1 PT   1  40 -99  5988  4610     3    48   115    41     0   -99      0  211\n",
      "C:\\Users\\MELANI~1\\AppData\\Local\\Temp\\dssatfyggpnho and its content has been removed.\n",
      "TWAD: 5988    Sum irrigation: 158.20    Cost: 18.26\n",
      "(35.0,) 18.260051209076284\n",
      "C:\\Users\\MELANI~1\\AppData\\Local\\Temp\\dssatnuugjslm created.\n",
      "Static files copied to C:\\Users\\MELANI~1\\AppData\\Local\\Temp\\dssatnuugjslm.\n",
      "RUN    TRT FLO MAT TOPWT HARWT  RAIN  TIRR   CET  PESW  TNUP  TNLF   TSON TSOC\n",
      "           dap dap kg/ha kg/ha    mm    mm    mm    mm kg/ha kg/ha  kg/ha t/ha\n",
      "  1 PT   1  40 -99  3550  2215     3    19    94    33     0   -99      0  211\n",
      "C:\\Users\\MELANI~1\\AppData\\Local\\Temp\\dssatnuugjslm and its content has been removed.\n",
      "TWAD: 3550    Sum irrigation: 129.40    Cost: 22.69\n",
      "(6.2,) 22.688964919660584\n",
      "C:\\Users\\MELANI~1\\AppData\\Local\\Temp\\dssatsfgocjvi created.\n",
      "Static files copied to C:\\Users\\MELANI~1\\AppData\\Local\\Temp\\dssatsfgocjvi.\n",
      "RUN    TRT FLO MAT TOPWT HARWT  RAIN  TIRR   CET  PESW  TNUP  TNLF   TSON TSOC\n",
      "           dap dap kg/ha kg/ha    mm    mm    mm    mm kg/ha kg/ha  kg/ha t/ha\n",
      "  1 PT   1  40 -99  6938  5536     3    58   123    44     0   -99      0  211\n",
      "C:\\Users\\MELANI~1\\AppData\\Local\\Temp\\dssatsfgocjvi and its content has been removed.\n",
      "TWAD: 6938    Sum irrigation: 168.40    Cost: 19.70\n",
      "(45.2,) 19.702858828091838\n",
      "C:\\Users\\MELANI~1\\AppData\\Local\\Temp\\dssatrnhklono created.\n",
      "Static files copied to C:\\Users\\MELANI~1\\AppData\\Local\\Temp\\dssatrnhklono.\n",
      "RUN    TRT FLO MAT TOPWT HARWT  RAIN  TIRR   CET  PESW  TNUP  TNLF   TSON TSOC\n",
      "           dap dap kg/ha kg/ha    mm    mm    mm    mm kg/ha kg/ha  kg/ha t/ha\n",
      "  1 PT   1  40 -99  5470  4098     3    42   111    39     0   -99      0  211\n",
      "C:\\Users\\MELANI~1\\AppData\\Local\\Temp\\dssatrnhklono and its content has been removed.\n",
      "TWAD: 5470    Sum irrigation: 152.20    Cost: 17.99\n",
      "(29.0,) 17.989225845479734\n",
      "C:\\Users\\MELANI~1\\AppData\\Local\\Temp\\dssatdlkcphqp created.\n",
      "Static files copied to C:\\Users\\MELANI~1\\AppData\\Local\\Temp\\dssatdlkcphqp.\n",
      "RUN    TRT FLO MAT TOPWT HARWT  RAIN  TIRR   CET  PESW  TNUP  TNLF   TSON TSOC\n",
      "           dap dap kg/ha kg/ha    mm    mm    mm    mm kg/ha kg/ha  kg/ha t/ha\n",
      "  1 PT   1  40 -99  5652  4277     3    44   112    40     0   -99      0  211\n",
      "C:\\Users\\MELANI~1\\AppData\\Local\\Temp\\dssatdlkcphqp and its content has been removed.\n",
      "TWAD: 5652    Sum irrigation: 154.60    Cost: 18.10\n",
      "(31.400000000000002,) 18.09811916590956\n",
      "C:\\Users\\MELANI~1\\AppData\\Local\\Temp\\dssatmmihaibf created.\n",
      "Static files copied to C:\\Users\\MELANI~1\\AppData\\Local\\Temp\\dssatmmihaibf.\n",
      "RUN    TRT FLO MAT TOPWT HARWT  RAIN  TIRR   CET  PESW  TNUP  TNLF   TSON TSOC\n",
      "           dap dap kg/ha kg/ha    mm    mm    mm    mm kg/ha kg/ha  kg/ha t/ha\n",
      "  1 PT   1  40 -99  5825  4449     3    46   114    40     0   -99      0  211\n",
      "C:\\Users\\MELANI~1\\AppData\\Local\\Temp\\dssatmmihaibf and its content has been removed.\n",
      "TWAD: 5825    Sum irrigation: 157.10    Cost: 18.33\n",
      "(33.9,) 18.330743221647513\n",
      "C:\\Users\\MELANI~1\\AppData\\Local\\Temp\\dssatndyvhfig created.\n",
      "Static files copied to C:\\Users\\MELANI~1\\AppData\\Local\\Temp\\dssatndyvhfig.\n",
      "RUN    TRT FLO MAT TOPWT HARWT  RAIN  TIRR   CET  PESW  TNUP  TNLF   TSON TSOC\n",
      "           dap dap kg/ha kg/ha    mm    mm    mm    mm kg/ha kg/ha  kg/ha t/ha\n",
      "  1 PT   1  40 -99  5825  4449     3    46   114    40     0   -99      0  211\n",
      "C:\\Users\\MELANI~1\\AppData\\Local\\Temp\\dssatndyvhfig and its content has been removed.\n",
      "TWAD: 5825    Sum irrigation: 156.70    Cost: 18.22\n",
      "(33.5,) 18.222903221647513\n",
      "C:\\Users\\MELANI~1\\AppData\\Local\\Temp\\dssatoyriefrc created.\n",
      "Static files copied to C:\\Users\\MELANI~1\\AppData\\Local\\Temp\\dssatoyriefrc.\n",
      "RUN    TRT FLO MAT TOPWT HARWT  RAIN  TIRR   CET  PESW  TNUP  TNLF   TSON TSOC\n",
      "           dap dap kg/ha kg/ha    mm    mm    mm    mm kg/ha kg/ha  kg/ha t/ha\n",
      "  1 PT   1  40 -99  5825  4449     3    46   114    40     0   -99      0  211\n",
      "C:\\Users\\MELANI~1\\AppData\\Local\\Temp\\dssatoyriefrc and its content has been removed.\n",
      "TWAD: 5825    Sum irrigation: 156.70    Cost: 18.22\n",
      "(33.5,) 18.222903221647513\n",
      "C:\\Users\\MELANI~1\\AppData\\Local\\Temp\\dssatwcevtkyr created.\n",
      "Static files copied to C:\\Users\\MELANI~1\\AppData\\Local\\Temp\\dssatwcevtkyr.\n",
      "RUN    TRT FLO MAT TOPWT HARWT  RAIN  TIRR   CET  PESW  TNUP  TNLF   TSON TSOC\n",
      "           dap dap kg/ha kg/ha    mm    mm    mm    mm kg/ha kg/ha  kg/ha t/ha\n",
      "  1 PT   1  40 -99  4916  3552     3    36   107    38     0   -99      0  211\n",
      "C:\\Users\\MELANI~1\\AppData\\Local\\Temp\\dssatwcevtkyr and its content has been removed.\n",
      "TWAD: 4916    Sum irrigation: 147.10    Cost: 18.56\n",
      "(23.900000000000002,) 18.55822969215018\n",
      "C:\\Users\\MELANI~1\\AppData\\Local\\Temp\\dssatwjzwlpfb created.\n",
      "Static files copied to C:\\Users\\MELANI~1\\AppData\\Local\\Temp\\dssatwjzwlpfb.\n",
      "RUN    TRT FLO MAT TOPWT HARWT  RAIN  TIRR   CET  PESW  TNUP  TNLF   TSON TSOC\n",
      "           dap dap kg/ha kg/ha    mm    mm    mm    mm kg/ha kg/ha  kg/ha t/ha\n",
      "  1 PT   1  40 -99  6192  4815     3    50   117    42     0   -99      0  211\n",
      "C:\\Users\\MELANI~1\\AppData\\Local\\Temp\\dssatwjzwlpfb and its content has been removed.\n",
      "TWAD: 6192    Sum irrigation: 160.20    Cost: 18.40\n",
      "(37.0,) 18.395894554280595\n",
      "C:\\Users\\MELANI~1\\AppData\\Local\\Temp\\dssathnvuirxg created.\n",
      "Static files copied to C:\\Users\\MELANI~1\\AppData\\Local\\Temp\\dssathnvuirxg.\n",
      "RUN    TRT FLO MAT TOPWT HARWT  RAIN  TIRR   CET  PESW  TNUP  TNLF   TSON TSOC\n",
      "           dap dap kg/ha kg/ha    mm    mm    mm    mm kg/ha kg/ha  kg/ha t/ha\n",
      "  1 PT   1  40 -99  4649  3283     3    33   105    37     0   -99      0  211\n",
      "C:\\Users\\MELANI~1\\AppData\\Local\\Temp\\dssathnvuirxg and its content has been removed.\n",
      "TWAD: 4649    Sum irrigation: 143.30    Cost: 18.82\n",
      "(20.1,) 18.824038019359428\n",
      "C:\\Users\\MELANI~1\\AppData\\Local\\Temp\\dssatemhywnkq created.\n",
      "Static files copied to C:\\Users\\MELANI~1\\AppData\\Local\\Temp\\dssatemhywnkq.\n",
      "RUN    TRT FLO MAT TOPWT HARWT  RAIN  TIRR   CET  PESW  TNUP  TNLF   TSON TSOC\n",
      "           dap dap kg/ha kg/ha    mm    mm    mm    mm kg/ha kg/ha  kg/ha t/ha\n",
      "  1 PT   1  40 -99  4649  3283     3    33   105    37     0   -99      0  211\n",
      "C:\\Users\\MELANI~1\\AppData\\Local\\Temp\\dssatemhywnkq and its content has been removed.\n",
      "TWAD: 4649    Sum irrigation: 143.70    Cost: 18.89\n",
      "(20.5,) 18.888998019359427\n",
      "Execution time: 189.9\n",
      "The optimal values are (29.0,)\n"
     ]
    },
    {
     "data": {
      "text/plain": [
       "(29.0,)"
      ]
     },
     "execution_count": 4,
     "metadata": {},
     "output_type": "execute_result"
    }
   ],
   "source": [
    "# dates = ['8-07-2022', '14-07-2022', '20-07-2022', '25-07-2022']\n",
    "dates = ['8-07-2022']\n",
    "dssat.optimization_irri(dates)\n",
    "\n",
    "# Execution time: 345.98\n",
    "# The optimal values are (29.0)"
   ]
  },
  {
   "cell_type": "code",
   "execution_count": 24,
   "metadata": {},
   "outputs": [
    {
     "name": "stdout",
     "output_type": "stream",
     "text": [
      "C:\\Users\\MELANI~1\\AppData\\Local\\Temp\\dssatbbllwgoe created.\n",
      "Static files copied to C:\\Users\\MELANI~1\\AppData\\Local\\Temp\\dssatbbllwgoe.\n",
      "RUN    TRT FLO MAT TOPWT HARWT  RAIN  TIRR   CET  PESW  TNUP  TNLF   TSON TSOC\n",
      "           dap dap kg/ha kg/ha    mm    mm    mm    mm kg/ha kg/ha  kg/ha t/ha\n",
      "  1 PT   1  40 -99  4649  3283     3    33   105    37     0   -99      0  211\n",
      "Output model save in attribute new_output\n",
      "C:\\Users\\MELANI~1\\AppData\\Local\\Temp\\dssatbbllwgoe and its content has been removed.\n",
      "TWAD: 4649    Sum irrigation: 143.70    Cost: 18.89\n"
     ]
    }
   ],
   "source": [
    "dates = ['8-07-2022']\n",
    "dssat.next_dates = dates\n",
    "\n",
    "dssat.irri_cost([20.5], save=True)\n",
    "out1 = dssat.new_output"
   ]
  },
  {
   "cell_type": "code",
   "execution_count": 8,
   "metadata": {},
   "outputs": [
    {
     "name": "stdout",
     "output_type": "stream",
     "text": [
      "C:\\Users\\MELANI~1\\AppData\\Local\\Temp\\dssatdrssarle created.\n",
      "Static files copied to C:\\Users\\MELANI~1\\AppData\\Local\\Temp\\dssatdrssarle.\n",
      "RUN    TRT FLO MAT TOPWT HARWT  RAIN  TIRR   CET  PESW  TNUP  TNLF   TSON TSOC\n",
      "           dap dap kg/ha kg/ha    mm    mm    mm    mm kg/ha kg/ha  kg/ha t/ha\n",
      "  1 PT   1  40 -99  7391  5990     3    63   127    44     0   -99      0  211\n",
      "C:\\Users\\MELANI~1\\AppData\\Local\\Temp\\dssatdrssarle and its content has been removed.\n",
      "TWAD: 7391    Sum irrigation: 173.20    Cost: 13.32\n",
      "(25.0, 25.0) 13.323973640376993\n",
      "C:\\Users\\MELANI~1\\AppData\\Local\\Temp\\dssatdovabwnr created.\n",
      "Static files copied to C:\\Users\\MELANI~1\\AppData\\Local\\Temp\\dssatdovabwnr.\n",
      "RUN    TRT FLO MAT TOPWT HARWT  RAIN  TIRR   CET  PESW  TNUP  TNLF   TSON TSOC\n",
      "           dap dap kg/ha kg/ha    mm    mm    mm    mm kg/ha kg/ha  kg/ha t/ha\n",
      "  1 PT   1  40 -99  5724  4320     3    44   114    38     0   -99      0  211\n",
      "C:\\Users\\MELANI~1\\AppData\\Local\\Temp\\dssatdovabwnr and its content has been removed.\n",
      "TWAD: 5724    Sum irrigation: 154.30    Cost: 14.94\n",
      "(6.1000000000000005, 25.0) 14.943447949643963\n",
      "C:\\Users\\MELANI~1\\AppData\\Local\\Temp\\dssatsgndoghw created.\n",
      "Static files copied to C:\\Users\\MELANI~1\\AppData\\Local\\Temp\\dssatsgndoghw.\n",
      "RUN    TRT FLO MAT TOPWT HARWT  RAIN  TIRR   CET  PESW  TNUP  TNLF   TSON TSOC\n",
      "           dap dap kg/ha kg/ha    mm    mm    mm    mm kg/ha kg/ha  kg/ha t/ha\n",
      "  1 PT   1  40 -99  8409  6943     3    73   135    46     0   -99      0  211\n",
      "C:\\Users\\MELANI~1\\AppData\\Local\\Temp\\dssatsgndoghw and its content has been removed.\n",
      "TWAD: 8409    Sum irrigation: 184.10    Cost: 13.22\n",
      "(25.0, 35.9) 13.222425232059075\n",
      "C:\\Users\\MELANI~1\\AppData\\Local\\Temp\\dssatfzujxuts created.\n",
      "Static files copied to C:\\Users\\MELANI~1\\AppData\\Local\\Temp\\dssatfzujxuts.\n",
      "RUN    TRT FLO MAT TOPWT HARWT  RAIN  TIRR   CET  PESW  TNUP  TNLF   TSON TSOC\n",
      "           dap dap kg/ha kg/ha    mm    mm    mm    mm kg/ha kg/ha  kg/ha t/ha\n",
      "  1 PT   1  40 -99  8906  7398     3    78   139    47     0   -99      0  211\n",
      "C:\\Users\\MELANI~1\\AppData\\Local\\Temp\\dssatfzujxuts and its content has been removed.\n",
      "TWAD: 8906    Sum irrigation: 188.60    Cost: 13.26\n",
      "(25.0, 40.400000000000006) 13.259867277935406\n",
      "C:\\Users\\MELANI~1\\AppData\\Local\\Temp\\dssatoyddojpu created.\n",
      "Static files copied to C:\\Users\\MELANI~1\\AppData\\Local\\Temp\\dssatoyddojpu.\n",
      "RUN    TRT FLO MAT TOPWT HARWT  RAIN  TIRR   CET  PESW  TNUP  TNLF   TSON TSOC\n",
      "           dap dap kg/ha kg/ha    mm    mm    mm    mm kg/ha kg/ha  kg/ha t/ha\n",
      "  1 PT   1  40 -99  9465  7901     3    84   144    48     0   -99      0  211\n",
      "C:\\Users\\MELANI~1\\AppData\\Local\\Temp\\dssatoyddojpu and its content has been removed.\n",
      "TWAD: 9465    Sum irrigation: 196.00    Cost: 13.75\n",
      "(36.9, 35.9) 13.7520313943802\n",
      "C:\\Users\\MELANI~1\\AppData\\Local\\Temp\\dssatdbqxvbhy created.\n",
      "Static files copied to C:\\Users\\MELANI~1\\AppData\\Local\\Temp\\dssatdbqxvbhy.\n",
      "RUN    TRT FLO MAT TOPWT HARWT  RAIN  TIRR   CET  PESW  TNUP  TNLF   TSON TSOC\n",
      "           dap dap kg/ha kg/ha    mm    mm    mm    mm kg/ha kg/ha  kg/ha t/ha\n",
      "  1 PT   1  40 -99  6882  5499     3    57   122    43     0   -99      0  211\n",
      "C:\\Users\\MELANI~1\\AppData\\Local\\Temp\\dssatdbqxvbhy and its content has been removed.\n",
      "TWAD: 6882    Sum irrigation: 167.70    Cost: 13.60\n",
      "(13.100000000000001, 31.400000000000002) 13.604776064439688\n",
      "C:\\Users\\MELANI~1\\AppData\\Local\\Temp\\dssatfmpvvwah created.\n",
      "Static files copied to C:\\Users\\MELANI~1\\AppData\\Local\\Temp\\dssatfmpvvwah.\n",
      "RUN    TRT FLO MAT TOPWT HARWT  RAIN  TIRR   CET  PESW  TNUP  TNLF   TSON TSOC\n",
      "           dap dap kg/ha kg/ha    mm    mm    mm    mm kg/ha kg/ha  kg/ha t/ha\n",
      "  1 PT   1  40 -99  9790  8196     3    88   147    49     0   -99      0  211\n",
      "C:\\Users\\MELANI~1\\AppData\\Local\\Temp\\dssatfmpvvwah and its content has been removed.\n",
      "TWAD: 9790    Sum irrigation: 199.90    Cost: 14.05\n",
      "(40.800000000000004, 35.9) 14.054492842532909\n",
      "C:\\Users\\MELANI~1\\AppData\\Local\\Temp\\dssatgiecsjan created.\n",
      "Static files copied to C:\\Users\\MELANI~1\\AppData\\Local\\Temp\\dssatgiecsjan.\n",
      "RUN    TRT FLO MAT TOPWT HARWT  RAIN  TIRR   CET  PESW  TNUP  TNLF   TSON TSOC\n",
      "           dap dap kg/ha kg/ha    mm    mm    mm    mm kg/ha kg/ha  kg/ha t/ha\n",
      "  1 PT   1  40 -99  6375  4992     3    52   118    42     0   -99      0  211\n",
      "C:\\Users\\MELANI~1\\AppData\\Local\\Temp\\dssatgiecsjan and its content has been removed.\n",
      "TWAD: 6375    Sum irrigation: 162.90    Cost: 14.13\n",
      "(38.0, 1.7000000000000002) 14.125107639369782\n",
      "C:\\Users\\MELANI~1\\AppData\\Local\\Temp\\dssatahqeslfz created.\n",
      "Static files copied to C:\\Users\\MELANI~1\\AppData\\Local\\Temp\\dssatahqeslfz.\n",
      "RUN    TRT FLO MAT TOPWT HARWT  RAIN  TIRR   CET  PESW  TNUP  TNLF   TSON TSOC\n",
      "           dap dap kg/ha kg/ha    mm    mm    mm    mm kg/ha kg/ha  kg/ha t/ha\n",
      "  1 PT   1  40 -99  7506  6093     3    64   128    45     0   -99      0  211\n",
      "C:\\Users\\MELANI~1\\AppData\\Local\\Temp\\dssatahqeslfz and its content has been removed.\n",
      "TWAD: 7506    Sum irrigation: 175.70    Cost: 13.41\n",
      "(32.6, 19.900000000000002) 13.414388734593826\n",
      "C:\\Users\\MELANI~1\\AppData\\Local\\Temp\\dssatsceezfil created.\n",
      "Static files copied to C:\\Users\\MELANI~1\\AppData\\Local\\Temp\\dssatsceezfil.\n",
      "RUN    TRT FLO MAT TOPWT HARWT  RAIN  TIRR   CET  PESW  TNUP  TNLF   TSON TSOC\n",
      "           dap dap kg/ha kg/ha    mm    mm    mm    mm kg/ha kg/ha  kg/ha t/ha\n",
      "  1 PT   1  40 -99  5933  4609     3    48   116    40     0   -99      0  211\n",
      "C:\\Users\\MELANI~1\\AppData\\Local\\Temp\\dssatsceezfil and its content has been removed.\n",
      "TWAD: 5933    Sum irrigation: 159.40    Cost: 14.79\n",
      "(0.30000000000000004, 35.9) 14.794341317394013\n",
      "C:\\Users\\MELANI~1\\AppData\\Local\\Temp\\dssathflrtitu created.\n",
      "Static files copied to C:\\Users\\MELANI~1\\AppData\\Local\\Temp\\dssathflrtitu.\n",
      "RUN    TRT FLO MAT TOPWT HARWT  RAIN  TIRR   CET  PESW  TNUP  TNLF   TSON TSOC\n",
      "           dap dap kg/ha kg/ha    mm    mm    mm    mm kg/ha kg/ha  kg/ha t/ha\n",
      "  1 PT   1  40 -99  7115  5711     3    60   125    44     0   -99      0  211\n",
      "C:\\Users\\MELANI~1\\AppData\\Local\\Temp\\dssathflrtitu and its content has been removed.\n",
      "TWAD: 7115    Sum irrigation: 170.40    Cost: 13.47\n",
      "(34.1, 13.100000000000001) 13.471689438671898\n",
      "C:\\Users\\MELANI~1\\AppData\\Local\\Temp\\dssatmlhayikp created.\n",
      "Static files copied to C:\\Users\\MELANI~1\\AppData\\Local\\Temp\\dssatmlhayikp.\n",
      "RUN    TRT FLO MAT TOPWT HARWT  RAIN  TIRR   CET  PESW  TNUP  TNLF   TSON TSOC\n",
      "           dap dap kg/ha kg/ha    mm    mm    mm    mm kg/ha kg/ha  kg/ha t/ha\n",
      "  1 PT   1  40 -99  7796  6373     3    67   130    45     0   -99      0  211\n",
      "C:\\Users\\MELANI~1\\AppData\\Local\\Temp\\dssatmlhayikp and its content has been removed.\n",
      "TWAD: 7796    Sum irrigation: 177.40    Cost: 13.20\n",
      "(25.0, 29.200000000000003) 13.19931133636848\n",
      "C:\\Users\\MELANI~1\\AppData\\Local\\Temp\\dssatrltgyehu created.\n",
      "Static files copied to C:\\Users\\MELANI~1\\AppData\\Local\\Temp\\dssatrltgyehu.\n",
      "RUN    TRT FLO MAT TOPWT HARWT  RAIN  TIRR   CET  PESW  TNUP  TNLF   TSON TSOC\n",
      "           dap dap kg/ha kg/ha    mm    mm    mm    mm kg/ha kg/ha  kg/ha t/ha\n",
      "  1 PT   1  40 -99  5391  4066     3    42   112    39     0   -99      0  211\n",
      "C:\\Users\\MELANI~1\\AppData\\Local\\Temp\\dssatrltgyehu and its content has been removed.\n",
      "TWAD: 5391    Sum irrigation: 153.20    Cost: 15.74\n",
      "(0.8, 29.200000000000003) 15.739544641152914\n",
      "C:\\Users\\MELANI~1\\AppData\\Local\\Temp\\dssatnqoapnud created.\n",
      "Static files copied to C:\\Users\\MELANI~1\\AppData\\Local\\Temp\\dssatnqoapnud.\n",
      "RUN    TRT FLO MAT TOPWT HARWT  RAIN  TIRR   CET  PESW  TNUP  TNLF   TSON TSOC\n",
      "           dap dap kg/ha kg/ha    mm    mm    mm    mm kg/ha kg/ha  kg/ha t/ha\n",
      "  1 PT   1  40 -99  7683  6267     3    66   129    45     0   -99      0  211\n",
      "C:\\Users\\MELANI~1\\AppData\\Local\\Temp\\dssatnqoapnud and its content has been removed.\n",
      "TWAD: 7683    Sum irrigation: 176.50    Cost: 13.25\n",
      "(24.1, 29.200000000000003) 13.253487889808943\n",
      "C:\\Users\\MELANI~1\\AppData\\Local\\Temp\\dssatfmzqypzs created.\n",
      "Static files copied to C:\\Users\\MELANI~1\\AppData\\Local\\Temp\\dssatfmzqypzs.\n",
      "RUN    TRT FLO MAT TOPWT HARWT  RAIN  TIRR   CET  PESW  TNUP  TNLF   TSON TSOC\n",
      "           dap dap kg/ha kg/ha    mm    mm    mm    mm kg/ha kg/ha  kg/ha t/ha\n",
      "  1 PT   1  40 -99  9713  8127     3    87   147    49     0   -99      0  211\n",
      "C:\\Users\\MELANI~1\\AppData\\Local\\Temp\\dssatfmzqypzs and its content has been removed.\n",
      "TWAD: 9713    Sum irrigation: 197.60    Cost: 13.77\n",
      "(35.2, 39.2) 13.77174337934898\n",
      "C:\\Users\\MELANI~1\\AppData\\Local\\Temp\\dssatzzdsgnwa created.\n",
      "Static files copied to C:\\Users\\MELANI~1\\AppData\\Local\\Temp\\dssatzzdsgnwa.\n",
      "RUN    TRT FLO MAT TOPWT HARWT  RAIN  TIRR   CET  PESW  TNUP  TNLF   TSON TSOC\n",
      "           dap dap kg/ha kg/ha    mm    mm    mm    mm kg/ha kg/ha  kg/ha t/ha\n",
      "  1 PT   1  40 -99  7774  6339     3    67   130    45     0   -99      0  211\n",
      "C:\\Users\\MELANI~1\\AppData\\Local\\Temp\\dssatzzdsgnwa and its content has been removed.\n",
      "TWAD: 7774    Sum irrigation: 178.00    Cost: 13.29\n",
      "(42.5, 12.3) 13.293751308115343\n",
      "C:\\Users\\MELANI~1\\AppData\\Local\\Temp\\dssatwnibjjdo created.\n",
      "Static files copied to C:\\Users\\MELANI~1\\AppData\\Local\\Temp\\dssatwnibjjdo.\n",
      "RUN    TRT FLO MAT TOPWT HARWT  RAIN  TIRR   CET  PESW  TNUP  TNLF   TSON TSOC\n",
      "           dap dap kg/ha kg/ha    mm    mm    mm    mm kg/ha kg/ha  kg/ha t/ha\n",
      "  1 PT   1  40 -99  8611  7128     3    75   137    46     0   -99      0  211\n",
      "C:\\Users\\MELANI~1\\AppData\\Local\\Temp\\dssatwnibjjdo and its content has been removed.\n",
      "TWAD: 8611    Sum irrigation: 185.30    Cost: 13.15\n",
      "(25.0, 37.1) 13.146851378418143\n",
      "C:\\Users\\MELANI~1\\AppData\\Local\\Temp\\dssatjlzqhaea created.\n",
      "Static files copied to C:\\Users\\MELANI~1\\AppData\\Local\\Temp\\dssatjlzqhaea.\n",
      "RUN    TRT FLO MAT TOPWT HARWT  RAIN  TIRR   CET  PESW  TNUP  TNLF   TSON TSOC\n",
      "           dap dap kg/ha kg/ha    mm    mm    mm    mm kg/ha kg/ha  kg/ha t/ha\n",
      "  1 PT   1  40 -99  9594  8024     3    85   145    48     0   -99      0  211\n",
      "C:\\Users\\MELANI~1\\AppData\\Local\\Temp\\dssatjlzqhaea and its content has been removed.\n",
      "TWAD: 9594    Sum irrigation: 195.90    Cost: 13.62\n",
      "(25.0, 47.7) 13.623834054769222\n",
      "C:\\Users\\MELANI~1\\AppData\\Local\\Temp\\dssatkgzqfvdy created.\n",
      "Static files copied to C:\\Users\\MELANI~1\\AppData\\Local\\Temp\\dssatkgzqfvdy.\n",
      "RUN    TRT FLO MAT TOPWT HARWT  RAIN  TIRR   CET  PESW  TNUP  TNLF   TSON TSOC\n",
      "           dap dap kg/ha kg/ha    mm    mm    mm    mm kg/ha kg/ha  kg/ha t/ha\n",
      "  1 PT   1  40 -99  8994  7476     3    79   140    47     0   -99      0  211\n",
      "C:\\Users\\MELANI~1\\AppData\\Local\\Temp\\dssatkgzqfvdy and its content has been removed.\n",
      "TWAD: 8994    Sum irrigation: 189.30    Cost: 13.26\n",
      "(29.0, 37.1) 13.264027779095198\n",
      "C:\\Users\\MELANI~1\\AppData\\Local\\Temp\\dssatdmyomxim created.\n",
      "Static files copied to C:\\Users\\MELANI~1\\AppData\\Local\\Temp\\dssatdmyomxim.\n",
      "RUN    TRT FLO MAT TOPWT HARWT  RAIN  TIRR   CET  PESW  TNUP  TNLF   TSON TSOC\n",
      "           dap dap kg/ha kg/ha    mm    mm    mm    mm kg/ha kg/ha  kg/ha t/ha\n",
      "  1 PT   1  40 -99  9194  7656     3    81   142    47     0   -99      0  211\n",
      "C:\\Users\\MELANI~1\\AppData\\Local\\Temp\\dssatdmyomxim and its content has been removed.\n",
      "TWAD: 9194    Sum irrigation: 191.60    Cost: 13.38\n",
      "(31.3, 37.1) 13.379886005946705\n",
      "C:\\Users\\MELANI~1\\AppData\\Local\\Temp\\dssatmohxtoou created.\n",
      "Static files copied to C:\\Users\\MELANI~1\\AppData\\Local\\Temp\\dssatmohxtoou.\n",
      "RUN    TRT FLO MAT TOPWT HARWT  RAIN  TIRR   CET  PESW  TNUP  TNLF   TSON TSOC\n",
      "           dap dap kg/ha kg/ha    mm    mm    mm    mm kg/ha kg/ha  kg/ha t/ha\n",
      "  1 PT   1  40 -99  7673  6246     3    66   129    45     0   -99      0  211\n",
      "C:\\Users\\MELANI~1\\AppData\\Local\\Temp\\dssatmohxtoou and its content has been removed.\n",
      "TWAD: 7673    Sum irrigation: 176.90    Cost: 13.31\n",
      "(42.5, 11.200000000000001) 13.309858327099136\n",
      "C:\\Users\\MELANI~1\\AppData\\Local\\Temp\\dssatynqazicf created.\n",
      "Static files copied to C:\\Users\\MELANI~1\\AppData\\Local\\Temp\\dssatynqazicf.\n",
      "RUN    TRT FLO MAT TOPWT HARWT  RAIN  TIRR   CET  PESW  TNUP  TNLF   TSON TSOC\n",
      "           dap dap kg/ha kg/ha    mm    mm    mm    mm kg/ha kg/ha  kg/ha t/ha\n",
      "  1 PT   1  40 -99  8994  7476     3    79   140    47     0   -99      0  211\n",
      "C:\\Users\\MELANI~1\\AppData\\Local\\Temp\\dssatynqazicf and its content has been removed.\n",
      "TWAD: 8994    Sum irrigation: 189.30    Cost: 13.26\n",
      "(29.0, 37.1) 13.264027779095198\n",
      "C:\\Users\\MELANI~1\\AppData\\Local\\Temp\\dssatgpnnlcqa created.\n",
      "Static files copied to C:\\Users\\MELANI~1\\AppData\\Local\\Temp\\dssatgpnnlcqa.\n",
      "RUN    TRT FLO MAT TOPWT HARWT  RAIN  TIRR   CET  PESW  TNUP  TNLF   TSON TSOC\n",
      "           dap dap kg/ha kg/ha    mm    mm    mm    mm kg/ha kg/ha  kg/ha t/ha\n",
      "  1 PT   1  40 -99  8603  7117     3    75   137    46     0   -99      0  211\n",
      "C:\\Users\\MELANI~1\\AppData\\Local\\Temp\\dssatgpnnlcqa and its content has been removed.\n",
      "TWAD: 8603    Sum irrigation: 185.50    Cost: 13.18\n",
      "(29.0, 33.300000000000004) 13.180370634769192\n",
      "C:\\Users\\MELANI~1\\AppData\\Local\\Temp\\dssattoqpqzir created.\n",
      "Static files copied to C:\\Users\\MELANI~1\\AppData\\Local\\Temp\\dssattoqpqzir.\n",
      "RUN    TRT FLO MAT TOPWT HARWT  RAIN  TIRR   CET  PESW  TNUP  TNLF   TSON TSOC\n",
      "           dap dap kg/ha kg/ha    mm    mm    mm    mm kg/ha kg/ha  kg/ha t/ha\n",
      "  1 PT   1  40 -99  7412  6007     3    63   127    44     0   -99      0  211\n",
      "C:\\Users\\MELANI~1\\AppData\\Local\\Temp\\dssattoqpqzir and its content has been removed.\n",
      "TWAD: 7412    Sum irrigation: 173.90    Cost: 13.36\n",
      "(29.0, 21.700000000000003) 13.36379669275409\n",
      "C:\\Users\\MELANI~1\\AppData\\Local\\Temp\\dssathixcnnip created.\n",
      "Static files copied to C:\\Users\\MELANI~1\\AppData\\Local\\Temp\\dssathixcnnip.\n",
      "RUN    TRT FLO MAT TOPWT HARWT  RAIN  TIRR   CET  PESW  TNUP  TNLF   TSON TSOC\n",
      "           dap dap kg/ha kg/ha    mm    mm    mm    mm kg/ha kg/ha  kg/ha t/ha\n",
      "  1 PT   1  40 -99  7007  5614     3    58   123    43     0   -99      0  211\n",
      "C:\\Users\\MELANI~1\\AppData\\Local\\Temp\\dssathixcnnip and its content has been removed.\n",
      "TWAD: 7007    Sum irrigation: 169.10    Cost: 13.52\n",
      "(8.8, 37.1) 13.523962644904719\n",
      "C:\\Users\\MELANI~1\\AppData\\Local\\Temp\\dssatavkciudz created.\n",
      "Static files copied to C:\\Users\\MELANI~1\\AppData\\Local\\Temp\\dssatavkciudz.\n",
      "RUN    TRT FLO MAT TOPWT HARWT  RAIN  TIRR   CET  PESW  TNUP  TNLF   TSON TSOC\n",
      "           dap dap kg/ha kg/ha    mm    mm    mm    mm kg/ha kg/ha  kg/ha t/ha\n",
      "  1 PT   1  40 -99  5662  4285     3    44   114    39     0   -99      0  211\n",
      "C:\\Users\\MELANI~1\\AppData\\Local\\Temp\\dssatavkciudz and its content has been removed.\n",
      "TWAD: 5662    Sum irrigation: 155.10    Cost: 15.15\n",
      "(4.6000000000000005, 27.3) 15.146890443433337\n",
      "C:\\Users\\MELANI~1\\AppData\\Local\\Temp\\dssatudnunmli created.\n",
      "Static files copied to C:\\Users\\MELANI~1\\AppData\\Local\\Temp\\dssatudnunmli.\n",
      "RUN    TRT FLO MAT TOPWT HARWT  RAIN  TIRR   CET  PESW  TNUP  TNLF   TSON TSOC\n",
      "           dap dap kg/ha kg/ha    mm    mm    mm    mm kg/ha kg/ha  kg/ha t/ha\n",
      "  1 PT   1  40 -99  7412  6007     3    63   127    44     0   -99      0  211\n",
      "C:\\Users\\MELANI~1\\AppData\\Local\\Temp\\dssatudnunmli and its content has been removed.\n",
      "TWAD: 7412    Sum irrigation: 173.80    Cost: 13.35\n",
      "(29.0, 21.6) 13.353666692754087\n",
      "C:\\Users\\MELANI~1\\AppData\\Local\\Temp\\dssatlqbhhzgf created.\n",
      "Static files copied to C:\\Users\\MELANI~1\\AppData\\Local\\Temp\\dssatlqbhhzgf.\n",
      "RUN    TRT FLO MAT TOPWT HARWT  RAIN  TIRR   CET  PESW  TNUP  TNLF   TSON TSOC\n",
      "           dap dap kg/ha kg/ha    mm    mm    mm    mm kg/ha kg/ha  kg/ha t/ha\n",
      "  1 PT   1  40 -99  9376  7823     3    83   143    48     0   -99      0  211\n",
      "C:\\Users\\MELANI~1\\AppData\\Local\\Temp\\dssatlqbhhzgf and its content has been removed.\n",
      "TWAD: 9376    Sum irrigation: 194.20    Cost: 13.57\n",
      "(33.9, 37.1) 13.573422298163152\n",
      "C:\\Users\\MELANI~1\\AppData\\Local\\Temp\\dssatzmsadjbe created.\n",
      "Static files copied to C:\\Users\\MELANI~1\\AppData\\Local\\Temp\\dssatzmsadjbe.\n",
      "RUN    TRT FLO MAT TOPWT HARWT  RAIN  TIRR   CET  PESW  TNUP  TNLF   TSON TSOC\n",
      "           dap dap kg/ha kg/ha    mm    mm    mm    mm kg/ha kg/ha  kg/ha t/ha\n",
      "  1 PT   1  40 -99  7315  5914     3    62   126    44     0   -99      0  211\n",
      "C:\\Users\\MELANI~1\\AppData\\Local\\Temp\\dssatzmsadjbe and its content has been removed.\n",
      "TWAD: 7315    Sum irrigation: 173.00    Cost: 13.42\n",
      "(21.0, 28.8) 13.416470493994463\n",
      "C:\\Users\\MELANI~1\\AppData\\Local\\Temp\\dssathrjcxpns created.\n",
      "Static files copied to C:\\Users\\MELANI~1\\AppData\\Local\\Temp\\dssathrjcxpns.\n",
      "RUN    TRT FLO MAT TOPWT HARWT  RAIN  TIRR   CET  PESW  TNUP  TNLF   TSON TSOC\n",
      "           dap dap kg/ha kg/ha    mm    mm    mm    mm kg/ha kg/ha  kg/ha t/ha\n",
      "  1 PT   1  40 -99  8317  6851     3    72   134    46     0   -99      0  211\n",
      "C:\\Users\\MELANI~1\\AppData\\Local\\Temp\\dssathrjcxpns and its content has been removed.\n",
      "TWAD: 8317    Sum irrigation: 182.70    Cost: 13.16\n",
      "(29.0, 30.5) 13.159101795256488\n",
      "C:\\Users\\MELANI~1\\AppData\\Local\\Temp\\dssatnzuojnds created.\n",
      "Static files copied to C:\\Users\\MELANI~1\\AppData\\Local\\Temp\\dssatnzuojnds.\n",
      "RUN    TRT FLO MAT TOPWT HARWT  RAIN  TIRR   CET  PESW  TNUP  TNLF   TSON TSOC\n",
      "           dap dap kg/ha kg/ha    mm    mm    mm    mm kg/ha kg/ha  kg/ha t/ha\n",
      "  1 PT   1  40 -99  8819  7317     3    77   139    47     0   -99      0  211\n",
      "C:\\Users\\MELANI~1\\AppData\\Local\\Temp\\dssatnzuojnds and its content has been removed.\n",
      "TWAD: 8819    Sum irrigation: 188.10    Cost: 13.28\n",
      "(27.8, 37.1) 13.283332250672157\n",
      "C:\\Users\\MELANI~1\\AppData\\Local\\Temp\\dssatqzonaaez created.\n",
      "Static files copied to C:\\Users\\MELANI~1\\AppData\\Local\\Temp\\dssatqzonaaez.\n",
      "RUN    TRT FLO MAT TOPWT HARWT  RAIN  TIRR   CET  PESW  TNUP  TNLF   TSON TSOC\n",
      "           dap dap kg/ha kg/ha    mm    mm    mm    mm kg/ha kg/ha  kg/ha t/ha\n",
      "  1 PT   1  40 -99  7896  6466     3    68   131    45     0   -99      0  211\n",
      "C:\\Users\\MELANI~1\\AppData\\Local\\Temp\\dssatqzonaaez and its content has been removed.\n",
      "TWAD: 7896    Sum irrigation: 178.40    Cost: 13.18\n",
      "(18.1, 37.1) 13.17875097622708\n",
      "C:\\Users\\MELANI~1\\AppData\\Local\\Temp\\dssatdcdpbfws created.\n",
      "Static files copied to C:\\Users\\MELANI~1\\AppData\\Local\\Temp\\dssatdcdpbfws.\n",
      "RUN    TRT FLO MAT TOPWT HARWT  RAIN  TIRR   CET  PESW  TNUP  TNLF   TSON TSOC\n",
      "           dap dap kg/ha kg/ha    mm    mm    mm    mm kg/ha kg/ha  kg/ha t/ha\n",
      "  1 PT   1  40 -99  9290  7746     3    82   143    47     0   -99      0  211\n",
      "C:\\Users\\MELANI~1\\AppData\\Local\\Temp\\dssatdcdpbfws and its content has been removed.\n",
      "TWAD: 9290    Sum irrigation: 192.80    Cost: 13.46\n",
      "(29.0, 40.6) 13.455569191452184\n",
      "C:\\Users\\MELANI~1\\AppData\\Local\\Temp\\dssatnhxuwbdf created.\n",
      "Static files copied to C:\\Users\\MELANI~1\\AppData\\Local\\Temp\\dssatnhxuwbdf.\n",
      "RUN    TRT FLO MAT TOPWT HARWT  RAIN  TIRR   CET  PESW  TNUP  TNLF   TSON TSOC\n",
      "           dap dap kg/ha kg/ha    mm    mm    mm    mm kg/ha kg/ha  kg/ha t/ha\n",
      "  1 PT   1  40 -99  6308  4923     3    51   118    41     0   -99      0  211\n",
      "C:\\Users\\MELANI~1\\AppData\\Local\\Temp\\dssatnhxuwbdf and its content has been removed.\n",
      "TWAD: 6308    Sum irrigation: 161.40    Cost: 14.14\n",
      "(29.0, 9.200000000000001) 14.141546169577333\n",
      "C:\\Users\\MELANI~1\\AppData\\Local\\Temp\\dssatxetoklkp created.\n",
      "Static files copied to C:\\Users\\MELANI~1\\AppData\\Local\\Temp\\dssatxetoklkp.\n",
      "RUN    TRT FLO MAT TOPWT HARWT  RAIN  TIRR   CET  PESW  TNUP  TNLF   TSON TSOC\n",
      "           dap dap kg/ha kg/ha    mm    mm    mm    mm kg/ha kg/ha  kg/ha t/ha\n",
      "  1 PT   1  40 -99  6915  5516     3    57   123    43     0   -99      0  211\n",
      "C:\\Users\\MELANI~1\\AppData\\Local\\Temp\\dssatxetoklkp and its content has been removed.\n",
      "TWAD: 6915    Sum irrigation: 167.60    Cost: 13.54\n",
      "(7.300000000000001, 37.1) 13.54041111076629\n",
      "C:\\Users\\MELANI~1\\AppData\\Local\\Temp\\dssatsvjtwrtu created.\n",
      "Static files copied to C:\\Users\\MELANI~1\\AppData\\Local\\Temp\\dssatsvjtwrtu.\n",
      "RUN    TRT FLO MAT TOPWT HARWT  RAIN  TIRR   CET  PESW  TNUP  TNLF   TSON TSOC\n",
      "           dap dap kg/ha kg/ha    mm    mm    mm    mm kg/ha kg/ha  kg/ha t/ha\n",
      "  1 PT   1  40 -99 10124  8496     3    92   150    50     0   -99      0  211\n",
      "C:\\Users\\MELANI~1\\AppData\\Local\\Temp\\dssatsvjtwrtu and its content has been removed.\n",
      "TWAD: 10124    Sum irrigation: 202.30    Cost: 14.16\n",
      "(42.0, 37.1) 14.158824233305587\n",
      "C:\\Users\\MELANI~1\\AppData\\Local\\Temp\\dssatltlsmfbt created.\n",
      "Static files copied to C:\\Users\\MELANI~1\\AppData\\Local\\Temp\\dssatltlsmfbt.\n",
      "RUN    TRT FLO MAT TOPWT HARWT  RAIN  TIRR   CET  PESW  TNUP  TNLF   TSON TSOC\n",
      "           dap dap kg/ha kg/ha    mm    mm    mm    mm kg/ha kg/ha  kg/ha t/ha\n",
      "  1 PT   1  40 -99  9196  7662     3    81   142    47     0   -99      0  211\n",
      "C:\\Users\\MELANI~1\\AppData\\Local\\Temp\\dssatltlsmfbt and its content has been removed.\n",
      "TWAD: 9196    Sum irrigation: 192.50    Cost: 13.50\n",
      "(27.5, 41.800000000000004) 13.501923590753199\n",
      "C:\\Users\\MELANI~1\\AppData\\Local\\Temp\\dssatdcoiqzap created.\n",
      "Static files copied to C:\\Users\\MELANI~1\\AppData\\Local\\Temp\\dssatdcoiqzap.\n",
      "RUN    TRT FLO MAT TOPWT HARWT  RAIN  TIRR   CET  PESW  TNUP  TNLF   TSON TSOC\n",
      "           dap dap kg/ha kg/ha    mm    mm    mm    mm kg/ha kg/ha  kg/ha t/ha\n",
      "  1 PT   1  40 -99  6820  5409     3    56   122    42     0   -99      0  211\n",
      "C:\\Users\\MELANI~1\\AppData\\Local\\Temp\\dssatdcoiqzap and its content has been removed.\n",
      "TWAD: 6820    Sum irrigation: 166.70    Cost: 13.62\n",
      "(6.4, 37.1) 13.62245355862118\n",
      "C:\\Users\\MELANI~1\\AppData\\Local\\Temp\\dssatezktbfmo created.\n",
      "Static files copied to C:\\Users\\MELANI~1\\AppData\\Local\\Temp\\dssatezktbfmo.\n",
      "RUN    TRT FLO MAT TOPWT HARWT  RAIN  TIRR   CET  PESW  TNUP  TNLF   TSON TSOC\n",
      "           dap dap kg/ha kg/ha    mm    mm    mm    mm kg/ha kg/ha  kg/ha t/ha\n",
      "  1 PT   1  40 -99  6295  4971     3    52   118    42     0   -99      0  211\n",
      "C:\\Users\\MELANI~1\\AppData\\Local\\Temp\\dssatezktbfmo and its content has been removed.\n",
      "TWAD: 6295    Sum irrigation: 162.80    Cost: 14.28\n",
      "(2.5, 37.1) 14.276656789754282\n",
      "C:\\Users\\MELANI~1\\AppData\\Local\\Temp\\dssatmpqickcz created.\n",
      "Static files copied to C:\\Users\\MELANI~1\\AppData\\Local\\Temp\\dssatmpqickcz.\n",
      "RUN    TRT FLO MAT TOPWT HARWT  RAIN  TIRR   CET  PESW  TNUP  TNLF   TSON TSOC\n",
      "           dap dap kg/ha kg/ha    mm    mm    mm    mm kg/ha kg/ha  kg/ha t/ha\n",
      "  1 PT   1  40 -99  3480  2156     3    19    94    34     0   -99      0  211\n",
      "C:\\Users\\MELANI~1\\AppData\\Local\\Temp\\dssatmpqickcz and its content has been removed.\n",
      "TWAD: 3480    Sum irrigation: 130.20    Cost: 23.04\n",
      "(5.300000000000001, 1.7000000000000002) 23.037499141235877\n",
      "C:\\Users\\MELANI~1\\AppData\\Local\\Temp\\dssatiuihesck created.\n",
      "Static files copied to C:\\Users\\MELANI~1\\AppData\\Local\\Temp\\dssatiuihesck.\n",
      "RUN    TRT FLO MAT TOPWT HARWT  RAIN  TIRR   CET  PESW  TNUP  TNLF   TSON TSOC\n",
      "           dap dap kg/ha kg/ha    mm    mm    mm    mm kg/ha kg/ha  kg/ha t/ha\n",
      "  1 PT   1  40 -99  9550  7979     3    85   145    48     0   -99      0  211\n",
      "C:\\Users\\MELANI~1\\AppData\\Local\\Temp\\dssatiuihesck and its content has been removed.\n",
      "TWAD: 9550    Sum irrigation: 196.10    Cost: 13.69\n",
      "(35.800000000000004, 37.1) 13.691372473616497\n",
      "C:\\Users\\MELANI~1\\AppData\\Local\\Temp\\dssatwgyqsoly created.\n",
      "Static files copied to C:\\Users\\MELANI~1\\AppData\\Local\\Temp\\dssatwgyqsoly.\n",
      "RUN    TRT FLO MAT TOPWT HARWT  RAIN  TIRR   CET  PESW  TNUP  TNLF   TSON TSOC\n",
      "           dap dap kg/ha kg/ha    mm    mm    mm    mm kg/ha kg/ha  kg/ha t/ha\n",
      "  1 PT   1  40 -99  6659  5267     3    55   121    42     0   -99      0  211\n",
      "C:\\Users\\MELANI~1\\AppData\\Local\\Temp\\dssatwgyqsoly and its content has been removed.\n",
      "TWAD: 6659    Sum irrigation: 166.60    Cost: 13.90\n",
      "(38.7, 4.7) 13.897374084124632\n",
      "C:\\Users\\MELANI~1\\AppData\\Local\\Temp\\dssatibsecjhm created.\n",
      "Static files copied to C:\\Users\\MELANI~1\\AppData\\Local\\Temp\\dssatibsecjhm.\n",
      "RUN    TRT FLO MAT TOPWT HARWT  RAIN  TIRR   CET  PESW  TNUP  TNLF   TSON TSOC\n",
      "           dap dap kg/ha kg/ha    mm    mm    mm    mm kg/ha kg/ha  kg/ha t/ha\n",
      "  1 PT   1  40 -99  9355  7801     3    83   143    48     0   -99      0  211\n",
      "C:\\Users\\MELANI~1\\AppData\\Local\\Temp\\dssatibsecjhm and its content has been removed.\n",
      "TWAD: 9355    Sum irrigation: 194.60    Cost: 13.65\n",
      "(41.5, 29.900000000000002) 13.6495357828353\n",
      "C:\\Users\\MELANI~1\\AppData\\Local\\Temp\\dssateefhkmzp created.\n",
      "Static files copied to C:\\Users\\MELANI~1\\AppData\\Local\\Temp\\dssateefhkmzp.\n",
      "RUN    TRT FLO MAT TOPWT HARWT  RAIN  TIRR   CET  PESW  TNUP  TNLF   TSON TSOC\n",
      "           dap dap kg/ha kg/ha    mm    mm    mm    mm kg/ha kg/ha  kg/ha t/ha\n",
      "  1 PT   1  40 -99  7645  6209     3    65   129    44     0   -99      0  211\n",
      "C:\\Users\\MELANI~1\\AppData\\Local\\Temp\\dssateefhkmzp and its content has been removed.\n",
      "TWAD: 7645    Sum irrigation: 176.20    Cost: 13.27\n",
      "(5.4, 47.6) 13.2733544193127\n",
      "C:\\Users\\MELANI~1\\AppData\\Local\\Temp\\dssatabsqfcok created.\n",
      "Static files copied to C:\\Users\\MELANI~1\\AppData\\Local\\Temp\\dssatabsqfcok.\n",
      "RUN    TRT FLO MAT TOPWT HARWT  RAIN  TIRR   CET  PESW  TNUP  TNLF   TSON TSOC\n",
      "           dap dap kg/ha kg/ha    mm    mm    mm    mm kg/ha kg/ha  kg/ha t/ha\n",
      "  1 PT   1  40 -99  7132  5736     3    60   125    44     0   -99      0  211\n",
      "C:\\Users\\MELANI~1\\AppData\\Local\\Temp\\dssatabsqfcok and its content has been removed.\n",
      "TWAD: 7132    Sum irrigation: 170.40    Cost: 13.44\n",
      "(29.0, 18.2) 13.444888343094735\n",
      "C:\\Users\\MELANI~1\\AppData\\Local\\Temp\\dssatkdgvkglk created.\n",
      "Static files copied to C:\\Users\\MELANI~1\\AppData\\Local\\Temp\\dssatkdgvkglk.\n",
      "RUN    TRT FLO MAT TOPWT HARWT  RAIN  TIRR   CET  PESW  TNUP  TNLF   TSON TSOC\n",
      "           dap dap kg/ha kg/ha    mm    mm    mm    mm kg/ha kg/ha  kg/ha t/ha\n",
      "  1 PT   1  40 -99  7416  6009     3    63   127    44     0   -99      0  211\n",
      "C:\\Users\\MELANI~1\\AppData\\Local\\Temp\\dssatkdgvkglk and its content has been removed.\n",
      "TWAD: 7416    Sum irrigation: 174.50    Cost: 13.42\n",
      "(28.8, 22.5) 13.419175061018734\n",
      "C:\\Users\\MELANI~1\\AppData\\Local\\Temp\\dssatnjsbaqad created.\n",
      "Static files copied to C:\\Users\\MELANI~1\\AppData\\Local\\Temp\\dssatnjsbaqad.\n",
      "RUN    TRT FLO MAT TOPWT HARWT  RAIN  TIRR   CET  PESW  TNUP  TNLF   TSON TSOC\n",
      "           dap dap kg/ha kg/ha    mm    mm    mm    mm kg/ha kg/ha  kg/ha t/ha\n",
      "  1 PT   1  40 -99  6295  4971     3    52   118    42     0   -99      0  211\n",
      "C:\\Users\\MELANI~1\\AppData\\Local\\Temp\\dssatnjsbaqad and its content has been removed.\n",
      "TWAD: 6295    Sum irrigation: 162.50    Cost: 14.25\n",
      "(2.2, 37.1) 14.252986789754281\n",
      "C:\\Users\\MELANI~1\\AppData\\Local\\Temp\\dssatjuiwmycf created.\n",
      "Static files copied to C:\\Users\\MELANI~1\\AppData\\Local\\Temp\\dssatjuiwmycf.\n",
      "RUN    TRT FLO MAT TOPWT HARWT  RAIN  TIRR   CET  PESW  TNUP  TNLF   TSON TSOC\n",
      "           dap dap kg/ha kg/ha    mm    mm    mm    mm kg/ha kg/ha  kg/ha t/ha\n",
      "  1 PT   1  40 -99  8301  6842     3    72   134    46     0   -99      0  211\n",
      "C:\\Users\\MELANI~1\\AppData\\Local\\Temp\\dssatjuiwmycf and its content has been removed.\n",
      "TWAD: 8301    Sum irrigation: 183.10    Cost: 13.23\n",
      "(21.400000000000002, 38.5) 13.225401924178783\n",
      "C:\\Users\\MELANI~1\\AppData\\Local\\Temp\\dssatffdfjvdk created.\n",
      "Static files copied to C:\\Users\\MELANI~1\\AppData\\Local\\Temp\\dssatffdfjvdk.\n",
      "RUN    TRT FLO MAT TOPWT HARWT  RAIN  TIRR   CET  PESW  TNUP  TNLF   TSON TSOC\n",
      "           dap dap kg/ha kg/ha    mm    mm    mm    mm kg/ha kg/ha  kg/ha t/ha\n",
      "  1 PT   1  40 -99  5470  4098     3    42   111    39     0   -99      0  211\n",
      "C:\\Users\\MELANI~1\\AppData\\Local\\Temp\\dssatffdfjvdk and its content has been removed.\n",
      "TWAD: 5470    Sum irrigation: 152.60    Cost: 15.49\n",
      "(29.0, 0.4) 15.489585845479734\n",
      "C:\\Users\\MELANI~1\\AppData\\Local\\Temp\\dssatzgntsdte created.\n",
      "Static files copied to C:\\Users\\MELANI~1\\AppData\\Local\\Temp\\dssatzgntsdte.\n",
      "RUN    TRT FLO MAT TOPWT HARWT  RAIN  TIRR   CET  PESW  TNUP  TNLF   TSON TSOC\n",
      "           dap dap kg/ha kg/ha    mm    mm    mm    mm kg/ha kg/ha  kg/ha t/ha\n",
      "  1 PT   1  40 -99  7007  5614     3    58   123    43     0   -99      0  211\n",
      "C:\\Users\\MELANI~1\\AppData\\Local\\Temp\\dssatzgntsdte and its content has been removed.\n",
      "TWAD: 7007    Sum irrigation: 168.40    Cost: 13.46\n",
      "(8.1, 37.1) 13.460192644904717\n",
      "C:\\Users\\MELANI~1\\AppData\\Local\\Temp\\dssatxjrxqttf created.\n",
      "Static files copied to C:\\Users\\MELANI~1\\AppData\\Local\\Temp\\dssatxjrxqttf.\n",
      "RUN    TRT FLO MAT TOPWT HARWT  RAIN  TIRR   CET  PESW  TNUP  TNLF   TSON TSOC\n",
      "           dap dap kg/ha kg/ha    mm    mm    mm    mm kg/ha kg/ha  kg/ha t/ha\n",
      "  1 PT   1  40 -99  6820  5409     3    56   122    42     0   -99      0  211\n",
      "C:\\Users\\MELANI~1\\AppData\\Local\\Temp\\dssatxjrxqttf and its content has been removed.\n",
      "TWAD: 6820    Sum irrigation: 167.20    Cost: 13.67\n",
      "(6.9, 37.1) 13.666203558621179\n",
      "C:\\Users\\MELANI~1\\AppData\\Local\\Temp\\dssatgdboczvm created.\n",
      "Static files copied to C:\\Users\\MELANI~1\\AppData\\Local\\Temp\\dssatgdboczvm.\n",
      "RUN    TRT FLO MAT TOPWT HARWT  RAIN  TIRR   CET  PESW  TNUP  TNLF   TSON TSOC\n",
      "           dap dap kg/ha kg/ha    mm    mm    mm    mm kg/ha kg/ha  kg/ha t/ha\n",
      "  1 PT   1  40 -99  7992  6550     3    69   132    45     0   -99      0  211\n",
      "C:\\Users\\MELANI~1\\AppData\\Local\\Temp\\dssatgdboczvm and its content has been removed.\n",
      "TWAD: 7992    Sum irrigation: 179.90    Cost: 13.22\n",
      "(29.0, 27.700000000000003) 13.224898757506413\n",
      "C:\\Users\\MELANI~1\\AppData\\Local\\Temp\\dssatrkssdjhh created.\n",
      "Static files copied to C:\\Users\\MELANI~1\\AppData\\Local\\Temp\\dssatrkssdjhh.\n",
      "RUN    TRT FLO MAT TOPWT HARWT  RAIN  TIRR   CET  PESW  TNUP  TNLF   TSON TSOC\n",
      "           dap dap kg/ha kg/ha    mm    mm    mm    mm kg/ha kg/ha  kg/ha t/ha\n",
      "  1 PT   1  40 -99  9707  8122     3    87   147    49     0   -99      0  211\n",
      "C:\\Users\\MELANI~1\\AppData\\Local\\Temp\\dssatrkssdjhh and its content has been removed.\n",
      "TWAD: 9707    Sum irrigation: 197.80    Cost: 13.81\n",
      "(37.5, 37.1) 13.806634375041272\n",
      "C:\\Users\\MELANI~1\\AppData\\Local\\Temp\\dssatgxyhlwmd created.\n",
      "Static files copied to C:\\Users\\MELANI~1\\AppData\\Local\\Temp\\dssatgxyhlwmd.\n",
      "RUN    TRT FLO MAT TOPWT HARWT  RAIN  TIRR   CET  PESW  TNUP  TNLF   TSON TSOC\n",
      "           dap dap kg/ha kg/ha    mm    mm    mm    mm kg/ha kg/ha  kg/ha t/ha\n",
      "  1 PT   1  40 -99  8409  6943     3    73   135    46     0   -99      0  211\n",
      "C:\\Users\\MELANI~1\\AppData\\Local\\Temp\\dssatgxyhlwmd and its content has been removed.\n",
      "TWAD: 8409    Sum irrigation: 183.50    Cost: 13.15\n",
      "(23.200000000000003, 37.1) 13.149705232059077\n",
      "C:\\Users\\MELANI~1\\AppData\\Local\\Temp\\dssattewazkhp created.\n",
      "Static files copied to C:\\Users\\MELANI~1\\AppData\\Local\\Temp\\dssattewazkhp.\n",
      "RUN    TRT FLO MAT TOPWT HARWT  RAIN  TIRR   CET  PESW  TNUP  TNLF   TSON TSOC\n",
      "           dap dap kg/ha kg/ha    mm    mm    mm    mm kg/ha kg/ha  kg/ha t/ha\n",
      "  1 PT   1  40 -99  6708  5309     3    55   121    42     0   -99      0  211\n",
      "C:\\Users\\MELANI~1\\AppData\\Local\\Temp\\dssattewazkhp and its content has been removed.\n",
      "TWAD: 6708    Sum irrigation: 166.10    Cost: 13.77\n",
      "(5.800000000000001, 37.1) 13.766466659800736\n",
      "C:\\Users\\MELANI~1\\AppData\\Local\\Temp\\dssatgfoyevts created.\n",
      "Static files copied to C:\\Users\\MELANI~1\\AppData\\Local\\Temp\\dssatgfoyevts.\n",
      "RUN    TRT FLO MAT TOPWT HARWT  RAIN  TIRR   CET  PESW  TNUP  TNLF   TSON TSOC\n",
      "           dap dap kg/ha kg/ha    mm    mm    mm    mm kg/ha kg/ha  kg/ha t/ha\n",
      "  1 PT   1  40 -99  6820  5409     3    56   122    42     0   -99      0  211\n",
      "C:\\Users\\MELANI~1\\AppData\\Local\\Temp\\dssatgfoyevts and its content has been removed.\n",
      "TWAD: 6820    Sum irrigation: 166.80    Cost: 13.63\n",
      "(6.5, 37.1) 13.631163558621179\n",
      "C:\\Users\\MELANI~1\\AppData\\Local\\Temp\\dssatxwdofgej created.\n",
      "Static files copied to C:\\Users\\MELANI~1\\AppData\\Local\\Temp\\dssatxwdofgej.\n",
      "RUN    TRT FLO MAT TOPWT HARWT  RAIN  TIRR   CET  PESW  TNUP  TNLF   TSON TSOC\n",
      "           dap dap kg/ha kg/ha    mm    mm    mm    mm kg/ha kg/ha  kg/ha t/ha\n",
      "  1 PT   1  40 -99 10083  8460     3    91   150    49     0   -99      0  211\n",
      "C:\\Users\\MELANI~1\\AppData\\Local\\Temp\\dssatxwdofgej and its content has been removed.\n",
      "TWAD: 10083    Sum irrigation: 201.50    Cost: 14.07\n",
      "(29.0, 49.300000000000004) 14.065035796474682\n",
      "C:\\Users\\MELANI~1\\AppData\\Local\\Temp\\dssatynosczpu created.\n",
      "Static files copied to C:\\Users\\MELANI~1\\AppData\\Local\\Temp\\dssatynosczpu.\n",
      "RUN    TRT FLO MAT TOPWT HARWT  RAIN  TIRR   CET  PESW  TNUP  TNLF   TSON TSOC\n",
      "           dap dap kg/ha kg/ha    mm    mm    mm    mm kg/ha kg/ha  kg/ha t/ha\n",
      "  1 PT   1  40 -99  8078  6634     3    69   132    45     0   -99      0  211\n",
      "C:\\Users\\MELANI~1\\AppData\\Local\\Temp\\dssatynosczpu and its content has been removed.\n",
      "TWAD: 8078    Sum irrigation: 180.50    Cost: 13.19\n",
      "(9.600000000000001, 47.7) 13.186730219925698\n",
      "C:\\Users\\MELANI~1\\AppData\\Local\\Temp\\dssatrotxwrwa created.\n",
      "Static files copied to C:\\Users\\MELANI~1\\AppData\\Local\\Temp\\dssatrotxwrwa.\n",
      "RUN    TRT FLO MAT TOPWT HARWT  RAIN  TIRR   CET  PESW  TNUP  TNLF   TSON TSOC\n",
      "           dap dap kg/ha kg/ha    mm    mm    mm    mm kg/ha kg/ha  kg/ha t/ha\n",
      "  1 PT   1  40 -99  6194  4874     3    51   118    42     0   -99      0  211\n",
      "C:\\Users\\MELANI~1\\AppData\\Local\\Temp\\dssatrotxwrwa and its content has been removed.\n",
      "TWAD: 6194    Sum irrigation: 161.90    Cost: 14.41\n",
      "(1.6, 37.1) 14.413412809860702\n",
      "C:\\Users\\MELANI~1\\AppData\\Local\\Temp\\dssatwcpbmtfn created.\n",
      "Static files copied to C:\\Users\\MELANI~1\\AppData\\Local\\Temp\\dssatwcpbmtfn.\n",
      "RUN    TRT FLO MAT TOPWT HARWT  RAIN  TIRR   CET  PESW  TNUP  TNLF   TSON TSOC\n",
      "           dap dap kg/ha kg/ha    mm    mm    mm    mm kg/ha kg/ha  kg/ha t/ha\n",
      "  1 PT   1  40 -99  7896  6466     3    68   131    45     0   -99      0  211\n",
      "C:\\Users\\MELANI~1\\AppData\\Local\\Temp\\dssatwcpbmtfn and its content has been removed.\n",
      "TWAD: 7896    Sum irrigation: 179.10    Cost: 13.26\n",
      "(18.8, 37.1) 13.25652097622708\n",
      "C:\\Users\\MELANI~1\\AppData\\Local\\Temp\\dssattqvfehod created.\n",
      "Static files copied to C:\\Users\\MELANI~1\\AppData\\Local\\Temp\\dssattqvfehod.\n",
      "RUN    TRT FLO MAT TOPWT HARWT  RAIN  TIRR   CET  PESW  TNUP  TNLF   TSON TSOC\n",
      "           dap dap kg/ha kg/ha    mm    mm    mm    mm kg/ha kg/ha  kg/ha t/ha\n",
      "  1 PT   1  40 -99  9790  8196     3    88   147    49     0   -99      0  211\n",
      "C:\\Users\\MELANI~1\\AppData\\Local\\Temp\\dssattqvfehod and its content has been removed.\n",
      "TWAD: 9790    Sum irrigation: 198.50    Cost: 13.84\n",
      "(38.2, 37.1) 13.84169284253291\n",
      "C:\\Users\\MELANI~1\\AppData\\Local\\Temp\\dssatpsffhugn created.\n",
      "Static files copied to C:\\Users\\MELANI~1\\AppData\\Local\\Temp\\dssatpsffhugn.\n",
      "RUN    TRT FLO MAT TOPWT HARWT  RAIN  TIRR   CET  PESW  TNUP  TNLF   TSON TSOC\n",
      "           dap dap kg/ha kg/ha    mm    mm    mm    mm kg/ha kg/ha  kg/ha t/ha\n",
      "  1 PT   1  40 -99 10517  8842     3    97   154    51     0   -99      0  211\n",
      "C:\\Users\\MELANI~1\\AppData\\Local\\Temp\\dssatpsffhugn and its content has been removed.\n",
      "TWAD: 10517    Sum irrigation: 208.20    Cost: 14.83\n",
      "(47.900000000000006, 37.1) 14.831731234503067\n",
      "C:\\Users\\MELANI~1\\AppData\\Local\\Temp\\dssatdutrdvxv created.\n",
      "Static files copied to C:\\Users\\MELANI~1\\AppData\\Local\\Temp\\dssatdutrdvxv.\n",
      "RUN    TRT FLO MAT TOPWT HARWT  RAIN  TIRR   CET  PESW  TNUP  TNLF   TSON TSOC\n",
      "           dap dap kg/ha kg/ha    mm    mm    mm    mm kg/ha kg/ha  kg/ha t/ha\n",
      "  1 PT   1  40 -99  6465  5069     3    52   119    41     0   -99      0  211\n",
      "C:\\Users\\MELANI~1\\AppData\\Local\\Temp\\dssatdutrdvxv and its content has been removed.\n",
      "TWAD: 6465    Sum irrigation: 162.30    Cost: 13.90\n",
      "(8.0, 31.1) 13.903131365147507\n",
      "C:\\Users\\MELANI~1\\AppData\\Local\\Temp\\dssatwcbmsnqa created.\n",
      "Static files copied to C:\\Users\\MELANI~1\\AppData\\Local\\Temp\\dssatwcbmsnqa.\n",
      "RUN    TRT FLO MAT TOPWT HARWT  RAIN  TIRR   CET  PESW  TNUP  TNLF   TSON TSOC\n",
      "           dap dap kg/ha kg/ha    mm    mm    mm    mm kg/ha kg/ha  kg/ha t/ha\n",
      "  1 PT   1  40 -99  9550  7979     3    85   145    48     0   -99      0  211\n",
      "C:\\Users\\MELANI~1\\AppData\\Local\\Temp\\dssatwcbmsnqa and its content has been removed.\n",
      "TWAD: 9550    Sum irrigation: 195.30    Cost: 13.58\n",
      "(35.0, 37.1) 13.575372473616493\n",
      "C:\\Users\\MELANI~1\\AppData\\Local\\Temp\\dssatknvbkgij created.\n",
      "Static files copied to C:\\Users\\MELANI~1\\AppData\\Local\\Temp\\dssatknvbkgij.\n",
      "RUN    TRT FLO MAT TOPWT HARWT  RAIN  TIRR   CET  PESW  TNUP  TNLF   TSON TSOC\n",
      "           dap dap kg/ha kg/ha    mm    mm    mm    mm kg/ha kg/ha  kg/ha t/ha\n",
      "  1 PT   1  40 -99  5755  4376     3    45   114    40     0   -99      0  211\n",
      "C:\\Users\\MELANI~1\\AppData\\Local\\Temp\\dssatknvbkgij and its content has been removed.\n",
      "TWAD: 5755    Sum irrigation: 155.20    Cost: 14.92\n",
      "(29.0, 3.0) 14.924953275247042\n",
      "C:\\Users\\MELANI~1\\AppData\\Local\\Temp\\dssatwwjrxlhv created.\n",
      "Static files copied to C:\\Users\\MELANI~1\\AppData\\Local\\Temp\\dssatwwjrxlhv.\n",
      "RUN    TRT FLO MAT TOPWT HARWT  RAIN  TIRR   CET  PESW  TNUP  TNLF   TSON TSOC\n",
      "           dap dap kg/ha kg/ha    mm    mm    mm    mm kg/ha kg/ha  kg/ha t/ha\n",
      "  1 PT   1  40 -99  6820  5409     3    56   122    42     0   -99      0  211\n",
      "C:\\Users\\MELANI~1\\AppData\\Local\\Temp\\dssatwwjrxlhv and its content has been removed.\n",
      "TWAD: 6820    Sum irrigation: 166.80    Cost: 13.63\n",
      "(6.5, 37.1) 13.631163558621179\n",
      "C:\\Users\\MELANI~1\\AppData\\Local\\Temp\\dssatduuzqkud created.\n",
      "Static files copied to C:\\Users\\MELANI~1\\AppData\\Local\\Temp\\dssatduuzqkud.\n",
      "RUN    TRT FLO MAT TOPWT HARWT  RAIN  TIRR   CET  PESW  TNUP  TNLF   TSON TSOC\n",
      "           dap dap kg/ha kg/ha    mm    mm    mm    mm kg/ha kg/ha  kg/ha t/ha\n",
      "  1 PT   1  40 -99 10144  8514     3    92   150    50     0   -99      0  211\n",
      "C:\\Users\\MELANI~1\\AppData\\Local\\Temp\\dssatduuzqkud and its content has been removed.\n",
      "TWAD: 10144    Sum irrigation: 203.60    Cost: 14.35\n",
      "(33.5, 46.900000000000006) 14.350594553782084\n",
      "C:\\Users\\MELANI~1\\AppData\\Local\\Temp\\dssathnphoura created.\n",
      "Static files copied to C:\\Users\\MELANI~1\\AppData\\Local\\Temp\\dssathnphoura.\n",
      "RUN    TRT FLO MAT TOPWT HARWT  RAIN  TIRR   CET  PESW  TNUP  TNLF   TSON TSOC\n",
      "           dap dap kg/ha kg/ha    mm    mm    mm    mm kg/ha kg/ha  kg/ha t/ha\n",
      "  1 PT   1  40 -99  7088  5702     3    59   124    43     0   -99      0  211\n",
      "C:\\Users\\MELANI~1\\AppData\\Local\\Temp\\dssathnphoura and its content has been removed.\n",
      "TWAD: 7088    Sum irrigation: 169.50    Cost: 13.43\n",
      "(12.200000000000001, 34.1) 13.430370123211045\n",
      "C:\\Users\\MELANI~1\\AppData\\Local\\Temp\\dssatfspevakw created.\n",
      "Static files copied to C:\\Users\\MELANI~1\\AppData\\Local\\Temp\\dssatfspevakw.\n",
      "RUN    TRT FLO MAT TOPWT HARWT  RAIN  TIRR   CET  PESW  TNUP  TNLF   TSON TSOC\n",
      "           dap dap kg/ha kg/ha    mm    mm    mm    mm kg/ha kg/ha  kg/ha t/ha\n",
      "  1 PT   1  40 -99 10660  8965     3    99   155    52     0   -99      0  211\n",
      "C:\\Users\\MELANI~1\\AppData\\Local\\Temp\\dssatfspevakw and its content has been removed.\n",
      "TWAD: 10660    Sum irrigation: 209.80    Cost: 15.00\n",
      "(49.5, 37.1) 15.004249727515035\n",
      "C:\\Users\\MELANI~1\\AppData\\Local\\Temp\\dssatfvlsvxbc created.\n",
      "Static files copied to C:\\Users\\MELANI~1\\AppData\\Local\\Temp\\dssatfvlsvxbc.\n",
      "RUN    TRT FLO MAT TOPWT HARWT  RAIN  TIRR   CET  PESW  TNUP  TNLF   TSON TSOC\n",
      "           dap dap kg/ha kg/ha    mm    mm    mm    mm kg/ha kg/ha  kg/ha t/ha\n",
      "  1 PT   1  40 -99  4518  3132     3    31   104    36     0   -99      0  211\n",
      "C:\\Users\\MELANI~1\\AppData\\Local\\Temp\\dssatfvlsvxbc and its content has been removed.\n",
      "TWAD: 4518    Sum irrigation: 141.90    Cost: 18.06\n",
      "(14.0, 4.7) 18.05663605866621\n",
      "C:\\Users\\MELANI~1\\AppData\\Local\\Temp\\dssatddspdxra created.\n",
      "Static files copied to C:\\Users\\MELANI~1\\AppData\\Local\\Temp\\dssatddspdxra.\n",
      "RUN    TRT FLO MAT TOPWT HARWT  RAIN  TIRR   CET  PESW  TNUP  TNLF   TSON TSOC\n",
      "           dap dap kg/ha kg/ha    mm    mm    mm    mm kg/ha kg/ha  kg/ha t/ha\n",
      "  1 PT   1  40 -99  7239  5871     3    62   127    43     0   -99      0  211\n",
      "C:\\Users\\MELANI~1\\AppData\\Local\\Temp\\dssatddspdxra and its content has been removed.\n",
      "TWAD: 7239    Sum irrigation: 173.20    Cost: 13.55\n",
      "(1.7000000000000002, 48.300000000000004) 13.551248646049366\n",
      "C:\\Users\\MELANI~1\\AppData\\Local\\Temp\\dssateudhqris created.\n",
      "Static files copied to C:\\Users\\MELANI~1\\AppData\\Local\\Temp\\dssateudhqris.\n",
      "RUN    TRT FLO MAT TOPWT HARWT  RAIN  TIRR   CET  PESW  TNUP  TNLF   TSON TSOC\n",
      "           dap dap kg/ha kg/ha    mm    mm    mm    mm kg/ha kg/ha  kg/ha t/ha\n",
      "  1 PT   1  40 -99  7305  5901     3    62   126    44     0   -99      0  211\n",
      "C:\\Users\\MELANI~1\\AppData\\Local\\Temp\\dssateudhqris and its content has been removed.\n",
      "TWAD: 7305    Sum irrigation: 173.10    Cost: 13.44\n",
      "(31.8, 18.1) 13.441411649363225\n",
      "C:\\Users\\MELANI~1\\AppData\\Local\\Temp\\dssathounzdtq created.\n",
      "Static files copied to C:\\Users\\MELANI~1\\AppData\\Local\\Temp\\dssathounzdtq.\n",
      "RUN    TRT FLO MAT TOPWT HARWT  RAIN  TIRR   CET  PESW  TNUP  TNLF   TSON TSOC\n",
      "           dap dap kg/ha kg/ha    mm    mm    mm    mm kg/ha kg/ha  kg/ha t/ha\n",
      "  1 PT   1  40 -99 10068  8446     3    91   150    50     0   -99      0  211\n",
      "C:\\Users\\MELANI~1\\AppData\\Local\\Temp\\dssathounzdtq and its content has been removed.\n",
      "TWAD: 10068    Sum irrigation: 201.40    Cost: 14.06\n",
      "(32.0, 46.2) 14.061206632303673\n",
      "C:\\Users\\MELANI~1\\AppData\\Local\\Temp\\dssatybpqzjtu created.\n",
      "Static files copied to C:\\Users\\MELANI~1\\AppData\\Local\\Temp\\dssatybpqzjtu.\n",
      "RUN    TRT FLO MAT TOPWT HARWT  RAIN  TIRR   CET  PESW  TNUP  TNLF   TSON TSOC\n",
      "           dap dap kg/ha kg/ha    mm    mm    mm    mm kg/ha kg/ha  kg/ha t/ha\n",
      "  1 PT   1  40 -99  9650  8071     3    86   146    48     0   -99      0  211\n",
      "C:\\Users\\MELANI~1\\AppData\\Local\\Temp\\dssatybpqzjtu and its content has been removed.\n",
      "TWAD: 9650    Sum irrigation: 196.30    Cost: 13.63\n",
      "(32.0, 41.1) 13.633764581331132\n",
      "C:\\Users\\MELANI~1\\AppData\\Local\\Temp\\dssatltkwnupf created.\n",
      "Static files copied to C:\\Users\\MELANI~1\\AppData\\Local\\Temp\\dssatltkwnupf.\n",
      "RUN    TRT FLO MAT TOPWT HARWT  RAIN  TIRR   CET  PESW  TNUP  TNLF   TSON TSOC\n",
      "           dap dap kg/ha kg/ha    mm    mm    mm    mm kg/ha kg/ha  kg/ha t/ha\n",
      "  1 PT   1  40 -99  7706  6283     3    66   129    45     0   -99      0  211\n",
      "C:\\Users\\MELANI~1\\AppData\\Local\\Temp\\dssatltkwnupf and its content has been removed.\n",
      "TWAD: 7706    Sum irrigation: 176.60    Cost: 13.23\n",
      "(29.0, 24.400000000000002) 13.233079545611272\n",
      "C:\\Users\\MELANI~1\\AppData\\Local\\Temp\\dssateblcaktn created.\n",
      "Static files copied to C:\\Users\\MELANI~1\\AppData\\Local\\Temp\\dssateblcaktn.\n",
      "RUN    TRT FLO MAT TOPWT HARWT  RAIN  TIRR   CET  PESW  TNUP  TNLF   TSON TSOC\n",
      "           dap dap kg/ha kg/ha    mm    mm    mm    mm kg/ha kg/ha  kg/ha t/ha\n",
      "  1 PT   1  40 -99  6482  5100     3    53   119    42     0   -99      0  211\n",
      "C:\\Users\\MELANI~1\\AppData\\Local\\Temp\\dssateblcaktn and its content has been removed.\n",
      "TWAD: 6482    Sum irrigation: 163.70    Cost: 13.98\n",
      "(29.0, 11.5) 13.9821178892521\n",
      "C:\\Users\\MELANI~1\\AppData\\Local\\Temp\\dssatublttiqh created.\n",
      "Static files copied to C:\\Users\\MELANI~1\\AppData\\Local\\Temp\\dssatublttiqh.\n",
      "RUN    TRT FLO MAT TOPWT HARWT  RAIN  TIRR   CET  PESW  TNUP  TNLF   TSON TSOC\n",
      "           dap dap kg/ha kg/ha    mm    mm    mm    mm kg/ha kg/ha  kg/ha t/ha\n",
      "  1 PT   1  40 -99 10083  8460     3    91   150    49     0   -99      0  211\n",
      "C:\\Users\\MELANI~1\\AppData\\Local\\Temp\\dssatublttiqh and its content has been removed.\n",
      "TWAD: 10083    Sum irrigation: 201.40    Cost: 14.05\n",
      "(29.0, 49.2) 14.04938579647468\n",
      "C:\\Users\\MELANI~1\\AppData\\Local\\Temp\\dssatmwhxdmoq created.\n",
      "Static files copied to C:\\Users\\MELANI~1\\AppData\\Local\\Temp\\dssatmwhxdmoq.\n",
      "RUN    TRT FLO MAT TOPWT HARWT  RAIN  TIRR   CET  PESW  TNUP  TNLF   TSON TSOC\n",
      "           dap dap kg/ha kg/ha    mm    mm    mm    mm kg/ha kg/ha  kg/ha t/ha\n",
      "  1 PT   1  40 -99  7179  5793     3    60   125    44     0   -99      0  211\n",
      "C:\\Users\\MELANI~1\\AppData\\Local\\Temp\\dssatmwhxdmoq and its content has been removed.\n",
      "TWAD: 7179    Sum irrigation: 171.00    Cost: 13.43\n",
      "(12.600000000000001, 35.2) 13.428451764366658\n",
      "C:\\Users\\MELANI~1\\AppData\\Local\\Temp\\dssatrsfzlxzo created.\n",
      "Static files copied to C:\\Users\\MELANI~1\\AppData\\Local\\Temp\\dssatrsfzlxzo.\n",
      "RUN    TRT FLO MAT TOPWT HARWT  RAIN  TIRR   CET  PESW  TNUP  TNLF   TSON TSOC\n",
      "           dap dap kg/ha kg/ha    mm    mm    mm    mm kg/ha kg/ha  kg/ha t/ha\n",
      "  1 PT   1  40 -99  8106  6662     3    70   133    46     0   -99      0  211\n",
      "C:\\Users\\MELANI~1\\AppData\\Local\\Temp\\dssatrsfzlxzo and its content has been removed.\n",
      "TWAD: 8106    Sum irrigation: 180.90    Cost: 13.20\n",
      "(20.6, 37.1) 13.19852144963836\n",
      "C:\\Users\\MELANI~1\\AppData\\Local\\Temp\\dssatzbgpuctf created.\n",
      "Static files copied to C:\\Users\\MELANI~1\\AppData\\Local\\Temp\\dssatzbgpuctf.\n",
      "RUN    TRT FLO MAT TOPWT HARWT  RAIN  TIRR   CET  PESW  TNUP  TNLF   TSON TSOC\n",
      "           dap dap kg/ha kg/ha    mm    mm    mm    mm kg/ha kg/ha  kg/ha t/ha\n",
      "  1 PT   1  40 -99  9449  7884     3    84   144    48     0   -99      0  211\n",
      "C:\\Users\\MELANI~1\\AppData\\Local\\Temp\\dssatzbgpuctf and its content has been removed.\n",
      "TWAD: 9449    Sum irrigation: 194.80    Cost: 13.59\n",
      "(49.2, 22.400000000000002) 13.593063495978042\n",
      "C:\\Users\\MELANI~1\\AppData\\Local\\Temp\\dssatedbtyicw created.\n",
      "Static files copied to C:\\Users\\MELANI~1\\AppData\\Local\\Temp\\dssatedbtyicw.\n",
      "RUN    TRT FLO MAT TOPWT HARWT  RAIN  TIRR   CET  PESW  TNUP  TNLF   TSON TSOC\n",
      "           dap dap kg/ha kg/ha    mm    mm    mm    mm kg/ha kg/ha  kg/ha t/ha\n",
      "  1 PT   1  40 -99  9290  7746     3    82   143    47     0   -99      0  211\n",
      "C:\\Users\\MELANI~1\\AppData\\Local\\Temp\\dssatedbtyicw and its content has been removed.\n",
      "TWAD: 9290    Sum irrigation: 193.10    Cost: 13.50\n",
      "(29.0, 40.900000000000006) 13.497419191452188\n",
      "C:\\Users\\MELANI~1\\AppData\\Local\\Temp\\dssatfruqbvav created.\n",
      "Static files copied to C:\\Users\\MELANI~1\\AppData\\Local\\Temp\\dssatfruqbvav.\n",
      "RUN    TRT FLO MAT TOPWT HARWT  RAIN  TIRR   CET  PESW  TNUP  TNLF   TSON TSOC\n",
      "           dap dap kg/ha kg/ha    mm    mm    mm    mm kg/ha kg/ha  kg/ha t/ha\n",
      "  1 PT   1  40 -99 10124  8496     3    92   150    50     0   -99      0  211\n",
      "C:\\Users\\MELANI~1\\AppData\\Local\\Temp\\dssatfruqbvav and its content has been removed.\n",
      "TWAD: 10124    Sum irrigation: 202.40    Cost: 14.17\n",
      "(42.1, 37.1) 14.174654233305588\n",
      "C:\\Users\\MELANI~1\\AppData\\Local\\Temp\\dssatvidhvtnk created.\n",
      "Static files copied to C:\\Users\\MELANI~1\\AppData\\Local\\Temp\\dssatvidhvtnk.\n",
      "RUN    TRT FLO MAT TOPWT HARWT  RAIN  TIRR   CET  PESW  TNUP  TNLF   TSON TSOC\n",
      "           dap dap kg/ha kg/ha    mm    mm    mm    mm kg/ha kg/ha  kg/ha t/ha\n",
      "  1 PT   1  40 -99  8574  7085     3    75   137    47     0   -99      0  211\n",
      "C:\\Users\\MELANI~1\\AppData\\Local\\Temp\\dssatvidhvtnk and its content has been removed.\n",
      "TWAD: 8574    Sum irrigation: 186.60    Cost: 13.35\n",
      "(45.900000000000006, 17.5) 13.350093084845687\n",
      "C:\\Users\\MELANI~1\\AppData\\Local\\Temp\\dssatecrieszc created.\n",
      "Static files copied to C:\\Users\\MELANI~1\\AppData\\Local\\Temp\\dssatecrieszc.\n",
      "RUN    TRT FLO MAT TOPWT HARWT  RAIN  TIRR   CET  PESW  TNUP  TNLF   TSON TSOC\n",
      "           dap dap kg/ha kg/ha    mm    mm    mm    mm kg/ha kg/ha  kg/ha t/ha\n",
      "  1 PT   1  40 -99  7038  5641     3    59   124    43     0   -99      0  211\n",
      "C:\\Users\\MELANI~1\\AppData\\Local\\Temp\\dssatecrieszc and its content has been removed.\n",
      "TWAD: 7038    Sum irrigation: 170.20    Cost: 13.58\n",
      "(31.8, 15.200000000000001) 13.57586397174425\n",
      "C:\\Users\\MELANI~1\\AppData\\Local\\Temp\\dssatoawgkbud created.\n",
      "Static files copied to C:\\Users\\MELANI~1\\AppData\\Local\\Temp\\dssatoawgkbud.\n",
      "RUN    TRT FLO MAT TOPWT HARWT  RAIN  TIRR   CET  PESW  TNUP  TNLF   TSON TSOC\n",
      "           dap dap kg/ha kg/ha    mm    mm    mm    mm kg/ha kg/ha  kg/ha t/ha\n",
      "  1 PT   1  40 -99  6115  4730     3    49   117    41     0   -99      0  211\n",
      "C:\\Users\\MELANI~1\\AppData\\Local\\Temp\\dssatoawgkbud and its content has been removed.\n",
      "TWAD: 6115    Sum irrigation: 159.30    Cost: 14.39\n",
      "(29.0, 7.1000000000000005) 14.385791670877895\n",
      "C:\\Users\\MELANI~1\\AppData\\Local\\Temp\\dssatqbfmxxak created.\n",
      "Static files copied to C:\\Users\\MELANI~1\\AppData\\Local\\Temp\\dssatqbfmxxak.\n",
      "RUN    TRT FLO MAT TOPWT HARWT  RAIN  TIRR   CET  PESW  TNUP  TNLF   TSON TSOC\n",
      "           dap dap kg/ha kg/ha    mm    mm    mm    mm kg/ha kg/ha  kg/ha t/ha\n",
      "  1 PT   1  40 -99  8520  7047     3    74   136    46     0   -99      0  211\n",
      "C:\\Users\\MELANI~1\\AppData\\Local\\Temp\\dssatqbfmxxak and its content has been removed.\n",
      "TWAD: 8520    Sum irrigation: 184.50    Cost: 13.15\n",
      "(24.200000000000003, 37.1) 13.147360259428373\n",
      "C:\\Users\\MELANI~1\\AppData\\Local\\Temp\\dssatwqixittd created.\n",
      "Static files copied to C:\\Users\\MELANI~1\\AppData\\Local\\Temp\\dssatwqixittd.\n",
      "RUN    TRT FLO MAT TOPWT HARWT  RAIN  TIRR   CET  PESW  TNUP  TNLF   TSON TSOC\n",
      "           dap dap kg/ha kg/ha    mm    mm    mm    mm kg/ha kg/ha  kg/ha t/ha\n",
      "  1 PT   1  40 -99 10517  8842     3    97   154    51     0   -99      0  211\n",
      "C:\\Users\\MELANI~1\\AppData\\Local\\Temp\\dssatwqixittd and its content has been removed.\n",
      "TWAD: 10517    Sum irrigation: 207.50    Cost: 14.71\n",
      "(47.2, 37.1) 14.713221234503068\n",
      "C:\\Users\\MELANI~1\\AppData\\Local\\Temp\\dssatrbkvgjlt created.\n",
      "Static files copied to C:\\Users\\MELANI~1\\AppData\\Local\\Temp\\dssatrbkvgjlt.\n",
      "RUN    TRT FLO MAT TOPWT HARWT  RAIN  TIRR   CET  PESW  TNUP  TNLF   TSON TSOC\n",
      "           dap dap kg/ha kg/ha    mm    mm    mm    mm kg/ha kg/ha  kg/ha t/ha\n",
      "  1 PT   1  40 -99  8819  7317     3    77   139    47     0   -99      0  211\n",
      "C:\\Users\\MELANI~1\\AppData\\Local\\Temp\\dssatrbkvgjlt and its content has been removed.\n",
      "TWAD: 8819    Sum irrigation: 187.40    Cost: 13.19\n",
      "(27.1, 37.1) 13.192962250672156\n",
      "C:\\Users\\MELANI~1\\AppData\\Local\\Temp\\dssatwoiddkue created.\n",
      "Static files copied to C:\\Users\\MELANI~1\\AppData\\Local\\Temp\\dssatwoiddkue.\n",
      "RUN    TRT FLO MAT TOPWT HARWT  RAIN  TIRR   CET  PESW  TNUP  TNLF   TSON TSOC\n",
      "           dap dap kg/ha kg/ha    mm    mm    mm    mm kg/ha kg/ha  kg/ha t/ha\n",
      "  1 PT   1  40 -99  8714  7220     3    76   138    47     0   -99      0  211\n",
      "C:\\Users\\MELANI~1\\AppData\\Local\\Temp\\dssatwoiddkue and its content has been removed.\n",
      "TWAD: 8714    Sum irrigation: 186.60    Cost: 13.20\n",
      "(29.0, 34.4) 13.200187819528596\n",
      "C:\\Users\\MELANI~1\\AppData\\Local\\Temp\\dssattvrexnwl created.\n",
      "Static files copied to C:\\Users\\MELANI~1\\AppData\\Local\\Temp\\dssattvrexnwl.\n",
      "RUN    TRT FLO MAT TOPWT HARWT  RAIN  TIRR   CET  PESW  TNUP  TNLF   TSON TSOC\n",
      "           dap dap kg/ha kg/ha    mm    mm    mm    mm kg/ha kg/ha  kg/ha t/ha\n",
      "  1 PT   1  40 -99 10083  8460     3    91   150    49     0   -99      0  211\n",
      "C:\\Users\\MELANI~1\\AppData\\Local\\Temp\\dssattvrexnwl and its content has been removed.\n",
      "TWAD: 10083    Sum irrigation: 201.40    Cost: 14.05\n",
      "(29.0, 49.2) 14.04938579647468\n",
      "C:\\Users\\MELANI~1\\AppData\\Local\\Temp\\dssataaejlxvc created.\n",
      "Static files copied to C:\\Users\\MELANI~1\\AppData\\Local\\Temp\\dssataaejlxvc.\n",
      "RUN    TRT FLO MAT TOPWT HARWT  RAIN  TIRR   CET  PESW  TNUP  TNLF   TSON TSOC\n",
      "           dap dap kg/ha kg/ha    mm    mm    mm    mm kg/ha kg/ha  kg/ha t/ha\n",
      "  1 PT   1  40 -99  7235  5835     3    61   125    44     0   -99      0  211\n",
      "C:\\Users\\MELANI~1\\AppData\\Local\\Temp\\dssataaejlxvc and its content has been removed.\n",
      "TWAD: 7235    Sum irrigation: 171.60    Cost: 13.40\n",
      "(29.0, 19.400000000000002) 13.39991852697187\n",
      "C:\\Users\\MELANI~1\\AppData\\Local\\Temp\\dssatfurvowkb created.\n",
      "Static files copied to C:\\Users\\MELANI~1\\AppData\\Local\\Temp\\dssatfurvowkb.\n",
      "RUN    TRT FLO MAT TOPWT HARWT  RAIN  TIRR   CET  PESW  TNUP  TNLF   TSON TSOC\n",
      "           dap dap kg/ha kg/ha    mm    mm    mm    mm kg/ha kg/ha  kg/ha t/ha\n",
      "  1 PT   1  40 -99  6482  5100     3    53   119    42     0   -99      0  211\n",
      "C:\\Users\\MELANI~1\\AppData\\Local\\Temp\\dssatfurvowkb and its content has been removed.\n",
      "TWAD: 6482    Sum irrigation: 163.60    Cost: 13.97\n",
      "(29.0, 11.4) 13.974027889252099\n",
      "C:\\Users\\MELANI~1\\AppData\\Local\\Temp\\dssatpbehljtd created.\n",
      "Static files copied to C:\\Users\\MELANI~1\\AppData\\Local\\Temp\\dssatpbehljtd.\n",
      "RUN    TRT FLO MAT TOPWT HARWT  RAIN  TIRR   CET  PESW  TNUP  TNLF   TSON TSOC\n",
      "           dap dap kg/ha kg/ha    mm    mm    mm    mm kg/ha kg/ha  kg/ha t/ha\n",
      "  1 PT   1  40 -99  9550  7979     3    85   145    48     0   -99      0  211\n",
      "C:\\Users\\MELANI~1\\AppData\\Local\\Temp\\dssatpbehljtd and its content has been removed.\n",
      "TWAD: 9550    Sum irrigation: 196.10    Cost: 13.69\n",
      "(35.800000000000004, 37.1) 13.691372473616497\n",
      "C:\\Users\\MELANI~1\\AppData\\Local\\Temp\\dssatbhqxvzmf created.\n",
      "Static files copied to C:\\Users\\MELANI~1\\AppData\\Local\\Temp\\dssatbhqxvzmf.\n",
      "RUN    TRT FLO MAT TOPWT HARWT  RAIN  TIRR   CET  PESW  TNUP  TNLF   TSON TSOC\n",
      "           dap dap kg/ha kg/ha    mm    mm    mm    mm kg/ha kg/ha  kg/ha t/ha\n",
      "  1 PT   1  40 -99  6386  5002     3    52   119    42     0   -99      0  211\n",
      "C:\\Users\\MELANI~1\\AppData\\Local\\Temp\\dssatbhqxvzmf and its content has been removed.\n",
      "TWAD: 6386    Sum irrigation: 162.90    Cost: 14.10\n",
      "(29.0, 10.700000000000001) 14.103491733886356\n",
      "C:\\Users\\MELANI~1\\AppData\\Local\\Temp\\dssatmfciazsq created.\n",
      "Static files copied to C:\\Users\\MELANI~1\\AppData\\Local\\Temp\\dssatmfciazsq.\n",
      "RUN    TRT FLO MAT TOPWT HARWT  RAIN  TIRR   CET  PESW  TNUP  TNLF   TSON TSOC\n",
      "           dap dap kg/ha kg/ha    mm    mm    mm    mm kg/ha kg/ha  kg/ha t/ha\n",
      "  1 PT   1  40 -99  6951  5558     3    58   123    43     0   -99      0  211\n",
      "C:\\Users\\MELANI~1\\AppData\\Local\\Temp\\dssatmfciazsq and its content has been removed.\n",
      "TWAD: 6951    Sum irrigation: 169.00    Cost: 13.61\n",
      "(29.0, 16.8) 13.606773720452637\n",
      "C:\\Users\\MELANI~1\\AppData\\Local\\Temp\\dssatvyikodjf created.\n",
      "Static files copied to C:\\Users\\MELANI~1\\AppData\\Local\\Temp\\dssatvyikodjf.\n",
      "RUN    TRT FLO MAT TOPWT HARWT  RAIN  TIRR   CET  PESW  TNUP  TNLF   TSON TSOC\n",
      "           dap dap kg/ha kg/ha    mm    mm    mm    mm kg/ha kg/ha  kg/ha t/ha\n",
      "  1 PT   1  40 -99  6951  5558     3    58   123    43     0   -99      0  211\n",
      "C:\\Users\\MELANI~1\\AppData\\Local\\Temp\\dssatvyikodjf and its content has been removed.\n",
      "TWAD: 6951    Sum irrigation: 168.40    Cost: 13.55\n",
      "(29.0, 16.2) 13.552173720452636\n",
      "C:\\Users\\MELANI~1\\AppData\\Local\\Temp\\dssatiolwlcwn created.\n",
      "Static files copied to C:\\Users\\MELANI~1\\AppData\\Local\\Temp\\dssatiolwlcwn.\n",
      "RUN    TRT FLO MAT TOPWT HARWT  RAIN  TIRR   CET  PESW  TNUP  TNLF   TSON TSOC\n",
      "           dap dap kg/ha kg/ha    mm    mm    mm    mm kg/ha kg/ha  kg/ha t/ha\n",
      "  1 PT   1  40 -99 10083  8460     3    91   150    49     0   -99      0  211\n",
      "C:\\Users\\MELANI~1\\AppData\\Local\\Temp\\dssatiolwlcwn and its content has been removed.\n",
      "TWAD: 10083    Sum irrigation: 201.90    Cost: 14.13\n",
      "(29.0, 49.7) 14.127835796474681\n",
      "C:\\Users\\MELANI~1\\AppData\\Local\\Temp\\dssatfduefuzp created.\n",
      "Static files copied to C:\\Users\\MELANI~1\\AppData\\Local\\Temp\\dssatfduefuzp.\n",
      "RUN    TRT FLO MAT TOPWT HARWT  RAIN  TIRR   CET  PESW  TNUP  TNLF   TSON TSOC\n",
      "           dap dap kg/ha kg/ha    mm    mm    mm    mm kg/ha kg/ha  kg/ha t/ha\n",
      "  1 PT   1  40 -99  6572  5187     3    54   120    42     0   -99      0  211\n",
      "C:\\Users\\MELANI~1\\AppData\\Local\\Temp\\dssatfduefuzp and its content has been removed.\n",
      "TWAD: 6572    Sum irrigation: 164.70    Cost: 13.90\n",
      "(29.0, 12.5) 13.89510268215875\n",
      "C:\\Users\\MELANI~1\\AppData\\Local\\Temp\\dssatyvhebqaz created.\n",
      "Static files copied to C:\\Users\\MELANI~1\\AppData\\Local\\Temp\\dssatyvhebqaz.\n",
      "RUN    TRT FLO MAT TOPWT HARWT  RAIN  TIRR   CET  PESW  TNUP  TNLF   TSON TSOC\n",
      "           dap dap kg/ha kg/ha    mm    mm    mm    mm kg/ha kg/ha  kg/ha t/ha\n",
      "  1 PT   1  40 -99  6104  4781     3    50   117    41     0   -99      0  211\n",
      "C:\\Users\\MELANI~1\\AppData\\Local\\Temp\\dssatyvhebqaz and its content has been removed.\n",
      "TWAD: 6104    Sum irrigation: 161.20    Cost: 14.55\n",
      "(0.9, 37.1) 14.550157748008232\n",
      "C:\\Users\\MELANI~1\\AppData\\Local\\Temp\\dssatbnjaeytv created.\n",
      "Static files copied to C:\\Users\\MELANI~1\\AppData\\Local\\Temp\\dssatbnjaeytv.\n",
      "RUN    TRT FLO MAT TOPWT HARWT  RAIN  TIRR   CET  PESW  TNUP  TNLF   TSON TSOC\n",
      "           dap dap kg/ha kg/ha    mm    mm    mm    mm kg/ha kg/ha  kg/ha t/ha\n",
      "  1 PT   1  40 -99  9840  8243     3    88   148    49     0   -99      0  211\n",
      "C:\\Users\\MELANI~1\\AppData\\Local\\Temp\\dssatbnjaeytv and its content has been removed.\n",
      "TWAD: 9840    Sum irrigation: 198.80    Cost: 13.85\n",
      "(29.0, 46.6) 13.845440474585317\n",
      "Execution time: 219.27\n",
      "The optimal values are (25.0, 37.1)\n"
     ]
    },
    {
     "data": {
      "text/plain": [
       "(25.0, 37.1)"
      ]
     },
     "execution_count": 8,
     "metadata": {},
     "output_type": "execute_result"
    }
   ],
   "source": [
    "# dates = ['8-07-2022', '14-07-2022', '20-07-2022', '25-07-2022']\n",
    "dates = ['8-07-2022','14-07-2022']\n",
    "dssat.optimization_irri(dates)\n",
    "\n",
    "# Execution time: 345.98\n",
    "# The optimal values are (1.8, 2.6, 1.1, 3.1)"
   ]
  },
  {
   "cell_type": "code",
   "execution_count": 25,
   "metadata": {},
   "outputs": [
    {
     "name": "stdout",
     "output_type": "stream",
     "text": [
      "C:\\Users\\MELANI~1\\AppData\\Local\\Temp\\dssatfduvukor created.\n",
      "Static files copied to C:\\Users\\MELANI~1\\AppData\\Local\\Temp\\dssatfduvukor.\n",
      "RUN    TRT FLO MAT TOPWT HARWT  RAIN  TIRR   CET  PESW  TNUP  TNLF   TSON TSOC\n",
      "           dap dap kg/ha kg/ha    mm    mm    mm    mm kg/ha kg/ha  kg/ha t/ha\n",
      "  1 PT   1  40 -99  8611  7128     3    75   137    46     0   -99      0  211\n",
      "Output model save in attribute new_output\n",
      "C:\\Users\\MELANI~1\\AppData\\Local\\Temp\\dssatfduvukor and its content has been removed.\n",
      "TWAD: 8611    Sum irrigation: 185.30    Cost: 13.15\n"
     ]
    }
   ],
   "source": [
    "dates = ['8-07-2022','14-07-2022']\n",
    "dssat.next_dates = dates\n",
    "dssat.irri_cost([25.0, 37.1], save=True)\n",
    "out2 = dssat.new_output"
   ]
  },
  {
   "cell_type": "code",
   "execution_count": 10,
   "metadata": {},
   "outputs": [
    {
     "name": "stdout",
     "output_type": "stream",
     "text": [
      "C:\\Users\\MELANI~1\\AppData\\Local\\Temp\\dssatgjwojrdy created.\n",
      "Static files copied to C:\\Users\\MELANI~1\\AppData\\Local\\Temp\\dssatgjwojrdy.\n",
      "RUN    TRT FLO MAT TOPWT HARWT  RAIN  TIRR   CET  PESW  TNUP  TNLF   TSON TSOC\n",
      "           dap dap kg/ha kg/ha    mm    mm    mm    mm kg/ha kg/ha  kg/ha t/ha\n",
      "  1 PT   1  40 -99  9839  8243     3    88   148    48     0   -99      0  211\n",
      "C:\\Users\\MELANI~1\\AppData\\Local\\Temp\\dssatgjwojrdy and its content has been removed.\n",
      "TWAD: 9839    Sum irrigation: 198.20    Cost: 10.63\n",
      "(25.0, 25.0, 25.0) 10.630906786166603\n",
      "C:\\Users\\MELANI~1\\AppData\\Local\\Temp\\dssatpwbqgijo created.\n",
      "Static files copied to C:\\Users\\MELANI~1\\AppData\\Local\\Temp\\dssatpwbqgijo.\n",
      "RUN    TRT FLO MAT TOPWT HARWT  RAIN  TIRR   CET  PESW  TNUP  TNLF   TSON TSOC\n",
      "           dap dap kg/ha kg/ha    mm    mm    mm    mm kg/ha kg/ha  kg/ha t/ha\n",
      "  1 PT   1  40 -99  8667  7189     3    76   138    46     0   -99      0  211\n",
      "C:\\Users\\MELANI~1\\AppData\\Local\\Temp\\dssatpwbqgijo and its content has been removed.\n",
      "TWAD: 8667    Sum irrigation: 186.50    Cost: 11.01\n",
      "(25.0, 25.0, 13.3) 11.01125314983118\n",
      "C:\\Users\\MELANI~1\\AppData\\Local\\Temp\\dssatipupvidf created.\n",
      "Static files copied to C:\\Users\\MELANI~1\\AppData\\Local\\Temp\\dssatipupvidf.\n",
      "RUN    TRT FLO MAT TOPWT HARWT  RAIN  TIRR   CET  PESW  TNUP  TNLF   TSON TSOC\n",
      "           dap dap kg/ha kg/ha    mm    mm    mm    mm kg/ha kg/ha  kg/ha t/ha\n",
      "  1 PT   1  40 -99 10088  8464     3    91   150    49     0   -99      0  211\n",
      "C:\\Users\\MELANI~1\\AppData\\Local\\Temp\\dssatipupvidf and its content has been removed.\n",
      "TWAD: 10088    Sum irrigation: 201.60    Cost: 10.66\n",
      "(28.400000000000002, 25.0, 25.0) 10.66201777412195\n",
      "C:\\Users\\MELANI~1\\AppData\\Local\\Temp\\dssatmmhjmyng created.\n",
      "Static files copied to C:\\Users\\MELANI~1\\AppData\\Local\\Temp\\dssatmmhjmyng.\n",
      "RUN    TRT FLO MAT TOPWT HARWT  RAIN  TIRR   CET  PESW  TNUP  TNLF   TSON TSOC\n",
      "           dap dap kg/ha kg/ha    mm    mm    mm    mm kg/ha kg/ha  kg/ha t/ha\n",
      "  1 PT   1  40 -99  9355  7814     3    83   144    47     0   -99      0  211\n",
      "C:\\Users\\MELANI~1\\AppData\\Local\\Temp\\dssatmmhjmyng and its content has been removed.\n",
      "TWAD: 9355    Sum irrigation: 193.20    Cost: 10.73\n",
      "(25.0, 25.0, 20.0) 10.729353560613077\n",
      "C:\\Users\\MELANI~1\\AppData\\Local\\Temp\\dssatcrezddcb created.\n",
      "Static files copied to C:\\Users\\MELANI~1\\AppData\\Local\\Temp\\dssatcrezddcb.\n",
      "RUN    TRT FLO MAT TOPWT HARWT  RAIN  TIRR   CET  PESW  TNUP  TNLF   TSON TSOC\n",
      "           dap dap kg/ha kg/ha    mm    mm    mm    mm kg/ha kg/ha  kg/ha t/ha\n",
      "  1 PT   1  40 -99 10001  8387     3    90   150    49     0   -99      0  211\n",
      "C:\\Users\\MELANI~1\\AppData\\Local\\Temp\\dssatcrezddcb and its content has been removed.\n",
      "TWAD: 10001    Sum irrigation: 200.50    Cost: 10.65\n",
      "(25.0, 27.3, 25.0) 10.654883724596502\n",
      "C:\\Users\\MELANI~1\\AppData\\Local\\Temp\\dssatbqfifiiu created.\n",
      "Static files copied to C:\\Users\\MELANI~1\\AppData\\Local\\Temp\\dssatbqfifiiu.\n",
      "RUN    TRT FLO MAT TOPWT HARWT  RAIN  TIRR   CET  PESW  TNUP  TNLF   TSON TSOC\n",
      "           dap dap kg/ha kg/ha    mm    mm    mm    mm kg/ha kg/ha  kg/ha t/ha\n",
      "  1 PT   1  40 -99  9757  8169     3    87   147    48     0   -99      0  211\n",
      "C:\\Users\\MELANI~1\\AppData\\Local\\Temp\\dssatbqfifiiu and its content has been removed.\n",
      "TWAD: 9757    Sum irrigation: 197.40    Cost: 10.65\n",
      "(25.0, 24.200000000000003, 25.0) 10.646191840921428\n",
      "C:\\Users\\MELANI~1\\AppData\\Local\\Temp\\dssatzrlvzcoj created.\n",
      "Static files copied to C:\\Users\\MELANI~1\\AppData\\Local\\Temp\\dssatzrlvzcoj.\n",
      "RUN    TRT FLO MAT TOPWT HARWT  RAIN  TIRR   CET  PESW  TNUP  TNLF   TSON TSOC\n",
      "           dap dap kg/ha kg/ha    mm    mm    mm    mm kg/ha kg/ha  kg/ha t/ha\n",
      "  1 PT   1  40 -99  7604  6191     3    65   129    44     0   -99      0  211\n",
      "C:\\Users\\MELANI~1\\AppData\\Local\\Temp\\dssatzrlvzcoj and its content has been removed.\n",
      "TWAD: 7604    Sum irrigation: 175.40    Cost: 11.73\n",
      "(25.0, 25.0, 2.2) 11.731817154027203\n",
      "C:\\Users\\MELANI~1\\AppData\\Local\\Temp\\dssatacbibajy created.\n",
      "Static files copied to C:\\Users\\MELANI~1\\AppData\\Local\\Temp\\dssatacbibajy.\n",
      "RUN    TRT FLO MAT TOPWT HARWT  RAIN  TIRR   CET  PESW  TNUP  TNLF   TSON TSOC\n",
      "           dap dap kg/ha kg/ha    mm    mm    mm    mm kg/ha kg/ha  kg/ha t/ha\n",
      "  1 PT   1  40 -99  8177  6712     3    70   134    45     0   -99      0  211\n",
      "C:\\Users\\MELANI~1\\AppData\\Local\\Temp\\dssatacbibajy and its content has been removed.\n",
      "TWAD: 8177    Sum irrigation: 180.20    Cost: 11.23\n",
      "(7.0, 25.0, 25.0) 11.227537998833558\n",
      "C:\\Users\\MELANI~1\\AppData\\Local\\Temp\\dssatcawckcwz created.\n",
      "Static files copied to C:\\Users\\MELANI~1\\AppData\\Local\\Temp\\dssatcawckcwz.\n",
      "RUN    TRT FLO MAT TOPWT HARWT  RAIN  TIRR   CET  PESW  TNUP  TNLF   TSON TSOC\n",
      "           dap dap kg/ha kg/ha    mm    mm    mm    mm kg/ha kg/ha  kg/ha t/ha\n",
      "  1 PT   1  40 -99  8280  6825     3    72   135    46     0   -99      0  211\n",
      "C:\\Users\\MELANI~1\\AppData\\Local\\Temp\\dssatcawckcwz and its content has been removed.\n",
      "TWAD: 8280    Sum irrigation: 182.90    Cost: 11.25\n",
      "(25.0, 25.0, 9.700000000000001) 11.245874581904035\n",
      "C:\\Users\\MELANI~1\\AppData\\Local\\Temp\\dssataufjoiyj created.\n",
      "Static files copied to C:\\Users\\MELANI~1\\AppData\\Local\\Temp\\dssataufjoiyj.\n",
      "RUN    TRT FLO MAT TOPWT HARWT  RAIN  TIRR   CET  PESW  TNUP  TNLF   TSON TSOC\n",
      "           dap dap kg/ha kg/ha    mm    mm    mm    mm kg/ha kg/ha  kg/ha t/ha\n",
      "  1 PT   1  40 -99 10413  8750     3    95   153    50     0   -99      0  211\n",
      "C:\\Users\\MELANI~1\\AppData\\Local\\Temp\\dssataufjoiyj and its content has been removed.\n",
      "TWAD: 10413    Sum irrigation: 205.90    Cost: 10.72\n",
      "(25.0, 25.0, 32.7) 10.722388018562992\n",
      "C:\\Users\\MELANI~1\\AppData\\Local\\Temp\\dssatmslvkzrc created.\n",
      "Static files copied to C:\\Users\\MELANI~1\\AppData\\Local\\Temp\\dssatmslvkzrc.\n",
      "RUN    TRT FLO MAT TOPWT HARWT  RAIN  TIRR   CET  PESW  TNUP  TNLF   TSON TSOC\n",
      "           dap dap kg/ha kg/ha    mm    mm    mm    mm kg/ha kg/ha  kg/ha t/ha\n",
      "  1 PT   1  40 -99  8002  6572     3    69   132    45     0   -99      0  211\n",
      "C:\\Users\\MELANI~1\\AppData\\Local\\Temp\\dssatmslvkzrc and its content has been removed.\n",
      "TWAD: 8002    Sum irrigation: 179.60    Cost: 11.41\n",
      "(25.0, 6.4, 25.0) 11.41125937546871\n",
      "C:\\Users\\MELANI~1\\AppData\\Local\\Temp\\dssatxdkjkrua created.\n",
      "Static files copied to C:\\Users\\MELANI~1\\AppData\\Local\\Temp\\dssatxdkjkrua.\n",
      "RUN    TRT FLO MAT TOPWT HARWT  RAIN  TIRR   CET  PESW  TNUP  TNLF   TSON TSOC\n",
      "           dap dap kg/ha kg/ha    mm    mm    mm    mm kg/ha kg/ha  kg/ha t/ha\n",
      "  1 PT   1  40 -99  6089  4681     3    48   117    39     0   -99      0  211\n",
      "C:\\Users\\MELANI~1\\AppData\\Local\\Temp\\dssatxdkjkrua and its content has been removed.\n",
      "TWAD: 6089    Sum irrigation: 159.00    Cost: 13.71\n",
      "(7.0, 25.0, 3.8000000000000003) 13.708061998759183\n",
      "C:\\Users\\MELANI~1\\AppData\\Local\\Temp\\dssatkkdpnwwz created.\n",
      "Static files copied to C:\\Users\\MELANI~1\\AppData\\Local\\Temp\\dssatkkdpnwwz.\n",
      "RUN    TRT FLO MAT TOPWT HARWT  RAIN  TIRR   CET  PESW  TNUP  TNLF   TSON TSOC\n",
      "           dap dap kg/ha kg/ha    mm    mm    mm    mm kg/ha kg/ha  kg/ha t/ha\n",
      "  1 PT   1  40 -99 10342  8688     3    94   153    50     0   -99      0  211\n",
      "C:\\Users\\MELANI~1\\AppData\\Local\\Temp\\dssatkkdpnwwz and its content has been removed.\n",
      "TWAD: 10342    Sum irrigation: 204.80    Cost: 10.69\n",
      "(25.0, 25.0, 31.6) 10.694806941070688\n",
      "C:\\Users\\MELANI~1\\AppData\\Local\\Temp\\dssatfynkttny created.\n",
      "Static files copied to C:\\Users\\MELANI~1\\AppData\\Local\\Temp\\dssatfynkttny.\n",
      "RUN    TRT FLO MAT TOPWT HARWT  RAIN  TIRR   CET  PESW  TNUP  TNLF   TSON TSOC\n",
      "           dap dap kg/ha kg/ha    mm    mm    mm    mm kg/ha kg/ha  kg/ha t/ha\n",
      "  1 PT   1  40 -99 10412  8749     3    95   153    50     0   -99      0  211\n",
      "C:\\Users\\MELANI~1\\AppData\\Local\\Temp\\dssatfynkttny and its content has been removed.\n",
      "TWAD: 10412    Sum irrigation: 205.70    Cost: 10.71\n",
      "(25.0, 32.5, 25.0) 10.708441444156604\n",
      "C:\\Users\\MELANI~1\\AppData\\Local\\Temp\\dssatoohkfxtk created.\n",
      "Static files copied to C:\\Users\\MELANI~1\\AppData\\Local\\Temp\\dssatoohkfxtk.\n",
      "RUN    TRT FLO MAT TOPWT HARWT  RAIN  TIRR   CET  PESW  TNUP  TNLF   TSON TSOC\n",
      "           dap dap kg/ha kg/ha    mm    mm    mm    mm kg/ha kg/ha  kg/ha t/ha\n",
      "  1 PT   1  40 -99  9904  8301     3    88   148    48     0   -99      0  211\n",
      "C:\\Users\\MELANI~1\\AppData\\Local\\Temp\\dssatoohkfxtk and its content has been removed.\n",
      "TWAD: 9904    Sum irrigation: 199.40    Cost: 10.66\n",
      "(9.600000000000001, 25.0, 41.6) 10.65818361091038\n",
      "C:\\Users\\MELANI~1\\AppData\\Local\\Temp\\dssatqplzeldd created.\n",
      "Static files copied to C:\\Users\\MELANI~1\\AppData\\Local\\Temp\\dssatqplzeldd.\n",
      "RUN    TRT FLO MAT TOPWT HARWT  RAIN  TIRR   CET  PESW  TNUP  TNLF   TSON TSOC\n",
      "           dap dap kg/ha kg/ha    mm    mm    mm    mm kg/ha kg/ha  kg/ha t/ha\n",
      "  1 PT   1  40 -99  7035  5625     3    59   125    43     0   -99      0  211\n",
      "C:\\Users\\MELANI~1\\AppData\\Local\\Temp\\dssatqplzeldd and its content has been removed.\n",
      "TWAD: 7035    Sum irrigation: 170.50    Cost: 12.37\n",
      "(25.0, 10.600000000000001, 11.700000000000001) 12.36606235891335\n",
      "C:\\Users\\MELANI~1\\AppData\\Local\\Temp\\dssataqkyosng created.\n",
      "Static files copied to C:\\Users\\MELANI~1\\AppData\\Local\\Temp\\dssataqkyosng.\n",
      "RUN    TRT FLO MAT TOPWT HARWT  RAIN  TIRR   CET  PESW  TNUP  TNLF   TSON TSOC\n",
      "           dap dap kg/ha kg/ha    mm    mm    mm    mm kg/ha kg/ha  kg/ha t/ha\n",
      "  1 PT   1  40 -99 10287  8640     3    94   152    50     0   -99      0  211\n",
      "C:\\Users\\MELANI~1\\AppData\\Local\\Temp\\dssataqkyosng and its content has been removed.\n",
      "TWAD: 10287    Sum irrigation: 205.60    Cost: 10.79\n",
      "(48.800000000000004, 8.6, 25.0) 10.794476032195497\n",
      "C:\\Users\\MELANI~1\\AppData\\Local\\Temp\\dssatjidhbcju created.\n",
      "Static files copied to C:\\Users\\MELANI~1\\AppData\\Local\\Temp\\dssatjidhbcju.\n",
      "RUN    TRT FLO MAT TOPWT HARWT  RAIN  TIRR   CET  PESW  TNUP  TNLF   TSON TSOC\n",
      "           dap dap kg/ha kg/ha    mm    mm    mm    mm kg/ha kg/ha  kg/ha t/ha\n",
      "  1 PT   1  40 -99  9758  8170     3    87   147    48     0   -99      0  211\n",
      "C:\\Users\\MELANI~1\\AppData\\Local\\Temp\\dssatjidhbcju and its content has been removed.\n",
      "TWAD: 9758    Sum irrigation: 197.70    Cost: 10.67\n",
      "(20.5, 29.0, 25.0) 10.665178249349772\n",
      "C:\\Users\\MELANI~1\\AppData\\Local\\Temp\\dssatlwcorbgq created.\n",
      "Static files copied to C:\\Users\\MELANI~1\\AppData\\Local\\Temp\\dssatlwcorbgq.\n",
      "RUN    TRT FLO MAT TOPWT HARWT  RAIN  TIRR   CET  PESW  TNUP  TNLF   TSON TSOC\n",
      "           dap dap kg/ha kg/ha    mm    mm    mm    mm kg/ha kg/ha  kg/ha t/ha\n",
      "  1 PT   1  40 -99 11331  9558     3   112   162    58     0   -99      0  211\n",
      "C:\\Users\\MELANI~1\\AppData\\Local\\Temp\\dssatlwcorbgq and its content has been removed.\n",
      "TWAD: 11331    Sum irrigation: 223.40    Cost: 11.52\n",
      "(31.3, 43.900000000000006, 25.0) 11.522516492782941\n",
      "C:\\Users\\MELANI~1\\AppData\\Local\\Temp\\dssatuctgelfq created.\n",
      "Static files copied to C:\\Users\\MELANI~1\\AppData\\Local\\Temp\\dssatuctgelfq.\n",
      "RUN    TRT FLO MAT TOPWT HARWT  RAIN  TIRR   CET  PESW  TNUP  TNLF   TSON TSOC\n",
      "           dap dap kg/ha kg/ha    mm    mm    mm    mm kg/ha kg/ha  kg/ha t/ha\n",
      "  1 PT   1  40 -99 10889  9166     3   102   158    53     0   -99      0  211\n",
      "C:\\Users\\MELANI~1\\AppData\\Local\\Temp\\dssatuctgelfq and its content has been removed.\n",
      "TWAD: 10889    Sum irrigation: 212.30    Cost: 10.88\n",
      "(25.0, 25.0, 39.1) 10.875223132807132\n",
      "C:\\Users\\MELANI~1\\AppData\\Local\\Temp\\dssatvgmotgge created.\n",
      "Static files copied to C:\\Users\\MELANI~1\\AppData\\Local\\Temp\\dssatvgmotgge.\n",
      "RUN    TRT FLO MAT TOPWT HARWT  RAIN  TIRR   CET  PESW  TNUP  TNLF   TSON TSOC\n",
      "           dap dap kg/ha kg/ha    mm    mm    mm    mm kg/ha kg/ha  kg/ha t/ha\n",
      "  1 PT   1  40 -99  9256  7722     3    82   143    47     0   -99      0  211\n",
      "C:\\Users\\MELANI~1\\AppData\\Local\\Temp\\dssatvgmotgge and its content has been removed.\n",
      "TWAD: 9256    Sum irrigation: 193.60    Cost: 10.85\n",
      "(28.1, 28.400000000000002, 13.9) 10.845779194908136\n",
      "C:\\Users\\MELANI~1\\AppData\\Local\\Temp\\dssatyiuzqcpy created.\n",
      "Static files copied to C:\\Users\\MELANI~1\\AppData\\Local\\Temp\\dssatyiuzqcpy.\n",
      "RUN    TRT FLO MAT TOPWT HARWT  RAIN  TIRR   CET  PESW  TNUP  TNLF   TSON TSOC\n",
      "           dap dap kg/ha kg/ha    mm    mm    mm    mm kg/ha kg/ha  kg/ha t/ha\n",
      "  1 PT   1  40 -99  9224  7709     3    83   145    47     0   -99      0  211\n",
      "C:\\Users\\MELANI~1\\AppData\\Local\\Temp\\dssatyiuzqcpy and its content has been removed.\n",
      "TWAD: 9224    Sum irrigation: 194.60    Cost: 10.94\n",
      "(1.5, 44.900000000000006, 25.0) 10.938785946116008\n",
      "C:\\Users\\MELANI~1\\AppData\\Local\\Temp\\dssatshpccaac created.\n",
      "Static files copied to C:\\Users\\MELANI~1\\AppData\\Local\\Temp\\dssatshpccaac.\n",
      "RUN    TRT FLO MAT TOPWT HARWT  RAIN  TIRR   CET  PESW  TNUP  TNLF   TSON TSOC\n",
      "           dap dap kg/ha kg/ha    mm    mm    mm    mm kg/ha kg/ha  kg/ha t/ha\n",
      "  1 PT   1  40 -99 11362  9588     3   119   162    65     0   -99      0  211\n",
      "C:\\Users\\MELANI~1\\AppData\\Local\\Temp\\dssatshpccaac and its content has been removed.\n",
      "TWAD: 11362    Sum irrigation: 229.90    Cost: 12.10\n",
      "(40.400000000000006, 25.0, 41.300000000000004) 12.100964397415172\n",
      "C:\\Users\\MELANI~1\\AppData\\Local\\Temp\\dssatsarupjdn created.\n",
      "Static files copied to C:\\Users\\MELANI~1\\AppData\\Local\\Temp\\dssatsarupjdn.\n",
      "RUN    TRT FLO MAT TOPWT HARWT  RAIN  TIRR   CET  PESW  TNUP  TNLF   TSON TSOC\n",
      "           dap dap kg/ha kg/ha    mm    mm    mm    mm kg/ha kg/ha  kg/ha t/ha\n",
      "  1 PT   1  40 -99 11362  9588     3   133   162    79     0   -99      0  211\n",
      "C:\\Users\\MELANI~1\\AppData\\Local\\Temp\\dssatsarupjdn and its content has been removed.\n",
      "TWAD: 11362    Sum irrigation: 243.80    Cost: 13.51\n",
      "(47.1, 25.0, 48.5) 13.505173286304057\n",
      "C:\\Users\\MELANI~1\\AppData\\Local\\Temp\\dssatcpfeltrw created.\n",
      "Static files copied to C:\\Users\\MELANI~1\\AppData\\Local\\Temp\\dssatcpfeltrw.\n",
      "RUN    TRT FLO MAT TOPWT HARWT  RAIN  TIRR   CET  PESW  TNUP  TNLF   TSON TSOC\n",
      "           dap dap kg/ha kg/ha    mm    mm    mm    mm kg/ha kg/ha  kg/ha t/ha\n",
      "  1 PT   1  40 -99 10769  9061     3   100   157    52     0   -99      0  211\n",
      "C:\\Users\\MELANI~1\\AppData\\Local\\Temp\\dssatcpfeltrw and its content has been removed.\n",
      "TWAD: 10769    Sum irrigation: 211.60    Cost: 10.90\n",
      "(29.700000000000003, 25.0, 33.7) 10.90186770360841\n",
      "C:\\Users\\MELANI~1\\AppData\\Local\\Temp\\dssatkruvhnle created.\n",
      "Static files copied to C:\\Users\\MELANI~1\\AppData\\Local\\Temp\\dssatkruvhnle.\n",
      "RUN    TRT FLO MAT TOPWT HARWT  RAIN  TIRR   CET  PESW  TNUP  TNLF   TSON TSOC\n",
      "           dap dap kg/ha kg/ha    mm    mm    mm    mm kg/ha kg/ha  kg/ha t/ha\n",
      "  1 PT   1  40 -99 10608  8921     3    98   155    51     0   -99      0  211\n",
      "C:\\Users\\MELANI~1\\AppData\\Local\\Temp\\dssatkruvhnle and its content has been removed.\n",
      "TWAD: 10608    Sum irrigation: 209.00    Cost: 10.81\n",
      "(35.800000000000004, 25.0, 25.0) 10.813317418789836\n",
      "C:\\Users\\MELANI~1\\AppData\\Local\\Temp\\dssatfsskefga created.\n",
      "Static files copied to C:\\Users\\MELANI~1\\AppData\\Local\\Temp\\dssatfsskefga.\n",
      "RUN    TRT FLO MAT TOPWT HARWT  RAIN  TIRR   CET  PESW  TNUP  TNLF   TSON TSOC\n",
      "           dap dap kg/ha kg/ha    mm    mm    mm    mm kg/ha kg/ha  kg/ha t/ha\n",
      "  1 PT   1  40 -99 10834  9118     3   101   157    52     0   -99      0  211\n",
      "C:\\Users\\MELANI~1\\AppData\\Local\\Temp\\dssatfsskefga and its content has been removed.\n",
      "TWAD: 10834    Sum irrigation: 212.30    Cost: 10.91\n",
      "(31.6, 32.5, 25.0) 10.912520293136394\n",
      "C:\\Users\\MELANI~1\\AppData\\Local\\Temp\\dssatavdlidwe created.\n",
      "Static files copied to C:\\Users\\MELANI~1\\AppData\\Local\\Temp\\dssatavdlidwe.\n",
      "RUN    TRT FLO MAT TOPWT HARWT  RAIN  TIRR   CET  PESW  TNUP  TNLF   TSON TSOC\n",
      "           dap dap kg/ha kg/ha    mm    mm    mm    mm kg/ha kg/ha  kg/ha t/ha\n",
      "  1 PT   1  40 -99 11268  9499     3   110   161    57     0   -99      0  211\n",
      "C:\\Users\\MELANI~1\\AppData\\Local\\Temp\\dssatavdlidwe and its content has been removed.\n",
      "TWAD: 11268    Sum irrigation: 220.20    Cost: 11.28\n",
      "(25.0, 25.0, 47.0) 11.281528656394133\n",
      "C:\\Users\\MELANI~1\\AppData\\Local\\Temp\\dssatryisayvx created.\n",
      "Static files copied to C:\\Users\\MELANI~1\\AppData\\Local\\Temp\\dssatryisayvx.\n",
      "RUN    TRT FLO MAT TOPWT HARWT  RAIN  TIRR   CET  PESW  TNUP  TNLF   TSON TSOC\n",
      "           dap dap kg/ha kg/ha    mm    mm    mm    mm kg/ha kg/ha  kg/ha t/ha\n",
      "  1 PT   1  40 -99  9355  7814     3    83   144    47     0   -99      0  211\n",
      "C:\\Users\\MELANI~1\\AppData\\Local\\Temp\\dssatryisayvx and its content has been removed.\n",
      "TWAD: 9355    Sum irrigation: 193.30    Cost: 10.74\n",
      "(25.0, 25.0, 20.1) 10.735580227279742\n",
      "C:\\Users\\MELANI~1\\AppData\\Local\\Temp\\dssatlyhjgzum created.\n",
      "Static files copied to C:\\Users\\MELANI~1\\AppData\\Local\\Temp\\dssatlyhjgzum.\n",
      "RUN    TRT FLO MAT TOPWT HARWT  RAIN  TIRR   CET  PESW  TNUP  TNLF   TSON TSOC\n",
      "           dap dap kg/ha kg/ha    mm    mm    mm    mm kg/ha kg/ha  kg/ha t/ha\n",
      "  1 PT   1  40 -99  9165  7642     3    81   142    47     0   -99      0  211\n",
      "C:\\Users\\MELANI~1\\AppData\\Local\\Temp\\dssatlyhjgzum and its content has been removed.\n",
      "TWAD: 9165    Sum irrigation: 191.60    Cost: 10.81\n",
      "(25.0, 18.400000000000002, 25.0) 10.808218840277267\n",
      "C:\\Users\\MELANI~1\\AppData\\Local\\Temp\\dssatrsdsthpy created.\n",
      "Static files copied to C:\\Users\\MELANI~1\\AppData\\Local\\Temp\\dssatrsdsthpy.\n",
      "RUN    TRT FLO MAT TOPWT HARWT  RAIN  TIRR   CET  PESW  TNUP  TNLF   TSON TSOC\n",
      "           dap dap kg/ha kg/ha    mm    mm    mm    mm kg/ha kg/ha  kg/ha t/ha\n",
      "  1 PT   1  40 -99  9877  8274     3    89   148    49     0   -99      0  211\n",
      "C:\\Users\\MELANI~1\\AppData\\Local\\Temp\\dssatrsdsthpy and its content has been removed.\n",
      "TWAD: 9877    Sum irrigation: 200.30    Cost: 10.74\n",
      "(45.2, 25.0, 6.9) 10.741584572276544\n",
      "C:\\Users\\MELANI~1\\AppData\\Local\\Temp\\dssatgndvbona created.\n",
      "Static files copied to C:\\Users\\MELANI~1\\AppData\\Local\\Temp\\dssatgndvbona.\n",
      "RUN    TRT FLO MAT TOPWT HARWT  RAIN  TIRR   CET  PESW  TNUP  TNLF   TSON TSOC\n",
      "           dap dap kg/ha kg/ha    mm    mm    mm    mm kg/ha kg/ha  kg/ha t/ha\n",
      "  1 PT   1  40 -99 10158  8525     3    92   151    49     0   -99      0  211\n",
      "C:\\Users\\MELANI~1\\AppData\\Local\\Temp\\dssatgndvbona and its content has been removed.\n",
      "TWAD: 10158    Sum irrigation: 202.40    Cost: 10.66\n",
      "(25.0, 29.200000000000003, 25.0) 10.663405281003616\n",
      "C:\\Users\\MELANI~1\\AppData\\Local\\Temp\\dssatiriuzzkc created.\n",
      "Static files copied to C:\\Users\\MELANI~1\\AppData\\Local\\Temp\\dssatiriuzzkc.\n",
      "RUN    TRT FLO MAT TOPWT HARWT  RAIN  TIRR   CET  PESW  TNUP  TNLF   TSON TSOC\n",
      "           dap dap kg/ha kg/ha    mm    mm    mm    mm kg/ha kg/ha  kg/ha t/ha\n",
      "  1 PT   1  40 -99  9839  8243     3    88   148    48     0   -99      0  211\n",
      "C:\\Users\\MELANI~1\\AppData\\Local\\Temp\\dssatiriuzzkc and its content has been removed.\n",
      "TWAD: 9839    Sum irrigation: 198.90    Cost: 10.68\n",
      "(25.0, 25.0, 25.700000000000003) 10.67779123061105\n",
      "C:\\Users\\MELANI~1\\AppData\\Local\\Temp\\dssatbdybqgsi created.\n",
      "Static files copied to C:\\Users\\MELANI~1\\AppData\\Local\\Temp\\dssatbdybqgsi.\n",
      "RUN    TRT FLO MAT TOPWT HARWT  RAIN  TIRR   CET  PESW  TNUP  TNLF   TSON TSOC\n",
      "           dap dap kg/ha kg/ha    mm    mm    mm    mm kg/ha kg/ha  kg/ha t/ha\n",
      "  1 PT   1  40 -99  8952  7450     3    79   140    47     0   -99      0  211\n",
      "C:\\Users\\MELANI~1\\AppData\\Local\\Temp\\dssatbdybqgsi and its content has been removed.\n",
      "TWAD: 8952    Sum irrigation: 190.50    Cost: 10.95\n",
      "(25.0, 32.5, 9.8) 10.949567271013983\n",
      "C:\\Users\\MELANI~1\\AppData\\Local\\Temp\\dssateoqbicmh created.\n",
      "Static files copied to C:\\Users\\MELANI~1\\AppData\\Local\\Temp\\dssateoqbicmh.\n",
      "RUN    TRT FLO MAT TOPWT HARWT  RAIN  TIRR   CET  PESW  TNUP  TNLF   TSON TSOC\n",
      "           dap dap kg/ha kg/ha    mm    mm    mm    mm kg/ha kg/ha  kg/ha t/ha\n",
      "  1 PT   1  40 -99  9876  8274     3    89   148    49     0   -99      0  211\n",
      "C:\\Users\\MELANI~1\\AppData\\Local\\Temp\\dssateoqbicmh and its content has been removed.\n",
      "TWAD: 9876    Sum irrigation: 200.50    Cost: 10.76\n",
      "(47.6, 25.0, 4.7) 10.756129148733153\n",
      "C:\\Users\\MELANI~1\\AppData\\Local\\Temp\\dssatczvjbitw created.\n",
      "Static files copied to C:\\Users\\MELANI~1\\AppData\\Local\\Temp\\dssatczvjbitw.\n",
      "RUN    TRT FLO MAT TOPWT HARWT  RAIN  TIRR   CET  PESW  TNUP  TNLF   TSON TSOC\n",
      "           dap dap kg/ha kg/ha    mm    mm    mm    mm kg/ha kg/ha  kg/ha t/ha\n",
      "  1 PT   1  40 -99 10486  8814     3    96   154    50     0   -99      0  211\n",
      "C:\\Users\\MELANI~1\\AppData\\Local\\Temp\\dssatczvjbitw and its content has been removed.\n",
      "TWAD: 10486    Sum irrigation: 207.10    Cost: 10.76\n",
      "(25.0, 33.9, 25.0) 10.757756962479363\n",
      "C:\\Users\\MELANI~1\\AppData\\Local\\Temp\\dssatlopwdwcu created.\n",
      "Static files copied to C:\\Users\\MELANI~1\\AppData\\Local\\Temp\\dssatlopwdwcu.\n",
      "RUN    TRT FLO MAT TOPWT HARWT  RAIN  TIRR   CET  PESW  TNUP  TNLF   TSON TSOC\n",
      "           dap dap kg/ha kg/ha    mm    mm    mm    mm kg/ha kg/ha  kg/ha t/ha\n",
      "  1 PT   1  40 -99 11056  9314     3   105   159    54     0   -99      0  211\n",
      "C:\\Users\\MELANI~1\\AppData\\Local\\Temp\\dssatlopwdwcu and its content has been removed.\n",
      "TWAD: 11056    Sum irrigation: 217.90    Cost: 11.22\n",
      "(14.9, 44.900000000000006, 34.9) 11.221707137773313\n",
      "C:\\Users\\MELANI~1\\AppData\\Local\\Temp\\dssattpxgurkd created.\n",
      "Static files copied to C:\\Users\\MELANI~1\\AppData\\Local\\Temp\\dssattpxgurkd.\n",
      "RUN    TRT FLO MAT TOPWT HARWT  RAIN  TIRR   CET  PESW  TNUP  TNLF   TSON TSOC\n",
      "           dap dap kg/ha kg/ha    mm    mm    mm    mm kg/ha kg/ha  kg/ha t/ha\n",
      "  1 PT   1  40 -99  7683  6269     3    66   131    44     0   -99      0  211\n",
      "C:\\Users\\MELANI~1\\AppData\\Local\\Temp\\dssattpxgurkd and its content has been removed.\n",
      "TWAD: 7683    Sum irrigation: 177.10    Cost: 11.70\n",
      "(3.9000000000000004, 25.0, 25.0) 11.703802334253387\n",
      "C:\\Users\\MELANI~1\\AppData\\Local\\Temp\\dssatuxtimcqx created.\n",
      "Static files copied to C:\\Users\\MELANI~1\\AppData\\Local\\Temp\\dssatuxtimcqx.\n",
      "RUN    TRT FLO MAT TOPWT HARWT  RAIN  TIRR   CET  PESW  TNUP  TNLF   TSON TSOC\n",
      "           dap dap kg/ha kg/ha    mm    mm    mm    mm kg/ha kg/ha  kg/ha t/ha\n",
      "  1 PT   1  40 -99 10754  9049     3   100   156    52     0   -99      0  211\n",
      "C:\\Users\\MELANI~1\\AppData\\Local\\Temp\\dssatuxtimcqx and its content has been removed.\n",
      "TWAD: 10754    Sum irrigation: 211.40    Cost: 10.90\n",
      "(39.5, 23.700000000000003, 25.0) 10.896531738972314\n",
      "C:\\Users\\MELANI~1\\AppData\\Local\\Temp\\dssattmmvhibr created.\n",
      "Static files copied to C:\\Users\\MELANI~1\\AppData\\Local\\Temp\\dssattmmvhibr.\n",
      "RUN    TRT FLO MAT TOPWT HARWT  RAIN  TIRR   CET  PESW  TNUP  TNLF   TSON TSOC\n",
      "           dap dap kg/ha kg/ha    mm    mm    mm    mm kg/ha kg/ha  kg/ha t/ha\n",
      "  1 PT   1  40 -99 10668  8972     3    99   156    52     0   -99      0  211\n",
      "C:\\Users\\MELANI~1\\AppData\\Local\\Temp\\dssattmmvhibr and its content has been removed.\n",
      "TWAD: 10668    Sum irrigation: 210.60    Cost: 10.89\n",
      "(39.900000000000006, 22.5, 25.0) 10.894066358668113\n",
      "C:\\Users\\MELANI~1\\AppData\\Local\\Temp\\dssatmcxjedfw created.\n",
      "Static files copied to C:\\Users\\MELANI~1\\AppData\\Local\\Temp\\dssatmcxjedfw.\n",
      "RUN    TRT FLO MAT TOPWT HARWT  RAIN  TIRR   CET  PESW  TNUP  TNLF   TSON TSOC\n",
      "           dap dap kg/ha kg/ha    mm    mm    mm    mm kg/ha kg/ha  kg/ha t/ha\n",
      "  1 PT   1  40 -99  9335  7807     3    84   146    47     0   -99      0  211\n",
      "C:\\Users\\MELANI~1\\AppData\\Local\\Temp\\dssatmcxjedfw and its content has been removed.\n",
      "TWAD: 9335    Sum irrigation: 195.60    Cost: 10.90\n",
      "(1.7000000000000002, 25.0, 45.7) 10.899568425530251\n",
      "C:\\Users\\MELANI~1\\AppData\\Local\\Temp\\dssatoutzkjcd created.\n",
      "Static files copied to C:\\Users\\MELANI~1\\AppData\\Local\\Temp\\dssatoutzkjcd.\n",
      "RUN    TRT FLO MAT TOPWT HARWT  RAIN  TIRR   CET  PESW  TNUP  TNLF   TSON TSOC\n",
      "           dap dap kg/ha kg/ha    mm    mm    mm    mm kg/ha kg/ha  kg/ha t/ha\n",
      "  1 PT   1  40 -99 10692  8993     3    99   156    51     0   -99      0  211\n",
      "C:\\Users\\MELANI~1\\AppData\\Local\\Temp\\dssatoutzkjcd and its content has been removed.\n",
      "TWAD: 10692    Sum irrigation: 209.80    Cost: 10.82\n",
      "(25.0, 36.6, 25.0) 10.815366782432752\n",
      "C:\\Users\\MELANI~1\\AppData\\Local\\Temp\\dssatyjluiyap created.\n",
      "Static files copied to C:\\Users\\MELANI~1\\AppData\\Local\\Temp\\dssatyjluiyap.\n",
      "RUN    TRT FLO MAT TOPWT HARWT  RAIN  TIRR   CET  PESW  TNUP  TNLF   TSON TSOC\n",
      "           dap dap kg/ha kg/ha    mm    mm    mm    mm kg/ha kg/ha  kg/ha t/ha\n",
      "  1 PT   1  40 -99 10884  9162     3   102   158    53     0   -99      0  211\n",
      "C:\\Users\\MELANI~1\\AppData\\Local\\Temp\\dssatyjluiyap and its content has been removed.\n",
      "TWAD: 10884    Sum irrigation: 212.60    Cost: 10.90\n",
      "(25.0, 46.300000000000004, 18.1) 10.902398207438607\n",
      "C:\\Users\\MELANI~1\\AppData\\Local\\Temp\\dssatwpflqxwo created.\n",
      "Static files copied to C:\\Users\\MELANI~1\\AppData\\Local\\Temp\\dssatwpflqxwo.\n",
      "RUN    TRT FLO MAT TOPWT HARWT  RAIN  TIRR   CET  PESW  TNUP  TNLF   TSON TSOC\n",
      "           dap dap kg/ha kg/ha    mm    mm    mm    mm kg/ha kg/ha  kg/ha t/ha\n",
      "  1 PT   1  40 -99 10692  8993     3    99   156    51     0   -99      0  211\n",
      "C:\\Users\\MELANI~1\\AppData\\Local\\Temp\\dssatwpflqxwo and its content has been removed.\n",
      "TWAD: 10692    Sum irrigation: 209.40    Cost: 10.78\n",
      "(25.0, 36.2, 25.0) 10.784646782432752\n",
      "C:\\Users\\MELANI~1\\AppData\\Local\\Temp\\dssataccohxll created.\n",
      "Static files copied to C:\\Users\\MELANI~1\\AppData\\Local\\Temp\\dssataccohxll.\n",
      "RUN    TRT FLO MAT TOPWT HARWT  RAIN  TIRR   CET  PESW  TNUP  TNLF   TSON TSOC\n",
      "           dap dap kg/ha kg/ha    mm    mm    mm    mm kg/ha kg/ha  kg/ha t/ha\n",
      "  1 PT   1  40 -99  9559  7993     3    85   146    48     0   -99      0  211\n",
      "C:\\Users\\MELANI~1\\AppData\\Local\\Temp\\dssataccohxll and its content has been removed.\n",
      "TWAD: 9559    Sum irrigation: 196.20    Cost: 10.74\n",
      "(25.0, 21.6, 26.400000000000002) 10.737519832134016\n",
      "C:\\Users\\MELANI~1\\AppData\\Local\\Temp\\dssatzhuhghrn created.\n",
      "Static files copied to C:\\Users\\MELANI~1\\AppData\\Local\\Temp\\dssatzhuhghrn.\n",
      "RUN    TRT FLO MAT TOPWT HARWT  RAIN  TIRR   CET  PESW  TNUP  TNLF   TSON TSOC\n",
      "           dap dap kg/ha kg/ha    mm    mm    mm    mm kg/ha kg/ha  kg/ha t/ha\n",
      "  1 PT   1  40 -99  7351  5945     3    63   127    44     0   -99      0  211\n",
      "C:\\Users\\MELANI~1\\AppData\\Local\\Temp\\dssatzhuhghrn and its content has been removed.\n",
      "TWAD: 7351    Sum irrigation: 173.40    Cost: 12.00\n",
      "(25.0, 0.2, 25.0) 12.00288937580912\n",
      "C:\\Users\\MELANI~1\\AppData\\Local\\Temp\\dssatzlwjrpof created.\n",
      "Static files copied to C:\\Users\\MELANI~1\\AppData\\Local\\Temp\\dssatzlwjrpof.\n",
      "RUN    TRT FLO MAT TOPWT HARWT  RAIN  TIRR   CET  PESW  TNUP  TNLF   TSON TSOC\n",
      "           dap dap kg/ha kg/ha    mm    mm    mm    mm kg/ha kg/ha  kg/ha t/ha\n",
      "  1 PT   1  40 -99 11143  9390     3   107   160    55     0   -99      0  211\n",
      "C:\\Users\\MELANI~1\\AppData\\Local\\Temp\\dssatzlwjrpof and its content has been removed.\n",
      "TWAD: 11143    Sum irrigation: 218.10    Cost: 11.18\n",
      "(25.0, 25.0, 44.900000000000006) 11.182065602774532\n",
      "C:\\Users\\MELANI~1\\AppData\\Local\\Temp\\dssatbwrlxdsd created.\n",
      "Static files copied to C:\\Users\\MELANI~1\\AppData\\Local\\Temp\\dssatbwrlxdsd.\n",
      "RUN    TRT FLO MAT TOPWT HARWT  RAIN  TIRR   CET  PESW  TNUP  TNLF   TSON TSOC\n",
      "           dap dap kg/ha kg/ha    mm    mm    mm    mm kg/ha kg/ha  kg/ha t/ha\n",
      "  1 PT   1  40 -99  9554  7988     3    85   145    48     0   -99      0  211\n",
      "C:\\Users\\MELANI~1\\AppData\\Local\\Temp\\dssatbwrlxdsd and its content has been removed.\n",
      "TWAD: 9554    Sum irrigation: 196.60    Cost: 10.77\n",
      "(17.3, 26.900000000000002, 29.200000000000003) 10.76792637870005\n",
      "C:\\Users\\MELANI~1\\AppData\\Local\\Temp\\dssatdsnkrdun created.\n",
      "Static files copied to C:\\Users\\MELANI~1\\AppData\\Local\\Temp\\dssatdsnkrdun.\n",
      "RUN    TRT FLO MAT TOPWT HARWT  RAIN  TIRR   CET  PESW  TNUP  TNLF   TSON TSOC\n",
      "           dap dap kg/ha kg/ha    mm    mm    mm    mm kg/ha kg/ha  kg/ha t/ha\n",
      "  1 PT   1  40 -99  9655  8079     3    86   146    48     0   -99      0  211\n",
      "C:\\Users\\MELANI~1\\AppData\\Local\\Temp\\dssatdsnkrdun and its content has been removed.\n",
      "TWAD: 9655    Sum irrigation: 196.20    Cost: 10.65\n",
      "(23.0, 25.0, 25.0) 10.654305833790753\n",
      "C:\\Users\\MELANI~1\\AppData\\Local\\Temp\\dssatfgnyqoyc created.\n",
      "Static files copied to C:\\Users\\MELANI~1\\AppData\\Local\\Temp\\dssatfgnyqoyc.\n",
      "RUN    TRT FLO MAT TOPWT HARWT  RAIN  TIRR   CET  PESW  TNUP  TNLF   TSON TSOC\n",
      "           dap dap kg/ha kg/ha    mm    mm    mm    mm kg/ha kg/ha  kg/ha t/ha\n",
      "  1 PT   1  40 -99 11102  9354     3   106   160    55     0   -99      0  211\n",
      "C:\\Users\\MELANI~1\\AppData\\Local\\Temp\\dssatfgnyqoyc and its content has been removed.\n",
      "TWAD: 11102    Sum irrigation: 216.20    Cost: 11.05\n",
      "(43.0, 25.0, 25.0) 11.049908196189136\n",
      "C:\\Users\\MELANI~1\\AppData\\Local\\Temp\\dssatlxfxlerv created.\n",
      "Static files copied to C:\\Users\\MELANI~1\\AppData\\Local\\Temp\\dssatlxfxlerv.\n",
      "RUN    TRT FLO MAT TOPWT HARWT  RAIN  TIRR   CET  PESW  TNUP  TNLF   TSON TSOC\n",
      "           dap dap kg/ha kg/ha    mm    mm    mm    mm kg/ha kg/ha  kg/ha t/ha\n",
      "  1 PT   1  40 -99 11362  9588     3   125   162    71     0   -99      0  211\n",
      "C:\\Users\\MELANI~1\\AppData\\Local\\Temp\\dssatlxfxlerv and its content has been removed.\n",
      "TWAD: 11362    Sum irrigation: 235.70    Cost: 12.67\n",
      "(44.1, 43.400000000000006, 25.0) 12.666013286304057\n",
      "C:\\Users\\MELANI~1\\AppData\\Local\\Temp\\dssatuuzdnyso created.\n",
      "Static files copied to C:\\Users\\MELANI~1\\AppData\\Local\\Temp\\dssatuuzdnyso.\n",
      "RUN    TRT FLO MAT TOPWT HARWT  RAIN  TIRR   CET  PESW  TNUP  TNLF   TSON TSOC\n",
      "           dap dap kg/ha kg/ha    mm    mm    mm    mm kg/ha kg/ha  kg/ha t/ha\n",
      "  1 PT   1  40 -99  8774  7287     3    77   139    46     0   -99      0  211\n",
      "C:\\Users\\MELANI~1\\AppData\\Local\\Temp\\dssatuuzdnyso and its content has been removed.\n",
      "TWAD: 8774    Sum irrigation: 188.00    Cost: 10.98\n",
      "(25.0, 14.8, 25.0) 10.984087148638345\n",
      "C:\\Users\\MELANI~1\\AppData\\Local\\Temp\\dssatvyiltbou created.\n",
      "Static files copied to C:\\Users\\MELANI~1\\AppData\\Local\\Temp\\dssatvyiltbou.\n",
      "RUN    TRT FLO MAT TOPWT HARWT  RAIN  TIRR   CET  PESW  TNUP  TNLF   TSON TSOC\n",
      "           dap dap kg/ha kg/ha    mm    mm    mm    mm kg/ha kg/ha  kg/ha t/ha\n",
      "  1 PT   1  40 -99  8623  7143     3    75   137    46     0   -99      0  211\n",
      "C:\\Users\\MELANI~1\\AppData\\Local\\Temp\\dssatvyiltbou and its content has been removed.\n",
      "TWAD: 8623    Sum irrigation: 185.80    Cost: 11.02\n",
      "(12.600000000000001, 25.0, 25.0) 11.019183661556136\n",
      "C:\\Users\\MELANI~1\\AppData\\Local\\Temp\\dssatueunivsc created.\n",
      "Static files copied to C:\\Users\\MELANI~1\\AppData\\Local\\Temp\\dssatueunivsc.\n",
      "RUN    TRT FLO MAT TOPWT HARWT  RAIN  TIRR   CET  PESW  TNUP  TNLF   TSON TSOC\n",
      "           dap dap kg/ha kg/ha    mm    mm    mm    mm kg/ha kg/ha  kg/ha t/ha\n",
      "  1 PT   1  40 -99 10486  8814     3    96   154    50     0   -99      0  211\n",
      "C:\\Users\\MELANI~1\\AppData\\Local\\Temp\\dssatueunivsc and its content has been removed.\n",
      "TWAD: 10486    Sum irrigation: 206.30    Cost: 10.70\n",
      "(25.0, 33.1, 25.0) 10.698379184701583\n",
      "C:\\Users\\MELANI~1\\AppData\\Local\\Temp\\dssatdojhwprm created.\n",
      "Static files copied to C:\\Users\\MELANI~1\\AppData\\Local\\Temp\\dssatdojhwprm.\n",
      "RUN    TRT FLO MAT TOPWT HARWT  RAIN  TIRR   CET  PESW  TNUP  TNLF   TSON TSOC\n",
      "           dap dap kg/ha kg/ha    mm    mm    mm    mm kg/ha kg/ha  kg/ha t/ha\n",
      "  1 PT   1  40 -99 11142  9389     3   107   160    55     0   -99      0  211\n",
      "C:\\Users\\MELANI~1\\AppData\\Local\\Temp\\dssatdojhwprm and its content has been removed.\n",
      "TWAD: 11142    Sum irrigation: 218.00    Cost: 11.17\n",
      "(25.0, 44.800000000000004, 25.0) 11.174278845805167\n",
      "C:\\Users\\MELANI~1\\AppData\\Local\\Temp\\dssatuqlughbq created.\n",
      "Static files copied to C:\\Users\\MELANI~1\\AppData\\Local\\Temp\\dssatuqlughbq.\n",
      "RUN    TRT FLO MAT TOPWT HARWT  RAIN  TIRR   CET  PESW  TNUP  TNLF   TSON TSOC\n",
      "           dap dap kg/ha kg/ha    mm    mm    mm    mm kg/ha kg/ha  kg/ha t/ha\n",
      "  1 PT   1  40 -99 11362  9588     3   114   162    60     0   -99      0  211\n",
      "C:\\Users\\MELANI~1\\AppData\\Local\\Temp\\dssatuqlughbq and its content has been removed.\n",
      "TWAD: 11362    Sum irrigation: 224.60    Cost: 11.61\n",
      "(30.400000000000002, 46.0, 25.0) 11.61077328630406\n",
      "C:\\Users\\MELANI~1\\AppData\\Local\\Temp\\dssatkbpgeoqo created.\n",
      "Static files copied to C:\\Users\\MELANI~1\\AppData\\Local\\Temp\\dssatkbpgeoqo.\n",
      "RUN    TRT FLO MAT TOPWT HARWT  RAIN  TIRR   CET  PESW  TNUP  TNLF   TSON TSOC\n",
      "           dap dap kg/ha kg/ha    mm    mm    mm    mm kg/ha kg/ha  kg/ha t/ha\n",
      "  1 PT   1  40 -99  6028  4644     3    48   116    40     0   -99      0  211\n",
      "C:\\Users\\MELANI~1\\AppData\\Local\\Temp\\dssatkbpgeoqo and its content has been removed.\n",
      "TWAD: 6028    Sum irrigation: 159.30    Cost: 13.85\n",
      "(25.0, 2.5, 8.6) 13.850602375533041\n",
      "C:\\Users\\MELANI~1\\AppData\\Local\\Temp\\dssatqgxcjnrx created.\n",
      "Static files copied to C:\\Users\\MELANI~1\\AppData\\Local\\Temp\\dssatqgxcjnrx.\n",
      "RUN    TRT FLO MAT TOPWT HARWT  RAIN  TIRR   CET  PESW  TNUP  TNLF   TSON TSOC\n",
      "           dap dap kg/ha kg/ha    mm    mm    mm    mm kg/ha kg/ha  kg/ha t/ha\n",
      "  1 PT   1  40 -99  8859  7365     3    78   140    47     0   -99      0  211\n",
      "C:\\Users\\MELANI~1\\AppData\\Local\\Temp\\dssatqgxcjnrx and its content has been removed.\n",
      "TWAD: 8859    Sum irrigation: 189.10    Cost: 10.96\n",
      "(25.0, 15.9, 25.0) 10.960501359405097\n",
      "C:\\Users\\MELANI~1\\AppData\\Local\\Temp\\dssatfculpqpu created.\n",
      "Static files copied to C:\\Users\\MELANI~1\\AppData\\Local\\Temp\\dssatfculpqpu.\n",
      "RUN    TRT FLO MAT TOPWT HARWT  RAIN  TIRR   CET  PESW  TNUP  TNLF   TSON TSOC\n",
      "           dap dap kg/ha kg/ha    mm    mm    mm    mm kg/ha kg/ha  kg/ha t/ha\n",
      "  1 PT   1  40 -99 11221  9457     3   109   161    56     0   -99      0  211\n",
      "C:\\Users\\MELANI~1\\AppData\\Local\\Temp\\dssatfculpqpu and its content has been removed.\n",
      "TWAD: 11221    Sum irrigation: 219.50    Cost: 11.25\n",
      "(25.0, 46.300000000000004, 25.0) 11.251128714955112\n",
      "C:\\Users\\MELANI~1\\AppData\\Local\\Temp\\dssatsgpakmgo created.\n",
      "Static files copied to C:\\Users\\MELANI~1\\AppData\\Local\\Temp\\dssatsgpakmgo.\n",
      "RUN    TRT FLO MAT TOPWT HARWT  RAIN  TIRR   CET  PESW  TNUP  TNLF   TSON TSOC\n",
      "           dap dap kg/ha kg/ha    mm    mm    mm    mm kg/ha kg/ha  kg/ha t/ha\n",
      "  1 PT   1  40 -99 10888  9166     3   102   158    53     0   -99      0  211\n",
      "C:\\Users\\MELANI~1\\AppData\\Local\\Temp\\dssatsgpakmgo and its content has been removed.\n",
      "TWAD: 10888    Sum irrigation: 212.90    Cost: 10.92\n",
      "(22.700000000000003, 42.0, 25.0) 10.92357789974854\n",
      "C:\\Users\\MELANI~1\\AppData\\Local\\Temp\\dssatluiojgvg created.\n",
      "Static files copied to C:\\Users\\MELANI~1\\AppData\\Local\\Temp\\dssatluiojgvg.\n",
      "RUN    TRT FLO MAT TOPWT HARWT  RAIN  TIRR   CET  PESW  TNUP  TNLF   TSON TSOC\n",
      "           dap dap kg/ha kg/ha    mm    mm    mm    mm kg/ha kg/ha  kg/ha t/ha\n",
      "  1 PT   1  40 -99 11268  9499     3   110   161    57     0   -99      0  211\n",
      "C:\\Users\\MELANI~1\\AppData\\Local\\Temp\\dssatluiojgvg and its content has been removed.\n",
      "TWAD: 11268    Sum irrigation: 220.60    Cost: 11.32\n",
      "(31.400000000000002, 25.0, 41.0) 11.316088656394136\n",
      "C:\\Users\\MELANI~1\\AppData\\Local\\Temp\\dssatqenefyyk created.\n",
      "Static files copied to C:\\Users\\MELANI~1\\AppData\\Local\\Temp\\dssatqenefyyk.\n",
      "RUN    TRT FLO MAT TOPWT HARWT  RAIN  TIRR   CET  PESW  TNUP  TNLF   TSON TSOC\n",
      "           dap dap kg/ha kg/ha    mm    mm    mm    mm kg/ha kg/ha  kg/ha t/ha\n",
      "  1 PT   1  40 -99  9558  7992     3    85   146    48     0   -99      0  211\n",
      "C:\\Users\\MELANI~1\\AppData\\Local\\Temp\\dssatqenefyyk and its content has been removed.\n",
      "TWAD: 9558    Sum irrigation: 195.90    Cost: 10.72\n",
      "(25.0, 25.0, 22.700000000000003) 10.71896877485342\n",
      "C:\\Users\\MELANI~1\\AppData\\Local\\Temp\\dssatepipsooh created.\n",
      "Static files copied to C:\\Users\\MELANI~1\\AppData\\Local\\Temp\\dssatepipsooh.\n",
      "RUN    TRT FLO MAT TOPWT HARWT  RAIN  TIRR   CET  PESW  TNUP  TNLF   TSON TSOC\n",
      "           dap dap kg/ha kg/ha    mm    mm    mm    mm kg/ha kg/ha  kg/ha t/ha\n",
      "  1 PT   1  40 -99 11332  9559     3   112   162    58     0   -99      0  211\n",
      "C:\\Users\\MELANI~1\\AppData\\Local\\Temp\\dssatepipsooh and its content has been removed.\n",
      "TWAD: 11332    Sum irrigation: 222.80    Cost: 11.47\n",
      "(25.0, 49.6, 25.0) 11.468613453966338\n",
      "C:\\Users\\MELANI~1\\AppData\\Local\\Temp\\dssatiskvwqtq created.\n",
      "Static files copied to C:\\Users\\MELANI~1\\AppData\\Local\\Temp\\dssatiskvwqtq.\n",
      "RUN    TRT FLO MAT TOPWT HARWT  RAIN  TIRR   CET  PESW  TNUP  TNLF   TSON TSOC\n",
      "           dap dap kg/ha kg/ha    mm    mm    mm    mm kg/ha kg/ha  kg/ha t/ha\n",
      "  1 PT   1  40 -99  6595  5230     3    55   121    42     0   -99      0  211\n",
      "C:\\Users\\MELANI~1\\AppData\\Local\\Temp\\dssatiskvwqtq and its content has been removed.\n",
      "TWAD: 6595    Sum irrigation: 166.90    Cost: 12.98\n",
      "(6.7, 5.6000000000000005, 31.400000000000002) 12.97915109133856\n",
      "C:\\Users\\MELANI~1\\AppData\\Local\\Temp\\dssatevbsuaeg created.\n",
      "Static files copied to C:\\Users\\MELANI~1\\AppData\\Local\\Temp\\dssatevbsuaeg.\n",
      "RUN    TRT FLO MAT TOPWT HARWT  RAIN  TIRR   CET  PESW  TNUP  TNLF   TSON TSOC\n",
      "           dap dap kg/ha kg/ha    mm    mm    mm    mm kg/ha kg/ha  kg/ha t/ha\n",
      "  1 PT   1  40 -99  9846  8250     3    88   148    48     0   -99      0  211\n",
      "C:\\Users\\MELANI~1\\AppData\\Local\\Temp\\dssatevbsuaeg and its content has been removed.\n",
      "TWAD: 9846    Sum irrigation: 199.00    Cost: 10.68\n",
      "(25.0, 48.800000000000004, 2.0) 10.678743907665435\n",
      "C:\\Users\\MELANI~1\\AppData\\Local\\Temp\\dssatlthckcob created.\n",
      "Static files copied to C:\\Users\\MELANI~1\\AppData\\Local\\Temp\\dssatlthckcob.\n",
      "RUN    TRT FLO MAT TOPWT HARWT  RAIN  TIRR   CET  PESW  TNUP  TNLF   TSON TSOC\n",
      "           dap dap kg/ha kg/ha    mm    mm    mm    mm kg/ha kg/ha  kg/ha t/ha\n",
      "  1 PT   1  40 -99 10413  8750     3    95   153    50     0   -99      0  211\n",
      "C:\\Users\\MELANI~1\\AppData\\Local\\Temp\\dssatlthckcob and its content has been removed.\n",
      "TWAD: 10413    Sum irrigation: 206.20    Cost: 10.74\n",
      "(20.8, 37.2, 25.0) 10.744481351896324\n",
      "C:\\Users\\MELANI~1\\AppData\\Local\\Temp\\dssatktzlvvbe created.\n",
      "Static files copied to C:\\Users\\MELANI~1\\AppData\\Local\\Temp\\dssatktzlvvbe.\n",
      "RUN    TRT FLO MAT TOPWT HARWT  RAIN  TIRR   CET  PESW  TNUP  TNLF   TSON TSOC\n",
      "           dap dap kg/ha kg/ha    mm    mm    mm    mm kg/ha kg/ha  kg/ha t/ha\n",
      "  1 PT   1  40 -99 10692  8993     3    99   156    51     0   -99      0  211\n",
      "C:\\Users\\MELANI~1\\AppData\\Local\\Temp\\dssatktzlvvbe and its content has been removed.\n",
      "TWAD: 10692    Sum irrigation: 209.80    Cost: 10.82\n",
      "(25.0, 36.6, 25.0) 10.815366782432752\n",
      "C:\\Users\\MELANI~1\\AppData\\Local\\Temp\\dssatlhfsigmh created.\n",
      "Static files copied to C:\\Users\\MELANI~1\\AppData\\Local\\Temp\\dssatlhfsigmh.\n",
      "RUN    TRT FLO MAT TOPWT HARWT  RAIN  TIRR   CET  PESW  TNUP  TNLF   TSON TSOC\n",
      "           dap dap kg/ha kg/ha    mm    mm    mm    mm kg/ha kg/ha  kg/ha t/ha\n",
      "  1 PT   1  40 -99  6024  4693     3    49   118    40     0   -99      0  211\n",
      "C:\\Users\\MELANI~1\\AppData\\Local\\Temp\\dssatlhfsigmh and its content has been removed.\n",
      "TWAD: 6024    Sum irrigation: 160.40    Cost: 13.90\n",
      "(0.9, 11.3, 25.0) 13.895250278849556\n",
      "C:\\Users\\MELANI~1\\AppData\\Local\\Temp\\dssatcunhiyca created.\n",
      "Static files copied to C:\\Users\\MELANI~1\\AppData\\Local\\Temp\\dssatcunhiyca.\n",
      "RUN    TRT FLO MAT TOPWT HARWT  RAIN  TIRR   CET  PESW  TNUP  TNLF   TSON TSOC\n",
      "           dap dap kg/ha kg/ha    mm    mm    mm    mm kg/ha kg/ha  kg/ha t/ha\n",
      "  1 PT   1  40 -99 11362  9588     3   131   162    77     0   -99      0  211\n",
      "C:\\Users\\MELANI~1\\AppData\\Local\\Temp\\dssatcunhiyca and its content has been removed.\n",
      "TWAD: 11362    Sum irrigation: 241.80    Cost: 13.29\n",
      "(27.0, 48.300000000000004, 43.300000000000004) 13.292551064081838\n",
      "C:\\Users\\MELANI~1\\AppData\\Local\\Temp\\dssatnkctyruv created.\n",
      "Static files copied to C:\\Users\\MELANI~1\\AppData\\Local\\Temp\\dssatnkctyruv.\n",
      "RUN    TRT FLO MAT TOPWT HARWT  RAIN  TIRR   CET  PESW  TNUP  TNLF   TSON TSOC\n",
      "           dap dap kg/ha kg/ha    mm    mm    mm    mm kg/ha kg/ha  kg/ha t/ha\n",
      "  1 PT   1  40 -99 10954  9224     3   103   158    53     0   -99      0  211\n",
      "C:\\Users\\MELANI~1\\AppData\\Local\\Temp\\dssatnkctyruv and its content has been removed.\n",
      "TWAD: 10954    Sum irrigation: 214.20    Cost: 10.98\n",
      "(29.400000000000002, 36.6, 25.0) 10.983711990248029\n",
      "C:\\Users\\MELANI~1\\AppData\\Local\\Temp\\dssatbkkquobs created.\n",
      "Static files copied to C:\\Users\\MELANI~1\\AppData\\Local\\Temp\\dssatbkkquobs.\n",
      "RUN    TRT FLO MAT TOPWT HARWT  RAIN  TIRR   CET  PESW  TNUP  TNLF   TSON TSOC\n",
      "           dap dap kg/ha kg/ha    mm    mm    mm    mm kg/ha kg/ha  kg/ha t/ha\n",
      "  1 PT   1  40 -99 11263  9495     3   110   161    57     0   -99      0  211\n",
      "C:\\Users\\MELANI~1\\AppData\\Local\\Temp\\dssatbkkquobs and its content has been removed.\n",
      "TWAD: 11263    Sum irrigation: 221.70    Cost: 11.42\n",
      "(36.9, 36.6, 25.0) 11.415013792199392\n",
      "C:\\Users\\MELANI~1\\AppData\\Local\\Temp\\dssatssvgdsey created.\n",
      "Static files copied to C:\\Users\\MELANI~1\\AppData\\Local\\Temp\\dssatssvgdsey.\n",
      "RUN    TRT FLO MAT TOPWT HARWT  RAIN  TIRR   CET  PESW  TNUP  TNLF   TSON TSOC\n",
      "           dap dap kg/ha kg/ha    mm    mm    mm    mm kg/ha kg/ha  kg/ha t/ha\n",
      "  1 PT   1  40 -99 10939  9211     3   103   158    53     0   -99      0  211\n",
      "C:\\Users\\MELANI~1\\AppData\\Local\\Temp\\dssatssvgdsey and its content has been removed.\n",
      "TWAD: 10939    Sum irrigation: 214.90    Cost: 11.05\n",
      "(21.8, 36.6, 33.300000000000004) 11.050566525687513\n",
      "C:\\Users\\MELANI~1\\AppData\\Local\\Temp\\dssatiyxbekyh created.\n",
      "Static files copied to C:\\Users\\MELANI~1\\AppData\\Local\\Temp\\dssatiyxbekyh.\n",
      "RUN    TRT FLO MAT TOPWT HARWT  RAIN  TIRR   CET  PESW  TNUP  TNLF   TSON TSOC\n",
      "           dap dap kg/ha kg/ha    mm    mm    mm    mm kg/ha kg/ha  kg/ha t/ha\n",
      "  1 PT   1  40 -99 11362  9588     3   121   162    67     0   -99      0  211\n",
      "C:\\Users\\MELANI~1\\AppData\\Local\\Temp\\dssatiyxbekyh and its content has been removed.\n",
      "TWAD: 11362    Sum irrigation: 232.30    Cost: 12.33\n",
      "(47.5, 36.6, 25.0) 12.331151064081835\n",
      "C:\\Users\\MELANI~1\\AppData\\Local\\Temp\\dssathmeudrwn created.\n",
      "Static files copied to C:\\Users\\MELANI~1\\AppData\\Local\\Temp\\dssathmeudrwn.\n",
      "RUN    TRT FLO MAT TOPWT HARWT  RAIN  TIRR   CET  PESW  TNUP  TNLF   TSON TSOC\n",
      "           dap dap kg/ha kg/ha    mm    mm    mm    mm kg/ha kg/ha  kg/ha t/ha\n",
      "  1 PT   1  40 -99  9837  8241     3    88   148    48     0   -99      0  211\n",
      "C:\\Users\\MELANI~1\\AppData\\Local\\Temp\\dssathmeudrwn and its content has been removed.\n",
      "TWAD: 9837    Sum irrigation: 199.10    Cost: 10.69\n",
      "(25.0, 36.6, 14.3) 10.692919913331307\n",
      "C:\\Users\\MELANI~1\\AppData\\Local\\Temp\\dssattntpmopp created.\n",
      "Static files copied to C:\\Users\\MELANI~1\\AppData\\Local\\Temp\\dssattntpmopp.\n",
      "RUN    TRT FLO MAT TOPWT HARWT  RAIN  TIRR   CET  PESW  TNUP  TNLF   TSON TSOC\n",
      "           dap dap kg/ha kg/ha    mm    mm    mm    mm kg/ha kg/ha  kg/ha t/ha\n",
      "  1 PT   1  40 -99 11262  9493     3   110   161    57     0   -99      0  211\n",
      "C:\\Users\\MELANI~1\\AppData\\Local\\Temp\\dssattntpmopp and its content has been removed.\n",
      "TWAD: 11262    Sum irrigation: 220.80    Cost: 11.34\n",
      "(45.0, 27.6, 25.0) 11.337204488527789\n",
      "C:\\Users\\MELANI~1\\AppData\\Local\\Temp\\dssatgduvbtme created.\n",
      "Static files copied to C:\\Users\\MELANI~1\\AppData\\Local\\Temp\\dssatgduvbtme.\n",
      "RUN    TRT FLO MAT TOPWT HARWT  RAIN  TIRR   CET  PESW  TNUP  TNLF   TSON TSOC\n",
      "           dap dap kg/ha kg/ha    mm    mm    mm    mm kg/ha kg/ha  kg/ha t/ha\n",
      "  1 PT   1  40 -99  8585  7109     3    75   137    46     0   -99      0  211\n",
      "C:\\Users\\MELANI~1\\AppData\\Local\\Temp\\dssatgduvbtme and its content has been removed.\n",
      "TWAD: 8585    Sum irrigation: 186.60    Cost: 11.11\n",
      "(25.0, 36.6, 1.8) 11.105048942377525\n",
      "C:\\Users\\MELANI~1\\AppData\\Local\\Temp\\dssatcpscqpra created.\n",
      "Static files copied to C:\\Users\\MELANI~1\\AppData\\Local\\Temp\\dssatcpscqpra.\n",
      "RUN    TRT FLO MAT TOPWT HARWT  RAIN  TIRR   CET  PESW  TNUP  TNLF   TSON TSOC\n",
      "           dap dap kg/ha kg/ha    mm    mm    mm    mm kg/ha kg/ha  kg/ha t/ha\n",
      "  1 PT   1  40 -99  8952  7450     3    79   140    47     0   -99      0  211\n",
      "C:\\Users\\MELANI~1\\AppData\\Local\\Temp\\dssatcpscqpra and its content has been removed.\n",
      "TWAD: 8952    Sum irrigation: 190.10    Cost: 10.93\n",
      "(25.0, 32.7, 9.200000000000001) 10.925709493236205\n",
      "C:\\Users\\MELANI~1\\AppData\\Local\\Temp\\dssatetzgslfl created.\n",
      "Static files copied to C:\\Users\\MELANI~1\\AppData\\Local\\Temp\\dssatetzgslfl.\n",
      "RUN    TRT FLO MAT TOPWT HARWT  RAIN  TIRR   CET  PESW  TNUP  TNLF   TSON TSOC\n",
      "           dap dap kg/ha kg/ha    mm    mm    mm    mm kg/ha kg/ha  kg/ha t/ha\n",
      "  1 PT   1  40 -99  9840  8244     3    88   148    48     0   -99      0  211\n",
      "C:\\Users\\MELANI~1\\AppData\\Local\\Temp\\dssatetzgslfl and its content has been removed.\n",
      "TWAD: 9840    Sum irrigation: 198.80    Cost: 10.67\n",
      "(14.0, 36.6, 25.0) 10.670240474585318\n",
      "C:\\Users\\MELANI~1\\AppData\\Local\\Temp\\dssatizyweepw created.\n",
      "Static files copied to C:\\Users\\MELANI~1\\AppData\\Local\\Temp\\dssatizyweepw.\n",
      "RUN    TRT FLO MAT TOPWT HARWT  RAIN  TIRR   CET  PESW  TNUP  TNLF   TSON TSOC\n",
      "           dap dap kg/ha kg/ha    mm    mm    mm    mm kg/ha kg/ha  kg/ha t/ha\n",
      "  1 PT   1  40 -99  8685  7202     3    76   138    46     0   -99      0  211\n",
      "C:\\Users\\MELANI~1\\AppData\\Local\\Temp\\dssatizyweepw and its content has been removed.\n",
      "TWAD: 8685    Sum irrigation: 187.70    Cost: 11.06\n",
      "(25.0, 36.6, 2.9000000000000004) 11.060282762086038\n",
      "C:\\Users\\MELANI~1\\AppData\\Local\\Temp\\dssatugokogiy created.\n",
      "Static files copied to C:\\Users\\MELANI~1\\AppData\\Local\\Temp\\dssatugokogiy.\n",
      "RUN    TRT FLO MAT TOPWT HARWT  RAIN  TIRR   CET  PESW  TNUP  TNLF   TSON TSOC\n",
      "           dap dap kg/ha kg/ha    mm    mm    mm    mm kg/ha kg/ha  kg/ha t/ha\n",
      "  1 PT   1  40 -99  9934  8327     3    89   149    48     0   -99      0  211\n",
      "C:\\Users\\MELANI~1\\AppData\\Local\\Temp\\dssatugokogiy and its content has been removed.\n",
      "TWAD: 9934    Sum irrigation: 200.20    Cost: 10.69\n",
      "(25.0, 12.700000000000001, 39.300000000000004) 10.688261095694362\n",
      "C:\\Users\\MELANI~1\\AppData\\Local\\Temp\\dssatqqgybvry created.\n",
      "Static files copied to C:\\Users\\MELANI~1\\AppData\\Local\\Temp\\dssatqqgybvry.\n",
      "RUN    TRT FLO MAT TOPWT HARWT  RAIN  TIRR   CET  PESW  TNUP  TNLF   TSON TSOC\n",
      "           dap dap kg/ha kg/ha    mm    mm    mm    mm kg/ha kg/ha  kg/ha t/ha\n",
      "  1 PT   1  40 -99 10088  8464     3    91   150    49     0   -99      0  211\n",
      "C:\\Users\\MELANI~1\\AppData\\Local\\Temp\\dssatqqgybvry and its content has been removed.\n",
      "TWAD: 10088    Sum irrigation: 202.30    Cost: 10.71\n",
      "(17.5, 36.6, 25.0) 10.711017774121949\n",
      "C:\\Users\\MELANI~1\\AppData\\Local\\Temp\\dssatrxaihowb created.\n",
      "Static files copied to C:\\Users\\MELANI~1\\AppData\\Local\\Temp\\dssatrxaihowb.\n",
      "RUN    TRT FLO MAT TOPWT HARWT  RAIN  TIRR   CET  PESW  TNUP  TNLF   TSON TSOC\n",
      "           dap dap kg/ha kg/ha    mm    mm    mm    mm kg/ha kg/ha  kg/ha t/ha\n",
      "  1 PT   1  40 -99 11362  9588     3   120   162    66     0   -99      0  211\n",
      "C:\\Users\\MELANI~1\\AppData\\Local\\Temp\\dssatrxaihowb and its content has been removed.\n",
      "TWAD: 11362    Sum irrigation: 231.70    Cost: 12.27\n",
      "(25.0, 36.6, 46.900000000000006) 12.27312439741517\n",
      "C:\\Users\\MELANI~1\\AppData\\Local\\Temp\\dssatjbpzsowh created.\n",
      "Static files copied to C:\\Users\\MELANI~1\\AppData\\Local\\Temp\\dssatjbpzsowh.\n",
      "RUN    TRT FLO MAT TOPWT HARWT  RAIN  TIRR   CET  PESW  TNUP  TNLF   TSON TSOC\n",
      "           dap dap kg/ha kg/ha    mm    mm    mm    mm kg/ha kg/ha  kg/ha t/ha\n",
      "  1 PT   1  40 -99  5534  4158     3    43   112    39     0   -99      0  211\n",
      "C:\\Users\\MELANI~1\\AppData\\Local\\Temp\\dssatjbpzsowh and its content has been removed.\n",
      "TWAD: 5534    Sum irrigation: 154.30    Cost: 14.89\n",
      "(25.0, 1.6, 4.5) 14.885958126635684\n",
      "C:\\Users\\MELANI~1\\AppData\\Local\\Temp\\dssatdlbnrqsf created.\n",
      "Static files copied to C:\\Users\\MELANI~1\\AppData\\Local\\Temp\\dssatdlbnrqsf.\n",
      "RUN    TRT FLO MAT TOPWT HARWT  RAIN  TIRR   CET  PESW  TNUP  TNLF   TSON TSOC\n",
      "           dap dap kg/ha kg/ha    mm    mm    mm    mm kg/ha kg/ha  kg/ha t/ha\n",
      "  1 PT   1  40 -99 10341  8687     3    94   152    50     0   -99      0  211\n",
      "C:\\Users\\MELANI~1\\AppData\\Local\\Temp\\dssatdlbnrqsf and its content has been removed.\n",
      "TWAD: 10341    Sum irrigation: 205.10    Cost: 10.72\n",
      "(25.0, 31.900000000000002, 25.0) 10.71735497764288\n",
      "C:\\Users\\MELANI~1\\AppData\\Local\\Temp\\dssathnwtufku created.\n",
      "Static files copied to C:\\Users\\MELANI~1\\AppData\\Local\\Temp\\dssathnwtufku.\n",
      "RUN    TRT FLO MAT TOPWT HARWT  RAIN  TIRR   CET  PESW  TNUP  TNLF   TSON TSOC\n",
      "           dap dap kg/ha kg/ha    mm    mm    mm    mm kg/ha kg/ha  kg/ha t/ha\n",
      "  1 PT   1  40 -99 11189  9430     3   108   161    56     0   -99      0  211\n",
      "C:\\Users\\MELANI~1\\AppData\\Local\\Temp\\dssathnwtufku and its content has been removed.\n",
      "TWAD: 11189    Sum irrigation: 219.10    Cost: 11.24\n",
      "(25.0, 36.6, 34.300000000000004) 11.237349817887527\n",
      "C:\\Users\\MELANI~1\\AppData\\Local\\Temp\\dssatcbfydtkh created.\n",
      "Static files copied to C:\\Users\\MELANI~1\\AppData\\Local\\Temp\\dssatcbfydtkh.\n",
      "RUN    TRT FLO MAT TOPWT HARWT  RAIN  TIRR   CET  PESW  TNUP  TNLF   TSON TSOC\n",
      "           dap dap kg/ha kg/ha    mm    mm    mm    mm kg/ha kg/ha  kg/ha t/ha\n",
      "  1 PT   1  40 -99 11362  9588     3   119   162    65     0   -99      0  211\n",
      "C:\\Users\\MELANI~1\\AppData\\Local\\Temp\\dssatcbfydtkh and its content has been removed.\n",
      "TWAD: 11362    Sum irrigation: 230.00    Cost: 12.11\n",
      "(45.2, 36.6, 25.0) 12.110453286304057\n",
      "C:\\Users\\MELANI~1\\AppData\\Local\\Temp\\dssatofdovymr created.\n",
      "Static files copied to C:\\Users\\MELANI~1\\AppData\\Local\\Temp\\dssatofdovymr.\n",
      "RUN    TRT FLO MAT TOPWT HARWT  RAIN  TIRR   CET  PESW  TNUP  TNLF   TSON TSOC\n",
      "           dap dap kg/ha kg/ha    mm    mm    mm    mm kg/ha kg/ha  kg/ha t/ha\n",
      "  1 PT   1  40 -99 10486  8814     3    96   154    50     0   -99      0  211\n",
      "C:\\Users\\MELANI~1\\AppData\\Local\\Temp\\dssatofdovymr and its content has been removed.\n",
      "TWAD: 10486    Sum irrigation: 207.50    Cost: 10.79\n",
      "(25.0, 36.6, 22.700000000000003) 10.787659184701585\n",
      "C:\\Users\\MELANI~1\\AppData\\Local\\Temp\\dssattswnnfdy created.\n",
      "Static files copied to C:\\Users\\MELANI~1\\AppData\\Local\\Temp\\dssattswnnfdy.\n",
      "RUN    TRT FLO MAT TOPWT HARWT  RAIN  TIRR   CET  PESW  TNUP  TNLF   TSON TSOC\n",
      "           dap dap kg/ha kg/ha    mm    mm    mm    mm kg/ha kg/ha  kg/ha t/ha\n",
      "  1 PT   1  40 -99 11362  9588     3   118   162    64     0   -99      0  211\n",
      "C:\\Users\\MELANI~1\\AppData\\Local\\Temp\\dssattswnnfdy and its content has been removed.\n",
      "TWAD: 11362    Sum irrigation: 229.30    Cost: 12.04\n",
      "(44.5, 36.6, 25.0) 12.044217730748501\n",
      "C:\\Users\\MELANI~1\\AppData\\Local\\Temp\\dssatkmkslxxg created.\n",
      "Static files copied to C:\\Users\\MELANI~1\\AppData\\Local\\Temp\\dssatkmkslxxg.\n",
      "RUN    TRT FLO MAT TOPWT HARWT  RAIN  TIRR   CET  PESW  TNUP  TNLF   TSON TSOC\n",
      "           dap dap kg/ha kg/ha    mm    mm    mm    mm kg/ha kg/ha  kg/ha t/ha\n",
      "  1 PT   1  40 -99  9755  8167     3    87   147    48     0   -99      0  211\n",
      "C:\\Users\\MELANI~1\\AppData\\Local\\Temp\\dssatkmkslxxg and its content has been removed.\n",
      "TWAD: 9755    Sum irrigation: 198.50    Cost: 10.72\n",
      "(25.0, 36.6, 13.700000000000001) 10.720961763103869\n",
      "C:\\Users\\MELANI~1\\AppData\\Local\\Temp\\dssatmtounzfj created.\n",
      "Static files copied to C:\\Users\\MELANI~1\\AppData\\Local\\Temp\\dssatmtounzfj.\n",
      "RUN    TRT FLO MAT TOPWT HARWT  RAIN  TIRR   CET  PESW  TNUP  TNLF   TSON TSOC\n",
      "           dap dap kg/ha kg/ha    mm    mm    mm    mm kg/ha kg/ha  kg/ha t/ha\n",
      "  1 PT   1  40 -99  8991  7455     3    79   141    46     0   -99      0  211\n",
      "C:\\Users\\MELANI~1\\AppData\\Local\\Temp\\dssatmtounzfj and its content has been removed.\n",
      "TWAD: 8991    Sum irrigation: 190.20    Cost: 10.89\n",
      "(5.4, 36.6, 25.0) 10.892896797043077\n",
      "C:\\Users\\MELANI~1\\AppData\\Local\\Temp\\dssatchbkewla created.\n",
      "Static files copied to C:\\Users\\MELANI~1\\AppData\\Local\\Temp\\dssatchbkewla.\n",
      "RUN    TRT FLO MAT TOPWT HARWT  RAIN  TIRR   CET  PESW  TNUP  TNLF   TSON TSOC\n",
      "           dap dap kg/ha kg/ha    mm    mm    mm    mm kg/ha kg/ha  kg/ha t/ha\n",
      "  1 PT   1  40 -99 10954  9224     3   103   158    53     0   -99      0  211\n",
      "C:\\Users\\MELANI~1\\AppData\\Local\\Temp\\dssatchbkewla and its content has been removed.\n",
      "TWAD: 10954    Sum irrigation: 214.30    Cost: 10.99\n",
      "(29.5, 36.6, 25.0) 10.99180532358136\n",
      "C:\\Users\\MELANI~1\\AppData\\Local\\Temp\\dssatrcnrofvd created.\n",
      "Static files copied to C:\\Users\\MELANI~1\\AppData\\Local\\Temp\\dssatrcnrofvd.\n",
      "RUN    TRT FLO MAT TOPWT HARWT  RAIN  TIRR   CET  PESW  TNUP  TNLF   TSON TSOC\n",
      "           dap dap kg/ha kg/ha    mm    mm    mm    mm kg/ha kg/ha  kg/ha t/ha\n",
      "  1 PT   1  40 -99 10250  8607     3    93   152    50     0   -99      0  211\n",
      "C:\\Users\\MELANI~1\\AppData\\Local\\Temp\\dssatrcnrofvd and its content has been removed.\n",
      "TWAD: 10250    Sum irrigation: 204.20    Cost: 10.72\n",
      "(25.0, 21.1, 34.9) 10.720877287329046\n",
      "C:\\Users\\MELANI~1\\AppData\\Local\\Temp\\dssattpjgguar created.\n",
      "Static files copied to C:\\Users\\MELANI~1\\AppData\\Local\\Temp\\dssattpjgguar.\n",
      "RUN    TRT FLO MAT TOPWT HARWT  RAIN  TIRR   CET  PESW  TNUP  TNLF   TSON TSOC\n",
      "           dap dap kg/ha kg/ha    mm    mm    mm    mm kg/ha kg/ha  kg/ha t/ha\n",
      "  1 PT   1  40 -99  8859  7365     3    78   140    47     0   -99      0  211\n",
      "C:\\Users\\MELANI~1\\AppData\\Local\\Temp\\dssattpjgguar and its content has been removed.\n",
      "TWAD: 8859    Sum irrigation: 189.00    Cost: 10.95\n",
      "(25.0, 15.8, 25.0) 10.954648026071762\n",
      "C:\\Users\\MELANI~1\\AppData\\Local\\Temp\\dssatndfzylli created.\n",
      "Static files copied to C:\\Users\\MELANI~1\\AppData\\Local\\Temp\\dssatndfzylli.\n",
      "RUN    TRT FLO MAT TOPWT HARWT  RAIN  TIRR   CET  PESW  TNUP  TNLF   TSON TSOC\n",
      "           dap dap kg/ha kg/ha    mm    mm    mm    mm kg/ha kg/ha  kg/ha t/ha\n",
      "  1 PT   1  40 -99  8177  6730     3    70   133    45     0   -99      0  211\n",
      "C:\\Users\\MELANI~1\\AppData\\Local\\Temp\\dssatndfzylli and its content has been removed.\n",
      "TWAD: 8177    Sum irrigation: 181.10    Cost: 11.27\n",
      "(10.100000000000001, 36.6, 11.200000000000001) 11.273497998833557\n",
      "C:\\Users\\MELANI~1\\AppData\\Local\\Temp\\dssatcsbypygw created.\n",
      "Static files copied to C:\\Users\\MELANI~1\\AppData\\Local\\Temp\\dssatcsbypygw.\n",
      "RUN    TRT FLO MAT TOPWT HARWT  RAIN  TIRR   CET  PESW  TNUP  TNLF   TSON TSOC\n",
      "           dap dap kg/ha kg/ha    mm    mm    mm    mm kg/ha kg/ha  kg/ha t/ha\n",
      "  1 PT   1  40 -99 10888  9165     3   102   158    53     0   -99      0  211\n",
      "C:\\Users\\MELANI~1\\AppData\\Local\\Temp\\dssatcsbypygw and its content has been removed.\n",
      "TWAD: 10888    Sum irrigation: 213.50    Cost: 10.97\n",
      "(25.0, 36.6, 28.700000000000003) 10.97157789974854\n",
      "C:\\Users\\MELANI~1\\AppData\\Local\\Temp\\dssatrikuzrop created.\n",
      "Static files copied to C:\\Users\\MELANI~1\\AppData\\Local\\Temp\\dssatrikuzrop.\n",
      "RUN    TRT FLO MAT TOPWT HARWT  RAIN  TIRR   CET  PESW  TNUP  TNLF   TSON TSOC\n",
      "           dap dap kg/ha kg/ha    mm    mm    mm    mm kg/ha kg/ha  kg/ha t/ha\n",
      "  1 PT   1  40 -99  8667  7189     3    76   138    46     0   -99      0  211\n",
      "C:\\Users\\MELANI~1\\AppData\\Local\\Temp\\dssatrikuzrop and its content has been removed.\n",
      "TWAD: 8667    Sum irrigation: 186.60    Cost: 11.02\n",
      "(25.0, 13.4, 25.0) 11.016884260942291\n",
      "C:\\Users\\MELANI~1\\AppData\\Local\\Temp\\dssatdnnspikj created.\n",
      "Static files copied to C:\\Users\\MELANI~1\\AppData\\Local\\Temp\\dssatdnnspikj.\n",
      "RUN    TRT FLO MAT TOPWT HARWT  RAIN  TIRR   CET  PESW  TNUP  TNLF   TSON TSOC\n",
      "           dap dap kg/ha kg/ha    mm    mm    mm    mm kg/ha kg/ha  kg/ha t/ha\n",
      "  1 PT   1  40 -99 10413  8750     3    95   153    50     0   -99      0  211\n",
      "C:\\Users\\MELANI~1\\AppData\\Local\\Temp\\dssatdnnspikj and its content has been removed.\n",
      "TWAD: 10413    Sum irrigation: 206.20    Cost: 10.74\n",
      "(21.400000000000002, 36.6, 25.0) 10.744481351896324\n",
      "C:\\Users\\MELANI~1\\AppData\\Local\\Temp\\dssatfyyfrywz created.\n",
      "Static files copied to C:\\Users\\MELANI~1\\AppData\\Local\\Temp\\dssatfyyfrywz.\n",
      "RUN    TRT FLO MAT TOPWT HARWT  RAIN  TIRR   CET  PESW  TNUP  TNLF   TSON TSOC\n",
      "           dap dap kg/ha kg/ha    mm    mm    mm    mm kg/ha kg/ha  kg/ha t/ha\n",
      "  1 PT   1  40 -99  8539  7047     3    74   137    45     0   -99      0  211\n",
      "C:\\Users\\MELANI~1\\AppData\\Local\\Temp\\dssatfyyfrywz and its content has been removed.\n",
      "TWAD: 8539    Sum irrigation: 185.00    Cost: 11.07\n",
      "(7.1000000000000005, 36.6, 18.1) 11.066217448322117\n",
      "C:\\Users\\MELANI~1\\AppData\\Local\\Temp\\dssatzcbawhfd created.\n",
      "Static files copied to C:\\Users\\MELANI~1\\AppData\\Local\\Temp\\dssatzcbawhfd.\n",
      "RUN    TRT FLO MAT TOPWT HARWT  RAIN  TIRR   CET  PESW  TNUP  TNLF   TSON TSOC\n",
      "           dap dap kg/ha kg/ha    mm    mm    mm    mm kg/ha kg/ha  kg/ha t/ha\n",
      "  1 PT   1  40 -99 10341  8687     3    94   152    50     0   -99      0  211\n",
      "C:\\Users\\MELANI~1\\AppData\\Local\\Temp\\dssatzcbawhfd and its content has been removed.\n",
      "TWAD: 10341    Sum irrigation: 205.60    Cost: 10.75\n",
      "(25.0, 36.6, 20.8) 10.753866088753991\n",
      "C:\\Users\\MELANI~1\\AppData\\Local\\Temp\\dssatxgbgilub created.\n",
      "Static files copied to C:\\Users\\MELANI~1\\AppData\\Local\\Temp\\dssatxgbgilub.\n",
      "RUN    TRT FLO MAT TOPWT HARWT  RAIN  TIRR   CET  PESW  TNUP  TNLF   TSON TSOC\n",
      "           dap dap kg/ha kg/ha    mm    mm    mm    mm kg/ha kg/ha  kg/ha t/ha\n",
      "  1 PT   1  40 -99  8568  7095     3    75   137    46     0   -99      0  211\n",
      "C:\\Users\\MELANI~1\\AppData\\Local\\Temp\\dssatxgbgilub and its content has been removed.\n",
      "TWAD: 8568    Sum irrigation: 185.80    Cost: 11.08\n",
      "(25.0, 12.600000000000001, 25.0) 11.078738181948289\n",
      "Execution time: 220.63\n",
      "The optimal values are (25.0, 25.0, 25.0)\n"
     ]
    },
    {
     "data": {
      "text/plain": [
       "(25.0, 25.0, 25.0)"
      ]
     },
     "execution_count": 10,
     "metadata": {},
     "output_type": "execute_result"
    }
   ],
   "source": [
    "# dates = ['8-07-2022', '14-07-2022', '20-07-2022', '25-07-2022']\n",
    "dates = ['8-07-2022','14-07-2022',  '20-07-2022']\n",
    "dssat.optimization_irri(dates)\n",
    "\n",
    "# Execution time: 345.98\n",
    "# The optimal values are (1.8, 2.6, 1.1, 3.1)"
   ]
  },
  {
   "cell_type": "code",
   "execution_count": 26,
   "metadata": {},
   "outputs": [
    {
     "name": "stdout",
     "output_type": "stream",
     "text": [
      "C:\\Users\\MELANI~1\\AppData\\Local\\Temp\\dssatvmiylynv created.\n",
      "Static files copied to C:\\Users\\MELANI~1\\AppData\\Local\\Temp\\dssatvmiylynv.\n",
      "RUN    TRT FLO MAT TOPWT HARWT  RAIN  TIRR   CET  PESW  TNUP  TNLF   TSON TSOC\n",
      "           dap dap kg/ha kg/ha    mm    mm    mm    mm kg/ha kg/ha  kg/ha t/ha\n",
      "  1 PT   1  40 -99  9839  8243     3    88   148    48     0   -99      0  211\n",
      "Output model save in attribute new_output\n",
      "C:\\Users\\MELANI~1\\AppData\\Local\\Temp\\dssatvmiylynv and its content has been removed.\n",
      "TWAD: 9839    Sum irrigation: 198.20    Cost: 10.63\n"
     ]
    }
   ],
   "source": [
    "dates = ['8-07-2022','14-07-2022', '20-07-2022']\n",
    "dssat.next_dates = dates\n",
    "dssat.irri_cost([25.0, 25.0, 25.0], save=True)\n",
    "out3 = dssat.new_output"
   ]
  },
  {
   "cell_type": "code",
   "execution_count": 14,
   "metadata": {},
   "outputs": [
    {
     "name": "stdout",
     "output_type": "stream",
     "text": [
      "C:\\Users\\MELANI~1\\AppData\\Local\\Temp\\dssatcgohrdhq created.\n",
      "Static files copied to C:\\Users\\MELANI~1\\AppData\\Local\\Temp\\dssatcgohrdhq.\n",
      "RUN    TRT FLO MAT TOPWT HARWT  RAIN  TIRR   CET  PESW  TNUP  TNLF   TSON TSOC\n",
      "           dap dap kg/ha kg/ha    mm    mm    mm    mm kg/ha kg/ha  kg/ha t/ha\n",
      "  1 PT   1  40 -99 11362  9588     3   113   162    59     0   -99      0  211\n",
      "C:\\Users\\MELANI~1\\AppData\\Local\\Temp\\dssatcgohrdhq and its content has been removed.\n",
      "TWAD: 11362    Sum irrigation: 223.20    Cost: 9.54\n",
      "(25.0, 25.0, 25.0, 25.0) 9.541013286304057\n",
      "C:\\Users\\MELANI~1\\AppData\\Local\\Temp\\dssatfsqpzgza created.\n",
      "Static files copied to C:\\Users\\MELANI~1\\AppData\\Local\\Temp\\dssatfsqpzgza.\n",
      "RUN    TRT FLO MAT TOPWT HARWT  RAIN  TIRR   CET  PESW  TNUP  TNLF   TSON TSOC\n",
      "           dap dap kg/ha kg/ha    mm    mm    mm    mm kg/ha kg/ha  kg/ha t/ha\n",
      "  1 PT   1  40 -99 11362  9588     3   115   162    61     0   -99      0  211\n",
      "C:\\Users\\MELANI~1\\AppData\\Local\\Temp\\dssatfsqpzgza and its content has been removed.\n",
      "TWAD: 11362    Sum irrigation: 225.30    Cost: 9.65\n",
      "(25.0, 27.1, 25.0, 25.0) 9.647115786304058\n",
      "C:\\Users\\MELANI~1\\AppData\\Local\\Temp\\dssatlkdjtkro created.\n",
      "Static files copied to C:\\Users\\MELANI~1\\AppData\\Local\\Temp\\dssatlkdjtkro.\n",
      "RUN    TRT FLO MAT TOPWT HARWT  RAIN  TIRR   CET  PESW  TNUP  TNLF   TSON TSOC\n",
      "           dap dap kg/ha kg/ha    mm    mm    mm    mm kg/ha kg/ha  kg/ha t/ha\n",
      "  1 PT   1  40 -99 11362  9588     3   126   162    72     0   -99      0  211\n",
      "C:\\Users\\MELANI~1\\AppData\\Local\\Temp\\dssatlkdjtkro and its content has been removed.\n",
      "TWAD: 11362    Sum irrigation: 236.40    Cost: 10.24\n",
      "(25.0, 25.0, 25.0, 38.2) 10.244573286304059\n",
      "C:\\Users\\MELANI~1\\AppData\\Local\\Temp\\dssatmedqvenp created.\n",
      "Static files copied to C:\\Users\\MELANI~1\\AppData\\Local\\Temp\\dssatmedqvenp.\n",
      "RUN    TRT FLO MAT TOPWT HARWT  RAIN  TIRR   CET  PESW  TNUP  TNLF   TSON TSOC\n",
      "           dap dap kg/ha kg/ha    mm    mm    mm    mm kg/ha kg/ha  kg/ha t/ha\n",
      "  1 PT   1  40 -99 11362  9588     3   121   162    67     0   -99      0  211\n",
      "C:\\Users\\MELANI~1\\AppData\\Local\\Temp\\dssatmedqvenp and its content has been removed.\n",
      "TWAD: 11362    Sum irrigation: 231.50    Cost: 9.97\n",
      "(33.300000000000004, 25.0, 25.0, 25.0) 9.973235786304059\n",
      "C:\\Users\\MELANI~1\\AppData\\Local\\Temp\\dssatnsjiounj created.\n",
      "Static files copied to C:\\Users\\MELANI~1\\AppData\\Local\\Temp\\dssatnsjiounj.\n",
      "RUN    TRT FLO MAT TOPWT HARWT  RAIN  TIRR   CET  PESW  TNUP  TNLF   TSON TSOC\n",
      "           dap dap kg/ha kg/ha    mm    mm    mm    mm kg/ha kg/ha  kg/ha t/ha\n",
      "  1 PT   1  40 -99  9674  8088     3    86   147    47     0   -99      0  211\n",
      "C:\\Users\\MELANI~1\\AppData\\Local\\Temp\\dssatnsjiounj and its content has been removed.\n",
      "TWAD: 9674    Sum irrigation: 197.00    Cost: 9.63\n",
      "(8.4, 25.0, 25.0, 15.4) 9.631197733141645\n",
      "C:\\Users\\MELANI~1\\AppData\\Local\\Temp\\dssatwygueoic created.\n",
      "Static files copied to C:\\Users\\MELANI~1\\AppData\\Local\\Temp\\dssatwygueoic.\n",
      "RUN    TRT FLO MAT TOPWT HARWT  RAIN  TIRR   CET  PESW  TNUP  TNLF   TSON TSOC\n",
      "           dap dap kg/ha kg/ha    mm    mm    mm    mm kg/ha kg/ha  kg/ha t/ha\n",
      "  1 PT   1  40 -99 11362  9588     3   134   162    80     0   -99      0  211\n",
      "C:\\Users\\MELANI~1\\AppData\\Local\\Temp\\dssatwygueoic and its content has been removed.\n",
      "TWAD: 11362    Sum irrigation: 244.90    Cost: 10.74\n",
      "(25.0, 46.7, 25.0, 25.0) 10.743735786304057\n",
      "C:\\Users\\MELANI~1\\AppData\\Local\\Temp\\dssatuzpplepj created.\n",
      "Static files copied to C:\\Users\\MELANI~1\\AppData\\Local\\Temp\\dssatuzpplepj.\n",
      "RUN    TRT FLO MAT TOPWT HARWT  RAIN  TIRR   CET  PESW  TNUP  TNLF   TSON TSOC\n",
      "           dap dap kg/ha kg/ha    mm    mm    mm    mm kg/ha kg/ha  kg/ha t/ha\n",
      "  1 PT   1  40 -99 11362  9588     3   134   162    80     0   -99      0  211\n",
      "C:\\Users\\MELANI~1\\AppData\\Local\\Temp\\dssatuzpplepj and its content has been removed.\n",
      "TWAD: 11362    Sum irrigation: 244.90    Cost: 10.74\n",
      "(25.0, 25.0, 27.400000000000002, 44.300000000000004) 10.743735786304057\n",
      "C:\\Users\\MELANI~1\\AppData\\Local\\Temp\\dssatgktghaag created.\n",
      "Static files copied to C:\\Users\\MELANI~1\\AppData\\Local\\Temp\\dssatgktghaag.\n",
      "RUN    TRT FLO MAT TOPWT HARWT  RAIN  TIRR   CET  PESW  TNUP  TNLF   TSON TSOC\n",
      "           dap dap kg/ha kg/ha    mm    mm    mm    mm kg/ha kg/ha  kg/ha t/ha\n",
      "  1 PT   1  40 -99 11161  9405     3   107   160    55     0   -99      0  211\n",
      "C:\\Users\\MELANI~1\\AppData\\Local\\Temp\\dssatgktghaag and its content has been removed.\n",
      "TWAD: 11161    Sum irrigation: 217.30    Cost: 9.38\n",
      "(25.0, 25.0, 19.1, 25.0) 9.381518361677639\n",
      "C:\\Users\\MELANI~1\\AppData\\Local\\Temp\\dssatbahipkfu created.\n",
      "Static files copied to C:\\Users\\MELANI~1\\AppData\\Local\\Temp\\dssatbahipkfu.\n",
      "RUN    TRT FLO MAT TOPWT HARWT  RAIN  TIRR   CET  PESW  TNUP  TNLF   TSON TSOC\n",
      "           dap dap kg/ha kg/ha    mm    mm    mm    mm kg/ha kg/ha  kg/ha t/ha\n",
      "  1 PT   1  40 -99 11362  9588     3   148   162    94     0   -99      0  211\n",
      "C:\\Users\\MELANI~1\\AppData\\Local\\Temp\\dssatbahipkfu and its content has been removed.\n",
      "TWAD: 11362    Sum irrigation: 258.70    Cost: 11.63\n",
      "(39.1, 25.0, 46.400000000000006, 25.0) 11.63107578630406\n",
      "C:\\Users\\MELANI~1\\AppData\\Local\\Temp\\dssatteoaotlc created.\n",
      "Static files copied to C:\\Users\\MELANI~1\\AppData\\Local\\Temp\\dssatteoaotlc.\n",
      "RUN    TRT FLO MAT TOPWT HARWT  RAIN  TIRR   CET  PESW  TNUP  TNLF   TSON TSOC\n",
      "           dap dap kg/ha kg/ha    mm    mm    mm    mm kg/ha kg/ha  kg/ha t/ha\n",
      "  1 PT   1  40 -99 11362  9588     3   122   162    68     0   -99      0  211\n",
      "C:\\Users\\MELANI~1\\AppData\\Local\\Temp\\dssatteoaotlc and its content has been removed.\n",
      "TWAD: 11362    Sum irrigation: 232.80    Cost: 10.04\n",
      "(25.0, 25.0, 34.6, 25.0) 10.044053286304058\n",
      "C:\\Users\\MELANI~1\\AppData\\Local\\Temp\\dssatlvhzzxbn created.\n",
      "Static files copied to C:\\Users\\MELANI~1\\AppData\\Local\\Temp\\dssatlvhzzxbn.\n",
      "RUN    TRT FLO MAT TOPWT HARWT  RAIN  TIRR   CET  PESW  TNUP  TNLF   TSON TSOC\n",
      "           dap dap kg/ha kg/ha    mm    mm    mm    mm kg/ha kg/ha  kg/ha t/ha\n",
      "  1 PT   1  40 -99 11113  9364     3   106   160    54     0   -99      0  211\n",
      "C:\\Users\\MELANI~1\\AppData\\Local\\Temp\\dssatlvhzzxbn and its content has been removed.\n",
      "TWAD: 11113    Sum irrigation: 216.60    Cost: 9.38\n",
      "(25.0, 24.3, 19.1, 25.0) 9.379665560264955\n",
      "C:\\Users\\MELANI~1\\AppData\\Local\\Temp\\dssatlwzfcspb created.\n",
      "Static files copied to C:\\Users\\MELANI~1\\AppData\\Local\\Temp\\dssatlwzfcspb.\n",
      "RUN    TRT FLO MAT TOPWT HARWT  RAIN  TIRR   CET  PESW  TNUP  TNLF   TSON TSOC\n",
      "           dap dap kg/ha kg/ha    mm    mm    mm    mm kg/ha kg/ha  kg/ha t/ha\n",
      "  1 PT   1  40 -99 11362  9588     3   118   162    64     0   -99      0  211\n",
      "C:\\Users\\MELANI~1\\AppData\\Local\\Temp\\dssatlwzfcspb and its content has been removed.\n",
      "TWAD: 11362    Sum irrigation: 228.90    Cost: 9.83\n",
      "(25.0, 24.3, 19.1, 37.300000000000004) 9.83413578630406\n",
      "C:\\Users\\MELANI~1\\AppData\\Local\\Temp\\dssatmkxsoowm created.\n",
      "Static files copied to C:\\Users\\MELANI~1\\AppData\\Local\\Temp\\dssatmkxsoowm.\n",
      "RUN    TRT FLO MAT TOPWT HARWT  RAIN  TIRR   CET  PESW  TNUP  TNLF   TSON TSOC\n",
      "           dap dap kg/ha kg/ha    mm    mm    mm    mm kg/ha kg/ha  kg/ha t/ha\n",
      "  1 PT   1  40 -99 10012  8398     3    90   150    48     0   -99      0  211\n",
      "C:\\Users\\MELANI~1\\AppData\\Local\\Temp\\dssatmkxsoowm and its content has been removed.\n",
      "TWAD: 10012    Sum irrigation: 201.40    Cost: 9.52\n",
      "(25.0, 24.3, 3.9000000000000004, 25.0) 9.519220708109197\n",
      "C:\\Users\\MELANI~1\\AppData\\Local\\Temp\\dssatyteoffzx created.\n",
      "Static files copied to C:\\Users\\MELANI~1\\AppData\\Local\\Temp\\dssatyteoffzx.\n",
      "RUN    TRT FLO MAT TOPWT HARWT  RAIN  TIRR   CET  PESW  TNUP  TNLF   TSON TSOC\n",
      "           dap dap kg/ha kg/ha    mm    mm    mm    mm kg/ha kg/ha  kg/ha t/ha\n",
      "  1 PT   1  40 -99 11362  9588     3   117   162    63     0   -99      0  211\n",
      "C:\\Users\\MELANI~1\\AppData\\Local\\Temp\\dssatyteoffzx and its content has been removed.\n",
      "TWAD: 11362    Sum irrigation: 228.20    Cost: 9.80\n",
      "(36.6, 24.3, 19.1, 25.0) 9.797263286304059\n",
      "C:\\Users\\MELANI~1\\AppData\\Local\\Temp\\dssatmizolxba created.\n",
      "Static files copied to C:\\Users\\MELANI~1\\AppData\\Local\\Temp\\dssatmizolxba.\n",
      "RUN    TRT FLO MAT TOPWT HARWT  RAIN  TIRR   CET  PESW  TNUP  TNLF   TSON TSOC\n",
      "           dap dap kg/ha kg/ha    mm    mm    mm    mm kg/ha kg/ha  kg/ha t/ha\n",
      "  1 PT   1  40 -99  7353  5930     3    63   128    44     0   -99      0  211\n",
      "C:\\Users\\MELANI~1\\AppData\\Local\\Temp\\dssatmizolxba and its content has been removed.\n",
      "TWAD: 7353    Sum irrigation: 174.30    Cost: 11.53\n",
      "(25.0, 1.8, 19.1, 5.2) 11.53271398104019\n",
      "C:\\Users\\MELANI~1\\AppData\\Local\\Temp\\dssatjcmubuan created.\n",
      "Static files copied to C:\\Users\\MELANI~1\\AppData\\Local\\Temp\\dssatjcmubuan.\n",
      "RUN    TRT FLO MAT TOPWT HARWT  RAIN  TIRR   CET  PESW  TNUP  TNLF   TSON TSOC\n",
      "           dap dap kg/ha kg/ha    mm    mm    mm    mm kg/ha kg/ha  kg/ha t/ha\n",
      "  1 PT   1  40 -99 10896  9172     3   102   158    52     0   -99      0  211\n",
      "C:\\Users\\MELANI~1\\AppData\\Local\\Temp\\dssatjcmubuan and its content has been removed.\n",
      "TWAD: 10896    Sum irrigation: 212.70    Cost: 9.34\n",
      "(25.0, 24.3, 19.1, 21.1) 9.344705732182156\n",
      "C:\\Users\\MELANI~1\\AppData\\Local\\Temp\\dssatfpywgimz created.\n",
      "Static files copied to C:\\Users\\MELANI~1\\AppData\\Local\\Temp\\dssatfpywgimz.\n",
      "RUN    TRT FLO MAT TOPWT HARWT  RAIN  TIRR   CET  PESW  TNUP  TNLF   TSON TSOC\n",
      "           dap dap kg/ha kg/ha    mm    mm    mm    mm kg/ha kg/ha  kg/ha t/ha\n",
      "  1 PT   1  40 -99  9147  7622     3    81   142    47     0   -99      0  211\n",
      "C:\\Users\\MELANI~1\\AppData\\Local\\Temp\\dssatfpywgimz and its content has been removed.\n",
      "TWAD: 9147    Sum irrigation: 192.40    Cost: 9.94\n",
      "(16.3, 15.700000000000001, 19.1, 18.1) 9.943195995841696\n",
      "C:\\Users\\MELANI~1\\AppData\\Local\\Temp\\dssatukrgknii created.\n",
      "Static files copied to C:\\Users\\MELANI~1\\AppData\\Local\\Temp\\dssatukrgknii.\n",
      "RUN    TRT FLO MAT TOPWT HARWT  RAIN  TIRR   CET  PESW  TNUP  TNLF   TSON TSOC\n",
      "           dap dap kg/ha kg/ha    mm    mm    mm    mm kg/ha kg/ha  kg/ha t/ha\n",
      "  1 PT   1  40 -99 11362  9588     3   118   162    64     0   -99      0  211\n",
      "C:\\Users\\MELANI~1\\AppData\\Local\\Temp\\dssatukrgknii and its content has been removed.\n",
      "TWAD: 11362    Sum irrigation: 229.90    Cost: 9.89\n",
      "(38.7, 27.8, 19.1, 21.1) 9.887235786304057\n",
      "C:\\Users\\MELANI~1\\AppData\\Local\\Temp\\dssatdcfedois created.\n",
      "Static files copied to C:\\Users\\MELANI~1\\AppData\\Local\\Temp\\dssatdcfedois.\n",
      "RUN    TRT FLO MAT TOPWT HARWT  RAIN  TIRR   CET  PESW  TNUP  TNLF   TSON TSOC\n",
      "           dap dap kg/ha kg/ha    mm    mm    mm    mm kg/ha kg/ha  kg/ha t/ha\n",
      "  1 PT   1  40 -99  9773  8186     3    88   148    49     0   -99      0  211\n",
      "C:\\Users\\MELANI~1\\AppData\\Local\\Temp\\dssatdcfedois and its content has been removed.\n",
      "TWAD: 9773    Sum irrigation: 200.90    Cost: 9.70\n",
      "(25.900000000000002, 1.9000000000000001, 28.8, 21.1) 9.695139732598257\n",
      "C:\\Users\\MELANI~1\\AppData\\Local\\Temp\\dssatafzprnct created.\n",
      "Static files copied to C:\\Users\\MELANI~1\\AppData\\Local\\Temp\\dssatafzprnct.\n",
      "RUN    TRT FLO MAT TOPWT HARWT  RAIN  TIRR   CET  PESW  TNUP  TNLF   TSON TSOC\n",
      "           dap dap kg/ha kg/ha    mm    mm    mm    mm kg/ha kg/ha  kg/ha t/ha\n",
      "  1 PT   1  40 -99 11350  9577     3   112   162    58     0   -99      0  211\n",
      "C:\\Users\\MELANI~1\\AppData\\Local\\Temp\\dssatafzprnct and its content has been removed.\n",
      "TWAD: 11350    Sum irrigation: 223.60    Cost: 9.57\n",
      "(25.0, 24.3, 23.200000000000003, 27.900000000000002) 9.568497528770262\n",
      "C:\\Users\\MELANI~1\\AppData\\Local\\Temp\\dssatgfhtetcq created.\n",
      "Static files copied to C:\\Users\\MELANI~1\\AppData\\Local\\Temp\\dssatgfhtetcq.\n",
      "RUN    TRT FLO MAT TOPWT HARWT  RAIN  TIRR   CET  PESW  TNUP  TNLF   TSON TSOC\n",
      "           dap dap kg/ha kg/ha    mm    mm    mm    mm kg/ha kg/ha  kg/ha t/ha\n",
      "  1 PT   1  40 -99 11362  9588     3   129   162    75     0   -99      0  211\n",
      "C:\\Users\\MELANI~1\\AppData\\Local\\Temp\\dssatgfhtetcq and its content has been removed.\n",
      "TWAD: 11362    Sum irrigation: 239.90    Cost: 10.45\n",
      "(25.0, 24.3, 46.300000000000004, 21.1) 10.445735786304057\n",
      "C:\\Users\\MELANI~1\\AppData\\Local\\Temp\\dssathnhohihw created.\n",
      "Static files copied to C:\\Users\\MELANI~1\\AppData\\Local\\Temp\\dssathnhohihw.\n",
      "RUN    TRT FLO MAT TOPWT HARWT  RAIN  TIRR   CET  PESW  TNUP  TNLF   TSON TSOC\n",
      "           dap dap kg/ha kg/ha    mm    mm    mm    mm kg/ha kg/ha  kg/ha t/ha\n",
      "  1 PT   1  40 -99 10770  9063     3   100   157    52     0   -99      0  211\n",
      "C:\\Users\\MELANI~1\\AppData\\Local\\Temp\\dssathnhohihw and its content has been removed.\n",
      "TWAD: 10770    Sum irrigation: 211.00    Cost: 9.36\n",
      "(23.3, 24.3, 19.1, 21.1) 9.355250164527376\n",
      "C:\\Users\\MELANI~1\\AppData\\Local\\Temp\\dssatrlbsdfsu created.\n",
      "Static files copied to C:\\Users\\MELANI~1\\AppData\\Local\\Temp\\dssatrlbsdfsu.\n",
      "RUN    TRT FLO MAT TOPWT HARWT  RAIN  TIRR   CET  PESW  TNUP  TNLF   TSON TSOC\n",
      "           dap dap kg/ha kg/ha    mm    mm    mm    mm kg/ha kg/ha  kg/ha t/ha\n",
      "  1 PT   1  40 -99 11362  9588     3   113   162    59     0   -99      0  211\n",
      "C:\\Users\\MELANI~1\\AppData\\Local\\Temp\\dssatrlbsdfsu and its content has been removed.\n",
      "TWAD: 11362    Sum irrigation: 224.10    Cost: 9.59\n",
      "(25.0, 35.7, 19.1, 21.1) 9.58621578630406\n",
      "C:\\Users\\MELANI~1\\AppData\\Local\\Temp\\dssatywcccqwn created.\n",
      "Static files copied to C:\\Users\\MELANI~1\\AppData\\Local\\Temp\\dssatywcccqwn.\n",
      "RUN    TRT FLO MAT TOPWT HARWT  RAIN  TIRR   CET  PESW  TNUP  TNLF   TSON TSOC\n",
      "           dap dap kg/ha kg/ha    mm    mm    mm    mm kg/ha kg/ha  kg/ha t/ha\n",
      "  1 PT   1  40 -99 11161  9405     3   107   160    55     0   -99      0  211\n",
      "C:\\Users\\MELANI~1\\AppData\\Local\\Temp\\dssatywcccqwn and its content has been removed.\n",
      "TWAD: 11161    Sum irrigation: 218.20    Cost: 9.42\n",
      "(25.0, 24.3, 24.6, 21.1) 9.42406586167764\n",
      "C:\\Users\\MELANI~1\\AppData\\Local\\Temp\\dssatifxmwpdc created.\n",
      "Static files copied to C:\\Users\\MELANI~1\\AppData\\Local\\Temp\\dssatifxmwpdc.\n",
      "RUN    TRT FLO MAT TOPWT HARWT  RAIN  TIRR   CET  PESW  TNUP  TNLF   TSON TSOC\n",
      "           dap dap kg/ha kg/ha    mm    mm    mm    mm kg/ha kg/ha  kg/ha t/ha\n",
      "  1 PT   1  40 -99  9915  8312     3    89   149    48     0   -99      0  211\n",
      "C:\\Users\\MELANI~1\\AppData\\Local\\Temp\\dssatifxmwpdc and its content has been removed.\n",
      "TWAD: 9915    Sum irrigation: 199.40    Cost: 9.52\n",
      "(25.0, 11.0, 19.1, 21.1) 9.520192141343204\n",
      "C:\\Users\\MELANI~1\\AppData\\Local\\Temp\\dssatccxtmjbj created.\n",
      "Static files copied to C:\\Users\\MELANI~1\\AppData\\Local\\Temp\\dssatccxtmjbj.\n",
      "RUN    TRT FLO MAT TOPWT HARWT  RAIN  TIRR   CET  PESW  TNUP  TNLF   TSON TSOC\n",
      "           dap dap kg/ha kg/ha    mm    mm    mm    mm kg/ha kg/ha  kg/ha t/ha\n",
      "  1 PT   1  40 -99 11287  9516     3   110   162    57     0   -99      0  211\n",
      "C:\\Users\\MELANI~1\\AppData\\Local\\Temp\\dssatccxtmjbj and its content has been removed.\n",
      "TWAD: 11287    Sum irrigation: 221.50    Cost: 9.50\n",
      "(25.0, 24.3, 19.1, 29.900000000000002) 9.503521996075175\n",
      "C:\\Users\\MELANI~1\\AppData\\Local\\Temp\\dssatuzejicwx created.\n",
      "Static files copied to C:\\Users\\MELANI~1\\AppData\\Local\\Temp\\dssatuzejicwx.\n",
      "RUN    TRT FLO MAT TOPWT HARWT  RAIN  TIRR   CET  PESW  TNUP  TNLF   TSON TSOC\n",
      "           dap dap kg/ha kg/ha    mm    mm    mm    mm kg/ha kg/ha  kg/ha t/ha\n",
      "  1 PT   1  40 -99  9330  7790     3    83   144    47     0   -99      0  211\n",
      "C:\\Users\\MELANI~1\\AppData\\Local\\Temp\\dssatuzejicwx and its content has been removed.\n",
      "TWAD: 9330    Sum irrigation: 194.60    Cost: 9.85\n",
      "(25.0, 24.3, 3.2, 18.900000000000002) 9.848979970579853\n",
      "C:\\Users\\MELANI~1\\AppData\\Local\\Temp\\dssatcabqsnri created.\n",
      "Static files copied to C:\\Users\\MELANI~1\\AppData\\Local\\Temp\\dssatcabqsnri.\n",
      "RUN    TRT FLO MAT TOPWT HARWT  RAIN  TIRR   CET  PESW  TNUP  TNLF   TSON TSOC\n",
      "           dap dap kg/ha kg/ha    mm    mm    mm    mm kg/ha kg/ha  kg/ha t/ha\n",
      "  1 PT   1  40 -99 11285  9514     3   110   162    57     0   -99      0  211\n",
      "C:\\Users\\MELANI~1\\AppData\\Local\\Temp\\dssatcabqsnri and its content has been removed.\n",
      "TWAD: 11285    Sum irrigation: 221.50    Cost: 9.50\n",
      "(20.1, 24.3, 32.800000000000004, 21.1) 9.504778141200209\n",
      "C:\\Users\\MELANI~1\\AppData\\Local\\Temp\\dssatnuplrcmo created.\n",
      "Static files copied to C:\\Users\\MELANI~1\\AppData\\Local\\Temp\\dssatnuplrcmo.\n",
      "RUN    TRT FLO MAT TOPWT HARWT  RAIN  TIRR   CET  PESW  TNUP  TNLF   TSON TSOC\n",
      "           dap dap kg/ha kg/ha    mm    mm    mm    mm kg/ha kg/ha  kg/ha t/ha\n",
      "  1 PT   1  40 -99 10485  8813     3    96   154    50     0   -99      0  211\n",
      "C:\\Users\\MELANI~1\\AppData\\Local\\Temp\\dssatnuplrcmo and its content has been removed.\n",
      "TWAD: 10485    Sum irrigation: 206.70    Cost: 9.37\n",
      "(25.0, 24.3, 13.100000000000001, 21.1) 9.37300931640946\n",
      "C:\\Users\\MELANI~1\\AppData\\Local\\Temp\\dssatdbgbyomr created.\n",
      "Static files copied to C:\\Users\\MELANI~1\\AppData\\Local\\Temp\\dssatdbgbyomr.\n",
      "RUN    TRT FLO MAT TOPWT HARWT  RAIN  TIRR   CET  PESW  TNUP  TNLF   TSON TSOC\n",
      "           dap dap kg/ha kg/ha    mm    mm    mm    mm kg/ha kg/ha  kg/ha t/ha\n",
      "  1 PT   1  40 -99 11362  9588     3   124   162    70     0   -99      0  211\n",
      "C:\\Users\\MELANI~1\\AppData\\Local\\Temp\\dssatdbgbyomr and its content has been removed.\n",
      "TWAD: 11362    Sum irrigation: 235.90    Cost: 10.22\n",
      "(25.0, 37.800000000000004, 19.1, 30.8) 10.216335786304057\n",
      "C:\\Users\\MELANI~1\\AppData\\Local\\Temp\\dssatdfrmzpoc created.\n",
      "Static files copied to C:\\Users\\MELANI~1\\AppData\\Local\\Temp\\dssatdfrmzpoc.\n",
      "RUN    TRT FLO MAT TOPWT HARWT  RAIN  TIRR   CET  PESW  TNUP  TNLF   TSON TSOC\n",
      "           dap dap kg/ha kg/ha    mm    mm    mm    mm kg/ha kg/ha  kg/ha t/ha\n",
      "  1 PT   1  40 -99 10424  8760     3    95   153    50     0   -99      0  211\n",
      "C:\\Users\\MELANI~1\\AppData\\Local\\Temp\\dssatdfrmzpoc and its content has been removed.\n",
      "TWAD: 10424    Sum irrigation: 205.80    Cost: 9.38\n",
      "(25.0, 24.3, 19.1, 14.200000000000001) 9.380286347410173\n",
      "C:\\Users\\MELANI~1\\AppData\\Local\\Temp\\dssathxwjyzdm created.\n",
      "Static files copied to C:\\Users\\MELANI~1\\AppData\\Local\\Temp\\dssathxwjyzdm.\n",
      "RUN    TRT FLO MAT TOPWT HARWT  RAIN  TIRR   CET  PESW  TNUP  TNLF   TSON TSOC\n",
      "           dap dap kg/ha kg/ha    mm    mm    mm    mm kg/ha kg/ha  kg/ha t/ha\n",
      "  1 PT   1  40 -99 10488  8816     3    96   154    50     0   -99      0  211\n",
      "C:\\Users\\MELANI~1\\AppData\\Local\\Temp\\dssathxwjyzdm and its content has been removed.\n",
      "TWAD: 10488    Sum irrigation: 207.50    Cost: 9.40\n",
      "(25.0, 20.3, 5.4, 33.6) 9.404386837551073\n",
      "C:\\Users\\MELANI~1\\AppData\\Local\\Temp\\dssatvluopmqt created.\n",
      "Static files copied to C:\\Users\\MELANI~1\\AppData\\Local\\Temp\\dssatvluopmqt.\n",
      "RUN    TRT FLO MAT TOPWT HARWT  RAIN  TIRR   CET  PESW  TNUP  TNLF   TSON TSOC\n",
      "           dap dap kg/ha kg/ha    mm    mm    mm    mm kg/ha kg/ha  kg/ha t/ha\n",
      "  1 PT   1  40 -99 11362  9588     3   121   162    67     0   -99      0  211\n",
      "C:\\Users\\MELANI~1\\AppData\\Local\\Temp\\dssatvluopmqt and its content has been removed.\n",
      "TWAD: 11362    Sum irrigation: 231.40    Cost: 9.97\n",
      "(25.0, 43.0, 19.1, 21.1) 9.967823286304057\n",
      "C:\\Users\\MELANI~1\\AppData\\Local\\Temp\\dssattfffbmxo created.\n",
      "Static files copied to C:\\Users\\MELANI~1\\AppData\\Local\\Temp\\dssattfffbmxo.\n",
      "RUN    TRT FLO MAT TOPWT HARWT  RAIN  TIRR   CET  PESW  TNUP  TNLF   TSON TSOC\n",
      "           dap dap kg/ha kg/ha    mm    mm    mm    mm kg/ha kg/ha  kg/ha t/ha\n",
      "  1 PT   1  40 -99  8840  7355     3    79   142    46     0   -99      0  211\n",
      "C:\\Users\\MELANI~1\\AppData\\Local\\Temp\\dssattfffbmxo and its content has been removed.\n",
      "TWAD: 8840    Sum irrigation: 190.20    Cost: 10.17\n",
      "(2.5, 24.3, 19.1, 21.1) 10.172022731926162\n",
      "C:\\Users\\MELANI~1\\AppData\\Local\\Temp\\dssatsqooosyu created.\n",
      "Static files copied to C:\\Users\\MELANI~1\\AppData\\Local\\Temp\\dssatsqooosyu.\n",
      "RUN    TRT FLO MAT TOPWT HARWT  RAIN  TIRR   CET  PESW  TNUP  TNLF   TSON TSOC\n",
      "           dap dap kg/ha kg/ha    mm    mm    mm    mm kg/ha kg/ha  kg/ha t/ha\n",
      "  1 PT   1  40 -99  9489  7945     3    86   148    47     0   -99      0  211\n",
      "C:\\Users\\MELANI~1\\AppData\\Local\\Temp\\dssatsqooosyu and its content has been removed.\n",
      "TWAD: 9489    Sum irrigation: 197.70    Cost: 9.82\n",
      "(0.7000000000000001, 33.6, 19.1, 21.1) 9.81837623898053\n",
      "C:\\Users\\MELANI~1\\AppData\\Local\\Temp\\dssatsroahwag created.\n",
      "Static files copied to C:\\Users\\MELANI~1\\AppData\\Local\\Temp\\dssatsroahwag.\n",
      "RUN    TRT FLO MAT TOPWT HARWT  RAIN  TIRR   CET  PESW  TNUP  TNLF   TSON TSOC\n",
      "           dap dap kg/ha kg/ha    mm    mm    mm    mm kg/ha kg/ha  kg/ha t/ha\n",
      "  1 PT   1  40 -99  9937  8331     3    89   149    48     0   -99      0  211\n",
      "C:\\Users\\MELANI~1\\AppData\\Local\\Temp\\dssatsroahwag and its content has been removed.\n",
      "TWAD: 9937    Sum irrigation: 200.40    Cost: 9.54\n",
      "(12.700000000000001, 24.3, 19.1, 21.1) 9.540678722882285\n",
      "C:\\Users\\MELANI~1\\AppData\\Local\\Temp\\dssatcvgiauui created.\n",
      "Static files copied to C:\\Users\\MELANI~1\\AppData\\Local\\Temp\\dssatcvgiauui.\n",
      "RUN    TRT FLO MAT TOPWT HARWT  RAIN  TIRR   CET  PESW  TNUP  TNLF   TSON TSOC\n",
      "           dap dap kg/ha kg/ha    mm    mm    mm    mm kg/ha kg/ha  kg/ha t/ha\n",
      "  1 PT   1  40 -99 11362  9588     3   154   162   100     0   -99      0  211\n",
      "C:\\Users\\MELANI~1\\AppData\\Local\\Temp\\dssatcvgiauui and its content has been removed.\n",
      "TWAD: 11362    Sum irrigation: 265.50    Cost: 12.10\n",
      "(47.300000000000004, 24.3, 49.6, 21.1) 12.103335786304058\n",
      "C:\\Users\\MELANI~1\\AppData\\Local\\Temp\\dssathssygwxw created.\n",
      "Static files copied to C:\\Users\\MELANI~1\\AppData\\Local\\Temp\\dssathssygwxw.\n",
      "RUN    TRT FLO MAT TOPWT HARWT  RAIN  TIRR   CET  PESW  TNUP  TNLF   TSON TSOC\n",
      "           dap dap kg/ha kg/ha    mm    mm    mm    mm kg/ha kg/ha  kg/ha t/ha\n",
      "  1 PT   1  40 -99 11362  9588     3   132   162    78     0   -99      0  211\n",
      "C:\\Users\\MELANI~1\\AppData\\Local\\Temp\\dssathssygwxw and its content has been removed.\n",
      "TWAD: 11362    Sum irrigation: 243.20    Cost: 10.64\n",
      "(25.0, 24.3, 36.7, 34.0) 10.641013286304059\n",
      "C:\\Users\\MELANI~1\\AppData\\Local\\Temp\\dssatrrcpyayc created.\n",
      "Static files copied to C:\\Users\\MELANI~1\\AppData\\Local\\Temp\\dssatrrcpyayc.\n",
      "RUN    TRT FLO MAT TOPWT HARWT  RAIN  TIRR   CET  PESW  TNUP  TNLF   TSON TSOC\n",
      "           dap dap kg/ha kg/ha    mm    mm    mm    mm kg/ha kg/ha  kg/ha t/ha\n",
      "  1 PT   1  40 -99 11195  9435     3   108   161    56     0   -99      0  211\n",
      "C:\\Users\\MELANI~1\\AppData\\Local\\Temp\\dssatrrcpyayc and its content has been removed.\n",
      "TWAD: 11195    Sum irrigation: 218.90    Cost: 9.44\n",
      "(25.0, 30.5, 19.1, 21.1) 9.435669204238792\n",
      "C:\\Users\\MELANI~1\\AppData\\Local\\Temp\\dssatybcvmcam created.\n",
      "Static files copied to C:\\Users\\MELANI~1\\AppData\\Local\\Temp\\dssatybcvmcam.\n",
      "RUN    TRT FLO MAT TOPWT HARWT  RAIN  TIRR   CET  PESW  TNUP  TNLF   TSON TSOC\n",
      "           dap dap kg/ha kg/ha    mm    mm    mm    mm kg/ha kg/ha  kg/ha t/ha\n",
      "  1 PT   1  40 -99 11362  9588     3   122   162    68     0   -99      0  211\n",
      "C:\\Users\\MELANI~1\\AppData\\Local\\Temp\\dssatybcvmcam and its content has been removed.\n",
      "TWAD: 11362    Sum irrigation: 233.20    Cost: 10.07\n",
      "(45.5, 24.3, 19.1, 21.1) 10.06601328630406\n",
      "C:\\Users\\MELANI~1\\AppData\\Local\\Temp\\dssatgiruxner created.\n",
      "Static files copied to C:\\Users\\MELANI~1\\AppData\\Local\\Temp\\dssatgiruxner.\n",
      "RUN    TRT FLO MAT TOPWT HARWT  RAIN  TIRR   CET  PESW  TNUP  TNLF   TSON TSOC\n",
      "           dap dap kg/ha kg/ha    mm    mm    mm    mm kg/ha kg/ha  kg/ha t/ha\n",
      "  1 PT   1  40 -99 11362  9588     3   120   162    66     0   -99      0  211\n",
      "C:\\Users\\MELANI~1\\AppData\\Local\\Temp\\dssatgiruxner and its content has been removed.\n",
      "TWAD: 11362    Sum irrigation: 231.40    Cost: 9.97\n",
      "(43.7, 24.3, 19.1, 21.1) 9.967823286304057\n",
      "C:\\Users\\MELANI~1\\AppData\\Local\\Temp\\dssathsmkhcvt created.\n",
      "Static files copied to C:\\Users\\MELANI~1\\AppData\\Local\\Temp\\dssathsmkhcvt.\n",
      "RUN    TRT FLO MAT TOPWT HARWT  RAIN  TIRR   CET  PESW  TNUP  TNLF   TSON TSOC\n",
      "           dap dap kg/ha kg/ha    mm    mm    mm    mm kg/ha kg/ha  kg/ha t/ha\n",
      "  1 PT   1  40 -99  9258  7696     3    82   144    46     0   -99      0  211\n",
      "C:\\Users\\MELANI~1\\AppData\\Local\\Temp\\dssathsmkhcvt and its content has been removed.\n",
      "TWAD: 9258    Sum irrigation: 192.80    Cost: 9.85\n",
      "(5.1000000000000005, 24.3, 19.1, 21.1) 9.852214266453418\n",
      "C:\\Users\\MELANI~1\\AppData\\Local\\Temp\\dssatomjrojsd created.\n",
      "Static files copied to C:\\Users\\MELANI~1\\AppData\\Local\\Temp\\dssatomjrojsd.\n",
      "RUN    TRT FLO MAT TOPWT HARWT  RAIN  TIRR   CET  PESW  TNUP  TNLF   TSON TSOC\n",
      "           dap dap kg/ha kg/ha    mm    mm    mm    mm kg/ha kg/ha  kg/ha t/ha\n",
      "  1 PT   1  40 -99 10338  8685     3    94   153    49     0   -99      0  211\n",
      "C:\\Users\\MELANI~1\\AppData\\Local\\Temp\\dssatomjrojsd and its content has been removed.\n",
      "TWAD: 10338    Sum irrigation: 204.80    Cost: 9.40\n",
      "(25.0, 24.3, 19.1, 13.200000000000001) 9.40307995565487\n",
      "C:\\Users\\MELANI~1\\AppData\\Local\\Temp\\dssatdgglnfvs created.\n",
      "Static files copied to C:\\Users\\MELANI~1\\AppData\\Local\\Temp\\dssatdgglnfvs.\n",
      "RUN    TRT FLO MAT TOPWT HARWT  RAIN  TIRR   CET  PESW  TNUP  TNLF   TSON TSOC\n",
      "           dap dap kg/ha kg/ha    mm    mm    mm    mm kg/ha kg/ha  kg/ha t/ha\n",
      "  1 PT   1  40 -99 10617  8928     3    98   155    51     0   -99      0  211\n",
      "C:\\Users\\MELANI~1\\AppData\\Local\\Temp\\dssatdgglnfvs and its content has been removed.\n",
      "TWAD: 10617    Sum irrigation: 208.60    Cost: 9.36\n",
      "(34.2, 11.0, 19.1, 21.1) 9.358374530932982\n",
      "C:\\Users\\MELANI~1\\AppData\\Local\\Temp\\dssatxrtujhyy created.\n",
      "Static files copied to C:\\Users\\MELANI~1\\AppData\\Local\\Temp\\dssatxrtujhyy.\n",
      "RUN    TRT FLO MAT TOPWT HARWT  RAIN  TIRR   CET  PESW  TNUP  TNLF   TSON TSOC\n",
      "           dap dap kg/ha kg/ha    mm    mm    mm    mm kg/ha kg/ha  kg/ha t/ha\n",
      "  1 PT   1  40 -99 11192  9432     3   108   161    56     0   -99      0  211\n",
      "C:\\Users\\MELANI~1\\AppData\\Local\\Temp\\dssatxrtujhyy and its content has been removed.\n",
      "TWAD: 11192    Sum irrigation: 218.90    Cost: 9.44\n",
      "(25.0, 24.3, 43.0, 3.4000000000000004) 9.43758469192618\n",
      "C:\\Users\\MELANI~1\\AppData\\Local\\Temp\\dssatevkvpshi created.\n",
      "Static files copied to C:\\Users\\MELANI~1\\AppData\\Local\\Temp\\dssatevkvpshi.\n",
      "RUN    TRT FLO MAT TOPWT HARWT  RAIN  TIRR   CET  PESW  TNUP  TNLF   TSON TSOC\n",
      "           dap dap kg/ha kg/ha    mm    mm    mm    mm kg/ha kg/ha  kg/ha t/ha\n",
      "  1 PT   1  40 -99 10770  9062     3   100   157    52     0   -99      0  211\n",
      "C:\\Users\\MELANI~1\\AppData\\Local\\Temp\\dssatevkvpshi and its content has been removed.\n",
      "TWAD: 10770    Sum irrigation: 210.60    Cost: 9.34\n",
      "(25.0, 24.3, 19.1, 19.0) 9.337730164527377\n",
      "C:\\Users\\MELANI~1\\AppData\\Local\\Temp\\dssatbdmnjoqt created.\n",
      "Static files copied to C:\\Users\\MELANI~1\\AppData\\Local\\Temp\\dssatbdmnjoqt.\n",
      "RUN    TRT FLO MAT TOPWT HARWT  RAIN  TIRR   CET  PESW  TNUP  TNLF   TSON TSOC\n",
      "           dap dap kg/ha kg/ha    mm    mm    mm    mm kg/ha kg/ha  kg/ha t/ha\n",
      "  1 PT   1  40 -99 11157  9402     3   107   160    55     0   -99      0  211\n",
      "C:\\Users\\MELANI~1\\AppData\\Local\\Temp\\dssatbdmnjoqt and its content has been removed.\n",
      "TWAD: 11157    Sum irrigation: 218.50    Cost: 9.44\n",
      "(32.9, 24.3, 19.1, 19.0) 9.440908161881719\n",
      "C:\\Users\\MELANI~1\\AppData\\Local\\Temp\\dssatpbpnvpwi created.\n",
      "Static files copied to C:\\Users\\MELANI~1\\AppData\\Local\\Temp\\dssatpbpnvpwi.\n",
      "RUN    TRT FLO MAT TOPWT HARWT  RAIN  TIRR   CET  PESW  TNUP  TNLF   TSON TSOC\n",
      "           dap dap kg/ha kg/ha    mm    mm    mm    mm kg/ha kg/ha  kg/ha t/ha\n",
      "  1 PT   1  40 -99 11362  9588     3   115   162    61     0   -99      0  211\n",
      "C:\\Users\\MELANI~1\\AppData\\Local\\Temp\\dssatpbpnvpwi and its content has been removed.\n",
      "TWAD: 11362    Sum irrigation: 225.40    Cost: 9.65\n",
      "(25.0, 39.1, 19.1, 19.0) 9.652223286304057\n",
      "C:\\Users\\MELANI~1\\AppData\\Local\\Temp\\dssatzynkdmoc created.\n",
      "Static files copied to C:\\Users\\MELANI~1\\AppData\\Local\\Temp\\dssatzynkdmoc.\n",
      "RUN    TRT FLO MAT TOPWT HARWT  RAIN  TIRR   CET  PESW  TNUP  TNLF   TSON TSOC\n",
      "           dap dap kg/ha kg/ha    mm    mm    mm    mm kg/ha kg/ha  kg/ha t/ha\n",
      "  1 PT   1  40 -99 11362  9588     3   130   162    76     0   -99      0  211\n",
      "C:\\Users\\MELANI~1\\AppData\\Local\\Temp\\dssatzynkdmoc and its content has been removed.\n",
      "TWAD: 11362    Sum irrigation: 241.30    Cost: 10.53\n",
      "(25.0, 24.3, 19.1, 49.7) 10.527915786304058\n",
      "C:\\Users\\MELANI~1\\AppData\\Local\\Temp\\dssatqqibhxcr created.\n",
      "Static files copied to C:\\Users\\MELANI~1\\AppData\\Local\\Temp\\dssatqqibhxcr.\n",
      "RUN    TRT FLO MAT TOPWT HARWT  RAIN  TIRR   CET  PESW  TNUP  TNLF   TSON TSOC\n",
      "           dap dap kg/ha kg/ha    mm    mm    mm    mm kg/ha kg/ha  kg/ha t/ha\n",
      "  1 PT   1  40 -99 11110  9361     3   106   160    54     0   -99      0  211\n",
      "C:\\Users\\MELANI~1\\AppData\\Local\\Temp\\dssatqqibhxcr and its content has been removed.\n",
      "TWAD: 11110    Sum irrigation: 217.30    Cost: 9.41\n",
      "(31.700000000000003, 24.3, 19.1, 19.0) 9.414421923877638\n",
      "C:\\Users\\MELANI~1\\AppData\\Local\\Temp\\dssatvudjklks created.\n",
      "Static files copied to C:\\Users\\MELANI~1\\AppData\\Local\\Temp\\dssatvudjklks.\n",
      "RUN    TRT FLO MAT TOPWT HARWT  RAIN  TIRR   CET  PESW  TNUP  TNLF   TSON TSOC\n",
      "           dap dap kg/ha kg/ha    mm    mm    mm    mm kg/ha kg/ha  kg/ha t/ha\n",
      "  1 PT   1  40 -99 11362  9588     3   125   162    71     0   -99      0  211\n",
      "C:\\Users\\MELANI~1\\AppData\\Local\\Temp\\dssatvudjklks and its content has been removed.\n",
      "TWAD: 11362    Sum irrigation: 235.80    Cost: 10.21\n",
      "(25.0, 49.5, 19.1, 19.0) 10.210703286304057\n",
      "C:\\Users\\MELANI~1\\AppData\\Local\\Temp\\dssatyvgxihrd created.\n",
      "Static files copied to C:\\Users\\MELANI~1\\AppData\\Local\\Temp\\dssatyvgxihrd.\n",
      "RUN    TRT FLO MAT TOPWT HARWT  RAIN  TIRR   CET  PESW  TNUP  TNLF   TSON TSOC\n",
      "           dap dap kg/ha kg/ha    mm    mm    mm    mm kg/ha kg/ha  kg/ha t/ha\n",
      "  1 PT   1  40 -99 10010  8396     3    90   150    48     0   -99      0  211\n",
      "C:\\Users\\MELANI~1\\AppData\\Local\\Temp\\dssatyvgxihrd and its content has been removed.\n",
      "TWAD: 10010    Sum irrigation: 200.60    Cost: 9.49\n",
      "(25.0, 24.3, 9.1, 19.0) 9.489697193605675\n",
      "C:\\Users\\MELANI~1\\AppData\\Local\\Temp\\dssatvzzxfsnj created.\n",
      "Static files copied to C:\\Users\\MELANI~1\\AppData\\Local\\Temp\\dssatvzzxfsnj.\n",
      "RUN    TRT FLO MAT TOPWT HARWT  RAIN  TIRR   CET  PESW  TNUP  TNLF   TSON TSOC\n",
      "           dap dap kg/ha kg/ha    mm    mm    mm    mm kg/ha kg/ha  kg/ha t/ha\n",
      "  1 PT   1  40 -99 10825  9111     3   101   157    52     0   -99      0  211\n",
      "C:\\Users\\MELANI~1\\AppData\\Local\\Temp\\dssatvzzxfsnj and its content has been removed.\n",
      "TWAD: 10825    Sum irrigation: 212.30    Cost: 9.38\n",
      "(25.0, 24.3, 20.8, 19.0) 9.375002048240226\n",
      "C:\\Users\\MELANI~1\\AppData\\Local\\Temp\\dssatcfunyepx created.\n",
      "Static files copied to C:\\Users\\MELANI~1\\AppData\\Local\\Temp\\dssatcfunyepx.\n",
      "RUN    TRT FLO MAT TOPWT HARWT  RAIN  TIRR   CET  PESW  TNUP  TNLF   TSON TSOC\n",
      "           dap dap kg/ha kg/ha    mm    mm    mm    mm kg/ha kg/ha  kg/ha t/ha\n",
      "  1 PT   1  40 -99 11321  9547     3   111   162    57     0   -99      0  211\n",
      "C:\\Users\\MELANI~1\\AppData\\Local\\Temp\\dssatcfunyepx and its content has been removed.\n",
      "TWAD: 11321    Sum irrigation: 221.70    Cost: 9.49\n",
      "(42.0, 24.3, 19.1, 13.100000000000001) 9.492075434677773\n",
      "C:\\Users\\MELANI~1\\AppData\\Local\\Temp\\dssataylewbxk created.\n",
      "Static files copied to C:\\Users\\MELANI~1\\AppData\\Local\\Temp\\dssataylewbxk.\n",
      "RUN    TRT FLO MAT TOPWT HARWT  RAIN  TIRR   CET  PESW  TNUP  TNLF   TSON TSOC\n",
      "           dap dap kg/ha kg/ha    mm    mm    mm    mm kg/ha kg/ha  kg/ha t/ha\n",
      "  1 PT   1  40 -99 11315  9543     3   111   162    57     0   -99      0  211\n",
      "C:\\Users\\MELANI~1\\AppData\\Local\\Temp\\dssataylewbxk and its content has been removed.\n",
      "TWAD: 11315    Sum irrigation: 221.70    Cost: 9.50\n",
      "(25.0, 24.3, 19.1, 30.1) 9.49582259100662\n",
      "C:\\Users\\MELANI~1\\AppData\\Local\\Temp\\dssatpqemklvj created.\n",
      "Static files copied to C:\\Users\\MELANI~1\\AppData\\Local\\Temp\\dssatpqemklvj.\n",
      "RUN    TRT FLO MAT TOPWT HARWT  RAIN  TIRR   CET  PESW  TNUP  TNLF   TSON TSOC\n",
      "           dap dap kg/ha kg/ha    mm    mm    mm    mm kg/ha kg/ha  kg/ha t/ha\n",
      "  1 PT   1  40 -99 11362  9588     3   113   162    59     0   -99      0  211\n",
      "C:\\Users\\MELANI~1\\AppData\\Local\\Temp\\dssatpqemklvj and its content has been removed.\n",
      "TWAD: 11362    Sum irrigation: 224.20    Cost: 9.59\n",
      "(25.0, 24.3, 32.7, 19.0) 9.59126328630406\n",
      "C:\\Users\\MELANI~1\\AppData\\Local\\Temp\\dssatgvyyzwgz created.\n",
      "Static files copied to C:\\Users\\MELANI~1\\AppData\\Local\\Temp\\dssatgvyyzwgz.\n",
      "RUN    TRT FLO MAT TOPWT HARWT  RAIN  TIRR   CET  PESW  TNUP  TNLF   TSON TSOC\n",
      "           dap dap kg/ha kg/ha    mm    mm    mm    mm kg/ha kg/ha  kg/ha t/ha\n",
      "  1 PT   1  40 -99 11142  9383     3   117   162    63     0   -99      0  211\n",
      "C:\\Users\\MELANI~1\\AppData\\Local\\Temp\\dssatgvyyzwgz and its content has been removed.\n",
      "TWAD: 11142    Sum irrigation: 228.20    Cost: 9.94\n",
      "(4.2, 24.3, 39.0, 37.5) 9.936288845805166\n",
      "C:\\Users\\MELANI~1\\AppData\\Local\\Temp\\dssatohztagxh created.\n",
      "Static files copied to C:\\Users\\MELANI~1\\AppData\\Local\\Temp\\dssatohztagxh.\n",
      "RUN    TRT FLO MAT TOPWT HARWT  RAIN  TIRR   CET  PESW  TNUP  TNLF   TSON TSOC\n",
      "           dap dap kg/ha kg/ha    mm    mm    mm    mm kg/ha kg/ha  kg/ha t/ha\n",
      "  1 PT   1  40 -99 10893  9170     3   102   158    52     0   -99      0  211\n",
      "C:\\Users\\MELANI~1\\AppData\\Local\\Temp\\dssatohztagxh and its content has been removed.\n",
      "TWAD: 10893    Sum irrigation: 213.10    Cost: 9.36\n",
      "(29.3, 24.3, 28.1, 8.200000000000001) 9.364667803941494\n",
      "C:\\Users\\MELANI~1\\AppData\\Local\\Temp\\dssattqmqnyhv created.\n",
      "Static files copied to C:\\Users\\MELANI~1\\AppData\\Local\\Temp\\dssattqmqnyhv.\n",
      "RUN    TRT FLO MAT TOPWT HARWT  RAIN  TIRR   CET  PESW  TNUP  TNLF   TSON TSOC\n",
      "           dap dap kg/ha kg/ha    mm    mm    mm    mm kg/ha kg/ha  kg/ha t/ha\n",
      "  1 PT   1  40 -99 10632  8941     3    98   155    51     0   -99      0  211\n",
      "C:\\Users\\MELANI~1\\AppData\\Local\\Temp\\dssattqmqnyhv and its content has been removed.\n",
      "TWAD: 10632    Sum irrigation: 208.70    Cost: 9.35\n",
      "(25.0, 24.3, 19.1, 17.1) 9.35201626933279\n",
      "C:\\Users\\MELANI~1\\AppData\\Local\\Temp\\dssatdpemptiu created.\n",
      "Static files copied to C:\\Users\\MELANI~1\\AppData\\Local\\Temp\\dssatdpemptiu.\n",
      "RUN    TRT FLO MAT TOPWT HARWT  RAIN  TIRR   CET  PESW  TNUP  TNLF   TSON TSOC\n",
      "           dap dap kg/ha kg/ha    mm    mm    mm    mm kg/ha kg/ha  kg/ha t/ha\n",
      "  1 PT   1  40 -99 11362  9588     3   120   162    66     0   -99      0  211\n",
      "C:\\Users\\MELANI~1\\AppData\\Local\\Temp\\dssatdpemptiu and its content has been removed.\n",
      "TWAD: 11362    Sum irrigation: 230.90    Cost: 9.94\n",
      "(33.1, 24.3, 19.1, 31.200000000000003) 9.940835786304058\n",
      "C:\\Users\\MELANI~1\\AppData\\Local\\Temp\\dssaterbpknkr created.\n",
      "Static files copied to C:\\Users\\MELANI~1\\AppData\\Local\\Temp\\dssaterbpknkr.\n",
      "RUN    TRT FLO MAT TOPWT HARWT  RAIN  TIRR   CET  PESW  TNUP  TNLF   TSON TSOC\n",
      "           dap dap kg/ha kg/ha    mm    mm    mm    mm kg/ha kg/ha  kg/ha t/ha\n",
      "  1 PT   1  40 -99 11362  9588     3   122   162    68     0   -99      0  211\n",
      "C:\\Users\\MELANI~1\\AppData\\Local\\Temp\\dssaterbpknkr and its content has been removed.\n",
      "TWAD: 11362    Sum irrigation: 233.00    Cost: 10.06\n",
      "(25.0, 46.7, 19.1, 19.0) 10.055023286304058\n",
      "C:\\Users\\MELANI~1\\AppData\\Local\\Temp\\dssatzeonksso created.\n",
      "Static files copied to C:\\Users\\MELANI~1\\AppData\\Local\\Temp\\dssatzeonksso.\n",
      "RUN    TRT FLO MAT TOPWT HARWT  RAIN  TIRR   CET  PESW  TNUP  TNLF   TSON TSOC\n",
      "           dap dap kg/ha kg/ha    mm    mm    mm    mm kg/ha kg/ha  kg/ha t/ha\n",
      "  1 PT   1  40 -99 10960  9229     3   103   158    53     0   -99      0  211\n",
      "C:\\Users\\MELANI~1\\AppData\\Local\\Temp\\dssatzeonksso and its content has been removed.\n",
      "TWAD: 10960    Sum irrigation: 213.70    Cost: 9.35\n",
      "(25.0, 24.3, 22.200000000000003, 19.0) 9.346831907000967\n",
      "C:\\Users\\MELANI~1\\AppData\\Local\\Temp\\dssatwakofrhq created.\n",
      "Static files copied to C:\\Users\\MELANI~1\\AppData\\Local\\Temp\\dssatwakofrhq.\n",
      "RUN    TRT FLO MAT TOPWT HARWT  RAIN  TIRR   CET  PESW  TNUP  TNLF   TSON TSOC\n",
      "           dap dap kg/ha kg/ha    mm    mm    mm    mm kg/ha kg/ha  kg/ha t/ha\n",
      "  1 PT   1  40 -99 10098  8473     3    91   151    49     0   -99      0  211\n",
      "C:\\Users\\MELANI~1\\AppData\\Local\\Temp\\dssatwakofrhq and its content has been removed.\n",
      "TWAD: 10098    Sum irrigation: 202.10    Cost: 9.48\n",
      "(25.0, 15.8, 19.1, 19.0) 9.47866257898989\n",
      "C:\\Users\\MELANI~1\\AppData\\Local\\Temp\\dssatbznsjrhf created.\n",
      "Static files copied to C:\\Users\\MELANI~1\\AppData\\Local\\Temp\\dssatbznsjrhf.\n",
      "RUN    TRT FLO MAT TOPWT HARWT  RAIN  TIRR   CET  PESW  TNUP  TNLF   TSON TSOC\n",
      "           dap dap kg/ha kg/ha    mm    mm    mm    mm kg/ha kg/ha  kg/ha t/ha\n",
      "  1 PT   1  40 -99 11362  9588     3   122   162    68     0   -99      0  211\n",
      "C:\\Users\\MELANI~1\\AppData\\Local\\Temp\\dssatbznsjrhf and its content has been removed.\n",
      "TWAD: 11362    Sum irrigation: 233.10    Cost: 10.06\n",
      "(25.0, 24.3, 41.6, 19.0) 10.060515786304059\n",
      "C:\\Users\\MELANI~1\\AppData\\Local\\Temp\\dssatibtpkcjd created.\n",
      "Static files copied to C:\\Users\\MELANI~1\\AppData\\Local\\Temp\\dssatibtpkcjd.\n",
      "RUN    TRT FLO MAT TOPWT HARWT  RAIN  TIRR   CET  PESW  TNUP  TNLF   TSON TSOC\n",
      "           dap dap kg/ha kg/ha    mm    mm    mm    mm kg/ha kg/ha  kg/ha t/ha\n",
      "  1 PT   1  40 -99 11362  9588     3   124   162    70     0   -99      0  211\n",
      "C:\\Users\\MELANI~1\\AppData\\Local\\Temp\\dssatibtpkcjd and its content has been removed.\n",
      "TWAD: 11362    Sum irrigation: 235.00    Cost: 10.17\n",
      "(25.0, 24.3, 19.1, 43.400000000000006) 10.16582328630406\n",
      "C:\\Users\\MELANI~1\\AppData\\Local\\Temp\\dssatedezwqqi created.\n",
      "Static files copied to C:\\Users\\MELANI~1\\AppData\\Local\\Temp\\dssatedezwqqi.\n",
      "RUN    TRT FLO MAT TOPWT HARWT  RAIN  TIRR   CET  PESW  TNUP  TNLF   TSON TSOC\n",
      "           dap dap kg/ha kg/ha    mm    mm    mm    mm kg/ha kg/ha  kg/ha t/ha\n",
      "  1 PT   1  40 -99 11362  9588     3   120   162    66     0   -99      0  211\n",
      "C:\\Users\\MELANI~1\\AppData\\Local\\Temp\\dssatedezwqqi and its content has been removed.\n",
      "TWAD: 11362    Sum irrigation: 231.00    Cost: 9.95\n",
      "(25.0, 24.3, 19.1, 39.400000000000006) 9.946223286304058\n",
      "C:\\Users\\MELANI~1\\AppData\\Local\\Temp\\dssatwpuwxcdn created.\n",
      "Static files copied to C:\\Users\\MELANI~1\\AppData\\Local\\Temp\\dssatwpuwxcdn.\n",
      "RUN    TRT FLO MAT TOPWT HARWT  RAIN  TIRR   CET  PESW  TNUP  TNLF   TSON TSOC\n",
      "           dap dap kg/ha kg/ha    mm    mm    mm    mm kg/ha kg/ha  kg/ha t/ha\n",
      "  1 PT   1  40 -99  8069  6630     3    70   133    45     0   -99      0  211\n",
      "C:\\Users\\MELANI~1\\AppData\\Local\\Temp\\dssatwpuwxcdn and its content has been removed.\n",
      "TWAD: 8069    Sum irrigation: 181.50    Cost: 10.76\n",
      "(25.0, 3.8000000000000003, 10.5, 19.0) 10.764208816211884\n",
      "C:\\Users\\MELANI~1\\AppData\\Local\\Temp\\dssatounzteiu created.\n",
      "Static files copied to C:\\Users\\MELANI~1\\AppData\\Local\\Temp\\dssatounzteiu.\n",
      "RUN    TRT FLO MAT TOPWT HARWT  RAIN  TIRR   CET  PESW  TNUP  TNLF   TSON TSOC\n",
      "           dap dap kg/ha kg/ha    mm    mm    mm    mm kg/ha kg/ha  kg/ha t/ha\n",
      "  1 PT   1  40 -99 11362  9588     3   121   162    67     0   -99      0  211\n",
      "C:\\Users\\MELANI~1\\AppData\\Local\\Temp\\dssatounzteiu and its content has been removed.\n",
      "TWAD: 11362    Sum irrigation: 232.40    Cost: 10.02\n",
      "(46.800000000000004, 24.3, 19.1, 19.0) 10.022173286304058\n",
      "C:\\Users\\MELANI~1\\AppData\\Local\\Temp\\dssatdlrumzag created.\n",
      "Static files copied to C:\\Users\\MELANI~1\\AppData\\Local\\Temp\\dssatdlrumzag.\n",
      "RUN    TRT FLO MAT TOPWT HARWT  RAIN  TIRR   CET  PESW  TNUP  TNLF   TSON TSOC\n",
      "           dap dap kg/ha kg/ha    mm    mm    mm    mm kg/ha kg/ha  kg/ha t/ha\n",
      "  1 PT   1  40 -99 11362  9588     3   118   162    64     0   -99      0  211\n",
      "C:\\Users\\MELANI~1\\AppData\\Local\\Temp\\dssatdlrumzag and its content has been removed.\n",
      "TWAD: 11362    Sum irrigation: 229.00    Cost: 9.84\n",
      "(25.0, 24.3, 19.1, 37.4) 9.839423286304058\n",
      "C:\\Users\\MELANI~1\\AppData\\Local\\Temp\\dssatwuvbvkym created.\n",
      "Static files copied to C:\\Users\\MELANI~1\\AppData\\Local\\Temp\\dssatwuvbvkym.\n",
      "RUN    TRT FLO MAT TOPWT HARWT  RAIN  TIRR   CET  PESW  TNUP  TNLF   TSON TSOC\n",
      "           dap dap kg/ha kg/ha    mm    mm    mm    mm kg/ha kg/ha  kg/ha t/ha\n",
      "  1 PT   1  40 -99 11362  9588     3   114   162    60     0   -99      0  211\n",
      "C:\\Users\\MELANI~1\\AppData\\Local\\Temp\\dssatwuvbvkym and its content has been removed.\n",
      "TWAD: 11362    Sum irrigation: 225.40    Cost: 9.65\n",
      "(39.800000000000004, 24.3, 19.1, 19.0) 9.652223286304059\n",
      "C:\\Users\\MELANI~1\\AppData\\Local\\Temp\\dssatjrbtilvg created.\n",
      "Static files copied to C:\\Users\\MELANI~1\\AppData\\Local\\Temp\\dssatjrbtilvg.\n",
      "RUN    TRT FLO MAT TOPWT HARWT  RAIN  TIRR   CET  PESW  TNUP  TNLF   TSON TSOC\n",
      "           dap dap kg/ha kg/ha    mm    mm    mm    mm kg/ha kg/ha  kg/ha t/ha\n",
      "  1 PT   1  40 -99 11323  9549     3   111   162    57     0   -99      0  211\n",
      "C:\\Users\\MELANI~1\\AppData\\Local\\Temp\\dssatjrbtilvg and its content has been removed.\n",
      "TWAD: 11323    Sum irrigation: 221.60    Cost: 9.49\n",
      "(36.0, 24.3, 19.1, 19.0) 9.485904765056542\n",
      "C:\\Users\\MELANI~1\\AppData\\Local\\Temp\\dssattivttsmm created.\n",
      "Static files copied to C:\\Users\\MELANI~1\\AppData\\Local\\Temp\\dssattivttsmm.\n",
      "RUN    TRT FLO MAT TOPWT HARWT  RAIN  TIRR   CET  PESW  TNUP  TNLF   TSON TSOC\n",
      "           dap dap kg/ha kg/ha    mm    mm    mm    mm kg/ha kg/ha  kg/ha t/ha\n",
      "  1 PT   1  40 -99  9582  8011     3    85   146    47     0   -99      0  211\n",
      "C:\\Users\\MELANI~1\\AppData\\Local\\Temp\\dssattivttsmm and its content has been removed.\n",
      "TWAD: 9582    Sum irrigation: 195.70    Cost: 9.66\n",
      "(10.100000000000001, 24.3, 19.1, 19.0) 9.663049313923313\n",
      "C:\\Users\\MELANI~1\\AppData\\Local\\Temp\\dssatmpmdalzh created.\n",
      "Static files copied to C:\\Users\\MELANI~1\\AppData\\Local\\Temp\\dssatmpmdalzh.\n",
      "RUN    TRT FLO MAT TOPWT HARWT  RAIN  TIRR   CET  PESW  TNUP  TNLF   TSON TSOC\n",
      "           dap dap kg/ha kg/ha    mm    mm    mm    mm kg/ha kg/ha  kg/ha t/ha\n",
      "  1 PT   1  40 -99  9518  7959     3    85   146    48     0   -99      0  211\n",
      "C:\\Users\\MELANI~1\\AppData\\Local\\Temp\\dssatmpmdalzh and its content has been removed.\n",
      "TWAD: 9518    Sum irrigation: 195.80    Cost: 9.72\n",
      "(25.0, 24.3, 4.3, 19.0) 9.722816244470872\n",
      "C:\\Users\\MELANI~1\\AppData\\Local\\Temp\\dssatrgjxxowc created.\n",
      "Static files copied to C:\\Users\\MELANI~1\\AppData\\Local\\Temp\\dssatrgjxxowc.\n",
      "RUN    TRT FLO MAT TOPWT HARWT  RAIN  TIRR   CET  PESW  TNUP  TNLF   TSON TSOC\n",
      "           dap dap kg/ha kg/ha    mm    mm    mm    mm kg/ha kg/ha  kg/ha t/ha\n",
      "  1 PT   1  40 -99  9707  8126     3    87   147    48     0   -99      0  211\n",
      "C:\\Users\\MELANI~1\\AppData\\Local\\Temp\\dssatrgjxxowc and its content has been removed.\n",
      "TWAD: 9707    Sum irrigation: 197.70    Cost: 9.63\n",
      "(25.0, 24.3, 19.1, 6.1000000000000005) 9.62903687504127\n",
      "C:\\Users\\MELANI~1\\AppData\\Local\\Temp\\dssatqzcdnulw created.\n",
      "Static files copied to C:\\Users\\MELANI~1\\AppData\\Local\\Temp\\dssatqzcdnulw.\n",
      "RUN    TRT FLO MAT TOPWT HARWT  RAIN  TIRR   CET  PESW  TNUP  TNLF   TSON TSOC\n",
      "           dap dap kg/ha kg/ha    mm    mm    mm    mm kg/ha kg/ha  kg/ha t/ha\n",
      "  1 PT   1  40 -99  7211  5800     3    61   126    43     0   -99      0  211\n",
      "C:\\Users\\MELANI~1\\AppData\\Local\\Temp\\dssatqzcdnulw and its content has been removed.\n",
      "TWAD: 7211    Sum irrigation: 172.30    Cost: 11.70\n",
      "(25.0, 3.9000000000000004, 19.1, 1.1) 11.696862658901654\n",
      "C:\\Users\\MELANI~1\\AppData\\Local\\Temp\\dssatnytnpbfl created.\n",
      "Static files copied to C:\\Users\\MELANI~1\\AppData\\Local\\Temp\\dssatnytnpbfl.\n",
      "RUN    TRT FLO MAT TOPWT HARWT  RAIN  TIRR   CET  PESW  TNUP  TNLF   TSON TSOC\n",
      "           dap dap kg/ha kg/ha    mm    mm    mm    mm kg/ha kg/ha  kg/ha t/ha\n",
      "  1 PT   1  40 -99 11192  9432     3   108   161    56     0   -99      0  211\n",
      "C:\\Users\\MELANI~1\\AppData\\Local\\Temp\\dssatnytnpbfl and its content has been removed.\n",
      "TWAD: 11192    Sum irrigation: 219.30    Cost: 9.46\n",
      "(16.6, 24.3, 19.1, 36.1) 9.456764691926182\n",
      "C:\\Users\\MELANI~1\\AppData\\Local\\Temp\\dssatnoomspxa created.\n",
      "Static files copied to C:\\Users\\MELANI~1\\AppData\\Local\\Temp\\dssatnoomspxa.\n",
      "RUN    TRT FLO MAT TOPWT HARWT  RAIN  TIRR   CET  PESW  TNUP  TNLF   TSON TSOC\n",
      "           dap dap kg/ha kg/ha    mm    mm    mm    mm kg/ha kg/ha  kg/ha t/ha\n",
      "  1 PT   1  40 -99 11362  9588     3   114   162    60     0   -99      0  211\n",
      "C:\\Users\\MELANI~1\\AppData\\Local\\Temp\\dssatnoomspxa and its content has been removed.\n",
      "TWAD: 11362    Sum irrigation: 224.50    Cost: 9.61\n",
      "(25.0, 25.0, 36.300000000000004, 15.0) 9.60643578630406\n",
      "C:\\Users\\MELANI~1\\AppData\\Local\\Temp\\dssattgcfteym created.\n",
      "Static files copied to C:\\Users\\MELANI~1\\AppData\\Local\\Temp\\dssattgcfteym.\n",
      "RUN    TRT FLO MAT TOPWT HARWT  RAIN  TIRR   CET  PESW  TNUP  TNLF   TSON TSOC\n",
      "           dap dap kg/ha kg/ha    mm    mm    mm    mm kg/ha kg/ha  kg/ha t/ha\n",
      "  1 PT   1  40 -99 10960  9229     3   103   158    53     0   -99      0  211\n",
      "C:\\Users\\MELANI~1\\AppData\\Local\\Temp\\dssattgcfteym and its content has been removed.\n",
      "TWAD: 10960    Sum irrigation: 213.80    Cost: 9.35\n",
      "(25.0, 24.3, 19.1, 22.200000000000003) 9.351359407000967\n",
      "C:\\Users\\MELANI~1\\AppData\\Local\\Temp\\dssatvbqrfnth created.\n",
      "Static files copied to C:\\Users\\MELANI~1\\AppData\\Local\\Temp\\dssatvbqrfnth.\n",
      "RUN    TRT FLO MAT TOPWT HARWT  RAIN  TIRR   CET  PESW  TNUP  TNLF   TSON TSOC\n",
      "           dap dap kg/ha kg/ha    mm    mm    mm    mm kg/ha kg/ha  kg/ha t/ha\n",
      "  1 PT   1  40 -99  5522  4231     3    46   115    39     0   -99      0  211\n",
      "C:\\Users\\MELANI~1\\AppData\\Local\\Temp\\dssatvbqrfnth and its content has been removed.\n",
      "TWAD: 5522    Sum irrigation: 157.30    Cost: 14.78\n",
      "(0.7000000000000001, 3.4000000000000004, 11.0, 19.0) 14.778204403748296\n",
      "C:\\Users\\MELANI~1\\AppData\\Local\\Temp\\dssatjfntochv created.\n",
      "Static files copied to C:\\Users\\MELANI~1\\AppData\\Local\\Temp\\dssatjfntochv.\n",
      "RUN    TRT FLO MAT TOPWT HARWT  RAIN  TIRR   CET  PESW  TNUP  TNLF   TSON TSOC\n",
      "           dap dap kg/ha kg/ha    mm    mm    mm    mm kg/ha kg/ha  kg/ha t/ha\n",
      "  1 PT   1  40 -99 10900  9176     3   102   158    52     0   -99      0  211\n",
      "C:\\Users\\MELANI~1\\AppData\\Local\\Temp\\dssatjfntochv and its content has been removed.\n",
      "TWAD: 10900    Sum irrigation: 213.10    Cost: 9.36\n",
      "(27.5, 24.3, 19.1, 19.0) 9.359951367940472\n",
      "C:\\Users\\MELANI~1\\AppData\\Local\\Temp\\dssatysjeieso created.\n",
      "Static files copied to C:\\Users\\MELANI~1\\AppData\\Local\\Temp\\dssatysjeieso.\n",
      "RUN    TRT FLO MAT TOPWT HARWT  RAIN  TIRR   CET  PESW  TNUP  TNLF   TSON TSOC\n",
      "           dap dap kg/ha kg/ha    mm    mm    mm    mm kg/ha kg/ha  kg/ha t/ha\n",
      "  1 PT   1  40 -99 11158  9403     3   107   160    55     0   -99      0  211\n",
      "C:\\Users\\MELANI~1\\AppData\\Local\\Temp\\dssatysjeieso and its content has been removed.\n",
      "TWAD: 11158    Sum irrigation: 217.50    Cost: 9.39\n",
      "(25.0, 24.3, 26.0, 19.0) 9.392865539098132\n",
      "C:\\Users\\MELANI~1\\AppData\\Local\\Temp\\dssatrxkulyok created.\n",
      "Static files copied to C:\\Users\\MELANI~1\\AppData\\Local\\Temp\\dssatrxkulyok.\n",
      "RUN    TRT FLO MAT TOPWT HARWT  RAIN  TIRR   CET  PESW  TNUP  TNLF   TSON TSOC\n",
      "           dap dap kg/ha kg/ha    mm    mm    mm    mm kg/ha kg/ha  kg/ha t/ha\n",
      "  1 PT   1  40 -99  9211  7684     3    82   143    47     0   -99      0  211\n",
      "C:\\Users\\MELANI~1\\AppData\\Local\\Temp\\dssatrxkulyok and its content has been removed.\n",
      "TWAD: 9211    Sum irrigation: 193.00    Cost: 9.90\n",
      "(25.0, 24.3, 1.5, 19.0) 9.903276671885063\n",
      "C:\\Users\\MELANI~1\\AppData\\Local\\Temp\\dssatdkqjwskk created.\n",
      "Static files copied to C:\\Users\\MELANI~1\\AppData\\Local\\Temp\\dssatdkqjwskk.\n",
      "RUN    TRT FLO MAT TOPWT HARWT  RAIN  TIRR   CET  PESW  TNUP  TNLF   TSON TSOC\n",
      "           dap dap kg/ha kg/ha    mm    mm    mm    mm kg/ha kg/ha  kg/ha t/ha\n",
      "  1 PT   1  40 -99 11362  9588     3   128   162    74     0   -99      0  211\n",
      "C:\\Users\\MELANI~1\\AppData\\Local\\Temp\\dssatdkqjwskk and its content has been removed.\n",
      "TWAD: 11362    Sum irrigation: 239.10    Cost: 10.40\n",
      "(25.0, 24.3, 47.6, 19.0) 10.399215786304058\n",
      "C:\\Users\\MELANI~1\\AppData\\Local\\Temp\\dssatptckyedy created.\n",
      "Static files copied to C:\\Users\\MELANI~1\\AppData\\Local\\Temp\\dssatptckyedy.\n",
      "RUN    TRT FLO MAT TOPWT HARWT  RAIN  TIRR   CET  PESW  TNUP  TNLF   TSON TSOC\n",
      "           dap dap kg/ha kg/ha    mm    mm    mm    mm kg/ha kg/ha  kg/ha t/ha\n",
      "  1 PT   1  40 -99 11315  9541     3   111   162    57     0   -99      0  211\n",
      "C:\\Users\\MELANI~1\\AppData\\Local\\Temp\\dssatptckyedy and its content has been removed.\n",
      "TWAD: 11315    Sum irrigation: 222.70    Cost: 9.55\n",
      "(40.6, 1.6, 38.300000000000004, 19.0) 9.54532259100662\n",
      "C:\\Users\\MELANI~1\\AppData\\Local\\Temp\\dssatrhcofifp created.\n",
      "Static files copied to C:\\Users\\MELANI~1\\AppData\\Local\\Temp\\dssatrhcofifp.\n",
      "RUN    TRT FLO MAT TOPWT HARWT  RAIN  TIRR   CET  PESW  TNUP  TNLF   TSON TSOC\n",
      "           dap dap kg/ha kg/ha    mm    mm    mm    mm kg/ha kg/ha  kg/ha t/ha\n",
      "  1 PT   1  40 -99  8791  7295     3    78   141    46     0   -99      0  211\n",
      "C:\\Users\\MELANI~1\\AppData\\Local\\Temp\\dssatrhcofifp and its content has been removed.\n",
      "TWAD: 8791    Sum irrigation: 188.60    Cost: 10.17\n",
      "(3.0, 24.3, 19.1, 19.0) 10.169505094959039\n",
      "C:\\Users\\MELANI~1\\AppData\\Local\\Temp\\dssatfifqtway created.\n",
      "Static files copied to C:\\Users\\MELANI~1\\AppData\\Local\\Temp\\dssatfifqtway.\n",
      "RUN    TRT FLO MAT TOPWT HARWT  RAIN  TIRR   CET  PESW  TNUP  TNLF   TSON TSOC\n",
      "           dap dap kg/ha kg/ha    mm    mm    mm    mm kg/ha kg/ha  kg/ha t/ha\n",
      "  1 PT   1  40 -99 10009  8395     3    90   150    48     0   -99      0  211\n",
      "C:\\Users\\MELANI~1\\AppData\\Local\\Temp\\dssatfifqtway and its content has been removed.\n",
      "TWAD: 10009    Sum irrigation: 200.40    Cost: 9.48\n",
      "(25.0, 14.100000000000001, 19.1, 19.0) 9.482765675611383\n",
      "C:\\Users\\MELANI~1\\AppData\\Local\\Temp\\dssatwvabruxj created.\n",
      "Static files copied to C:\\Users\\MELANI~1\\AppData\\Local\\Temp\\dssatwvabruxj.\n",
      "RUN    TRT FLO MAT TOPWT HARWT  RAIN  TIRR   CET  PESW  TNUP  TNLF   TSON TSOC\n",
      "           dap dap kg/ha kg/ha    mm    mm    mm    mm kg/ha kg/ha  kg/ha t/ha\n",
      "  1 PT   1  40 -99  9582  8011     3    85   146    47     0   -99      0  211\n",
      "C:\\Users\\MELANI~1\\AppData\\Local\\Temp\\dssatwvabruxj and its content has been removed.\n",
      "TWAD: 9582    Sum irrigation: 196.00    Cost: 9.67\n",
      "(10.4, 24.3, 19.1, 19.0) 9.673946813923314\n",
      "C:\\Users\\MELANI~1\\AppData\\Local\\Temp\\dssatzahnkvuu created.\n",
      "Static files copied to C:\\Users\\MELANI~1\\AppData\\Local\\Temp\\dssatzahnkvuu.\n",
      "RUN    TRT FLO MAT TOPWT HARWT  RAIN  TIRR   CET  PESW  TNUP  TNLF   TSON TSOC\n",
      "           dap dap kg/ha kg/ha    mm    mm    mm    mm kg/ha kg/ha  kg/ha t/ha\n",
      "  1 PT   1  40 -99 11362  9588     3   114   162    60     0   -99      0  211\n",
      "C:\\Users\\MELANI~1\\AppData\\Local\\Temp\\dssatzahnkvuu and its content has been removed.\n",
      "TWAD: 11362    Sum irrigation: 225.60    Cost: 9.66\n",
      "(25.0, 24.3, 41.5, 11.600000000000001) 9.662453286304057\n",
      "C:\\Users\\MELANI~1\\AppData\\Local\\Temp\\dssatgsdztywy created.\n",
      "Static files copied to C:\\Users\\MELANI~1\\AppData\\Local\\Temp\\dssatgsdztywy.\n",
      "RUN    TRT FLO MAT TOPWT HARWT  RAIN  TIRR   CET  PESW  TNUP  TNLF   TSON TSOC\n",
      "           dap dap kg/ha kg/ha    mm    mm    mm    mm kg/ha kg/ha  kg/ha t/ha\n",
      "  1 PT   1  40 -99 10633  8942     3    98   155    51     0   -99      0  211\n",
      "C:\\Users\\MELANI~1\\AppData\\Local\\Temp\\dssatgsdztywy and its content has been removed.\n",
      "TWAD: 10633    Sum irrigation: 208.60    Cost: 9.35\n",
      "(23.0, 24.3, 19.1, 19.0) 9.347036118334795\n",
      "C:\\Users\\MELANI~1\\AppData\\Local\\Temp\\dssatodejqwlh created.\n",
      "Static files copied to C:\\Users\\MELANI~1\\AppData\\Local\\Temp\\dssatodejqwlh.\n",
      "RUN    TRT FLO MAT TOPWT HARWT  RAIN  TIRR   CET  PESW  TNUP  TNLF   TSON TSOC\n",
      "           dap dap kg/ha kg/ha    mm    mm    mm    mm kg/ha kg/ha  kg/ha t/ha\n",
      "  1 PT   1  40 -99 11155  9400     3   107   160    55     0   -99      0  211\n",
      "C:\\Users\\MELANI~1\\AppData\\Local\\Temp\\dssatodejqwlh and its content has been removed.\n",
      "TWAD: 11155    Sum irrigation: 218.40    Cost: 9.44\n",
      "(35.4, 24.3, 16.5, 19.0) 9.437431253099842\n",
      "C:\\Users\\MELANI~1\\AppData\\Local\\Temp\\dssatsjqylvmy created.\n",
      "Static files copied to C:\\Users\\MELANI~1\\AppData\\Local\\Temp\\dssatsjqylvmy.\n",
      "RUN    TRT FLO MAT TOPWT HARWT  RAIN  TIRR   CET  PESW  TNUP  TNLF   TSON TSOC\n",
      "           dap dap kg/ha kg/ha    mm    mm    mm    mm kg/ha kg/ha  kg/ha t/ha\n",
      "  1 PT   1  40 -99 10895  9172     3   102   158    52     0   -99      0  211\n",
      "C:\\Users\\MELANI~1\\AppData\\Local\\Temp\\dssatsjqylvmy and its content has been removed.\n",
      "TWAD: 10895    Sum irrigation: 213.00    Cost: 9.36\n",
      "(25.0, 26.700000000000003, 19.1, 19.0) 9.358827132371076\n",
      "C:\\Users\\MELANI~1\\AppData\\Local\\Temp\\dssatehqvzyht created.\n",
      "Static files copied to C:\\Users\\MELANI~1\\AppData\\Local\\Temp\\dssatehqvzyht.\n",
      "RUN    TRT FLO MAT TOPWT HARWT  RAIN  TIRR   CET  PESW  TNUP  TNLF   TSON TSOC\n",
      "           dap dap kg/ha kg/ha    mm    mm    mm    mm kg/ha kg/ha  kg/ha t/ha\n",
      "  1 PT   1  40 -99  8791  7295     3    78   141    46     0   -99      0  211\n",
      "C:\\Users\\MELANI~1\\AppData\\Local\\Temp\\dssatehqvzyht and its content has been removed.\n",
      "TWAD: 8791    Sum irrigation: 189.10    Cost: 10.19\n",
      "(3.5, 24.3, 19.1, 19.0) 10.185917594959038\n",
      "C:\\Users\\MELANI~1\\AppData\\Local\\Temp\\dssathhtubvaf created.\n",
      "Static files copied to C:\\Users\\MELANI~1\\AppData\\Local\\Temp\\dssathhtubvaf.\n",
      "RUN    TRT FLO MAT TOPWT HARWT  RAIN  TIRR   CET  PESW  TNUP  TNLF   TSON TSOC\n",
      "           dap dap kg/ha kg/ha    mm    mm    mm    mm kg/ha kg/ha  kg/ha t/ha\n",
      "  1 PT   1  40 -99  8172  6726     3    71   134    45     0   -99      0  211\n",
      "C:\\Users\\MELANI~1\\AppData\\Local\\Temp\\dssathhtubvaf and its content has been removed.\n",
      "TWAD: 8172    Sum irrigation: 181.80    Cost: 10.65\n",
      "(25.0, 10.600000000000001, 4.0, 19.0) 10.64801401009251\n",
      "C:\\Users\\MELANI~1\\AppData\\Local\\Temp\\dssatvvgwjqgl created.\n",
      "Static files copied to C:\\Users\\MELANI~1\\AppData\\Local\\Temp\\dssatvvgwjqgl.\n",
      "RUN    TRT FLO MAT TOPWT HARWT  RAIN  TIRR   CET  PESW  TNUP  TNLF   TSON TSOC\n",
      "           dap dap kg/ha kg/ha    mm    mm    mm    mm kg/ha kg/ha  kg/ha t/ha\n",
      "  1 PT   1  40 -99 11112  9362     3   106   160    54     0   -99      0  211\n",
      "C:\\Users\\MELANI~1\\AppData\\Local\\Temp\\dssatvvgwjqgl and its content has been removed.\n",
      "TWAD: 11112    Sum irrigation: 216.60    Cost: 9.38\n",
      "(25.0, 15.200000000000001, 19.1, 34.1) 9.38031339818004\n",
      "C:\\Users\\MELANI~1\\AppData\\Local\\Temp\\dssatphauwxim created.\n",
      "Static files copied to C:\\Users\\MELANI~1\\AppData\\Local\\Temp\\dssatphauwxim.\n",
      "RUN    TRT FLO MAT TOPWT HARWT  RAIN  TIRR   CET  PESW  TNUP  TNLF   TSON TSOC\n",
      "           dap dap kg/ha kg/ha    mm    mm    mm    mm kg/ha kg/ha  kg/ha t/ha\n",
      "  1 PT   1  40 -99  8477  7025     3    75   139    45     0   -99      0  211\n",
      "C:\\Users\\MELANI~1\\AppData\\Local\\Temp\\dssatphauwxim and its content has been removed.\n",
      "TWAD: 8477    Sum irrigation: 185.80    Cost: 10.42\n",
      "(0.2, 24.3, 19.1, 19.0) 10.416989818650487\n",
      "C:\\Users\\MELANI~1\\AppData\\Local\\Temp\\dssatpgqsaajs created.\n",
      "Static files copied to C:\\Users\\MELANI~1\\AppData\\Local\\Temp\\dssatpgqsaajs.\n",
      "RUN    TRT FLO MAT TOPWT HARWT  RAIN  TIRR   CET  PESW  TNUP  TNLF   TSON TSOC\n",
      "           dap dap kg/ha kg/ha    mm    mm    mm    mm kg/ha kg/ha  kg/ha t/ha\n",
      "  1 PT   1  40 -99  9827  8233     3    88   148    48     0   -99      0  211\n",
      "C:\\Users\\MELANI~1\\AppData\\Local\\Temp\\dssatpgqsaajs and its content has been removed.\n",
      "TWAD: 9827    Sum irrigation: 198.90    Cost: 9.57\n",
      "(13.3, 24.3, 19.1, 19.0) 9.573458142532244\n",
      "C:\\Users\\MELANI~1\\AppData\\Local\\Temp\\dssatnlimswza created.\n",
      "Static files copied to C:\\Users\\MELANI~1\\AppData\\Local\\Temp\\dssatnlimswza.\n",
      "RUN    TRT FLO MAT TOPWT HARWT  RAIN  TIRR   CET  PESW  TNUP  TNLF   TSON TSOC\n",
      "           dap dap kg/ha kg/ha    mm    mm    mm    mm kg/ha kg/ha  kg/ha t/ha\n",
      "  1 PT   1  40 -99 10960  9229     3   103   158    53     0   -99      0  211\n",
      "C:\\Users\\MELANI~1\\AppData\\Local\\Temp\\dssatnlimswza and its content has been removed.\n",
      "TWAD: 10960    Sum irrigation: 214.30    Cost: 9.37\n",
      "(25.0, 24.3, 19.1, 22.700000000000003) 9.374071907000966\n",
      "C:\\Users\\MELANI~1\\AppData\\Local\\Temp\\dssatcodopyoi created.\n",
      "Static files copied to C:\\Users\\MELANI~1\\AppData\\Local\\Temp\\dssatcodopyoi.\n",
      "RUN    TRT FLO MAT TOPWT HARWT  RAIN  TIRR   CET  PESW  TNUP  TNLF   TSON TSOC\n",
      "           dap dap kg/ha kg/ha    mm    mm    mm    mm kg/ha kg/ha  kg/ha t/ha\n",
      "  1 PT   1  40 -99 10963  9232     3   103   158    53     0   -99      0  211\n",
      "C:\\Users\\MELANI~1\\AppData\\Local\\Temp\\dssatcodopyoi and its content has been removed.\n",
      "TWAD: 10963    Sum irrigation: 214.00    Cost: 9.36\n",
      "(28.400000000000002, 24.3, 19.1, 19.0) 9.358431978721885\n",
      "C:\\Users\\MELANI~1\\AppData\\Local\\Temp\\dssatzgvclcym created.\n",
      "Static files copied to C:\\Users\\MELANI~1\\AppData\\Local\\Temp\\dssatzgvclcym.\n",
      "RUN    TRT FLO MAT TOPWT HARWT  RAIN  TIRR   CET  PESW  TNUP  TNLF   TSON TSOC\n",
      "           dap dap kg/ha kg/ha    mm    mm    mm    mm kg/ha kg/ha  kg/ha t/ha\n",
      "  1 PT   1  40 -99 11362  9588     3   125   162    71     0   -99      0  211\n",
      "C:\\Users\\MELANI~1\\AppData\\Local\\Temp\\dssatzgvclcym and its content has been removed.\n",
      "TWAD: 11362    Sum irrigation: 236.20    Cost: 10.23\n",
      "(25.0, 24.3, 44.7, 19.0) 10.233263286304057\n",
      "C:\\Users\\MELANI~1\\AppData\\Local\\Temp\\dssatwcomwvpj created.\n",
      "Static files copied to C:\\Users\\MELANI~1\\AppData\\Local\\Temp\\dssatwcomwvpj.\n",
      "RUN    TRT FLO MAT TOPWT HARWT  RAIN  TIRR   CET  PESW  TNUP  TNLF   TSON TSOC\n",
      "           dap dap kg/ha kg/ha    mm    mm    mm    mm kg/ha kg/ha  kg/ha t/ha\n",
      "  1 PT   1  40 -99  9730  8147     3    87   147    48     0   -99      0  211\n",
      "C:\\Users\\MELANI~1\\AppData\\Local\\Temp\\dssatwcomwvpj and its content has been removed.\n",
      "TWAD: 9730    Sum irrigation: 197.30    Cost: 9.59\n",
      "(25.0, 11.0, 19.1, 19.0) 9.59469548848993\n",
      "Execution time: 213.21\n",
      "The optimal values are (25.0, 24.3, 19.1, 19.0)\n"
     ]
    },
    {
     "data": {
      "text/plain": [
       "(25.0, 24.3, 19.1, 19.0)"
      ]
     },
     "execution_count": 14,
     "metadata": {},
     "output_type": "execute_result"
    }
   ],
   "source": [
    "# dates = ['8-07-2022', '14-07-2022', '20-07-2022', '25-07-2022']\n",
    "dates = ['8-07-2022','14-07-2022',  '20-07-2022', '25-07-2022']\n",
    "dssat.optimization_irri(dates)\n",
    "\n",
    "# Execution time: 345.98\n",
    "# The optimal values are (1.8, 2.6, 1.1, 3.1)"
   ]
  },
  {
   "cell_type": "code",
   "execution_count": 27,
   "metadata": {},
   "outputs": [
    {
     "name": "stdout",
     "output_type": "stream",
     "text": [
      "C:\\Users\\MELANI~1\\AppData\\Local\\Temp\\dssatlmebmmxz created.\n",
      "Static files copied to C:\\Users\\MELANI~1\\AppData\\Local\\Temp\\dssatlmebmmxz.\n",
      "RUN    TRT FLO MAT TOPWT HARWT  RAIN  TIRR   CET  PESW  TNUP  TNLF   TSON TSOC\n",
      "           dap dap kg/ha kg/ha    mm    mm    mm    mm kg/ha kg/ha  kg/ha t/ha\n",
      "  1 PT   1  40 -99 10770  9062     3   100   157    52     0   -99      0  211\n",
      "Output model save in attribute new_output\n",
      "C:\\Users\\MELANI~1\\AppData\\Local\\Temp\\dssatlmebmmxz and its content has been removed.\n",
      "TWAD: 10770    Sum irrigation: 210.60    Cost: 9.34\n"
     ]
    }
   ],
   "source": [
    "dates = ['8-07-2022','14-07-2022', '20-07-2022', '25-07-2022']\n",
    "dssat.next_dates = dates\n",
    "dssat.irri_cost([25.0, 24.3, 19.1, 19.0], save=True)\n",
    "out4 = dssat.new_output"
   ]
  },
  {
   "cell_type": "code",
   "execution_count": 16,
   "metadata": {},
   "outputs": [
    {
     "name": "stdout",
     "output_type": "stream",
     "text": [
      "C:\\Users\\MELANI~1\\AppData\\Local\\Temp\\dssatwluonkdm created.\n",
      "Static files copied to C:\\Users\\MELANI~1\\AppData\\Local\\Temp\\dssatwluonkdm.\n",
      "RUN    TRT FLO MAT TOPWT HARWT  RAIN  TIRR   CET  PESW  TNUP  TNLF   TSON TSOC\n",
      "           dap dap kg/ha kg/ha    mm    mm    mm    mm kg/ha kg/ha  kg/ha t/ha\n",
      "  1 PT   1  40 -99 11362  9588     3   138   163    84     0   -99      0  211\n",
      "C:\\Users\\MELANI~1\\AppData\\Local\\Temp\\dssatwluonkdm and its content has been removed.\n",
      "TWAD: 11362    Sum irrigation: 248.20    Cost: 9.54\n",
      "(25.0, 25.0, 25.0, 25.0, 25.0) 9.541013286304057\n",
      "C:\\Users\\MELANI~1\\AppData\\Local\\Temp\\dssatsfsfxbhn created.\n",
      "Static files copied to C:\\Users\\MELANI~1\\AppData\\Local\\Temp\\dssatsfsfxbhn.\n",
      "RUN    TRT FLO MAT TOPWT HARWT  RAIN  TIRR   CET  PESW  TNUP  TNLF   TSON TSOC\n",
      "           dap dap kg/ha kg/ha    mm    mm    mm    mm kg/ha kg/ha  kg/ha t/ha\n",
      "  1 PT   1  40 -99 11362  9588     3   138   163    84     0   -99      0  211\n",
      "C:\\Users\\MELANI~1\\AppData\\Local\\Temp\\dssatsfsfxbhn and its content has been removed.\n",
      "TWAD: 11362    Sum irrigation: 249.10    Cost: 9.58\n",
      "(34.2, 25.0, 25.0, 16.7, 25.0) 9.57714288630406\n",
      "C:\\Users\\MELANI~1\\AppData\\Local\\Temp\\dssatqdsjgxcw created.\n",
      "Static files copied to C:\\Users\\MELANI~1\\AppData\\Local\\Temp\\dssatqdsjgxcw.\n",
      "RUN    TRT FLO MAT TOPWT HARWT  RAIN  TIRR   CET  PESW  TNUP  TNLF   TSON TSOC\n",
      "           dap dap kg/ha kg/ha    mm    mm    mm    mm kg/ha kg/ha  kg/ha t/ha\n",
      "  1 PT   1  40 -99 11362  9588     3   121   163    67     0   -99      0  211\n",
      "C:\\Users\\MELANI~1\\AppData\\Local\\Temp\\dssatqdsjgxcw and its content has been removed.\n",
      "TWAD: 11362    Sum irrigation: 232.10    Cost: 8.94\n",
      "(27.8, 25.0, 25.0, 6.1000000000000005, 25.0) 8.938486886304059\n",
      "C:\\Users\\MELANI~1\\AppData\\Local\\Temp\\dssatyhezkfih created.\n",
      "Static files copied to C:\\Users\\MELANI~1\\AppData\\Local\\Temp\\dssatyhezkfih.\n",
      "RUN    TRT FLO MAT TOPWT HARWT  RAIN  TIRR   CET  PESW  TNUP  TNLF   TSON TSOC\n",
      "           dap dap kg/ha kg/ha    mm    mm    mm    mm kg/ha kg/ha  kg/ha t/ha\n",
      "  1 PT   1  40 -99 11362  9588     3   142   163    88     0   -99      0  211\n",
      "C:\\Users\\MELANI~1\\AppData\\Local\\Temp\\dssatyhezkfih and its content has been removed.\n",
      "TWAD: 11362    Sum irrigation: 253.60    Cost: 9.76\n",
      "(27.8, 25.0, 25.0, 6.1000000000000005, 46.5) 9.761678886304058\n",
      "C:\\Users\\MELANI~1\\AppData\\Local\\Temp\\dssatqegardln created.\n",
      "Static files copied to C:\\Users\\MELANI~1\\AppData\\Local\\Temp\\dssatqegardln.\n",
      "RUN    TRT FLO MAT TOPWT HARWT  RAIN  TIRR   CET  PESW  TNUP  TNLF   TSON TSOC\n",
      "           dap dap kg/ha kg/ha    mm    mm    mm    mm kg/ha kg/ha  kg/ha t/ha\n",
      "  1 PT   1  40 -99 11206  9444     3   108   161    55     0   -99      0  211\n",
      "C:\\Users\\MELANI~1\\AppData\\Local\\Temp\\dssatqegardln and its content has been removed.\n",
      "TWAD: 11206    Sum irrigation: 218.50    Cost: 8.59\n",
      "(14.200000000000001, 25.0, 25.0, 6.1000000000000005, 25.0) 8.592166424002139\n",
      "C:\\Users\\MELANI~1\\AppData\\Local\\Temp\\dssathanhwfvx created.\n",
      "Static files copied to C:\\Users\\MELANI~1\\AppData\\Local\\Temp\\dssathanhwfvx.\n",
      "RUN    TRT FLO MAT TOPWT HARWT  RAIN  TIRR   CET  PESW  TNUP  TNLF   TSON TSOC\n",
      "           dap dap kg/ha kg/ha    mm    mm    mm    mm kg/ha kg/ha  kg/ha t/ha\n",
      "  1 PT   1  40 -99 11362  9588     3   126   162    72     0   -99      0  211\n",
      "C:\\Users\\MELANI~1\\AppData\\Local\\Temp\\dssathanhwfvx and its content has been removed.\n",
      "TWAD: 11362    Sum irrigation: 237.40    Cost: 9.13\n",
      "(14.200000000000001, 25.0, 43.900000000000006, 6.1000000000000005, 25.0) 9.127675686304059\n",
      "C:\\Users\\MELANI~1\\AppData\\Local\\Temp\\dssatzthrrznm created.\n",
      "Static files copied to C:\\Users\\MELANI~1\\AppData\\Local\\Temp\\dssatzthrrznm.\n",
      "RUN    TRT FLO MAT TOPWT HARWT  RAIN  TIRR   CET  PESW  TNUP  TNLF   TSON TSOC\n",
      "           dap dap kg/ha kg/ha    mm    mm    mm    mm kg/ha kg/ha  kg/ha t/ha\n",
      "  1 PT   1  40 -99 11362  9588     3   129   162    75     0   -99      0  211\n",
      "C:\\Users\\MELANI~1\\AppData\\Local\\Temp\\dssatzthrrznm and its content has been removed.\n",
      "TWAD: 11362    Sum irrigation: 240.10    Cost: 9.23\n",
      "(14.200000000000001, 25.0, 46.6, 6.1000000000000005, 25.0) 9.227510886304058\n",
      "C:\\Users\\MELANI~1\\AppData\\Local\\Temp\\dssatppfxdyty created.\n",
      "Static files copied to C:\\Users\\MELANI~1\\AppData\\Local\\Temp\\dssatppfxdyty.\n",
      "RUN    TRT FLO MAT TOPWT HARWT  RAIN  TIRR   CET  PESW  TNUP  TNLF   TSON TSOC\n",
      "           dap dap kg/ha kg/ha    mm    mm    mm    mm kg/ha kg/ha  kg/ha t/ha\n",
      "  1 PT   1  40 -99 11362  9588     3   113   162    59     0   -99      0  211\n",
      "C:\\Users\\MELANI~1\\AppData\\Local\\Temp\\dssatppfxdyty and its content has been removed.\n",
      "TWAD: 11362    Sum irrigation: 224.20    Cost: 8.67\n",
      "(19.900000000000002, 25.0, 25.0, 6.1000000000000005, 25.0) 8.673173286304058\n",
      "C:\\Users\\MELANI~1\\AppData\\Local\\Temp\\dssatcwctgihe created.\n",
      "Static files copied to C:\\Users\\MELANI~1\\AppData\\Local\\Temp\\dssatcwctgihe.\n",
      "RUN    TRT FLO MAT TOPWT HARWT  RAIN  TIRR   CET  PESW  TNUP  TNLF   TSON TSOC\n",
      "           dap dap kg/ha kg/ha    mm    mm    mm    mm kg/ha kg/ha  kg/ha t/ha\n",
      "  1 PT   1  40 -99 11362  9588     3   118   163    64     0   -99      0  211\n",
      "C:\\Users\\MELANI~1\\AppData\\Local\\Temp\\dssatcwctgihe and its content has been removed.\n",
      "TWAD: 11362    Sum irrigation: 228.60    Cost: 8.82\n",
      "(24.3, 25.0, 25.0, 6.1000000000000005, 25.0) 8.818478886304058\n",
      "C:\\Users\\MELANI~1\\AppData\\Local\\Temp\\dssatntyazcwm created.\n",
      "Static files copied to C:\\Users\\MELANI~1\\AppData\\Local\\Temp\\dssatntyazcwm.\n",
      "RUN    TRT FLO MAT TOPWT HARWT  RAIN  TIRR   CET  PESW  TNUP  TNLF   TSON TSOC\n",
      "           dap dap kg/ha kg/ha    mm    mm    mm    mm kg/ha kg/ha  kg/ha t/ha\n",
      "  1 PT   1  40 -99 11156  9401     3   107   160    55     0   -99      0  211\n",
      "C:\\Users\\MELANI~1\\AppData\\Local\\Temp\\dssatntyazcwm and its content has been removed.\n",
      "TWAD: 11156    Sum irrigation: 217.90    Cost: 8.61\n",
      "(14.200000000000001, 25.0, 25.0, 5.5, 25.0) 8.605922799871962\n",
      "C:\\Users\\MELANI~1\\AppData\\Local\\Temp\\dssatrdiqnavm created.\n",
      "Static files copied to C:\\Users\\MELANI~1\\AppData\\Local\\Temp\\dssatrdiqnavm.\n",
      "RUN    TRT FLO MAT TOPWT HARWT  RAIN  TIRR   CET  PESW  TNUP  TNLF   TSON TSOC\n",
      "           dap dap kg/ha kg/ha    mm    mm    mm    mm kg/ha kg/ha  kg/ha t/ha\n",
      "  1 PT   1  40 -99 10699  8998     3   102   158    52     0   -99      0  211\n",
      "C:\\Users\\MELANI~1\\AppData\\Local\\Temp\\dssatrdiqnavm and its content has been removed.\n",
      "TWAD: 10699    Sum irrigation: 213.10    Cost: 8.77\n",
      "(3.3000000000000003, 25.0, 30.5, 6.1000000000000005, 25.0) 8.7704552314297\n",
      "C:\\Users\\MELANI~1\\AppData\\Local\\Temp\\dssatrvcyherh created.\n",
      "Static files copied to C:\\Users\\MELANI~1\\AppData\\Local\\Temp\\dssatrvcyherh.\n",
      "RUN    TRT FLO MAT TOPWT HARWT  RAIN  TIRR   CET  PESW  TNUP  TNLF   TSON TSOC\n",
      "           dap dap kg/ha kg/ha    mm    mm    mm    mm kg/ha kg/ha  kg/ha t/ha\n",
      "  1 PT   1  40 -99 11362  9588     3   121   162    67     0   -99      0  211\n",
      "C:\\Users\\MELANI~1\\AppData\\Local\\Temp\\dssatrvcyherh and its content has been removed.\n",
      "TWAD: 11362    Sum irrigation: 231.80    Cost: 8.93\n",
      "(14.200000000000001, 25.0, 25.0, 19.400000000000002, 25.0) 8.928046886304058\n",
      "C:\\Users\\MELANI~1\\AppData\\Local\\Temp\\dssatsurpcjou created.\n",
      "Static files copied to C:\\Users\\MELANI~1\\AppData\\Local\\Temp\\dssatsurpcjou.\n",
      "RUN    TRT FLO MAT TOPWT HARWT  RAIN  TIRR   CET  PESW  TNUP  TNLF   TSON TSOC\n",
      "           dap dap kg/ha kg/ha    mm    mm    mm    mm kg/ha kg/ha  kg/ha t/ha\n",
      "  1 PT   1  40 -99 11071  9327     3   105   160    54     0   -99      0  211\n",
      "C:\\Users\\MELANI~1\\AppData\\Local\\Temp\\dssatsurpcjou and its content has been removed.\n",
      "TWAD: 11071    Sum irrigation: 216.70    Cost: 8.62\n",
      "(14.200000000000001, 23.6, 25.0, 5.7, 25.0) 8.624845518373633\n",
      "C:\\Users\\MELANI~1\\AppData\\Local\\Temp\\dssatdmdafwvl created.\n",
      "Static files copied to C:\\Users\\MELANI~1\\AppData\\Local\\Temp\\dssatdmdafwvl.\n",
      "RUN    TRT FLO MAT TOPWT HARWT  RAIN  TIRR   CET  PESW  TNUP  TNLF   TSON TSOC\n",
      "           dap dap kg/ha kg/ha    mm    mm    mm    mm kg/ha kg/ha  kg/ha t/ha\n",
      "  1 PT   1  40 -99 11108  9359     3   105   160    53     0   -99      0  211\n",
      "C:\\Users\\MELANI~1\\AppData\\Local\\Temp\\dssatdmdafwvl and its content has been removed.\n",
      "TWAD: 11108    Sum irrigation: 216.10    Cost: 8.58\n",
      "(11.8, 25.0, 25.0, 6.1000000000000005, 25.0) 8.582881516275124\n",
      "C:\\Users\\MELANI~1\\AppData\\Local\\Temp\\dssatozngtdrg created.\n",
      "Static files copied to C:\\Users\\MELANI~1\\AppData\\Local\\Temp\\dssatozngtdrg.\n",
      "RUN    TRT FLO MAT TOPWT HARWT  RAIN  TIRR   CET  PESW  TNUP  TNLF   TSON TSOC\n",
      "           dap dap kg/ha kg/ha    mm    mm    mm    mm kg/ha kg/ha  kg/ha t/ha\n",
      "  1 PT   1  40 -99 11241  9474     3   108   161    55     0   -99      0  211\n",
      "C:\\Users\\MELANI~1\\AppData\\Local\\Temp\\dssatozngtdrg and its content has been removed.\n",
      "TWAD: 11241    Sum irrigation: 219.70    Cost: 8.61\n",
      "(11.8, 28.6, 25.0, 6.1000000000000005, 25.0) 8.606763921643633\n",
      "C:\\Users\\MELANI~1\\AppData\\Local\\Temp\\dssatjxatwzaj created.\n",
      "Static files copied to C:\\Users\\MELANI~1\\AppData\\Local\\Temp\\dssatjxatwzaj.\n",
      "RUN    TRT FLO MAT TOPWT HARWT  RAIN  TIRR   CET  PESW  TNUP  TNLF   TSON TSOC\n",
      "           dap dap kg/ha kg/ha    mm    mm    mm    mm kg/ha kg/ha  kg/ha t/ha\n",
      "  1 PT   1  40 -99 10277  8630     3    93   153    49     0   -99      0  211\n",
      "C:\\Users\\MELANI~1\\AppData\\Local\\Temp\\dssatjxatwzaj and its content has been removed.\n",
      "TWAD: 10277    Sum irrigation: 205.20    Cost: 8.86\n",
      "(11.8, 24.900000000000002, 14.200000000000001, 6.1000000000000005, 25.0) 8.860212114004854\n",
      "C:\\Users\\MELANI~1\\AppData\\Local\\Temp\\dssatcsuizzhy created.\n",
      "Static files copied to C:\\Users\\MELANI~1\\AppData\\Local\\Temp\\dssatcsuizzhy.\n",
      "RUN    TRT FLO MAT TOPWT HARWT  RAIN  TIRR   CET  PESW  TNUP  TNLF   TSON TSOC\n",
      "           dap dap kg/ha kg/ha    mm    mm    mm    mm kg/ha kg/ha  kg/ha t/ha\n",
      "  1 PT   1  40 -99 11362  9588     3   150   163    96     0   -99      0  211\n",
      "C:\\Users\\MELANI~1\\AppData\\Local\\Temp\\dssatcsuizzhy and its content has been removed.\n",
      "TWAD: 11362    Sum irrigation: 260.90    Cost: 10.07\n",
      "(24.3, 25.0, 25.0, 38.300000000000004, 25.1) 10.074819686304057\n",
      "C:\\Users\\MELANI~1\\AppData\\Local\\Temp\\dssatckbosnub created.\n",
      "Static files copied to C:\\Users\\MELANI~1\\AppData\\Local\\Temp\\dssatckbosnub.\n",
      "RUN    TRT FLO MAT TOPWT HARWT  RAIN  TIRR   CET  PESW  TNUP  TNLF   TSON TSOC\n",
      "           dap dap kg/ha kg/ha    mm    mm    mm    mm kg/ha kg/ha  kg/ha t/ha\n",
      "  1 PT   1  40 -99 10858  9139     3   101   158    52     0   -99      0  211\n",
      "C:\\Users\\MELANI~1\\AppData\\Local\\Temp\\dssatckbosnub and its content has been removed.\n",
      "TWAD: 10858    Sum irrigation: 212.90    Cost: 8.66\n",
      "(20.6, 25.0, 15.700000000000001, 3.4000000000000004, 25.0) 8.65521310253834\n",
      "C:\\Users\\MELANI~1\\AppData\\Local\\Temp\\dssatdusmzcyi created.\n",
      "Static files copied to C:\\Users\\MELANI~1\\AppData\\Local\\Temp\\dssatdusmzcyi.\n",
      "RUN    TRT FLO MAT TOPWT HARWT  RAIN  TIRR   CET  PESW  TNUP  TNLF   TSON TSOC\n",
      "           dap dap kg/ha kg/ha    mm    mm    mm    mm kg/ha kg/ha  kg/ha t/ha\n",
      "  1 PT   1  40 -99  9599  8028     3    86   147    47     0   -99      0  211\n",
      "C:\\Users\\MELANI~1\\AppData\\Local\\Temp\\dssatdusmzcyi and its content has been removed.\n",
      "TWAD: 9599    Sum irrigation: 197.80    Cost: 9.22\n",
      "(11.8, 25.0, 3.6, 9.200000000000001, 25.0) 9.224626211084425\n",
      "C:\\Users\\MELANI~1\\AppData\\Local\\Temp\\dssatourrxlnh created.\n",
      "Static files copied to C:\\Users\\MELANI~1\\AppData\\Local\\Temp\\dssatourrxlnh.\n",
      "RUN    TRT FLO MAT TOPWT HARWT  RAIN  TIRR   CET  PESW  TNUP  TNLF   TSON TSOC\n",
      "           dap dap kg/ha kg/ha    mm    mm    mm    mm kg/ha kg/ha  kg/ha t/ha\n",
      "  1 PT   1  40 -99 10774  9066     3    99   157    50     0   -99      0  211\n",
      "C:\\Users\\MELANI~1\\AppData\\Local\\Temp\\dssatourrxlnh and its content has been removed.\n",
      "TWAD: 10774    Sum irrigation: 210.70    Cost: 8.65\n",
      "(11.8, 25.0, 25.0, 6.1000000000000005, 19.6) 8.650282399732466\n",
      "C:\\Users\\MELANI~1\\AppData\\Local\\Temp\\dssatkixhgvth created.\n",
      "Static files copied to C:\\Users\\MELANI~1\\AppData\\Local\\Temp\\dssatkixhgvth.\n",
      "RUN    TRT FLO MAT TOPWT HARWT  RAIN  TIRR   CET  PESW  TNUP  TNLF   TSON TSOC\n",
      "           dap dap kg/ha kg/ha    mm    mm    mm    mm kg/ha kg/ha  kg/ha t/ha\n",
      "  1 PT   1  40 -99 11362  9588     3   114   162    60     0   -99      0  211\n",
      "C:\\Users\\MELANI~1\\AppData\\Local\\Temp\\dssatkixhgvth and its content has been removed.\n",
      "TWAD: 11362    Sum irrigation: 225.50    Cost: 8.72\n",
      "(11.8, 40.2, 19.200000000000003, 6.1000000000000005, 25.0) 8.715459686304058\n",
      "C:\\Users\\MELANI~1\\AppData\\Local\\Temp\\dssatvwoswjkx created.\n",
      "Static files copied to C:\\Users\\MELANI~1\\AppData\\Local\\Temp\\dssatvwoswjkx.\n",
      "RUN    TRT FLO MAT TOPWT HARWT  RAIN  TIRR   CET  PESW  TNUP  TNLF   TSON TSOC\n",
      "           dap dap kg/ha kg/ha    mm    mm    mm    mm kg/ha kg/ha  kg/ha t/ha\n",
      "  1 PT   1  40 -99 11362  9588     3   136   163    82     0   -99      0  211\n",
      "C:\\Users\\MELANI~1\\AppData\\Local\\Temp\\dssatvwoswjkx and its content has been removed.\n",
      "TWAD: 11362    Sum irrigation: 247.30    Cost: 9.51\n",
      "(45.1, 25.0, 13.200000000000001, 6.1000000000000005, 34.7) 9.505142886304057\n",
      "C:\\Users\\MELANI~1\\AppData\\Local\\Temp\\dssatfeanayzk created.\n",
      "Static files copied to C:\\Users\\MELANI~1\\AppData\\Local\\Temp\\dssatfeanayzk.\n",
      "RUN    TRT FLO MAT TOPWT HARWT  RAIN  TIRR   CET  PESW  TNUP  TNLF   TSON TSOC\n",
      "           dap dap kg/ha kg/ha    mm    mm    mm    mm kg/ha kg/ha  kg/ha t/ha\n",
      "  1 PT   1  40 -99 11362  9588     3   140   162    86     0   -99      0  211\n",
      "C:\\Users\\MELANI~1\\AppData\\Local\\Temp\\dssatfeanayzk and its content has been removed.\n",
      "TWAD: 11362    Sum irrigation: 252.60    Cost: 9.72\n",
      "(11.8, 42.7, 43.800000000000004, 6.1000000000000005, 25.0) 9.72011088630406\n",
      "C:\\Users\\MELANI~1\\AppData\\Local\\Temp\\dssatyzxhhncy created.\n",
      "Static files copied to C:\\Users\\MELANI~1\\AppData\\Local\\Temp\\dssatyzxhhncy.\n",
      "RUN    TRT FLO MAT TOPWT HARWT  RAIN  TIRR   CET  PESW  TNUP  TNLF   TSON TSOC\n",
      "           dap dap kg/ha kg/ha    mm    mm    mm    mm kg/ha kg/ha  kg/ha t/ha\n",
      "  1 PT   1  40 -99 11362  9588     3   172   163   118     0   -99      0  211\n",
      "C:\\Users\\MELANI~1\\AppData\\Local\\Temp\\dssatyzxhhncy and its content has been removed.\n",
      "TWAD: 11362    Sum irrigation: 284.80    Cost: 11.22\n",
      "(47.800000000000004, 17.900000000000002, 25.0, 45.900000000000006, 25.0) 11.219342886304059\n",
      "C:\\Users\\MELANI~1\\AppData\\Local\\Temp\\dssatbdsjdkxy created.\n",
      "Static files copied to C:\\Users\\MELANI~1\\AppData\\Local\\Temp\\dssatbdsjdkxy.\n",
      "RUN    TRT FLO MAT TOPWT HARWT  RAIN  TIRR   CET  PESW  TNUP  TNLF   TSON TSOC\n",
      "           dap dap kg/ha kg/ha    mm    mm    mm    mm kg/ha kg/ha  kg/ha t/ha\n",
      "  1 PT   1  40 -99 11362  9588     3   114   162    60     0   -99      0  211\n",
      "C:\\Users\\MELANI~1\\AppData\\Local\\Temp\\dssatbdsjdkxy and its content has been removed.\n",
      "TWAD: 11362    Sum irrigation: 224.50    Cost: 8.68\n",
      "(20.200000000000003, 25.0, 25.0, 6.1000000000000005, 25.0) 8.68288368630406\n",
      "C:\\Users\\MELANI~1\\AppData\\Local\\Temp\\dssatgpmcgvef created.\n",
      "Static files copied to C:\\Users\\MELANI~1\\AppData\\Local\\Temp\\dssatgpmcgvef.\n",
      "RUN    TRT FLO MAT TOPWT HARWT  RAIN  TIRR   CET  PESW  TNUP  TNLF   TSON TSOC\n",
      "           dap dap kg/ha kg/ha    mm    mm    mm    mm kg/ha kg/ha  kg/ha t/ha\n",
      "  1 PT   1  40 -99 11349  9575     3   112   162    58     0   -99      0  211\n",
      "C:\\Users\\MELANI~1\\AppData\\Local\\Temp\\dssatgpmcgvef and its content has been removed.\n",
      "TWAD: 11349    Sum irrigation: 223.10    Cost: 8.65\n",
      "(42.400000000000006, 25.0, 25.0, 6.1000000000000005, 1.4000000000000001) 8.64588019290875\n",
      "C:\\Users\\MELANI~1\\AppData\\Local\\Temp\\dssatsljfbjur created.\n",
      "Static files copied to C:\\Users\\MELANI~1\\AppData\\Local\\Temp\\dssatsljfbjur.\n",
      "RUN    TRT FLO MAT TOPWT HARWT  RAIN  TIRR   CET  PESW  TNUP  TNLF   TSON TSOC\n",
      "           dap dap kg/ha kg/ha    mm    mm    mm    mm kg/ha kg/ha  kg/ha t/ha\n",
      "  1 PT   1  40 -99  9725  8141     3    87   148    47     0   -99      0  211\n",
      "C:\\Users\\MELANI~1\\AppData\\Local\\Temp\\dssatsljfbjur and its content has been removed.\n",
      "TWAD: 9725    Sum irrigation: 199.00    Cost: 9.15\n",
      "(11.8, 25.0, 7.9, 6.1000000000000005, 25.0) 9.145522633807687\n",
      "C:\\Users\\MELANI~1\\AppData\\Local\\Temp\\dssatrwajcrmr created.\n",
      "Static files copied to C:\\Users\\MELANI~1\\AppData\\Local\\Temp\\dssatrwajcrmr.\n",
      "RUN    TRT FLO MAT TOPWT HARWT  RAIN  TIRR   CET  PESW  TNUP  TNLF   TSON TSOC\n",
      "           dap dap kg/ha kg/ha    mm    mm    mm    mm kg/ha kg/ha  kg/ha t/ha\n",
      "  1 PT   1  40 -99  8520  7038     3    75   138    45     0   -99      0  211\n",
      "C:\\Users\\MELANI~1\\AppData\\Local\\Temp\\dssatrwajcrmr and its content has been removed.\n",
      "TWAD: 8520    Sum irrigation: 186.40    Cost: 10.03\n",
      "(11.8, 3.2, 25.0, 6.1000000000000005, 17.1) 10.028748659428373\n",
      "C:\\Users\\MELANI~1\\AppData\\Local\\Temp\\dssatdnazlrkl created.\n",
      "Static files copied to C:\\Users\\MELANI~1\\AppData\\Local\\Temp\\dssatdnazlrkl.\n",
      "RUN    TRT FLO MAT TOPWT HARWT  RAIN  TIRR   CET  PESW  TNUP  TNLF   TSON TSOC\n",
      "           dap dap kg/ha kg/ha    mm    mm    mm    mm kg/ha kg/ha  kg/ha t/ha\n",
      "  1 PT   1  40 -99 10733  9030     3    99   157    51     0   -99      0  211\n",
      "C:\\Users\\MELANI~1\\AppData\\Local\\Temp\\dssatdnazlrkl and its content has been removed.\n",
      "TWAD: 10733    Sum irrigation: 210.40    Cost: 8.67\n",
      "(24.5, 25.0, 6.6000000000000005, 6.1000000000000005, 25.0) 8.670261334347625\n",
      "C:\\Users\\MELANI~1\\AppData\\Local\\Temp\\dssatlowphdca created.\n",
      "Static files copied to C:\\Users\\MELANI~1\\AppData\\Local\\Temp\\dssatlowphdca.\n",
      "RUN    TRT FLO MAT TOPWT HARWT  RAIN  TIRR   CET  PESW  TNUP  TNLF   TSON TSOC\n",
      "           dap dap kg/ha kg/ha    mm    mm    mm    mm kg/ha kg/ha  kg/ha t/ha\n",
      "  1 PT   1  40 -99  9548  7962     3    85   146    47     0   -99      0  211\n",
      "C:\\Users\\MELANI~1\\AppData\\Local\\Temp\\dssatlowphdca and its content has been removed.\n",
      "TWAD: 9548    Sum irrigation: 196.10    Cost: 9.23\n",
      "(11.8, 5.0, 25.0, 6.1000000000000005, 25.0) 9.229022778601049\n",
      "C:\\Users\\MELANI~1\\AppData\\Local\\Temp\\dssatpmguafmp created.\n",
      "Static files copied to C:\\Users\\MELANI~1\\AppData\\Local\\Temp\\dssatpmguafmp.\n",
      "RUN    TRT FLO MAT TOPWT HARWT  RAIN  TIRR   CET  PESW  TNUP  TNLF   TSON TSOC\n",
      "           dap dap kg/ha kg/ha    mm    mm    mm    mm kg/ha kg/ha  kg/ha t/ha\n",
      "  1 PT   1  40 -99 11307  9534     3   110   162    56     0   -99      0  211\n",
      "C:\\Users\\MELANI~1\\AppData\\Local\\Temp\\dssatpmguafmp and its content has been removed.\n",
      "TWAD: 11307    Sum irrigation: 221.60    Cost: 8.62\n",
      "(11.8, 25.0, 25.0, 6.1000000000000005, 30.5) 8.624472085605158\n",
      "C:\\Users\\MELANI~1\\AppData\\Local\\Temp\\dssatrfrrqavg created.\n",
      "Static files copied to C:\\Users\\MELANI~1\\AppData\\Local\\Temp\\dssatrfrrqavg.\n",
      "RUN    TRT FLO MAT TOPWT HARWT  RAIN  TIRR   CET  PESW  TNUP  TNLF   TSON TSOC\n",
      "           dap dap kg/ha kg/ha    mm    mm    mm    mm kg/ha kg/ha  kg/ha t/ha\n",
      "  1 PT   1  40 -99 10773  9064     3    99   157    50     0   -99      0  211\n",
      "C:\\Users\\MELANI~1\\AppData\\Local\\Temp\\dssatrfrrqavg and its content has been removed.\n",
      "TWAD: 10773    Sum irrigation: 210.90    Cost: 8.66\n",
      "(11.8, 19.8, 25.0, 6.1000000000000005, 25.0) 8.656578048939789\n",
      "C:\\Users\\MELANI~1\\AppData\\Local\\Temp\\dssaterxzryrg created.\n",
      "Static files copied to C:\\Users\\MELANI~1\\AppData\\Local\\Temp\\dssaterxzryrg.\n",
      "RUN    TRT FLO MAT TOPWT HARWT  RAIN  TIRR   CET  PESW  TNUP  TNLF   TSON TSOC\n",
      "           dap dap kg/ha kg/ha    mm    mm    mm    mm kg/ha kg/ha  kg/ha t/ha\n",
      "  1 PT   1  40 -99 11362  9588     3   128   162    74     0   -99      0  211\n",
      "C:\\Users\\MELANI~1\\AppData\\Local\\Temp\\dssaterxzryrg and its content has been removed.\n",
      "TWAD: 11362    Sum irrigation: 239.50    Cost: 9.21\n",
      "(11.8, 25.0, 25.0, 6.1000000000000005, 48.400000000000006) 9.20512368630406\n",
      "C:\\Users\\MELANI~1\\AppData\\Local\\Temp\\dssatezitcebp created.\n",
      "Static files copied to C:\\Users\\MELANI~1\\AppData\\Local\\Temp\\dssatezitcebp.\n",
      "RUN    TRT FLO MAT TOPWT HARWT  RAIN  TIRR   CET  PESW  TNUP  TNLF   TSON TSOC\n",
      "           dap dap kg/ha kg/ha    mm    mm    mm    mm kg/ha kg/ha  kg/ha t/ha\n",
      "  1 PT   1  40 -99 11362  9588     3   132   163    78     0   -99      0  211\n",
      "C:\\Users\\MELANI~1\\AppData\\Local\\Temp\\dssatezitcebp and its content has been removed.\n",
      "TWAD: 11362    Sum irrigation: 242.70    Cost: 9.33\n",
      "(26.400000000000002, 37.0, 25.0, 6.1000000000000005, 25.0) 9.325853286304058\n",
      "C:\\Users\\MELANI~1\\AppData\\Local\\Temp\\dssatvnadiyoo created.\n",
      "Static files copied to C:\\Users\\MELANI~1\\AppData\\Local\\Temp\\dssatvnadiyoo.\n",
      "RUN    TRT FLO MAT TOPWT HARWT  RAIN  TIRR   CET  PESW  TNUP  TNLF   TSON TSOC\n",
      "           dap dap kg/ha kg/ha    mm    mm    mm    mm kg/ha kg/ha  kg/ha t/ha\n",
      "  1 PT   1  40 -99 11362  9588     3   144   162    90     0   -99      0  211\n",
      "C:\\Users\\MELANI~1\\AppData\\Local\\Temp\\dssatvnadiyoo and its content has been removed.\n",
      "TWAD: 11362    Sum irrigation: 256.30    Cost: 9.88\n",
      "(11.8, 36.5, 25.0, 34.800000000000004, 25.0) 9.875510886304058\n",
      "C:\\Users\\MELANI~1\\AppData\\Local\\Temp\\dssatcghvpyek created.\n",
      "Static files copied to C:\\Users\\MELANI~1\\AppData\\Local\\Temp\\dssatcghvpyek.\n",
      "RUN    TRT FLO MAT TOPWT HARWT  RAIN  TIRR   CET  PESW  TNUP  TNLF   TSON TSOC\n",
      "           dap dap kg/ha kg/ha    mm    mm    mm    mm kg/ha kg/ha  kg/ha t/ha\n",
      "  1 PT   1  40 -99 11362  9588     3   138   162    84     0   -99      0  211\n",
      "C:\\Users\\MELANI~1\\AppData\\Local\\Temp\\dssatcghvpyek and its content has been removed.\n",
      "TWAD: 11362    Sum irrigation: 249.90    Cost: 9.61\n",
      "(11.8, 25.0, 24.1, 40.800000000000004, 25.0) 9.609475686304059\n",
      "C:\\Users\\MELANI~1\\AppData\\Local\\Temp\\dssatbrjmqzln created.\n",
      "Static files copied to C:\\Users\\MELANI~1\\AppData\\Local\\Temp\\dssatbrjmqzln.\n",
      "RUN    TRT FLO MAT TOPWT HARWT  RAIN  TIRR   CET  PESW  TNUP  TNLF   TSON TSOC\n",
      "           dap dap kg/ha kg/ha    mm    mm    mm    mm kg/ha kg/ha  kg/ha t/ha\n",
      "  1 PT   1  40 -99  9609  8018     3    86   147    47     0   -99      0  211\n",
      "C:\\Users\\MELANI~1\\AppData\\Local\\Temp\\dssatbrjmqzln and its content has been removed.\n",
      "TWAD: 9609    Sum irrigation: 197.20    Cost: 9.20\n",
      "(11.8, 4.2, 25.0, 8.0, 25.0) 9.201687284261913\n",
      "C:\\Users\\MELANI~1\\AppData\\Local\\Temp\\dssatxruvomgp created.\n",
      "Static files copied to C:\\Users\\MELANI~1\\AppData\\Local\\Temp\\dssatxruvomgp.\n",
      "RUN    TRT FLO MAT TOPWT HARWT  RAIN  TIRR   CET  PESW  TNUP  TNLF   TSON TSOC\n",
      "           dap dap kg/ha kg/ha    mm    mm    mm    mm kg/ha kg/ha  kg/ha t/ha\n",
      "  1 PT   1  40 -99 10774  9066     3    99   157    50     0   -99      0  211\n",
      "C:\\Users\\MELANI~1\\AppData\\Local\\Temp\\dssatxruvomgp and its content has been removed.\n",
      "TWAD: 10774    Sum irrigation: 210.20    Cost: 8.64\n",
      "(11.8, 25.0, 25.0, 6.1000000000000005, 19.1) 8.636322399732467\n",
      "C:\\Users\\MELANI~1\\AppData\\Local\\Temp\\dssathnkzejvy created.\n",
      "Static files copied to C:\\Users\\MELANI~1\\AppData\\Local\\Temp\\dssathnkzejvy.\n",
      "RUN    TRT FLO MAT TOPWT HARWT  RAIN  TIRR   CET  PESW  TNUP  TNLF   TSON TSOC\n",
      "           dap dap kg/ha kg/ha    mm    mm    mm    mm kg/ha kg/ha  kg/ha t/ha\n",
      "  1 PT   1  40 -99  9995  8382     3    90   150    48     0   -99      0  211\n",
      "C:\\Users\\MELANI~1\\AppData\\Local\\Temp\\dssathnkzejvy and its content has been removed.\n",
      "TWAD: 9995    Sum irrigation: 201.20    Cost: 8.98\n",
      "(11.8, 25.0, 10.100000000000001, 6.1000000000000005, 25.0) 8.97744120019998\n",
      "C:\\Users\\MELANI~1\\AppData\\Local\\Temp\\dssatmvwsjafu created.\n",
      "Static files copied to C:\\Users\\MELANI~1\\AppData\\Local\\Temp\\dssatmvwsjafu.\n",
      "RUN    TRT FLO MAT TOPWT HARWT  RAIN  TIRR   CET  PESW  TNUP  TNLF   TSON TSOC\n",
      "           dap dap kg/ha kg/ha    mm    mm    mm    mm kg/ha kg/ha  kg/ha t/ha\n",
      "  1 PT   1  40 -99 10450  8784     3    95   154    49     0   -99      0  211\n",
      "C:\\Users\\MELANI~1\\AppData\\Local\\Temp\\dssatmvwsjafu and its content has been removed.\n",
      "TWAD: 10450    Sum irrigation: 206.30    Cost: 8.76\n",
      "(11.8, 15.200000000000001, 25.0, 6.1000000000000005, 25.0) 8.760399259760606\n",
      "C:\\Users\\MELANI~1\\AppData\\Local\\Temp\\dssatltmhjuup created.\n",
      "Static files copied to C:\\Users\\MELANI~1\\AppData\\Local\\Temp\\dssatltmhjuup.\n",
      "RUN    TRT FLO MAT TOPWT HARWT  RAIN  TIRR   CET  PESW  TNUP  TNLF   TSON TSOC\n",
      "           dap dap kg/ha kg/ha    mm    mm    mm    mm kg/ha kg/ha  kg/ha t/ha\n",
      "  1 PT   1  40 -99 10269  8631     3    96   155    49     0   -99      0  211\n",
      "C:\\Users\\MELANI~1\\AppData\\Local\\Temp\\dssatltmhjuup and its content has been removed.\n",
      "TWAD: 10269    Sum irrigation: 206.50    Cost: 8.90\n",
      "(2.2, 25.0, 25.0, 6.1000000000000005, 25.0) 8.900658879653669\n",
      "C:\\Users\\MELANI~1\\AppData\\Local\\Temp\\dssatfgcycrra created.\n",
      "Static files copied to C:\\Users\\MELANI~1\\AppData\\Local\\Temp\\dssatfgcycrra.\n",
      "RUN    TRT FLO MAT TOPWT HARWT  RAIN  TIRR   CET  PESW  TNUP  TNLF   TSON TSOC\n",
      "           dap dap kg/ha kg/ha    mm    mm    mm    mm kg/ha kg/ha  kg/ha t/ha\n",
      "  1 PT   1  40 -99 11362  9588     3   118   162    64     0   -99      0  211\n",
      "C:\\Users\\MELANI~1\\AppData\\Local\\Temp\\dssatfgcycrra and its content has been removed.\n",
      "TWAD: 11362    Sum irrigation: 229.80    Cost: 8.86\n",
      "(11.8, 38.7, 25.0, 6.1000000000000005, 25.0) 8.859182886304058\n",
      "C:\\Users\\MELANI~1\\AppData\\Local\\Temp\\dssatevzfzaxv created.\n",
      "Static files copied to C:\\Users\\MELANI~1\\AppData\\Local\\Temp\\dssatevzfzaxv.\n",
      "RUN    TRT FLO MAT TOPWT HARWT  RAIN  TIRR   CET  PESW  TNUP  TNLF   TSON TSOC\n",
      "           dap dap kg/ha kg/ha    mm    mm    mm    mm kg/ha kg/ha  kg/ha t/ha\n",
      "  1 PT   1  40 -99 10972  9257     3   130   161    77     0   -99      0  211\n",
      "C:\\Users\\MELANI~1\\AppData\\Local\\Temp\\dssatevzfzaxv and its content has been removed.\n",
      "TWAD: 10972    Sum irrigation: 242.20    Cost: 9.56\n",
      "(11.8, 1.2000000000000002, 25.0, 46.400000000000006, 34.6) 9.557046247604243\n",
      "C:\\Users\\MELANI~1\\AppData\\Local\\Temp\\dssatryymikpz created.\n",
      "Static files copied to C:\\Users\\MELANI~1\\AppData\\Local\\Temp\\dssatryymikpz.\n",
      "RUN    TRT FLO MAT TOPWT HARWT  RAIN  TIRR   CET  PESW  TNUP  TNLF   TSON TSOC\n",
      "           dap dap kg/ha kg/ha    mm    mm    mm    mm kg/ha kg/ha  kg/ha t/ha\n",
      "  1 PT   1  40 -99 11362  9588     3   126   163    72     0   -99      0  211\n",
      "C:\\Users\\MELANI~1\\AppData\\Local\\Temp\\dssatryymikpz and its content has been removed.\n",
      "TWAD: 11362    Sum irrigation: 237.20    Cost: 9.12\n",
      "(32.9, 25.0, 25.0, 6.1000000000000005, 25.0) 9.120373286304059\n",
      "C:\\Users\\MELANI~1\\AppData\\Local\\Temp\\dssatmckpetoh created.\n",
      "Static files copied to C:\\Users\\MELANI~1\\AppData\\Local\\Temp\\dssatmckpetoh.\n",
      "RUN    TRT FLO MAT TOPWT HARWT  RAIN  TIRR   CET  PESW  TNUP  TNLF   TSON TSOC\n",
      "           dap dap kg/ha kg/ha    mm    mm    mm    mm kg/ha kg/ha  kg/ha t/ha\n",
      "  1 PT   1  40 -99 11362  9588     3   147   162    93     0   -99      0  211\n",
      "C:\\Users\\MELANI~1\\AppData\\Local\\Temp\\dssatmckpetoh and its content has been removed.\n",
      "TWAD: 11362    Sum irrigation: 258.20    Cost: 9.96\n",
      "(11.8, 25.0, 25.0, 48.2, 25.0) 9.957013286304058\n",
      "C:\\Users\\MELANI~1\\AppData\\Local\\Temp\\dssataezmxnvz created.\n",
      "Static files copied to C:\\Users\\MELANI~1\\AppData\\Local\\Temp\\dssataezmxnvz.\n",
      "RUN    TRT FLO MAT TOPWT HARWT  RAIN  TIRR   CET  PESW  TNUP  TNLF   TSON TSOC\n",
      "           dap dap kg/ha kg/ha    mm    mm    mm    mm kg/ha kg/ha  kg/ha t/ha\n",
      "  1 PT   1  40 -99 11362  9588     3   128   162    74     0   -99      0  211\n",
      "C:\\Users\\MELANI~1\\AppData\\Local\\Temp\\dssataezmxnvz and its content has been removed.\n",
      "TWAD: 11362    Sum irrigation: 240.00    Cost: 9.22\n",
      "(11.8, 25.0, 48.900000000000006, 6.1000000000000005, 25.0) 9.223771686304058\n",
      "C:\\Users\\MELANI~1\\AppData\\Local\\Temp\\dssatxsqifbts created.\n",
      "Static files copied to C:\\Users\\MELANI~1\\AppData\\Local\\Temp\\dssatxsqifbts.\n",
      "RUN    TRT FLO MAT TOPWT HARWT  RAIN  TIRR   CET  PESW  TNUP  TNLF   TSON TSOC\n",
      "           dap dap kg/ha kg/ha    mm    mm    mm    mm kg/ha kg/ha  kg/ha t/ha\n",
      "  1 PT   1  40 -99 11362  9588     3   127   162    73     0   -99      0  211\n",
      "C:\\Users\\MELANI~1\\AppData\\Local\\Temp\\dssatxsqifbts and its content has been removed.\n",
      "TWAD: 11362    Sum irrigation: 238.40    Cost: 9.16\n",
      "(11.8, 25.0, 25.0, 6.1000000000000005, 47.300000000000004) 9.164379686304057\n",
      "C:\\Users\\MELANI~1\\AppData\\Local\\Temp\\dssatpikcoake created.\n",
      "Static files copied to C:\\Users\\MELANI~1\\AppData\\Local\\Temp\\dssatpikcoake.\n",
      "RUN    TRT FLO MAT TOPWT HARWT  RAIN  TIRR   CET  PESW  TNUP  TNLF   TSON TSOC\n",
      "           dap dap kg/ha kg/ha    mm    mm    mm    mm kg/ha kg/ha  kg/ha t/ha\n",
      "  1 PT   1  40 -99  8748  7265     3    78   140    46     0   -99      0  211\n",
      "C:\\Users\\MELANI~1\\AppData\\Local\\Temp\\dssatpikcoake and its content has been removed.\n",
      "TWAD: 8748    Sum irrigation: 189.70    Cost: 9.85\n",
      "(11.8, 2.0, 25.0, 2.7, 25.0) 9.852506371176684\n",
      "C:\\Users\\MELANI~1\\AppData\\Local\\Temp\\dssatbvxfiodu created.\n",
      "Static files copied to C:\\Users\\MELANI~1\\AppData\\Local\\Temp\\dssatbvxfiodu.\n",
      "RUN    TRT FLO MAT TOPWT HARWT  RAIN  TIRR   CET  PESW  TNUP  TNLF   TSON TSOC\n",
      "           dap dap kg/ha kg/ha    mm    mm    mm    mm kg/ha kg/ha  kg/ha t/ha\n",
      "  1 PT   1  40 -99 11362  9588     3   129   163    75     0   -99      0  211\n",
      "C:\\Users\\MELANI~1\\AppData\\Local\\Temp\\dssatbvxfiodu and its content has been removed.\n",
      "TWAD: 11362    Sum irrigation: 239.40    Cost: 9.20\n",
      "(35.1, 25.0, 25.0, 6.1000000000000005, 25.0) 9.201403686304058\n",
      "C:\\Users\\MELANI~1\\AppData\\Local\\Temp\\dssathfkingmv created.\n",
      "Static files copied to C:\\Users\\MELANI~1\\AppData\\Local\\Temp\\dssathfkingmv.\n",
      "RUN    TRT FLO MAT TOPWT HARWT  RAIN  TIRR   CET  PESW  TNUP  TNLF   TSON TSOC\n",
      "           dap dap kg/ha kg/ha    mm    mm    mm    mm kg/ha kg/ha  kg/ha t/ha\n",
      "  1 PT   1  40 -99 11362  9588     3   156   163   102     0   -99      0  211\n",
      "C:\\Users\\MELANI~1\\AppData\\Local\\Temp\\dssathfkingmv and its content has been removed.\n",
      "TWAD: 11362    Sum irrigation: 267.30    Cost: 10.36\n",
      "(41.5, 25.0, 25.0, 6.1000000000000005, 46.5) 10.36338288630406\n",
      "C:\\Users\\MELANI~1\\AppData\\Local\\Temp\\dssatpxeknurx created.\n",
      "Static files copied to C:\\Users\\MELANI~1\\AppData\\Local\\Temp\\dssatpxeknurx.\n",
      "RUN    TRT FLO MAT TOPWT HARWT  RAIN  TIRR   CET  PESW  TNUP  TNLF   TSON TSOC\n",
      "           dap dap kg/ha kg/ha    mm    mm    mm    mm kg/ha kg/ha  kg/ha t/ha\n",
      "  1 PT   1  40 -99 11354  9581     3   112   162    58     0   -99      0  211\n",
      "C:\\Users\\MELANI~1\\AppData\\Local\\Temp\\dssatpxeknurx and its content has been removed.\n",
      "TWAD: 11354    Sum irrigation: 223.50    Cost: 8.66\n",
      "(11.8, 25.0, 32.4, 6.1000000000000005, 25.0) 8.655588766216807\n",
      "C:\\Users\\MELANI~1\\AppData\\Local\\Temp\\dssatzacgdcvh created.\n",
      "Static files copied to C:\\Users\\MELANI~1\\AppData\\Local\\Temp\\dssatzacgdcvh.\n",
      "RUN    TRT FLO MAT TOPWT HARWT  RAIN  TIRR   CET  PESW  TNUP  TNLF   TSON TSOC\n",
      "           dap dap kg/ha kg/ha    mm    mm    mm    mm kg/ha kg/ha  kg/ha t/ha\n",
      "  1 PT   1  40 -99 11362  9588     3   125   162    71     0   -99      0  211\n",
      "C:\\Users\\MELANI~1\\AppData\\Local\\Temp\\dssatzacgdcvh and its content has been removed.\n",
      "TWAD: 11362    Sum irrigation: 237.00    Cost: 9.11\n",
      "(11.8, 25.0, 45.900000000000006, 6.1000000000000005, 25.0) 9.113083686304059\n",
      "C:\\Users\\MELANI~1\\AppData\\Local\\Temp\\dssatohyrxmst created.\n",
      "Static files copied to C:\\Users\\MELANI~1\\AppData\\Local\\Temp\\dssatohyrxmst.\n",
      "RUN    TRT FLO MAT TOPWT HARWT  RAIN  TIRR   CET  PESW  TNUP  TNLF   TSON TSOC\n",
      "           dap dap kg/ha kg/ha    mm    mm    mm    mm kg/ha kg/ha  kg/ha t/ha\n",
      "  1 PT   1  40 -99 11362  9588     3   130   162    76     0   -99      0  211\n",
      "C:\\Users\\MELANI~1\\AppData\\Local\\Temp\\dssatohyrxmst and its content has been removed.\n",
      "TWAD: 11362    Sum irrigation: 241.30    Cost: 9.27\n",
      "(11.8, 25.0, 25.0, 31.3, 25.0) 9.272630886304057\n",
      "C:\\Users\\MELANI~1\\AppData\\Local\\Temp\\dssatbifcpxzz created.\n",
      "Static files copied to C:\\Users\\MELANI~1\\AppData\\Local\\Temp\\dssatbifcpxzz.\n",
      "RUN    TRT FLO MAT TOPWT HARWT  RAIN  TIRR   CET  PESW  TNUP  TNLF   TSON TSOC\n",
      "           dap dap kg/ha kg/ha    mm    mm    mm    mm kg/ha kg/ha  kg/ha t/ha\n",
      "  1 PT   1  40 -99 11362  9588     3   114   162    60     0   -99      0  211\n",
      "C:\\Users\\MELANI~1\\AppData\\Local\\Temp\\dssatbifcpxzz and its content has been removed.\n",
      "TWAD: 11362    Sum irrigation: 225.10    Cost: 8.70\n",
      "(11.8, 25.0, 25.0, 6.1000000000000005, 34.0) 8.702390886304059\n",
      "C:\\Users\\MELANI~1\\AppData\\Local\\Temp\\dssatxqhjxthl created.\n",
      "Static files copied to C:\\Users\\MELANI~1\\AppData\\Local\\Temp\\dssatxqhjxthl.\n",
      "RUN    TRT FLO MAT TOPWT HARWT  RAIN  TIRR   CET  PESW  TNUP  TNLF   TSON TSOC\n",
      "           dap dap kg/ha kg/ha    mm    mm    mm    mm kg/ha kg/ha  kg/ha t/ha\n",
      "  1 PT   1  40 -99 11362  9588     3   134   163    80     0   -99      0  211\n",
      "C:\\Users\\MELANI~1\\AppData\\Local\\Temp\\dssatxqhjxthl and its content has been removed.\n",
      "TWAD: 11362    Sum irrigation: 244.40    Cost: 9.39\n",
      "(31.0, 25.0, 25.0, 15.200000000000001, 25.0) 9.391323686304059\n",
      "C:\\Users\\MELANI~1\\AppData\\Local\\Temp\\dssataguzxxcq created.\n",
      "Static files copied to C:\\Users\\MELANI~1\\AppData\\Local\\Temp\\dssataguzxxcq.\n",
      "RUN    TRT FLO MAT TOPWT HARWT  RAIN  TIRR   CET  PESW  TNUP  TNLF   TSON TSOC\n",
      "           dap dap kg/ha kg/ha    mm    mm    mm    mm kg/ha kg/ha  kg/ha t/ha\n",
      "  1 PT   1  40 -99 10121  8504     3    94   154    48     0   -99      0  211\n",
      "C:\\Users\\MELANI~1\\AppData\\Local\\Temp\\dssataguzxxcq and its content has been removed.\n",
      "TWAD: 10121    Sum irrigation: 204.40    Cost: 8.96\n",
      "(0.1, 25.0, 25.0, 6.1000000000000005, 25.0) 8.959306895963197\n",
      "C:\\Users\\MELANI~1\\AppData\\Local\\Temp\\dssatfhzrtxit created.\n",
      "Static files copied to C:\\Users\\MELANI~1\\AppData\\Local\\Temp\\dssatfhzrtxit.\n",
      "RUN    TRT FLO MAT TOPWT HARWT  RAIN  TIRR   CET  PESW  TNUP  TNLF   TSON TSOC\n",
      "           dap dap kg/ha kg/ha    mm    mm    mm    mm kg/ha kg/ha  kg/ha t/ha\n",
      "  1 PT   1  40 -99 11310  9537     3   110   162    56     0   -99      0  211\n",
      "C:\\Users\\MELANI~1\\AppData\\Local\\Temp\\dssatfhzrtxit and its content has been removed.\n",
      "TWAD: 11310    Sum irrigation: 221.70    Cost: 8.63\n",
      "(11.8, 46.1, 25.0, 6.1000000000000005, 9.5) 8.62574575832133\n",
      "C:\\Users\\MELANI~1\\AppData\\Local\\Temp\\dssatjppgzwgd created.\n",
      "Static files copied to C:\\Users\\MELANI~1\\AppData\\Local\\Temp\\dssatjppgzwgd.\n",
      "RUN    TRT FLO MAT TOPWT HARWT  RAIN  TIRR   CET  PESW  TNUP  TNLF   TSON TSOC\n",
      "           dap dap kg/ha kg/ha    mm    mm    mm    mm kg/ha kg/ha  kg/ha t/ha\n",
      "  1 PT   1  40 -99 10688  8991     3    98   156    50     0   -99      0  211\n",
      "C:\\Users\\MELANI~1\\AppData\\Local\\Temp\\dssatjppgzwgd and its content has been removed.\n",
      "TWAD: 10688    Sum irrigation: 209.30    Cost: 8.67\n",
      "(11.8, 25.0, 25.0, 6.1000000000000005, 18.2) 8.671142839798911\n",
      "C:\\Users\\MELANI~1\\AppData\\Local\\Temp\\dssatchhdongk created.\n",
      "Static files copied to C:\\Users\\MELANI~1\\AppData\\Local\\Temp\\dssatchhdongk.\n",
      "RUN    TRT FLO MAT TOPWT HARWT  RAIN  TIRR   CET  PESW  TNUP  TNLF   TSON TSOC\n",
      "           dap dap kg/ha kg/ha    mm    mm    mm    mm kg/ha kg/ha  kg/ha t/ha\n",
      "  1 PT   1  40 -99 10771  9063     3    99   157    50     0   -99      0  211\n",
      "C:\\Users\\MELANI~1\\AppData\\Local\\Temp\\dssatchhdongk and its content has been removed.\n",
      "TWAD: 10771    Sum irrigation: 211.00    Cost: 8.66\n",
      "(11.8, 25.0, 19.900000000000002, 6.1000000000000005, 25.0) 8.660764931301594\n",
      "C:\\Users\\MELANI~1\\AppData\\Local\\Temp\\dssatakvvnyxr created.\n",
      "Static files copied to C:\\Users\\MELANI~1\\AppData\\Local\\Temp\\dssatakvvnyxr.\n",
      "RUN    TRT FLO MAT TOPWT HARWT  RAIN  TIRR   CET  PESW  TNUP  TNLF   TSON TSOC\n",
      "           dap dap kg/ha kg/ha    mm    mm    mm    mm kg/ha kg/ha  kg/ha t/ha\n",
      "  1 PT   1  40 -99 11362  9588     3   113   162    59     0   -99      0  211\n",
      "C:\\Users\\MELANI~1\\AppData\\Local\\Temp\\dssatakvvnyxr and its content has been removed.\n",
      "TWAD: 11362    Sum irrigation: 224.80    Cost: 8.69\n",
      "(11.8, 25.0, 4.1000000000000005, 35.7, 25.0) 8.692622886304058\n",
      "C:\\Users\\MELANI~1\\AppData\\Local\\Temp\\dssatrnpmbaso created.\n",
      "Static files copied to C:\\Users\\MELANI~1\\AppData\\Local\\Temp\\dssatrnpmbaso.\n",
      "RUN    TRT FLO MAT TOPWT HARWT  RAIN  TIRR   CET  PESW  TNUP  TNLF   TSON TSOC\n",
      "           dap dap kg/ha kg/ha    mm    mm    mm    mm kg/ha kg/ha  kg/ha t/ha\n",
      "  1 PT   1  40 -99 11362  9588     3   113   162    59     0   -99      0  211\n",
      "C:\\Users\\MELANI~1\\AppData\\Local\\Temp\\dssatrnpmbaso and its content has been removed.\n",
      "TWAD: 11362    Sum irrigation: 223.30    Cost: 8.64\n",
      "(19.0, 25.0, 25.0, 6.1000000000000005, 25.0) 8.644214886304058\n",
      "C:\\Users\\MELANI~1\\AppData\\Local\\Temp\\dssatiycaabcu created.\n",
      "Static files copied to C:\\Users\\MELANI~1\\AppData\\Local\\Temp\\dssatiycaabcu.\n",
      "RUN    TRT FLO MAT TOPWT HARWT  RAIN  TIRR   CET  PESW  TNUP  TNLF   TSON TSOC\n",
      "           dap dap kg/ha kg/ha    mm    mm    mm    mm kg/ha kg/ha  kg/ha t/ha\n",
      "  1 PT   1  40 -99 11362  9588     3   143   162    89     0   -99      0  211\n",
      "C:\\Users\\MELANI~1\\AppData\\Local\\Temp\\dssatiycaabcu and its content has been removed.\n",
      "TWAD: 11362    Sum irrigation: 254.20    Cost: 9.79\n",
      "(11.8, 25.0, 25.0, 44.2, 25.0) 9.786773286304058\n",
      "C:\\Users\\MELANI~1\\AppData\\Local\\Temp\\dssatkdvnwdzd created.\n",
      "Static files copied to C:\\Users\\MELANI~1\\AppData\\Local\\Temp\\dssatkdvnwdzd.\n",
      "RUN    TRT FLO MAT TOPWT HARWT  RAIN  TIRR   CET  PESW  TNUP  TNLF   TSON TSOC\n",
      "           dap dap kg/ha kg/ha    mm    mm    mm    mm kg/ha kg/ha  kg/ha t/ha\n",
      "  1 PT   1  40 -99 11007  9269     3   103   159    52     0   -99      0  211\n",
      "C:\\Users\\MELANI~1\\AppData\\Local\\Temp\\dssatkdvnwdzd and its content has been removed.\n",
      "TWAD: 11007    Sum irrigation: 214.40    Cost: 8.60\n",
      "(11.8, 25.0, 25.0, 6.1000000000000005, 23.3) 8.598891856518446\n",
      "C:\\Users\\MELANI~1\\AppData\\Local\\Temp\\dssatcovnupht created.\n",
      "Static files copied to C:\\Users\\MELANI~1\\AppData\\Local\\Temp\\dssatcovnupht.\n",
      "RUN    TRT FLO MAT TOPWT HARWT  RAIN  TIRR   CET  PESW  TNUP  TNLF   TSON TSOC\n",
      "           dap dap kg/ha kg/ha    mm    mm    mm    mm kg/ha kg/ha  kg/ha t/ha\n",
      "  1 PT   1  40 -99 11054  9311     3   104   159    53     0   -99      0  211\n",
      "C:\\Users\\MELANI~1\\AppData\\Local\\Temp\\dssatcovnupht and its content has been removed.\n",
      "TWAD: 11054    Sum irrigation: 215.80    Cost: 8.61\n",
      "(11.8, 25.0, 24.700000000000003, 6.1000000000000005, 25.0) 8.609160149194992\n",
      "C:\\Users\\MELANI~1\\AppData\\Local\\Temp\\dssatyqtadnhl created.\n",
      "Static files copied to C:\\Users\\MELANI~1\\AppData\\Local\\Temp\\dssatyqtadnhl.\n",
      "RUN    TRT FLO MAT TOPWT HARWT  RAIN  TIRR   CET  PESW  TNUP  TNLF   TSON TSOC\n",
      "           dap dap kg/ha kg/ha    mm    mm    mm    mm kg/ha kg/ha  kg/ha t/ha\n",
      "  1 PT   1  40 -99 11362  9588     3   129   162    75     0   -99      0  211\n",
      "C:\\Users\\MELANI~1\\AppData\\Local\\Temp\\dssatyqtadnhl and its content has been removed.\n",
      "TWAD: 11362    Sum irrigation: 240.50    Cost: 9.24\n",
      "(11.8, 49.400000000000006, 25.0, 6.1000000000000005, 25.0) 9.242499686304058\n",
      "C:\\Users\\MELANI~1\\AppData\\Local\\Temp\\dssatphhzpufn created.\n",
      "Static files copied to C:\\Users\\MELANI~1\\AppData\\Local\\Temp\\dssatphhzpufn.\n",
      "RUN    TRT FLO MAT TOPWT HARWT  RAIN  TIRR   CET  PESW  TNUP  TNLF   TSON TSOC\n",
      "           dap dap kg/ha kg/ha    mm    mm    mm    mm kg/ha kg/ha  kg/ha t/ha\n",
      "  1 PT   1  40 -99 11156  9400     3   106   160    54     0   -99      0  211\n",
      "C:\\Users\\MELANI~1\\AppData\\Local\\Temp\\dssatphhzpufn and its content has been removed.\n",
      "TWAD: 11156    Sum irrigation: 218.20    Cost: 8.62\n",
      "(11.8, 25.0, 34.1, 11.700000000000001, 12.4) 8.615028399871962\n",
      "C:\\Users\\MELANI~1\\AppData\\Local\\Temp\\dssatirqrqdel created.\n",
      "Static files copied to C:\\Users\\MELANI~1\\AppData\\Local\\Temp\\dssatirqrqdel.\n",
      "RUN    TRT FLO MAT TOPWT HARWT  RAIN  TIRR   CET  PESW  TNUP  TNLF   TSON TSOC\n",
      "           dap dap kg/ha kg/ha    mm    mm    mm    mm kg/ha kg/ha  kg/ha t/ha\n",
      "  1 PT   1  40 -99 11340  9566     3   111   162    57     0   -99      0  211\n",
      "C:\\Users\\MELANI~1\\AppData\\Local\\Temp\\dssatirqrqdel and its content has been removed.\n",
      "TWAD: 11340    Sum irrigation: 222.60    Cost: 8.64\n",
      "(11.8, 25.0, 8.3, 29.3, 25.0) 8.635530699235176\n",
      "C:\\Users\\MELANI~1\\AppData\\Local\\Temp\\dssatodplxtdw created.\n",
      "Static files copied to C:\\Users\\MELANI~1\\AppData\\Local\\Temp\\dssatodplxtdw.\n",
      "RUN    TRT FLO MAT TOPWT HARWT  RAIN  TIRR   CET  PESW  TNUP  TNLF   TSON TSOC\n",
      "           dap dap kg/ha kg/ha    mm    mm    mm    mm kg/ha kg/ha  kg/ha t/ha\n",
      "  1 PT   1  40 -99 11362  9588     3   145   162    91     0   -99      0  211\n",
      "C:\\Users\\MELANI~1\\AppData\\Local\\Temp\\dssatodplxtdw and its content has been removed.\n",
      "TWAD: 11362    Sum irrigation: 257.50    Cost: 9.93\n",
      "(11.8, 25.0, 25.0, 23.6, 48.900000000000006) 9.926851686304058\n",
      "C:\\Users\\MELANI~1\\AppData\\Local\\Temp\\dssatmnatmrrr created.\n",
      "Static files copied to C:\\Users\\MELANI~1\\AppData\\Local\\Temp\\dssatmnatmrrr.\n",
      "RUN    TRT FLO MAT TOPWT HARWT  RAIN  TIRR   CET  PESW  TNUP  TNLF   TSON TSOC\n",
      "           dap dap kg/ha kg/ha    mm    mm    mm    mm kg/ha kg/ha  kg/ha t/ha\n",
      "  1 PT   1  40 -99 11362  9588     3   121   163    67     0   -99      0  211\n",
      "C:\\Users\\MELANI~1\\AppData\\Local\\Temp\\dssatmnatmrrr and its content has been removed.\n",
      "TWAD: 11362    Sum irrigation: 232.10    Cost: 8.94\n",
      "(27.8, 25.0, 25.0, 6.1000000000000005, 25.0) 8.938486886304059\n",
      "C:\\Users\\MELANI~1\\AppData\\Local\\Temp\\dssathakmoznq created.\n",
      "Static files copied to C:\\Users\\MELANI~1\\AppData\\Local\\Temp\\dssathakmoznq.\n",
      "RUN    TRT FLO MAT TOPWT HARWT  RAIN  TIRR   CET  PESW  TNUP  TNLF   TSON TSOC\n",
      "           dap dap kg/ha kg/ha    mm    mm    mm    mm kg/ha kg/ha  kg/ha t/ha\n",
      "  1 PT   1  40 -99 11362  9588     3   134   163    80     0   -99      0  211\n",
      "C:\\Users\\MELANI~1\\AppData\\Local\\Temp\\dssathakmoznq and its content has been removed.\n",
      "TWAD: 11362    Sum irrigation: 246.20    Cost: 9.46\n",
      "(27.8, 25.0, 30.3, 14.9, 25.0) 9.461653286304058\n",
      "C:\\Users\\MELANI~1\\AppData\\Local\\Temp\\dssatavefsclo created.\n",
      "Static files copied to C:\\Users\\MELANI~1\\AppData\\Local\\Temp\\dssatavefsclo.\n",
      "RUN    TRT FLO MAT TOPWT HARWT  RAIN  TIRR   CET  PESW  TNUP  TNLF   TSON TSOC\n",
      "           dap dap kg/ha kg/ha    mm    mm    mm    mm kg/ha kg/ha  kg/ha t/ha\n",
      "  1 PT   1  40 -99 11362  9588     3   125   163    71     0   -99      0  211\n",
      "C:\\Users\\MELANI~1\\AppData\\Local\\Temp\\dssatavefsclo and its content has been removed.\n",
      "TWAD: 11362    Sum irrigation: 236.10    Cost: 9.08\n",
      "(27.8, 25.0, 29.0, 6.1000000000000005, 25.0) 9.080438886304059\n",
      "C:\\Users\\MELANI~1\\AppData\\Local\\Temp\\dssatebcpnmfs created.\n",
      "Static files copied to C:\\Users\\MELANI~1\\AppData\\Local\\Temp\\dssatebcpnmfs.\n",
      "RUN    TRT FLO MAT TOPWT HARWT  RAIN  TIRR   CET  PESW  TNUP  TNLF   TSON TSOC\n",
      "           dap dap kg/ha kg/ha    mm    mm    mm    mm kg/ha kg/ha  kg/ha t/ha\n",
      "  1 PT   1  40 -99 10243  8602     3    93   153    49     0   -99      0  211\n",
      "C:\\Users\\MELANI~1\\AppData\\Local\\Temp\\dssatebcpnmfs and its content has been removed.\n",
      "TWAD: 10243    Sum irrigation: 205.20    Cost: 8.89\n",
      "(27.8, 25.0, 8.700000000000001, 6.1000000000000005, 14.4) 8.886051089503946\n",
      "C:\\Users\\MELANI~1\\AppData\\Local\\Temp\\dssatmoitfqvj created.\n",
      "Static files copied to C:\\Users\\MELANI~1\\AppData\\Local\\Temp\\dssatmoitfqvj.\n",
      "RUN    TRT FLO MAT TOPWT HARWT  RAIN  TIRR   CET  PESW  TNUP  TNLF   TSON TSOC\n",
      "           dap dap kg/ha kg/ha    mm    mm    mm    mm kg/ha kg/ha  kg/ha t/ha\n",
      "  1 PT   1  40 -99 11213  9450     3   108   161    55     0   -99      0  211\n",
      "C:\\Users\\MELANI~1\\AppData\\Local\\Temp\\dssatmoitfqvj and its content has been removed.\n",
      "TWAD: 11213    Sum irrigation: 220.10    Cost: 8.64\n",
      "(27.8, 5.800000000000001, 25.0, 6.1000000000000005, 32.2) 8.63691290236553\n",
      "C:\\Users\\MELANI~1\\AppData\\Local\\Temp\\dssatcazxzmpl created.\n",
      "Static files copied to C:\\Users\\MELANI~1\\AppData\\Local\\Temp\\dssatcazxzmpl.\n",
      "RUN    TRT FLO MAT TOPWT HARWT  RAIN  TIRR   CET  PESW  TNUP  TNLF   TSON TSOC\n",
      "           dap dap kg/ha kg/ha    mm    mm    mm    mm kg/ha kg/ha  kg/ha t/ha\n",
      "  1 PT   1  40 -99 11362  9588     3   120   163    66     0   -99      0  211\n",
      "C:\\Users\\MELANI~1\\AppData\\Local\\Temp\\dssatcazxzmpl and its content has been removed.\n",
      "TWAD: 11362    Sum irrigation: 231.90    Cost: 8.93\n",
      "(27.8, 32.300000000000004, 17.5, 6.1000000000000005, 25.0) 8.931523686304057\n",
      "C:\\Users\\MELANI~1\\AppData\\Local\\Temp\\dssatwvabzbjp created.\n",
      "Static files copied to C:\\Users\\MELANI~1\\AppData\\Local\\Temp\\dssatwvabzbjp.\n",
      "RUN    TRT FLO MAT TOPWT HARWT  RAIN  TIRR   CET  PESW  TNUP  TNLF   TSON TSOC\n",
      "           dap dap kg/ha kg/ha    mm    mm    mm    mm kg/ha kg/ha  kg/ha t/ha\n",
      "  1 PT   1  40 -99 11362  9588     3   130   163    76     0   -99      0  211\n",
      "C:\\Users\\MELANI~1\\AppData\\Local\\Temp\\dssatwvabzbjp and its content has been removed.\n",
      "TWAD: 11362    Sum irrigation: 241.70    Cost: 9.29\n",
      "(27.8, 25.0, 34.6, 6.1000000000000005, 25.0) 9.28777328630406\n",
      "C:\\Users\\MELANI~1\\AppData\\Local\\Temp\\dssatrhoxbrda created.\n",
      "Static files copied to C:\\Users\\MELANI~1\\AppData\\Local\\Temp\\dssatrhoxbrda.\n",
      "RUN    TRT FLO MAT TOPWT HARWT  RAIN  TIRR   CET  PESW  TNUP  TNLF   TSON TSOC\n",
      "           dap dap kg/ha kg/ha    mm    mm    mm    mm kg/ha kg/ha  kg/ha t/ha\n",
      "  1 PT   1  40 -99 10970  9238     3   103   159    53     0   -99      0  211\n",
      "C:\\Users\\MELANI~1\\AppData\\Local\\Temp\\dssatrhoxbrda and its content has been removed.\n",
      "TWAD: 10970    Sum irrigation: 215.00    Cost: 8.64\n",
      "(27.8, 25.0, 25.0, 6.1000000000000005, 7.9) 8.640973961293021\n",
      "C:\\Users\\MELANI~1\\AppData\\Local\\Temp\\dssatqgqxkllx created.\n",
      "Static files copied to C:\\Users\\MELANI~1\\AppData\\Local\\Temp\\dssatqgqxkllx.\n",
      "RUN    TRT FLO MAT TOPWT HARWT  RAIN  TIRR   CET  PESW  TNUP  TNLF   TSON TSOC\n",
      "           dap dap kg/ha kg/ha    mm    mm    mm    mm kg/ha kg/ha  kg/ha t/ha\n",
      "  1 PT   1  40 -99 11362  9588     3   149   162    95     0   -99      0  211\n",
      "C:\\Users\\MELANI~1\\AppData\\Local\\Temp\\dssatqgqxkllx and its content has been removed.\n",
      "TWAD: 11362    Sum irrigation: 260.90    Cost: 10.07\n",
      "(27.8, 25.0, 40.300000000000004, 44.6, 0.0) 10.074819686304057\n",
      "C:\\Users\\MELANI~1\\AppData\\Local\\Temp\\dssatzgjdtlho created.\n",
      "Static files copied to C:\\Users\\MELANI~1\\AppData\\Local\\Temp\\dssatzgjdtlho.\n",
      "RUN    TRT FLO MAT TOPWT HARWT  RAIN  TIRR   CET  PESW  TNUP  TNLF   TSON TSOC\n",
      "           dap dap kg/ha kg/ha    mm    mm    mm    mm kg/ha kg/ha  kg/ha t/ha\n",
      "  1 PT   1  40 -99 10422  8755     3    97   156    49     0   -99      0  211\n",
      "C:\\Users\\MELANI~1\\AppData\\Local\\Temp\\dssatzgjdtlho and its content has been removed.\n",
      "TWAD: 10422    Sum irrigation: 208.20    Cost: 8.83\n",
      "(3.9000000000000004, 25.0, 25.0, 6.1000000000000005, 25.0) 8.832069115710121\n",
      "C:\\Users\\MELANI~1\\AppData\\Local\\Temp\\dssatkucljssc created.\n",
      "Static files copied to C:\\Users\\MELANI~1\\AppData\\Local\\Temp\\dssatkucljssc.\n",
      "RUN    TRT FLO MAT TOPWT HARWT  RAIN  TIRR   CET  PESW  TNUP  TNLF   TSON TSOC\n",
      "           dap dap kg/ha kg/ha    mm    mm    mm    mm kg/ha kg/ha  kg/ha t/ha\n",
      "  1 PT   1  40 -99 10560  8889     3   101   158    51     0   -99      0  211\n",
      "C:\\Users\\MELANI~1\\AppData\\Local\\Temp\\dssatkucljssc and its content has been removed.\n",
      "TWAD: 10560    Sum irrigation: 211.90    Cost: 8.83\n",
      "(1.6, 25.0, 25.0, 6.1000000000000005, 31.0) 8.834587258356358\n",
      "C:\\Users\\MELANI~1\\AppData\\Local\\Temp\\dssattfwjqbdr created.\n",
      "Static files copied to C:\\Users\\MELANI~1\\AppData\\Local\\Temp\\dssattfwjqbdr.\n",
      "RUN    TRT FLO MAT TOPWT HARWT  RAIN  TIRR   CET  PESW  TNUP  TNLF   TSON TSOC\n",
      "           dap dap kg/ha kg/ha    mm    mm    mm    mm kg/ha kg/ha  kg/ha t/ha\n",
      "  1 PT   1  40 -99 11248  9481     3   109   161    56     0   -99      0  211\n",
      "C:\\Users\\MELANI~1\\AppData\\Local\\Temp\\dssattfwjqbdr and its content has been removed.\n",
      "TWAD: 11248    Sum irrigation: 220.50    Cost: 8.63\n",
      "(27.8, 25.0, 25.0, 6.1000000000000005, 13.4) 8.62714130110465\n",
      "C:\\Users\\MELANI~1\\AppData\\Local\\Temp\\dssatjkqqrtdh created.\n",
      "Static files copied to C:\\Users\\MELANI~1\\AppData\\Local\\Temp\\dssatjkqqrtdh.\n",
      "RUN    TRT FLO MAT TOPWT HARWT  RAIN  TIRR   CET  PESW  TNUP  TNLF   TSON TSOC\n",
      "           dap dap kg/ha kg/ha    mm    mm    mm    mm kg/ha kg/ha  kg/ha t/ha\n",
      "  1 PT   1  40 -99 11362  9588     3   118   163    64     0   -99      0  211\n",
      "C:\\Users\\MELANI~1\\AppData\\Local\\Temp\\dssatjkqqrtdh and its content has been removed.\n",
      "TWAD: 11362    Sum irrigation: 229.10    Cost: 8.84\n",
      "(27.8, 25.0, 25.0, 6.1000000000000005, 22.0) 8.835382886304059\n",
      "C:\\Users\\MELANI~1\\AppData\\Local\\Temp\\dssatvnxukmrf created.\n",
      "Static files copied to C:\\Users\\MELANI~1\\AppData\\Local\\Temp\\dssatvnxukmrf.\n",
      "RUN    TRT FLO MAT TOPWT HARWT  RAIN  TIRR   CET  PESW  TNUP  TNLF   TSON TSOC\n",
      "           dap dap kg/ha kg/ha    mm    mm    mm    mm kg/ha kg/ha  kg/ha t/ha\n",
      "  1 PT   1  40 -99 11362  9588     3   116   163    62     0   -99      0  211\n",
      "C:\\Users\\MELANI~1\\AppData\\Local\\Temp\\dssatvnxukmrf and its content has been removed.\n",
      "TWAD: 11362    Sum irrigation: 228.30    Cost: 8.81\n",
      "(27.8, 25.0, 17.900000000000002, 9.4, 25.0) 8.808374886304058\n",
      "C:\\Users\\MELANI~1\\AppData\\Local\\Temp\\dssattvhnjtvc created.\n",
      "Static files copied to C:\\Users\\MELANI~1\\AppData\\Local\\Temp\\dssattvhnjtvc.\n",
      "RUN    TRT FLO MAT TOPWT HARWT  RAIN  TIRR   CET  PESW  TNUP  TNLF   TSON TSOC\n",
      "           dap dap kg/ha kg/ha    mm    mm    mm    mm kg/ha kg/ha  kg/ha t/ha\n",
      "  1 PT   1  40 -99 11362  9588     3   136   163    82     0   -99      0  211\n",
      "C:\\Users\\MELANI~1\\AppData\\Local\\Temp\\dssattvhnjtvc and its content has been removed.\n",
      "TWAD: 11362    Sum irrigation: 247.90    Cost: 9.53\n",
      "(27.8, 25.0, 25.0, 21.900000000000002, 25.0) 9.529027686304058\n",
      "C:\\Users\\MELANI~1\\AppData\\Local\\Temp\\dssatjhzwuvvu created.\n",
      "Static files copied to C:\\Users\\MELANI~1\\AppData\\Local\\Temp\\dssatjhzwuvvu.\n",
      "RUN    TRT FLO MAT TOPWT HARWT  RAIN  TIRR   CET  PESW  TNUP  TNLF   TSON TSOC\n",
      "           dap dap kg/ha kg/ha    mm    mm    mm    mm kg/ha kg/ha  kg/ha t/ha\n",
      "  1 PT   1  40 -99 11362  9588     3   124   163    70     0   -99      0  211\n",
      "C:\\Users\\MELANI~1\\AppData\\Local\\Temp\\dssatjhzwuvvu and its content has been removed.\n",
      "TWAD: 11362    Sum irrigation: 235.10    Cost: 9.04\n",
      "(27.8, 25.0, 28.0, 6.1000000000000005, 25.0) 9.044470886304058\n",
      "C:\\Users\\MELANI~1\\AppData\\Local\\Temp\\dssatqyushyre created.\n",
      "Static files copied to C:\\Users\\MELANI~1\\AppData\\Local\\Temp\\dssatqyushyre.\n",
      "RUN    TRT FLO MAT TOPWT HARWT  RAIN  TIRR   CET  PESW  TNUP  TNLF   TSON TSOC\n",
      "           dap dap kg/ha kg/ha    mm    mm    mm    mm kg/ha kg/ha  kg/ha t/ha\n",
      "  1 PT   1  40 -99 11362  9588     3   119   163    65     0   -99      0  211\n",
      "C:\\Users\\MELANI~1\\AppData\\Local\\Temp\\dssatqyushyre and its content has been removed.\n",
      "TWAD: 11362    Sum irrigation: 230.20    Cost: 8.87\n",
      "(27.1, 25.0, 25.0, 6.1000000000000005, 23.8) 8.872853286304057\n",
      "C:\\Users\\MELANI~1\\AppData\\Local\\Temp\\dssatevbgnlgg created.\n",
      "Static files copied to C:\\Users\\MELANI~1\\AppData\\Local\\Temp\\dssatevbgnlgg.\n",
      "RUN    TRT FLO MAT TOPWT HARWT  RAIN  TIRR   CET  PESW  TNUP  TNLF   TSON TSOC\n",
      "           dap dap kg/ha kg/ha    mm    mm    mm    mm kg/ha kg/ha  kg/ha t/ha\n",
      "  1 PT   1  40 -99 11362  9588     3   151   163    97     0   -99      0  211\n",
      "C:\\Users\\MELANI~1\\AppData\\Local\\Temp\\dssatevbgnlgg and its content has been removed.\n",
      "TWAD: 11362    Sum irrigation: 262.60    Cost: 10.15\n",
      "(27.8, 13.600000000000001, 25.0, 48.0, 25.0) 10.150190886304058\n",
      "C:\\Users\\MELANI~1\\AppData\\Local\\Temp\\dssathspfehmu created.\n",
      "Static files copied to C:\\Users\\MELANI~1\\AppData\\Local\\Temp\\dssathspfehmu.\n",
      "RUN    TRT FLO MAT TOPWT HARWT  RAIN  TIRR   CET  PESW  TNUP  TNLF   TSON TSOC\n",
      "           dap dap kg/ha kg/ha    mm    mm    mm    mm kg/ha kg/ha  kg/ha t/ha\n",
      "  1 PT   1  40 -99 11362  9588     3   125   163    71     0   -99      0  211\n",
      "C:\\Users\\MELANI~1\\AppData\\Local\\Temp\\dssathspfehmu and its content has been removed.\n",
      "TWAD: 11362    Sum irrigation: 236.40    Cost: 9.09\n",
      "(27.8, 25.0, 25.0, 6.1000000000000005, 29.3) 9.091291686304057\n",
      "C:\\Users\\MELANI~1\\AppData\\Local\\Temp\\dssatsdhxjmra created.\n",
      "Static files copied to C:\\Users\\MELANI~1\\AppData\\Local\\Temp\\dssatsdhxjmra.\n",
      "RUN    TRT FLO MAT TOPWT HARWT  RAIN  TIRR   CET  PESW  TNUP  TNLF   TSON TSOC\n",
      "           dap dap kg/ha kg/ha    mm    mm    mm    mm kg/ha kg/ha  kg/ha t/ha\n",
      "  1 PT   1  40 -99 11000  9264     3   104   159    53     0   -99      0  211\n",
      "C:\\Users\\MELANI~1\\AppData\\Local\\Temp\\dssatsdhxjmra and its content has been removed.\n",
      "TWAD: 11000    Sum irrigation: 215.10    Cost: 8.62\n",
      "(17.7, 42.1, 25.0, 6.1000000000000005, 1.0) 8.624024211570308\n",
      "C:\\Users\\MELANI~1\\AppData\\Local\\Temp\\dssatfsvlxajr created.\n",
      "Static files copied to C:\\Users\\MELANI~1\\AppData\\Local\\Temp\\dssatfsvlxajr.\n",
      "RUN    TRT FLO MAT TOPWT HARWT  RAIN  TIRR   CET  PESW  TNUP  TNLF   TSON TSOC\n",
      "           dap dap kg/ha kg/ha    mm    mm    mm    mm kg/ha kg/ha  kg/ha t/ha\n",
      "  1 PT   1  40 -99 11362  9588     3   119   163    65     0   -99      0  211\n",
      "C:\\Users\\MELANI~1\\AppData\\Local\\Temp\\dssatfsvlxajr and its content has been removed.\n",
      "TWAD: 11362    Sum irrigation: 230.90    Cost: 8.90\n",
      "(27.8, 9.8, 39.0, 6.1000000000000005, 25.0) 8.896899686304058\n",
      "C:\\Users\\MELANI~1\\AppData\\Local\\Temp\\dssatksbsihqu created.\n",
      "Static files copied to C:\\Users\\MELANI~1\\AppData\\Local\\Temp\\dssatksbsihqu.\n",
      "RUN    TRT FLO MAT TOPWT HARWT  RAIN  TIRR   CET  PESW  TNUP  TNLF   TSON TSOC\n",
      "           dap dap kg/ha kg/ha    mm    mm    mm    mm kg/ha kg/ha  kg/ha t/ha\n",
      "  1 PT   1  40 -99 11362  9588     3   135   163    81     0   -99      0  211\n",
      "C:\\Users\\MELANI~1\\AppData\\Local\\Temp\\dssatksbsihqu and its content has been removed.\n",
      "TWAD: 11362    Sum irrigation: 246.80    Cost: 9.49\n",
      "(27.8, 39.7, 25.0, 6.1000000000000005, 25.0) 9.485326886304058\n",
      "C:\\Users\\MELANI~1\\AppData\\Local\\Temp\\dssatiefxtdyu created.\n",
      "Static files copied to C:\\Users\\MELANI~1\\AppData\\Local\\Temp\\dssatiefxtdyu.\n",
      "RUN    TRT FLO MAT TOPWT HARWT  RAIN  TIRR   CET  PESW  TNUP  TNLF   TSON TSOC\n",
      "           dap dap kg/ha kg/ha    mm    mm    mm    mm kg/ha kg/ha  kg/ha t/ha\n",
      "  1 PT   1  40 -99 11362  9588     3   134   163    80     0   -99      0  211\n",
      "C:\\Users\\MELANI~1\\AppData\\Local\\Temp\\dssatiefxtdyu and its content has been removed.\n",
      "TWAD: 11362    Sum irrigation: 245.00    Cost: 9.41\n",
      "(27.8, 25.0, 25.0, 19.0, 25.0) 9.414651686304058\n",
      "C:\\Users\\MELANI~1\\AppData\\Local\\Temp\\dssatcrxurtpd created.\n",
      "Static files copied to C:\\Users\\MELANI~1\\AppData\\Local\\Temp\\dssatcrxurtpd.\n",
      "RUN    TRT FLO MAT TOPWT HARWT  RAIN  TIRR   CET  PESW  TNUP  TNLF   TSON TSOC\n",
      "           dap dap kg/ha kg/ha    mm    mm    mm    mm kg/ha kg/ha  kg/ha t/ha\n",
      "  1 PT   1  40 -99 11336  9562     3   111   162    57     0   -99      0  211\n",
      "C:\\Users\\MELANI~1\\AppData\\Local\\Temp\\dssatcrxurtpd and its content has been removed.\n",
      "TWAD: 11336    Sum irrigation: 222.60    Cost: 8.64\n",
      "(27.8, 25.0, 15.5, 6.1000000000000005, 25.0) 8.638019997921454\n",
      "C:\\Users\\MELANI~1\\AppData\\Local\\Temp\\dssatdsgdctxv created.\n",
      "Static files copied to C:\\Users\\MELANI~1\\AppData\\Local\\Temp\\dssatdsgdctxv.\n",
      "RUN    TRT FLO MAT TOPWT HARWT  RAIN  TIRR   CET  PESW  TNUP  TNLF   TSON TSOC\n",
      "           dap dap kg/ha kg/ha    mm    mm    mm    mm kg/ha kg/ha  kg/ha t/ha\n",
      "  1 PT   1  40 -99 11253  9472     3   130   162    76     0   -99      0  211\n",
      "C:\\Users\\MELANI~1\\AppData\\Local\\Temp\\dssatdsgdctxv and its content has been removed.\n",
      "TWAD: 11253    Sum irrigation: 241.80    Cost: 9.36\n",
      "(5.800000000000001, 25.0, 25.0, 37.800000000000004, 25.0) 9.35976828859729\n",
      "C:\\Users\\MELANI~1\\AppData\\Local\\Temp\\dssatgzjjctpt created.\n",
      "Static files copied to C:\\Users\\MELANI~1\\AppData\\Local\\Temp\\dssatgzjjctpt.\n",
      "RUN    TRT FLO MAT TOPWT HARWT  RAIN  TIRR   CET  PESW  TNUP  TNLF   TSON TSOC\n",
      "           dap dap kg/ha kg/ha    mm    mm    mm    mm kg/ha kg/ha  kg/ha t/ha\n",
      "  1 PT   1  40 -99 11362  9588     3   136   163    82     0   -99      0  211\n",
      "C:\\Users\\MELANI~1\\AppData\\Local\\Temp\\dssatgzjjctpt and its content has been removed.\n",
      "TWAD: 11362    Sum irrigation: 247.40    Cost: 9.51\n",
      "(27.8, 25.0, 25.0, 6.1000000000000005, 40.300000000000004) 9.509115686304057\n",
      "C:\\Users\\MELANI~1\\AppData\\Local\\Temp\\dssatbkjtqgwx created.\n",
      "Static files copied to C:\\Users\\MELANI~1\\AppData\\Local\\Temp\\dssatbkjtqgwx.\n",
      "RUN    TRT FLO MAT TOPWT HARWT  RAIN  TIRR   CET  PESW  TNUP  TNLF   TSON TSOC\n",
      "           dap dap kg/ha kg/ha    mm    mm    mm    mm kg/ha kg/ha  kg/ha t/ha\n",
      "  1 PT   1  40 -99 11362  9588     3   124   163    70     0   -99      0  211\n",
      "C:\\Users\\MELANI~1\\AppData\\Local\\Temp\\dssatbkjtqgwx and its content has been removed.\n",
      "TWAD: 11362    Sum irrigation: 235.30    Cost: 9.05\n",
      "(27.8, 25.0, 25.0, 6.1000000000000005, 28.200000000000003) 9.051638886304058\n",
      "C:\\Users\\MELANI~1\\AppData\\Local\\Temp\\dssatexwdwsgz created.\n",
      "Static files copied to C:\\Users\\MELANI~1\\AppData\\Local\\Temp\\dssatexwdwsgz.\n",
      "RUN    TRT FLO MAT TOPWT HARWT  RAIN  TIRR   CET  PESW  TNUP  TNLF   TSON TSOC\n",
      "           dap dap kg/ha kg/ha    mm    mm    mm    mm kg/ha kg/ha  kg/ha t/ha\n",
      "  1 PT   1  40 -99 11362  9588     3   118   163    64     0   -99      0  211\n",
      "C:\\Users\\MELANI~1\\AppData\\Local\\Temp\\dssatexwdwsgz and its content has been removed.\n",
      "TWAD: 11362    Sum irrigation: 229.40    Cost: 8.85\n",
      "(27.8, 22.3, 25.0, 6.1000000000000005, 25.0) 8.845563686304057\n",
      "C:\\Users\\MELANI~1\\AppData\\Local\\Temp\\dssatxflrwvtv created.\n",
      "Static files copied to C:\\Users\\MELANI~1\\AppData\\Local\\Temp\\dssatxflrwvtv.\n",
      "RUN    TRT FLO MAT TOPWT HARWT  RAIN  TIRR   CET  PESW  TNUP  TNLF   TSON TSOC\n",
      "           dap dap kg/ha kg/ha    mm    mm    mm    mm kg/ha kg/ha  kg/ha t/ha\n",
      "  1 PT   1  40 -99 10816  9103     3   100   157    51     0   -99      0  211\n",
      "C:\\Users\\MELANI~1\\AppData\\Local\\Temp\\dssatxflrwvtv and its content has been removed.\n",
      "TWAD: 10816    Sum irrigation: 211.90    Cost: 8.66\n",
      "(27.8, 25.0, 4.800000000000001, 6.1000000000000005, 25.0) 8.655279420298722\n",
      "C:\\Users\\MELANI~1\\AppData\\Local\\Temp\\dssatirczrdyr created.\n",
      "Static files copied to C:\\Users\\MELANI~1\\AppData\\Local\\Temp\\dssatirczrdyr.\n",
      "RUN    TRT FLO MAT TOPWT HARWT  RAIN  TIRR   CET  PESW  TNUP  TNLF   TSON TSOC\n",
      "           dap dap kg/ha kg/ha    mm    mm    mm    mm kg/ha kg/ha  kg/ha t/ha\n",
      "  1 PT   1  40 -99 11362  9588     3   126   163    72     0   -99      0  211\n",
      "C:\\Users\\MELANI~1\\AppData\\Local\\Temp\\dssatirczrdyr and its content has been removed.\n",
      "TWAD: 11362    Sum irrigation: 237.60    Cost: 9.13\n",
      "(27.8, 13.4, 42.1, 6.1000000000000005, 25.0) 9.134990886304058\n",
      "C:\\Users\\MELANI~1\\AppData\\Local\\Temp\\dssatxzpzdipj created.\n",
      "Static files copied to C:\\Users\\MELANI~1\\AppData\\Local\\Temp\\dssatxzpzdipj.\n",
      "RUN    TRT FLO MAT TOPWT HARWT  RAIN  TIRR   CET  PESW  TNUP  TNLF   TSON TSOC\n",
      "           dap dap kg/ha kg/ha    mm    mm    mm    mm kg/ha kg/ha  kg/ha t/ha\n",
      "  1 PT   1  40 -99 11015  9283     3   138   162    85     0   -99      0  211\n",
      "C:\\Users\\MELANI~1\\AppData\\Local\\Temp\\dssatxzpzdipj and its content has been removed.\n",
      "TWAD: 11015    Sum irrigation: 249.00    Cost: 9.79\n",
      "(3.3000000000000003, 25.0, 25.0, 47.5, 25.0) 9.794925163248047\n",
      "C:\\Users\\MELANI~1\\AppData\\Local\\Temp\\dssatplyrcjmc created.\n",
      "Static files copied to C:\\Users\\MELANI~1\\AppData\\Local\\Temp\\dssatplyrcjmc.\n",
      "RUN    TRT FLO MAT TOPWT HARWT  RAIN  TIRR   CET  PESW  TNUP  TNLF   TSON TSOC\n",
      "           dap dap kg/ha kg/ha    mm    mm    mm    mm kg/ha kg/ha  kg/ha t/ha\n",
      "  1 PT   1  40 -99 11362  9588     3   117   163    63     0   -99      0  211\n",
      "C:\\Users\\MELANI~1\\AppData\\Local\\Temp\\dssatplyrcjmc and its content has been removed.\n",
      "TWAD: 11362    Sum irrigation: 228.10    Cost: 8.80\n",
      "(23.8, 25.0, 25.0, 6.1000000000000005, 25.0) 8.801654886304057\n",
      "Execution time: 226.52\n",
      "The optimal values are (11.8, 25.0, 25.0, 6.1000000000000005, 25.0)\n"
     ]
    },
    {
     "data": {
      "text/plain": [
       "(11.8, 25.0, 25.0, 6.1000000000000005, 25.0)"
      ]
     },
     "execution_count": 16,
     "metadata": {},
     "output_type": "execute_result"
    }
   ],
   "source": [
    "# dates = ['8-07-2022', '14-07-2022', '20-07-2022', '25-07-2022']\n",
    "dates = ['8-07-2022','14-07-2022',  '20-07-2022', '25-07-2022', '01-08-2022']\n",
    "dssat.optimization_irri(dates)\n",
    "\n",
    "# Execution time: 345.98\n",
    "# The optimal values are (1.8, 2.6, 1.1, 3.1)"
   ]
  },
  {
   "cell_type": "code",
   "execution_count": 28,
   "metadata": {},
   "outputs": [
    {
     "name": "stdout",
     "output_type": "stream",
     "text": [
      "C:\\Users\\MELANI~1\\AppData\\Local\\Temp\\dssatliysslgx created.\n",
      "Static files copied to C:\\Users\\MELANI~1\\AppData\\Local\\Temp\\dssatliysslgx.\n",
      "RUN    TRT FLO MAT TOPWT HARWT  RAIN  TIRR   CET  PESW  TNUP  TNLF   TSON TSOC\n",
      "           dap dap kg/ha kg/ha    mm    mm    mm    mm kg/ha kg/ha  kg/ha t/ha\n",
      "  1 PT   1  40 -99 11108  9359     3   105   160    53     0   -99      0  211\n",
      "Output model save in attribute new_output\n",
      "C:\\Users\\MELANI~1\\AppData\\Local\\Temp\\dssatliysslgx and its content has been removed.\n",
      "TWAD: 11108    Sum irrigation: 216.10    Cost: 8.58\n"
     ]
    }
   ],
   "source": [
    "dates = ['8-07-2022','14-07-2022', '20-07-2022', '25-07-2022', '01-08-2022']\n",
    "dssat.next_dates = dates\n",
    "dssat.irri_cost([11.8, 25.0, 25.0, 6.1, 25.0], save=True)\n",
    "out5 = dssat.new_output"
   ]
  },
  {
   "cell_type": "code",
   "execution_count": 39,
   "metadata": {},
   "outputs": [
    {
     "data": {
      "application/vnd.plotly.v1+json": {
       "config": {
        "plotlyServerURL": "https://plot.ly"
       },
       "data": [
        {
         "name": "LAID all data ",
         "type": "scatter",
         "x": [
          1,
          2,
          3,
          4,
          5
         ],
         "y": [
          189.9,
          219.27,
          220.63,
          213.21,
          226.52
         ]
        }
       ],
       "layout": {
        "template": {
         "data": {
          "bar": [
           {
            "error_x": {
             "color": "#2a3f5f"
            },
            "error_y": {
             "color": "#2a3f5f"
            },
            "marker": {
             "line": {
              "color": "#E5ECF6",
              "width": 0.5
             },
             "pattern": {
              "fillmode": "overlay",
              "size": 10,
              "solidity": 0.2
             }
            },
            "type": "bar"
           }
          ],
          "barpolar": [
           {
            "marker": {
             "line": {
              "color": "#E5ECF6",
              "width": 0.5
             },
             "pattern": {
              "fillmode": "overlay",
              "size": 10,
              "solidity": 0.2
             }
            },
            "type": "barpolar"
           }
          ],
          "carpet": [
           {
            "aaxis": {
             "endlinecolor": "#2a3f5f",
             "gridcolor": "white",
             "linecolor": "white",
             "minorgridcolor": "white",
             "startlinecolor": "#2a3f5f"
            },
            "baxis": {
             "endlinecolor": "#2a3f5f",
             "gridcolor": "white",
             "linecolor": "white",
             "minorgridcolor": "white",
             "startlinecolor": "#2a3f5f"
            },
            "type": "carpet"
           }
          ],
          "choropleth": [
           {
            "colorbar": {
             "outlinewidth": 0,
             "ticks": ""
            },
            "type": "choropleth"
           }
          ],
          "contour": [
           {
            "colorbar": {
             "outlinewidth": 0,
             "ticks": ""
            },
            "colorscale": [
             [
              0,
              "#0d0887"
             ],
             [
              0.1111111111111111,
              "#46039f"
             ],
             [
              0.2222222222222222,
              "#7201a8"
             ],
             [
              0.3333333333333333,
              "#9c179e"
             ],
             [
              0.4444444444444444,
              "#bd3786"
             ],
             [
              0.5555555555555556,
              "#d8576b"
             ],
             [
              0.6666666666666666,
              "#ed7953"
             ],
             [
              0.7777777777777778,
              "#fb9f3a"
             ],
             [
              0.8888888888888888,
              "#fdca26"
             ],
             [
              1,
              "#f0f921"
             ]
            ],
            "type": "contour"
           }
          ],
          "contourcarpet": [
           {
            "colorbar": {
             "outlinewidth": 0,
             "ticks": ""
            },
            "type": "contourcarpet"
           }
          ],
          "heatmap": [
           {
            "colorbar": {
             "outlinewidth": 0,
             "ticks": ""
            },
            "colorscale": [
             [
              0,
              "#0d0887"
             ],
             [
              0.1111111111111111,
              "#46039f"
             ],
             [
              0.2222222222222222,
              "#7201a8"
             ],
             [
              0.3333333333333333,
              "#9c179e"
             ],
             [
              0.4444444444444444,
              "#bd3786"
             ],
             [
              0.5555555555555556,
              "#d8576b"
             ],
             [
              0.6666666666666666,
              "#ed7953"
             ],
             [
              0.7777777777777778,
              "#fb9f3a"
             ],
             [
              0.8888888888888888,
              "#fdca26"
             ],
             [
              1,
              "#f0f921"
             ]
            ],
            "type": "heatmap"
           }
          ],
          "heatmapgl": [
           {
            "colorbar": {
             "outlinewidth": 0,
             "ticks": ""
            },
            "colorscale": [
             [
              0,
              "#0d0887"
             ],
             [
              0.1111111111111111,
              "#46039f"
             ],
             [
              0.2222222222222222,
              "#7201a8"
             ],
             [
              0.3333333333333333,
              "#9c179e"
             ],
             [
              0.4444444444444444,
              "#bd3786"
             ],
             [
              0.5555555555555556,
              "#d8576b"
             ],
             [
              0.6666666666666666,
              "#ed7953"
             ],
             [
              0.7777777777777778,
              "#fb9f3a"
             ],
             [
              0.8888888888888888,
              "#fdca26"
             ],
             [
              1,
              "#f0f921"
             ]
            ],
            "type": "heatmapgl"
           }
          ],
          "histogram": [
           {
            "marker": {
             "pattern": {
              "fillmode": "overlay",
              "size": 10,
              "solidity": 0.2
             }
            },
            "type": "histogram"
           }
          ],
          "histogram2d": [
           {
            "colorbar": {
             "outlinewidth": 0,
             "ticks": ""
            },
            "colorscale": [
             [
              0,
              "#0d0887"
             ],
             [
              0.1111111111111111,
              "#46039f"
             ],
             [
              0.2222222222222222,
              "#7201a8"
             ],
             [
              0.3333333333333333,
              "#9c179e"
             ],
             [
              0.4444444444444444,
              "#bd3786"
             ],
             [
              0.5555555555555556,
              "#d8576b"
             ],
             [
              0.6666666666666666,
              "#ed7953"
             ],
             [
              0.7777777777777778,
              "#fb9f3a"
             ],
             [
              0.8888888888888888,
              "#fdca26"
             ],
             [
              1,
              "#f0f921"
             ]
            ],
            "type": "histogram2d"
           }
          ],
          "histogram2dcontour": [
           {
            "colorbar": {
             "outlinewidth": 0,
             "ticks": ""
            },
            "colorscale": [
             [
              0,
              "#0d0887"
             ],
             [
              0.1111111111111111,
              "#46039f"
             ],
             [
              0.2222222222222222,
              "#7201a8"
             ],
             [
              0.3333333333333333,
              "#9c179e"
             ],
             [
              0.4444444444444444,
              "#bd3786"
             ],
             [
              0.5555555555555556,
              "#d8576b"
             ],
             [
              0.6666666666666666,
              "#ed7953"
             ],
             [
              0.7777777777777778,
              "#fb9f3a"
             ],
             [
              0.8888888888888888,
              "#fdca26"
             ],
             [
              1,
              "#f0f921"
             ]
            ],
            "type": "histogram2dcontour"
           }
          ],
          "mesh3d": [
           {
            "colorbar": {
             "outlinewidth": 0,
             "ticks": ""
            },
            "type": "mesh3d"
           }
          ],
          "parcoords": [
           {
            "line": {
             "colorbar": {
              "outlinewidth": 0,
              "ticks": ""
             }
            },
            "type": "parcoords"
           }
          ],
          "pie": [
           {
            "automargin": true,
            "type": "pie"
           }
          ],
          "scatter": [
           {
            "fillpattern": {
             "fillmode": "overlay",
             "size": 10,
             "solidity": 0.2
            },
            "type": "scatter"
           }
          ],
          "scatter3d": [
           {
            "line": {
             "colorbar": {
              "outlinewidth": 0,
              "ticks": ""
             }
            },
            "marker": {
             "colorbar": {
              "outlinewidth": 0,
              "ticks": ""
             }
            },
            "type": "scatter3d"
           }
          ],
          "scattercarpet": [
           {
            "marker": {
             "colorbar": {
              "outlinewidth": 0,
              "ticks": ""
             }
            },
            "type": "scattercarpet"
           }
          ],
          "scattergeo": [
           {
            "marker": {
             "colorbar": {
              "outlinewidth": 0,
              "ticks": ""
             }
            },
            "type": "scattergeo"
           }
          ],
          "scattergl": [
           {
            "marker": {
             "colorbar": {
              "outlinewidth": 0,
              "ticks": ""
             }
            },
            "type": "scattergl"
           }
          ],
          "scattermapbox": [
           {
            "marker": {
             "colorbar": {
              "outlinewidth": 0,
              "ticks": ""
             }
            },
            "type": "scattermapbox"
           }
          ],
          "scatterpolar": [
           {
            "marker": {
             "colorbar": {
              "outlinewidth": 0,
              "ticks": ""
             }
            },
            "type": "scatterpolar"
           }
          ],
          "scatterpolargl": [
           {
            "marker": {
             "colorbar": {
              "outlinewidth": 0,
              "ticks": ""
             }
            },
            "type": "scatterpolargl"
           }
          ],
          "scatterternary": [
           {
            "marker": {
             "colorbar": {
              "outlinewidth": 0,
              "ticks": ""
             }
            },
            "type": "scatterternary"
           }
          ],
          "surface": [
           {
            "colorbar": {
             "outlinewidth": 0,
             "ticks": ""
            },
            "colorscale": [
             [
              0,
              "#0d0887"
             ],
             [
              0.1111111111111111,
              "#46039f"
             ],
             [
              0.2222222222222222,
              "#7201a8"
             ],
             [
              0.3333333333333333,
              "#9c179e"
             ],
             [
              0.4444444444444444,
              "#bd3786"
             ],
             [
              0.5555555555555556,
              "#d8576b"
             ],
             [
              0.6666666666666666,
              "#ed7953"
             ],
             [
              0.7777777777777778,
              "#fb9f3a"
             ],
             [
              0.8888888888888888,
              "#fdca26"
             ],
             [
              1,
              "#f0f921"
             ]
            ],
            "type": "surface"
           }
          ],
          "table": [
           {
            "cells": {
             "fill": {
              "color": "#EBF0F8"
             },
             "line": {
              "color": "white"
             }
            },
            "header": {
             "fill": {
              "color": "#C8D4E3"
             },
             "line": {
              "color": "white"
             }
            },
            "type": "table"
           }
          ]
         },
         "layout": {
          "annotationdefaults": {
           "arrowcolor": "#2a3f5f",
           "arrowhead": 0,
           "arrowwidth": 1
          },
          "autotypenumbers": "strict",
          "coloraxis": {
           "colorbar": {
            "outlinewidth": 0,
            "ticks": ""
           }
          },
          "colorscale": {
           "diverging": [
            [
             0,
             "#8e0152"
            ],
            [
             0.1,
             "#c51b7d"
            ],
            [
             0.2,
             "#de77ae"
            ],
            [
             0.3,
             "#f1b6da"
            ],
            [
             0.4,
             "#fde0ef"
            ],
            [
             0.5,
             "#f7f7f7"
            ],
            [
             0.6,
             "#e6f5d0"
            ],
            [
             0.7,
             "#b8e186"
            ],
            [
             0.8,
             "#7fbc41"
            ],
            [
             0.9,
             "#4d9221"
            ],
            [
             1,
             "#276419"
            ]
           ],
           "sequential": [
            [
             0,
             "#0d0887"
            ],
            [
             0.1111111111111111,
             "#46039f"
            ],
            [
             0.2222222222222222,
             "#7201a8"
            ],
            [
             0.3333333333333333,
             "#9c179e"
            ],
            [
             0.4444444444444444,
             "#bd3786"
            ],
            [
             0.5555555555555556,
             "#d8576b"
            ],
            [
             0.6666666666666666,
             "#ed7953"
            ],
            [
             0.7777777777777778,
             "#fb9f3a"
            ],
            [
             0.8888888888888888,
             "#fdca26"
            ],
            [
             1,
             "#f0f921"
            ]
           ],
           "sequentialminus": [
            [
             0,
             "#0d0887"
            ],
            [
             0.1111111111111111,
             "#46039f"
            ],
            [
             0.2222222222222222,
             "#7201a8"
            ],
            [
             0.3333333333333333,
             "#9c179e"
            ],
            [
             0.4444444444444444,
             "#bd3786"
            ],
            [
             0.5555555555555556,
             "#d8576b"
            ],
            [
             0.6666666666666666,
             "#ed7953"
            ],
            [
             0.7777777777777778,
             "#fb9f3a"
            ],
            [
             0.8888888888888888,
             "#fdca26"
            ],
            [
             1,
             "#f0f921"
            ]
           ]
          },
          "colorway": [
           "#636efa",
           "#EF553B",
           "#00cc96",
           "#ab63fa",
           "#FFA15A",
           "#19d3f3",
           "#FF6692",
           "#B6E880",
           "#FF97FF",
           "#FECB52"
          ],
          "font": {
           "color": "#2a3f5f"
          },
          "geo": {
           "bgcolor": "white",
           "lakecolor": "white",
           "landcolor": "#E5ECF6",
           "showlakes": true,
           "showland": true,
           "subunitcolor": "white"
          },
          "hoverlabel": {
           "align": "left"
          },
          "hovermode": "closest",
          "mapbox": {
           "style": "light"
          },
          "paper_bgcolor": "white",
          "plot_bgcolor": "#E5ECF6",
          "polar": {
           "angularaxis": {
            "gridcolor": "white",
            "linecolor": "white",
            "ticks": ""
           },
           "bgcolor": "#E5ECF6",
           "radialaxis": {
            "gridcolor": "white",
            "linecolor": "white",
            "ticks": ""
           }
          },
          "scene": {
           "xaxis": {
            "backgroundcolor": "#E5ECF6",
            "gridcolor": "white",
            "gridwidth": 2,
            "linecolor": "white",
            "showbackground": true,
            "ticks": "",
            "zerolinecolor": "white"
           },
           "yaxis": {
            "backgroundcolor": "#E5ECF6",
            "gridcolor": "white",
            "gridwidth": 2,
            "linecolor": "white",
            "showbackground": true,
            "ticks": "",
            "zerolinecolor": "white"
           },
           "zaxis": {
            "backgroundcolor": "#E5ECF6",
            "gridcolor": "white",
            "gridwidth": 2,
            "linecolor": "white",
            "showbackground": true,
            "ticks": "",
            "zerolinecolor": "white"
           }
          },
          "shapedefaults": {
           "line": {
            "color": "#2a3f5f"
           }
          },
          "ternary": {
           "aaxis": {
            "gridcolor": "white",
            "linecolor": "white",
            "ticks": ""
           },
           "baxis": {
            "gridcolor": "white",
            "linecolor": "white",
            "ticks": ""
           },
           "bgcolor": "#E5ECF6",
           "caxis": {
            "gridcolor": "white",
            "linecolor": "white",
            "ticks": ""
           }
          },
          "title": {
           "x": 0.05
          },
          "xaxis": {
           "automargin": true,
           "gridcolor": "white",
           "linecolor": "white",
           "ticks": "",
           "title": {
            "standoff": 15
           },
           "zerolinecolor": "white",
           "zerolinewidth": 2
          },
          "yaxis": {
           "automargin": true,
           "gridcolor": "white",
           "linecolor": "white",
           "ticks": "",
           "title": {
            "standoff": 15
           },
           "zerolinecolor": "white",
           "zerolinewidth": 2
          }
         }
        },
        "title": {
         "text": "Execution time per number of days"
        },
        "xaxis": {
         "title": {
          "text": "Days"
         }
        },
        "yaxis": {
         "title": {
          "text": "Time (sec)"
         }
        }
       }
      }
     },
     "metadata": {},
     "output_type": "display_data"
    }
   ],
   "source": [
    "fig = go.Figure()\n",
    "fig.add_trace(go.Scatter(x=[1,2,3,4,5], y=[189.9, 219.27, 220.63, 213.21, 226.52], name='LAID all data '))\n",
    "fig.update_layout(title='Execution time per number of days',\n",
    "                  xaxis_title='Days',\n",
    "                  yaxis_title='Time (sec)')\n",
    "fig.show()"
   ]
  },
  {
   "cell_type": "code",
   "execution_count": 40,
   "metadata": {},
   "outputs": [
    {
     "data": {
      "application/vnd.plotly.v1+json": {
       "config": {
        "plotlyServerURL": "https://plot.ly"
       },
       "data": [
        {
         "name": "LAID all data ",
         "type": "scatter",
         "x": [
          1,
          2,
          3,
          4,
          5
         ],
         "y": [
          4649,
          8611,
          9839,
          10770,
          11108
         ]
        }
       ],
       "layout": {
        "template": {
         "data": {
          "bar": [
           {
            "error_x": {
             "color": "#2a3f5f"
            },
            "error_y": {
             "color": "#2a3f5f"
            },
            "marker": {
             "line": {
              "color": "#E5ECF6",
              "width": 0.5
             },
             "pattern": {
              "fillmode": "overlay",
              "size": 10,
              "solidity": 0.2
             }
            },
            "type": "bar"
           }
          ],
          "barpolar": [
           {
            "marker": {
             "line": {
              "color": "#E5ECF6",
              "width": 0.5
             },
             "pattern": {
              "fillmode": "overlay",
              "size": 10,
              "solidity": 0.2
             }
            },
            "type": "barpolar"
           }
          ],
          "carpet": [
           {
            "aaxis": {
             "endlinecolor": "#2a3f5f",
             "gridcolor": "white",
             "linecolor": "white",
             "minorgridcolor": "white",
             "startlinecolor": "#2a3f5f"
            },
            "baxis": {
             "endlinecolor": "#2a3f5f",
             "gridcolor": "white",
             "linecolor": "white",
             "minorgridcolor": "white",
             "startlinecolor": "#2a3f5f"
            },
            "type": "carpet"
           }
          ],
          "choropleth": [
           {
            "colorbar": {
             "outlinewidth": 0,
             "ticks": ""
            },
            "type": "choropleth"
           }
          ],
          "contour": [
           {
            "colorbar": {
             "outlinewidth": 0,
             "ticks": ""
            },
            "colorscale": [
             [
              0,
              "#0d0887"
             ],
             [
              0.1111111111111111,
              "#46039f"
             ],
             [
              0.2222222222222222,
              "#7201a8"
             ],
             [
              0.3333333333333333,
              "#9c179e"
             ],
             [
              0.4444444444444444,
              "#bd3786"
             ],
             [
              0.5555555555555556,
              "#d8576b"
             ],
             [
              0.6666666666666666,
              "#ed7953"
             ],
             [
              0.7777777777777778,
              "#fb9f3a"
             ],
             [
              0.8888888888888888,
              "#fdca26"
             ],
             [
              1,
              "#f0f921"
             ]
            ],
            "type": "contour"
           }
          ],
          "contourcarpet": [
           {
            "colorbar": {
             "outlinewidth": 0,
             "ticks": ""
            },
            "type": "contourcarpet"
           }
          ],
          "heatmap": [
           {
            "colorbar": {
             "outlinewidth": 0,
             "ticks": ""
            },
            "colorscale": [
             [
              0,
              "#0d0887"
             ],
             [
              0.1111111111111111,
              "#46039f"
             ],
             [
              0.2222222222222222,
              "#7201a8"
             ],
             [
              0.3333333333333333,
              "#9c179e"
             ],
             [
              0.4444444444444444,
              "#bd3786"
             ],
             [
              0.5555555555555556,
              "#d8576b"
             ],
             [
              0.6666666666666666,
              "#ed7953"
             ],
             [
              0.7777777777777778,
              "#fb9f3a"
             ],
             [
              0.8888888888888888,
              "#fdca26"
             ],
             [
              1,
              "#f0f921"
             ]
            ],
            "type": "heatmap"
           }
          ],
          "heatmapgl": [
           {
            "colorbar": {
             "outlinewidth": 0,
             "ticks": ""
            },
            "colorscale": [
             [
              0,
              "#0d0887"
             ],
             [
              0.1111111111111111,
              "#46039f"
             ],
             [
              0.2222222222222222,
              "#7201a8"
             ],
             [
              0.3333333333333333,
              "#9c179e"
             ],
             [
              0.4444444444444444,
              "#bd3786"
             ],
             [
              0.5555555555555556,
              "#d8576b"
             ],
             [
              0.6666666666666666,
              "#ed7953"
             ],
             [
              0.7777777777777778,
              "#fb9f3a"
             ],
             [
              0.8888888888888888,
              "#fdca26"
             ],
             [
              1,
              "#f0f921"
             ]
            ],
            "type": "heatmapgl"
           }
          ],
          "histogram": [
           {
            "marker": {
             "pattern": {
              "fillmode": "overlay",
              "size": 10,
              "solidity": 0.2
             }
            },
            "type": "histogram"
           }
          ],
          "histogram2d": [
           {
            "colorbar": {
             "outlinewidth": 0,
             "ticks": ""
            },
            "colorscale": [
             [
              0,
              "#0d0887"
             ],
             [
              0.1111111111111111,
              "#46039f"
             ],
             [
              0.2222222222222222,
              "#7201a8"
             ],
             [
              0.3333333333333333,
              "#9c179e"
             ],
             [
              0.4444444444444444,
              "#bd3786"
             ],
             [
              0.5555555555555556,
              "#d8576b"
             ],
             [
              0.6666666666666666,
              "#ed7953"
             ],
             [
              0.7777777777777778,
              "#fb9f3a"
             ],
             [
              0.8888888888888888,
              "#fdca26"
             ],
             [
              1,
              "#f0f921"
             ]
            ],
            "type": "histogram2d"
           }
          ],
          "histogram2dcontour": [
           {
            "colorbar": {
             "outlinewidth": 0,
             "ticks": ""
            },
            "colorscale": [
             [
              0,
              "#0d0887"
             ],
             [
              0.1111111111111111,
              "#46039f"
             ],
             [
              0.2222222222222222,
              "#7201a8"
             ],
             [
              0.3333333333333333,
              "#9c179e"
             ],
             [
              0.4444444444444444,
              "#bd3786"
             ],
             [
              0.5555555555555556,
              "#d8576b"
             ],
             [
              0.6666666666666666,
              "#ed7953"
             ],
             [
              0.7777777777777778,
              "#fb9f3a"
             ],
             [
              0.8888888888888888,
              "#fdca26"
             ],
             [
              1,
              "#f0f921"
             ]
            ],
            "type": "histogram2dcontour"
           }
          ],
          "mesh3d": [
           {
            "colorbar": {
             "outlinewidth": 0,
             "ticks": ""
            },
            "type": "mesh3d"
           }
          ],
          "parcoords": [
           {
            "line": {
             "colorbar": {
              "outlinewidth": 0,
              "ticks": ""
             }
            },
            "type": "parcoords"
           }
          ],
          "pie": [
           {
            "automargin": true,
            "type": "pie"
           }
          ],
          "scatter": [
           {
            "fillpattern": {
             "fillmode": "overlay",
             "size": 10,
             "solidity": 0.2
            },
            "type": "scatter"
           }
          ],
          "scatter3d": [
           {
            "line": {
             "colorbar": {
              "outlinewidth": 0,
              "ticks": ""
             }
            },
            "marker": {
             "colorbar": {
              "outlinewidth": 0,
              "ticks": ""
             }
            },
            "type": "scatter3d"
           }
          ],
          "scattercarpet": [
           {
            "marker": {
             "colorbar": {
              "outlinewidth": 0,
              "ticks": ""
             }
            },
            "type": "scattercarpet"
           }
          ],
          "scattergeo": [
           {
            "marker": {
             "colorbar": {
              "outlinewidth": 0,
              "ticks": ""
             }
            },
            "type": "scattergeo"
           }
          ],
          "scattergl": [
           {
            "marker": {
             "colorbar": {
              "outlinewidth": 0,
              "ticks": ""
             }
            },
            "type": "scattergl"
           }
          ],
          "scattermapbox": [
           {
            "marker": {
             "colorbar": {
              "outlinewidth": 0,
              "ticks": ""
             }
            },
            "type": "scattermapbox"
           }
          ],
          "scatterpolar": [
           {
            "marker": {
             "colorbar": {
              "outlinewidth": 0,
              "ticks": ""
             }
            },
            "type": "scatterpolar"
           }
          ],
          "scatterpolargl": [
           {
            "marker": {
             "colorbar": {
              "outlinewidth": 0,
              "ticks": ""
             }
            },
            "type": "scatterpolargl"
           }
          ],
          "scatterternary": [
           {
            "marker": {
             "colorbar": {
              "outlinewidth": 0,
              "ticks": ""
             }
            },
            "type": "scatterternary"
           }
          ],
          "surface": [
           {
            "colorbar": {
             "outlinewidth": 0,
             "ticks": ""
            },
            "colorscale": [
             [
              0,
              "#0d0887"
             ],
             [
              0.1111111111111111,
              "#46039f"
             ],
             [
              0.2222222222222222,
              "#7201a8"
             ],
             [
              0.3333333333333333,
              "#9c179e"
             ],
             [
              0.4444444444444444,
              "#bd3786"
             ],
             [
              0.5555555555555556,
              "#d8576b"
             ],
             [
              0.6666666666666666,
              "#ed7953"
             ],
             [
              0.7777777777777778,
              "#fb9f3a"
             ],
             [
              0.8888888888888888,
              "#fdca26"
             ],
             [
              1,
              "#f0f921"
             ]
            ],
            "type": "surface"
           }
          ],
          "table": [
           {
            "cells": {
             "fill": {
              "color": "#EBF0F8"
             },
             "line": {
              "color": "white"
             }
            },
            "header": {
             "fill": {
              "color": "#C8D4E3"
             },
             "line": {
              "color": "white"
             }
            },
            "type": "table"
           }
          ]
         },
         "layout": {
          "annotationdefaults": {
           "arrowcolor": "#2a3f5f",
           "arrowhead": 0,
           "arrowwidth": 1
          },
          "autotypenumbers": "strict",
          "coloraxis": {
           "colorbar": {
            "outlinewidth": 0,
            "ticks": ""
           }
          },
          "colorscale": {
           "diverging": [
            [
             0,
             "#8e0152"
            ],
            [
             0.1,
             "#c51b7d"
            ],
            [
             0.2,
             "#de77ae"
            ],
            [
             0.3,
             "#f1b6da"
            ],
            [
             0.4,
             "#fde0ef"
            ],
            [
             0.5,
             "#f7f7f7"
            ],
            [
             0.6,
             "#e6f5d0"
            ],
            [
             0.7,
             "#b8e186"
            ],
            [
             0.8,
             "#7fbc41"
            ],
            [
             0.9,
             "#4d9221"
            ],
            [
             1,
             "#276419"
            ]
           ],
           "sequential": [
            [
             0,
             "#0d0887"
            ],
            [
             0.1111111111111111,
             "#46039f"
            ],
            [
             0.2222222222222222,
             "#7201a8"
            ],
            [
             0.3333333333333333,
             "#9c179e"
            ],
            [
             0.4444444444444444,
             "#bd3786"
            ],
            [
             0.5555555555555556,
             "#d8576b"
            ],
            [
             0.6666666666666666,
             "#ed7953"
            ],
            [
             0.7777777777777778,
             "#fb9f3a"
            ],
            [
             0.8888888888888888,
             "#fdca26"
            ],
            [
             1,
             "#f0f921"
            ]
           ],
           "sequentialminus": [
            [
             0,
             "#0d0887"
            ],
            [
             0.1111111111111111,
             "#46039f"
            ],
            [
             0.2222222222222222,
             "#7201a8"
            ],
            [
             0.3333333333333333,
             "#9c179e"
            ],
            [
             0.4444444444444444,
             "#bd3786"
            ],
            [
             0.5555555555555556,
             "#d8576b"
            ],
            [
             0.6666666666666666,
             "#ed7953"
            ],
            [
             0.7777777777777778,
             "#fb9f3a"
            ],
            [
             0.8888888888888888,
             "#fdca26"
            ],
            [
             1,
             "#f0f921"
            ]
           ]
          },
          "colorway": [
           "#636efa",
           "#EF553B",
           "#00cc96",
           "#ab63fa",
           "#FFA15A",
           "#19d3f3",
           "#FF6692",
           "#B6E880",
           "#FF97FF",
           "#FECB52"
          ],
          "font": {
           "color": "#2a3f5f"
          },
          "geo": {
           "bgcolor": "white",
           "lakecolor": "white",
           "landcolor": "#E5ECF6",
           "showlakes": true,
           "showland": true,
           "subunitcolor": "white"
          },
          "hoverlabel": {
           "align": "left"
          },
          "hovermode": "closest",
          "mapbox": {
           "style": "light"
          },
          "paper_bgcolor": "white",
          "plot_bgcolor": "#E5ECF6",
          "polar": {
           "angularaxis": {
            "gridcolor": "white",
            "linecolor": "white",
            "ticks": ""
           },
           "bgcolor": "#E5ECF6",
           "radialaxis": {
            "gridcolor": "white",
            "linecolor": "white",
            "ticks": ""
           }
          },
          "scene": {
           "xaxis": {
            "backgroundcolor": "#E5ECF6",
            "gridcolor": "white",
            "gridwidth": 2,
            "linecolor": "white",
            "showbackground": true,
            "ticks": "",
            "zerolinecolor": "white"
           },
           "yaxis": {
            "backgroundcolor": "#E5ECF6",
            "gridcolor": "white",
            "gridwidth": 2,
            "linecolor": "white",
            "showbackground": true,
            "ticks": "",
            "zerolinecolor": "white"
           },
           "zaxis": {
            "backgroundcolor": "#E5ECF6",
            "gridcolor": "white",
            "gridwidth": 2,
            "linecolor": "white",
            "showbackground": true,
            "ticks": "",
            "zerolinecolor": "white"
           }
          },
          "shapedefaults": {
           "line": {
            "color": "#2a3f5f"
           }
          },
          "ternary": {
           "aaxis": {
            "gridcolor": "white",
            "linecolor": "white",
            "ticks": ""
           },
           "baxis": {
            "gridcolor": "white",
            "linecolor": "white",
            "ticks": ""
           },
           "bgcolor": "#E5ECF6",
           "caxis": {
            "gridcolor": "white",
            "linecolor": "white",
            "ticks": ""
           }
          },
          "title": {
           "x": 0.05
          },
          "xaxis": {
           "automargin": true,
           "gridcolor": "white",
           "linecolor": "white",
           "ticks": "",
           "title": {
            "standoff": 15
           },
           "zerolinecolor": "white",
           "zerolinewidth": 2
          },
          "yaxis": {
           "automargin": true,
           "gridcolor": "white",
           "linecolor": "white",
           "ticks": "",
           "title": {
            "standoff": 15
           },
           "zerolinecolor": "white",
           "zerolinewidth": 2
          }
         }
        },
        "title": {
         "text": "TWAD per number of days"
        },
        "xaxis": {
         "title": {
          "text": "Days"
         }
        },
        "yaxis": {
         "title": {
          "text": "TWAD"
         }
        }
       }
      }
     },
     "metadata": {},
     "output_type": "display_data"
    }
   ],
   "source": [
    "fig = go.Figure()\n",
    "fig.add_trace(go.Scatter(x=[1,2,3,4,5], y=[4649, 8611, 9839, 10770, 11108], name='LAID all data '))\n",
    "fig.update_layout(title='TWAD per number of days',\n",
    "                  xaxis_title='Days',\n",
    "                  yaxis_title='TWAD')\n",
    "fig.show()"
   ]
  },
  {
   "cell_type": "code",
   "execution_count": 35,
   "metadata": {},
   "outputs": [
    {
     "data": {
      "application/vnd.plotly.v1+json": {
       "config": {
        "plotlyServerURL": "https://plot.ly"
       },
       "data": [
        {
         "name": "1 day",
         "type": "scatter",
         "y": [
          0,
          0,
          0,
          0,
          0,
          44,
          62,
          94,
          132,
          203,
          319,
          383,
          412,
          441,
          477,
          516,
          558,
          603,
          651,
          702,
          757,
          810,
          861,
          911,
          965,
          1017,
          1071,
          1122,
          1169,
          1236,
          1296,
          1380,
          1467,
          1550,
          1631,
          1725,
          1820,
          1908,
          2008,
          2111,
          2236,
          2366,
          2499,
          2641,
          2789,
          2946,
          3102,
          3259,
          3364,
          3502,
          3642,
          3791,
          3918,
          4015,
          4080,
          4140,
          4198,
          4248,
          4276,
          4298,
          4320,
          4338,
          4358,
          4377,
          4393,
          4414,
          4432,
          4455,
          4475,
          4494,
          4498,
          4501,
          4504,
          4507,
          4509,
          4512,
          4515,
          4519,
          4524,
          4528,
          4533,
          4538,
          4541,
          4545,
          4548,
          4551,
          4555,
          4559,
          4564,
          4567,
          4572,
          4576,
          4580,
          4584,
          4588,
          4593,
          4597,
          4601,
          4606,
          4611,
          4615,
          4621,
          4625,
          4630,
          4635,
          4639,
          4644,
          4649
         ]
        },
        {
         "name": "2 days",
         "type": "scatter",
         "y": [
          0,
          0,
          0,
          0,
          0,
          44,
          62,
          94,
          132,
          203,
          319,
          383,
          412,
          441,
          477,
          516,
          558,
          603,
          651,
          702,
          757,
          810,
          861,
          911,
          965,
          1017,
          1071,
          1122,
          1169,
          1236,
          1296,
          1380,
          1467,
          1550,
          1631,
          1725,
          1820,
          1908,
          2008,
          2111,
          2236,
          2366,
          2499,
          2641,
          2789,
          2946,
          3102,
          3259,
          3364,
          3503,
          3646,
          3803,
          3958,
          4114,
          4269,
          4423,
          4577,
          4731,
          4884,
          5036,
          5188,
          5340,
          5491,
          5641,
          5791,
          5940,
          6068,
          6216,
          6363,
          6510,
          6656,
          6801,
          6946,
          7090,
          7233,
          7376,
          7517,
          7658,
          7798,
          7937,
          8071,
          8184,
          8271,
          8349,
          8398,
          8439,
          8479,
          8516,
          8548,
          8572,
          8595,
          8613,
          8627,
          8641,
          8644,
          8646,
          8646,
          8641,
          8637,
          8633,
          8630,
          8627,
          8624,
          8621,
          8618,
          8615,
          8613,
          8611
         ]
        },
        {
         "name": "3 days",
         "type": "scatter",
         "y": [
          0,
          0,
          0,
          0,
          0,
          44,
          62,
          94,
          132,
          203,
          319,
          383,
          412,
          441,
          477,
          516,
          558,
          603,
          651,
          702,
          757,
          810,
          861,
          911,
          965,
          1017,
          1071,
          1122,
          1169,
          1236,
          1296,
          1380,
          1467,
          1550,
          1631,
          1725,
          1820,
          1908,
          2008,
          2111,
          2236,
          2366,
          2499,
          2641,
          2789,
          2946,
          3102,
          3259,
          3364,
          3503,
          3646,
          3803,
          3958,
          4114,
          4269,
          4423,
          4577,
          4731,
          4884,
          5036,
          5188,
          5340,
          5491,
          5641,
          5791,
          5940,
          6068,
          6216,
          6363,
          6510,
          6656,
          6801,
          6946,
          7090,
          7233,
          7376,
          7517,
          7658,
          7798,
          7937,
          8075,
          8213,
          8349,
          8485,
          8619,
          8753,
          8885,
          9017,
          9147,
          9270,
          9378,
          9465,
          9523,
          9573,
          9618,
          9658,
          9685,
          9713,
          9738,
          9760,
          9780,
          9799,
          9815,
          9821,
          9826,
          9830,
          9834,
          9839
         ]
        },
        {
         "name": "4 days",
         "type": "scatter",
         "y": [
          0,
          0,
          0,
          0,
          0,
          44,
          62,
          94,
          132,
          203,
          319,
          383,
          412,
          441,
          477,
          516,
          558,
          603,
          651,
          702,
          757,
          810,
          861,
          911,
          965,
          1017,
          1071,
          1122,
          1169,
          1236,
          1296,
          1380,
          1467,
          1550,
          1631,
          1725,
          1820,
          1908,
          2008,
          2111,
          2236,
          2366,
          2499,
          2641,
          2789,
          2946,
          3102,
          3259,
          3364,
          3503,
          3646,
          3803,
          3958,
          4114,
          4269,
          4423,
          4577,
          4731,
          4884,
          5036,
          5188,
          5340,
          5491,
          5641,
          5791,
          5940,
          6068,
          6216,
          6363,
          6510,
          6656,
          6801,
          6946,
          7090,
          7233,
          7376,
          7517,
          7658,
          7798,
          7937,
          8075,
          8213,
          8349,
          8485,
          8619,
          8753,
          8885,
          9017,
          9147,
          9276,
          9404,
          9531,
          9657,
          9782,
          9905,
          10027,
          10148,
          10267,
          10370,
          10457,
          10518,
          10573,
          10620,
          10661,
          10691,
          10718,
          10744,
          10770
         ]
        },
        {
         "name": "5 days",
         "type": "scatter",
         "y": [
          0,
          0,
          0,
          0,
          0,
          44,
          62,
          94,
          132,
          203,
          319,
          383,
          412,
          441,
          477,
          516,
          558,
          603,
          651,
          702,
          757,
          810,
          861,
          911,
          965,
          1017,
          1071,
          1122,
          1169,
          1236,
          1296,
          1380,
          1467,
          1550,
          1631,
          1725,
          1820,
          1908,
          2008,
          2111,
          2236,
          2366,
          2499,
          2641,
          2789,
          2946,
          3102,
          3259,
          3364,
          3503,
          3646,
          3803,
          3958,
          4114,
          4269,
          4423,
          4577,
          4731,
          4884,
          5036,
          5188,
          5340,
          5491,
          5641,
          5791,
          5940,
          6068,
          6216,
          6363,
          6510,
          6656,
          6801,
          6946,
          7090,
          7233,
          7376,
          7517,
          7658,
          7798,
          7937,
          8075,
          8213,
          8349,
          8485,
          8619,
          8753,
          8885,
          9017,
          9147,
          9276,
          9404,
          9531,
          9657,
          9782,
          9905,
          10027,
          10148,
          10267,
          10385,
          10502,
          10606,
          10720,
          10822,
          10908,
          10971,
          11025,
          11068,
          11108
         ]
        }
       ],
       "layout": {
        "template": {
         "data": {
          "bar": [
           {
            "error_x": {
             "color": "#2a3f5f"
            },
            "error_y": {
             "color": "#2a3f5f"
            },
            "marker": {
             "line": {
              "color": "#E5ECF6",
              "width": 0.5
             },
             "pattern": {
              "fillmode": "overlay",
              "size": 10,
              "solidity": 0.2
             }
            },
            "type": "bar"
           }
          ],
          "barpolar": [
           {
            "marker": {
             "line": {
              "color": "#E5ECF6",
              "width": 0.5
             },
             "pattern": {
              "fillmode": "overlay",
              "size": 10,
              "solidity": 0.2
             }
            },
            "type": "barpolar"
           }
          ],
          "carpet": [
           {
            "aaxis": {
             "endlinecolor": "#2a3f5f",
             "gridcolor": "white",
             "linecolor": "white",
             "minorgridcolor": "white",
             "startlinecolor": "#2a3f5f"
            },
            "baxis": {
             "endlinecolor": "#2a3f5f",
             "gridcolor": "white",
             "linecolor": "white",
             "minorgridcolor": "white",
             "startlinecolor": "#2a3f5f"
            },
            "type": "carpet"
           }
          ],
          "choropleth": [
           {
            "colorbar": {
             "outlinewidth": 0,
             "ticks": ""
            },
            "type": "choropleth"
           }
          ],
          "contour": [
           {
            "colorbar": {
             "outlinewidth": 0,
             "ticks": ""
            },
            "colorscale": [
             [
              0,
              "#0d0887"
             ],
             [
              0.1111111111111111,
              "#46039f"
             ],
             [
              0.2222222222222222,
              "#7201a8"
             ],
             [
              0.3333333333333333,
              "#9c179e"
             ],
             [
              0.4444444444444444,
              "#bd3786"
             ],
             [
              0.5555555555555556,
              "#d8576b"
             ],
             [
              0.6666666666666666,
              "#ed7953"
             ],
             [
              0.7777777777777778,
              "#fb9f3a"
             ],
             [
              0.8888888888888888,
              "#fdca26"
             ],
             [
              1,
              "#f0f921"
             ]
            ],
            "type": "contour"
           }
          ],
          "contourcarpet": [
           {
            "colorbar": {
             "outlinewidth": 0,
             "ticks": ""
            },
            "type": "contourcarpet"
           }
          ],
          "heatmap": [
           {
            "colorbar": {
             "outlinewidth": 0,
             "ticks": ""
            },
            "colorscale": [
             [
              0,
              "#0d0887"
             ],
             [
              0.1111111111111111,
              "#46039f"
             ],
             [
              0.2222222222222222,
              "#7201a8"
             ],
             [
              0.3333333333333333,
              "#9c179e"
             ],
             [
              0.4444444444444444,
              "#bd3786"
             ],
             [
              0.5555555555555556,
              "#d8576b"
             ],
             [
              0.6666666666666666,
              "#ed7953"
             ],
             [
              0.7777777777777778,
              "#fb9f3a"
             ],
             [
              0.8888888888888888,
              "#fdca26"
             ],
             [
              1,
              "#f0f921"
             ]
            ],
            "type": "heatmap"
           }
          ],
          "heatmapgl": [
           {
            "colorbar": {
             "outlinewidth": 0,
             "ticks": ""
            },
            "colorscale": [
             [
              0,
              "#0d0887"
             ],
             [
              0.1111111111111111,
              "#46039f"
             ],
             [
              0.2222222222222222,
              "#7201a8"
             ],
             [
              0.3333333333333333,
              "#9c179e"
             ],
             [
              0.4444444444444444,
              "#bd3786"
             ],
             [
              0.5555555555555556,
              "#d8576b"
             ],
             [
              0.6666666666666666,
              "#ed7953"
             ],
             [
              0.7777777777777778,
              "#fb9f3a"
             ],
             [
              0.8888888888888888,
              "#fdca26"
             ],
             [
              1,
              "#f0f921"
             ]
            ],
            "type": "heatmapgl"
           }
          ],
          "histogram": [
           {
            "marker": {
             "pattern": {
              "fillmode": "overlay",
              "size": 10,
              "solidity": 0.2
             }
            },
            "type": "histogram"
           }
          ],
          "histogram2d": [
           {
            "colorbar": {
             "outlinewidth": 0,
             "ticks": ""
            },
            "colorscale": [
             [
              0,
              "#0d0887"
             ],
             [
              0.1111111111111111,
              "#46039f"
             ],
             [
              0.2222222222222222,
              "#7201a8"
             ],
             [
              0.3333333333333333,
              "#9c179e"
             ],
             [
              0.4444444444444444,
              "#bd3786"
             ],
             [
              0.5555555555555556,
              "#d8576b"
             ],
             [
              0.6666666666666666,
              "#ed7953"
             ],
             [
              0.7777777777777778,
              "#fb9f3a"
             ],
             [
              0.8888888888888888,
              "#fdca26"
             ],
             [
              1,
              "#f0f921"
             ]
            ],
            "type": "histogram2d"
           }
          ],
          "histogram2dcontour": [
           {
            "colorbar": {
             "outlinewidth": 0,
             "ticks": ""
            },
            "colorscale": [
             [
              0,
              "#0d0887"
             ],
             [
              0.1111111111111111,
              "#46039f"
             ],
             [
              0.2222222222222222,
              "#7201a8"
             ],
             [
              0.3333333333333333,
              "#9c179e"
             ],
             [
              0.4444444444444444,
              "#bd3786"
             ],
             [
              0.5555555555555556,
              "#d8576b"
             ],
             [
              0.6666666666666666,
              "#ed7953"
             ],
             [
              0.7777777777777778,
              "#fb9f3a"
             ],
             [
              0.8888888888888888,
              "#fdca26"
             ],
             [
              1,
              "#f0f921"
             ]
            ],
            "type": "histogram2dcontour"
           }
          ],
          "mesh3d": [
           {
            "colorbar": {
             "outlinewidth": 0,
             "ticks": ""
            },
            "type": "mesh3d"
           }
          ],
          "parcoords": [
           {
            "line": {
             "colorbar": {
              "outlinewidth": 0,
              "ticks": ""
             }
            },
            "type": "parcoords"
           }
          ],
          "pie": [
           {
            "automargin": true,
            "type": "pie"
           }
          ],
          "scatter": [
           {
            "fillpattern": {
             "fillmode": "overlay",
             "size": 10,
             "solidity": 0.2
            },
            "type": "scatter"
           }
          ],
          "scatter3d": [
           {
            "line": {
             "colorbar": {
              "outlinewidth": 0,
              "ticks": ""
             }
            },
            "marker": {
             "colorbar": {
              "outlinewidth": 0,
              "ticks": ""
             }
            },
            "type": "scatter3d"
           }
          ],
          "scattercarpet": [
           {
            "marker": {
             "colorbar": {
              "outlinewidth": 0,
              "ticks": ""
             }
            },
            "type": "scattercarpet"
           }
          ],
          "scattergeo": [
           {
            "marker": {
             "colorbar": {
              "outlinewidth": 0,
              "ticks": ""
             }
            },
            "type": "scattergeo"
           }
          ],
          "scattergl": [
           {
            "marker": {
             "colorbar": {
              "outlinewidth": 0,
              "ticks": ""
             }
            },
            "type": "scattergl"
           }
          ],
          "scattermapbox": [
           {
            "marker": {
             "colorbar": {
              "outlinewidth": 0,
              "ticks": ""
             }
            },
            "type": "scattermapbox"
           }
          ],
          "scatterpolar": [
           {
            "marker": {
             "colorbar": {
              "outlinewidth": 0,
              "ticks": ""
             }
            },
            "type": "scatterpolar"
           }
          ],
          "scatterpolargl": [
           {
            "marker": {
             "colorbar": {
              "outlinewidth": 0,
              "ticks": ""
             }
            },
            "type": "scatterpolargl"
           }
          ],
          "scatterternary": [
           {
            "marker": {
             "colorbar": {
              "outlinewidth": 0,
              "ticks": ""
             }
            },
            "type": "scatterternary"
           }
          ],
          "surface": [
           {
            "colorbar": {
             "outlinewidth": 0,
             "ticks": ""
            },
            "colorscale": [
             [
              0,
              "#0d0887"
             ],
             [
              0.1111111111111111,
              "#46039f"
             ],
             [
              0.2222222222222222,
              "#7201a8"
             ],
             [
              0.3333333333333333,
              "#9c179e"
             ],
             [
              0.4444444444444444,
              "#bd3786"
             ],
             [
              0.5555555555555556,
              "#d8576b"
             ],
             [
              0.6666666666666666,
              "#ed7953"
             ],
             [
              0.7777777777777778,
              "#fb9f3a"
             ],
             [
              0.8888888888888888,
              "#fdca26"
             ],
             [
              1,
              "#f0f921"
             ]
            ],
            "type": "surface"
           }
          ],
          "table": [
           {
            "cells": {
             "fill": {
              "color": "#EBF0F8"
             },
             "line": {
              "color": "white"
             }
            },
            "header": {
             "fill": {
              "color": "#C8D4E3"
             },
             "line": {
              "color": "white"
             }
            },
            "type": "table"
           }
          ]
         },
         "layout": {
          "annotationdefaults": {
           "arrowcolor": "#2a3f5f",
           "arrowhead": 0,
           "arrowwidth": 1
          },
          "autotypenumbers": "strict",
          "coloraxis": {
           "colorbar": {
            "outlinewidth": 0,
            "ticks": ""
           }
          },
          "colorscale": {
           "diverging": [
            [
             0,
             "#8e0152"
            ],
            [
             0.1,
             "#c51b7d"
            ],
            [
             0.2,
             "#de77ae"
            ],
            [
             0.3,
             "#f1b6da"
            ],
            [
             0.4,
             "#fde0ef"
            ],
            [
             0.5,
             "#f7f7f7"
            ],
            [
             0.6,
             "#e6f5d0"
            ],
            [
             0.7,
             "#b8e186"
            ],
            [
             0.8,
             "#7fbc41"
            ],
            [
             0.9,
             "#4d9221"
            ],
            [
             1,
             "#276419"
            ]
           ],
           "sequential": [
            [
             0,
             "#0d0887"
            ],
            [
             0.1111111111111111,
             "#46039f"
            ],
            [
             0.2222222222222222,
             "#7201a8"
            ],
            [
             0.3333333333333333,
             "#9c179e"
            ],
            [
             0.4444444444444444,
             "#bd3786"
            ],
            [
             0.5555555555555556,
             "#d8576b"
            ],
            [
             0.6666666666666666,
             "#ed7953"
            ],
            [
             0.7777777777777778,
             "#fb9f3a"
            ],
            [
             0.8888888888888888,
             "#fdca26"
            ],
            [
             1,
             "#f0f921"
            ]
           ],
           "sequentialminus": [
            [
             0,
             "#0d0887"
            ],
            [
             0.1111111111111111,
             "#46039f"
            ],
            [
             0.2222222222222222,
             "#7201a8"
            ],
            [
             0.3333333333333333,
             "#9c179e"
            ],
            [
             0.4444444444444444,
             "#bd3786"
            ],
            [
             0.5555555555555556,
             "#d8576b"
            ],
            [
             0.6666666666666666,
             "#ed7953"
            ],
            [
             0.7777777777777778,
             "#fb9f3a"
            ],
            [
             0.8888888888888888,
             "#fdca26"
            ],
            [
             1,
             "#f0f921"
            ]
           ]
          },
          "colorway": [
           "#636efa",
           "#EF553B",
           "#00cc96",
           "#ab63fa",
           "#FFA15A",
           "#19d3f3",
           "#FF6692",
           "#B6E880",
           "#FF97FF",
           "#FECB52"
          ],
          "font": {
           "color": "#2a3f5f"
          },
          "geo": {
           "bgcolor": "white",
           "lakecolor": "white",
           "landcolor": "#E5ECF6",
           "showlakes": true,
           "showland": true,
           "subunitcolor": "white"
          },
          "hoverlabel": {
           "align": "left"
          },
          "hovermode": "closest",
          "mapbox": {
           "style": "light"
          },
          "paper_bgcolor": "white",
          "plot_bgcolor": "#E5ECF6",
          "polar": {
           "angularaxis": {
            "gridcolor": "white",
            "linecolor": "white",
            "ticks": ""
           },
           "bgcolor": "#E5ECF6",
           "radialaxis": {
            "gridcolor": "white",
            "linecolor": "white",
            "ticks": ""
           }
          },
          "scene": {
           "xaxis": {
            "backgroundcolor": "#E5ECF6",
            "gridcolor": "white",
            "gridwidth": 2,
            "linecolor": "white",
            "showbackground": true,
            "ticks": "",
            "zerolinecolor": "white"
           },
           "yaxis": {
            "backgroundcolor": "#E5ECF6",
            "gridcolor": "white",
            "gridwidth": 2,
            "linecolor": "white",
            "showbackground": true,
            "ticks": "",
            "zerolinecolor": "white"
           },
           "zaxis": {
            "backgroundcolor": "#E5ECF6",
            "gridcolor": "white",
            "gridwidth": 2,
            "linecolor": "white",
            "showbackground": true,
            "ticks": "",
            "zerolinecolor": "white"
           }
          },
          "shapedefaults": {
           "line": {
            "color": "#2a3f5f"
           }
          },
          "ternary": {
           "aaxis": {
            "gridcolor": "white",
            "linecolor": "white",
            "ticks": ""
           },
           "baxis": {
            "gridcolor": "white",
            "linecolor": "white",
            "ticks": ""
           },
           "bgcolor": "#E5ECF6",
           "caxis": {
            "gridcolor": "white",
            "linecolor": "white",
            "ticks": ""
           }
          },
          "title": {
           "x": 0.05
          },
          "xaxis": {
           "automargin": true,
           "gridcolor": "white",
           "linecolor": "white",
           "ticks": "",
           "title": {
            "standoff": 15
           },
           "zerolinecolor": "white",
           "zerolinewidth": 2
          },
          "yaxis": {
           "automargin": true,
           "gridcolor": "white",
           "linecolor": "white",
           "ticks": "",
           "title": {
            "standoff": 15
           },
           "zerolinecolor": "white",
           "zerolinewidth": 2
          }
         }
        },
        "title": {
         "text": "TWAD considering differents days of simulation"
        },
        "xaxis": {
         "title": {
          "text": "Days of Simulation"
         }
        },
        "yaxis": {
         "title": {
          "text": "TWAD (kg [dm]/ha)"
         }
        }
       }
      }
     },
     "metadata": {},
     "output_type": "display_data"
    }
   ],
   "source": [
    "fig = go.Figure()\n",
    "fig.add_trace(go.Scatter(y=out1['TWAD'], name='1 day'))\n",
    "fig.add_trace(go.Scatter(y=out2['TWAD'], name='2 days'))\n",
    "fig.add_trace(go.Scatter(y=out3['TWAD'], name='3 days'))\n",
    "fig.add_trace(go.Scatter(y=out4['TWAD'], name='4 days'))\n",
    "fig.add_trace(go.Scatter(y=out5['TWAD'], name='5 days'))\n",
    "fig.update_layout(title='TWAD considering differents days of simulation',\n",
    "                xaxis_title='Days of Simulation',\n",
    "                yaxis_title='TWAD (kg [dm]/ha)')\n",
    "fig.show()"
   ]
  },
  {
   "cell_type": "code",
   "execution_count": 41,
   "metadata": {},
   "outputs": [
    {
     "data": {
      "application/vnd.plotly.v1+json": {
       "config": {
        "plotlyServerURL": "https://plot.ly"
       },
       "data": [
        {
         "name": "1 day",
         "type": "scatter",
         "y": [
          0,
          0,
          0,
          0,
          0,
          0.06,
          0.09,
          0.14,
          0.2,
          0.31,
          0.49,
          0.59,
          0.63,
          0.67,
          0.73,
          0.79,
          0.85,
          0.92,
          1,
          1.08,
          1.16,
          1.24,
          1.32,
          1.39,
          1.48,
          1.56,
          1.64,
          1.72,
          1.79,
          1.89,
          1.98,
          2.11,
          2.24,
          2.36,
          2.49,
          2.63,
          2.77,
          2.9,
          3.06,
          3.21,
          3.39,
          3.54,
          3.64,
          3.72,
          3.77,
          3.75,
          3.73,
          3.71,
          3.69,
          3.72,
          3.81,
          3.75,
          3.67,
          3.59,
          3.49,
          3.4,
          3.3,
          3.21,
          3.11,
          3,
          2.9,
          2.8,
          2.71,
          2.61,
          2.52,
          2.43,
          2.34,
          2.26,
          2.17,
          2.09,
          2.01,
          1.93,
          1.85,
          1.78,
          1.7,
          1.63,
          1.56,
          1.49,
          1.43,
          1.36,
          1.3,
          1.25,
          1.19,
          1.14,
          1.09,
          1.04,
          0.99,
          0.95,
          0.91,
          0.86,
          0.83,
          0.79,
          0.75,
          0.72,
          0.69,
          0.66,
          0.63,
          0.6,
          0.58,
          0.55,
          0.53,
          0.5,
          0.48,
          0.46,
          0.44,
          0.42,
          0.41,
          0.39
         ]
        },
        {
         "name": "2 days",
         "type": "scatter",
         "y": [
          0,
          0,
          0,
          0,
          0,
          0.06,
          0.09,
          0.14,
          0.2,
          0.31,
          0.49,
          0.59,
          0.63,
          0.67,
          0.73,
          0.79,
          0.85,
          0.92,
          1,
          1.08,
          1.16,
          1.24,
          1.32,
          1.39,
          1.48,
          1.56,
          1.64,
          1.72,
          1.79,
          1.89,
          1.98,
          2.11,
          2.24,
          2.36,
          2.49,
          2.63,
          2.77,
          2.9,
          3.06,
          3.21,
          3.39,
          3.54,
          3.64,
          3.72,
          3.77,
          3.75,
          3.73,
          3.71,
          3.69,
          3.71,
          3.78,
          3.76,
          3.74,
          3.71,
          3.69,
          3.66,
          3.64,
          3.61,
          3.58,
          3.56,
          3.53,
          3.5,
          3.47,
          3.44,
          3.41,
          3.38,
          3.35,
          3.32,
          3.28,
          3.25,
          3.22,
          3.18,
          3.15,
          3.11,
          3.08,
          3.04,
          3,
          2.97,
          2.93,
          2.89,
          2.84,
          2.78,
          2.71,
          2.63,
          2.54,
          2.45,
          2.36,
          2.28,
          2.19,
          2.11,
          2.02,
          1.94,
          1.86,
          1.79,
          1.71,
          1.64,
          1.57,
          1.5,
          1.43,
          1.36,
          1.3,
          1.23,
          1.18,
          1.12,
          1.07,
          1.02,
          0.97,
          0.92
         ]
        },
        {
         "name": "3 days",
         "type": "scatter",
         "y": [
          0,
          0,
          0,
          0,
          0,
          0.06,
          0.09,
          0.14,
          0.2,
          0.31,
          0.49,
          0.59,
          0.63,
          0.67,
          0.73,
          0.79,
          0.85,
          0.92,
          1,
          1.08,
          1.16,
          1.24,
          1.32,
          1.39,
          1.48,
          1.56,
          1.64,
          1.72,
          1.79,
          1.89,
          1.98,
          2.11,
          2.24,
          2.36,
          2.49,
          2.63,
          2.77,
          2.9,
          3.06,
          3.21,
          3.39,
          3.54,
          3.64,
          3.72,
          3.77,
          3.75,
          3.73,
          3.71,
          3.69,
          3.71,
          3.78,
          3.76,
          3.74,
          3.71,
          3.69,
          3.66,
          3.64,
          3.61,
          3.58,
          3.56,
          3.53,
          3.5,
          3.47,
          3.44,
          3.41,
          3.38,
          3.35,
          3.32,
          3.28,
          3.25,
          3.22,
          3.18,
          3.15,
          3.11,
          3.08,
          3.04,
          3,
          2.97,
          2.93,
          2.89,
          2.85,
          2.81,
          2.78,
          2.74,
          2.7,
          2.66,
          2.62,
          2.57,
          2.53,
          2.49,
          2.44,
          2.37,
          2.3,
          2.22,
          2.14,
          2.07,
          1.99,
          1.91,
          1.84,
          1.76,
          1.7,
          1.63,
          1.56,
          1.49,
          1.43,
          1.36,
          1.3,
          1.25
         ]
        },
        {
         "name": "4 days",
         "type": "scatter",
         "y": [
          0,
          0,
          0,
          0,
          0,
          0.06,
          0.09,
          0.14,
          0.2,
          0.31,
          0.49,
          0.59,
          0.63,
          0.67,
          0.73,
          0.79,
          0.85,
          0.92,
          1,
          1.08,
          1.16,
          1.24,
          1.32,
          1.39,
          1.48,
          1.56,
          1.64,
          1.72,
          1.79,
          1.89,
          1.98,
          2.11,
          2.24,
          2.36,
          2.49,
          2.63,
          2.77,
          2.9,
          3.06,
          3.21,
          3.39,
          3.54,
          3.64,
          3.72,
          3.77,
          3.75,
          3.73,
          3.71,
          3.69,
          3.71,
          3.78,
          3.76,
          3.74,
          3.71,
          3.69,
          3.66,
          3.64,
          3.61,
          3.58,
          3.56,
          3.53,
          3.5,
          3.47,
          3.44,
          3.41,
          3.38,
          3.35,
          3.32,
          3.28,
          3.25,
          3.22,
          3.18,
          3.15,
          3.11,
          3.08,
          3.04,
          3,
          2.97,
          2.93,
          2.89,
          2.85,
          2.81,
          2.78,
          2.74,
          2.7,
          2.66,
          2.62,
          2.57,
          2.53,
          2.49,
          2.45,
          2.41,
          2.37,
          2.32,
          2.28,
          2.24,
          2.19,
          2.15,
          2.11,
          2.06,
          2,
          1.93,
          1.87,
          1.81,
          1.74,
          1.67,
          1.61,
          1.55
         ]
        },
        {
         "name": "5 days",
         "type": "scatter",
         "y": [
          0,
          0,
          0,
          0,
          0,
          0.06,
          0.09,
          0.14,
          0.2,
          0.31,
          0.49,
          0.59,
          0.63,
          0.67,
          0.73,
          0.79,
          0.85,
          0.92,
          1,
          1.08,
          1.16,
          1.24,
          1.32,
          1.39,
          1.48,
          1.56,
          1.64,
          1.72,
          1.79,
          1.89,
          1.98,
          2.11,
          2.24,
          2.36,
          2.49,
          2.63,
          2.77,
          2.9,
          3.06,
          3.21,
          3.39,
          3.54,
          3.64,
          3.72,
          3.77,
          3.75,
          3.73,
          3.71,
          3.69,
          3.71,
          3.78,
          3.76,
          3.74,
          3.71,
          3.69,
          3.66,
          3.64,
          3.61,
          3.58,
          3.56,
          3.53,
          3.5,
          3.47,
          3.44,
          3.41,
          3.38,
          3.35,
          3.32,
          3.28,
          3.25,
          3.22,
          3.18,
          3.15,
          3.11,
          3.08,
          3.04,
          3,
          2.97,
          2.93,
          2.89,
          2.85,
          2.81,
          2.78,
          2.74,
          2.7,
          2.66,
          2.62,
          2.57,
          2.53,
          2.49,
          2.45,
          2.41,
          2.37,
          2.32,
          2.28,
          2.24,
          2.19,
          2.15,
          2.11,
          2.07,
          2.02,
          1.98,
          1.94,
          1.89,
          1.84,
          1.78,
          1.72,
          1.66
         ]
        }
       ],
       "layout": {
        "template": {
         "data": {
          "bar": [
           {
            "error_x": {
             "color": "#2a3f5f"
            },
            "error_y": {
             "color": "#2a3f5f"
            },
            "marker": {
             "line": {
              "color": "#E5ECF6",
              "width": 0.5
             },
             "pattern": {
              "fillmode": "overlay",
              "size": 10,
              "solidity": 0.2
             }
            },
            "type": "bar"
           }
          ],
          "barpolar": [
           {
            "marker": {
             "line": {
              "color": "#E5ECF6",
              "width": 0.5
             },
             "pattern": {
              "fillmode": "overlay",
              "size": 10,
              "solidity": 0.2
             }
            },
            "type": "barpolar"
           }
          ],
          "carpet": [
           {
            "aaxis": {
             "endlinecolor": "#2a3f5f",
             "gridcolor": "white",
             "linecolor": "white",
             "minorgridcolor": "white",
             "startlinecolor": "#2a3f5f"
            },
            "baxis": {
             "endlinecolor": "#2a3f5f",
             "gridcolor": "white",
             "linecolor": "white",
             "minorgridcolor": "white",
             "startlinecolor": "#2a3f5f"
            },
            "type": "carpet"
           }
          ],
          "choropleth": [
           {
            "colorbar": {
             "outlinewidth": 0,
             "ticks": ""
            },
            "type": "choropleth"
           }
          ],
          "contour": [
           {
            "colorbar": {
             "outlinewidth": 0,
             "ticks": ""
            },
            "colorscale": [
             [
              0,
              "#0d0887"
             ],
             [
              0.1111111111111111,
              "#46039f"
             ],
             [
              0.2222222222222222,
              "#7201a8"
             ],
             [
              0.3333333333333333,
              "#9c179e"
             ],
             [
              0.4444444444444444,
              "#bd3786"
             ],
             [
              0.5555555555555556,
              "#d8576b"
             ],
             [
              0.6666666666666666,
              "#ed7953"
             ],
             [
              0.7777777777777778,
              "#fb9f3a"
             ],
             [
              0.8888888888888888,
              "#fdca26"
             ],
             [
              1,
              "#f0f921"
             ]
            ],
            "type": "contour"
           }
          ],
          "contourcarpet": [
           {
            "colorbar": {
             "outlinewidth": 0,
             "ticks": ""
            },
            "type": "contourcarpet"
           }
          ],
          "heatmap": [
           {
            "colorbar": {
             "outlinewidth": 0,
             "ticks": ""
            },
            "colorscale": [
             [
              0,
              "#0d0887"
             ],
             [
              0.1111111111111111,
              "#46039f"
             ],
             [
              0.2222222222222222,
              "#7201a8"
             ],
             [
              0.3333333333333333,
              "#9c179e"
             ],
             [
              0.4444444444444444,
              "#bd3786"
             ],
             [
              0.5555555555555556,
              "#d8576b"
             ],
             [
              0.6666666666666666,
              "#ed7953"
             ],
             [
              0.7777777777777778,
              "#fb9f3a"
             ],
             [
              0.8888888888888888,
              "#fdca26"
             ],
             [
              1,
              "#f0f921"
             ]
            ],
            "type": "heatmap"
           }
          ],
          "heatmapgl": [
           {
            "colorbar": {
             "outlinewidth": 0,
             "ticks": ""
            },
            "colorscale": [
             [
              0,
              "#0d0887"
             ],
             [
              0.1111111111111111,
              "#46039f"
             ],
             [
              0.2222222222222222,
              "#7201a8"
             ],
             [
              0.3333333333333333,
              "#9c179e"
             ],
             [
              0.4444444444444444,
              "#bd3786"
             ],
             [
              0.5555555555555556,
              "#d8576b"
             ],
             [
              0.6666666666666666,
              "#ed7953"
             ],
             [
              0.7777777777777778,
              "#fb9f3a"
             ],
             [
              0.8888888888888888,
              "#fdca26"
             ],
             [
              1,
              "#f0f921"
             ]
            ],
            "type": "heatmapgl"
           }
          ],
          "histogram": [
           {
            "marker": {
             "pattern": {
              "fillmode": "overlay",
              "size": 10,
              "solidity": 0.2
             }
            },
            "type": "histogram"
           }
          ],
          "histogram2d": [
           {
            "colorbar": {
             "outlinewidth": 0,
             "ticks": ""
            },
            "colorscale": [
             [
              0,
              "#0d0887"
             ],
             [
              0.1111111111111111,
              "#46039f"
             ],
             [
              0.2222222222222222,
              "#7201a8"
             ],
             [
              0.3333333333333333,
              "#9c179e"
             ],
             [
              0.4444444444444444,
              "#bd3786"
             ],
             [
              0.5555555555555556,
              "#d8576b"
             ],
             [
              0.6666666666666666,
              "#ed7953"
             ],
             [
              0.7777777777777778,
              "#fb9f3a"
             ],
             [
              0.8888888888888888,
              "#fdca26"
             ],
             [
              1,
              "#f0f921"
             ]
            ],
            "type": "histogram2d"
           }
          ],
          "histogram2dcontour": [
           {
            "colorbar": {
             "outlinewidth": 0,
             "ticks": ""
            },
            "colorscale": [
             [
              0,
              "#0d0887"
             ],
             [
              0.1111111111111111,
              "#46039f"
             ],
             [
              0.2222222222222222,
              "#7201a8"
             ],
             [
              0.3333333333333333,
              "#9c179e"
             ],
             [
              0.4444444444444444,
              "#bd3786"
             ],
             [
              0.5555555555555556,
              "#d8576b"
             ],
             [
              0.6666666666666666,
              "#ed7953"
             ],
             [
              0.7777777777777778,
              "#fb9f3a"
             ],
             [
              0.8888888888888888,
              "#fdca26"
             ],
             [
              1,
              "#f0f921"
             ]
            ],
            "type": "histogram2dcontour"
           }
          ],
          "mesh3d": [
           {
            "colorbar": {
             "outlinewidth": 0,
             "ticks": ""
            },
            "type": "mesh3d"
           }
          ],
          "parcoords": [
           {
            "line": {
             "colorbar": {
              "outlinewidth": 0,
              "ticks": ""
             }
            },
            "type": "parcoords"
           }
          ],
          "pie": [
           {
            "automargin": true,
            "type": "pie"
           }
          ],
          "scatter": [
           {
            "fillpattern": {
             "fillmode": "overlay",
             "size": 10,
             "solidity": 0.2
            },
            "type": "scatter"
           }
          ],
          "scatter3d": [
           {
            "line": {
             "colorbar": {
              "outlinewidth": 0,
              "ticks": ""
             }
            },
            "marker": {
             "colorbar": {
              "outlinewidth": 0,
              "ticks": ""
             }
            },
            "type": "scatter3d"
           }
          ],
          "scattercarpet": [
           {
            "marker": {
             "colorbar": {
              "outlinewidth": 0,
              "ticks": ""
             }
            },
            "type": "scattercarpet"
           }
          ],
          "scattergeo": [
           {
            "marker": {
             "colorbar": {
              "outlinewidth": 0,
              "ticks": ""
             }
            },
            "type": "scattergeo"
           }
          ],
          "scattergl": [
           {
            "marker": {
             "colorbar": {
              "outlinewidth": 0,
              "ticks": ""
             }
            },
            "type": "scattergl"
           }
          ],
          "scattermapbox": [
           {
            "marker": {
             "colorbar": {
              "outlinewidth": 0,
              "ticks": ""
             }
            },
            "type": "scattermapbox"
           }
          ],
          "scatterpolar": [
           {
            "marker": {
             "colorbar": {
              "outlinewidth": 0,
              "ticks": ""
             }
            },
            "type": "scatterpolar"
           }
          ],
          "scatterpolargl": [
           {
            "marker": {
             "colorbar": {
              "outlinewidth": 0,
              "ticks": ""
             }
            },
            "type": "scatterpolargl"
           }
          ],
          "scatterternary": [
           {
            "marker": {
             "colorbar": {
              "outlinewidth": 0,
              "ticks": ""
             }
            },
            "type": "scatterternary"
           }
          ],
          "surface": [
           {
            "colorbar": {
             "outlinewidth": 0,
             "ticks": ""
            },
            "colorscale": [
             [
              0,
              "#0d0887"
             ],
             [
              0.1111111111111111,
              "#46039f"
             ],
             [
              0.2222222222222222,
              "#7201a8"
             ],
             [
              0.3333333333333333,
              "#9c179e"
             ],
             [
              0.4444444444444444,
              "#bd3786"
             ],
             [
              0.5555555555555556,
              "#d8576b"
             ],
             [
              0.6666666666666666,
              "#ed7953"
             ],
             [
              0.7777777777777778,
              "#fb9f3a"
             ],
             [
              0.8888888888888888,
              "#fdca26"
             ],
             [
              1,
              "#f0f921"
             ]
            ],
            "type": "surface"
           }
          ],
          "table": [
           {
            "cells": {
             "fill": {
              "color": "#EBF0F8"
             },
             "line": {
              "color": "white"
             }
            },
            "header": {
             "fill": {
              "color": "#C8D4E3"
             },
             "line": {
              "color": "white"
             }
            },
            "type": "table"
           }
          ]
         },
         "layout": {
          "annotationdefaults": {
           "arrowcolor": "#2a3f5f",
           "arrowhead": 0,
           "arrowwidth": 1
          },
          "autotypenumbers": "strict",
          "coloraxis": {
           "colorbar": {
            "outlinewidth": 0,
            "ticks": ""
           }
          },
          "colorscale": {
           "diverging": [
            [
             0,
             "#8e0152"
            ],
            [
             0.1,
             "#c51b7d"
            ],
            [
             0.2,
             "#de77ae"
            ],
            [
             0.3,
             "#f1b6da"
            ],
            [
             0.4,
             "#fde0ef"
            ],
            [
             0.5,
             "#f7f7f7"
            ],
            [
             0.6,
             "#e6f5d0"
            ],
            [
             0.7,
             "#b8e186"
            ],
            [
             0.8,
             "#7fbc41"
            ],
            [
             0.9,
             "#4d9221"
            ],
            [
             1,
             "#276419"
            ]
           ],
           "sequential": [
            [
             0,
             "#0d0887"
            ],
            [
             0.1111111111111111,
             "#46039f"
            ],
            [
             0.2222222222222222,
             "#7201a8"
            ],
            [
             0.3333333333333333,
             "#9c179e"
            ],
            [
             0.4444444444444444,
             "#bd3786"
            ],
            [
             0.5555555555555556,
             "#d8576b"
            ],
            [
             0.6666666666666666,
             "#ed7953"
            ],
            [
             0.7777777777777778,
             "#fb9f3a"
            ],
            [
             0.8888888888888888,
             "#fdca26"
            ],
            [
             1,
             "#f0f921"
            ]
           ],
           "sequentialminus": [
            [
             0,
             "#0d0887"
            ],
            [
             0.1111111111111111,
             "#46039f"
            ],
            [
             0.2222222222222222,
             "#7201a8"
            ],
            [
             0.3333333333333333,
             "#9c179e"
            ],
            [
             0.4444444444444444,
             "#bd3786"
            ],
            [
             0.5555555555555556,
             "#d8576b"
            ],
            [
             0.6666666666666666,
             "#ed7953"
            ],
            [
             0.7777777777777778,
             "#fb9f3a"
            ],
            [
             0.8888888888888888,
             "#fdca26"
            ],
            [
             1,
             "#f0f921"
            ]
           ]
          },
          "colorway": [
           "#636efa",
           "#EF553B",
           "#00cc96",
           "#ab63fa",
           "#FFA15A",
           "#19d3f3",
           "#FF6692",
           "#B6E880",
           "#FF97FF",
           "#FECB52"
          ],
          "font": {
           "color": "#2a3f5f"
          },
          "geo": {
           "bgcolor": "white",
           "lakecolor": "white",
           "landcolor": "#E5ECF6",
           "showlakes": true,
           "showland": true,
           "subunitcolor": "white"
          },
          "hoverlabel": {
           "align": "left"
          },
          "hovermode": "closest",
          "mapbox": {
           "style": "light"
          },
          "paper_bgcolor": "white",
          "plot_bgcolor": "#E5ECF6",
          "polar": {
           "angularaxis": {
            "gridcolor": "white",
            "linecolor": "white",
            "ticks": ""
           },
           "bgcolor": "#E5ECF6",
           "radialaxis": {
            "gridcolor": "white",
            "linecolor": "white",
            "ticks": ""
           }
          },
          "scene": {
           "xaxis": {
            "backgroundcolor": "#E5ECF6",
            "gridcolor": "white",
            "gridwidth": 2,
            "linecolor": "white",
            "showbackground": true,
            "ticks": "",
            "zerolinecolor": "white"
           },
           "yaxis": {
            "backgroundcolor": "#E5ECF6",
            "gridcolor": "white",
            "gridwidth": 2,
            "linecolor": "white",
            "showbackground": true,
            "ticks": "",
            "zerolinecolor": "white"
           },
           "zaxis": {
            "backgroundcolor": "#E5ECF6",
            "gridcolor": "white",
            "gridwidth": 2,
            "linecolor": "white",
            "showbackground": true,
            "ticks": "",
            "zerolinecolor": "white"
           }
          },
          "shapedefaults": {
           "line": {
            "color": "#2a3f5f"
           }
          },
          "ternary": {
           "aaxis": {
            "gridcolor": "white",
            "linecolor": "white",
            "ticks": ""
           },
           "baxis": {
            "gridcolor": "white",
            "linecolor": "white",
            "ticks": ""
           },
           "bgcolor": "#E5ECF6",
           "caxis": {
            "gridcolor": "white",
            "linecolor": "white",
            "ticks": ""
           }
          },
          "title": {
           "x": 0.05
          },
          "xaxis": {
           "automargin": true,
           "gridcolor": "white",
           "linecolor": "white",
           "ticks": "",
           "title": {
            "standoff": 15
           },
           "zerolinecolor": "white",
           "zerolinewidth": 2
          },
          "yaxis": {
           "automargin": true,
           "gridcolor": "white",
           "linecolor": "white",
           "ticks": "",
           "title": {
            "standoff": 15
           },
           "zerolinecolor": "white",
           "zerolinewidth": 2
          }
         }
        },
        "title": {
         "text": "LAID considering differents days of simulation"
        },
        "xaxis": {
         "title": {
          "text": "Days of Simulation"
         }
        },
        "yaxis": {
         "title": {
          "text": "LAID"
         }
        }
       }
      }
     },
     "metadata": {},
     "output_type": "display_data"
    }
   ],
   "source": [
    "fig = go.Figure()\n",
    "fig.add_trace(go.Scatter(y=out1['LAID'], name='1 day'))\n",
    "fig.add_trace(go.Scatter(y=out2['LAID'], name='2 days'))\n",
    "fig.add_trace(go.Scatter(y=out3['LAID'], name='3 days'))\n",
    "fig.add_trace(go.Scatter(y=out4['LAID'], name='4 days'))\n",
    "fig.add_trace(go.Scatter(y=out5['LAID'], name='5 days'))\n",
    "fig.update_layout(title='LAID considering differents days of simulation',\n",
    "                xaxis_title='Days of Simulation',\n",
    "                yaxis_title='LAID')\n",
    "fig.show()"
   ]
  },
  {
   "cell_type": "code",
   "execution_count": 38,
   "metadata": {},
   "outputs": [
    {
     "data": {
      "application/vnd.plotly.v1+json": {
       "config": {
        "plotlyServerURL": "https://plot.ly"
       },
       "data": [
        {
         "name": "1 day",
         "type": "scatter",
         "y": [
          0,
          0,
          0,
          0,
          0,
          0,
          0,
          0,
          0,
          0,
          0,
          0,
          0,
          0,
          0,
          0,
          0,
          0,
          0,
          0,
          0,
          0,
          0,
          0,
          0,
          0,
          0,
          0,
          0,
          0,
          0,
          0,
          0,
          0,
          0,
          0,
          0,
          0,
          0,
          0,
          0,
          0.2,
          0.5,
          0.9,
          1.5,
          2.3,
          3.1,
          3.9,
          4.5,
          5.1,
          5.4,
          6.3,
          7.1,
          7.7,
          8.2,
          8.6,
          9.1,
          9.5,
          9.8,
          10,
          10.3,
          10.6,
          10.8,
          11.1,
          11.3,
          11.6,
          11.8,
          12.1,
          12.3,
          12.6,
          12.7,
          12.9,
          13,
          13.2,
          13.3,
          13.4,
          13.6,
          13.7,
          13.9,
          14,
          14.1,
          14.3,
          14.4,
          14.5,
          14.6,
          14.7,
          14.8,
          14.9,
          15,
          15.1,
          15.2,
          15.3,
          15.4,
          15.5,
          15.6,
          15.6,
          15.7,
          15.8,
          15.9,
          15.9,
          16,
          16.1,
          16.1,
          16.2,
          16.2,
          16.3,
          16.4,
          16.4
         ]
        },
        {
         "name": "2 days",
         "type": "scatter",
         "y": [
          0,
          0,
          0,
          0,
          0,
          0,
          0,
          0,
          0,
          0,
          0,
          0,
          0,
          0,
          0,
          0,
          0,
          0,
          0,
          0,
          0,
          0,
          0,
          0,
          0,
          0,
          0,
          0,
          0,
          0,
          0,
          0,
          0,
          0,
          0,
          0,
          0,
          0,
          0,
          0,
          0,
          0.2,
          0.5,
          0.9,
          1.5,
          2.3,
          3.1,
          3.9,
          4.5,
          5.1,
          5.6,
          6.4,
          7.2,
          8,
          8.8,
          9.7,
          10.5,
          11.3,
          12.1,
          12.9,
          13.7,
          14.5,
          15.4,
          16.2,
          17,
          17.8,
          18.5,
          19.3,
          20.1,
          20.9,
          21.6,
          22.4,
          23.2,
          24,
          24.8,
          25.6,
          26.3,
          27.1,
          27.9,
          28.7,
          29.4,
          30.1,
          30.7,
          31.2,
          31.6,
          32,
          32.3,
          32.7,
          33,
          33.3,
          33.5,
          33.8,
          34,
          34.2,
          34.4,
          34.5,
          34.6,
          34.7,
          34.8,
          34.9,
          35,
          35.1,
          35.2,
          35.3,
          35.4,
          35.5,
          35.6,
          35.6
         ]
        },
        {
         "name": "3 days",
         "type": "scatter",
         "y": [
          0,
          0,
          0,
          0,
          0,
          0,
          0,
          0,
          0,
          0,
          0,
          0,
          0,
          0,
          0,
          0,
          0,
          0,
          0,
          0,
          0,
          0,
          0,
          0,
          0,
          0,
          0,
          0,
          0,
          0,
          0,
          0,
          0,
          0,
          0,
          0,
          0,
          0,
          0,
          0,
          0,
          0.2,
          0.5,
          0.9,
          1.5,
          2.3,
          3.1,
          3.9,
          4.5,
          5.1,
          5.6,
          6.4,
          7.2,
          8,
          8.8,
          9.7,
          10.5,
          11.3,
          12.1,
          12.9,
          13.7,
          14.5,
          15.4,
          16.2,
          17,
          17.8,
          18.5,
          19.3,
          20.1,
          20.9,
          21.6,
          22.4,
          23.2,
          24,
          24.8,
          25.6,
          26.3,
          27.1,
          27.9,
          28.7,
          29.4,
          30.2,
          30.9,
          31.7,
          32.4,
          33.2,
          33.9,
          34.6,
          35.4,
          36.1,
          36.7,
          37.3,
          37.7,
          38.1,
          38.4,
          38.8,
          39.1,
          39.4,
          39.6,
          39.9,
          40.1,
          40.3,
          40.5,
          40.7,
          40.8,
          40.9,
          41.1,
          41.2
         ]
        },
        {
         "name": "4 days",
         "type": "scatter",
         "y": [
          0,
          0,
          0,
          0,
          0,
          0,
          0,
          0,
          0,
          0,
          0,
          0,
          0,
          0,
          0,
          0,
          0,
          0,
          0,
          0,
          0,
          0,
          0,
          0,
          0,
          0,
          0,
          0,
          0,
          0,
          0,
          0,
          0,
          0,
          0,
          0,
          0,
          0,
          0,
          0,
          0,
          0.2,
          0.5,
          0.9,
          1.5,
          2.3,
          3.1,
          3.9,
          4.5,
          5.1,
          5.6,
          6.4,
          7.2,
          8,
          8.8,
          9.7,
          10.5,
          11.3,
          12.1,
          12.9,
          13.7,
          14.5,
          15.4,
          16.2,
          17,
          17.8,
          18.5,
          19.3,
          20.1,
          20.9,
          21.6,
          22.4,
          23.2,
          24,
          24.8,
          25.6,
          26.3,
          27.1,
          27.9,
          28.7,
          29.4,
          30.2,
          30.9,
          31.7,
          32.4,
          33.2,
          33.9,
          34.6,
          35.4,
          36.1,
          36.8,
          37.5,
          38.2,
          38.9,
          39.6,
          40.3,
          41,
          41.7,
          42.3,
          42.8,
          43.2,
          43.6,
          44,
          44.3,
          44.6,
          44.8,
          45.1,
          45.3
         ]
        },
        {
         "name": "5 days",
         "type": "scatter",
         "y": [
          0,
          0,
          0,
          0,
          0,
          0,
          0,
          0,
          0,
          0,
          0,
          0,
          0,
          0,
          0,
          0,
          0,
          0,
          0,
          0,
          0,
          0,
          0,
          0,
          0,
          0,
          0,
          0,
          0,
          0,
          0,
          0,
          0,
          0,
          0,
          0,
          0,
          0,
          0,
          0,
          0,
          0.2,
          0.5,
          0.9,
          1.5,
          2.3,
          3.1,
          3.9,
          4.5,
          5.1,
          5.6,
          6.4,
          7.2,
          8,
          8.8,
          9.7,
          10.5,
          11.3,
          12.1,
          12.9,
          13.7,
          14.5,
          15.4,
          16.2,
          17,
          17.8,
          18.5,
          19.3,
          20.1,
          20.9,
          21.6,
          22.4,
          23.2,
          24,
          24.8,
          25.6,
          26.3,
          27.1,
          27.9,
          28.7,
          29.4,
          30.2,
          30.9,
          31.7,
          32.4,
          33.2,
          33.9,
          34.6,
          35.4,
          36.1,
          36.8,
          37.5,
          38.2,
          38.9,
          39.6,
          40.3,
          41,
          41.7,
          42.3,
          43,
          43.6,
          44.3,
          44.9,
          45.4,
          45.8,
          46.2,
          46.5,
          46.8
         ]
        }
       ],
       "layout": {
        "template": {
         "data": {
          "bar": [
           {
            "error_x": {
             "color": "#2a3f5f"
            },
            "error_y": {
             "color": "#2a3f5f"
            },
            "marker": {
             "line": {
              "color": "#E5ECF6",
              "width": 0.5
             },
             "pattern": {
              "fillmode": "overlay",
              "size": 10,
              "solidity": 0.2
             }
            },
            "type": "bar"
           }
          ],
          "barpolar": [
           {
            "marker": {
             "line": {
              "color": "#E5ECF6",
              "width": 0.5
             },
             "pattern": {
              "fillmode": "overlay",
              "size": 10,
              "solidity": 0.2
             }
            },
            "type": "barpolar"
           }
          ],
          "carpet": [
           {
            "aaxis": {
             "endlinecolor": "#2a3f5f",
             "gridcolor": "white",
             "linecolor": "white",
             "minorgridcolor": "white",
             "startlinecolor": "#2a3f5f"
            },
            "baxis": {
             "endlinecolor": "#2a3f5f",
             "gridcolor": "white",
             "linecolor": "white",
             "minorgridcolor": "white",
             "startlinecolor": "#2a3f5f"
            },
            "type": "carpet"
           }
          ],
          "choropleth": [
           {
            "colorbar": {
             "outlinewidth": 0,
             "ticks": ""
            },
            "type": "choropleth"
           }
          ],
          "contour": [
           {
            "colorbar": {
             "outlinewidth": 0,
             "ticks": ""
            },
            "colorscale": [
             [
              0,
              "#0d0887"
             ],
             [
              0.1111111111111111,
              "#46039f"
             ],
             [
              0.2222222222222222,
              "#7201a8"
             ],
             [
              0.3333333333333333,
              "#9c179e"
             ],
             [
              0.4444444444444444,
              "#bd3786"
             ],
             [
              0.5555555555555556,
              "#d8576b"
             ],
             [
              0.6666666666666666,
              "#ed7953"
             ],
             [
              0.7777777777777778,
              "#fb9f3a"
             ],
             [
              0.8888888888888888,
              "#fdca26"
             ],
             [
              1,
              "#f0f921"
             ]
            ],
            "type": "contour"
           }
          ],
          "contourcarpet": [
           {
            "colorbar": {
             "outlinewidth": 0,
             "ticks": ""
            },
            "type": "contourcarpet"
           }
          ],
          "heatmap": [
           {
            "colorbar": {
             "outlinewidth": 0,
             "ticks": ""
            },
            "colorscale": [
             [
              0,
              "#0d0887"
             ],
             [
              0.1111111111111111,
              "#46039f"
             ],
             [
              0.2222222222222222,
              "#7201a8"
             ],
             [
              0.3333333333333333,
              "#9c179e"
             ],
             [
              0.4444444444444444,
              "#bd3786"
             ],
             [
              0.5555555555555556,
              "#d8576b"
             ],
             [
              0.6666666666666666,
              "#ed7953"
             ],
             [
              0.7777777777777778,
              "#fb9f3a"
             ],
             [
              0.8888888888888888,
              "#fdca26"
             ],
             [
              1,
              "#f0f921"
             ]
            ],
            "type": "heatmap"
           }
          ],
          "heatmapgl": [
           {
            "colorbar": {
             "outlinewidth": 0,
             "ticks": ""
            },
            "colorscale": [
             [
              0,
              "#0d0887"
             ],
             [
              0.1111111111111111,
              "#46039f"
             ],
             [
              0.2222222222222222,
              "#7201a8"
             ],
             [
              0.3333333333333333,
              "#9c179e"
             ],
             [
              0.4444444444444444,
              "#bd3786"
             ],
             [
              0.5555555555555556,
              "#d8576b"
             ],
             [
              0.6666666666666666,
              "#ed7953"
             ],
             [
              0.7777777777777778,
              "#fb9f3a"
             ],
             [
              0.8888888888888888,
              "#fdca26"
             ],
             [
              1,
              "#f0f921"
             ]
            ],
            "type": "heatmapgl"
           }
          ],
          "histogram": [
           {
            "marker": {
             "pattern": {
              "fillmode": "overlay",
              "size": 10,
              "solidity": 0.2
             }
            },
            "type": "histogram"
           }
          ],
          "histogram2d": [
           {
            "colorbar": {
             "outlinewidth": 0,
             "ticks": ""
            },
            "colorscale": [
             [
              0,
              "#0d0887"
             ],
             [
              0.1111111111111111,
              "#46039f"
             ],
             [
              0.2222222222222222,
              "#7201a8"
             ],
             [
              0.3333333333333333,
              "#9c179e"
             ],
             [
              0.4444444444444444,
              "#bd3786"
             ],
             [
              0.5555555555555556,
              "#d8576b"
             ],
             [
              0.6666666666666666,
              "#ed7953"
             ],
             [
              0.7777777777777778,
              "#fb9f3a"
             ],
             [
              0.8888888888888888,
              "#fdca26"
             ],
             [
              1,
              "#f0f921"
             ]
            ],
            "type": "histogram2d"
           }
          ],
          "histogram2dcontour": [
           {
            "colorbar": {
             "outlinewidth": 0,
             "ticks": ""
            },
            "colorscale": [
             [
              0,
              "#0d0887"
             ],
             [
              0.1111111111111111,
              "#46039f"
             ],
             [
              0.2222222222222222,
              "#7201a8"
             ],
             [
              0.3333333333333333,
              "#9c179e"
             ],
             [
              0.4444444444444444,
              "#bd3786"
             ],
             [
              0.5555555555555556,
              "#d8576b"
             ],
             [
              0.6666666666666666,
              "#ed7953"
             ],
             [
              0.7777777777777778,
              "#fb9f3a"
             ],
             [
              0.8888888888888888,
              "#fdca26"
             ],
             [
              1,
              "#f0f921"
             ]
            ],
            "type": "histogram2dcontour"
           }
          ],
          "mesh3d": [
           {
            "colorbar": {
             "outlinewidth": 0,
             "ticks": ""
            },
            "type": "mesh3d"
           }
          ],
          "parcoords": [
           {
            "line": {
             "colorbar": {
              "outlinewidth": 0,
              "ticks": ""
             }
            },
            "type": "parcoords"
           }
          ],
          "pie": [
           {
            "automargin": true,
            "type": "pie"
           }
          ],
          "scatter": [
           {
            "fillpattern": {
             "fillmode": "overlay",
             "size": 10,
             "solidity": 0.2
            },
            "type": "scatter"
           }
          ],
          "scatter3d": [
           {
            "line": {
             "colorbar": {
              "outlinewidth": 0,
              "ticks": ""
             }
            },
            "marker": {
             "colorbar": {
              "outlinewidth": 0,
              "ticks": ""
             }
            },
            "type": "scatter3d"
           }
          ],
          "scattercarpet": [
           {
            "marker": {
             "colorbar": {
              "outlinewidth": 0,
              "ticks": ""
             }
            },
            "type": "scattercarpet"
           }
          ],
          "scattergeo": [
           {
            "marker": {
             "colorbar": {
              "outlinewidth": 0,
              "ticks": ""
             }
            },
            "type": "scattergeo"
           }
          ],
          "scattergl": [
           {
            "marker": {
             "colorbar": {
              "outlinewidth": 0,
              "ticks": ""
             }
            },
            "type": "scattergl"
           }
          ],
          "scattermapbox": [
           {
            "marker": {
             "colorbar": {
              "outlinewidth": 0,
              "ticks": ""
             }
            },
            "type": "scattermapbox"
           }
          ],
          "scatterpolar": [
           {
            "marker": {
             "colorbar": {
              "outlinewidth": 0,
              "ticks": ""
             }
            },
            "type": "scatterpolar"
           }
          ],
          "scatterpolargl": [
           {
            "marker": {
             "colorbar": {
              "outlinewidth": 0,
              "ticks": ""
             }
            },
            "type": "scatterpolargl"
           }
          ],
          "scatterternary": [
           {
            "marker": {
             "colorbar": {
              "outlinewidth": 0,
              "ticks": ""
             }
            },
            "type": "scatterternary"
           }
          ],
          "surface": [
           {
            "colorbar": {
             "outlinewidth": 0,
             "ticks": ""
            },
            "colorscale": [
             [
              0,
              "#0d0887"
             ],
             [
              0.1111111111111111,
              "#46039f"
             ],
             [
              0.2222222222222222,
              "#7201a8"
             ],
             [
              0.3333333333333333,
              "#9c179e"
             ],
             [
              0.4444444444444444,
              "#bd3786"
             ],
             [
              0.5555555555555556,
              "#d8576b"
             ],
             [
              0.6666666666666666,
              "#ed7953"
             ],
             [
              0.7777777777777778,
              "#fb9f3a"
             ],
             [
              0.8888888888888888,
              "#fdca26"
             ],
             [
              1,
              "#f0f921"
             ]
            ],
            "type": "surface"
           }
          ],
          "table": [
           {
            "cells": {
             "fill": {
              "color": "#EBF0F8"
             },
             "line": {
              "color": "white"
             }
            },
            "header": {
             "fill": {
              "color": "#C8D4E3"
             },
             "line": {
              "color": "white"
             }
            },
            "type": "table"
           }
          ]
         },
         "layout": {
          "annotationdefaults": {
           "arrowcolor": "#2a3f5f",
           "arrowhead": 0,
           "arrowwidth": 1
          },
          "autotypenumbers": "strict",
          "coloraxis": {
           "colorbar": {
            "outlinewidth": 0,
            "ticks": ""
           }
          },
          "colorscale": {
           "diverging": [
            [
             0,
             "#8e0152"
            ],
            [
             0.1,
             "#c51b7d"
            ],
            [
             0.2,
             "#de77ae"
            ],
            [
             0.3,
             "#f1b6da"
            ],
            [
             0.4,
             "#fde0ef"
            ],
            [
             0.5,
             "#f7f7f7"
            ],
            [
             0.6,
             "#e6f5d0"
            ],
            [
             0.7,
             "#b8e186"
            ],
            [
             0.8,
             "#7fbc41"
            ],
            [
             0.9,
             "#4d9221"
            ],
            [
             1,
             "#276419"
            ]
           ],
           "sequential": [
            [
             0,
             "#0d0887"
            ],
            [
             0.1111111111111111,
             "#46039f"
            ],
            [
             0.2222222222222222,
             "#7201a8"
            ],
            [
             0.3333333333333333,
             "#9c179e"
            ],
            [
             0.4444444444444444,
             "#bd3786"
            ],
            [
             0.5555555555555556,
             "#d8576b"
            ],
            [
             0.6666666666666666,
             "#ed7953"
            ],
            [
             0.7777777777777778,
             "#fb9f3a"
            ],
            [
             0.8888888888888888,
             "#fdca26"
            ],
            [
             1,
             "#f0f921"
            ]
           ],
           "sequentialminus": [
            [
             0,
             "#0d0887"
            ],
            [
             0.1111111111111111,
             "#46039f"
            ],
            [
             0.2222222222222222,
             "#7201a8"
            ],
            [
             0.3333333333333333,
             "#9c179e"
            ],
            [
             0.4444444444444444,
             "#bd3786"
            ],
            [
             0.5555555555555556,
             "#d8576b"
            ],
            [
             0.6666666666666666,
             "#ed7953"
            ],
            [
             0.7777777777777778,
             "#fb9f3a"
            ],
            [
             0.8888888888888888,
             "#fdca26"
            ],
            [
             1,
             "#f0f921"
            ]
           ]
          },
          "colorway": [
           "#636efa",
           "#EF553B",
           "#00cc96",
           "#ab63fa",
           "#FFA15A",
           "#19d3f3",
           "#FF6692",
           "#B6E880",
           "#FF97FF",
           "#FECB52"
          ],
          "font": {
           "color": "#2a3f5f"
          },
          "geo": {
           "bgcolor": "white",
           "lakecolor": "white",
           "landcolor": "#E5ECF6",
           "showlakes": true,
           "showland": true,
           "subunitcolor": "white"
          },
          "hoverlabel": {
           "align": "left"
          },
          "hovermode": "closest",
          "mapbox": {
           "style": "light"
          },
          "paper_bgcolor": "white",
          "plot_bgcolor": "#E5ECF6",
          "polar": {
           "angularaxis": {
            "gridcolor": "white",
            "linecolor": "white",
            "ticks": ""
           },
           "bgcolor": "#E5ECF6",
           "radialaxis": {
            "gridcolor": "white",
            "linecolor": "white",
            "ticks": ""
           }
          },
          "scene": {
           "xaxis": {
            "backgroundcolor": "#E5ECF6",
            "gridcolor": "white",
            "gridwidth": 2,
            "linecolor": "white",
            "showbackground": true,
            "ticks": "",
            "zerolinecolor": "white"
           },
           "yaxis": {
            "backgroundcolor": "#E5ECF6",
            "gridcolor": "white",
            "gridwidth": 2,
            "linecolor": "white",
            "showbackground": true,
            "ticks": "",
            "zerolinecolor": "white"
           },
           "zaxis": {
            "backgroundcolor": "#E5ECF6",
            "gridcolor": "white",
            "gridwidth": 2,
            "linecolor": "white",
            "showbackground": true,
            "ticks": "",
            "zerolinecolor": "white"
           }
          },
          "shapedefaults": {
           "line": {
            "color": "#2a3f5f"
           }
          },
          "ternary": {
           "aaxis": {
            "gridcolor": "white",
            "linecolor": "white",
            "ticks": ""
           },
           "baxis": {
            "gridcolor": "white",
            "linecolor": "white",
            "ticks": ""
           },
           "bgcolor": "#E5ECF6",
           "caxis": {
            "gridcolor": "white",
            "linecolor": "white",
            "ticks": ""
           }
          },
          "title": {
           "x": 0.05
          },
          "xaxis": {
           "automargin": true,
           "gridcolor": "white",
           "linecolor": "white",
           "ticks": "",
           "title": {
            "standoff": 15
           },
           "zerolinecolor": "white",
           "zerolinewidth": 2
          },
          "yaxis": {
           "automargin": true,
           "gridcolor": "white",
           "linecolor": "white",
           "ticks": "",
           "title": {
            "standoff": 15
           },
           "zerolinecolor": "white",
           "zerolinewidth": 2
          }
         }
        },
        "title": {
         "text": "UYAD considering differents days of simulation"
        },
        "xaxis": {
         "title": {
          "text": "Days of Simulation"
         }
        },
        "yaxis": {
         "title": {
          "text": "UYAD (Mg [fm]/ha)"
         }
        }
       }
      }
     },
     "metadata": {},
     "output_type": "display_data"
    }
   ],
   "source": [
    "fig = go.Figure()\n",
    "fig.add_trace(go.Scatter(y=out1['UYAD'], name='1 day'))\n",
    "fig.add_trace(go.Scatter(y=out2['UYAD'], name='2 days'))\n",
    "fig.add_trace(go.Scatter(y=out3['UYAD'], name='3 days'))\n",
    "fig.add_trace(go.Scatter(y=out4['UYAD'], name='4 days'))\n",
    "fig.add_trace(go.Scatter(y=out5['UYAD'], name='5 days'))\n",
    "fig.update_layout(title='UYAD considering differents days of simulation',\n",
    "                xaxis_title='Days of Simulation',\n",
    "                yaxis_title='UYAD (Mg [fm]/ha)')\n",
    "fig.show()"
   ]
  }
 ],
 "metadata": {
  "kernelspec": {
   "display_name": "Python 3",
   "language": "python",
   "name": "python3"
  },
  "language_info": {
   "codemirror_mode": {
    "name": "ipython",
    "version": 3
   },
   "file_extension": ".py",
   "mimetype": "text/x-python",
   "name": "python",
   "nbconvert_exporter": "python",
   "pygments_lexer": "ipython3",
   "version": "3.8.10"
  },
  "orig_nbformat": 4
 },
 "nbformat": 4,
 "nbformat_minor": 2
}
