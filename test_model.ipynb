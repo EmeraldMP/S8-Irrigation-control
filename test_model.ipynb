{
 "cells": [
  {
   "cell_type": "code",
   "execution_count": 1,
   "metadata": {},
   "outputs": [],
   "source": [
    "from build_model import CreateDSSAT"
   ]
  },
  {
   "attachments": {},
   "cell_type": "markdown",
   "metadata": {},
   "source": [
    "## Create the model\n",
    "\n",
    "Give the path and create the class CreateDSSAT()"
   ]
  },
  {
   "cell_type": "code",
   "execution_count": 2,
   "metadata": {},
   "outputs": [
    {
     "name": "stdout",
     "output_type": "stream",
     "text": [
      "\n"
     ]
    }
   ],
   "source": [
    "# Path of the weather and managment files\n",
    "wth_path = \"Data\\Weather\\Essai irrigation mod.xlsx\"\n",
    "man_path = \"Data\\Probes\\Sonde Robot 2 mod.xlsx\"\n",
    "\n",
    "# Create DSSAT object\n",
    "dssat = CreateDSSAT()\n",
    "\n",
    "# Create stations\n",
    "dssat.create_wth_station(wth_path)\n",
    "dssat.create_management(man_path)"
   ]
  },
  {
   "attachments": {},
   "cell_type": "markdown",
   "metadata": {},
   "source": [
    "Run the model with the given data"
   ]
  },
  {
   "cell_type": "code",
   "execution_count": 4,
   "metadata": {},
   "outputs": [
    {
     "name": "stdout",
     "output_type": "stream",
     "text": [
      "C:\\Users\\MELANI~1\\AppData\\Local\\Temp\\dssatlgiwxrtj created.\n",
      "Static files copied to C:\\Users\\MELANI~1\\AppData\\Local\\Temp\\dssatlgiwxrtj.\n",
      "RUN    TRT FLO MAT TOPWT HARWT  RAIN  TIRR   CET  PESW  TNUP  TNLF   TSON TSOC\n",
      "           dap dap kg/ha kg/ha    mm    mm    mm    mm kg/ha kg/ha  kg/ha t/ha\n",
      "  1 PT   1  40 -99  3147  1892     3    13    89    33     0   -99      0  211\n",
      "C:\\Users\\MELANI~1\\AppData\\Local\\Temp\\dssatlgiwxrtj and its content has been removed.\n"
     ]
    }
   ],
   "source": [
    "dssat.run_DSSAT()\n",
    "dssat.close_DSSAT()"
   ]
  },
  {
   "attachments": {},
   "cell_type": "markdown",
   "metadata": {},
   "source": [
    "Analyse de output, to acces the information of the variables use the dictionary dict_DSSAT defined as a attribute of the class"
   ]
  },
  {
   "cell_type": "code",
   "execution_count": 5,
   "metadata": {},
   "outputs": [
    {
     "name": "stdout",
     "output_type": "stream",
     "text": [
      "Index(['@YEAR', 'DOY', 'DAS', 'DAP', 'GSTD', 'LAID', 'UYAD', 'LWAD', 'SWAD',\n",
      "       'UWAD', 'RWAD', 'TWAD', 'CWAD', 'DWAD', 'HIAD', 'EWAD', 'E#AD', 'WSPD',\n",
      "       'WSGD', 'NSTD', 'LN%D', 'SH%D', 'SLAD', 'CHTD', 'CWID', 'EWSD', 'RDPD',\n",
      "       'RL1D', 'RL2D', 'RL3D', 'RL4D', 'RL5D', 'SNW0C', 'SNW1C',\n",
      "       'Unnamed: 34'],\n",
      "      dtype='object')\n",
      "LAID: Leaf area index\n"
     ]
    }
   ],
   "source": [
    "# print(dssat.output)\n",
    "print(dssat.output.columns)\n",
    "print('LAID:', dssat.dict_DSSAT['LAID'])"
   ]
  },
  {
   "cell_type": "code",
   "execution_count": 6,
   "metadata": {},
   "outputs": [
    {
     "data": {
      "application/vnd.plotly.v1+json": {
       "config": {
        "plotlyServerURL": "https://plot.ly"
       },
       "data": [
        {
         "hovertemplate": "DAP=%{x}<br>TWAD=%{y}<extra></extra>",
         "legendgroup": "",
         "line": {
          "color": "#636efa",
          "dash": "solid"
         },
         "marker": {
          "symbol": "circle"
         },
         "mode": "lines",
         "name": "",
         "orientation": "v",
         "showlegend": false,
         "type": "scatter",
         "x": [
          0,
          1,
          2,
          3,
          4,
          5,
          6,
          7,
          8,
          9,
          10,
          11,
          12,
          13,
          14,
          15,
          16,
          17,
          18,
          19,
          20,
          21,
          22,
          23,
          24,
          25,
          26,
          27,
          28,
          29,
          30,
          31,
          32,
          33,
          34,
          35,
          36,
          37,
          38,
          39,
          40,
          41,
          42,
          43,
          44,
          45,
          46,
          47,
          48,
          49,
          50,
          51,
          52,
          53,
          54,
          55,
          56,
          57,
          58,
          59,
          60,
          61,
          62,
          63,
          64,
          65,
          66,
          67,
          68,
          69,
          70,
          71,
          72,
          73,
          74,
          75,
          76,
          77,
          78,
          79,
          80,
          81,
          82,
          83,
          84,
          85,
          86,
          87,
          88,
          89,
          90,
          91,
          92,
          93,
          94,
          95,
          96,
          97,
          98,
          99,
          100,
          101,
          102,
          103,
          104,
          105,
          106,
          107
         ],
         "xaxis": "x",
         "y": [
          0,
          0,
          0,
          0,
          0,
          44,
          62,
          94,
          132,
          203,
          319,
          383,
          412,
          441,
          477,
          516,
          558,
          603,
          651,
          702,
          757,
          810,
          861,
          911,
          965,
          1017,
          1071,
          1122,
          1169,
          1236,
          1296,
          1380,
          1467,
          1550,
          1631,
          1725,
          1820,
          1908,
          2008,
          2111,
          2174,
          2239,
          2298,
          2357,
          2425,
          2519,
          2613,
          2677,
          2690,
          2718,
          2758,
          2797,
          2835,
          2870,
          2895,
          2925,
          2956,
          2969,
          2981,
          2988,
          2996,
          3001,
          3007,
          3013,
          3016,
          3023,
          3028,
          3035,
          3042,
          3048,
          3052,
          3057,
          3062,
          3066,
          3071,
          3076,
          3081,
          3086,
          3092,
          3093,
          3094,
          3095,
          3096,
          3096,
          3097,
          3098,
          3099,
          3101,
          3102,
          3104,
          3106,
          3107,
          3109,
          3111,
          3113,
          3116,
          3118,
          3120,
          3122,
          3125,
          3128,
          3131,
          3133,
          3136,
          3139,
          3141,
          3144,
          3147
         ],
         "yaxis": "y"
        }
       ],
       "layout": {
        "legend": {
         "tracegroupgap": 0
        },
        "template": {
         "data": {
          "bar": [
           {
            "error_x": {
             "color": "#2a3f5f"
            },
            "error_y": {
             "color": "#2a3f5f"
            },
            "marker": {
             "line": {
              "color": "#E5ECF6",
              "width": 0.5
             },
             "pattern": {
              "fillmode": "overlay",
              "size": 10,
              "solidity": 0.2
             }
            },
            "type": "bar"
           }
          ],
          "barpolar": [
           {
            "marker": {
             "line": {
              "color": "#E5ECF6",
              "width": 0.5
             },
             "pattern": {
              "fillmode": "overlay",
              "size": 10,
              "solidity": 0.2
             }
            },
            "type": "barpolar"
           }
          ],
          "carpet": [
           {
            "aaxis": {
             "endlinecolor": "#2a3f5f",
             "gridcolor": "white",
             "linecolor": "white",
             "minorgridcolor": "white",
             "startlinecolor": "#2a3f5f"
            },
            "baxis": {
             "endlinecolor": "#2a3f5f",
             "gridcolor": "white",
             "linecolor": "white",
             "minorgridcolor": "white",
             "startlinecolor": "#2a3f5f"
            },
            "type": "carpet"
           }
          ],
          "choropleth": [
           {
            "colorbar": {
             "outlinewidth": 0,
             "ticks": ""
            },
            "type": "choropleth"
           }
          ],
          "contour": [
           {
            "colorbar": {
             "outlinewidth": 0,
             "ticks": ""
            },
            "colorscale": [
             [
              0,
              "#0d0887"
             ],
             [
              0.1111111111111111,
              "#46039f"
             ],
             [
              0.2222222222222222,
              "#7201a8"
             ],
             [
              0.3333333333333333,
              "#9c179e"
             ],
             [
              0.4444444444444444,
              "#bd3786"
             ],
             [
              0.5555555555555556,
              "#d8576b"
             ],
             [
              0.6666666666666666,
              "#ed7953"
             ],
             [
              0.7777777777777778,
              "#fb9f3a"
             ],
             [
              0.8888888888888888,
              "#fdca26"
             ],
             [
              1,
              "#f0f921"
             ]
            ],
            "type": "contour"
           }
          ],
          "contourcarpet": [
           {
            "colorbar": {
             "outlinewidth": 0,
             "ticks": ""
            },
            "type": "contourcarpet"
           }
          ],
          "heatmap": [
           {
            "colorbar": {
             "outlinewidth": 0,
             "ticks": ""
            },
            "colorscale": [
             [
              0,
              "#0d0887"
             ],
             [
              0.1111111111111111,
              "#46039f"
             ],
             [
              0.2222222222222222,
              "#7201a8"
             ],
             [
              0.3333333333333333,
              "#9c179e"
             ],
             [
              0.4444444444444444,
              "#bd3786"
             ],
             [
              0.5555555555555556,
              "#d8576b"
             ],
             [
              0.6666666666666666,
              "#ed7953"
             ],
             [
              0.7777777777777778,
              "#fb9f3a"
             ],
             [
              0.8888888888888888,
              "#fdca26"
             ],
             [
              1,
              "#f0f921"
             ]
            ],
            "type": "heatmap"
           }
          ],
          "heatmapgl": [
           {
            "colorbar": {
             "outlinewidth": 0,
             "ticks": ""
            },
            "colorscale": [
             [
              0,
              "#0d0887"
             ],
             [
              0.1111111111111111,
              "#46039f"
             ],
             [
              0.2222222222222222,
              "#7201a8"
             ],
             [
              0.3333333333333333,
              "#9c179e"
             ],
             [
              0.4444444444444444,
              "#bd3786"
             ],
             [
              0.5555555555555556,
              "#d8576b"
             ],
             [
              0.6666666666666666,
              "#ed7953"
             ],
             [
              0.7777777777777778,
              "#fb9f3a"
             ],
             [
              0.8888888888888888,
              "#fdca26"
             ],
             [
              1,
              "#f0f921"
             ]
            ],
            "type": "heatmapgl"
           }
          ],
          "histogram": [
           {
            "marker": {
             "pattern": {
              "fillmode": "overlay",
              "size": 10,
              "solidity": 0.2
             }
            },
            "type": "histogram"
           }
          ],
          "histogram2d": [
           {
            "colorbar": {
             "outlinewidth": 0,
             "ticks": ""
            },
            "colorscale": [
             [
              0,
              "#0d0887"
             ],
             [
              0.1111111111111111,
              "#46039f"
             ],
             [
              0.2222222222222222,
              "#7201a8"
             ],
             [
              0.3333333333333333,
              "#9c179e"
             ],
             [
              0.4444444444444444,
              "#bd3786"
             ],
             [
              0.5555555555555556,
              "#d8576b"
             ],
             [
              0.6666666666666666,
              "#ed7953"
             ],
             [
              0.7777777777777778,
              "#fb9f3a"
             ],
             [
              0.8888888888888888,
              "#fdca26"
             ],
             [
              1,
              "#f0f921"
             ]
            ],
            "type": "histogram2d"
           }
          ],
          "histogram2dcontour": [
           {
            "colorbar": {
             "outlinewidth": 0,
             "ticks": ""
            },
            "colorscale": [
             [
              0,
              "#0d0887"
             ],
             [
              0.1111111111111111,
              "#46039f"
             ],
             [
              0.2222222222222222,
              "#7201a8"
             ],
             [
              0.3333333333333333,
              "#9c179e"
             ],
             [
              0.4444444444444444,
              "#bd3786"
             ],
             [
              0.5555555555555556,
              "#d8576b"
             ],
             [
              0.6666666666666666,
              "#ed7953"
             ],
             [
              0.7777777777777778,
              "#fb9f3a"
             ],
             [
              0.8888888888888888,
              "#fdca26"
             ],
             [
              1,
              "#f0f921"
             ]
            ],
            "type": "histogram2dcontour"
           }
          ],
          "mesh3d": [
           {
            "colorbar": {
             "outlinewidth": 0,
             "ticks": ""
            },
            "type": "mesh3d"
           }
          ],
          "parcoords": [
           {
            "line": {
             "colorbar": {
              "outlinewidth": 0,
              "ticks": ""
             }
            },
            "type": "parcoords"
           }
          ],
          "pie": [
           {
            "automargin": true,
            "type": "pie"
           }
          ],
          "scatter": [
           {
            "fillpattern": {
             "fillmode": "overlay",
             "size": 10,
             "solidity": 0.2
            },
            "type": "scatter"
           }
          ],
          "scatter3d": [
           {
            "line": {
             "colorbar": {
              "outlinewidth": 0,
              "ticks": ""
             }
            },
            "marker": {
             "colorbar": {
              "outlinewidth": 0,
              "ticks": ""
             }
            },
            "type": "scatter3d"
           }
          ],
          "scattercarpet": [
           {
            "marker": {
             "colorbar": {
              "outlinewidth": 0,
              "ticks": ""
             }
            },
            "type": "scattercarpet"
           }
          ],
          "scattergeo": [
           {
            "marker": {
             "colorbar": {
              "outlinewidth": 0,
              "ticks": ""
             }
            },
            "type": "scattergeo"
           }
          ],
          "scattergl": [
           {
            "marker": {
             "colorbar": {
              "outlinewidth": 0,
              "ticks": ""
             }
            },
            "type": "scattergl"
           }
          ],
          "scattermapbox": [
           {
            "marker": {
             "colorbar": {
              "outlinewidth": 0,
              "ticks": ""
             }
            },
            "type": "scattermapbox"
           }
          ],
          "scatterpolar": [
           {
            "marker": {
             "colorbar": {
              "outlinewidth": 0,
              "ticks": ""
             }
            },
            "type": "scatterpolar"
           }
          ],
          "scatterpolargl": [
           {
            "marker": {
             "colorbar": {
              "outlinewidth": 0,
              "ticks": ""
             }
            },
            "type": "scatterpolargl"
           }
          ],
          "scatterternary": [
           {
            "marker": {
             "colorbar": {
              "outlinewidth": 0,
              "ticks": ""
             }
            },
            "type": "scatterternary"
           }
          ],
          "surface": [
           {
            "colorbar": {
             "outlinewidth": 0,
             "ticks": ""
            },
            "colorscale": [
             [
              0,
              "#0d0887"
             ],
             [
              0.1111111111111111,
              "#46039f"
             ],
             [
              0.2222222222222222,
              "#7201a8"
             ],
             [
              0.3333333333333333,
              "#9c179e"
             ],
             [
              0.4444444444444444,
              "#bd3786"
             ],
             [
              0.5555555555555556,
              "#d8576b"
             ],
             [
              0.6666666666666666,
              "#ed7953"
             ],
             [
              0.7777777777777778,
              "#fb9f3a"
             ],
             [
              0.8888888888888888,
              "#fdca26"
             ],
             [
              1,
              "#f0f921"
             ]
            ],
            "type": "surface"
           }
          ],
          "table": [
           {
            "cells": {
             "fill": {
              "color": "#EBF0F8"
             },
             "line": {
              "color": "white"
             }
            },
            "header": {
             "fill": {
              "color": "#C8D4E3"
             },
             "line": {
              "color": "white"
             }
            },
            "type": "table"
           }
          ]
         },
         "layout": {
          "annotationdefaults": {
           "arrowcolor": "#2a3f5f",
           "arrowhead": 0,
           "arrowwidth": 1
          },
          "autotypenumbers": "strict",
          "coloraxis": {
           "colorbar": {
            "outlinewidth": 0,
            "ticks": ""
           }
          },
          "colorscale": {
           "diverging": [
            [
             0,
             "#8e0152"
            ],
            [
             0.1,
             "#c51b7d"
            ],
            [
             0.2,
             "#de77ae"
            ],
            [
             0.3,
             "#f1b6da"
            ],
            [
             0.4,
             "#fde0ef"
            ],
            [
             0.5,
             "#f7f7f7"
            ],
            [
             0.6,
             "#e6f5d0"
            ],
            [
             0.7,
             "#b8e186"
            ],
            [
             0.8,
             "#7fbc41"
            ],
            [
             0.9,
             "#4d9221"
            ],
            [
             1,
             "#276419"
            ]
           ],
           "sequential": [
            [
             0,
             "#0d0887"
            ],
            [
             0.1111111111111111,
             "#46039f"
            ],
            [
             0.2222222222222222,
             "#7201a8"
            ],
            [
             0.3333333333333333,
             "#9c179e"
            ],
            [
             0.4444444444444444,
             "#bd3786"
            ],
            [
             0.5555555555555556,
             "#d8576b"
            ],
            [
             0.6666666666666666,
             "#ed7953"
            ],
            [
             0.7777777777777778,
             "#fb9f3a"
            ],
            [
             0.8888888888888888,
             "#fdca26"
            ],
            [
             1,
             "#f0f921"
            ]
           ],
           "sequentialminus": [
            [
             0,
             "#0d0887"
            ],
            [
             0.1111111111111111,
             "#46039f"
            ],
            [
             0.2222222222222222,
             "#7201a8"
            ],
            [
             0.3333333333333333,
             "#9c179e"
            ],
            [
             0.4444444444444444,
             "#bd3786"
            ],
            [
             0.5555555555555556,
             "#d8576b"
            ],
            [
             0.6666666666666666,
             "#ed7953"
            ],
            [
             0.7777777777777778,
             "#fb9f3a"
            ],
            [
             0.8888888888888888,
             "#fdca26"
            ],
            [
             1,
             "#f0f921"
            ]
           ]
          },
          "colorway": [
           "#636efa",
           "#EF553B",
           "#00cc96",
           "#ab63fa",
           "#FFA15A",
           "#19d3f3",
           "#FF6692",
           "#B6E880",
           "#FF97FF",
           "#FECB52"
          ],
          "font": {
           "color": "#2a3f5f"
          },
          "geo": {
           "bgcolor": "white",
           "lakecolor": "white",
           "landcolor": "#E5ECF6",
           "showlakes": true,
           "showland": true,
           "subunitcolor": "white"
          },
          "hoverlabel": {
           "align": "left"
          },
          "hovermode": "closest",
          "mapbox": {
           "style": "light"
          },
          "paper_bgcolor": "white",
          "plot_bgcolor": "#E5ECF6",
          "polar": {
           "angularaxis": {
            "gridcolor": "white",
            "linecolor": "white",
            "ticks": ""
           },
           "bgcolor": "#E5ECF6",
           "radialaxis": {
            "gridcolor": "white",
            "linecolor": "white",
            "ticks": ""
           }
          },
          "scene": {
           "xaxis": {
            "backgroundcolor": "#E5ECF6",
            "gridcolor": "white",
            "gridwidth": 2,
            "linecolor": "white",
            "showbackground": true,
            "ticks": "",
            "zerolinecolor": "white"
           },
           "yaxis": {
            "backgroundcolor": "#E5ECF6",
            "gridcolor": "white",
            "gridwidth": 2,
            "linecolor": "white",
            "showbackground": true,
            "ticks": "",
            "zerolinecolor": "white"
           },
           "zaxis": {
            "backgroundcolor": "#E5ECF6",
            "gridcolor": "white",
            "gridwidth": 2,
            "linecolor": "white",
            "showbackground": true,
            "ticks": "",
            "zerolinecolor": "white"
           }
          },
          "shapedefaults": {
           "line": {
            "color": "#2a3f5f"
           }
          },
          "ternary": {
           "aaxis": {
            "gridcolor": "white",
            "linecolor": "white",
            "ticks": ""
           },
           "baxis": {
            "gridcolor": "white",
            "linecolor": "white",
            "ticks": ""
           },
           "bgcolor": "#E5ECF6",
           "caxis": {
            "gridcolor": "white",
            "linecolor": "white",
            "ticks": ""
           }
          },
          "title": {
           "x": 0.05
          },
          "xaxis": {
           "automargin": true,
           "gridcolor": "white",
           "linecolor": "white",
           "ticks": "",
           "title": {
            "standoff": 15
           },
           "zerolinecolor": "white",
           "zerolinewidth": 2
          },
          "yaxis": {
           "automargin": true,
           "gridcolor": "white",
           "linecolor": "white",
           "ticks": "",
           "title": {
            "standoff": 15
           },
           "zerolinecolor": "white",
           "zerolinewidth": 2
          }
         }
        },
        "title": {
         "text": "Plant grow"
        },
        "xaxis": {
         "anchor": "y",
         "domain": [
          0,
          1
         ],
         "title": {
          "text": "DAP"
         }
        },
        "yaxis": {
         "anchor": "x",
         "domain": [
          0,
          1
         ],
         "title": {
          "text": "TWAD"
         }
        }
       }
      }
     },
     "metadata": {},
     "output_type": "display_data"
    }
   ],
   "source": [
    "fig = dssat.output.plot(x='DAP', y='TWAD', title='Plant grow')\n",
    "fig.show()"
   ]
  },
  {
   "attachments": {},
   "cell_type": "markdown",
   "metadata": {},
   "source": [
    "## Optimize the irrigation for given dates\n",
    "\n",
    "We give dates optimize, and run the function"
   ]
  },
  {
   "cell_type": "code",
   "execution_count": 7,
   "metadata": {},
   "outputs": [
    {
     "name": "stdout",
     "output_type": "stream",
     "text": [
      "C:\\Users\\MELANI~1\\AppData\\Local\\Temp\\dssatknftghwf created.\n",
      "Static files copied to C:\\Users\\MELANI~1\\AppData\\Local\\Temp\\dssatknftghwf.\n",
      "RUN    TRT FLO MAT TOPWT HARWT  RAIN  TIRR   CET  PESW  TNUP  TNLF   TSON TSOC\n",
      "           dap dap kg/ha kg/ha    mm    mm    mm    mm kg/ha kg/ha  kg/ha t/ha\n",
      "  1 PT   1  40 -99  3147  1892     3    13    89    33     0   -99      0  211\n",
      "Output model save in attribute new_output\n",
      "C:\\Users\\MELANI~1\\AppData\\Local\\Temp\\dssatknftghwf and its content has been removed.\n",
      "TWAD: 3147       Sum irrigation: 123.20\n"
     ]
    },
    {
     "data": {
      "text/plain": [
       "0.80120401"
      ]
     },
     "execution_count": 7,
     "metadata": {},
     "output_type": "execute_result"
    }
   ],
   "source": [
    "dates = ['8-07-2022', '15-07-2022', '22-07-2022', '30-07-2022']\n",
    "dssat.next_dates = dates\n",
    "dssat.irri_cost((0, 0, 0, 0), save=True)\n",
    "# 0.3607097580593672"
   ]
  },
  {
   "cell_type": "code",
   "execution_count": 3,
   "metadata": {},
   "outputs": [
    {
     "name": "stdout",
     "output_type": "stream",
     "text": [
      "C:\\Users\\MELANI~1\\AppData\\Local\\Temp\\dssatjumywrpe created.\n",
      "Static files copied to C:\\Users\\MELANI~1\\AppData\\Local\\Temp\\dssatjumywrpe.\n",
      "RUN    TRT FLO MAT TOPWT HARWT  RAIN  TIRR   CET  PESW  TNUP  TNLF   TSON TSOC\n",
      "           dap dap kg/ha kg/ha    mm    mm    mm    mm kg/ha kg/ha  kg/ha t/ha\n",
      "  1 PT   1  40 -99 11362  9588     3   113   162    59     0   -99      0  211\n",
      "C:\\Users\\MELANI~1\\AppData\\Local\\Temp\\dssatjumywrpe and its content has been removed.\n",
      "TWAD: 11362       Sum irrigation: 223.20\n",
      "C:\\Users\\MELANI~1\\AppData\\Local\\Temp\\dssatxmszxzkh created.\n",
      "Static files copied to C:\\Users\\MELANI~1\\AppData\\Local\\Temp\\dssatxmszxzkh.\n",
      "RUN    TRT FLO MAT TOPWT HARWT  RAIN  TIRR   CET  PESW  TNUP  TNLF   TSON TSOC\n",
      "           dap dap kg/ha kg/ha    mm    mm    mm    mm kg/ha kg/ha  kg/ha t/ha\n",
      "  1 PT   1  40 -99 11362  9588     3   129   162    75     0   -99      0  211\n",
      "C:\\Users\\MELANI~1\\AppData\\Local\\Temp\\dssatxmszxzkh and its content has been removed.\n",
      "TWAD: 11362       Sum irrigation: 240.40\n",
      "C:\\Users\\MELANI~1\\AppData\\Local\\Temp\\dssatnfbgeuns created.\n",
      "Static files copied to C:\\Users\\MELANI~1\\AppData\\Local\\Temp\\dssatnfbgeuns.\n",
      "RUN    TRT FLO MAT TOPWT HARWT  RAIN  TIRR   CET  PESW  TNUP  TNLF   TSON TSOC\n",
      "           dap dap kg/ha kg/ha    mm    mm    mm    mm kg/ha kg/ha  kg/ha t/ha\n",
      "  1 PT   1  40 -99  9812  8221     3    88   148    48     0   -99      0  211\n",
      "C:\\Users\\MELANI~1\\AppData\\Local\\Temp\\dssatnfbgeuns and its content has been removed.\n",
      "TWAD: 9812       Sum irrigation: 199.20\n",
      "C:\\Users\\MELANI~1\\AppData\\Local\\Temp\\dssatqcyucosy created.\n",
      "Static files copied to C:\\Users\\MELANI~1\\AppData\\Local\\Temp\\dssatqcyucosy.\n",
      "RUN    TRT FLO MAT TOPWT HARWT  RAIN  TIRR   CET  PESW  TNUP  TNLF   TSON TSOC\n",
      "           dap dap kg/ha kg/ha    mm    mm    mm    mm kg/ha kg/ha  kg/ha t/ha\n",
      "  1 PT   1  40 -99 11362  9588     3   125   162    71     0   -99      0  211\n",
      "C:\\Users\\MELANI~1\\AppData\\Local\\Temp\\dssatqcyucosy and its content has been removed.\n",
      "TWAD: 11362       Sum irrigation: 236.90\n",
      "C:\\Users\\MELANI~1\\AppData\\Local\\Temp\\dssatccfaqabr created.\n",
      "Static files copied to C:\\Users\\MELANI~1\\AppData\\Local\\Temp\\dssatccfaqabr.\n",
      "RUN    TRT FLO MAT TOPWT HARWT  RAIN  TIRR   CET  PESW  TNUP  TNLF   TSON TSOC\n",
      "           dap dap kg/ha kg/ha    mm    mm    mm    mm kg/ha kg/ha  kg/ha t/ha\n",
      "  1 PT   1  40 -99 11190  9431     3   108   161    56     0   -99      0  211\n",
      "C:\\Users\\MELANI~1\\AppData\\Local\\Temp\\dssatccfaqabr and its content has been removed.\n",
      "TWAD: 11190       Sum irrigation: 220.10\n",
      "C:\\Users\\MELANI~1\\AppData\\Local\\Temp\\dssatoyypukny created.\n",
      "Static files copied to C:\\Users\\MELANI~1\\AppData\\Local\\Temp\\dssatoyypukny.\n",
      "RUN    TRT FLO MAT TOPWT HARWT  RAIN  TIRR   CET  PESW  TNUP  TNLF   TSON TSOC\n",
      "           dap dap kg/ha kg/ha    mm    mm    mm    mm kg/ha kg/ha  kg/ha t/ha\n",
      "  1 PT   1  40 -99 10341  8687     3    94   153    50     0   -99      0  211\n",
      "C:\\Users\\MELANI~1\\AppData\\Local\\Temp\\dssatoyypukny and its content has been removed.\n",
      "TWAD: 10341       Sum irrigation: 205.10\n",
      "C:\\Users\\MELANI~1\\AppData\\Local\\Temp\\dssatpeqbanix created.\n",
      "Static files copied to C:\\Users\\MELANI~1\\AppData\\Local\\Temp\\dssatpeqbanix.\n",
      "RUN    TRT FLO MAT TOPWT HARWT  RAIN  TIRR   CET  PESW  TNUP  TNLF   TSON TSOC\n",
      "           dap dap kg/ha kg/ha    mm    mm    mm    mm kg/ha kg/ha  kg/ha t/ha\n",
      "  1 PT   1  40 -99 10003  8388     3    90   150    48     0   -99      0  211\n",
      "C:\\Users\\MELANI~1\\AppData\\Local\\Temp\\dssatpeqbanix and its content has been removed.\n",
      "TWAD: 10003       Sum irrigation: 201.60\n",
      "C:\\Users\\MELANI~1\\AppData\\Local\\Temp\\dssathlmtlsco created.\n",
      "Static files copied to C:\\Users\\MELANI~1\\AppData\\Local\\Temp\\dssathlmtlsco.\n",
      "RUN    TRT FLO MAT TOPWT HARWT  RAIN  TIRR   CET  PESW  TNUP  TNLF   TSON TSOC\n",
      "           dap dap kg/ha kg/ha    mm    mm    mm    mm kg/ha kg/ha  kg/ha t/ha\n",
      "  1 PT   1  40 -99 11362  9588     3   124   162    70     0   -99      0  211\n",
      "C:\\Users\\MELANI~1\\AppData\\Local\\Temp\\dssathlmtlsco and its content has been removed.\n",
      "TWAD: 11362       Sum irrigation: 235.50\n",
      "C:\\Users\\MELANI~1\\AppData\\Local\\Temp\\dssatjtxrehpg created.\n",
      "Static files copied to C:\\Users\\MELANI~1\\AppData\\Local\\Temp\\dssatjtxrehpg.\n",
      "RUN    TRT FLO MAT TOPWT HARWT  RAIN  TIRR   CET  PESW  TNUP  TNLF   TSON TSOC\n",
      "           dap dap kg/ha kg/ha    mm    mm    mm    mm kg/ha kg/ha  kg/ha t/ha\n",
      "  1 PT   1  40 -99 10460  8792     3    96   154    50     0   -99      0  211\n",
      "C:\\Users\\MELANI~1\\AppData\\Local\\Temp\\dssatjtxrehpg and its content has been removed.\n",
      "TWAD: 10460       Sum irrigation: 207.50\n",
      "C:\\Users\\MELANI~1\\AppData\\Local\\Temp\\dssatcsjgsfug created.\n",
      "Static files copied to C:\\Users\\MELANI~1\\AppData\\Local\\Temp\\dssatcsjgsfug.\n",
      "RUN    TRT FLO MAT TOPWT HARWT  RAIN  TIRR   CET  PESW  TNUP  TNLF   TSON TSOC\n",
      "           dap dap kg/ha kg/ha    mm    mm    mm    mm kg/ha kg/ha  kg/ha t/ha\n",
      "  1 PT   1  40 -99 10890  9167     3   102   158    53     0   -99      0  211\n",
      "C:\\Users\\MELANI~1\\AppData\\Local\\Temp\\dssatcsjgsfug and its content has been removed.\n",
      "TWAD: 10890       Sum irrigation: 213.40\n",
      "C:\\Users\\MELANI~1\\AppData\\Local\\Temp\\dssatekfjryxi created.\n",
      "Static files copied to C:\\Users\\MELANI~1\\AppData\\Local\\Temp\\dssatekfjryxi.\n",
      "RUN    TRT FLO MAT TOPWT HARWT  RAIN  TIRR   CET  PESW  TNUP  TNLF   TSON TSOC\n",
      "           dap dap kg/ha kg/ha    mm    mm    mm    mm kg/ha kg/ha  kg/ha t/ha\n",
      "  1 PT   1  40 -99 10598  8912     3    98   155    51     0   -99      0  211\n",
      "C:\\Users\\MELANI~1\\AppData\\Local\\Temp\\dssatekfjryxi and its content has been removed.\n",
      "TWAD: 10598       Sum irrigation: 210.30\n",
      "C:\\Users\\MELANI~1\\AppData\\Local\\Temp\\dssatawzditrg created.\n",
      "Static files copied to C:\\Users\\MELANI~1\\AppData\\Local\\Temp\\dssatawzditrg.\n",
      "RUN    TRT FLO MAT TOPWT HARWT  RAIN  TIRR   CET  PESW  TNUP  TNLF   TSON TSOC\n",
      "           dap dap kg/ha kg/ha    mm    mm    mm    mm kg/ha kg/ha  kg/ha t/ha\n",
      "  1 PT   1  40 -99 11362  9588     3   125   162    71     0   -99      0  211\n",
      "C:\\Users\\MELANI~1\\AppData\\Local\\Temp\\dssatawzditrg and its content has been removed.\n",
      "TWAD: 11362       Sum irrigation: 236.40\n",
      "C:\\Users\\MELANI~1\\AppData\\Local\\Temp\\dssatvrhlwubo created.\n",
      "Static files copied to C:\\Users\\MELANI~1\\AppData\\Local\\Temp\\dssatvrhlwubo.\n",
      "RUN    TRT FLO MAT TOPWT HARWT  RAIN  TIRR   CET  PESW  TNUP  TNLF   TSON TSOC\n",
      "           dap dap kg/ha kg/ha    mm    mm    mm    mm kg/ha kg/ha  kg/ha t/ha\n",
      "  1 PT   1  40 -99 11152  9398     3   107   160    55     0   -99      0  211\n",
      "C:\\Users\\MELANI~1\\AppData\\Local\\Temp\\dssatvrhlwubo and its content has been removed.\n",
      "TWAD: 11152       Sum irrigation: 218.70\n",
      "C:\\Users\\MELANI~1\\AppData\\Local\\Temp\\dssaticbjheju created.\n",
      "Static files copied to C:\\Users\\MELANI~1\\AppData\\Local\\Temp\\dssaticbjheju.\n",
      "RUN    TRT FLO MAT TOPWT HARWT  RAIN  TIRR   CET  PESW  TNUP  TNLF   TSON TSOC\n",
      "           dap dap kg/ha kg/ha    mm    mm    mm    mm kg/ha kg/ha  kg/ha t/ha\n",
      "  1 PT   1  40 -99 11309  9523     3   110   162    56     0   -99      0  211\n",
      "C:\\Users\\MELANI~1\\AppData\\Local\\Temp\\dssaticbjheju and its content has been removed.\n",
      "TWAD: 11309       Sum irrigation: 221.50\n",
      "C:\\Users\\MELANI~1\\AppData\\Local\\Temp\\dssatasrvkvze created.\n",
      "Static files copied to C:\\Users\\MELANI~1\\AppData\\Local\\Temp\\dssatasrvkvze.\n",
      "RUN    TRT FLO MAT TOPWT HARWT  RAIN  TIRR   CET  PESW  TNUP  TNLF   TSON TSOC\n",
      "           dap dap kg/ha kg/ha    mm    mm    mm    mm kg/ha kg/ha  kg/ha t/ha\n",
      "  1 PT   1  40 -99  9707  8127     3    87   147    48     0   -99      0  211\n",
      "C:\\Users\\MELANI~1\\AppData\\Local\\Temp\\dssatasrvkvze and its content has been removed.\n",
      "TWAD: 9707       Sum irrigation: 198.60\n",
      "C:\\Users\\MELANI~1\\AppData\\Local\\Temp\\dssatylzimavs created.\n",
      "Static files copied to C:\\Users\\MELANI~1\\AppData\\Local\\Temp\\dssatylzimavs.\n",
      "RUN    TRT FLO MAT TOPWT HARWT  RAIN  TIRR   CET  PESW  TNUP  TNLF   TSON TSOC\n",
      "           dap dap kg/ha kg/ha    mm    mm    mm    mm kg/ha kg/ha  kg/ha t/ha\n",
      "  1 PT   1  40 -99 11287  9516     3   110   162    57     0   -99      0  211\n",
      "C:\\Users\\MELANI~1\\AppData\\Local\\Temp\\dssatylzimavs and its content has been removed.\n",
      "TWAD: 11287       Sum irrigation: 221.30\n",
      "C:\\Users\\MELANI~1\\AppData\\Local\\Temp\\dssatmiplbvzd created.\n",
      "Static files copied to C:\\Users\\MELANI~1\\AppData\\Local\\Temp\\dssatmiplbvzd.\n",
      "RUN    TRT FLO MAT TOPWT HARWT  RAIN  TIRR   CET  PESW  TNUP  TNLF   TSON TSOC\n",
      "           dap dap kg/ha kg/ha    mm    mm    mm    mm kg/ha kg/ha  kg/ha t/ha\n",
      "  1 PT   1  40 -99 11112  9362     3   106   160    54     0   -99      0  211\n",
      "C:\\Users\\MELANI~1\\AppData\\Local\\Temp\\dssatmiplbvzd and its content has been removed.\n",
      "TWAD: 11112       Sum irrigation: 217.20\n",
      "C:\\Users\\MELANI~1\\AppData\\Local\\Temp\\dssatkepjekjl created.\n",
      "Static files copied to C:\\Users\\MELANI~1\\AppData\\Local\\Temp\\dssatkepjekjl.\n",
      "RUN    TRT FLO MAT TOPWT HARWT  RAIN  TIRR   CET  PESW  TNUP  TNLF   TSON TSOC\n",
      "           dap dap kg/ha kg/ha    mm    mm    mm    mm kg/ha kg/ha  kg/ha t/ha\n",
      "  1 PT   1  40 -99 10094  8470     3    91   150    49     0   -99      0  211\n",
      "C:\\Users\\MELANI~1\\AppData\\Local\\Temp\\dssatkepjekjl and its content has been removed.\n",
      "TWAD: 10094       Sum irrigation: 202.20\n",
      "C:\\Users\\MELANI~1\\AppData\\Local\\Temp\\dssatbejhjgmm created.\n",
      "Static files copied to C:\\Users\\MELANI~1\\AppData\\Local\\Temp\\dssatbejhjgmm.\n",
      "RUN    TRT FLO MAT TOPWT HARWT  RAIN  TIRR   CET  PESW  TNUP  TNLF   TSON TSOC\n",
      "           dap dap kg/ha kg/ha    mm    mm    mm    mm kg/ha kg/ha  kg/ha t/ha\n",
      "  1 PT   1  40 -99 10632  8941     3    98   155    51     0   -99      0  211\n",
      "C:\\Users\\MELANI~1\\AppData\\Local\\Temp\\dssatbejhjgmm and its content has been removed.\n",
      "TWAD: 10632       Sum irrigation: 209.60\n",
      "C:\\Users\\MELANI~1\\AppData\\Local\\Temp\\dssatnzspstod created.\n",
      "Static files copied to C:\\Users\\MELANI~1\\AppData\\Local\\Temp\\dssatnzspstod.\n",
      "RUN    TRT FLO MAT TOPWT HARWT  RAIN  TIRR   CET  PESW  TNUP  TNLF   TSON TSOC\n",
      "           dap dap kg/ha kg/ha    mm    mm    mm    mm kg/ha kg/ha  kg/ha t/ha\n",
      "  1 PT   1  40 -99  7749  6328     3    67   130    45     0   -99      0  211\n",
      "C:\\Users\\MELANI~1\\AppData\\Local\\Temp\\dssatnzspstod and its content has been removed.\n",
      "TWAD: 7749       Sum irrigation: 178.30\n",
      "C:\\Users\\MELANI~1\\AppData\\Local\\Temp\\dssatztaejvnj created.\n",
      "Static files copied to C:\\Users\\MELANI~1\\AppData\\Local\\Temp\\dssatztaejvnj.\n",
      "RUN    TRT FLO MAT TOPWT HARWT  RAIN  TIRR   CET  PESW  TNUP  TNLF   TSON TSOC\n",
      "           dap dap kg/ha kg/ha    mm    mm    mm    mm kg/ha kg/ha  kg/ha t/ha\n",
      "  1 PT   1  40 -99  9812  8221     3    88   148    48     0   -99      0  211\n",
      "C:\\Users\\MELANI~1\\AppData\\Local\\Temp\\dssatztaejvnj and its content has been removed.\n",
      "TWAD: 9812       Sum irrigation: 199.40\n",
      "C:\\Users\\MELANI~1\\AppData\\Local\\Temp\\dssathezpbgvq created.\n",
      "Static files copied to C:\\Users\\MELANI~1\\AppData\\Local\\Temp\\dssathezpbgvq.\n",
      "RUN    TRT FLO MAT TOPWT HARWT  RAIN  TIRR   CET  PESW  TNUP  TNLF   TSON TSOC\n",
      "           dap dap kg/ha kg/ha    mm    mm    mm    mm kg/ha kg/ha  kg/ha t/ha\n",
      "  1 PT   1  40 -99  8155  6707     3    71   134    45     0   -99      0  211\n",
      "C:\\Users\\MELANI~1\\AppData\\Local\\Temp\\dssathezpbgvq and its content has been removed.\n",
      "TWAD: 8155       Sum irrigation: 182.40\n",
      "C:\\Users\\MELANI~1\\AppData\\Local\\Temp\\dssatiwxldjwk created.\n",
      "Static files copied to C:\\Users\\MELANI~1\\AppData\\Local\\Temp\\dssatiwxldjwk.\n",
      "RUN    TRT FLO MAT TOPWT HARWT  RAIN  TIRR   CET  PESW  TNUP  TNLF   TSON TSOC\n",
      "           dap dap kg/ha kg/ha    mm    mm    mm    mm kg/ha kg/ha  kg/ha t/ha\n",
      "  1 PT   1  40 -99  7949  6519     3    69   132    45     0   -99      0  211\n",
      "C:\\Users\\MELANI~1\\AppData\\Local\\Temp\\dssatiwxldjwk and its content has been removed.\n",
      "TWAD: 7949       Sum irrigation: 180.00\n",
      "C:\\Users\\MELANI~1\\AppData\\Local\\Temp\\dssatflkraozh created.\n",
      "Static files copied to C:\\Users\\MELANI~1\\AppData\\Local\\Temp\\dssatflkraozh.\n",
      "RUN    TRT FLO MAT TOPWT HARWT  RAIN  TIRR   CET  PESW  TNUP  TNLF   TSON TSOC\n",
      "           dap dap kg/ha kg/ha    mm    mm    mm    mm kg/ha kg/ha  kg/ha t/ha\n",
      "  1 PT   1  40 -99 11362  9588     3   149   162    95     0   -99      0  211\n",
      "C:\\Users\\MELANI~1\\AppData\\Local\\Temp\\dssatflkraozh and its content has been removed.\n",
      "TWAD: 11362       Sum irrigation: 259.70\n",
      "C:\\Users\\MELANI~1\\AppData\\Local\\Temp\\dssatxrjsqaae created.\n",
      "Static files copied to C:\\Users\\MELANI~1\\AppData\\Local\\Temp\\dssatxrjsqaae.\n",
      "RUN    TRT FLO MAT TOPWT HARWT  RAIN  TIRR   CET  PESW  TNUP  TNLF   TSON TSOC\n",
      "           dap dap kg/ha kg/ha    mm    mm    mm    mm kg/ha kg/ha  kg/ha t/ha\n",
      "  1 PT   1  40 -99  9399  7847     3    84   145    48     0   -99      0  211\n",
      "C:\\Users\\MELANI~1\\AppData\\Local\\Temp\\dssatxrjsqaae and its content has been removed.\n",
      "TWAD: 9399       Sum irrigation: 195.50\n",
      "C:\\Users\\MELANI~1\\AppData\\Local\\Temp\\dssatbyuadehy created.\n",
      "Static files copied to C:\\Users\\MELANI~1\\AppData\\Local\\Temp\\dssatbyuadehy.\n",
      "RUN    TRT FLO MAT TOPWT HARWT  RAIN  TIRR   CET  PESW  TNUP  TNLF   TSON TSOC\n",
      "           dap dap kg/ha kg/ha    mm    mm    mm    mm kg/ha kg/ha  kg/ha t/ha\n",
      "  1 PT   1  40 -99  7555  6148     3    65   128    45     0   -99      0  211\n",
      "C:\\Users\\MELANI~1\\AppData\\Local\\Temp\\dssatbyuadehy and its content has been removed.\n",
      "TWAD: 7555       Sum irrigation: 176.30\n",
      "C:\\Users\\MELANI~1\\AppData\\Local\\Temp\\dssatmubrvnsx created.\n",
      "Static files copied to C:\\Users\\MELANI~1\\AppData\\Local\\Temp\\dssatmubrvnsx.\n",
      "RUN    TRT FLO MAT TOPWT HARWT  RAIN  TIRR   CET  PESW  TNUP  TNLF   TSON TSOC\n",
      "           dap dap kg/ha kg/ha    mm    mm    mm    mm kg/ha kg/ha  kg/ha t/ha\n",
      "  1 PT   1  40 -99  9290  7753     3    83   144    48     0   -99      0  211\n",
      "C:\\Users\\MELANI~1\\AppData\\Local\\Temp\\dssatmubrvnsx and its content has been removed.\n",
      "TWAD: 9290       Sum irrigation: 193.90\n",
      "C:\\Users\\MELANI~1\\AppData\\Local\\Temp\\dssatccvbsxrx created.\n",
      "Static files copied to C:\\Users\\MELANI~1\\AppData\\Local\\Temp\\dssatccvbsxrx.\n",
      "RUN    TRT FLO MAT TOPWT HARWT  RAIN  TIRR   CET  PESW  TNUP  TNLF   TSON TSOC\n",
      "           dap dap kg/ha kg/ha    mm    mm    mm    mm kg/ha kg/ha  kg/ha t/ha\n",
      "  1 PT   1  40 -99  6825  5436     3    57   122    43     0   -99      0  211\n",
      "C:\\Users\\MELANI~1\\AppData\\Local\\Temp\\dssatccvbsxrx and its content has been removed.\n",
      "TWAD: 6825       Sum irrigation: 168.30\n",
      "C:\\Users\\MELANI~1\\AppData\\Local\\Temp\\dssattpogaitm created.\n",
      "Static files copied to C:\\Users\\MELANI~1\\AppData\\Local\\Temp\\dssattpogaitm.\n",
      "RUN    TRT FLO MAT TOPWT HARWT  RAIN  TIRR   CET  PESW  TNUP  TNLF   TSON TSOC\n",
      "           dap dap kg/ha kg/ha    mm    mm    mm    mm kg/ha kg/ha  kg/ha t/ha\n",
      "  1 PT   1  40 -99 10593  8907     3    98   155    51     0   -99      0  211\n",
      "C:\\Users\\MELANI~1\\AppData\\Local\\Temp\\dssattpogaitm and its content has been removed.\n",
      "TWAD: 10593       Sum irrigation: 209.40\n",
      "C:\\Users\\MELANI~1\\AppData\\Local\\Temp\\dssatkdtfikjq created.\n",
      "Static files copied to C:\\Users\\MELANI~1\\AppData\\Local\\Temp\\dssatkdtfikjq.\n",
      "RUN    TRT FLO MAT TOPWT HARWT  RAIN  TIRR   CET  PESW  TNUP  TNLF   TSON TSOC\n",
      "           dap dap kg/ha kg/ha    mm    mm    mm    mm kg/ha kg/ha  kg/ha t/ha\n",
      "  1 PT   1  40 -99  8724  7240     3    77   139    47     0   -99      0  211\n",
      "C:\\Users\\MELANI~1\\AppData\\Local\\Temp\\dssatkdtfikjq and its content has been removed.\n",
      "TWAD: 8724       Sum irrigation: 187.80\n",
      "C:\\Users\\MELANI~1\\AppData\\Local\\Temp\\dssatgldixogs created.\n",
      "Static files copied to C:\\Users\\MELANI~1\\AppData\\Local\\Temp\\dssatgldixogs.\n",
      "RUN    TRT FLO MAT TOPWT HARWT  RAIN  TIRR   CET  PESW  TNUP  TNLF   TSON TSOC\n",
      "           dap dap kg/ha kg/ha    mm    mm    mm    mm kg/ha kg/ha  kg/ha t/ha\n",
      "  1 PT   1  40 -99 10666  8970     3    99   156    52     0   -99      0  211\n",
      "C:\\Users\\MELANI~1\\AppData\\Local\\Temp\\dssatgldixogs and its content has been removed.\n",
      "TWAD: 10666       Sum irrigation: 210.40\n",
      "C:\\Users\\MELANI~1\\AppData\\Local\\Temp\\dssatbahvtcfs created.\n",
      "Static files copied to C:\\Users\\MELANI~1\\AppData\\Local\\Temp\\dssatbahvtcfs.\n",
      "RUN    TRT FLO MAT TOPWT HARWT  RAIN  TIRR   CET  PESW  TNUP  TNLF   TSON TSOC\n",
      "           dap dap kg/ha kg/ha    mm    mm    mm    mm kg/ha kg/ha  kg/ha t/ha\n",
      "  1 PT   1  40 -99  6677  5271     3    55   122    41     0   -99      0  211\n",
      "C:\\Users\\MELANI~1\\AppData\\Local\\Temp\\dssatbahvtcfs and its content has been removed.\n",
      "TWAD: 6677       Sum irrigation: 166.60\n",
      "C:\\Users\\MELANI~1\\AppData\\Local\\Temp\\dssatajtncoku created.\n",
      "Static files copied to C:\\Users\\MELANI~1\\AppData\\Local\\Temp\\dssatajtncoku.\n",
      "RUN    TRT FLO MAT TOPWT HARWT  RAIN  TIRR   CET  PESW  TNUP  TNLF   TSON TSOC\n",
      "           dap dap kg/ha kg/ha    mm    mm    mm    mm kg/ha kg/ha  kg/ha t/ha\n",
      "  1 PT   1  40 -99  5619  4266     3    44   113    39     0   -99      0  211\n",
      "C:\\Users\\MELANI~1\\AppData\\Local\\Temp\\dssatajtncoku and its content has been removed.\n",
      "TWAD: 5619       Sum irrigation: 156.30\n",
      "C:\\Users\\MELANI~1\\AppData\\Local\\Temp\\dssatoiqbvxqg created.\n",
      "Static files copied to C:\\Users\\MELANI~1\\AppData\\Local\\Temp\\dssatoiqbvxqg.\n",
      "RUN    TRT FLO MAT TOPWT HARWT  RAIN  TIRR   CET  PESW  TNUP  TNLF   TSON TSOC\n",
      "           dap dap kg/ha kg/ha    mm    mm    mm    mm kg/ha kg/ha  kg/ha t/ha\n",
      "  1 PT   1  40 -99  6356  4987     3    52   120    41     0   -99      0  211\n",
      "C:\\Users\\MELANI~1\\AppData\\Local\\Temp\\dssatoiqbvxqg and its content has been removed.\n",
      "TWAD: 6356       Sum irrigation: 164.40\n",
      "C:\\Users\\MELANI~1\\AppData\\Local\\Temp\\dssatcplmyxes created.\n",
      "Static files copied to C:\\Users\\MELANI~1\\AppData\\Local\\Temp\\dssatcplmyxes.\n",
      "RUN    TRT FLO MAT TOPWT HARWT  RAIN  TIRR   CET  PESW  TNUP  TNLF   TSON TSOC\n",
      "           dap dap kg/ha kg/ha    mm    mm    mm    mm kg/ha kg/ha  kg/ha t/ha\n",
      "  1 PT   1  40 -99  6432  5064     3    53   120    41     0   -99      0  211\n",
      "C:\\Users\\MELANI~1\\AppData\\Local\\Temp\\dssatcplmyxes and its content has been removed.\n",
      "TWAD: 6432       Sum irrigation: 165.80\n",
      "C:\\Users\\MELANI~1\\AppData\\Local\\Temp\\dssatyrbozpst created.\n",
      "Static files copied to C:\\Users\\MELANI~1\\AppData\\Local\\Temp\\dssatyrbozpst.\n",
      "RUN    TRT FLO MAT TOPWT HARWT  RAIN  TIRR   CET  PESW  TNUP  TNLF   TSON TSOC\n",
      "           dap dap kg/ha kg/ha    mm    mm    mm    mm kg/ha kg/ha  kg/ha t/ha\n",
      "  1 PT   1  40 -99  7036  5670     3    60   125    43     0   -99      0  211\n",
      "C:\\Users\\MELANI~1\\AppData\\Local\\Temp\\dssatyrbozpst and its content has been removed.\n",
      "TWAD: 7036       Sum irrigation: 172.50\n",
      "C:\\Users\\MELANI~1\\AppData\\Local\\Temp\\dssatfjmqxjrj created.\n",
      "Static files copied to C:\\Users\\MELANI~1\\AppData\\Local\\Temp\\dssatfjmqxjrj.\n",
      "RUN    TRT FLO MAT TOPWT HARWT  RAIN  TIRR   CET  PESW  TNUP  TNLF   TSON TSOC\n",
      "           dap dap kg/ha kg/ha    mm    mm    mm    mm kg/ha kg/ha  kg/ha t/ha\n",
      "  1 PT   1  40 -99  7780  6354     3    67   131    44     0   -99      0  211\n",
      "C:\\Users\\MELANI~1\\AppData\\Local\\Temp\\dssatfjmqxjrj and its content has been removed.\n",
      "TWAD: 7780       Sum irrigation: 179.20\n",
      "C:\\Users\\MELANI~1\\AppData\\Local\\Temp\\dssatsmxzdrbc created.\n",
      "Static files copied to C:\\Users\\MELANI~1\\AppData\\Local\\Temp\\dssatsmxzdrbc.\n",
      "RUN    TRT FLO MAT TOPWT HARWT  RAIN  TIRR   CET  PESW  TNUP  TNLF   TSON TSOC\n",
      "           dap dap kg/ha kg/ha    mm    mm    mm    mm kg/ha kg/ha  kg/ha t/ha\n",
      "  1 PT   1  40 -99  4971  3627     3    36   108    37     0   -99      0  211\n",
      "C:\\Users\\MELANI~1\\AppData\\Local\\Temp\\dssatsmxzdrbc and its content has been removed.\n",
      "TWAD: 4971       Sum irrigation: 148.60\n",
      "C:\\Users\\MELANI~1\\AppData\\Local\\Temp\\dssatybawmulo created.\n",
      "Static files copied to C:\\Users\\MELANI~1\\AppData\\Local\\Temp\\dssatybawmulo.\n",
      "RUN    TRT FLO MAT TOPWT HARWT  RAIN  TIRR   CET  PESW  TNUP  TNLF   TSON TSOC\n",
      "           dap dap kg/ha kg/ha    mm    mm    mm    mm kg/ha kg/ha  kg/ha t/ha\n",
      "  1 PT   1  40 -99  9190  7658     3    82   143    47     0   -99      0  211\n",
      "C:\\Users\\MELANI~1\\AppData\\Local\\Temp\\dssatybawmulo and its content has been removed.\n",
      "TWAD: 9190       Sum irrigation: 193.30\n",
      "C:\\Users\\MELANI~1\\AppData\\Local\\Temp\\dssatevafpmpo created.\n",
      "Static files copied to C:\\Users\\MELANI~1\\AppData\\Local\\Temp\\dssatevafpmpo.\n",
      "RUN    TRT FLO MAT TOPWT HARWT  RAIN  TIRR   CET  PESW  TNUP  TNLF   TSON TSOC\n",
      "           dap dap kg/ha kg/ha    mm    mm    mm    mm kg/ha kg/ha  kg/ha t/ha\n",
      "  1 PT   1  40 -99  5109  3753     3    38   109    37     0   -99      0  211\n",
      "C:\\Users\\MELANI~1\\AppData\\Local\\Temp\\dssatevafpmpo and its content has been removed.\n",
      "TWAD: 5109       Sum irrigation: 150.60\n",
      "C:\\Users\\MELANI~1\\AppData\\Local\\Temp\\dssatjhktvruk created.\n",
      "Static files copied to C:\\Users\\MELANI~1\\AppData\\Local\\Temp\\dssatjhktvruk.\n",
      "RUN    TRT FLO MAT TOPWT HARWT  RAIN  TIRR   CET  PESW  TNUP  TNLF   TSON TSOC\n",
      "           dap dap kg/ha kg/ha    mm    mm    mm    mm kg/ha kg/ha  kg/ha t/ha\n",
      "  1 PT   1  40 -99  7173  5749     3    60   126    42     0   -99      0  211\n",
      "C:\\Users\\MELANI~1\\AppData\\Local\\Temp\\dssatjhktvruk and its content has been removed.\n",
      "TWAD: 7173       Sum irrigation: 172.70\n",
      "C:\\Users\\MELANI~1\\AppData\\Local\\Temp\\dssatqvqungye created.\n",
      "Static files copied to C:\\Users\\MELANI~1\\AppData\\Local\\Temp\\dssatqvqungye.\n",
      "RUN    TRT FLO MAT TOPWT HARWT  RAIN  TIRR   CET  PESW  TNUP  TNLF   TSON TSOC\n",
      "           dap dap kg/ha kg/ha    mm    mm    mm    mm kg/ha kg/ha  kg/ha t/ha\n",
      "  1 PT   1  40 -99  6149  4865     3    52   118    42     0   -99      0  211\n",
      "C:\\Users\\MELANI~1\\AppData\\Local\\Temp\\dssatqvqungye and its content has been removed.\n",
      "TWAD: 6149       Sum irrigation: 164.70\n",
      "C:\\Users\\MELANI~1\\AppData\\Local\\Temp\\dssatvhqoyrfo created.\n",
      "Static files copied to C:\\Users\\MELANI~1\\AppData\\Local\\Temp\\dssatvhqoyrfo.\n",
      "RUN    TRT FLO MAT TOPWT HARWT  RAIN  TIRR   CET  PESW  TNUP  TNLF   TSON TSOC\n",
      "           dap dap kg/ha kg/ha    mm    mm    mm    mm kg/ha kg/ha  kg/ha t/ha\n",
      "  1 PT   1  40 -99  4247  2974     3    30   102    36     0   -99      0  211\n",
      "C:\\Users\\MELANI~1\\AppData\\Local\\Temp\\dssatvhqoyrfo and its content has been removed.\n",
      "TWAD: 4247       Sum irrigation: 142.10\n",
      "C:\\Users\\MELANI~1\\AppData\\Local\\Temp\\dssatriuypviy created.\n",
      "Static files copied to C:\\Users\\MELANI~1\\AppData\\Local\\Temp\\dssatriuypviy.\n",
      "RUN    TRT FLO MAT TOPWT HARWT  RAIN  TIRR   CET  PESW  TNUP  TNLF   TSON TSOC\n",
      "           dap dap kg/ha kg/ha    mm    mm    mm    mm kg/ha kg/ha  kg/ha t/ha\n",
      "  1 PT   1  40 -99 10563  8881     3    97   155    50     0   -99      0  211\n",
      "C:\\Users\\MELANI~1\\AppData\\Local\\Temp\\dssatriuypviy and its content has been removed.\n",
      "TWAD: 10563       Sum irrigation: 208.90\n",
      "C:\\Users\\MELANI~1\\AppData\\Local\\Temp\\dssatcqkmnxnu created.\n",
      "Static files copied to C:\\Users\\MELANI~1\\AppData\\Local\\Temp\\dssatcqkmnxnu.\n",
      "RUN    TRT FLO MAT TOPWT HARWT  RAIN  TIRR   CET  PESW  TNUP  TNLF   TSON TSOC\n",
      "           dap dap kg/ha kg/ha    mm    mm    mm    mm kg/ha kg/ha  kg/ha t/ha\n",
      "  1 PT   1  40 -99  8345  6874     3    73   136    46     0   -99      0  211\n",
      "C:\\Users\\MELANI~1\\AppData\\Local\\Temp\\dssatcqkmnxnu and its content has been removed.\n",
      "TWAD: 8345       Sum irrigation: 185.20\n",
      "C:\\Users\\MELANI~1\\AppData\\Local\\Temp\\dssatsjpdwnqr created.\n",
      "Static files copied to C:\\Users\\MELANI~1\\AppData\\Local\\Temp\\dssatsjpdwnqr.\n",
      "RUN    TRT FLO MAT TOPWT HARWT  RAIN  TIRR   CET  PESW  TNUP  TNLF   TSON TSOC\n",
      "           dap dap kg/ha kg/ha    mm    mm    mm    mm kg/ha kg/ha  kg/ha t/ha\n",
      "  1 PT   1  40 -99  9640  8067     3    86   147    48     0   -99      0  211\n",
      "C:\\Users\\MELANI~1\\AppData\\Local\\Temp\\dssatsjpdwnqr and its content has been removed.\n",
      "TWAD: 9640       Sum irrigation: 197.80\n",
      "C:\\Users\\MELANI~1\\AppData\\Local\\Temp\\dssatjppybpth created.\n",
      "Static files copied to C:\\Users\\MELANI~1\\AppData\\Local\\Temp\\dssatjppybpth.\n",
      "RUN    TRT FLO MAT TOPWT HARWT  RAIN  TIRR   CET  PESW  TNUP  TNLF   TSON TSOC\n",
      "           dap dap kg/ha kg/ha    mm    mm    mm    mm kg/ha kg/ha  kg/ha t/ha\n",
      "  1 PT   1  40 -99  6583  5223     3    55   123    41     0   -99      0  211\n",
      "C:\\Users\\MELANI~1\\AppData\\Local\\Temp\\dssatjppybpth and its content has been removed.\n",
      "TWAD: 6583       Sum irrigation: 167.40\n",
      "C:\\Users\\MELANI~1\\AppData\\Local\\Temp\\dssathcblmzgk created.\n",
      "Static files copied to C:\\Users\\MELANI~1\\AppData\\Local\\Temp\\dssathcblmzgk.\n",
      "RUN    TRT FLO MAT TOPWT HARWT  RAIN  TIRR   CET  PESW  TNUP  TNLF   TSON TSOC\n",
      "           dap dap kg/ha kg/ha    mm    mm    mm    mm kg/ha kg/ha  kg/ha t/ha\n",
      "  1 PT   1  40 -99  5825  4486     3    46   116    38     0   -99      0  211\n",
      "C:\\Users\\MELANI~1\\AppData\\Local\\Temp\\dssathcblmzgk and its content has been removed.\n",
      "TWAD: 5825       Sum irrigation: 157.90\n",
      "C:\\Users\\MELANI~1\\AppData\\Local\\Temp\\dssatwhfenans created.\n",
      "Static files copied to C:\\Users\\MELANI~1\\AppData\\Local\\Temp\\dssatwhfenans.\n",
      "RUN    TRT FLO MAT TOPWT HARWT  RAIN  TIRR   CET  PESW  TNUP  TNLF   TSON TSOC\n",
      "           dap dap kg/ha kg/ha    mm    mm    mm    mm kg/ha kg/ha  kg/ha t/ha\n",
      "  1 PT   1  40 -99 11362  9588     3   132   162    78     0   -99      0  211\n",
      "C:\\Users\\MELANI~1\\AppData\\Local\\Temp\\dssatwhfenans and its content has been removed.\n",
      "TWAD: 11362       Sum irrigation: 243.90\n",
      "C:\\Users\\MELANI~1\\AppData\\Local\\Temp\\dssatiuszzxmy created.\n",
      "Static files copied to C:\\Users\\MELANI~1\\AppData\\Local\\Temp\\dssatiuszzxmy.\n",
      "RUN    TRT FLO MAT TOPWT HARWT  RAIN  TIRR   CET  PESW  TNUP  TNLF   TSON TSOC\n",
      "           dap dap kg/ha kg/ha    mm    mm    mm    mm kg/ha kg/ha  kg/ha t/ha\n",
      "  1 PT   1  40 -99  8266  6819     3    76   139    45     0   -99      0  211\n",
      "C:\\Users\\MELANI~1\\AppData\\Local\\Temp\\dssatiuszzxmy and its content has been removed.\n",
      "TWAD: 8266       Sum irrigation: 187.50\n",
      "C:\\Users\\MELANI~1\\AppData\\Local\\Temp\\dssatxfotsskk created.\n",
      "Static files copied to C:\\Users\\MELANI~1\\AppData\\Local\\Temp\\dssatxfotsskk.\n",
      "RUN    TRT FLO MAT TOPWT HARWT  RAIN  TIRR   CET  PESW  TNUP  TNLF   TSON TSOC\n",
      "           dap dap kg/ha kg/ha    mm    mm    mm    mm kg/ha kg/ha  kg/ha t/ha\n",
      "  1 PT   1  40 -99  8731  7233     3    77   139    46     0   -99      0  211\n",
      "C:\\Users\\MELANI~1\\AppData\\Local\\Temp\\dssatxfotsskk and its content has been removed.\n",
      "TWAD: 8731       Sum irrigation: 189.60\n",
      "C:\\Users\\MELANI~1\\AppData\\Local\\Temp\\dssatlhhkzgrv created.\n",
      "Static files copied to C:\\Users\\MELANI~1\\AppData\\Local\\Temp\\dssatlhhkzgrv.\n",
      "RUN    TRT FLO MAT TOPWT HARWT  RAIN  TIRR   CET  PESW  TNUP  TNLF   TSON TSOC\n",
      "           dap dap kg/ha kg/ha    mm    mm    mm    mm kg/ha kg/ha  kg/ha t/ha\n",
      "  1 PT   1  40 -99  7385  6009     3    66   131    43     0   -99      0  211\n",
      "C:\\Users\\MELANI~1\\AppData\\Local\\Temp\\dssatlhhkzgrv and its content has been removed.\n",
      "TWAD: 7385       Sum irrigation: 178.30\n",
      "C:\\Users\\MELANI~1\\AppData\\Local\\Temp\\dssatuwzcyyzk created.\n",
      "Static files copied to C:\\Users\\MELANI~1\\AppData\\Local\\Temp\\dssatuwzcyyzk.\n",
      "RUN    TRT FLO MAT TOPWT HARWT  RAIN  TIRR   CET  PESW  TNUP  TNLF   TSON TSOC\n",
      "           dap dap kg/ha kg/ha    mm    mm    mm    mm kg/ha kg/ha  kg/ha t/ha\n",
      "  1 PT   1  40 -99  4367  3090     3    32   104    37     0   -99      0  211\n",
      "C:\\Users\\MELANI~1\\AppData\\Local\\Temp\\dssatuwzcyyzk and its content has been removed.\n",
      "TWAD: 4367       Sum irrigation: 143.70\n",
      "C:\\Users\\MELANI~1\\AppData\\Local\\Temp\\dssatxdroddkr created.\n",
      "Static files copied to C:\\Users\\MELANI~1\\AppData\\Local\\Temp\\dssatxdroddkr.\n",
      "RUN    TRT FLO MAT TOPWT HARWT  RAIN  TIRR   CET  PESW  TNUP  TNLF   TSON TSOC\n",
      "           dap dap kg/ha kg/ha    mm    mm    mm    mm kg/ha kg/ha  kg/ha t/ha\n",
      "  1 PT   1  40 -99  4450  3170     3    33   104    37     0   -99      0  211\n",
      "C:\\Users\\MELANI~1\\AppData\\Local\\Temp\\dssatxdroddkr and its content has been removed.\n",
      "TWAD: 4450       Sum irrigation: 144.70\n",
      "C:\\Users\\MELANI~1\\AppData\\Local\\Temp\\dssatfuemoyxf created.\n",
      "Static files copied to C:\\Users\\MELANI~1\\AppData\\Local\\Temp\\dssatfuemoyxf.\n",
      "RUN    TRT FLO MAT TOPWT HARWT  RAIN  TIRR   CET  PESW  TNUP  TNLF   TSON TSOC\n",
      "           dap dap kg/ha kg/ha    mm    mm    mm    mm kg/ha kg/ha  kg/ha t/ha\n",
      "  1 PT   1  40 -99  7673  6275     3    69   134    44     0   -99      0  211\n",
      "C:\\Users\\MELANI~1\\AppData\\Local\\Temp\\dssatfuemoyxf and its content has been removed.\n",
      "TWAD: 7673       Sum irrigation: 181.30\n",
      "C:\\Users\\MELANI~1\\AppData\\Local\\Temp\\dssatimzksrxy created.\n",
      "Static files copied to C:\\Users\\MELANI~1\\AppData\\Local\\Temp\\dssatimzksrxy.\n",
      "RUN    TRT FLO MAT TOPWT HARWT  RAIN  TIRR   CET  PESW  TNUP  TNLF   TSON TSOC\n",
      "           dap dap kg/ha kg/ha    mm    mm    mm    mm kg/ha kg/ha  kg/ha t/ha\n",
      "  1 PT   1  40 -99  9993  8380     3    90   150    48     0   -99      0  211\n",
      "C:\\Users\\MELANI~1\\AppData\\Local\\Temp\\dssatimzksrxy and its content has been removed.\n",
      "TWAD: 9993       Sum irrigation: 202.30\n",
      "C:\\Users\\MELANI~1\\AppData\\Local\\Temp\\dssatnschoour created.\n",
      "Static files copied to C:\\Users\\MELANI~1\\AppData\\Local\\Temp\\dssatnschoour.\n",
      "RUN    TRT FLO MAT TOPWT HARWT  RAIN  TIRR   CET  PESW  TNUP  TNLF   TSON TSOC\n",
      "           dap dap kg/ha kg/ha    mm    mm    mm    mm kg/ha kg/ha  kg/ha t/ha\n",
      "  1 PT   1  40 -99  8067  6649     3    71   135    44     0   -99      0  211\n",
      "C:\\Users\\MELANI~1\\AppData\\Local\\Temp\\dssatnschoour and its content has been removed.\n",
      "TWAD: 8067       Sum irrigation: 182.80\n",
      "C:\\Users\\MELANI~1\\AppData\\Local\\Temp\\dssatzrmijjhf created.\n",
      "Static files copied to C:\\Users\\MELANI~1\\AppData\\Local\\Temp\\dssatzrmijjhf.\n",
      "RUN    TRT FLO MAT TOPWT HARWT  RAIN  TIRR   CET  PESW  TNUP  TNLF   TSON TSOC\n",
      "           dap dap kg/ha kg/ha    mm    mm    mm    mm kg/ha kg/ha  kg/ha t/ha\n",
      "  1 PT   1  40 -99  7746  6343     3    70   134    44     0   -99      0  211\n",
      "C:\\Users\\MELANI~1\\AppData\\Local\\Temp\\dssatzrmijjhf and its content has been removed.\n",
      "TWAD: 7746       Sum irrigation: 181.80\n",
      "C:\\Users\\MELANI~1\\AppData\\Local\\Temp\\dssatkriflhjq created.\n",
      "Static files copied to C:\\Users\\MELANI~1\\AppData\\Local\\Temp\\dssatkriflhjq.\n",
      "RUN    TRT FLO MAT TOPWT HARWT  RAIN  TIRR   CET  PESW  TNUP  TNLF   TSON TSOC\n",
      "           dap dap kg/ha kg/ha    mm    mm    mm    mm kg/ha kg/ha  kg/ha t/ha\n",
      "  1 PT   1  40 -99  6707  5302     3    55   122    41     0   -99      0  211\n",
      "C:\\Users\\MELANI~1\\AppData\\Local\\Temp\\dssatkriflhjq and its content has been removed.\n",
      "TWAD: 6707       Sum irrigation: 167.20\n",
      "C:\\Users\\MELANI~1\\AppData\\Local\\Temp\\dssatdhluogew created.\n",
      "Static files copied to C:\\Users\\MELANI~1\\AppData\\Local\\Temp\\dssatdhluogew.\n",
      "RUN    TRT FLO MAT TOPWT HARWT  RAIN  TIRR   CET  PESW  TNUP  TNLF   TSON TSOC\n",
      "           dap dap kg/ha kg/ha    mm    mm    mm    mm kg/ha kg/ha  kg/ha t/ha\n",
      "  1 PT   1  40 -99  8164  6706     3    71   134    45     0   -99      0  211\n",
      "C:\\Users\\MELANI~1\\AppData\\Local\\Temp\\dssatdhluogew and its content has been removed.\n",
      "TWAD: 8164       Sum irrigation: 183.40\n",
      "C:\\Users\\MELANI~1\\AppData\\Local\\Temp\\dssatwmipbopi created.\n",
      "Static files copied to C:\\Users\\MELANI~1\\AppData\\Local\\Temp\\dssatwmipbopi.\n",
      "RUN    TRT FLO MAT TOPWT HARWT  RAIN  TIRR   CET  PESW  TNUP  TNLF   TSON TSOC\n",
      "           dap dap kg/ha kg/ha    mm    mm    mm    mm kg/ha kg/ha  kg/ha t/ha\n",
      "  1 PT   1  40 -99  7310  5939     3    63   128    43     0   -99      0  211\n",
      "C:\\Users\\MELANI~1\\AppData\\Local\\Temp\\dssatwmipbopi and its content has been removed.\n",
      "TWAD: 7310       Sum irrigation: 175.00\n",
      "C:\\Users\\MELANI~1\\AppData\\Local\\Temp\\dssatjolqriqp created.\n",
      "Static files copied to C:\\Users\\MELANI~1\\AppData\\Local\\Temp\\dssatjolqriqp.\n",
      "RUN    TRT FLO MAT TOPWT HARWT  RAIN  TIRR   CET  PESW  TNUP  TNLF   TSON TSOC\n",
      "           dap dap kg/ha kg/ha    mm    mm    mm    mm kg/ha kg/ha  kg/ha t/ha\n",
      "  1 PT   1  40 -99  8235  6802     3    73   137    45     0   -99      0  211\n",
      "C:\\Users\\MELANI~1\\AppData\\Local\\Temp\\dssatjolqriqp and its content has been removed.\n",
      "TWAD: 8235       Sum irrigation: 184.60\n",
      "C:\\Users\\MELANI~1\\AppData\\Local\\Temp\\dssatcgdclrjh created.\n",
      "Static files copied to C:\\Users\\MELANI~1\\AppData\\Local\\Temp\\dssatcgdclrjh.\n",
      "RUN    TRT FLO MAT TOPWT HARWT  RAIN  TIRR   CET  PESW  TNUP  TNLF   TSON TSOC\n",
      "           dap dap kg/ha kg/ha    mm    mm    mm    mm kg/ha kg/ha  kg/ha t/ha\n",
      "  1 PT   1  40 -99  4341  3066     3    31   103    36     0   -99      0  211\n",
      "C:\\Users\\MELANI~1\\AppData\\Local\\Temp\\dssatcgdclrjh and its content has been removed.\n",
      "TWAD: 4341       Sum irrigation: 142.80\n",
      "C:\\Users\\MELANI~1\\AppData\\Local\\Temp\\dssatyemdbtyr created.\n",
      "Static files copied to C:\\Users\\MELANI~1\\AppData\\Local\\Temp\\dssatyemdbtyr.\n",
      "RUN    TRT FLO MAT TOPWT HARWT  RAIN  TIRR   CET  PESW  TNUP  TNLF   TSON TSOC\n",
      "           dap dap kg/ha kg/ha    mm    mm    mm    mm kg/ha kg/ha  kg/ha t/ha\n",
      "  1 PT   1  40 -99  7103  5748     3    63   128    43     0   -99      0  211\n",
      "C:\\Users\\MELANI~1\\AppData\\Local\\Temp\\dssatyemdbtyr and its content has been removed.\n",
      "TWAD: 7103       Sum irrigation: 175.20\n",
      "C:\\Users\\MELANI~1\\AppData\\Local\\Temp\\dssatizawvsii created.\n",
      "Static files copied to C:\\Users\\MELANI~1\\AppData\\Local\\Temp\\dssatizawvsii.\n",
      "RUN    TRT FLO MAT TOPWT HARWT  RAIN  TIRR   CET  PESW  TNUP  TNLF   TSON TSOC\n",
      "           dap dap kg/ha kg/ha    mm    mm    mm    mm kg/ha kg/ha  kg/ha t/ha\n",
      "  1 PT   1  40 -99  8345  6874     3    73   136    46     0   -99      0  211\n",
      "C:\\Users\\MELANI~1\\AppData\\Local\\Temp\\dssatizawvsii and its content has been removed.\n",
      "TWAD: 8345       Sum irrigation: 185.50\n",
      "C:\\Users\\MELANI~1\\AppData\\Local\\Temp\\dssatqubngdnu created.\n",
      "Static files copied to C:\\Users\\MELANI~1\\AppData\\Local\\Temp\\dssatqubngdnu.\n",
      "RUN    TRT FLO MAT TOPWT HARWT  RAIN  TIRR   CET  PESW  TNUP  TNLF   TSON TSOC\n",
      "           dap dap kg/ha kg/ha    mm    mm    mm    mm kg/ha kg/ha  kg/ha t/ha\n",
      "  1 PT   1  40 -99 11362  9588     3   125   162    71     0   -99      0  211\n",
      "C:\\Users\\MELANI~1\\AppData\\Local\\Temp\\dssatqubngdnu and its content has been removed.\n",
      "TWAD: 11362       Sum irrigation: 237.00\n",
      "C:\\Users\\MELANI~1\\AppData\\Local\\Temp\\dssatwzxxucbd created.\n",
      "Static files copied to C:\\Users\\MELANI~1\\AppData\\Local\\Temp\\dssatwzxxucbd.\n",
      "RUN    TRT FLO MAT TOPWT HARWT  RAIN  TIRR   CET  PESW  TNUP  TNLF   TSON TSOC\n",
      "           dap dap kg/ha kg/ha    mm    mm    mm    mm kg/ha kg/ha  kg/ha t/ha\n",
      "  1 PT   1  40 -99  4879  3531     3    35   107    37     0   -99      0  211\n",
      "C:\\Users\\MELANI~1\\AppData\\Local\\Temp\\dssatwzxxucbd and its content has been removed.\n",
      "TWAD: 4879       Sum irrigation: 146.80\n",
      "C:\\Users\\MELANI~1\\AppData\\Local\\Temp\\dssateyjpfqob created.\n",
      "Static files copied to C:\\Users\\MELANI~1\\AppData\\Local\\Temp\\dssateyjpfqob.\n",
      "RUN    TRT FLO MAT TOPWT HARWT  RAIN  TIRR   CET  PESW  TNUP  TNLF   TSON TSOC\n",
      "           dap dap kg/ha kg/ha    mm    mm    mm    mm kg/ha kg/ha  kg/ha t/ha\n",
      "  1 PT   1  40 -99  6617  5291     3    58   124    42     0   -99      0  211\n",
      "C:\\Users\\MELANI~1\\AppData\\Local\\Temp\\dssateyjpfqob and its content has been removed.\n",
      "TWAD: 6617       Sum irrigation: 169.80\n",
      "C:\\Users\\MELANI~1\\AppData\\Local\\Temp\\dssatghwsvyod created.\n",
      "Static files copied to C:\\Users\\MELANI~1\\AppData\\Local\\Temp\\dssatghwsvyod.\n",
      "RUN    TRT FLO MAT TOPWT HARWT  RAIN  TIRR   CET  PESW  TNUP  TNLF   TSON TSOC\n",
      "           dap dap kg/ha kg/ha    mm    mm    mm    mm kg/ha kg/ha  kg/ha t/ha\n",
      "  1 PT   1  40 -99  5913  4527     3    47   115    40     0   -99      0  211\n",
      "C:\\Users\\MELANI~1\\AppData\\Local\\Temp\\dssatghwsvyod and its content has been removed.\n",
      "TWAD: 5913       Sum irrigation: 159.20\n",
      "C:\\Users\\MELANI~1\\AppData\\Local\\Temp\\dssatpqubkfyy created.\n",
      "Static files copied to C:\\Users\\MELANI~1\\AppData\\Local\\Temp\\dssatpqubkfyy.\n",
      "RUN    TRT FLO MAT TOPWT HARWT  RAIN  TIRR   CET  PESW  TNUP  TNLF   TSON TSOC\n",
      "           dap dap kg/ha kg/ha    mm    mm    mm    mm kg/ha kg/ha  kg/ha t/ha\n",
      "  1 PT   1  40 -99  5558  4156     3    43   113    39     0   -99      0  211\n",
      "C:\\Users\\MELANI~1\\AppData\\Local\\Temp\\dssatpqubkfyy and its content has been removed.\n",
      "TWAD: 5558       Sum irrigation: 154.30\n",
      "C:\\Users\\MELANI~1\\AppData\\Local\\Temp\\dssattovukuue created.\n",
      "Static files copied to C:\\Users\\MELANI~1\\AppData\\Local\\Temp\\dssattovukuue.\n",
      "RUN    TRT FLO MAT TOPWT HARWT  RAIN  TIRR   CET  PESW  TNUP  TNLF   TSON TSOC\n",
      "           dap dap kg/ha kg/ha    mm    mm    mm    mm kg/ha kg/ha  kg/ha t/ha\n",
      "  1 PT   1  40 -99  7841  6430     3    71   135    44     0   -99      0  211\n",
      "C:\\Users\\MELANI~1\\AppData\\Local\\Temp\\dssattovukuue and its content has been removed.\n",
      "TWAD: 7841       Sum irrigation: 182.90\n",
      "C:\\Users\\MELANI~1\\AppData\\Local\\Temp\\dssatthgiqqln created.\n",
      "Static files copied to C:\\Users\\MELANI~1\\AppData\\Local\\Temp\\dssatthgiqqln.\n",
      "RUN    TRT FLO MAT TOPWT HARWT  RAIN  TIRR   CET  PESW  TNUP  TNLF   TSON TSOC\n",
      "           dap dap kg/ha kg/ha    mm    mm    mm    mm kg/ha kg/ha  kg/ha t/ha\n",
      "  1 PT   1  40 -99 10597  8922     3   102   158    52     0   -99      0  211\n",
      "C:\\Users\\MELANI~1\\AppData\\Local\\Temp\\dssatthgiqqln and its content has been removed.\n",
      "TWAD: 10597       Sum irrigation: 213.10\n",
      "C:\\Users\\MELANI~1\\AppData\\Local\\Temp\\dssatiowtuzrh created.\n",
      "Static files copied to C:\\Users\\MELANI~1\\AppData\\Local\\Temp\\dssatiowtuzrh.\n",
      "RUN    TRT FLO MAT TOPWT HARWT  RAIN  TIRR   CET  PESW  TNUP  TNLF   TSON TSOC\n",
      "           dap dap kg/ha kg/ha    mm    mm    mm    mm kg/ha kg/ha  kg/ha t/ha\n",
      "  1 PT   1  40 -99  4151  2896     3    29   101    36     0   -99      0  211\n",
      "C:\\Users\\MELANI~1\\AppData\\Local\\Temp\\dssatiowtuzrh and its content has been removed.\n",
      "TWAD: 4151       Sum irrigation: 140.90\n",
      "C:\\Users\\MELANI~1\\AppData\\Local\\Temp\\dssatrljvfmdh created.\n",
      "Static files copied to C:\\Users\\MELANI~1\\AppData\\Local\\Temp\\dssatrljvfmdh.\n",
      "RUN    TRT FLO MAT TOPWT HARWT  RAIN  TIRR   CET  PESW  TNUP  TNLF   TSON TSOC\n",
      "           dap dap kg/ha kg/ha    mm    mm    mm    mm kg/ha kg/ha  kg/ha t/ha\n",
      "  1 PT   1  40 -99  7829  6441     3    71   135    44     0   -99      0  211\n",
      "C:\\Users\\MELANI~1\\AppData\\Local\\Temp\\dssatrljvfmdh and its content has been removed.\n",
      "TWAD: 7829       Sum irrigation: 182.80\n",
      "C:\\Users\\MELANI~1\\AppData\\Local\\Temp\\dssatmdwywuqc created.\n",
      "Static files copied to C:\\Users\\MELANI~1\\AppData\\Local\\Temp\\dssatmdwywuqc.\n",
      "RUN    TRT FLO MAT TOPWT HARWT  RAIN  TIRR   CET  PESW  TNUP  TNLF   TSON TSOC\n",
      "           dap dap kg/ha kg/ha    mm    mm    mm    mm kg/ha kg/ha  kg/ha t/ha\n",
      "  1 PT   1  40 -99  7114  5757     3    61   127    43     0   -99      0  211\n",
      "C:\\Users\\MELANI~1\\AppData\\Local\\Temp\\dssatmdwywuqc and its content has been removed.\n",
      "TWAD: 7114       Sum irrigation: 172.70\n",
      "C:\\Users\\MELANI~1\\AppData\\Local\\Temp\\dssatzjyswgrj created.\n",
      "Static files copied to C:\\Users\\MELANI~1\\AppData\\Local\\Temp\\dssatzjyswgrj.\n",
      "RUN    TRT FLO MAT TOPWT HARWT  RAIN  TIRR   CET  PESW  TNUP  TNLF   TSON TSOC\n",
      "           dap dap kg/ha kg/ha    mm    mm    mm    mm kg/ha kg/ha  kg/ha t/ha\n",
      "  1 PT   1  40 -99  6279  4930     3    51   120    39     0   -99      0  211\n",
      "C:\\Users\\MELANI~1\\AppData\\Local\\Temp\\dssatzjyswgrj and its content has been removed.\n",
      "TWAD: 6279       Sum irrigation: 162.70\n",
      "C:\\Users\\MELANI~1\\AppData\\Local\\Temp\\dssatpztlzigi created.\n",
      "Static files copied to C:\\Users\\MELANI~1\\AppData\\Local\\Temp\\dssatpztlzigi.\n",
      "RUN    TRT FLO MAT TOPWT HARWT  RAIN  TIRR   CET  PESW  TNUP  TNLF   TSON TSOC\n",
      "           dap dap kg/ha kg/ha    mm    mm    mm    mm kg/ha kg/ha  kg/ha t/ha\n",
      "  1 PT   1  40 -99  8137  6668     3    70   134    45     0   -99      0  211\n",
      "C:\\Users\\MELANI~1\\AppData\\Local\\Temp\\dssatpztlzigi and its content has been removed.\n",
      "TWAD: 8137       Sum irrigation: 182.50\n",
      "C:\\Users\\MELANI~1\\AppData\\Local\\Temp\\dssatbvobaqao created.\n",
      "Static files copied to C:\\Users\\MELANI~1\\AppData\\Local\\Temp\\dssatbvobaqao.\n",
      "RUN    TRT FLO MAT TOPWT HARWT  RAIN  TIRR   CET  PESW  TNUP  TNLF   TSON TSOC\n",
      "           dap dap kg/ha kg/ha    mm    mm    mm    mm kg/ha kg/ha  kg/ha t/ha\n",
      "  1 PT   1  40 -99  7687  6297     3    67   132    44     0   -99      0  211\n",
      "C:\\Users\\MELANI~1\\AppData\\Local\\Temp\\dssatbvobaqao and its content has been removed.\n",
      "TWAD: 7687       Sum irrigation: 178.70\n",
      "C:\\Users\\MELANI~1\\AppData\\Local\\Temp\\dssatjxdmssrx created.\n",
      "Static files copied to C:\\Users\\MELANI~1\\AppData\\Local\\Temp\\dssatjxdmssrx.\n",
      "RUN    TRT FLO MAT TOPWT HARWT  RAIN  TIRR   CET  PESW  TNUP  TNLF   TSON TSOC\n",
      "           dap dap kg/ha kg/ha    mm    mm    mm    mm kg/ha kg/ha  kg/ha t/ha\n",
      "  1 PT   1  40 -99  9006  7484     3    80   141    47     0   -99      0  211\n",
      "C:\\Users\\MELANI~1\\AppData\\Local\\Temp\\dssatjxdmssrx and its content has been removed.\n",
      "TWAD: 9006       Sum irrigation: 192.70\n",
      "C:\\Users\\MELANI~1\\AppData\\Local\\Temp\\dssatexsmmjva created.\n",
      "Static files copied to C:\\Users\\MELANI~1\\AppData\\Local\\Temp\\dssatexsmmjva.\n",
      "RUN    TRT FLO MAT TOPWT HARWT  RAIN  TIRR   CET  PESW  TNUP  TNLF   TSON TSOC\n",
      "           dap dap kg/ha kg/ha    mm    mm    mm    mm kg/ha kg/ha  kg/ha t/ha\n",
      "  1 PT   1  40 -99  6819  5501     3    60   126    43     0   -99      0  211\n",
      "C:\\Users\\MELANI~1\\AppData\\Local\\Temp\\dssatexsmmjva and its content has been removed.\n",
      "TWAD: 6819       Sum irrigation: 172.60\n",
      "C:\\Users\\MELANI~1\\AppData\\Local\\Temp\\dssatbvnmtuqd created.\n",
      "Static files copied to C:\\Users\\MELANI~1\\AppData\\Local\\Temp\\dssatbvnmtuqd.\n",
      "RUN    TRT FLO MAT TOPWT HARWT  RAIN  TIRR   CET  PESW  TNUP  TNLF   TSON TSOC\n",
      "           dap dap kg/ha kg/ha    mm    mm    mm    mm kg/ha kg/ha  kg/ha t/ha\n",
      "  1 PT   1  40 -99  5109  3789     3    39   110    38     0   -99      0  211\n",
      "C:\\Users\\MELANI~1\\AppData\\Local\\Temp\\dssatbvnmtuqd and its content has been removed.\n",
      "TWAD: 5109       Sum irrigation: 151.20\n",
      "C:\\Users\\MELANI~1\\AppData\\Local\\Temp\\dssatpjedeock created.\n",
      "Static files copied to C:\\Users\\MELANI~1\\AppData\\Local\\Temp\\dssatpjedeock.\n",
      "RUN    TRT FLO MAT TOPWT HARWT  RAIN  TIRR   CET  PESW  TNUP  TNLF   TSON TSOC\n",
      "           dap dap kg/ha kg/ha    mm    mm    mm    mm kg/ha kg/ha  kg/ha t/ha\n",
      "  1 PT   1  40 -99  8628  7138     3    76   138    46     0   -99      0  211\n",
      "C:\\Users\\MELANI~1\\AppData\\Local\\Temp\\dssatpjedeock and its content has been removed.\n",
      "TWAD: 8628       Sum irrigation: 188.40\n",
      "C:\\Users\\MELANI~1\\AppData\\Local\\Temp\\dssatyrnfqnfn created.\n",
      "Static files copied to C:\\Users\\MELANI~1\\AppData\\Local\\Temp\\dssatyrnfqnfn.\n",
      "RUN    TRT FLO MAT TOPWT HARWT  RAIN  TIRR   CET  PESW  TNUP  TNLF   TSON TSOC\n",
      "           dap dap kg/ha kg/ha    mm    mm    mm    mm kg/ha kg/ha  kg/ha t/ha\n",
      "  1 PT   1  40 -99  4537  3270     3    34   105    37     0   -99      0  211\n",
      "C:\\Users\\MELANI~1\\AppData\\Local\\Temp\\dssatyrnfqnfn and its content has been removed.\n",
      "TWAD: 4537       Sum irrigation: 146.60\n",
      "C:\\Users\\MELANI~1\\AppData\\Local\\Temp\\dssatzkoxxycv created.\n",
      "Static files copied to C:\\Users\\MELANI~1\\AppData\\Local\\Temp\\dssatzkoxxycv.\n",
      "RUN    TRT FLO MAT TOPWT HARWT  RAIN  TIRR   CET  PESW  TNUP  TNLF   TSON TSOC\n",
      "           dap dap kg/ha kg/ha    mm    mm    mm    mm kg/ha kg/ha  kg/ha t/ha\n",
      "  1 PT   1  40 -99  5350  3953     3    40   111    37     0   -99      0  211\n",
      "C:\\Users\\MELANI~1\\AppData\\Local\\Temp\\dssatzkoxxycv and its content has been removed.\n",
      "TWAD: 5350       Sum irrigation: 151.80\n",
      "C:\\Users\\MELANI~1\\AppData\\Local\\Temp\\dssattaugavaq created.\n",
      "Static files copied to C:\\Users\\MELANI~1\\AppData\\Local\\Temp\\dssattaugavaq.\n",
      "RUN    TRT FLO MAT TOPWT HARWT  RAIN  TIRR   CET  PESW  TNUP  TNLF   TSON TSOC\n",
      "           dap dap kg/ha kg/ha    mm    mm    mm    mm kg/ha kg/ha  kg/ha t/ha\n",
      "  1 PT   1  40 -99  8158  6733     3    72   136    44     0   -99      0  211\n",
      "C:\\Users\\MELANI~1\\AppData\\Local\\Temp\\dssattaugavaq and its content has been removed.\n",
      "TWAD: 8158       Sum irrigation: 184.20\n",
      "C:\\Users\\MELANI~1\\AppData\\Local\\Temp\\dssatzmruwusd created.\n",
      "Static files copied to C:\\Users\\MELANI~1\\AppData\\Local\\Temp\\dssatzmruwusd.\n",
      "RUN    TRT FLO MAT TOPWT HARWT  RAIN  TIRR   CET  PESW  TNUP  TNLF   TSON TSOC\n",
      "           dap dap kg/ha kg/ha    mm    mm    mm    mm kg/ha kg/ha  kg/ha t/ha\n",
      "  1 PT   1  40 -99  7673  6292     3    70   134    44     0   -99      0  211\n",
      "C:\\Users\\MELANI~1\\AppData\\Local\\Temp\\dssatzmruwusd and its content has been removed.\n",
      "TWAD: 7673       Sum irrigation: 181.30\n",
      "C:\\Users\\MELANI~1\\AppData\\Local\\Temp\\dssatnnvrnanh created.\n",
      "Static files copied to C:\\Users\\MELANI~1\\AppData\\Local\\Temp\\dssatnnvrnanh.\n",
      "RUN    TRT FLO MAT TOPWT HARWT  RAIN  TIRR   CET  PESW  TNUP  TNLF   TSON TSOC\n",
      "           dap dap kg/ha kg/ha    mm    mm    mm    mm kg/ha kg/ha  kg/ha t/ha\n",
      "  1 PT   1  40 -99  4051  2798     3    28   100    36     0   -99      0  211\n",
      "C:\\Users\\MELANI~1\\AppData\\Local\\Temp\\dssatnnvrnanh and its content has been removed.\n",
      "TWAD: 4051       Sum irrigation: 140.00\n",
      "C:\\Users\\MELANI~1\\AppData\\Local\\Temp\\dssatfrjkhseg created.\n",
      "Static files copied to C:\\Users\\MELANI~1\\AppData\\Local\\Temp\\dssatfrjkhseg.\n",
      "RUN    TRT FLO MAT TOPWT HARWT  RAIN  TIRR   CET  PESW  TNUP  TNLF   TSON TSOC\n",
      "           dap dap kg/ha kg/ha    mm    mm    mm    mm kg/ha kg/ha  kg/ha t/ha\n",
      "  1 PT   1  40 -99  7927  6526     3    73   136    45     0   -99      0  211\n",
      "C:\\Users\\MELANI~1\\AppData\\Local\\Temp\\dssatfrjkhseg and its content has been removed.\n",
      "TWAD: 7927       Sum irrigation: 184.80\n",
      "C:\\Users\\MELANI~1\\AppData\\Local\\Temp\\dssataketdtlc created.\n",
      "Static files copied to C:\\Users\\MELANI~1\\AppData\\Local\\Temp\\dssataketdtlc.\n",
      "RUN    TRT FLO MAT TOPWT HARWT  RAIN  TIRR   CET  PESW  TNUP  TNLF   TSON TSOC\n",
      "           dap dap kg/ha kg/ha    mm    mm    mm    mm kg/ha kg/ha  kg/ha t/ha\n",
      "  1 PT   1  40 -99  8112  6689     3    71   135    44     0   -99      0  211\n",
      "C:\\Users\\MELANI~1\\AppData\\Local\\Temp\\dssataketdtlc and its content has been removed.\n",
      "TWAD: 8112       Sum irrigation: 183.30\n",
      "C:\\Users\\MELANI~1\\AppData\\Local\\Temp\\dssatsrsxwnjq created.\n",
      "Static files copied to C:\\Users\\MELANI~1\\AppData\\Local\\Temp\\dssatsrsxwnjq.\n",
      "RUN    TRT FLO MAT TOPWT HARWT  RAIN  TIRR   CET  PESW  TNUP  TNLF   TSON TSOC\n",
      "           dap dap kg/ha kg/ha    mm    mm    mm    mm kg/ha kg/ha  kg/ha t/ha\n",
      "  1 PT   1  40 -99  3966  2699     3    27   100    36     0   -99      0  211\n",
      "C:\\Users\\MELANI~1\\AppData\\Local\\Temp\\dssatsrsxwnjq and its content has been removed.\n",
      "TWAD: 3966       Sum irrigation: 138.60\n",
      "C:\\Users\\MELANI~1\\AppData\\Local\\Temp\\dssatbrzrvjgb created.\n",
      "Static files copied to C:\\Users\\MELANI~1\\AppData\\Local\\Temp\\dssatbrzrvjgb.\n",
      "RUN    TRT FLO MAT TOPWT HARWT  RAIN  TIRR   CET  PESW  TNUP  TNLF   TSON TSOC\n",
      "           dap dap kg/ha kg/ha    mm    mm    mm    mm kg/ha kg/ha  kg/ha t/ha\n",
      "  1 PT   1  40 -99  4171  2910     3    29   101    36     0   -99      0  211\n",
      "C:\\Users\\MELANI~1\\AppData\\Local\\Temp\\dssatbrzrvjgb and its content has been removed.\n",
      "TWAD: 4171       Sum irrigation: 140.40\n",
      "C:\\Users\\MELANI~1\\AppData\\Local\\Temp\\dssatbwbjduab created.\n",
      "Static files copied to C:\\Users\\MELANI~1\\AppData\\Local\\Temp\\dssatbwbjduab.\n",
      "RUN    TRT FLO MAT TOPWT HARWT  RAIN  TIRR   CET  PESW  TNUP  TNLF   TSON TSOC\n",
      "           dap dap kg/ha kg/ha    mm    mm    mm    mm kg/ha kg/ha  kg/ha t/ha\n",
      "  1 PT   1  40 -99  4503  3232     3    34   105    38     0   -99      0  211\n",
      "C:\\Users\\MELANI~1\\AppData\\Local\\Temp\\dssatbwbjduab and its content has been removed.\n",
      "TWAD: 4503       Sum irrigation: 145.60\n",
      "C:\\Users\\MELANI~1\\AppData\\Local\\Temp\\dssatpjofjflm created.\n",
      "Static files copied to C:\\Users\\MELANI~1\\AppData\\Local\\Temp\\dssatpjofjflm.\n",
      "RUN    TRT FLO MAT TOPWT HARWT  RAIN  TIRR   CET  PESW  TNUP  TNLF   TSON TSOC\n",
      "           dap dap kg/ha kg/ha    mm    mm    mm    mm kg/ha kg/ha  kg/ha t/ha\n",
      "  1 PT   1  40 -99  5818  4434     3    46   115    40     0   -99      0  211\n",
      "C:\\Users\\MELANI~1\\AppData\\Local\\Temp\\dssatpjofjflm and its content has been removed.\n",
      "TWAD: 5818       Sum irrigation: 157.60\n",
      "C:\\Users\\MELANI~1\\AppData\\Local\\Temp\\dssathvxzmqjy created.\n",
      "Static files copied to C:\\Users\\MELANI~1\\AppData\\Local\\Temp\\dssathvxzmqjy.\n",
      "RUN    TRT FLO MAT TOPWT HARWT  RAIN  TIRR   CET  PESW  TNUP  TNLF   TSON TSOC\n",
      "           dap dap kg/ha kg/ha    mm    mm    mm    mm kg/ha kg/ha  kg/ha t/ha\n",
      "  1 PT   1  40 -99  7313  5942     3    65   130    43     0   -99      0  211\n",
      "C:\\Users\\MELANI~1\\AppData\\Local\\Temp\\dssathvxzmqjy and its content has been removed.\n",
      "TWAD: 7313       Sum irrigation: 176.60\n",
      "C:\\Users\\MELANI~1\\AppData\\Local\\Temp\\dssatiosrsvsp created.\n",
      "Static files copied to C:\\Users\\MELANI~1\\AppData\\Local\\Temp\\dssatiosrsvsp.\n",
      "RUN    TRT FLO MAT TOPWT HARWT  RAIN  TIRR   CET  PESW  TNUP  TNLF   TSON TSOC\n",
      "           dap dap kg/ha kg/ha    mm    mm    mm    mm kg/ha kg/ha  kg/ha t/ha\n",
      "  1 PT   1  40 -99  7387  6011     3    66   131    43     0   -99      0  211\n",
      "C:\\Users\\MELANI~1\\AppData\\Local\\Temp\\dssatiosrsvsp and its content has been removed.\n",
      "TWAD: 7387       Sum irrigation: 178.00\n",
      "C:\\Users\\MELANI~1\\AppData\\Local\\Temp\\dssatlcpibsrm created.\n",
      "Static files copied to C:\\Users\\MELANI~1\\AppData\\Local\\Temp\\dssatlcpibsrm.\n",
      "RUN    TRT FLO MAT TOPWT HARWT  RAIN  TIRR   CET  PESW  TNUP  TNLF   TSON TSOC\n",
      "           dap dap kg/ha kg/ha    mm    mm    mm    mm kg/ha kg/ha  kg/ha t/ha\n",
      "  1 PT   1  40 -99  7222  5859     3    64   129    43     0   -99      0  211\n",
      "C:\\Users\\MELANI~1\\AppData\\Local\\Temp\\dssatlcpibsrm and its content has been removed.\n",
      "TWAD: 7222       Sum irrigation: 175.40\n",
      "C:\\Users\\MELANI~1\\AppData\\Local\\Temp\\dssatpynjfnsc created.\n",
      "Static files copied to C:\\Users\\MELANI~1\\AppData\\Local\\Temp\\dssatpynjfnsc.\n",
      "RUN    TRT FLO MAT TOPWT HARWT  RAIN  TIRR   CET  PESW  TNUP  TNLF   TSON TSOC\n",
      "           dap dap kg/ha kg/ha    mm    mm    mm    mm kg/ha kg/ha  kg/ha t/ha\n",
      "  1 PT   1  40 -99  6161  4861     3    53   120    42     0   -99      0  211\n",
      "C:\\Users\\MELANI~1\\AppData\\Local\\Temp\\dssatpynjfnsc and its content has been removed.\n",
      "TWAD: 6161       Sum irrigation: 164.80\n",
      "C:\\Users\\MELANI~1\\AppData\\Local\\Temp\\dssatvzztssuq created.\n",
      "Static files copied to C:\\Users\\MELANI~1\\AppData\\Local\\Temp\\dssatvzztssuq.\n",
      "RUN    TRT FLO MAT TOPWT HARWT  RAIN  TIRR   CET  PESW  TNUP  TNLF   TSON TSOC\n",
      "           dap dap kg/ha kg/ha    mm    mm    mm    mm kg/ha kg/ha  kg/ha t/ha\n",
      "  1 PT   1  40 -99  6781  5377     3    56   123    42     0   -99      0  211\n",
      "C:\\Users\\MELANI~1\\AppData\\Local\\Temp\\dssatvzztssuq and its content has been removed.\n",
      "TWAD: 6781       Sum irrigation: 168.00\n",
      "C:\\Users\\MELANI~1\\AppData\\Local\\Temp\\dssatpalfttnn created.\n",
      "Static files copied to C:\\Users\\MELANI~1\\AppData\\Local\\Temp\\dssatpalfttnn.\n",
      "RUN    TRT FLO MAT TOPWT HARWT  RAIN  TIRR   CET  PESW  TNUP  TNLF   TSON TSOC\n",
      "           dap dap kg/ha kg/ha    mm    mm    mm    mm kg/ha kg/ha  kg/ha t/ha\n",
      "  1 PT   1  40 -99  5324  4000     3    41   111    38     0   -99      0  211\n",
      "C:\\Users\\MELANI~1\\AppData\\Local\\Temp\\dssatpalfttnn and its content has been removed.\n",
      "TWAD: 5324       Sum irrigation: 152.60\n",
      "C:\\Users\\MELANI~1\\AppData\\Local\\Temp\\dssatxglvvlcn created.\n",
      "Static files copied to C:\\Users\\MELANI~1\\AppData\\Local\\Temp\\dssatxglvvlcn.\n",
      "RUN    TRT FLO MAT TOPWT HARWT  RAIN  TIRR   CET  PESW  TNUP  TNLF   TSON TSOC\n",
      "           dap dap kg/ha kg/ha    mm    mm    mm    mm kg/ha kg/ha  kg/ha t/ha\n",
      "  1 PT   1  40 -99  6857  5455     3    57   123    42     0   -99      0  211\n",
      "C:\\Users\\MELANI~1\\AppData\\Local\\Temp\\dssatxglvvlcn and its content has been removed.\n",
      "TWAD: 6857       Sum irrigation: 168.30\n",
      "Execution time: 502.53\n",
      "The optimal values are (1.4000000000000001, 4.1000000000000005, 7.2, 2.7)\n"
     ]
    },
    {
     "data": {
      "text/plain": [
       "(1.4000000000000001, 4.1000000000000005, 7.2, 2.7)"
      ]
     },
     "execution_count": 3,
     "metadata": {},
     "output_type": "execute_result"
    }
   ],
   "source": [
    "dates = ['8-07-2022', '14-07-2022', '20-07-2022', '25-07-2022']\n",
    "dssat.optimization_irri(dates)\n",
    "\n",
    "# Execution time: 345.98\n",
    "# The optimal values are (1.8, 2.6, 1.1, 3.1)"
   ]
  },
  {
   "cell_type": "code",
   "execution_count": 9,
   "metadata": {},
   "outputs": [
    {
     "name": "stdout",
     "output_type": "stream",
     "text": [
      "C:\\Users\\MELANI~1\\AppData\\Local\\Temp\\dssatktvqadvz created.\n",
      "Static files copied to C:\\Users\\MELANI~1\\AppData\\Local\\Temp\\dssatktvqadvz.\n",
      "RUN    TRT FLO MAT TOPWT HARWT  RAIN  TIRR   CET  PESW  TNUP  TNLF   TSON TSOC\n",
      "           dap dap kg/ha kg/ha    mm    mm    mm    mm kg/ha kg/ha  kg/ha t/ha\n",
      "  1 PT   1  40 -99  3852  2573     3    26    99    35     0   -99      0  211\n",
      "C:\\Users\\MELANI~1\\AppData\\Local\\Temp\\dssatktvqadvz and its content has been removed.\n",
      "TWAD: 3852       Sum irrigation: 137.50\n"
     ]
    },
    {
     "data": {
      "text/plain": [
       "1.2709115600000003"
      ]
     },
     "execution_count": 9,
     "metadata": {},
     "output_type": "execute_result"
    }
   ],
   "source": [
    "# dssat.irri_cost((0.4, 0.7, 2.7, 1.9), save=False)\n",
    "# 0.05688153494520677\n",
    "dssat.irri_cost((2.0, 8.3, 1.2, 2.8), save=False)\n",
    "# 0.923054795555555\n",
    "# dssat.irri_cost((0.1, 1.5, 1.2, 7), save=False)\n",
    "#0.01714889605631789"
   ]
  },
  {
   "cell_type": "code",
   "execution_count": 5,
   "metadata": {},
   "outputs": [
    {
     "name": "stdout",
     "output_type": "stream",
     "text": [
      "           @YEAR  DOY  DAS  DAP  GSTD  LAID  UYAD  LWAD  SWAD  UWAD  ...   \n",
      "2022-06-01  2022  152    2    0     7  0.00   0.0     0     0     0  ...  \\\n",
      "2022-06-02  2022  153    3    1     7  0.00   0.0     0     0     0  ...   \n",
      "2022-06-03  2022  154    4    2     7  0.00   0.0     0     0     0  ...   \n",
      "2022-06-04  2022  155    5    3     7  0.00   0.0     0     0     0  ...   \n",
      "2022-06-05  2022  156    6    4     7  0.00   0.0     0     0     0  ...   \n",
      "...          ...  ...  ...  ...   ...   ...   ...   ...   ...   ...  ...   \n",
      "2022-09-12  2022  255  105  103     2  0.14   6.3    53   785  1260  ...   \n",
      "2022-09-13  2022  256  106  104     2  0.14   6.3    51   785  1264  ...   \n",
      "2022-09-14  2022  257  107  105     2  0.13   6.3    48   785  1267  ...   \n",
      "2022-09-15  2022  258  108  106     2  0.13   6.4    46   785  1271  ...   \n",
      "2022-09-16  2022  259  109  107     2  0.12   6.4    44   785  1274  ...   \n",
      "\n",
      "            EWSD  RDPD  RL1D  RL2D  RL3D  RL4D  RL5D  SNW0C  SNW1C   \n",
      "2022-06-01   0.0  0.00  0.00  0.00  0.00  0.00  0.00      0      0  \\\n",
      "2022-06-02   0.0  0.00  0.00  0.00  0.00  0.00  0.00      0      0   \n",
      "2022-06-03   0.0  0.20  0.05  0.02  0.02  0.00  0.00      0      0   \n",
      "2022-06-04   0.0  0.20  0.05  0.05  0.02  0.00  0.00      0      0   \n",
      "2022-06-05   0.0  0.20  0.05  0.07  0.03  0.00  0.00      0      0   \n",
      "...          ...   ...   ...   ...   ...   ...   ...    ...    ...   \n",
      "2022-09-12   0.0  0.65  0.04  3.26  2.69  2.28  0.91    989      0   \n",
      "2022-09-13   0.0  0.65  0.04  3.26  2.69  2.28  0.91    992      0   \n",
      "2022-09-14   0.0  0.65  0.04  3.26  2.69  2.28  0.91    994      0   \n",
      "2022-09-15   0.0  0.65  0.04  3.26  2.69  2.28  0.91    996      0   \n",
      "2022-09-16   0.0  0.65  0.04  3.26  2.69  2.28  0.91    998      0   \n",
      "\n",
      "            Unnamed: 34  \n",
      "2022-06-01          NaN  \n",
      "2022-06-02          NaN  \n",
      "2022-06-03          NaN  \n",
      "2022-06-04          NaN  \n",
      "2022-06-05          NaN  \n",
      "...                 ...  \n",
      "2022-09-12          NaN  \n",
      "2022-09-13          NaN  \n",
      "2022-09-14          NaN  \n",
      "2022-09-15          NaN  \n",
      "2022-09-16          NaN  \n",
      "\n",
      "[108 rows x 35 columns]\n"
     ]
    }
   ],
   "source": [
    "dssat.opt_model()"
   ]
  }
 ],
 "metadata": {
  "kernelspec": {
   "display_name": "Python 3",
   "language": "python",
   "name": "python3"
  },
  "language_info": {
   "codemirror_mode": {
    "name": "ipython",
    "version": 3
   },
   "file_extension": ".py",
   "mimetype": "text/x-python",
   "name": "python",
   "nbconvert_exporter": "python",
   "pygments_lexer": "ipython3",
   "version": "3.8.10"
  },
  "orig_nbformat": 4
 },
 "nbformat": 4,
 "nbformat_minor": 2
}
