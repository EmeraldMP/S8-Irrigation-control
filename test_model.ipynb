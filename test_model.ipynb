{
 "cells": [
  {
   "cell_type": "code",
   "execution_count": 1,
   "metadata": {},
   "outputs": [],
   "source": [
    "from build_model import CreateDSSAT"
   ]
  },
  {
   "attachments": {},
   "cell_type": "markdown",
   "metadata": {},
   "source": [
    "## Create the model\n",
    "\n",
    "Give the path and create the class CreateDSSAT()"
   ]
  },
  {
   "cell_type": "code",
   "execution_count": 2,
   "metadata": {},
   "outputs": [
    {
     "name": "stdout",
     "output_type": "stream",
     "text": [
      "\n"
     ]
    }
   ],
   "source": [
    "# Path of the weather and managment files\n",
    "wth_path = \"Data\\Weather\\Essai irrigation mod.xlsx\"\n",
    "man_path = \"Data\\Probes\\Sonde Robot 2 mod.xlsx\"\n",
    "\n",
    "# Create DSSAT object\n",
    "dssat = CreateDSSAT()\n",
    "\n",
    "# Create stations\n",
    "dssat.create_wth_station(wth_path)\n",
    "dssat.create_management(man_path)"
   ]
  },
  {
   "attachments": {},
   "cell_type": "markdown",
   "metadata": {},
   "source": [
    "Run the model with the given data"
   ]
  },
  {
   "cell_type": "code",
   "execution_count": 3,
   "metadata": {},
   "outputs": [
    {
     "name": "stdout",
     "output_type": "stream",
     "text": [
      "C:\\Users\\MELANI~1\\AppData\\Local\\Temp\\dssatsdrliyvo created.\n",
      "Static files copied to C:\\Users\\MELANI~1\\AppData\\Local\\Temp\\dssatsdrliyvo.\n",
      "RUN    TRT FLO MAT TOPWT HARWT  RAIN  TIRR   CET  PESW  TNUP  TNLF   TSON TSOC\n",
      "           dap dap kg/ha kg/ha    mm    mm    mm    mm kg/ha kg/ha  kg/ha t/ha\n",
      "  1 PT   1  40 -99  3147  1892     3    13    89    33     0   -99      0  211\n",
      "C:\\Users\\MELANI~1\\AppData\\Local\\Temp\\dssatsdrliyvo and its content has been removed.\n"
     ]
    }
   ],
   "source": [
    "dssat.run_DSSAT()\n",
    "dssat.close_DSSAT()"
   ]
  },
  {
   "attachments": {},
   "cell_type": "markdown",
   "metadata": {},
   "source": [
    "Analyse de output, to acces the information of the variables use the dictionary dict_DSSAT defined as a attribute of the class"
   ]
  },
  {
   "cell_type": "code",
   "execution_count": 5,
   "metadata": {},
   "outputs": [
    {
     "name": "stdout",
     "output_type": "stream",
     "text": [
      "Index(['@YEAR', 'DOY', 'DAS', 'DAP', 'GSTD', 'LAID', 'UYAD', 'LWAD', 'SWAD',\n",
      "       'UWAD', 'RWAD', 'TWAD', 'CWAD', 'DWAD', 'HIAD', 'EWAD', 'E#AD', 'WSPD',\n",
      "       'WSGD', 'NSTD', 'LN%D', 'SH%D', 'SLAD', 'CHTD', 'CWID', 'EWSD', 'RDPD',\n",
      "       'RL1D', 'RL2D', 'RL3D', 'RL4D', 'RL5D', 'SNW0C', 'SNW1C',\n",
      "       'Unnamed: 34'],\n",
      "      dtype='object')\n",
      "LAID: Leaf area index\n"
     ]
    }
   ],
   "source": [
    "# print(dssat.output)\n",
    "print(dssat.output.columns)\n",
    "print('LAID:', dssat.dict_DSSAT['LAID'])"
   ]
  },
  {
   "cell_type": "code",
   "execution_count": 4,
   "metadata": {},
   "outputs": [
    {
     "data": {
      "application/vnd.plotly.v1+json": {
       "config": {
        "plotlyServerURL": "https://plot.ly"
       },
       "data": [
        {
         "hovertemplate": "DAP=%{x}<br>TWAD=%{y}<extra></extra>",
         "legendgroup": "",
         "line": {
          "color": "#636efa",
          "dash": "solid"
         },
         "marker": {
          "symbol": "circle"
         },
         "mode": "lines",
         "name": "",
         "orientation": "v",
         "showlegend": false,
         "type": "scatter",
         "x": [
          0,
          1,
          2,
          3,
          4,
          5,
          6,
          7,
          8,
          9,
          10,
          11,
          12,
          13,
          14,
          15,
          16,
          17,
          18,
          19,
          20,
          21,
          22,
          23,
          24,
          25,
          26,
          27,
          28,
          29,
          30,
          31,
          32,
          33,
          34,
          35,
          36,
          37,
          38,
          39,
          40,
          41,
          42,
          43,
          44,
          45,
          46,
          47,
          48,
          49,
          50,
          51,
          52,
          53,
          54,
          55,
          56,
          57,
          58,
          59,
          60,
          61,
          62,
          63,
          64,
          65,
          66,
          67,
          68,
          69,
          70,
          71,
          72,
          73,
          74,
          75,
          76,
          77,
          78,
          79,
          80,
          81,
          82,
          83,
          84,
          85,
          86,
          87,
          88,
          89,
          90,
          91,
          92,
          93,
          94,
          95,
          96,
          97,
          98,
          99,
          100,
          101,
          102,
          103,
          104,
          105,
          106,
          107
         ],
         "xaxis": "x",
         "y": [
          0,
          0,
          0,
          0,
          0,
          44,
          62,
          94,
          132,
          203,
          319,
          383,
          412,
          441,
          477,
          516,
          558,
          603,
          651,
          702,
          757,
          810,
          861,
          911,
          965,
          1017,
          1071,
          1122,
          1169,
          1236,
          1296,
          1380,
          1467,
          1550,
          1631,
          1725,
          1820,
          1908,
          2008,
          2111,
          2174,
          2239,
          2298,
          2357,
          2425,
          2519,
          2613,
          2677,
          2690,
          2718,
          2758,
          2797,
          2835,
          2870,
          2895,
          2925,
          2956,
          2969,
          2981,
          2988,
          2996,
          3001,
          3007,
          3013,
          3016,
          3023,
          3028,
          3035,
          3042,
          3048,
          3052,
          3057,
          3062,
          3066,
          3071,
          3076,
          3081,
          3086,
          3092,
          3093,
          3094,
          3095,
          3096,
          3096,
          3097,
          3098,
          3099,
          3101,
          3102,
          3104,
          3106,
          3107,
          3109,
          3111,
          3113,
          3116,
          3118,
          3120,
          3122,
          3125,
          3128,
          3131,
          3133,
          3136,
          3139,
          3141,
          3144,
          3147
         ],
         "yaxis": "y"
        }
       ],
       "layout": {
        "legend": {
         "tracegroupgap": 0
        },
        "template": {
         "data": {
          "bar": [
           {
            "error_x": {
             "color": "#2a3f5f"
            },
            "error_y": {
             "color": "#2a3f5f"
            },
            "marker": {
             "line": {
              "color": "#E5ECF6",
              "width": 0.5
             },
             "pattern": {
              "fillmode": "overlay",
              "size": 10,
              "solidity": 0.2
             }
            },
            "type": "bar"
           }
          ],
          "barpolar": [
           {
            "marker": {
             "line": {
              "color": "#E5ECF6",
              "width": 0.5
             },
             "pattern": {
              "fillmode": "overlay",
              "size": 10,
              "solidity": 0.2
             }
            },
            "type": "barpolar"
           }
          ],
          "carpet": [
           {
            "aaxis": {
             "endlinecolor": "#2a3f5f",
             "gridcolor": "white",
             "linecolor": "white",
             "minorgridcolor": "white",
             "startlinecolor": "#2a3f5f"
            },
            "baxis": {
             "endlinecolor": "#2a3f5f",
             "gridcolor": "white",
             "linecolor": "white",
             "minorgridcolor": "white",
             "startlinecolor": "#2a3f5f"
            },
            "type": "carpet"
           }
          ],
          "choropleth": [
           {
            "colorbar": {
             "outlinewidth": 0,
             "ticks": ""
            },
            "type": "choropleth"
           }
          ],
          "contour": [
           {
            "colorbar": {
             "outlinewidth": 0,
             "ticks": ""
            },
            "colorscale": [
             [
              0,
              "#0d0887"
             ],
             [
              0.1111111111111111,
              "#46039f"
             ],
             [
              0.2222222222222222,
              "#7201a8"
             ],
             [
              0.3333333333333333,
              "#9c179e"
             ],
             [
              0.4444444444444444,
              "#bd3786"
             ],
             [
              0.5555555555555556,
              "#d8576b"
             ],
             [
              0.6666666666666666,
              "#ed7953"
             ],
             [
              0.7777777777777778,
              "#fb9f3a"
             ],
             [
              0.8888888888888888,
              "#fdca26"
             ],
             [
              1,
              "#f0f921"
             ]
            ],
            "type": "contour"
           }
          ],
          "contourcarpet": [
           {
            "colorbar": {
             "outlinewidth": 0,
             "ticks": ""
            },
            "type": "contourcarpet"
           }
          ],
          "heatmap": [
           {
            "colorbar": {
             "outlinewidth": 0,
             "ticks": ""
            },
            "colorscale": [
             [
              0,
              "#0d0887"
             ],
             [
              0.1111111111111111,
              "#46039f"
             ],
             [
              0.2222222222222222,
              "#7201a8"
             ],
             [
              0.3333333333333333,
              "#9c179e"
             ],
             [
              0.4444444444444444,
              "#bd3786"
             ],
             [
              0.5555555555555556,
              "#d8576b"
             ],
             [
              0.6666666666666666,
              "#ed7953"
             ],
             [
              0.7777777777777778,
              "#fb9f3a"
             ],
             [
              0.8888888888888888,
              "#fdca26"
             ],
             [
              1,
              "#f0f921"
             ]
            ],
            "type": "heatmap"
           }
          ],
          "heatmapgl": [
           {
            "colorbar": {
             "outlinewidth": 0,
             "ticks": ""
            },
            "colorscale": [
             [
              0,
              "#0d0887"
             ],
             [
              0.1111111111111111,
              "#46039f"
             ],
             [
              0.2222222222222222,
              "#7201a8"
             ],
             [
              0.3333333333333333,
              "#9c179e"
             ],
             [
              0.4444444444444444,
              "#bd3786"
             ],
             [
              0.5555555555555556,
              "#d8576b"
             ],
             [
              0.6666666666666666,
              "#ed7953"
             ],
             [
              0.7777777777777778,
              "#fb9f3a"
             ],
             [
              0.8888888888888888,
              "#fdca26"
             ],
             [
              1,
              "#f0f921"
             ]
            ],
            "type": "heatmapgl"
           }
          ],
          "histogram": [
           {
            "marker": {
             "pattern": {
              "fillmode": "overlay",
              "size": 10,
              "solidity": 0.2
             }
            },
            "type": "histogram"
           }
          ],
          "histogram2d": [
           {
            "colorbar": {
             "outlinewidth": 0,
             "ticks": ""
            },
            "colorscale": [
             [
              0,
              "#0d0887"
             ],
             [
              0.1111111111111111,
              "#46039f"
             ],
             [
              0.2222222222222222,
              "#7201a8"
             ],
             [
              0.3333333333333333,
              "#9c179e"
             ],
             [
              0.4444444444444444,
              "#bd3786"
             ],
             [
              0.5555555555555556,
              "#d8576b"
             ],
             [
              0.6666666666666666,
              "#ed7953"
             ],
             [
              0.7777777777777778,
              "#fb9f3a"
             ],
             [
              0.8888888888888888,
              "#fdca26"
             ],
             [
              1,
              "#f0f921"
             ]
            ],
            "type": "histogram2d"
           }
          ],
          "histogram2dcontour": [
           {
            "colorbar": {
             "outlinewidth": 0,
             "ticks": ""
            },
            "colorscale": [
             [
              0,
              "#0d0887"
             ],
             [
              0.1111111111111111,
              "#46039f"
             ],
             [
              0.2222222222222222,
              "#7201a8"
             ],
             [
              0.3333333333333333,
              "#9c179e"
             ],
             [
              0.4444444444444444,
              "#bd3786"
             ],
             [
              0.5555555555555556,
              "#d8576b"
             ],
             [
              0.6666666666666666,
              "#ed7953"
             ],
             [
              0.7777777777777778,
              "#fb9f3a"
             ],
             [
              0.8888888888888888,
              "#fdca26"
             ],
             [
              1,
              "#f0f921"
             ]
            ],
            "type": "histogram2dcontour"
           }
          ],
          "mesh3d": [
           {
            "colorbar": {
             "outlinewidth": 0,
             "ticks": ""
            },
            "type": "mesh3d"
           }
          ],
          "parcoords": [
           {
            "line": {
             "colorbar": {
              "outlinewidth": 0,
              "ticks": ""
             }
            },
            "type": "parcoords"
           }
          ],
          "pie": [
           {
            "automargin": true,
            "type": "pie"
           }
          ],
          "scatter": [
           {
            "fillpattern": {
             "fillmode": "overlay",
             "size": 10,
             "solidity": 0.2
            },
            "type": "scatter"
           }
          ],
          "scatter3d": [
           {
            "line": {
             "colorbar": {
              "outlinewidth": 0,
              "ticks": ""
             }
            },
            "marker": {
             "colorbar": {
              "outlinewidth": 0,
              "ticks": ""
             }
            },
            "type": "scatter3d"
           }
          ],
          "scattercarpet": [
           {
            "marker": {
             "colorbar": {
              "outlinewidth": 0,
              "ticks": ""
             }
            },
            "type": "scattercarpet"
           }
          ],
          "scattergeo": [
           {
            "marker": {
             "colorbar": {
              "outlinewidth": 0,
              "ticks": ""
             }
            },
            "type": "scattergeo"
           }
          ],
          "scattergl": [
           {
            "marker": {
             "colorbar": {
              "outlinewidth": 0,
              "ticks": ""
             }
            },
            "type": "scattergl"
           }
          ],
          "scattermapbox": [
           {
            "marker": {
             "colorbar": {
              "outlinewidth": 0,
              "ticks": ""
             }
            },
            "type": "scattermapbox"
           }
          ],
          "scatterpolar": [
           {
            "marker": {
             "colorbar": {
              "outlinewidth": 0,
              "ticks": ""
             }
            },
            "type": "scatterpolar"
           }
          ],
          "scatterpolargl": [
           {
            "marker": {
             "colorbar": {
              "outlinewidth": 0,
              "ticks": ""
             }
            },
            "type": "scatterpolargl"
           }
          ],
          "scatterternary": [
           {
            "marker": {
             "colorbar": {
              "outlinewidth": 0,
              "ticks": ""
             }
            },
            "type": "scatterternary"
           }
          ],
          "surface": [
           {
            "colorbar": {
             "outlinewidth": 0,
             "ticks": ""
            },
            "colorscale": [
             [
              0,
              "#0d0887"
             ],
             [
              0.1111111111111111,
              "#46039f"
             ],
             [
              0.2222222222222222,
              "#7201a8"
             ],
             [
              0.3333333333333333,
              "#9c179e"
             ],
             [
              0.4444444444444444,
              "#bd3786"
             ],
             [
              0.5555555555555556,
              "#d8576b"
             ],
             [
              0.6666666666666666,
              "#ed7953"
             ],
             [
              0.7777777777777778,
              "#fb9f3a"
             ],
             [
              0.8888888888888888,
              "#fdca26"
             ],
             [
              1,
              "#f0f921"
             ]
            ],
            "type": "surface"
           }
          ],
          "table": [
           {
            "cells": {
             "fill": {
              "color": "#EBF0F8"
             },
             "line": {
              "color": "white"
             }
            },
            "header": {
             "fill": {
              "color": "#C8D4E3"
             },
             "line": {
              "color": "white"
             }
            },
            "type": "table"
           }
          ]
         },
         "layout": {
          "annotationdefaults": {
           "arrowcolor": "#2a3f5f",
           "arrowhead": 0,
           "arrowwidth": 1
          },
          "autotypenumbers": "strict",
          "coloraxis": {
           "colorbar": {
            "outlinewidth": 0,
            "ticks": ""
           }
          },
          "colorscale": {
           "diverging": [
            [
             0,
             "#8e0152"
            ],
            [
             0.1,
             "#c51b7d"
            ],
            [
             0.2,
             "#de77ae"
            ],
            [
             0.3,
             "#f1b6da"
            ],
            [
             0.4,
             "#fde0ef"
            ],
            [
             0.5,
             "#f7f7f7"
            ],
            [
             0.6,
             "#e6f5d0"
            ],
            [
             0.7,
             "#b8e186"
            ],
            [
             0.8,
             "#7fbc41"
            ],
            [
             0.9,
             "#4d9221"
            ],
            [
             1,
             "#276419"
            ]
           ],
           "sequential": [
            [
             0,
             "#0d0887"
            ],
            [
             0.1111111111111111,
             "#46039f"
            ],
            [
             0.2222222222222222,
             "#7201a8"
            ],
            [
             0.3333333333333333,
             "#9c179e"
            ],
            [
             0.4444444444444444,
             "#bd3786"
            ],
            [
             0.5555555555555556,
             "#d8576b"
            ],
            [
             0.6666666666666666,
             "#ed7953"
            ],
            [
             0.7777777777777778,
             "#fb9f3a"
            ],
            [
             0.8888888888888888,
             "#fdca26"
            ],
            [
             1,
             "#f0f921"
            ]
           ],
           "sequentialminus": [
            [
             0,
             "#0d0887"
            ],
            [
             0.1111111111111111,
             "#46039f"
            ],
            [
             0.2222222222222222,
             "#7201a8"
            ],
            [
             0.3333333333333333,
             "#9c179e"
            ],
            [
             0.4444444444444444,
             "#bd3786"
            ],
            [
             0.5555555555555556,
             "#d8576b"
            ],
            [
             0.6666666666666666,
             "#ed7953"
            ],
            [
             0.7777777777777778,
             "#fb9f3a"
            ],
            [
             0.8888888888888888,
             "#fdca26"
            ],
            [
             1,
             "#f0f921"
            ]
           ]
          },
          "colorway": [
           "#636efa",
           "#EF553B",
           "#00cc96",
           "#ab63fa",
           "#FFA15A",
           "#19d3f3",
           "#FF6692",
           "#B6E880",
           "#FF97FF",
           "#FECB52"
          ],
          "font": {
           "color": "#2a3f5f"
          },
          "geo": {
           "bgcolor": "white",
           "lakecolor": "white",
           "landcolor": "#E5ECF6",
           "showlakes": true,
           "showland": true,
           "subunitcolor": "white"
          },
          "hoverlabel": {
           "align": "left"
          },
          "hovermode": "closest",
          "mapbox": {
           "style": "light"
          },
          "paper_bgcolor": "white",
          "plot_bgcolor": "#E5ECF6",
          "polar": {
           "angularaxis": {
            "gridcolor": "white",
            "linecolor": "white",
            "ticks": ""
           },
           "bgcolor": "#E5ECF6",
           "radialaxis": {
            "gridcolor": "white",
            "linecolor": "white",
            "ticks": ""
           }
          },
          "scene": {
           "xaxis": {
            "backgroundcolor": "#E5ECF6",
            "gridcolor": "white",
            "gridwidth": 2,
            "linecolor": "white",
            "showbackground": true,
            "ticks": "",
            "zerolinecolor": "white"
           },
           "yaxis": {
            "backgroundcolor": "#E5ECF6",
            "gridcolor": "white",
            "gridwidth": 2,
            "linecolor": "white",
            "showbackground": true,
            "ticks": "",
            "zerolinecolor": "white"
           },
           "zaxis": {
            "backgroundcolor": "#E5ECF6",
            "gridcolor": "white",
            "gridwidth": 2,
            "linecolor": "white",
            "showbackground": true,
            "ticks": "",
            "zerolinecolor": "white"
           }
          },
          "shapedefaults": {
           "line": {
            "color": "#2a3f5f"
           }
          },
          "ternary": {
           "aaxis": {
            "gridcolor": "white",
            "linecolor": "white",
            "ticks": ""
           },
           "baxis": {
            "gridcolor": "white",
            "linecolor": "white",
            "ticks": ""
           },
           "bgcolor": "#E5ECF6",
           "caxis": {
            "gridcolor": "white",
            "linecolor": "white",
            "ticks": ""
           }
          },
          "title": {
           "x": 0.05
          },
          "xaxis": {
           "automargin": true,
           "gridcolor": "white",
           "linecolor": "white",
           "ticks": "",
           "title": {
            "standoff": 15
           },
           "zerolinecolor": "white",
           "zerolinewidth": 2
          },
          "yaxis": {
           "automargin": true,
           "gridcolor": "white",
           "linecolor": "white",
           "ticks": "",
           "title": {
            "standoff": 15
           },
           "zerolinecolor": "white",
           "zerolinewidth": 2
          }
         }
        },
        "title": {
         "text": "Plant grow"
        },
        "xaxis": {
         "anchor": "y",
         "domain": [
          0,
          1
         ],
         "title": {
          "text": "DAP"
         }
        },
        "yaxis": {
         "anchor": "x",
         "domain": [
          0,
          1
         ],
         "title": {
          "text": "TWAD"
         }
        }
       }
      }
     },
     "metadata": {},
     "output_type": "display_data"
    }
   ],
   "source": [
    "fig = dssat.output.plot(x='DAP', y='TWAD', title='Plant grow')\n",
    "fig.show()"
   ]
  },
  {
   "attachments": {},
   "cell_type": "markdown",
   "metadata": {},
   "source": [
    "## Optimize the irrigation for given dates\n",
    "\n",
    "We give dates optimize, and run the function"
   ]
  },
  {
   "cell_type": "code",
   "execution_count": 7,
   "metadata": {},
   "outputs": [
    {
     "name": "stdout",
     "output_type": "stream",
     "text": [
      "C:\\Users\\MELANI~1\\AppData\\Local\\Temp\\dssatknftghwf created.\n",
      "Static files copied to C:\\Users\\MELANI~1\\AppData\\Local\\Temp\\dssatknftghwf.\n",
      "RUN    TRT FLO MAT TOPWT HARWT  RAIN  TIRR   CET  PESW  TNUP  TNLF   TSON TSOC\n",
      "           dap dap kg/ha kg/ha    mm    mm    mm    mm kg/ha kg/ha  kg/ha t/ha\n",
      "  1 PT   1  40 -99  3147  1892     3    13    89    33     0   -99      0  211\n",
      "Output model save in attribute new_output\n",
      "C:\\Users\\MELANI~1\\AppData\\Local\\Temp\\dssatknftghwf and its content has been removed.\n",
      "TWAD: 3147       Sum irrigation: 123.20\n"
     ]
    },
    {
     "data": {
      "text/plain": [
       "0.80120401"
      ]
     },
     "execution_count": 7,
     "metadata": {},
     "output_type": "execute_result"
    }
   ],
   "source": [
    "dates = ['8-07-2022', '15-07-2022', '22-07-2022', '30-07-2022']\n",
    "dssat.next_dates = dates\n",
    "dssat.irri_cost((0, 0, 0, 0), save=True)\n",
    "# 0.3607097580593672"
   ]
  },
  {
   "cell_type": "code",
   "execution_count": 5,
   "metadata": {},
   "outputs": [
    {
     "name": "stdout",
     "output_type": "stream",
     "text": [
      "C:\\Users\\MELANI~1\\AppData\\Local\\Temp\\dssatmxfzcqrx created.\n",
      "Static files copied to C:\\Users\\MELANI~1\\AppData\\Local\\Temp\\dssatmxfzcqrx.\n",
      "RUN    TRT FLO MAT TOPWT HARWT  RAIN  TIRR   CET  PESW  TNUP  TNLF   TSON TSOC\n",
      "           dap dap kg/ha kg/ha    mm    mm    mm    mm kg/ha kg/ha  kg/ha t/ha\n",
      "  1 PT   1  40 -99 11362  9588     3   113   162    59     0   -99      0  211\n",
      "C:\\Users\\MELANI~1\\AppData\\Local\\Temp\\dssatmxfzcqrx and its content has been removed.\n",
      "TWAD: 11362       Sum irrigation: 223.20\n",
      "C:\\Users\\MELANI~1\\AppData\\Local\\Temp\\dssatqedzvvgd created.\n",
      "Static files copied to C:\\Users\\MELANI~1\\AppData\\Local\\Temp\\dssatqedzvvgd.\n",
      "RUN    TRT FLO MAT TOPWT HARWT  RAIN  TIRR   CET  PESW  TNUP  TNLF   TSON TSOC\n",
      "           dap dap kg/ha kg/ha    mm    mm    mm    mm kg/ha kg/ha  kg/ha t/ha\n",
      "  1 PT   1  40 -99 10893  9170     3   102   158    52     0   -99      0  211\n",
      "C:\\Users\\MELANI~1\\AppData\\Local\\Temp\\dssatqedzvvgd and its content has been removed.\n",
      "TWAD: 10893       Sum irrigation: 212.20\n",
      "C:\\Users\\MELANI~1\\AppData\\Local\\Temp\\dssattdbxgqog created.\n",
      "Static files copied to C:\\Users\\MELANI~1\\AppData\\Local\\Temp\\dssattdbxgqog.\n",
      "RUN    TRT FLO MAT TOPWT HARWT  RAIN  TIRR   CET  PESW  TNUP  TNLF   TSON TSOC\n",
      "           dap dap kg/ha kg/ha    mm    mm    mm    mm kg/ha kg/ha  kg/ha t/ha\n",
      "  1 PT   1  40 -99 11362  9588     3   116   162    62     0   -99      0  211\n",
      "C:\\Users\\MELANI~1\\AppData\\Local\\Temp\\dssattdbxgqog and its content has been removed.\n",
      "TWAD: 11362       Sum irrigation: 226.90\n",
      "C:\\Users\\MELANI~1\\AppData\\Local\\Temp\\dssatmtdcgsfx created.\n",
      "Static files copied to C:\\Users\\MELANI~1\\AppData\\Local\\Temp\\dssatmtdcgsfx.\n",
      "RUN    TRT FLO MAT TOPWT HARWT  RAIN  TIRR   CET  PESW  TNUP  TNLF   TSON TSOC\n",
      "           dap dap kg/ha kg/ha    mm    mm    mm    mm kg/ha kg/ha  kg/ha t/ha\n",
      "  1 PT   1  40 -99 11362  9588     3   114   162    60     0   -99      0  211\n",
      "C:\\Users\\MELANI~1\\AppData\\Local\\Temp\\dssatmtdcgsfx and its content has been removed.\n",
      "TWAD: 11362       Sum irrigation: 225.00\n",
      "C:\\Users\\MELANI~1\\AppData\\Local\\Temp\\dssatbfsflrxq created.\n",
      "Static files copied to C:\\Users\\MELANI~1\\AppData\\Local\\Temp\\dssatbfsflrxq.\n",
      "RUN    TRT FLO MAT TOPWT HARWT  RAIN  TIRR   CET  PESW  TNUP  TNLF   TSON TSOC\n",
      "           dap dap kg/ha kg/ha    mm    mm    mm    mm kg/ha kg/ha  kg/ha t/ha\n",
      "  1 PT   1  40 -99  9660  8082     3    86   147    48     0   -99      0  211\n",
      "C:\\Users\\MELANI~1\\AppData\\Local\\Temp\\dssatbfsflrxq and its content has been removed.\n",
      "TWAD: 9660       Sum irrigation: 197.50\n",
      "C:\\Users\\MELANI~1\\AppData\\Local\\Temp\\dssatlzverpwp created.\n",
      "Static files copied to C:\\Users\\MELANI~1\\AppData\\Local\\Temp\\dssatlzverpwp.\n",
      "RUN    TRT FLO MAT TOPWT HARWT  RAIN  TIRR   CET  PESW  TNUP  TNLF   TSON TSOC\n",
      "           dap dap kg/ha kg/ha    mm    mm    mm    mm kg/ha kg/ha  kg/ha t/ha\n",
      "  1 PT   1  40 -99 11362  9588     3   117   162    63     0   -99      0  211\n",
      "C:\\Users\\MELANI~1\\AppData\\Local\\Temp\\dssatlzverpwp and its content has been removed.\n",
      "TWAD: 11362       Sum irrigation: 228.10\n",
      "C:\\Users\\MELANI~1\\AppData\\Local\\Temp\\dssatiggvccko created.\n",
      "Static files copied to C:\\Users\\MELANI~1\\AppData\\Local\\Temp\\dssatiggvccko.\n",
      "RUN    TRT FLO MAT TOPWT HARWT  RAIN  TIRR   CET  PESW  TNUP  TNLF   TSON TSOC\n",
      "           dap dap kg/ha kg/ha    mm    mm    mm    mm kg/ha kg/ha  kg/ha t/ha\n",
      "  1 PT   1  40 -99 10483  8812     3    96   154    50     0   -99      0  211\n",
      "C:\\Users\\MELANI~1\\AppData\\Local\\Temp\\dssatiggvccko and its content has been removed.\n",
      "TWAD: 10483       Sum irrigation: 206.20\n",
      "C:\\Users\\MELANI~1\\AppData\\Local\\Temp\\dssatjywrgvif created.\n",
      "Static files copied to C:\\Users\\MELANI~1\\AppData\\Local\\Temp\\dssatjywrgvif.\n",
      "RUN    TRT FLO MAT TOPWT HARWT  RAIN  TIRR   CET  PESW  TNUP  TNLF   TSON TSOC\n",
      "           dap dap kg/ha kg/ha    mm    mm    mm    mm kg/ha kg/ha  kg/ha t/ha\n",
      "  1 PT   1  40 -99 10893  9170     3   102   158    52     0   -99      0  211\n",
      "C:\\Users\\MELANI~1\\AppData\\Local\\Temp\\dssatjywrgvif and its content has been removed.\n",
      "TWAD: 10893       Sum irrigation: 212.90\n",
      "C:\\Users\\MELANI~1\\AppData\\Local\\Temp\\dssatoiowoswl created.\n",
      "Static files copied to C:\\Users\\MELANI~1\\AppData\\Local\\Temp\\dssatoiowoswl.\n",
      "RUN    TRT FLO MAT TOPWT HARWT  RAIN  TIRR   CET  PESW  TNUP  TNLF   TSON TSOC\n",
      "           dap dap kg/ha kg/ha    mm    mm    mm    mm kg/ha kg/ha  kg/ha t/ha\n",
      "  1 PT   1  40 -99 11161  9405     3   107   160    55     0   -99      0  211\n",
      "C:\\Users\\MELANI~1\\AppData\\Local\\Temp\\dssatoiowoswl and its content has been removed.\n",
      "TWAD: 11161       Sum irrigation: 218.00\n",
      "C:\\Users\\MELANI~1\\AppData\\Local\\Temp\\dssathusdrzyt created.\n",
      "Static files copied to C:\\Users\\MELANI~1\\AppData\\Local\\Temp\\dssathusdrzyt.\n",
      "RUN    TRT FLO MAT TOPWT HARWT  RAIN  TIRR   CET  PESW  TNUP  TNLF   TSON TSOC\n",
      "           dap dap kg/ha kg/ha    mm    mm    mm    mm kg/ha kg/ha  kg/ha t/ha\n",
      "  1 PT   1  40 -99 11362  9588     3   121   162    67     0   -99      0  211\n",
      "C:\\Users\\MELANI~1\\AppData\\Local\\Temp\\dssathusdrzyt and its content has been removed.\n",
      "TWAD: 11362       Sum irrigation: 232.00\n",
      "C:\\Users\\MELANI~1\\AppData\\Local\\Temp\\dssataptbvakt created.\n",
      "Static files copied to C:\\Users\\MELANI~1\\AppData\\Local\\Temp\\dssataptbvakt.\n",
      "RUN    TRT FLO MAT TOPWT HARWT  RAIN  TIRR   CET  PESW  TNUP  TNLF   TSON TSOC\n",
      "           dap dap kg/ha kg/ha    mm    mm    mm    mm kg/ha kg/ha  kg/ha t/ha\n",
      "  1 PT   1  40 -99  9776  8189     3    88   148    48     0   -99      0  211\n",
      "C:\\Users\\MELANI~1\\AppData\\Local\\Temp\\dssataptbvakt and its content has been removed.\n",
      "TWAD: 9776       Sum irrigation: 199.10\n",
      "C:\\Users\\MELANI~1\\AppData\\Local\\Temp\\dssataugfwynb created.\n",
      "Static files copied to C:\\Users\\MELANI~1\\AppData\\Local\\Temp\\dssataugfwynb.\n",
      "RUN    TRT FLO MAT TOPWT HARWT  RAIN  TIRR   CET  PESW  TNUP  TNLF   TSON TSOC\n",
      "           dap dap kg/ha kg/ha    mm    mm    mm    mm kg/ha kg/ha  kg/ha t/ha\n",
      "  1 PT   1  40 -99 11362  9588     3   117   162    63     0   -99      0  211\n",
      "C:\\Users\\MELANI~1\\AppData\\Local\\Temp\\dssataugfwynb and its content has been removed.\n",
      "TWAD: 11362       Sum irrigation: 227.80\n",
      "C:\\Users\\MELANI~1\\AppData\\Local\\Temp\\dssatqxkxemgt created.\n",
      "Static files copied to C:\\Users\\MELANI~1\\AppData\\Local\\Temp\\dssatqxkxemgt.\n",
      "RUN    TRT FLO MAT TOPWT HARWT  RAIN  TIRR   CET  PESW  TNUP  TNLF   TSON TSOC\n",
      "           dap dap kg/ha kg/ha    mm    mm    mm    mm kg/ha kg/ha  kg/ha t/ha\n",
      "  1 PT   1  40 -99 11362  9588     3   124   162    70     0   -99      0  211\n",
      "C:\\Users\\MELANI~1\\AppData\\Local\\Temp\\dssatqxkxemgt and its content has been removed.\n",
      "TWAD: 11362       Sum irrigation: 234.40\n",
      "C:\\Users\\MELANI~1\\AppData\\Local\\Temp\\dssatzslenugl created.\n",
      "Static files copied to C:\\Users\\MELANI~1\\AppData\\Local\\Temp\\dssatzslenugl.\n",
      "RUN    TRT FLO MAT TOPWT HARWT  RAIN  TIRR   CET  PESW  TNUP  TNLF   TSON TSOC\n",
      "           dap dap kg/ha kg/ha    mm    mm    mm    mm kg/ha kg/ha  kg/ha t/ha\n",
      "  1 PT   1  40 -99 11272  9503     3   110   162    57     0   -99      0  211\n",
      "C:\\Users\\MELANI~1\\AppData\\Local\\Temp\\dssatzslenugl and its content has been removed.\n",
      "TWAD: 11272       Sum irrigation: 221.00\n",
      "C:\\Users\\MELANI~1\\AppData\\Local\\Temp\\dssatgxfixnsq created.\n",
      "Static files copied to C:\\Users\\MELANI~1\\AppData\\Local\\Temp\\dssatgxfixnsq.\n",
      "RUN    TRT FLO MAT TOPWT HARWT  RAIN  TIRR   CET  PESW  TNUP  TNLF   TSON TSOC\n",
      "           dap dap kg/ha kg/ha    mm    mm    mm    mm kg/ha kg/ha  kg/ha t/ha\n",
      "  1 PT   1  40 -99  9039  7528     3    80   142    47     0   -99      0  211\n",
      "C:\\Users\\MELANI~1\\AppData\\Local\\Temp\\dssatgxfixnsq and its content has been removed.\n",
      "TWAD: 9039       Sum irrigation: 190.40\n",
      "C:\\Users\\MELANI~1\\AppData\\Local\\Temp\\dssatkfuxgezi created.\n",
      "Static files copied to C:\\Users\\MELANI~1\\AppData\\Local\\Temp\\dssatkfuxgezi.\n",
      "RUN    TRT FLO MAT TOPWT HARWT  RAIN  TIRR   CET  PESW  TNUP  TNLF   TSON TSOC\n",
      "           dap dap kg/ha kg/ha    mm    mm    mm    mm kg/ha kg/ha  kg/ha t/ha\n",
      "  1 PT   1  40 -99 11362  9588     3   120   162    66     0   -99      0  211\n",
      "C:\\Users\\MELANI~1\\AppData\\Local\\Temp\\dssatkfuxgezi and its content has been removed.\n",
      "TWAD: 11362       Sum irrigation: 230.50\n",
      "C:\\Users\\MELANI~1\\AppData\\Local\\Temp\\dssatsutpyzkh created.\n",
      "Static files copied to C:\\Users\\MELANI~1\\AppData\\Local\\Temp\\dssatsutpyzkh.\n",
      "RUN    TRT FLO MAT TOPWT HARWT  RAIN  TIRR   CET  PESW  TNUP  TNLF   TSON TSOC\n",
      "           dap dap kg/ha kg/ha    mm    mm    mm    mm kg/ha kg/ha  kg/ha t/ha\n",
      "  1 PT   1  40 -99 11362  9588     3   148   162    94     0   -99      0  211\n",
      "C:\\Users\\MELANI~1\\AppData\\Local\\Temp\\dssatsutpyzkh and its content has been removed.\n",
      "TWAD: 11362       Sum irrigation: 259.70\n",
      "C:\\Users\\MELANI~1\\AppData\\Local\\Temp\\dssatteclmtap created.\n",
      "Static files copied to C:\\Users\\MELANI~1\\AppData\\Local\\Temp\\dssatteclmtap.\n",
      "RUN    TRT FLO MAT TOPWT HARWT  RAIN  TIRR   CET  PESW  TNUP  TNLF   TSON TSOC\n",
      "           dap dap kg/ha kg/ha    mm    mm    mm    mm kg/ha kg/ha  kg/ha t/ha\n",
      "  1 PT   1  40 -99 11003  9267     3   104   159    53     0   -99      0  211\n",
      "C:\\Users\\MELANI~1\\AppData\\Local\\Temp\\dssatteclmtap and its content has been removed.\n",
      "TWAD: 11003       Sum irrigation: 214.20\n",
      "C:\\Users\\MELANI~1\\AppData\\Local\\Temp\\dssatrkkndeno created.\n",
      "Static files copied to C:\\Users\\MELANI~1\\AppData\\Local\\Temp\\dssatrkkndeno.\n",
      "RUN    TRT FLO MAT TOPWT HARWT  RAIN  TIRR   CET  PESW  TNUP  TNLF   TSON TSOC\n",
      "           dap dap kg/ha kg/ha    mm    mm    mm    mm kg/ha kg/ha  kg/ha t/ha\n",
      "  1 PT   1  40 -99 11362  9588     3   129   162    75     0   -99      0  211\n",
      "C:\\Users\\MELANI~1\\AppData\\Local\\Temp\\dssatrkkndeno and its content has been removed.\n",
      "TWAD: 11362       Sum irrigation: 239.80\n",
      "C:\\Users\\MELANI~1\\AppData\\Local\\Temp\\dssatsrljflrg created.\n",
      "Static files copied to C:\\Users\\MELANI~1\\AppData\\Local\\Temp\\dssatsrljflrg.\n",
      "RUN    TRT FLO MAT TOPWT HARWT  RAIN  TIRR   CET  PESW  TNUP  TNLF   TSON TSOC\n",
      "           dap dap kg/ha kg/ha    mm    mm    mm    mm kg/ha kg/ha  kg/ha t/ha\n",
      "  1 PT   1  40 -99 11362  9588     3   123   162    69     0   -99      0  211\n",
      "C:\\Users\\MELANI~1\\AppData\\Local\\Temp\\dssatsrljflrg and its content has been removed.\n",
      "TWAD: 11362       Sum irrigation: 234.00\n",
      "C:\\Users\\MELANI~1\\AppData\\Local\\Temp\\dssatwwfjxubl created.\n",
      "Static files copied to C:\\Users\\MELANI~1\\AppData\\Local\\Temp\\dssatwwfjxubl.\n",
      "RUN    TRT FLO MAT TOPWT HARWT  RAIN  TIRR   CET  PESW  TNUP  TNLF   TSON TSOC\n",
      "           dap dap kg/ha kg/ha    mm    mm    mm    mm kg/ha kg/ha  kg/ha t/ha\n",
      "  1 PT   1  40 -99 11362  9588     3   114   162    60     0   -99      0  211\n",
      "C:\\Users\\MELANI~1\\AppData\\Local\\Temp\\dssatwwfjxubl and its content has been removed.\n",
      "TWAD: 11362       Sum irrigation: 225.00\n",
      "C:\\Users\\MELANI~1\\AppData\\Local\\Temp\\dssatfsrmxyhc created.\n",
      "Static files copied to C:\\Users\\MELANI~1\\AppData\\Local\\Temp\\dssatfsrmxyhc.\n",
      "RUN    TRT FLO MAT TOPWT HARWT  RAIN  TIRR   CET  PESW  TNUP  TNLF   TSON TSOC\n",
      "           dap dap kg/ha kg/ha    mm    mm    mm    mm kg/ha kg/ha  kg/ha t/ha\n",
      "  1 PT   1  40 -99 10823  9109     3   101   157    52     0   -99      0  211\n",
      "C:\\Users\\MELANI~1\\AppData\\Local\\Temp\\dssatfsrmxyhc and its content has been removed.\n",
      "TWAD: 10823       Sum irrigation: 211.20\n",
      "C:\\Users\\MELANI~1\\AppData\\Local\\Temp\\dssatgolfcpvb created.\n",
      "Static files copied to C:\\Users\\MELANI~1\\AppData\\Local\\Temp\\dssatgolfcpvb.\n",
      "RUN    TRT FLO MAT TOPWT HARWT  RAIN  TIRR   CET  PESW  TNUP  TNLF   TSON TSOC\n",
      "           dap dap kg/ha kg/ha    mm    mm    mm    mm kg/ha kg/ha  kg/ha t/ha\n",
      "  1 PT   1  40 -99 11362  9588     3   124   162    70     0   -99      0  211\n",
      "C:\\Users\\MELANI~1\\AppData\\Local\\Temp\\dssatgolfcpvb and its content has been removed.\n",
      "TWAD: 11362       Sum irrigation: 235.40\n",
      "C:\\Users\\MELANI~1\\AppData\\Local\\Temp\\dssatwzhsrjhd created.\n",
      "Static files copied to C:\\Users\\MELANI~1\\AppData\\Local\\Temp\\dssatwzhsrjhd.\n",
      "RUN    TRT FLO MAT TOPWT HARWT  RAIN  TIRR   CET  PESW  TNUP  TNLF   TSON TSOC\n",
      "           dap dap kg/ha kg/ha    mm    mm    mm    mm kg/ha kg/ha  kg/ha t/ha\n",
      "  1 PT   1  40 -99 11362  9588     3   114   162    60     0   -99      0  211\n",
      "C:\\Users\\MELANI~1\\AppData\\Local\\Temp\\dssatwzhsrjhd and its content has been removed.\n",
      "TWAD: 11362       Sum irrigation: 224.90\n",
      "C:\\Users\\MELANI~1\\AppData\\Local\\Temp\\dssatqxbzzezf created.\n",
      "Static files copied to C:\\Users\\MELANI~1\\AppData\\Local\\Temp\\dssatqxbzzezf.\n",
      "RUN    TRT FLO MAT TOPWT HARWT  RAIN  TIRR   CET  PESW  TNUP  TNLF   TSON TSOC\n",
      "           dap dap kg/ha kg/ha    mm    mm    mm    mm kg/ha kg/ha  kg/ha t/ha\n",
      "  1 PT   1  40 -99 11362  9588     3   122   162    68     0   -99      0  211\n",
      "C:\\Users\\MELANI~1\\AppData\\Local\\Temp\\dssatqxbzzezf and its content has been removed.\n",
      "TWAD: 11362       Sum irrigation: 232.90\n",
      "C:\\Users\\MELANI~1\\AppData\\Local\\Temp\\dssatyragezbk created.\n",
      "Static files copied to C:\\Users\\MELANI~1\\AppData\\Local\\Temp\\dssatyragezbk.\n",
      "RUN    TRT FLO MAT TOPWT HARWT  RAIN  TIRR   CET  PESW  TNUP  TNLF   TSON TSOC\n",
      "           dap dap kg/ha kg/ha    mm    mm    mm    mm kg/ha kg/ha  kg/ha t/ha\n",
      "  1 PT   1  40 -99 10768  9061     3   100   157    52     0   -99      0  211\n",
      "C:\\Users\\MELANI~1\\AppData\\Local\\Temp\\dssatyragezbk and its content has been removed.\n",
      "TWAD: 10768       Sum irrigation: 211.10\n",
      "C:\\Users\\MELANI~1\\AppData\\Local\\Temp\\dssatghrmoqup created.\n",
      "Static files copied to C:\\Users\\MELANI~1\\AppData\\Local\\Temp\\dssatghrmoqup.\n",
      "RUN    TRT FLO MAT TOPWT HARWT  RAIN  TIRR   CET  PESW  TNUP  TNLF   TSON TSOC\n",
      "           dap dap kg/ha kg/ha    mm    mm    mm    mm kg/ha kg/ha  kg/ha t/ha\n",
      "  1 PT   1  40 -99 10269  8624     3    93   152    49     0   -99      0  211\n",
      "C:\\Users\\MELANI~1\\AppData\\Local\\Temp\\dssatghrmoqup and its content has been removed.\n",
      "TWAD: 10269       Sum irrigation: 203.70\n",
      "C:\\Users\\MELANI~1\\AppData\\Local\\Temp\\dssatwnucvchn created.\n",
      "Static files copied to C:\\Users\\MELANI~1\\AppData\\Local\\Temp\\dssatwnucvchn.\n",
      "RUN    TRT FLO MAT TOPWT HARWT  RAIN  TIRR   CET  PESW  TNUP  TNLF   TSON TSOC\n",
      "           dap dap kg/ha kg/ha    mm    mm    mm    mm kg/ha kg/ha  kg/ha t/ha\n",
      "  1 PT   1  40 -99 10694  8995     3    99   156    51     0   -99      0  211\n",
      "C:\\Users\\MELANI~1\\AppData\\Local\\Temp\\dssatwnucvchn and its content has been removed.\n",
      "TWAD: 10694       Sum irrigation: 209.30\n",
      "C:\\Users\\MELANI~1\\AppData\\Local\\Temp\\dssatzsakajcl created.\n",
      "Static files copied to C:\\Users\\MELANI~1\\AppData\\Local\\Temp\\dssatzsakajcl.\n",
      "RUN    TRT FLO MAT TOPWT HARWT  RAIN  TIRR   CET  PESW  TNUP  TNLF   TSON TSOC\n",
      "           dap dap kg/ha kg/ha    mm    mm    mm    mm kg/ha kg/ha  kg/ha t/ha\n",
      "  1 PT   1  40 -99 11362  9588     3   120   162    66     0   -99      0  211\n",
      "C:\\Users\\MELANI~1\\AppData\\Local\\Temp\\dssatzsakajcl and its content has been removed.\n",
      "TWAD: 11362       Sum irrigation: 231.30\n",
      "C:\\Users\\MELANI~1\\AppData\\Local\\Temp\\dssatomvzomig created.\n",
      "Static files copied to C:\\Users\\MELANI~1\\AppData\\Local\\Temp\\dssatomvzomig.\n",
      "RUN    TRT FLO MAT TOPWT HARWT  RAIN  TIRR   CET  PESW  TNUP  TNLF   TSON TSOC\n",
      "           dap dap kg/ha kg/ha    mm    mm    mm    mm kg/ha kg/ha  kg/ha t/ha\n",
      "  1 PT   1  40 -99  9914  8310     3    89   149    48     0   -99      0  211\n",
      "C:\\Users\\MELANI~1\\AppData\\Local\\Temp\\dssatomvzomig and its content has been removed.\n",
      "TWAD: 9914       Sum irrigation: 200.00\n",
      "C:\\Users\\MELANI~1\\AppData\\Local\\Temp\\dssatiyssmqdi created.\n",
      "Static files copied to C:\\Users\\MELANI~1\\AppData\\Local\\Temp\\dssatiyssmqdi.\n",
      "RUN    TRT FLO MAT TOPWT HARWT  RAIN  TIRR   CET  PESW  TNUP  TNLF   TSON TSOC\n",
      "           dap dap kg/ha kg/ha    mm    mm    mm    mm kg/ha kg/ha  kg/ha t/ha\n",
      "  1 PT   1  40 -99 11349  9575     3   112   162    58     0   -99      0  211\n",
      "C:\\Users\\MELANI~1\\AppData\\Local\\Temp\\dssatiyssmqdi and its content has been removed.\n",
      "TWAD: 11349       Sum irrigation: 222.60\n",
      "C:\\Users\\MELANI~1\\AppData\\Local\\Temp\\dssatfqojtyty created.\n",
      "Static files copied to C:\\Users\\MELANI~1\\AppData\\Local\\Temp\\dssatfqojtyty.\n",
      "RUN    TRT FLO MAT TOPWT HARWT  RAIN  TIRR   CET  PESW  TNUP  TNLF   TSON TSOC\n",
      "           dap dap kg/ha kg/ha    mm    mm    mm    mm kg/ha kg/ha  kg/ha t/ha\n",
      "  1 PT   1  40 -99 11004  9267     3   104   159    53     0   -99      0  211\n",
      "C:\\Users\\MELANI~1\\AppData\\Local\\Temp\\dssatfqojtyty and its content has been removed.\n",
      "TWAD: 11004       Sum irrigation: 214.20\n",
      "C:\\Users\\MELANI~1\\AppData\\Local\\Temp\\dssatzbzvlpgu created.\n",
      "Static files copied to C:\\Users\\MELANI~1\\AppData\\Local\\Temp\\dssatzbzvlpgu.\n",
      "RUN    TRT FLO MAT TOPWT HARWT  RAIN  TIRR   CET  PESW  TNUP  TNLF   TSON TSOC\n",
      "           dap dap kg/ha kg/ha    mm    mm    mm    mm kg/ha kg/ha  kg/ha t/ha\n",
      "  1 PT   1  40 -99 11362  9588     3   115   162    61     0   -99      0  211\n",
      "C:\\Users\\MELANI~1\\AppData\\Local\\Temp\\dssatzbzvlpgu and its content has been removed.\n",
      "TWAD: 11362       Sum irrigation: 225.20\n",
      "C:\\Users\\MELANI~1\\AppData\\Local\\Temp\\dssatbrvpelku created.\n",
      "Static files copied to C:\\Users\\MELANI~1\\AppData\\Local\\Temp\\dssatbrvpelku.\n",
      "RUN    TRT FLO MAT TOPWT HARWT  RAIN  TIRR   CET  PESW  TNUP  TNLF   TSON TSOC\n",
      "           dap dap kg/ha kg/ha    mm    mm    mm    mm kg/ha kg/ha  kg/ha t/ha\n",
      "  1 PT   1  40 -99 10098  8473     3    91   151    49     0   -99      0  211\n",
      "C:\\Users\\MELANI~1\\AppData\\Local\\Temp\\dssatbrvpelku and its content has been removed.\n",
      "TWAD: 10098       Sum irrigation: 201.20\n",
      "C:\\Users\\MELANI~1\\AppData\\Local\\Temp\\dssatdmopfrki created.\n",
      "Static files copied to C:\\Users\\MELANI~1\\AppData\\Local\\Temp\\dssatdmopfrki.\n",
      "RUN    TRT FLO MAT TOPWT HARWT  RAIN  TIRR   CET  PESW  TNUP  TNLF   TSON TSOC\n",
      "           dap dap kg/ha kg/ha    mm    mm    mm    mm kg/ha kg/ha  kg/ha t/ha\n",
      "  1 PT   1  40 -99  9565  7989     3    85   146    47     0   -99      0  211\n",
      "C:\\Users\\MELANI~1\\AppData\\Local\\Temp\\dssatdmopfrki and its content has been removed.\n",
      "TWAD: 9565       Sum irrigation: 195.50\n",
      "C:\\Users\\MELANI~1\\AppData\\Local\\Temp\\dssatccltmtlf created.\n",
      "Static files copied to C:\\Users\\MELANI~1\\AppData\\Local\\Temp\\dssatccltmtlf.\n",
      "RUN    TRT FLO MAT TOPWT HARWT  RAIN  TIRR   CET  PESW  TNUP  TNLF   TSON TSOC\n",
      "           dap dap kg/ha kg/ha    mm    mm    mm    mm kg/ha kg/ha  kg/ha t/ha\n",
      "  1 PT   1  40 -99 11362  9588     3   130   162    76     0   -99      0  211\n",
      "C:\\Users\\MELANI~1\\AppData\\Local\\Temp\\dssatccltmtlf and its content has been removed.\n",
      "TWAD: 11362       Sum irrigation: 240.90\n",
      "C:\\Users\\MELANI~1\\AppData\\Local\\Temp\\dssatxutckecn created.\n",
      "Static files copied to C:\\Users\\MELANI~1\\AppData\\Local\\Temp\\dssatxutckecn.\n",
      "RUN    TRT FLO MAT TOPWT HARWT  RAIN  TIRR   CET  PESW  TNUP  TNLF   TSON TSOC\n",
      "           dap dap kg/ha kg/ha    mm    mm    mm    mm kg/ha kg/ha  kg/ha t/ha\n",
      "  1 PT   1  40 -99 10483  8812     3    96   154    50     0   -99      0  211\n",
      "C:\\Users\\MELANI~1\\AppData\\Local\\Temp\\dssatxutckecn and its content has been removed.\n",
      "TWAD: 10483       Sum irrigation: 206.30\n",
      "C:\\Users\\MELANI~1\\AppData\\Local\\Temp\\dssatuwzdmjel created.\n",
      "Static files copied to C:\\Users\\MELANI~1\\AppData\\Local\\Temp\\dssatuwzdmjel.\n",
      "RUN    TRT FLO MAT TOPWT HARWT  RAIN  TIRR   CET  PESW  TNUP  TNLF   TSON TSOC\n",
      "           dap dap kg/ha kg/ha    mm    mm    mm    mm kg/ha kg/ha  kg/ha t/ha\n",
      "  1 PT   1  40 -99 11362  9588     3   130   162    76     0   -99      0  211\n",
      "C:\\Users\\MELANI~1\\AppData\\Local\\Temp\\dssatuwzdmjel and its content has been removed.\n",
      "TWAD: 11362       Sum irrigation: 240.30\n",
      "C:\\Users\\MELANI~1\\AppData\\Local\\Temp\\dssatkqoisfvn created.\n",
      "Static files copied to C:\\Users\\MELANI~1\\AppData\\Local\\Temp\\dssatkqoisfvn.\n",
      "RUN    TRT FLO MAT TOPWT HARWT  RAIN  TIRR   CET  PESW  TNUP  TNLF   TSON TSOC\n",
      "           dap dap kg/ha kg/ha    mm    mm    mm    mm kg/ha kg/ha  kg/ha t/ha\n",
      "  1 PT   1  40 -99  9662  8082     3    86   147    48     0   -99      0  211\n",
      "C:\\Users\\MELANI~1\\AppData\\Local\\Temp\\dssatkqoisfvn and its content has been removed.\n",
      "TWAD: 9662       Sum irrigation: 196.40\n",
      "C:\\Users\\MELANI~1\\AppData\\Local\\Temp\\dssatzwcmmnbh created.\n",
      "Static files copied to C:\\Users\\MELANI~1\\AppData\\Local\\Temp\\dssatzwcmmnbh.\n",
      "RUN    TRT FLO MAT TOPWT HARWT  RAIN  TIRR   CET  PESW  TNUP  TNLF   TSON TSOC\n",
      "           dap dap kg/ha kg/ha    mm    mm    mm    mm kg/ha kg/ha  kg/ha t/ha\n",
      "  1 PT   1  40 -99  8894  7390     3    78   140    46     0   -99      0  211\n",
      "C:\\Users\\MELANI~1\\AppData\\Local\\Temp\\dssatzwcmmnbh and its content has been removed.\n",
      "TWAD: 8894       Sum irrigation: 189.90\n",
      "C:\\Users\\MELANI~1\\AppData\\Local\\Temp\\dssatfpptowho created.\n",
      "Static files copied to C:\\Users\\MELANI~1\\AppData\\Local\\Temp\\dssatfpptowho.\n",
      "RUN    TRT FLO MAT TOPWT HARWT  RAIN  TIRR   CET  PESW  TNUP  TNLF   TSON TSOC\n",
      "           dap dap kg/ha kg/ha    mm    mm    mm    mm kg/ha kg/ha  kg/ha t/ha\n",
      "  1 PT   1  40 -99 11241  9475     3   109   161    56     0   -99      0  211\n",
      "C:\\Users\\MELANI~1\\AppData\\Local\\Temp\\dssatfpptowho and its content has been removed.\n",
      "TWAD: 11241       Sum irrigation: 219.70\n",
      "C:\\Users\\MELANI~1\\AppData\\Local\\Temp\\dssatqinnjaad created.\n",
      "Static files copied to C:\\Users\\MELANI~1\\AppData\\Local\\Temp\\dssatqinnjaad.\n",
      "RUN    TRT FLO MAT TOPWT HARWT  RAIN  TIRR   CET  PESW  TNUP  TNLF   TSON TSOC\n",
      "           dap dap kg/ha kg/ha    mm    mm    mm    mm kg/ha kg/ha  kg/ha t/ha\n",
      "  1 PT   1  40 -99 10350  8695     3    94   153    49     0   -99      0  211\n",
      "C:\\Users\\MELANI~1\\AppData\\Local\\Temp\\dssatqinnjaad and its content has been removed.\n",
      "TWAD: 10350       Sum irrigation: 205.30\n",
      "C:\\Users\\MELANI~1\\AppData\\Local\\Temp\\dssatndnoiyrx created.\n",
      "Static files copied to C:\\Users\\MELANI~1\\AppData\\Local\\Temp\\dssatndnoiyrx.\n",
      "RUN    TRT FLO MAT TOPWT HARWT  RAIN  TIRR   CET  PESW  TNUP  TNLF   TSON TSOC\n",
      "           dap dap kg/ha kg/ha    mm    mm    mm    mm kg/ha kg/ha  kg/ha t/ha\n",
      "  1 PT   1  40 -99 11285  9514     3   110   162    57     0   -99      0  211\n",
      "C:\\Users\\MELANI~1\\AppData\\Local\\Temp\\dssatndnoiyrx and its content has been removed.\n",
      "TWAD: 11285       Sum irrigation: 221.50\n",
      "C:\\Users\\MELANI~1\\AppData\\Local\\Temp\\dssatttmjnuwk created.\n",
      "Static files copied to C:\\Users\\MELANI~1\\AppData\\Local\\Temp\\dssatttmjnuwk.\n",
      "RUN    TRT FLO MAT TOPWT HARWT  RAIN  TIRR   CET  PESW  TNUP  TNLF   TSON TSOC\n",
      "           dap dap kg/ha kg/ha    mm    mm    mm    mm kg/ha kg/ha  kg/ha t/ha\n",
      "  1 PT   1  40 -99 10767  9060     3   100   157    52     0   -99      0  211\n",
      "C:\\Users\\MELANI~1\\AppData\\Local\\Temp\\dssatttmjnuwk and its content has been removed.\n",
      "TWAD: 10767       Sum irrigation: 211.10\n",
      "C:\\Users\\MELANI~1\\AppData\\Local\\Temp\\dssatsbadjqdg created.\n",
      "Static files copied to C:\\Users\\MELANI~1\\AppData\\Local\\Temp\\dssatsbadjqdg.\n",
      "RUN    TRT FLO MAT TOPWT HARWT  RAIN  TIRR   CET  PESW  TNUP  TNLF   TSON TSOC\n",
      "           dap dap kg/ha kg/ha    mm    mm    mm    mm kg/ha kg/ha  kg/ha t/ha\n",
      "  1 PT   1  40 -99  9808  8218     3    88   148    48     0   -99      0  211\n",
      "C:\\Users\\MELANI~1\\AppData\\Local\\Temp\\dssatsbadjqdg and its content has been removed.\n",
      "TWAD: 9808       Sum irrigation: 198.50\n",
      "C:\\Users\\MELANI~1\\AppData\\Local\\Temp\\dssattqejzdma created.\n",
      "Static files copied to C:\\Users\\MELANI~1\\AppData\\Local\\Temp\\dssattqejzdma.\n",
      "RUN    TRT FLO MAT TOPWT HARWT  RAIN  TIRR   CET  PESW  TNUP  TNLF   TSON TSOC\n",
      "           dap dap kg/ha kg/ha    mm    mm    mm    mm kg/ha kg/ha  kg/ha t/ha\n",
      "  1 PT   1  40 -99 11362  9588     3   118   162    64     0   -99      0  211\n",
      "C:\\Users\\MELANI~1\\AppData\\Local\\Temp\\dssattqejzdma and its content has been removed.\n",
      "TWAD: 11362       Sum irrigation: 228.30\n",
      "C:\\Users\\MELANI~1\\AppData\\Local\\Temp\\dssathsfugwup created.\n",
      "Static files copied to C:\\Users\\MELANI~1\\AppData\\Local\\Temp\\dssathsfugwup.\n",
      "RUN    TRT FLO MAT TOPWT HARWT  RAIN  TIRR   CET  PESW  TNUP  TNLF   TSON TSOC\n",
      "           dap dap kg/ha kg/ha    mm    mm    mm    mm kg/ha kg/ha  kg/ha t/ha\n",
      "  1 PT   1  40 -99 10185  8549     3    92   151    49     0   -99      0  211\n",
      "C:\\Users\\MELANI~1\\AppData\\Local\\Temp\\dssathsfugwup and its content has been removed.\n",
      "TWAD: 10185       Sum irrigation: 202.80\n",
      "C:\\Users\\MELANI~1\\AppData\\Local\\Temp\\dssatnekvjyqy created.\n",
      "Static files copied to C:\\Users\\MELANI~1\\AppData\\Local\\Temp\\dssatnekvjyqy.\n",
      "RUN    TRT FLO MAT TOPWT HARWT  RAIN  TIRR   CET  PESW  TNUP  TNLF   TSON TSOC\n",
      "           dap dap kg/ha kg/ha    mm    mm    mm    mm kg/ha kg/ha  kg/ha t/ha\n",
      "  1 PT   1  40 -99 11362  9588     3   127   162    73     0   -99      0  211\n",
      "C:\\Users\\MELANI~1\\AppData\\Local\\Temp\\dssatnekvjyqy and its content has been removed.\n",
      "TWAD: 11362       Sum irrigation: 237.30\n",
      "C:\\Users\\MELANI~1\\AppData\\Local\\Temp\\dssatnqkbnkjo created.\n",
      "Static files copied to C:\\Users\\MELANI~1\\AppData\\Local\\Temp\\dssatnqkbnkjo.\n",
      "RUN    TRT FLO MAT TOPWT HARWT  RAIN  TIRR   CET  PESW  TNUP  TNLF   TSON TSOC\n",
      "           dap dap kg/ha kg/ha    mm    mm    mm    mm kg/ha kg/ha  kg/ha t/ha\n",
      "  1 PT   1  40 -99 11362  9588     3   135   162    81     0   -99      0  211\n",
      "C:\\Users\\MELANI~1\\AppData\\Local\\Temp\\dssatnqkbnkjo and its content has been removed.\n",
      "TWAD: 11362       Sum irrigation: 245.90\n",
      "C:\\Users\\MELANI~1\\AppData\\Local\\Temp\\dssatgyobkhmt created.\n",
      "Static files copied to C:\\Users\\MELANI~1\\AppData\\Local\\Temp\\dssatgyobkhmt.\n",
      "RUN    TRT FLO MAT TOPWT HARWT  RAIN  TIRR   CET  PESW  TNUP  TNLF   TSON TSOC\n",
      "           dap dap kg/ha kg/ha    mm    mm    mm    mm kg/ha kg/ha  kg/ha t/ha\n",
      "  1 PT   1  40 -99 11061  9319     3   105   159    54     0   -99      0  211\n",
      "C:\\Users\\MELANI~1\\AppData\\Local\\Temp\\dssatgyobkhmt and its content has been removed.\n",
      "TWAD: 11061       Sum irrigation: 215.90\n",
      "C:\\Users\\MELANI~1\\AppData\\Local\\Temp\\dssatcvksehrf created.\n",
      "Static files copied to C:\\Users\\MELANI~1\\AppData\\Local\\Temp\\dssatcvksehrf.\n",
      "RUN    TRT FLO MAT TOPWT HARWT  RAIN  TIRR   CET  PESW  TNUP  TNLF   TSON TSOC\n",
      "           dap dap kg/ha kg/ha    mm    mm    mm    mm kg/ha kg/ha  kg/ha t/ha\n",
      "  1 PT   1  40 -99 11362  9588     3   122   162    68     0   -99      0  211\n",
      "C:\\Users\\MELANI~1\\AppData\\Local\\Temp\\dssatcvksehrf and its content has been removed.\n",
      "TWAD: 11362       Sum irrigation: 233.00\n",
      "C:\\Users\\MELANI~1\\AppData\\Local\\Temp\\dssatbfcunxhx created.\n",
      "Static files copied to C:\\Users\\MELANI~1\\AppData\\Local\\Temp\\dssatbfcunxhx.\n",
      "RUN    TRT FLO MAT TOPWT HARWT  RAIN  TIRR   CET  PESW  TNUP  TNLF   TSON TSOC\n",
      "           dap dap kg/ha kg/ha    mm    mm    mm    mm kg/ha kg/ha  kg/ha t/ha\n",
      "  1 PT   1  40 -99 11362  9588     3   119   162    65     0   -99      0  211\n",
      "C:\\Users\\MELANI~1\\AppData\\Local\\Temp\\dssatbfcunxhx and its content has been removed.\n",
      "TWAD: 11362       Sum irrigation: 230.10\n",
      "C:\\Users\\MELANI~1\\AppData\\Local\\Temp\\dssatbsovrvux created.\n",
      "Static files copied to C:\\Users\\MELANI~1\\AppData\\Local\\Temp\\dssatbsovrvux.\n",
      "RUN    TRT FLO MAT TOPWT HARWT  RAIN  TIRR   CET  PESW  TNUP  TNLF   TSON TSOC\n",
      "           dap dap kg/ha kg/ha    mm    mm    mm    mm kg/ha kg/ha  kg/ha t/ha\n",
      "  1 PT   1  40 -99 10483  8811     3    96   154    50     0   -99      0  211\n",
      "C:\\Users\\MELANI~1\\AppData\\Local\\Temp\\dssatbsovrvux and its content has been removed.\n",
      "TWAD: 10483       Sum irrigation: 206.70\n",
      "C:\\Users\\MELANI~1\\AppData\\Local\\Temp\\dssatljewlozf created.\n",
      "Static files copied to C:\\Users\\MELANI~1\\AppData\\Local\\Temp\\dssatljewlozf.\n",
      "RUN    TRT FLO MAT TOPWT HARWT  RAIN  TIRR   CET  PESW  TNUP  TNLF   TSON TSOC\n",
      "           dap dap kg/ha kg/ha    mm    mm    mm    mm kg/ha kg/ha  kg/ha t/ha\n",
      "  1 PT   1  40 -99  9242  7682     3    82   144    47     0   -99      0  211\n",
      "C:\\Users\\MELANI~1\\AppData\\Local\\Temp\\dssatljewlozf and its content has been removed.\n",
      "TWAD: 9242       Sum irrigation: 192.60\n",
      "C:\\Users\\MELANI~1\\AppData\\Local\\Temp\\dssatmqctdxhh created.\n",
      "Static files copied to C:\\Users\\MELANI~1\\AppData\\Local\\Temp\\dssatmqctdxhh.\n",
      "RUN    TRT FLO MAT TOPWT HARWT  RAIN  TIRR   CET  PESW  TNUP  TNLF   TSON TSOC\n",
      "           dap dap kg/ha kg/ha    mm    mm    mm    mm kg/ha kg/ha  kg/ha t/ha\n",
      "  1 PT   1  40 -99  9978  8355     3    89   149    48     0   -99      0  211\n",
      "C:\\Users\\MELANI~1\\AppData\\Local\\Temp\\dssatmqctdxhh and its content has been removed.\n",
      "TWAD: 9978       Sum irrigation: 200.30\n",
      "C:\\Users\\MELANI~1\\AppData\\Local\\Temp\\dssatidzzbrnu created.\n",
      "Static files copied to C:\\Users\\MELANI~1\\AppData\\Local\\Temp\\dssatidzzbrnu.\n",
      "RUN    TRT FLO MAT TOPWT HARWT  RAIN  TIRR   CET  PESW  TNUP  TNLF   TSON TSOC\n",
      "           dap dap kg/ha kg/ha    mm    mm    mm    mm kg/ha kg/ha  kg/ha t/ha\n",
      "  1 PT   1  40 -99 10893  9170     3   102   158    52     0   -99      0  211\n",
      "C:\\Users\\MELANI~1\\AppData\\Local\\Temp\\dssatidzzbrnu and its content has been removed.\n",
      "TWAD: 10893       Sum irrigation: 212.50\n",
      "C:\\Users\\MELANI~1\\AppData\\Local\\Temp\\dssatekjuehct created.\n",
      "Static files copied to C:\\Users\\MELANI~1\\AppData\\Local\\Temp\\dssatekjuehct.\n",
      "RUN    TRT FLO MAT TOPWT HARWT  RAIN  TIRR   CET  PESW  TNUP  TNLF   TSON TSOC\n",
      "           dap dap kg/ha kg/ha    mm    mm    mm    mm kg/ha kg/ha  kg/ha t/ha\n",
      "  1 PT   1  40 -99 11362  9588     3   122   162    68     0   -99      0  211\n",
      "C:\\Users\\MELANI~1\\AppData\\Local\\Temp\\dssatekjuehct and its content has been removed.\n",
      "TWAD: 11362       Sum irrigation: 234.30\n",
      "C:\\Users\\MELANI~1\\AppData\\Local\\Temp\\dssatqkbzcysw created.\n",
      "Static files copied to C:\\Users\\MELANI~1\\AppData\\Local\\Temp\\dssatqkbzcysw.\n",
      "RUN    TRT FLO MAT TOPWT HARWT  RAIN  TIRR   CET  PESW  TNUP  TNLF   TSON TSOC\n",
      "           dap dap kg/ha kg/ha    mm    mm    mm    mm kg/ha kg/ha  kg/ha t/ha\n",
      "  1 PT   1  40 -99 11362  9588     3   132   162    78     0   -99      0  211\n",
      "C:\\Users\\MELANI~1\\AppData\\Local\\Temp\\dssatqkbzcysw and its content has been removed.\n",
      "TWAD: 11362       Sum irrigation: 242.70\n",
      "C:\\Users\\MELANI~1\\AppData\\Local\\Temp\\dssatvezmjwst created.\n",
      "Static files copied to C:\\Users\\MELANI~1\\AppData\\Local\\Temp\\dssatvezmjwst.\n",
      "RUN    TRT FLO MAT TOPWT HARWT  RAIN  TIRR   CET  PESW  TNUP  TNLF   TSON TSOC\n",
      "           dap dap kg/ha kg/ha    mm    mm    mm    mm kg/ha kg/ha  kg/ha t/ha\n",
      "  1 PT   1  40 -99  9776  8189     3    88   148    48     0   -99      0  211\n",
      "C:\\Users\\MELANI~1\\AppData\\Local\\Temp\\dssatvezmjwst and its content has been removed.\n",
      "TWAD: 9776       Sum irrigation: 198.70\n",
      "C:\\Users\\MELANI~1\\AppData\\Local\\Temp\\dssattylcmfpm created.\n",
      "Static files copied to C:\\Users\\MELANI~1\\AppData\\Local\\Temp\\dssattylcmfpm.\n",
      "RUN    TRT FLO MAT TOPWT HARWT  RAIN  TIRR   CET  PESW  TNUP  TNLF   TSON TSOC\n",
      "           dap dap kg/ha kg/ha    mm    mm    mm    mm kg/ha kg/ha  kg/ha t/ha\n",
      "  1 PT   1  40 -99 11111  9362     3   106   160    54     0   -99      0  211\n",
      "C:\\Users\\MELANI~1\\AppData\\Local\\Temp\\dssattylcmfpm and its content has been removed.\n",
      "TWAD: 11111       Sum irrigation: 216.50\n",
      "C:\\Users\\MELANI~1\\AppData\\Local\\Temp\\dssatybwilgrf created.\n",
      "Static files copied to C:\\Users\\MELANI~1\\AppData\\Local\\Temp\\dssatybwilgrf.\n",
      "RUN    TRT FLO MAT TOPWT HARWT  RAIN  TIRR   CET  PESW  TNUP  TNLF   TSON TSOC\n",
      "           dap dap kg/ha kg/ha    mm    mm    mm    mm kg/ha kg/ha  kg/ha t/ha\n",
      "  1 PT   1  40 -99  8936  7435     3    79   141    47     0   -99      0  211\n",
      "C:\\Users\\MELANI~1\\AppData\\Local\\Temp\\dssatybwilgrf and its content has been removed.\n",
      "TWAD: 8936       Sum irrigation: 189.30\n",
      "C:\\Users\\MELANI~1\\AppData\\Local\\Temp\\dssatropeqiko created.\n",
      "Static files copied to C:\\Users\\MELANI~1\\AppData\\Local\\Temp\\dssatropeqiko.\n",
      "RUN    TRT FLO MAT TOPWT HARWT  RAIN  TIRR   CET  PESW  TNUP  TNLF   TSON TSOC\n",
      "           dap dap kg/ha kg/ha    mm    mm    mm    mm kg/ha kg/ha  kg/ha t/ha\n",
      "  1 PT   1  40 -99 11362  9588     3   114   162    60     0   -99      0  211\n",
      "C:\\Users\\MELANI~1\\AppData\\Local\\Temp\\dssatropeqiko and its content has been removed.\n",
      "TWAD: 11362       Sum irrigation: 225.40\n",
      "C:\\Users\\MELANI~1\\AppData\\Local\\Temp\\dssatwbjklpxu created.\n",
      "Static files copied to C:\\Users\\MELANI~1\\AppData\\Local\\Temp\\dssatwbjklpxu.\n",
      "RUN    TRT FLO MAT TOPWT HARWT  RAIN  TIRR   CET  PESW  TNUP  TNLF   TSON TSOC\n",
      "           dap dap kg/ha kg/ha    mm    mm    mm    mm kg/ha kg/ha  kg/ha t/ha\n",
      "  1 PT   1  40 -99 10823  9109     3   101   157    52     0   -99      0  211\n",
      "C:\\Users\\MELANI~1\\AppData\\Local\\Temp\\dssatwbjklpxu and its content has been removed.\n",
      "TWAD: 10823       Sum irrigation: 211.80\n",
      "C:\\Users\\MELANI~1\\AppData\\Local\\Temp\\dssatbridjxev created.\n",
      "Static files copied to C:\\Users\\MELANI~1\\AppData\\Local\\Temp\\dssatbridjxev.\n",
      "RUN    TRT FLO MAT TOPWT HARWT  RAIN  TIRR   CET  PESW  TNUP  TNLF   TSON TSOC\n",
      "           dap dap kg/ha kg/ha    mm    mm    mm    mm kg/ha kg/ha  kg/ha t/ha\n",
      "  1 PT   1  40 -99  8537  7032     3    74   137    45     0   -99      0  211\n",
      "C:\\Users\\MELANI~1\\AppData\\Local\\Temp\\dssatbridjxev and its content has been removed.\n",
      "TWAD: 8537       Sum irrigation: 186.40\n",
      "C:\\Users\\MELANI~1\\AppData\\Local\\Temp\\dssatnxkumeuq created.\n",
      "Static files copied to C:\\Users\\MELANI~1\\AppData\\Local\\Temp\\dssatnxkumeuq.\n",
      "RUN    TRT FLO MAT TOPWT HARWT  RAIN  TIRR   CET  PESW  TNUP  TNLF   TSON TSOC\n",
      "           dap dap kg/ha kg/ha    mm    mm    mm    mm kg/ha kg/ha  kg/ha t/ha\n",
      "  1 PT   1  40 -99  9413  7864     3    84   145    47     0   -99      0  211\n",
      "C:\\Users\\MELANI~1\\AppData\\Local\\Temp\\dssatnxkumeuq and its content has been removed.\n",
      "TWAD: 9413       Sum irrigation: 194.90\n",
      "C:\\Users\\MELANI~1\\AppData\\Local\\Temp\\dssatoattnmyj created.\n",
      "Static files copied to C:\\Users\\MELANI~1\\AppData\\Local\\Temp\\dssatoattnmyj.\n",
      "RUN    TRT FLO MAT TOPWT HARWT  RAIN  TIRR   CET  PESW  TNUP  TNLF   TSON TSOC\n",
      "           dap dap kg/ha kg/ha    mm    mm    mm    mm kg/ha kg/ha  kg/ha t/ha\n",
      "  1 PT   1  40 -99 11362  9588     3   124   162    70     0   -99      0  211\n",
      "C:\\Users\\MELANI~1\\AppData\\Local\\Temp\\dssatoattnmyj and its content has been removed.\n",
      "TWAD: 11362       Sum irrigation: 235.00\n",
      "C:\\Users\\MELANI~1\\AppData\\Local\\Temp\\dssatyfdohprp created.\n",
      "Static files copied to C:\\Users\\MELANI~1\\AppData\\Local\\Temp\\dssatyfdohprp.\n",
      "RUN    TRT FLO MAT TOPWT HARWT  RAIN  TIRR   CET  PESW  TNUP  TNLF   TSON TSOC\n",
      "           dap dap kg/ha kg/ha    mm    mm    mm    mm kg/ha kg/ha  kg/ha t/ha\n",
      "  1 PT   1  40 -99 11314  9542     3   111   162    57     0   -99      0  211\n",
      "C:\\Users\\MELANI~1\\AppData\\Local\\Temp\\dssatyfdohprp and its content has been removed.\n",
      "TWAD: 11314       Sum irrigation: 221.60\n",
      "C:\\Users\\MELANI~1\\AppData\\Local\\Temp\\dssataagqmrhx created.\n",
      "Static files copied to C:\\Users\\MELANI~1\\AppData\\Local\\Temp\\dssataagqmrhx.\n",
      "RUN    TRT FLO MAT TOPWT HARWT  RAIN  TIRR   CET  PESW  TNUP  TNLF   TSON TSOC\n",
      "           dap dap kg/ha kg/ha    mm    mm    mm    mm kg/ha kg/ha  kg/ha t/ha\n",
      "  1 PT   1  40 -99 11237  9457     3   108   161    55     0   -99      0  211\n",
      "C:\\Users\\MELANI~1\\AppData\\Local\\Temp\\dssataagqmrhx and its content has been removed.\n",
      "TWAD: 11237       Sum irrigation: 219.30\n",
      "C:\\Users\\MELANI~1\\AppData\\Local\\Temp\\dssatlvdgcrga created.\n",
      "Static files copied to C:\\Users\\MELANI~1\\AppData\\Local\\Temp\\dssatlvdgcrga.\n",
      "RUN    TRT FLO MAT TOPWT HARWT  RAIN  TIRR   CET  PESW  TNUP  TNLF   TSON TSOC\n",
      "           dap dap kg/ha kg/ha    mm    mm    mm    mm kg/ha kg/ha  kg/ha t/ha\n",
      "  1 PT   1  40 -99 10481  8810     3    96   154    50     0   -99      0  211\n",
      "C:\\Users\\MELANI~1\\AppData\\Local\\Temp\\dssatlvdgcrga and its content has been removed.\n",
      "TWAD: 10481       Sum irrigation: 206.70\n",
      "C:\\Users\\MELANI~1\\AppData\\Local\\Temp\\dssatheoldezj created.\n",
      "Static files copied to C:\\Users\\MELANI~1\\AppData\\Local\\Temp\\dssatheoldezj.\n",
      "RUN    TRT FLO MAT TOPWT HARWT  RAIN  TIRR   CET  PESW  TNUP  TNLF   TSON TSOC\n",
      "           dap dap kg/ha kg/ha    mm    mm    mm    mm kg/ha kg/ha  kg/ha t/ha\n",
      "  1 PT   1  40 -99 11362  9588     3   115   162    61     0   -99      0  211\n",
      "C:\\Users\\MELANI~1\\AppData\\Local\\Temp\\dssatheoldezj and its content has been removed.\n",
      "TWAD: 11362       Sum irrigation: 225.40\n",
      "C:\\Users\\MELANI~1\\AppData\\Local\\Temp\\dssatfztmesgs created.\n",
      "Static files copied to C:\\Users\\MELANI~1\\AppData\\Local\\Temp\\dssatfztmesgs.\n",
      "RUN    TRT FLO MAT TOPWT HARWT  RAIN  TIRR   CET  PESW  TNUP  TNLF   TSON TSOC\n",
      "           dap dap kg/ha kg/ha    mm    mm    mm    mm kg/ha kg/ha  kg/ha t/ha\n",
      "  1 PT   1  40 -99 11362  9588     3   113   162    59     0   -99      0  211\n",
      "C:\\Users\\MELANI~1\\AppData\\Local\\Temp\\dssatfztmesgs and its content has been removed.\n",
      "TWAD: 11362       Sum irrigation: 224.00\n",
      "C:\\Users\\MELANI~1\\AppData\\Local\\Temp\\dssatyaygixni created.\n",
      "Static files copied to C:\\Users\\MELANI~1\\AppData\\Local\\Temp\\dssatyaygixni.\n",
      "RUN    TRT FLO MAT TOPWT HARWT  RAIN  TIRR   CET  PESW  TNUP  TNLF   TSON TSOC\n",
      "           dap dap kg/ha kg/ha    mm    mm    mm    mm kg/ha kg/ha  kg/ha t/ha\n",
      "  1 PT   1  40 -99  9137  7615     3    81   142    47     0   -99      0  211\n",
      "C:\\Users\\MELANI~1\\AppData\\Local\\Temp\\dssatyaygixni and its content has been removed.\n",
      "TWAD: 9137       Sum irrigation: 191.30\n",
      "C:\\Users\\MELANI~1\\AppData\\Local\\Temp\\dssatdrzacqdz created.\n",
      "Static files copied to C:\\Users\\MELANI~1\\AppData\\Local\\Temp\\dssatdrzacqdz.\n",
      "RUN    TRT FLO MAT TOPWT HARWT  RAIN  TIRR   CET  PESW  TNUP  TNLF   TSON TSOC\n",
      "           dap dap kg/ha kg/ha    mm    mm    mm    mm kg/ha kg/ha  kg/ha t/ha\n",
      "  1 PT   1  40 -99 11362  9588     3   115   162    61     0   -99      0  211\n",
      "C:\\Users\\MELANI~1\\AppData\\Local\\Temp\\dssatdrzacqdz and its content has been removed.\n",
      "TWAD: 11362       Sum irrigation: 225.30\n",
      "C:\\Users\\MELANI~1\\AppData\\Local\\Temp\\dssateaicrury created.\n",
      "Static files copied to C:\\Users\\MELANI~1\\AppData\\Local\\Temp\\dssateaicrury.\n",
      "RUN    TRT FLO MAT TOPWT HARWT  RAIN  TIRR   CET  PESW  TNUP  TNLF   TSON TSOC\n",
      "           dap dap kg/ha kg/ha    mm    mm    mm    mm kg/ha kg/ha  kg/ha t/ha\n",
      "  1 PT   1  40 -99 11003  9267     3   104   159    53     0   -99      0  211\n",
      "C:\\Users\\MELANI~1\\AppData\\Local\\Temp\\dssateaicrury and its content has been removed.\n",
      "TWAD: 11003       Sum irrigation: 215.40\n",
      "C:\\Users\\MELANI~1\\AppData\\Local\\Temp\\dssatxuniezoh created.\n",
      "Static files copied to C:\\Users\\MELANI~1\\AppData\\Local\\Temp\\dssatxuniezoh.\n",
      "RUN    TRT FLO MAT TOPWT HARWT  RAIN  TIRR   CET  PESW  TNUP  TNLF   TSON TSOC\n",
      "           dap dap kg/ha kg/ha    mm    mm    mm    mm kg/ha kg/ha  kg/ha t/ha\n",
      "  1 PT   1  40 -99  7412  6038     3    64   129    43     0   -99      0  211\n",
      "C:\\Users\\MELANI~1\\AppData\\Local\\Temp\\dssatxuniezoh and its content has been removed.\n",
      "TWAD: 7412       Sum irrigation: 175.60\n",
      "C:\\Users\\MELANI~1\\AppData\\Local\\Temp\\dssatolfyzume created.\n",
      "Static files copied to C:\\Users\\MELANI~1\\AppData\\Local\\Temp\\dssatolfyzume.\n",
      "RUN    TRT FLO MAT TOPWT HARWT  RAIN  TIRR   CET  PESW  TNUP  TNLF   TSON TSOC\n",
      "           dap dap kg/ha kg/ha    mm    mm    mm    mm kg/ha kg/ha  kg/ha t/ha\n",
      "  1 PT   1  40 -99  9318  7779     3    83   144    47     0   -99      0  211\n",
      "C:\\Users\\MELANI~1\\AppData\\Local\\Temp\\dssatolfyzume and its content has been removed.\n",
      "TWAD: 9318       Sum irrigation: 193.60\n",
      "C:\\Users\\MELANI~1\\AppData\\Local\\Temp\\dssatampgydoz created.\n",
      "Static files copied to C:\\Users\\MELANI~1\\AppData\\Local\\Temp\\dssatampgydoz.\n",
      "RUN    TRT FLO MAT TOPWT HARWT  RAIN  TIRR   CET  PESW  TNUP  TNLF   TSON TSOC\n",
      "           dap dap kg/ha kg/ha    mm    mm    mm    mm kg/ha kg/ha  kg/ha t/ha\n",
      "  1 PT   1  40 -99 11285  9514     3   110   162    57     0   -99      0  211\n",
      "C:\\Users\\MELANI~1\\AppData\\Local\\Temp\\dssatampgydoz and its content has been removed.\n",
      "TWAD: 11285       Sum irrigation: 220.50\n",
      "C:\\Users\\MELANI~1\\AppData\\Local\\Temp\\dssatliemqoaf created.\n",
      "Static files copied to C:\\Users\\MELANI~1\\AppData\\Local\\Temp\\dssatliemqoaf.\n",
      "RUN    TRT FLO MAT TOPWT HARWT  RAIN  TIRR   CET  PESW  TNUP  TNLF   TSON TSOC\n",
      "           dap dap kg/ha kg/ha    mm    mm    mm    mm kg/ha kg/ha  kg/ha t/ha\n",
      "  1 PT   1  40 -99 11362  9588     3   152   162    98     0   -99      0  211\n",
      "C:\\Users\\MELANI~1\\AppData\\Local\\Temp\\dssatliemqoaf and its content has been removed.\n",
      "TWAD: 11362       Sum irrigation: 263.20\n",
      "C:\\Users\\MELANI~1\\AppData\\Local\\Temp\\dssatlezekiwy created.\n",
      "Static files copied to C:\\Users\\MELANI~1\\AppData\\Local\\Temp\\dssatlezekiwy.\n",
      "RUN    TRT FLO MAT TOPWT HARWT  RAIN  TIRR   CET  PESW  TNUP  TNLF   TSON TSOC\n",
      "           dap dap kg/ha kg/ha    mm    mm    mm    mm kg/ha kg/ha  kg/ha t/ha\n",
      "  1 PT   1  40 -99 10896  9173     3   102   158    52     0   -99      0  211\n",
      "C:\\Users\\MELANI~1\\AppData\\Local\\Temp\\dssatlezekiwy and its content has been removed.\n",
      "TWAD: 10896       Sum irrigation: 213.40\n",
      "C:\\Users\\MELANI~1\\AppData\\Local\\Temp\\dssatqoxojzld created.\n",
      "Static files copied to C:\\Users\\MELANI~1\\AppData\\Local\\Temp\\dssatqoxojzld.\n",
      "RUN    TRT FLO MAT TOPWT HARWT  RAIN  TIRR   CET  PESW  TNUP  TNLF   TSON TSOC\n",
      "           dap dap kg/ha kg/ha    mm    mm    mm    mm kg/ha kg/ha  kg/ha t/ha\n",
      "  1 PT   1  40 -99 11362  9588     3   136   162    82     0   -99      0  211\n",
      "C:\\Users\\MELANI~1\\AppData\\Local\\Temp\\dssatqoxojzld and its content has been removed.\n",
      "TWAD: 11362       Sum irrigation: 247.10\n",
      "C:\\Users\\MELANI~1\\AppData\\Local\\Temp\\dssatqgogxcvb created.\n",
      "Static files copied to C:\\Users\\MELANI~1\\AppData\\Local\\Temp\\dssatqgogxcvb.\n",
      "RUN    TRT FLO MAT TOPWT HARWT  RAIN  TIRR   CET  PESW  TNUP  TNLF   TSON TSOC\n",
      "           dap dap kg/ha kg/ha    mm    mm    mm    mm kg/ha kg/ha  kg/ha t/ha\n",
      "  1 PT   1  40 -99 10345  8690     3    94   153    49     0   -99      0  211\n",
      "C:\\Users\\MELANI~1\\AppData\\Local\\Temp\\dssatqgogxcvb and its content has been removed.\n",
      "TWAD: 10345       Sum irrigation: 204.50\n",
      "C:\\Users\\MELANI~1\\AppData\\Local\\Temp\\dssatygeyojys created.\n",
      "Static files copied to C:\\Users\\MELANI~1\\AppData\\Local\\Temp\\dssatygeyojys.\n",
      "RUN    TRT FLO MAT TOPWT HARWT  RAIN  TIRR   CET  PESW  TNUP  TNLF   TSON TSOC\n",
      "           dap dap kg/ha kg/ha    mm    mm    mm    mm kg/ha kg/ha  kg/ha t/ha\n",
      "  1 PT   1  40 -99 11362  9588     3   129   162    75     0   -99      0  211\n",
      "C:\\Users\\MELANI~1\\AppData\\Local\\Temp\\dssatygeyojys and its content has been removed.\n",
      "TWAD: 11362       Sum irrigation: 239.50\n",
      "C:\\Users\\MELANI~1\\AppData\\Local\\Temp\\dssatczsiooxk created.\n",
      "Static files copied to C:\\Users\\MELANI~1\\AppData\\Local\\Temp\\dssatczsiooxk.\n",
      "RUN    TRT FLO MAT TOPWT HARWT  RAIN  TIRR   CET  PESW  TNUP  TNLF   TSON TSOC\n",
      "           dap dap kg/ha kg/ha    mm    mm    mm    mm kg/ha kg/ha  kg/ha t/ha\n",
      "  1 PT   1  40 -99 10184  8548     3    92   151    49     0   -99      0  211\n",
      "C:\\Users\\MELANI~1\\AppData\\Local\\Temp\\dssatczsiooxk and its content has been removed.\n",
      "TWAD: 10184       Sum irrigation: 202.50\n",
      "C:\\Users\\MELANI~1\\AppData\\Local\\Temp\\dssatbbmqlrhk created.\n",
      "Static files copied to C:\\Users\\MELANI~1\\AppData\\Local\\Temp\\dssatbbmqlrhk.\n",
      "RUN    TRT FLO MAT TOPWT HARWT  RAIN  TIRR   CET  PESW  TNUP  TNLF   TSON TSOC\n",
      "           dap dap kg/ha kg/ha    mm    mm    mm    mm kg/ha kg/ha  kg/ha t/ha\n",
      "  1 PT   1  40 -99 10094  8470     3    91   151    49     0   -99      0  211\n",
      "C:\\Users\\MELANI~1\\AppData\\Local\\Temp\\dssatbbmqlrhk and its content has been removed.\n",
      "TWAD: 10094       Sum irrigation: 201.70\n",
      "C:\\Users\\MELANI~1\\AppData\\Local\\Temp\\dssattmjxtlwc created.\n",
      "Static files copied to C:\\Users\\MELANI~1\\AppData\\Local\\Temp\\dssattmjxtlwc.\n",
      "RUN    TRT FLO MAT TOPWT HARWT  RAIN  TIRR   CET  PESW  TNUP  TNLF   TSON TSOC\n",
      "           dap dap kg/ha kg/ha    mm    mm    mm    mm kg/ha kg/ha  kg/ha t/ha\n",
      "  1 PT   1  40 -99  9512  7954     3    85   146    48     0   -99      0  211\n",
      "C:\\Users\\MELANI~1\\AppData\\Local\\Temp\\dssattmjxtlwc and its content has been removed.\n",
      "TWAD: 9512       Sum irrigation: 196.30\n",
      "C:\\Users\\MELANI~1\\AppData\\Local\\Temp\\dssatysynhpat created.\n",
      "Static files copied to C:\\Users\\MELANI~1\\AppData\\Local\\Temp\\dssatysynhpat.\n",
      "RUN    TRT FLO MAT TOPWT HARWT  RAIN  TIRR   CET  PESW  TNUP  TNLF   TSON TSOC\n",
      "           dap dap kg/ha kg/ha    mm    mm    mm    mm kg/ha kg/ha  kg/ha t/ha\n",
      "  1 PT   1  40 -99  8561  7082     3    74   137    45     0   -99      0  211\n",
      "C:\\Users\\MELANI~1\\AppData\\Local\\Temp\\dssatysynhpat and its content has been removed.\n",
      "TWAD: 8561       Sum irrigation: 185.40\n",
      "C:\\Users\\MELANI~1\\AppData\\Local\\Temp\\dssatmixbakwi created.\n",
      "Static files copied to C:\\Users\\MELANI~1\\AppData\\Local\\Temp\\dssatmixbakwi.\n",
      "RUN    TRT FLO MAT TOPWT HARWT  RAIN  TIRR   CET  PESW  TNUP  TNLF   TSON TSOC\n",
      "           dap dap kg/ha kg/ha    mm    mm    mm    mm kg/ha kg/ha  kg/ha t/ha\n",
      "  1 PT   1  40 -99 10428  8763     3    95   154    50     0   -99      0  211\n",
      "C:\\Users\\MELANI~1\\AppData\\Local\\Temp\\dssatmixbakwi and its content has been removed.\n",
      "TWAD: 10428       Sum irrigation: 205.30\n",
      "C:\\Users\\MELANI~1\\AppData\\Local\\Temp\\dssatwbxmvwok created.\n",
      "Static files copied to C:\\Users\\MELANI~1\\AppData\\Local\\Temp\\dssatwbxmvwok.\n",
      "RUN    TRT FLO MAT TOPWT HARWT  RAIN  TIRR   CET  PESW  TNUP  TNLF   TSON TSOC\n",
      "           dap dap kg/ha kg/ha    mm    mm    mm    mm kg/ha kg/ha  kg/ha t/ha\n",
      "  1 PT   1  40 -99  9566  7990     3    85   146    47     0   -99      0  211\n",
      "C:\\Users\\MELANI~1\\AppData\\Local\\Temp\\dssatwbxmvwok and its content has been removed.\n",
      "TWAD: 9566       Sum irrigation: 196.00\n",
      "C:\\Users\\MELANI~1\\AppData\\Local\\Temp\\dssatcewqgljh created.\n",
      "Static files copied to C:\\Users\\MELANI~1\\AppData\\Local\\Temp\\dssatcewqgljh.\n",
      "RUN    TRT FLO MAT TOPWT HARWT  RAIN  TIRR   CET  PESW  TNUP  TNLF   TSON TSOC\n",
      "           dap dap kg/ha kg/ha    mm    mm    mm    mm kg/ha kg/ha  kg/ha t/ha\n",
      "  1 PT   1  40 -99 11362  9588     3   141   162    87     0   -99      0  211\n",
      "C:\\Users\\MELANI~1\\AppData\\Local\\Temp\\dssatcewqgljh and its content has been removed.\n",
      "TWAD: 11362       Sum irrigation: 252.50\n",
      "C:\\Users\\MELANI~1\\AppData\\Local\\Temp\\dssatgmddhoiu created.\n",
      "Static files copied to C:\\Users\\MELANI~1\\AppData\\Local\\Temp\\dssatgmddhoiu.\n",
      "RUN    TRT FLO MAT TOPWT HARWT  RAIN  TIRR   CET  PESW  TNUP  TNLF   TSON TSOC\n",
      "           dap dap kg/ha kg/ha    mm    mm    mm    mm kg/ha kg/ha  kg/ha t/ha\n",
      "  1 PT   1  40 -99 11362  9588     3   125   162    71     0   -99      0  211\n",
      "C:\\Users\\MELANI~1\\AppData\\Local\\Temp\\dssatgmddhoiu and its content has been removed.\n",
      "TWAD: 11362       Sum irrigation: 235.50\n",
      "C:\\Users\\MELANI~1\\AppData\\Local\\Temp\\dssatkfpxcsup created.\n",
      "Static files copied to C:\\Users\\MELANI~1\\AppData\\Local\\Temp\\dssatkfpxcsup.\n",
      "RUN    TRT FLO MAT TOPWT HARWT  RAIN  TIRR   CET  PESW  TNUP  TNLF   TSON TSOC\n",
      "           dap dap kg/ha kg/ha    mm    mm    mm    mm kg/ha kg/ha  kg/ha t/ha\n",
      "  1 PT   1  40 -99 11362  9588     3   128   162    74     0   -99      0  211\n",
      "C:\\Users\\MELANI~1\\AppData\\Local\\Temp\\dssatkfpxcsup and its content has been removed.\n",
      "TWAD: 11362       Sum irrigation: 239.20\n",
      "C:\\Users\\MELANI~1\\AppData\\Local\\Temp\\dssatrxasmpuj created.\n",
      "Static files copied to C:\\Users\\MELANI~1\\AppData\\Local\\Temp\\dssatrxasmpuj.\n",
      "RUN    TRT FLO MAT TOPWT HARWT  RAIN  TIRR   CET  PESW  TNUP  TNLF   TSON TSOC\n",
      "           dap dap kg/ha kg/ha    mm    mm    mm    mm kg/ha kg/ha  kg/ha t/ha\n",
      "  1 PT   1  40 -99 11362  9588     3   124   162    70     0   -99      0  211\n",
      "C:\\Users\\MELANI~1\\AppData\\Local\\Temp\\dssatrxasmpuj and its content has been removed.\n",
      "TWAD: 11362       Sum irrigation: 234.80\n",
      "C:\\Users\\MELANI~1\\AppData\\Local\\Temp\\dssatqehnxifg created.\n",
      "Static files copied to C:\\Users\\MELANI~1\\AppData\\Local\\Temp\\dssatqehnxifg.\n",
      "RUN    TRT FLO MAT TOPWT HARWT  RAIN  TIRR   CET  PESW  TNUP  TNLF   TSON TSOC\n",
      "           dap dap kg/ha kg/ha    mm    mm    mm    mm kg/ha kg/ha  kg/ha t/ha\n",
      "  1 PT   1  40 -99  9527  7964     3    85   146    47     0   -99      0  211\n",
      "C:\\Users\\MELANI~1\\AppData\\Local\\Temp\\dssatqehnxifg and its content has been removed.\n",
      "TWAD: 9527       Sum irrigation: 195.70\n",
      "C:\\Users\\MELANI~1\\AppData\\Local\\Temp\\dssatsffoqskw created.\n",
      "Static files copied to C:\\Users\\MELANI~1\\AppData\\Local\\Temp\\dssatsffoqskw.\n",
      "RUN    TRT FLO MAT TOPWT HARWT  RAIN  TIRR   CET  PESW  TNUP  TNLF   TSON TSOC\n",
      "           dap dap kg/ha kg/ha    mm    mm    mm    mm kg/ha kg/ha  kg/ha t/ha\n",
      "  1 PT   1  40 -99  8727  7256     3    78   141    45     0   -99      0  211\n",
      "C:\\Users\\MELANI~1\\AppData\\Local\\Temp\\dssatsffoqskw and its content has been removed.\n",
      "TWAD: 8727       Sum irrigation: 188.70\n",
      "C:\\Users\\MELANI~1\\AppData\\Local\\Temp\\dssateszyrtal created.\n",
      "Static files copied to C:\\Users\\MELANI~1\\AppData\\Local\\Temp\\dssateszyrtal.\n",
      "RUN    TRT FLO MAT TOPWT HARWT  RAIN  TIRR   CET  PESW  TNUP  TNLF   TSON TSOC\n",
      "           dap dap kg/ha kg/ha    mm    mm    mm    mm kg/ha kg/ha  kg/ha t/ha\n",
      "  1 PT   1  40 -99 10935  9194     3   105   160    54     0   -99      0  211\n",
      "C:\\Users\\MELANI~1\\AppData\\Local\\Temp\\dssateszyrtal and its content has been removed.\n",
      "TWAD: 10935       Sum irrigation: 215.80\n",
      "C:\\Users\\MELANI~1\\AppData\\Local\\Temp\\dssatvvpyqueo created.\n",
      "Static files copied to C:\\Users\\MELANI~1\\AppData\\Local\\Temp\\dssatvvpyqueo.\n",
      "RUN    TRT FLO MAT TOPWT HARWT  RAIN  TIRR   CET  PESW  TNUP  TNLF   TSON TSOC\n",
      "           dap dap kg/ha kg/ha    mm    mm    mm    mm kg/ha kg/ha  kg/ha t/ha\n",
      "  1 PT   1  40 -99 10692  8993     3    99   156    51     0   -99      0  211\n",
      "C:\\Users\\MELANI~1\\AppData\\Local\\Temp\\dssatvvpyqueo and its content has been removed.\n",
      "TWAD: 10692       Sum irrigation: 209.50\n",
      "C:\\Users\\MELANI~1\\AppData\\Local\\Temp\\dssatviicbfkn created.\n",
      "Static files copied to C:\\Users\\MELANI~1\\AppData\\Local\\Temp\\dssatviicbfkn.\n",
      "RUN    TRT FLO MAT TOPWT HARWT  RAIN  TIRR   CET  PESW  TNUP  TNLF   TSON TSOC\n",
      "           dap dap kg/ha kg/ha    mm    mm    mm    mm kg/ha kg/ha  kg/ha t/ha\n",
      "  1 PT   1  40 -99 10269  8624     3    93   152    49     0   -99      0  211\n",
      "C:\\Users\\MELANI~1\\AppData\\Local\\Temp\\dssatviicbfkn and its content has been removed.\n",
      "TWAD: 10269       Sum irrigation: 204.00\n",
      "C:\\Users\\MELANI~1\\AppData\\Local\\Temp\\dssatmsqlfzcs created.\n",
      "Static files copied to C:\\Users\\MELANI~1\\AppData\\Local\\Temp\\dssatmsqlfzcs.\n",
      "RUN    TRT FLO MAT TOPWT HARWT  RAIN  TIRR   CET  PESW  TNUP  TNLF   TSON TSOC\n",
      "           dap dap kg/ha kg/ha    mm    mm    mm    mm kg/ha kg/ha  kg/ha t/ha\n",
      "  1 PT   1  40 -99 11362  9588     3   124   162    70     0   -99      0  211\n",
      "C:\\Users\\MELANI~1\\AppData\\Local\\Temp\\dssatmsqlfzcs and its content has been removed.\n",
      "TWAD: 11362       Sum irrigation: 234.30\n",
      "C:\\Users\\MELANI~1\\AppData\\Local\\Temp\\dssatcqrtbaax created.\n",
      "Static files copied to C:\\Users\\MELANI~1\\AppData\\Local\\Temp\\dssatcqrtbaax.\n",
      "RUN    TRT FLO MAT TOPWT HARWT  RAIN  TIRR   CET  PESW  TNUP  TNLF   TSON TSOC\n",
      "           dap dap kg/ha kg/ha    mm    mm    mm    mm kg/ha kg/ha  kg/ha t/ha\n",
      "  1 PT   1  40 -99 10957  9227     3   103   158    53     0   -99      0  211\n",
      "C:\\Users\\MELANI~1\\AppData\\Local\\Temp\\dssatcqrtbaax and its content has been removed.\n",
      "TWAD: 10957       Sum irrigation: 213.90\n",
      "C:\\Users\\MELANI~1\\AppData\\Local\\Temp\\dssatdujvtblv created.\n",
      "Static files copied to C:\\Users\\MELANI~1\\AppData\\Local\\Temp\\dssatdujvtblv.\n",
      "RUN    TRT FLO MAT TOPWT HARWT  RAIN  TIRR   CET  PESW  TNUP  TNLF   TSON TSOC\n",
      "           dap dap kg/ha kg/ha    mm    mm    mm    mm kg/ha kg/ha  kg/ha t/ha\n",
      "  1 PT   1  40 -99 10382  8729     3    98   156    50     0   -99      0  211\n",
      "C:\\Users\\MELANI~1\\AppData\\Local\\Temp\\dssatdujvtblv and its content has been removed.\n",
      "TWAD: 10382       Sum irrigation: 208.90\n",
      "Execution time: 365.94\n",
      "The optimal values are (25.0, 14.0, 25.0, 25.0)\n"
     ]
    },
    {
     "data": {
      "text/plain": [
       "(25.0, 14.0, 25.0, 25.0)"
      ]
     },
     "execution_count": 5,
     "metadata": {},
     "output_type": "execute_result"
    }
   ],
   "source": [
    "dates = ['8-07-2022', '14-07-2022', '20-07-2022', '25-07-2022']\n",
    "dssat.optimization_irri(dates)\n",
    "\n",
    "# Execution time: 345.98\n",
    "# The optimal values are (1.8, 2.6, 1.1, 3.1)"
   ]
  },
  {
   "cell_type": "code",
   "execution_count": 9,
   "metadata": {},
   "outputs": [
    {
     "name": "stdout",
     "output_type": "stream",
     "text": [
      "C:\\Users\\MELANI~1\\AppData\\Local\\Temp\\dssatqtnyvbex created.\n",
      "Static files copied to C:\\Users\\MELANI~1\\AppData\\Local\\Temp\\dssatqtnyvbex.\n",
      "RUN    TRT FLO MAT TOPWT HARWT  RAIN  TIRR   CET  PESW  TNUP  TNLF   TSON TSOC\n",
      "           dap dap kg/ha kg/ha    mm    mm    mm    mm kg/ha kg/ha  kg/ha t/ha\n",
      "  1 PT   1  40 -99 10556  8875     3    97   155    51     0   -99      0  211\n",
      "C:\\Users\\MELANI~1\\AppData\\Local\\Temp\\dssatqtnyvbex and its content has been removed.\n",
      "TWAD: 10556       Sum irrigation: 207.20\n"
     ]
    },
    {
     "data": {
      "text/plain": [
       "9.342627550338428"
      ]
     },
     "execution_count": 9,
     "metadata": {},
     "output_type": "execute_result"
    }
   ],
   "source": [
    "# dssat.irri_cost((0.4, 0.7, 2.7, 1.9), save=False)\n",
    "# 0.05688153494520677\n",
    "dssat.irri_cost((25.0, 14.0, 20, 25.0), save=False)\n",
    "# 9.324415303941494\n",
    "# dssat.irri_cost((0.1, 1.5, 1.2, 7), save=False)\n",
    "#0.01714889605631789"
   ]
  },
  {
   "cell_type": "code",
   "execution_count": 5,
   "metadata": {},
   "outputs": [
    {
     "name": "stdout",
     "output_type": "stream",
     "text": [
      "           @YEAR  DOY  DAS  DAP  GSTD  LAID  UYAD  LWAD  SWAD  UWAD  ...   \n",
      "2022-06-01  2022  152    2    0     7  0.00   0.0     0     0     0  ...  \\\n",
      "2022-06-02  2022  153    3    1     7  0.00   0.0     0     0     0  ...   \n",
      "2022-06-03  2022  154    4    2     7  0.00   0.0     0     0     0  ...   \n",
      "2022-06-04  2022  155    5    3     7  0.00   0.0     0     0     0  ...   \n",
      "2022-06-05  2022  156    6    4     7  0.00   0.0     0     0     0  ...   \n",
      "...          ...  ...  ...  ...   ...   ...   ...   ...   ...   ...  ...   \n",
      "2022-09-12  2022  255  105  103     2  0.14   6.3    53   785  1260  ...   \n",
      "2022-09-13  2022  256  106  104     2  0.14   6.3    51   785  1264  ...   \n",
      "2022-09-14  2022  257  107  105     2  0.13   6.3    48   785  1267  ...   \n",
      "2022-09-15  2022  258  108  106     2  0.13   6.4    46   785  1271  ...   \n",
      "2022-09-16  2022  259  109  107     2  0.12   6.4    44   785  1274  ...   \n",
      "\n",
      "            EWSD  RDPD  RL1D  RL2D  RL3D  RL4D  RL5D  SNW0C  SNW1C   \n",
      "2022-06-01   0.0  0.00  0.00  0.00  0.00  0.00  0.00      0      0  \\\n",
      "2022-06-02   0.0  0.00  0.00  0.00  0.00  0.00  0.00      0      0   \n",
      "2022-06-03   0.0  0.20  0.05  0.02  0.02  0.00  0.00      0      0   \n",
      "2022-06-04   0.0  0.20  0.05  0.05  0.02  0.00  0.00      0      0   \n",
      "2022-06-05   0.0  0.20  0.05  0.07  0.03  0.00  0.00      0      0   \n",
      "...          ...   ...   ...   ...   ...   ...   ...    ...    ...   \n",
      "2022-09-12   0.0  0.65  0.04  3.26  2.69  2.28  0.91    989      0   \n",
      "2022-09-13   0.0  0.65  0.04  3.26  2.69  2.28  0.91    992      0   \n",
      "2022-09-14   0.0  0.65  0.04  3.26  2.69  2.28  0.91    994      0   \n",
      "2022-09-15   0.0  0.65  0.04  3.26  2.69  2.28  0.91    996      0   \n",
      "2022-09-16   0.0  0.65  0.04  3.26  2.69  2.28  0.91    998      0   \n",
      "\n",
      "            Unnamed: 34  \n",
      "2022-06-01          NaN  \n",
      "2022-06-02          NaN  \n",
      "2022-06-03          NaN  \n",
      "2022-06-04          NaN  \n",
      "2022-06-05          NaN  \n",
      "...                 ...  \n",
      "2022-09-12          NaN  \n",
      "2022-09-13          NaN  \n",
      "2022-09-14          NaN  \n",
      "2022-09-15          NaN  \n",
      "2022-09-16          NaN  \n",
      "\n",
      "[108 rows x 35 columns]\n"
     ]
    }
   ],
   "source": [
    "dssat.opt_model()"
   ]
  }
 ],
 "metadata": {
  "kernelspec": {
   "display_name": "Python 3",
   "language": "python",
   "name": "python3"
  },
  "language_info": {
   "codemirror_mode": {
    "name": "ipython",
    "version": 3
   },
   "file_extension": ".py",
   "mimetype": "text/x-python",
   "name": "python",
   "nbconvert_exporter": "python",
   "pygments_lexer": "ipython3",
   "version": "3.8.10"
  },
  "orig_nbformat": 4
 },
 "nbformat": 4,
 "nbformat_minor": 2
}
